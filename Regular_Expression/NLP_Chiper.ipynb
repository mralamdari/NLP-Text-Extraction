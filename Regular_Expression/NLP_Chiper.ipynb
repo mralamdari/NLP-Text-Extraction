{
  "nbformat": 4,
  "nbformat_minor": 0,
  "metadata": {
    "colab": {
      "name": "NLP-Chiper.ipynb",
      "provenance": [],
      "collapsed_sections": [],
      "authorship_tag": "ABX9TyMCGGVYTk6v7U66u5euP7A1",
      "include_colab_link": true
    },
    "kernelspec": {
      "name": "python3",
      "display_name": "Python 3"
    },
    "language_info": {
      "name": "python"
    }
  },
  "cells": [
    {
      "cell_type": "markdown",
      "metadata": {
        "id": "view-in-github",
        "colab_type": "text"
      },
      "source": [
        "<a href=\"https://colab.research.google.com/github/mralamdari/NLP-Regular-Expression-Practice/blob/main/NLP_Chiper.ipynb\" target=\"_parent\"><img src=\"https://colab.research.google.com/assets/colab-badge.svg\" alt=\"Open In Colab\"/></a>"
      ]
    },
    {
      "cell_type": "code",
      "execution_count": 2,
      "metadata": {
        "id": "diPwwgV6IKxU"
      },
      "outputs": [],
      "source": [
        "import re\n",
        "import os\n",
        "import string\n",
        "import textwrap\n",
        "import requests\n",
        "import numpy as np\n",
        "import matplotlib.pyplot as plt"
      ]
    },
    {
      "cell_type": "code",
      "source": [
        "string.ascii_lowercase #r'[a-z]'"
      ],
      "metadata": {
        "colab": {
          "base_uri": "https://localhost:8080/",
          "height": 36
        },
        "id": "1Ni9kNhTdJMz",
        "outputId": "715bcce1-11fb-4d1e-b17e-9a5482da83e3"
      },
      "execution_count": 3,
      "outputs": [
        {
          "output_type": "execute_result",
          "data": {
            "text/plain": [
              "'abcdefghijklmnopqrstuvwxyz'"
            ],
            "application/vnd.google.colaboratory.intrinsic+json": {
              "type": "string"
            }
          },
          "metadata": {},
          "execution_count": 3
        }
      ]
    },
    {
      "cell_type": "code",
      "source": [
        "string.ascii_uppercase #r'[A-Z]'"
      ],
      "metadata": {
        "colab": {
          "base_uri": "https://localhost:8080/",
          "height": 36
        },
        "id": "raGzStSGd22Z",
        "outputId": "0b6ff0a1-176f-4451-e2b1-86ac4131bc57"
      },
      "execution_count": 4,
      "outputs": [
        {
          "output_type": "execute_result",
          "data": {
            "text/plain": [
              "'ABCDEFGHIJKLMNOPQRSTUVWXYZ'"
            ],
            "application/vnd.google.colaboratory.intrinsic+json": {
              "type": "string"
            }
          },
          "metadata": {},
          "execution_count": 4
        }
      ]
    },
    {
      "cell_type": "code",
      "source": [
        "string.ascii_letters   #r'[a-zA-Z]'"
      ],
      "metadata": {
        "colab": {
          "base_uri": "https://localhost:8080/",
          "height": 36
        },
        "id": "iaedANK1eTch",
        "outputId": "b183cb71-adb9-43d3-f9cf-95df7121809f"
      },
      "execution_count": 5,
      "outputs": [
        {
          "output_type": "execute_result",
          "data": {
            "text/plain": [
              "'abcdefghijklmnopqrstuvwxyzABCDEFGHIJKLMNOPQRSTUVWXYZ'"
            ],
            "application/vnd.google.colaboratory.intrinsic+json": {
              "type": "string"
            }
          },
          "metadata": {},
          "execution_count": 5
        }
      ]
    },
    {
      "cell_type": "code",
      "source": [
        "letters1 = list(string.ascii_lowercase)\n",
        "letters2 = list(string.ascii_lowercase)"
      ],
      "metadata": {
        "id": "Dy7dbd3zd9Hy"
      },
      "execution_count": 11,
      "outputs": []
    },
    {
      "cell_type": "code",
      "source": [
        "np.random.shuffle(letters2)"
      ],
      "metadata": {
        "id": "Cf1v_diIj7sp"
      },
      "execution_count": 12,
      "outputs": []
    },
    {
      "cell_type": "code",
      "source": [
        "mapping_dic = {}\n",
        "for l1, l2 in zip(letters1, letters2):\n",
        "  mapping_dic[l1] = l2"
      ],
      "metadata": {
        "id": "PU-kku_we7wj"
      },
      "execution_count": 13,
      "outputs": []
    },
    {
      "cell_type": "code",
      "source": [
        "mapping_dic"
      ],
      "metadata": {
        "colab": {
          "base_uri": "https://localhost:8080/"
        },
        "id": "v62jw5WUj24c",
        "outputId": "9e5d25a6-fe58-459f-bef6-084c1ba1924d"
      },
      "execution_count": 14,
      "outputs": [
        {
          "output_type": "execute_result",
          "data": {
            "text/plain": [
              "{'a': 't',\n",
              " 'b': 'x',\n",
              " 'c': 'z',\n",
              " 'd': 'b',\n",
              " 'e': 'r',\n",
              " 'f': 'h',\n",
              " 'g': 'p',\n",
              " 'h': 'l',\n",
              " 'i': 'c',\n",
              " 'j': 'm',\n",
              " 'k': 'g',\n",
              " 'l': 'u',\n",
              " 'm': 'a',\n",
              " 'n': 'o',\n",
              " 'o': 'v',\n",
              " 'p': 'd',\n",
              " 'q': 'f',\n",
              " 'r': 'n',\n",
              " 's': 'j',\n",
              " 't': 'e',\n",
              " 'u': 'w',\n",
              " 'v': 'i',\n",
              " 'w': 's',\n",
              " 'x': 'y',\n",
              " 'y': 'q',\n",
              " 'z': 'k'}"
            ]
          },
          "metadata": {},
          "execution_count": 14
        }
      ]
    },
    {
      "cell_type": "code",
      "source": [
        ""
      ],
      "metadata": {
        "id": "a0QzuS8IkFmx"
      },
      "execution_count": null,
      "outputs": []
    }
  ]
}