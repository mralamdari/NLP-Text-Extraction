{
  "nbformat": 4,
  "nbformat_minor": 0,
  "metadata": {
    "colab": {
      "name": "NLP-Regular-Expression-Practice.ipynb",
      "provenance": [],
      "collapsed_sections": [],
      "authorship_tag": "ABX9TyPNj6AmGY9QIQqsxbQZnNBw",
      "include_colab_link": true
    },
    "kernelspec": {
      "name": "python3",
      "display_name": "Python 3"
    },
    "language_info": {
      "name": "python"
    }
  },
  "cells": [
    {
      "cell_type": "markdown",
      "metadata": {
        "id": "view-in-github",
        "colab_type": "text"
      },
      "source": [
        "<a href=\"https://colab.research.google.com/github/mralamdari/NLP-Regular-Expression-Practice/blob/main/NLP_Regular_Expression_Practice.ipynb\" target=\"_parent\"><img src=\"https://colab.research.google.com/assets/colab-badge.svg\" alt=\"Open In Colab\"/></a>"
      ]
    },
    {
      "cell_type": "code",
      "execution_count": 1,
      "metadata": {
        "id": "LFfDe5CFmPEf"
      },
      "outputs": [],
      "source": [
        "import re\n",
        "import os\n",
        "import numpy as np\n",
        "import pandas as pd\n",
        "import collections"
      ]
    },
    {
      "cell_type": "code",
      "source": [
        "!wget https://raw.githubusercontent.com/mr-alamdari/NLP-Regular-Expression-Practice/main/Movies.txt"
      ],
      "metadata": {
        "id": "yejKFMZemy3k",
        "colab": {
          "base_uri": "https://localhost:8080/"
        },
        "outputId": "8ddf721c-82ec-4f45-aa35-47c135110f3a"
      },
      "execution_count": 2,
      "outputs": [
        {
          "output_type": "stream",
          "name": "stdout",
          "text": [
            "--2022-05-05 15:46:25--  https://raw.githubusercontent.com/mr-alamdari/NLP-Regular-Expression-Practice/main/Movies.txt\n",
            "Resolving raw.githubusercontent.com (raw.githubusercontent.com)... 185.199.108.133, 185.199.109.133, 185.199.110.133, ...\n",
            "Connecting to raw.githubusercontent.com (raw.githubusercontent.com)|185.199.108.133|:443... connected.\n",
            "HTTP request sent, awaiting response... 200 OK\n",
            "Length: 49286 (48K) [text/plain]\n",
            "Saving to: ‘Movies.txt’\n",
            "\n",
            "\rMovies.txt            0%[                    ]       0  --.-KB/s               \rMovies.txt          100%[===================>]  48.13K  --.-KB/s    in 0.01s   \n",
            "\n",
            "2022-05-05 15:46:25 (4.60 MB/s) - ‘Movies.txt’ saved [49286/49286]\n",
            "\n"
          ]
        }
      ]
    },
    {
      "cell_type": "code",
      "source": [
        "!wget https://raw.githubusercontent.com/mr-alamdari/NLP-Regular-Expression-Practice/main/Cartoon.txt"
      ],
      "metadata": {
        "colab": {
          "base_uri": "https://localhost:8080/"
        },
        "id": "2OBloeVWqqr_",
        "outputId": "740fe680-9a0b-4723-dc50-f6dbd2c18b8c"
      },
      "execution_count": 3,
      "outputs": [
        {
          "output_type": "stream",
          "name": "stdout",
          "text": [
            "--2022-05-05 15:46:25--  https://raw.githubusercontent.com/mr-alamdari/NLP-Regular-Expression-Practice/main/Cartoon.txt\n",
            "Resolving raw.githubusercontent.com (raw.githubusercontent.com)... 185.199.110.133, 185.199.109.133, 185.199.111.133, ...\n",
            "Connecting to raw.githubusercontent.com (raw.githubusercontent.com)|185.199.110.133|:443... connected.\n",
            "HTTP request sent, awaiting response... 200 OK\n",
            "Length: 18156 (18K) [text/plain]\n",
            "Saving to: ‘Cartoon.txt’\n",
            "\n",
            "\rCartoon.txt           0%[                    ]       0  --.-KB/s               \rCartoon.txt         100%[===================>]  17.73K  --.-KB/s    in 0.001s  \n",
            "\n",
            "2022-05-05 15:46:25 (34.5 MB/s) - ‘Cartoon.txt’ saved [18156/18156]\n",
            "\n"
          ]
        }
      ]
    },
    {
      "cell_type": "code",
      "source": [
        "with open('Movies.txt', 'r') as f:\n",
        "  movies = f.readlines()"
      ],
      "metadata": {
        "id": "ZStGEdoFqw14"
      },
      "execution_count": 4,
      "outputs": []
    },
    {
      "cell_type": "code",
      "source": [
        "with open('Cartoon.txt', 'r') as f:\n",
        "  cartoon = f.readlines()"
      ],
      "metadata": {
        "id": "q6pyqsSAq6xN"
      },
      "execution_count": 5,
      "outputs": []
    },
    {
      "cell_type": "code",
      "source": [
        "for i, m in enumerate(movies):\n",
        "  print(m)\n",
        "  if i == 20:\n",
        "    break"
      ],
      "metadata": {
        "colab": {
          "base_uri": "https://localhost:8080/"
        },
        "id": "gd2CXXb8rDLh",
        "outputId": "5ad57619-5e97-4298-e39c-452805dfacf0"
      },
      "execution_count": 6,
      "outputs": [
        {
          "output_type": "stream",
          "name": "stdout",
          "text": [
            "10_Cloverfield_Lane_2016_720p_(DibaMovie).mkv\n",
            "\n",
            "12.Strong.2018.720p.BluRay.HEVC.x265.RMT.SalamDL_INFO.mkv\n",
            "\n",
            "127.Hours.2010.720p.BluRay.Film2Movie_ORG.mkv\n",
            "\n",
            "2001.A.Space.Odyssey.1968.720p.FardaDownload.mkv\n",
            "\n",
            "2067.2020.720p.WEB-DL.x265.SoftSub.DigiMoviez.mkv\n",
            "\n",
            "300 Rise of an Empire (2014) [Full HD].mkv\n",
            "\n",
            "7.Witches.2017.720p.WEB-DL.ShAaNiG.mkv\n",
            "\n",
            "A Good Day to Die Hard (2013) [HD].mkv\n",
            "\n",
            "A.Brilliant.Young.Mind.2014.720p.FardaDownload.mkv\n",
            "\n",
            "A.Million.Ways.to.Die.in.the.West.2014.EXTENDED.720p.x265.Hunter.mkv\n",
            "\n",
            "A.Wrinkle.In.Time.2018.720p.BluRay.x264.MkvCage.SalamDL_INFO.mkv\n",
            "\n",
            "Absolutely.Anything.2015.720p.Ganool.mkv\n",
            "\n",
            "Action.Point.2018.480p.BluRay.x264.SalamDL_INFO.mkv\n",
            "\n",
            "Ad Astra 2019.720p.wb-dl.mkv\n",
            "\n",
            "Aladdin.2019.1080p.WEB-DL.6CH.DibaMoviez.mkv\n",
            "\n",
            "Alita.Battle.Angel.2019.1080p.WEB-DL.DibaMoviez.mkv\n",
            "\n",
            "Alpha.2018.720p.WEB-DL.DibaMoviez.mkv\n",
            "\n",
            "American.Assassin.2017.720p.MkvCage.mkv\n",
            "\n",
            "Anna.2019.720p.WEB-DL.x265.Pahe.mkv\n",
            "\n",
            "Apex.2021.720p.WEB-DL.YIFY.mkv\n",
            "\n",
            "Aquaman.2018.IMAX.1080p.WEB-DL.6CH.MkvCage.mkv\n",
            "\n"
          ]
        }
      ]
    },
    {
      "cell_type": "code",
      "source": [
        "for i, c in enumerate(cartoon):\n",
        "  print(c)\n",
        "  if i == 20:\n",
        "    break"
      ],
      "metadata": {
        "colab": {
          "base_uri": "https://localhost:8080/"
        },
        "id": "Qj2b45vJsD5z",
        "outputId": "3c20d853-b7d7-4a6a-d8a1-75dd6a4273f5"
      },
      "execution_count": 7,
      "outputs": [
        {
          "output_type": "stream",
          "name": "stdout",
          "text": [
            "100.Wolf.2020.720p.Farsi.Dubbed.mkv\n",
            "\n",
            "A Christmas Carol 1080p.mkv\n",
            "\n",
            "A.Storks.Journey.2017.720p.HDrip.ShAaNiG.mkv\n",
            "\n",
            "Abominable.2019.720p.x265.HEVC.Farsi.Dubbed.mkv\n",
            "\n",
            "All Creatures Big and Small (2015) [FA+EN] [2D BR-Rip 720p] - [www.minitoons.ir].mkv\n",
            "\n",
            "Arctic.Dogs.2019.720p.BluRay.mkv\n",
            "\n",
            "Asterix.The.Secret.of.the.Magic.Potion.2018.720p.Farsi.Dubbed.mkv\n",
            "\n",
            "Astro.Kid.2019.720p.Farsi.Dubbed.mkv\n",
            "\n",
            "Ballerina.2016.720p.Farsi.Dubbed.mkv\n",
            "\n",
            "Coco_2017_1080p_UPTVz.co.mkv\n",
            "\n",
            "Dragon Quest Your Story 2019 720p WEBRip x264 YIFY Exclusive Sync Dubbed (Bia2Movies).mkv\n",
            "\n",
            "Early.Man.2018.720p.Farsi.Dubbed.mkv\n",
            "\n",
            "Elf.Buddys.Musical.Christmas.2014.Bluray.1080p.6CH.mkv\n",
            "\n",
            "Encanto.2021.720p.WEB-DL.GalaxyRG.mkv\n",
            "\n",
            "Epic.2013.1080p.Farsi.Dubbed.mkv\n",
            "\n",
            "Extinct.2021.720p.HDRip.ValaMovie.mkv\n",
            "\n",
            "Fantastic.Mr.Fox.2009.720p.ValaMovie.mkv\n",
            "\n",
            "Ferdinand.2017.480p.Farsi.Dubbed.mkv\n",
            "\n",
            "Finding.Dory.2016.720p.BrRip.x265-PSA (www.Downloadha.com).mkv\n",
            "\n",
            "Flushed Away.2006.1080p.Farsi.Dubbed.mkv\n",
            "\n",
            "Frankenweenie.2012.720p.BluRay.Farsi.Dubbed.DigiMoviez.mkv\n",
            "\n"
          ]
        }
      ]
    },
    {
      "cell_type": "code",
      "source": [
        "movies_list = []\n",
        "for m in movies:\n",
        "  # print(re.split(r'\\W|_|-|\\*', m, ))\n",
        "  movies_list += re.split(r'\\W|_|-|\\*', m)"
      ],
      "metadata": {
        "id": "xvmDfMe7yHcR"
      },
      "execution_count": 8,
      "outputs": []
    },
    {
      "cell_type": "code",
      "source": [
        "movies_list[20:40]"
      ],
      "metadata": {
        "colab": {
          "base_uri": "https://localhost:8080/"
        },
        "id": "QyrYROh9yHXD",
        "outputId": "d6b8e5e5-17b8-47fb-a61a-d611a06bde8f"
      },
      "execution_count": 9,
      "outputs": [
        {
          "output_type": "execute_result",
          "data": {
            "text/plain": [
              "['mkv',\n",
              " '',\n",
              " '127',\n",
              " 'Hours',\n",
              " '2010',\n",
              " '720p',\n",
              " 'BluRay',\n",
              " 'Film2Movie',\n",
              " 'ORG',\n",
              " 'mkv',\n",
              " '',\n",
              " '2001',\n",
              " 'A',\n",
              " 'Space',\n",
              " 'Odyssey',\n",
              " '1968',\n",
              " '720p',\n",
              " 'FardaDownload',\n",
              " 'mkv',\n",
              " '']"
            ]
          },
          "metadata": {},
          "execution_count": 9
        }
      ]
    },
    {
      "cell_type": "code",
      "source": [
        "movie_dic = collections.Counter(movies_list)"
      ],
      "metadata": {
        "id": "4nOxkeEfxls_"
      },
      "execution_count": 10,
      "outputs": []
    },
    {
      "cell_type": "code",
      "source": [
        "movies_df = pd.DataFrame(movie_dic.items())"
      ],
      "metadata": {
        "id": "0ae1CBCPyCGc"
      },
      "execution_count": 11,
      "outputs": []
    },
    {
      "cell_type": "code",
      "source": [
        "movies_df.sort_values(1, ascending=False)[0: 20]"
      ],
      "metadata": {
        "colab": {
          "base_uri": "https://localhost:8080/",
          "height": 676
        },
        "id": "UfzA6NDqlb6x",
        "outputId": "5e0d5fb8-f55c-4504-89d7-f3d996a7a5c8"
      },
      "execution_count": 12,
      "outputs": [
        {
          "output_type": "execute_result",
          "data": {
            "text/plain": [
              "             0     1\n",
              "5               1760\n",
              "7          mkv   914\n",
              "4         720p   716\n",
              "296     Dubbed   358\n",
              "295      Farsi   353\n",
              "219        The   231\n",
              "11      BluRay   153\n",
              "31          DL   149\n",
              "30         WEB   147\n",
              "80       1080p   128\n",
              "58         the    88\n",
              "10        2018    87\n",
              "321          2    86\n",
              "36          of    81\n",
              "44        2017    76\n",
              "169        mp4    76\n",
              "98   ValaMovie    74\n",
              "69        2015    73\n",
              "13        x265    71\n",
              "41          HD    68"
            ],
            "text/html": [
              "\n",
              "  <div id=\"df-09e1d8ef-5b1e-4ac5-ac73-bc2ef9fc6864\">\n",
              "    <div class=\"colab-df-container\">\n",
              "      <div>\n",
              "<style scoped>\n",
              "    .dataframe tbody tr th:only-of-type {\n",
              "        vertical-align: middle;\n",
              "    }\n",
              "\n",
              "    .dataframe tbody tr th {\n",
              "        vertical-align: top;\n",
              "    }\n",
              "\n",
              "    .dataframe thead th {\n",
              "        text-align: right;\n",
              "    }\n",
              "</style>\n",
              "<table border=\"1\" class=\"dataframe\">\n",
              "  <thead>\n",
              "    <tr style=\"text-align: right;\">\n",
              "      <th></th>\n",
              "      <th>0</th>\n",
              "      <th>1</th>\n",
              "    </tr>\n",
              "  </thead>\n",
              "  <tbody>\n",
              "    <tr>\n",
              "      <th>5</th>\n",
              "      <td></td>\n",
              "      <td>1760</td>\n",
              "    </tr>\n",
              "    <tr>\n",
              "      <th>7</th>\n",
              "      <td>mkv</td>\n",
              "      <td>914</td>\n",
              "    </tr>\n",
              "    <tr>\n",
              "      <th>4</th>\n",
              "      <td>720p</td>\n",
              "      <td>716</td>\n",
              "    </tr>\n",
              "    <tr>\n",
              "      <th>296</th>\n",
              "      <td>Dubbed</td>\n",
              "      <td>358</td>\n",
              "    </tr>\n",
              "    <tr>\n",
              "      <th>295</th>\n",
              "      <td>Farsi</td>\n",
              "      <td>353</td>\n",
              "    </tr>\n",
              "    <tr>\n",
              "      <th>219</th>\n",
              "      <td>The</td>\n",
              "      <td>231</td>\n",
              "    </tr>\n",
              "    <tr>\n",
              "      <th>11</th>\n",
              "      <td>BluRay</td>\n",
              "      <td>153</td>\n",
              "    </tr>\n",
              "    <tr>\n",
              "      <th>31</th>\n",
              "      <td>DL</td>\n",
              "      <td>149</td>\n",
              "    </tr>\n",
              "    <tr>\n",
              "      <th>30</th>\n",
              "      <td>WEB</td>\n",
              "      <td>147</td>\n",
              "    </tr>\n",
              "    <tr>\n",
              "      <th>80</th>\n",
              "      <td>1080p</td>\n",
              "      <td>128</td>\n",
              "    </tr>\n",
              "    <tr>\n",
              "      <th>58</th>\n",
              "      <td>the</td>\n",
              "      <td>88</td>\n",
              "    </tr>\n",
              "    <tr>\n",
              "      <th>10</th>\n",
              "      <td>2018</td>\n",
              "      <td>87</td>\n",
              "    </tr>\n",
              "    <tr>\n",
              "      <th>321</th>\n",
              "      <td>2</td>\n",
              "      <td>86</td>\n",
              "    </tr>\n",
              "    <tr>\n",
              "      <th>36</th>\n",
              "      <td>of</td>\n",
              "      <td>81</td>\n",
              "    </tr>\n",
              "    <tr>\n",
              "      <th>44</th>\n",
              "      <td>2017</td>\n",
              "      <td>76</td>\n",
              "    </tr>\n",
              "    <tr>\n",
              "      <th>169</th>\n",
              "      <td>mp4</td>\n",
              "      <td>76</td>\n",
              "    </tr>\n",
              "    <tr>\n",
              "      <th>98</th>\n",
              "      <td>ValaMovie</td>\n",
              "      <td>74</td>\n",
              "    </tr>\n",
              "    <tr>\n",
              "      <th>69</th>\n",
              "      <td>2015</td>\n",
              "      <td>73</td>\n",
              "    </tr>\n",
              "    <tr>\n",
              "      <th>13</th>\n",
              "      <td>x265</td>\n",
              "      <td>71</td>\n",
              "    </tr>\n",
              "    <tr>\n",
              "      <th>41</th>\n",
              "      <td>HD</td>\n",
              "      <td>68</td>\n",
              "    </tr>\n",
              "  </tbody>\n",
              "</table>\n",
              "</div>\n",
              "      <button class=\"colab-df-convert\" onclick=\"convertToInteractive('df-09e1d8ef-5b1e-4ac5-ac73-bc2ef9fc6864')\"\n",
              "              title=\"Convert this dataframe to an interactive table.\"\n",
              "              style=\"display:none;\">\n",
              "        \n",
              "  <svg xmlns=\"http://www.w3.org/2000/svg\" height=\"24px\"viewBox=\"0 0 24 24\"\n",
              "       width=\"24px\">\n",
              "    <path d=\"M0 0h24v24H0V0z\" fill=\"none\"/>\n",
              "    <path d=\"M18.56 5.44l.94 2.06.94-2.06 2.06-.94-2.06-.94-.94-2.06-.94 2.06-2.06.94zm-11 1L8.5 8.5l.94-2.06 2.06-.94-2.06-.94L8.5 2.5l-.94 2.06-2.06.94zm10 10l.94 2.06.94-2.06 2.06-.94-2.06-.94-.94-2.06-.94 2.06-2.06.94z\"/><path d=\"M17.41 7.96l-1.37-1.37c-.4-.4-.92-.59-1.43-.59-.52 0-1.04.2-1.43.59L10.3 9.45l-7.72 7.72c-.78.78-.78 2.05 0 2.83L4 21.41c.39.39.9.59 1.41.59.51 0 1.02-.2 1.41-.59l7.78-7.78 2.81-2.81c.8-.78.8-2.07 0-2.86zM5.41 20L4 18.59l7.72-7.72 1.47 1.35L5.41 20z\"/>\n",
              "  </svg>\n",
              "      </button>\n",
              "      \n",
              "  <style>\n",
              "    .colab-df-container {\n",
              "      display:flex;\n",
              "      flex-wrap:wrap;\n",
              "      gap: 12px;\n",
              "    }\n",
              "\n",
              "    .colab-df-convert {\n",
              "      background-color: #E8F0FE;\n",
              "      border: none;\n",
              "      border-radius: 50%;\n",
              "      cursor: pointer;\n",
              "      display: none;\n",
              "      fill: #1967D2;\n",
              "      height: 32px;\n",
              "      padding: 0 0 0 0;\n",
              "      width: 32px;\n",
              "    }\n",
              "\n",
              "    .colab-df-convert:hover {\n",
              "      background-color: #E2EBFA;\n",
              "      box-shadow: 0px 1px 2px rgba(60, 64, 67, 0.3), 0px 1px 3px 1px rgba(60, 64, 67, 0.15);\n",
              "      fill: #174EA6;\n",
              "    }\n",
              "\n",
              "    [theme=dark] .colab-df-convert {\n",
              "      background-color: #3B4455;\n",
              "      fill: #D2E3FC;\n",
              "    }\n",
              "\n",
              "    [theme=dark] .colab-df-convert:hover {\n",
              "      background-color: #434B5C;\n",
              "      box-shadow: 0px 1px 3px 1px rgba(0, 0, 0, 0.15);\n",
              "      filter: drop-shadow(0px 1px 2px rgba(0, 0, 0, 0.3));\n",
              "      fill: #FFFFFF;\n",
              "    }\n",
              "  </style>\n",
              "\n",
              "      <script>\n",
              "        const buttonEl =\n",
              "          document.querySelector('#df-09e1d8ef-5b1e-4ac5-ac73-bc2ef9fc6864 button.colab-df-convert');\n",
              "        buttonEl.style.display =\n",
              "          google.colab.kernel.accessAllowed ? 'block' : 'none';\n",
              "\n",
              "        async function convertToInteractive(key) {\n",
              "          const element = document.querySelector('#df-09e1d8ef-5b1e-4ac5-ac73-bc2ef9fc6864');\n",
              "          const dataTable =\n",
              "            await google.colab.kernel.invokeFunction('convertToInteractive',\n",
              "                                                     [key], {});\n",
              "          if (!dataTable) return;\n",
              "\n",
              "          const docLinkHtml = 'Like what you see? Visit the ' +\n",
              "            '<a target=\"_blank\" href=https://colab.research.google.com/notebooks/data_table.ipynb>data table notebook</a>'\n",
              "            + ' to learn more about interactive tables.';\n",
              "          element.innerHTML = '';\n",
              "          dataTable['output_type'] = 'display_data';\n",
              "          await google.colab.output.renderOutput(dataTable, element);\n",
              "          const docLink = document.createElement('div');\n",
              "          docLink.innerHTML = docLinkHtml;\n",
              "          element.appendChild(docLink);\n",
              "        }\n",
              "      </script>\n",
              "    </div>\n",
              "  </div>\n",
              "  "
            ]
          },
          "metadata": {},
          "execution_count": 12
        }
      ]
    },
    {
      "cell_type": "code",
      "source": [
        "movies_df"
      ],
      "metadata": {
        "colab": {
          "base_uri": "https://localhost:8080/",
          "height": 424
        },
        "id": "GW8ZXkXHmBoL",
        "outputId": "4b8896e1-8b9c-49e9-d542-36dc7397405c"
      },
      "execution_count": 13,
      "outputs": [
        {
          "output_type": "execute_result",
          "data": {
            "text/plain": [
              "                0    1\n",
              "0              10    2\n",
              "1     Cloverfield    1\n",
              "2            Lane    1\n",
              "3            2016   54\n",
              "4            720p  716\n",
              "...           ...  ...\n",
              "1604     Vantafeh    1\n",
              "1605      zahrmar    1\n",
              "1606    Allegiant    1\n",
              "1607    Divergent    1\n",
              "1608    Insurgent    1\n",
              "\n",
              "[1609 rows x 2 columns]"
            ],
            "text/html": [
              "\n",
              "  <div id=\"df-b6dc827b-7a50-47d1-926c-5c17de0affc1\">\n",
              "    <div class=\"colab-df-container\">\n",
              "      <div>\n",
              "<style scoped>\n",
              "    .dataframe tbody tr th:only-of-type {\n",
              "        vertical-align: middle;\n",
              "    }\n",
              "\n",
              "    .dataframe tbody tr th {\n",
              "        vertical-align: top;\n",
              "    }\n",
              "\n",
              "    .dataframe thead th {\n",
              "        text-align: right;\n",
              "    }\n",
              "</style>\n",
              "<table border=\"1\" class=\"dataframe\">\n",
              "  <thead>\n",
              "    <tr style=\"text-align: right;\">\n",
              "      <th></th>\n",
              "      <th>0</th>\n",
              "      <th>1</th>\n",
              "    </tr>\n",
              "  </thead>\n",
              "  <tbody>\n",
              "    <tr>\n",
              "      <th>0</th>\n",
              "      <td>10</td>\n",
              "      <td>2</td>\n",
              "    </tr>\n",
              "    <tr>\n",
              "      <th>1</th>\n",
              "      <td>Cloverfield</td>\n",
              "      <td>1</td>\n",
              "    </tr>\n",
              "    <tr>\n",
              "      <th>2</th>\n",
              "      <td>Lane</td>\n",
              "      <td>1</td>\n",
              "    </tr>\n",
              "    <tr>\n",
              "      <th>3</th>\n",
              "      <td>2016</td>\n",
              "      <td>54</td>\n",
              "    </tr>\n",
              "    <tr>\n",
              "      <th>4</th>\n",
              "      <td>720p</td>\n",
              "      <td>716</td>\n",
              "    </tr>\n",
              "    <tr>\n",
              "      <th>...</th>\n",
              "      <td>...</td>\n",
              "      <td>...</td>\n",
              "    </tr>\n",
              "    <tr>\n",
              "      <th>1604</th>\n",
              "      <td>Vantafeh</td>\n",
              "      <td>1</td>\n",
              "    </tr>\n",
              "    <tr>\n",
              "      <th>1605</th>\n",
              "      <td>zahrmar</td>\n",
              "      <td>1</td>\n",
              "    </tr>\n",
              "    <tr>\n",
              "      <th>1606</th>\n",
              "      <td>Allegiant</td>\n",
              "      <td>1</td>\n",
              "    </tr>\n",
              "    <tr>\n",
              "      <th>1607</th>\n",
              "      <td>Divergent</td>\n",
              "      <td>1</td>\n",
              "    </tr>\n",
              "    <tr>\n",
              "      <th>1608</th>\n",
              "      <td>Insurgent</td>\n",
              "      <td>1</td>\n",
              "    </tr>\n",
              "  </tbody>\n",
              "</table>\n",
              "<p>1609 rows × 2 columns</p>\n",
              "</div>\n",
              "      <button class=\"colab-df-convert\" onclick=\"convertToInteractive('df-b6dc827b-7a50-47d1-926c-5c17de0affc1')\"\n",
              "              title=\"Convert this dataframe to an interactive table.\"\n",
              "              style=\"display:none;\">\n",
              "        \n",
              "  <svg xmlns=\"http://www.w3.org/2000/svg\" height=\"24px\"viewBox=\"0 0 24 24\"\n",
              "       width=\"24px\">\n",
              "    <path d=\"M0 0h24v24H0V0z\" fill=\"none\"/>\n",
              "    <path d=\"M18.56 5.44l.94 2.06.94-2.06 2.06-.94-2.06-.94-.94-2.06-.94 2.06-2.06.94zm-11 1L8.5 8.5l.94-2.06 2.06-.94-2.06-.94L8.5 2.5l-.94 2.06-2.06.94zm10 10l.94 2.06.94-2.06 2.06-.94-2.06-.94-.94-2.06-.94 2.06-2.06.94z\"/><path d=\"M17.41 7.96l-1.37-1.37c-.4-.4-.92-.59-1.43-.59-.52 0-1.04.2-1.43.59L10.3 9.45l-7.72 7.72c-.78.78-.78 2.05 0 2.83L4 21.41c.39.39.9.59 1.41.59.51 0 1.02-.2 1.41-.59l7.78-7.78 2.81-2.81c.8-.78.8-2.07 0-2.86zM5.41 20L4 18.59l7.72-7.72 1.47 1.35L5.41 20z\"/>\n",
              "  </svg>\n",
              "      </button>\n",
              "      \n",
              "  <style>\n",
              "    .colab-df-container {\n",
              "      display:flex;\n",
              "      flex-wrap:wrap;\n",
              "      gap: 12px;\n",
              "    }\n",
              "\n",
              "    .colab-df-convert {\n",
              "      background-color: #E8F0FE;\n",
              "      border: none;\n",
              "      border-radius: 50%;\n",
              "      cursor: pointer;\n",
              "      display: none;\n",
              "      fill: #1967D2;\n",
              "      height: 32px;\n",
              "      padding: 0 0 0 0;\n",
              "      width: 32px;\n",
              "    }\n",
              "\n",
              "    .colab-df-convert:hover {\n",
              "      background-color: #E2EBFA;\n",
              "      box-shadow: 0px 1px 2px rgba(60, 64, 67, 0.3), 0px 1px 3px 1px rgba(60, 64, 67, 0.15);\n",
              "      fill: #174EA6;\n",
              "    }\n",
              "\n",
              "    [theme=dark] .colab-df-convert {\n",
              "      background-color: #3B4455;\n",
              "      fill: #D2E3FC;\n",
              "    }\n",
              "\n",
              "    [theme=dark] .colab-df-convert:hover {\n",
              "      background-color: #434B5C;\n",
              "      box-shadow: 0px 1px 3px 1px rgba(0, 0, 0, 0.15);\n",
              "      filter: drop-shadow(0px 1px 2px rgba(0, 0, 0, 0.3));\n",
              "      fill: #FFFFFF;\n",
              "    }\n",
              "  </style>\n",
              "\n",
              "      <script>\n",
              "        const buttonEl =\n",
              "          document.querySelector('#df-b6dc827b-7a50-47d1-926c-5c17de0affc1 button.colab-df-convert');\n",
              "        buttonEl.style.display =\n",
              "          google.colab.kernel.accessAllowed ? 'block' : 'none';\n",
              "\n",
              "        async function convertToInteractive(key) {\n",
              "          const element = document.querySelector('#df-b6dc827b-7a50-47d1-926c-5c17de0affc1');\n",
              "          const dataTable =\n",
              "            await google.colab.kernel.invokeFunction('convertToInteractive',\n",
              "                                                     [key], {});\n",
              "          if (!dataTable) return;\n",
              "\n",
              "          const docLinkHtml = 'Like what you see? Visit the ' +\n",
              "            '<a target=\"_blank\" href=https://colab.research.google.com/notebooks/data_table.ipynb>data table notebook</a>'\n",
              "            + ' to learn more about interactive tables.';\n",
              "          element.innerHTML = '';\n",
              "          dataTable['output_type'] = 'display_data';\n",
              "          await google.colab.output.renderOutput(dataTable, element);\n",
              "          const docLink = document.createElement('div');\n",
              "          docLink.innerHTML = docLinkHtml;\n",
              "          element.appendChild(docLink);\n",
              "        }\n",
              "      </script>\n",
              "    </div>\n",
              "  </div>\n",
              "  "
            ]
          },
          "metadata": {},
          "execution_count": 13
        }
      ]
    },
    {
      "cell_type": "code",
      "source": [
        "len(movies_list), len(movies_df)"
      ],
      "metadata": {
        "colab": {
          "base_uri": "https://localhost:8080/"
        },
        "id": "nR5Up8-hqLOO",
        "outputId": "0c9112dc-27a7-479d-e3c8-b749b6228b6c"
      },
      "execution_count": 14,
      "outputs": [
        {
          "output_type": "execute_result",
          "data": {
            "text/plain": [
              "(10368, 1609)"
            ]
          },
          "metadata": {},
          "execution_count": 14
        }
      ]
    },
    {
      "cell_type": "code",
      "source": [
        "movies_df[movies_df[1] > 2][0:20]"
      ],
      "metadata": {
        "colab": {
          "base_uri": "https://localhost:8080/",
          "height": 676
        },
        "id": "ogks2TcZrznT",
        "outputId": "1ed04fa8-7752-43da-c512-d3587735eae6"
      },
      "execution_count": 15,
      "outputs": [
        {
          "output_type": "execute_result",
          "data": {
            "text/plain": [
              "                0     1\n",
              "3            2016    54\n",
              "4            720p   716\n",
              "5                  1760\n",
              "6       DibaMovie    47\n",
              "7             mkv   914\n",
              "10           2018    87\n",
              "11         BluRay   153\n",
              "12           HEVC    17\n",
              "13           x265    71\n",
              "14            RMT     3\n",
              "15        SalamDL    24\n",
              "16           INFO    26\n",
              "19           2010    26\n",
              "20     Film2Movie    53\n",
              "21            ORG    24\n",
              "22           2001    19\n",
              "23              A    19\n",
              "24          Space     3\n",
              "27  FardaDownload     9\n",
              "29           2020    55"
            ],
            "text/html": [
              "\n",
              "  <div id=\"df-c053d4ef-ef91-4e10-9c9b-bc33a1052d75\">\n",
              "    <div class=\"colab-df-container\">\n",
              "      <div>\n",
              "<style scoped>\n",
              "    .dataframe tbody tr th:only-of-type {\n",
              "        vertical-align: middle;\n",
              "    }\n",
              "\n",
              "    .dataframe tbody tr th {\n",
              "        vertical-align: top;\n",
              "    }\n",
              "\n",
              "    .dataframe thead th {\n",
              "        text-align: right;\n",
              "    }\n",
              "</style>\n",
              "<table border=\"1\" class=\"dataframe\">\n",
              "  <thead>\n",
              "    <tr style=\"text-align: right;\">\n",
              "      <th></th>\n",
              "      <th>0</th>\n",
              "      <th>1</th>\n",
              "    </tr>\n",
              "  </thead>\n",
              "  <tbody>\n",
              "    <tr>\n",
              "      <th>3</th>\n",
              "      <td>2016</td>\n",
              "      <td>54</td>\n",
              "    </tr>\n",
              "    <tr>\n",
              "      <th>4</th>\n",
              "      <td>720p</td>\n",
              "      <td>716</td>\n",
              "    </tr>\n",
              "    <tr>\n",
              "      <th>5</th>\n",
              "      <td></td>\n",
              "      <td>1760</td>\n",
              "    </tr>\n",
              "    <tr>\n",
              "      <th>6</th>\n",
              "      <td>DibaMovie</td>\n",
              "      <td>47</td>\n",
              "    </tr>\n",
              "    <tr>\n",
              "      <th>7</th>\n",
              "      <td>mkv</td>\n",
              "      <td>914</td>\n",
              "    </tr>\n",
              "    <tr>\n",
              "      <th>10</th>\n",
              "      <td>2018</td>\n",
              "      <td>87</td>\n",
              "    </tr>\n",
              "    <tr>\n",
              "      <th>11</th>\n",
              "      <td>BluRay</td>\n",
              "      <td>153</td>\n",
              "    </tr>\n",
              "    <tr>\n",
              "      <th>12</th>\n",
              "      <td>HEVC</td>\n",
              "      <td>17</td>\n",
              "    </tr>\n",
              "    <tr>\n",
              "      <th>13</th>\n",
              "      <td>x265</td>\n",
              "      <td>71</td>\n",
              "    </tr>\n",
              "    <tr>\n",
              "      <th>14</th>\n",
              "      <td>RMT</td>\n",
              "      <td>3</td>\n",
              "    </tr>\n",
              "    <tr>\n",
              "      <th>15</th>\n",
              "      <td>SalamDL</td>\n",
              "      <td>24</td>\n",
              "    </tr>\n",
              "    <tr>\n",
              "      <th>16</th>\n",
              "      <td>INFO</td>\n",
              "      <td>26</td>\n",
              "    </tr>\n",
              "    <tr>\n",
              "      <th>19</th>\n",
              "      <td>2010</td>\n",
              "      <td>26</td>\n",
              "    </tr>\n",
              "    <tr>\n",
              "      <th>20</th>\n",
              "      <td>Film2Movie</td>\n",
              "      <td>53</td>\n",
              "    </tr>\n",
              "    <tr>\n",
              "      <th>21</th>\n",
              "      <td>ORG</td>\n",
              "      <td>24</td>\n",
              "    </tr>\n",
              "    <tr>\n",
              "      <th>22</th>\n",
              "      <td>2001</td>\n",
              "      <td>19</td>\n",
              "    </tr>\n",
              "    <tr>\n",
              "      <th>23</th>\n",
              "      <td>A</td>\n",
              "      <td>19</td>\n",
              "    </tr>\n",
              "    <tr>\n",
              "      <th>24</th>\n",
              "      <td>Space</td>\n",
              "      <td>3</td>\n",
              "    </tr>\n",
              "    <tr>\n",
              "      <th>27</th>\n",
              "      <td>FardaDownload</td>\n",
              "      <td>9</td>\n",
              "    </tr>\n",
              "    <tr>\n",
              "      <th>29</th>\n",
              "      <td>2020</td>\n",
              "      <td>55</td>\n",
              "    </tr>\n",
              "  </tbody>\n",
              "</table>\n",
              "</div>\n",
              "      <button class=\"colab-df-convert\" onclick=\"convertToInteractive('df-c053d4ef-ef91-4e10-9c9b-bc33a1052d75')\"\n",
              "              title=\"Convert this dataframe to an interactive table.\"\n",
              "              style=\"display:none;\">\n",
              "        \n",
              "  <svg xmlns=\"http://www.w3.org/2000/svg\" height=\"24px\"viewBox=\"0 0 24 24\"\n",
              "       width=\"24px\">\n",
              "    <path d=\"M0 0h24v24H0V0z\" fill=\"none\"/>\n",
              "    <path d=\"M18.56 5.44l.94 2.06.94-2.06 2.06-.94-2.06-.94-.94-2.06-.94 2.06-2.06.94zm-11 1L8.5 8.5l.94-2.06 2.06-.94-2.06-.94L8.5 2.5l-.94 2.06-2.06.94zm10 10l.94 2.06.94-2.06 2.06-.94-2.06-.94-.94-2.06-.94 2.06-2.06.94z\"/><path d=\"M17.41 7.96l-1.37-1.37c-.4-.4-.92-.59-1.43-.59-.52 0-1.04.2-1.43.59L10.3 9.45l-7.72 7.72c-.78.78-.78 2.05 0 2.83L4 21.41c.39.39.9.59 1.41.59.51 0 1.02-.2 1.41-.59l7.78-7.78 2.81-2.81c.8-.78.8-2.07 0-2.86zM5.41 20L4 18.59l7.72-7.72 1.47 1.35L5.41 20z\"/>\n",
              "  </svg>\n",
              "      </button>\n",
              "      \n",
              "  <style>\n",
              "    .colab-df-container {\n",
              "      display:flex;\n",
              "      flex-wrap:wrap;\n",
              "      gap: 12px;\n",
              "    }\n",
              "\n",
              "    .colab-df-convert {\n",
              "      background-color: #E8F0FE;\n",
              "      border: none;\n",
              "      border-radius: 50%;\n",
              "      cursor: pointer;\n",
              "      display: none;\n",
              "      fill: #1967D2;\n",
              "      height: 32px;\n",
              "      padding: 0 0 0 0;\n",
              "      width: 32px;\n",
              "    }\n",
              "\n",
              "    .colab-df-convert:hover {\n",
              "      background-color: #E2EBFA;\n",
              "      box-shadow: 0px 1px 2px rgba(60, 64, 67, 0.3), 0px 1px 3px 1px rgba(60, 64, 67, 0.15);\n",
              "      fill: #174EA6;\n",
              "    }\n",
              "\n",
              "    [theme=dark] .colab-df-convert {\n",
              "      background-color: #3B4455;\n",
              "      fill: #D2E3FC;\n",
              "    }\n",
              "\n",
              "    [theme=dark] .colab-df-convert:hover {\n",
              "      background-color: #434B5C;\n",
              "      box-shadow: 0px 1px 3px 1px rgba(0, 0, 0, 0.15);\n",
              "      filter: drop-shadow(0px 1px 2px rgba(0, 0, 0, 0.3));\n",
              "      fill: #FFFFFF;\n",
              "    }\n",
              "  </style>\n",
              "\n",
              "      <script>\n",
              "        const buttonEl =\n",
              "          document.querySelector('#df-c053d4ef-ef91-4e10-9c9b-bc33a1052d75 button.colab-df-convert');\n",
              "        buttonEl.style.display =\n",
              "          google.colab.kernel.accessAllowed ? 'block' : 'none';\n",
              "\n",
              "        async function convertToInteractive(key) {\n",
              "          const element = document.querySelector('#df-c053d4ef-ef91-4e10-9c9b-bc33a1052d75');\n",
              "          const dataTable =\n",
              "            await google.colab.kernel.invokeFunction('convertToInteractive',\n",
              "                                                     [key], {});\n",
              "          if (!dataTable) return;\n",
              "\n",
              "          const docLinkHtml = 'Like what you see? Visit the ' +\n",
              "            '<a target=\"_blank\" href=https://colab.research.google.com/notebooks/data_table.ipynb>data table notebook</a>'\n",
              "            + ' to learn more about interactive tables.';\n",
              "          element.innerHTML = '';\n",
              "          dataTable['output_type'] = 'display_data';\n",
              "          await google.colab.output.renderOutput(dataTable, element);\n",
              "          const docLink = document.createElement('div');\n",
              "          docLink.innerHTML = docLinkHtml;\n",
              "          element.appendChild(docLink);\n",
              "        }\n",
              "      </script>\n",
              "    </div>\n",
              "  </div>\n",
              "  "
            ]
          },
          "metadata": {},
          "execution_count": 15
        }
      ]
    },
    {
      "cell_type": "code",
      "source": [
        "movies_list = []\n",
        "for m in movies:\n",
        "  print(m, re.match(r'\\d{4}', m))\n",
        "  # movies_list += re.split(r'\\W|_|-|\\*', m)"
      ],
      "metadata": {
        "colab": {
          "base_uri": "https://localhost:8080/"
        },
        "id": "OGZtdrC0sBG1",
        "outputId": "041b1620-693b-48bb-999c-f48899a969f3"
      },
      "execution_count": 16,
      "outputs": [
        {
          "output_type": "stream",
          "name": "stdout",
          "text": [
            "10_Cloverfield_Lane_2016_720p_(DibaMovie).mkv\n",
            " None\n",
            "12.Strong.2018.720p.BluRay.HEVC.x265.RMT.SalamDL_INFO.mkv\n",
            " None\n",
            "127.Hours.2010.720p.BluRay.Film2Movie_ORG.mkv\n",
            " None\n",
            "2001.A.Space.Odyssey.1968.720p.FardaDownload.mkv\n",
            " <re.Match object; span=(0, 4), match='2001'>\n",
            "2067.2020.720p.WEB-DL.x265.SoftSub.DigiMoviez.mkv\n",
            " <re.Match object; span=(0, 4), match='2067'>\n",
            "300 Rise of an Empire (2014) [Full HD].mkv\n",
            " None\n",
            "7.Witches.2017.720p.WEB-DL.ShAaNiG.mkv\n",
            " None\n",
            "A Good Day to Die Hard (2013) [HD].mkv\n",
            " None\n",
            "A.Brilliant.Young.Mind.2014.720p.FardaDownload.mkv\n",
            " None\n",
            "A.Million.Ways.to.Die.in.the.West.2014.EXTENDED.720p.x265.Hunter.mkv\n",
            " None\n",
            "A.Wrinkle.In.Time.2018.720p.BluRay.x264.MkvCage.SalamDL_INFO.mkv\n",
            " None\n",
            "Absolutely.Anything.2015.720p.Ganool.mkv\n",
            " None\n",
            "Action.Point.2018.480p.BluRay.x264.SalamDL_INFO.mkv\n",
            " None\n",
            "Ad Astra 2019.720p.wb-dl.mkv\n",
            " None\n",
            "Aladdin.2019.1080p.WEB-DL.6CH.DibaMoviez.mkv\n",
            " None\n",
            "Alita.Battle.Angel.2019.1080p.WEB-DL.DibaMoviez.mkv\n",
            " None\n",
            "Alpha.2018.720p.WEB-DL.DibaMoviez.mkv\n",
            " None\n",
            "American.Assassin.2017.720p.MkvCage.mkv\n",
            " None\n",
            "Anna.2019.720p.WEB-DL.x265.Pahe.mkv\n",
            " None\n",
            "Apex.2021.720p.WEB-DL.YIFY.mkv\n",
            " None\n",
            "Aquaman.2018.IMAX.1080p.WEB-DL.6CH.MkvCage.mkv\n",
            " None\n",
            "Armageddon.1998.720p.ValaMovie.mkv\n",
            " None\n",
            "Army of Darkness (1992) [Full HD].mkv\n",
            " None\n",
            "Artemis Fowl.2020.1080p.WEB-DL.GalaxyRG.Film2Media.mkv\n",
            " None\n",
            "Atomic.Blonde.2017.720p.MkvCage.mkv\n",
            " None\n",
            "Ava 2020.720p.WEB-DL.x265.PSA.DigiMoviez.mkv\n",
            " None\n",
            "A_Few_Less_Men_2017_720p_nItRo_(DibaMovie).mkv\n",
            " None\n",
            "Baby.Driver.2017.Bluray.1080p.MkvCage.mkv\n",
            " None\n",
            "Bad-Teacher-720p [ K A V I R M U S I C ].mkv\n",
            " None\n",
            "Ballet Shoes (2007) [HD].mkv\n",
            " None\n",
            "Baywatch.2017.UNRATED.Bluray.1080p.MkvCage.mkv\n",
            " None\n",
            "Beautiful Girls 1996.720p.ValaMovie.mkv\n",
            " None\n",
            "Before the Fire 2020 720p.WEB-DL.x265.SoftSub.DigiMoviez.mkv\n",
            " None\n",
            "Beyond the Edge 2018.720p.iExTV.mkv\n",
            " None\n",
            "Birds of Prey.2020.720p.HC.HDRip.2CH.x265.HEVC-PSA.mkv\n",
            " None\n",
            "Black Widow.2021.1080p.WEB-DL.6CH.RARBG.mkv\n",
            " None\n",
            "Black.Panther.2018.x265.720p.BRrip.PSA.Movie98.mkv\n",
            " None\n",
            "Blade Runner 2049.720p.WEB-DL.MkvCage.mkv\n",
            " None\n",
            "Blended.2014.1080p_TakMovie.mkv\n",
            " None\n",
            "Blood Red Sky 2021.1080p.WEB-DL.10bit.6CH.x265.PSA.mkv\n",
            " None\n",
            "Bloodsport (1988) [HD].mkv\n",
            " None\n",
            "Bodied.2018.720p.HDRip_Eminem_Fans.mkv\n",
            " None\n",
            "Boss.Level.2020.720p.WEB-DL.x265.PSA.DigiMoviez.mkv\n",
            " None\n",
            "Braveheart (1995) [HD].mp4\n",
            " None\n",
            "Bride.Wars.2009.720p.YIFY.mkv\n",
            " None\n",
            "Burnt 2015 (www.SterSong.com).mkv\n",
            " None\n",
            "Captain Marvel.2019.1080p.6CH.Pahe.mkv\n",
            " None\n",
            "Carol.2015.1080p.6CH.TinyMoviez.mkv\n",
            " None\n",
            "Casper.1995.720p.ValaMovie.mkv\n",
            " None\n",
            "Central.Intelligence.2016.720p.WEB-DL.HarmonyDL-Com.mkv\n",
            " None\n",
            "Chaos Walking 2021.720p.WEB-DL.ValaMovie.mkv\n",
            " None\n",
            "Cinderella Man (2005) [Full HD].mkv\n",
            " None\n",
            "Cinderella.2015.720p.Tehmovies.com.mkv\n",
            " None\n",
            "Close Range 2015 [720P WEB-DL] [movie.nex1music.com].mkv\n",
            " None\n",
            "Code 8 2019.720p.WEB-DL.YIFI.mkv\n",
            " None\n",
            "Colonia (2015) [HD].mkv\n",
            " None\n",
            "Commando (1985) [Full HD].mkv\n",
            " None\n",
            "Constantine.2005.720p.BluRay.Film2Movie_ORG.mkv\n",
            " None\n",
            "Crazy Stupid Love (2011) BluRay 720p (MovIran).mkv\n",
            " None\n",
            "Daddys.Home.2015.1080p.5.1CH.Ganool.mkv\n",
            " None\n",
            "Destination.Wedding.2018.720p.10bit.6CH.x265.PSA.mkv\n",
            " None\n",
            "Diary.of.a.Wimpy.Kid.The.Long.Haul.2017.Bluray.1080p.mkv\n",
            " None\n",
            "Doctor.Strange.2016.Bluray.720p.Ganool.mkv\n",
            " None\n",
            "Dodgeball.A.True.Underdog.Story.2004.720p.YIFY.mkv\n",
            " None\n",
            "Double Impact (1991) [HD].mkv\n",
            " None\n",
            "Dracula.Untold.2014.720p.HDRip.HarmonyDl-.mkv\n",
            " None\n",
            "Dragonheart.Battle.for.the.Heartfire.2017.720p.ShAaNiG.mkv\n",
            " None\n",
            "El.Camino.A.Breaking.Bad.Movie.2019.720p.BluRay.x265.SoftSub.DigiMoviez.mkv\n",
            " None\n",
            "Ella.Enchanted.2004.720p.BluRay.Ganool.downloadsfilm.ir.mkv\n",
            " None\n",
            "Escape Room.2019.720p.b.lu.ry.x265.HEVC.Film2Movie_WS.mkv\n",
            " None\n",
            "Eternals.2021.720p.WEBRip.900MB.x264-GalaxyRG.mkv\n",
            " None\n",
            "Evolution.2001.720p.WEB-DL.YIFY.mkv\n",
            " None\n",
            "Exodus.Gods.and.Kings.2014.720p.ValaMovie.mkv\n",
            " None\n",
            "Extinction.2018.720p.WEB-DL.x264.MkvCage.SalamDL_INFO.mkv\n",
            " None\n",
            "Fatman.2020.720p.WEB-DL.GalaxyRG.DigiMoviez.mkv\n",
            " None\n",
            "Fight Club (1999) [HD].mkv\n",
            " None\n",
            "Fighting with My Family.2019.720p.x265.PSA.mkv\n",
            " None\n",
            "film.txt\n",
            " None\n",
            "Fist.Fight.2017.1080p.5.1CH.Ganool.mkv\n",
            " None\n",
            "Fistful.of.Vengeance.2022.720p.WEB-DL.YIFY.mkv\n",
            " None\n",
            "Forrest.Gump.1994.720p.BluRay.Film2Movie_INFO.mkv\n",
            " None\n",
            "Freaks.2019.720p.b.lu.ry.Film2Movie_li.mkv\n",
            " None\n",
            "Freaky.Friday.2003.1080p.YIFY.mkv\n",
            " None\n",
            "Fury 2014 Webrip 720p-DLHA (www.Downloadha.com).mkv\n",
            " None\n",
            "Galaxy.Quest.1999.720p.ValaMovie.mkv\n",
            " None\n",
            "Gamer.2009.720p.YIFY.mkv\n",
            " None\n",
            "Gangs.Of.New.York.2002.1080p.Farsi.Dubbed(TinyMoviez).mkv\n",
            " None\n",
            "Get Out (2017) [HD].mkv\n",
            " None\n",
            "Getaway (2013) BluRay 720p MyKavirMusic.mkv\n",
            " None\n",
            "Ghostbusters.Afterlife.2021.720p.WEB-DL.GalaxyRG.mkv\n",
            " None\n",
            "Girls_Trip_2017_720p_x265_RMTeam_(DibaMovie).mkv\n",
            " None\n",
            "Gladiator.2000.EXTENDED.720p_TehMovies.Com.mkv\n",
            " None\n",
            "Godmothered.2020.720p.WEBRip.x264-GalaxyRG.AvaMovie.mkv\n",
            " None\n",
            "Gods.of.Egypt.2016.720p.WEB-DL.Ganool.HarmonyDL-Com.mkv\n",
            " None\n",
            "Going.in.Style.2017.Bluray.720p.MkvCage.mkv\n",
            " None\n",
            "Gone with the Wind (1939) BluRay 720p (MovIran).mkv\n",
            " None\n",
            "Gravity.2013.720p.BluRay.Film2Movie_ORG.mkv\n",
            " None\n",
            "Green.Book.2018.720p.x265.MkvCage.mkv\n",
            " None\n",
            "Grown.Ups.2.2013.Bluray.1080p.mkv\n",
            " None\n",
            "Guns Akimbo 2019.720p.WEBRip.2CH.x265.HEVC-PSA.MrMovie_2.mkv\n",
            " None\n",
            "Hacker.2015.720p.WEB-DL.Film2Movie_BiZ.mkv\n",
            " None\n",
            "Hannibal.Rising.2007.Bluray.720p.YIFY.mp4\n",
            " None\n",
            "Harmony.2018.1080p.6CH.x265.RMTeam.mkv\n",
            " None\n",
            "Hercules.2014.EXTENDED.720p.DibaMoviez.mkv\n",
            " None\n",
            "Hot.Pursuit.2015.720p.FardaDownload.mkv\n",
            " None\n",
            "Hotel.Artemis.2018.720p.DibaMoviez.mkv\n",
            " None\n",
            "How.to.Be.a.Latin.Lover.2017.Bluray.720p.MkvCage.mkv\n",
            " None\n",
            "I Now Pronounce You Chuck and Larry.2007.720p.YIFY.mkv\n",
            " None\n",
            "Identicals_2015_WEB-DL_720p_TM_(DibaMovie).mkv\n",
            " None\n",
            "In.Time.2011.720p.YIFY.mp4\n",
            " None\n",
            "Inkheart.2008.720p.YIFY.mkv\n",
            " None\n",
            "Into the Forest - 2015 (720p).mkv\n",
            " None\n",
            "Into the Woods.2014.720p.ShAaNiGl.Film2Media.mkv\n",
            " None\n",
            "Invasion.2020.RUSSIAN.720p.6CH.VXT.mkv\n",
            " None\n",
            "Iron Sky The Coming Race.2019.720p.x265.DibaMoviez.mkv\n",
            " None\n",
            "Jingle.Jangle.A.Christmas.Journey.2020.720p.WEB-DL.YTS.DigiMoviez.mkv\n",
            " None\n",
            "Jiu.Jitsu.2020.720p.WEB-DL.TMK.DigiMoviez.mkv\n",
            " None\n",
            "John Carter 2012.720p.BluRay.HardSub.DigiMoviez.mp4\n",
            " None\n",
            "Johnny.English.Strikes.Again.2018.720p.MkvCage.mkv\n",
            " None\n",
            "Jungle Cruise.2021.720p.WEB-DL.Pahe.mkv\n",
            " None\n",
            "Jupiter Ascending (2015) BluRay 720p.Mkv\n",
            " None\n",
            "Kill.Order.2017.720p.nItRo.mkv\n",
            " None\n",
            "Kingdom.Of.Heaven.2005.DC.720p.BluRay.MkvCage.Film2Movie_BiZ.mkv\n",
            " None\n",
            "La La Land (2016) BluRay Ganool 720p.mkv\n",
            " None\n",
            "Legion.2010.720p.BluRay.x264.mkv\n",
            " None\n",
            "Les.Misrables.2012.720p.DibaMoviez.mkv\n",
            " None\n",
            "Lionheart (1991) [HD].mkv\n",
            " None\n",
            "Little.Evil.2017.720p.WEBRip.MkvCage.mkv\n",
            " None\n",
            "Live Free or Die Hard (2007) [HD].mkv\n",
            " None\n",
            "Looper.2012.720p.BluRay.HardSub.DigiMoviez.mp4\n",
            " None\n",
            "Love and Monsters 2020.720p.10bit.WEB-DL.x265.Pahe.DigiMoviez.mkv\n",
            " None\n",
            "Lucy 2014 WEB-DL 720p.mkv\n",
            " None\n",
            "Maggie.2015.720p.WEB-DL.TehMovies.com.mkv\n",
            " None\n",
            "Making.Babies.2018.720p.WEB-DL.MkvCage.mkv\n",
            " None\n",
            "Mama.2013.720p.mkv\n",
            " None\n",
            "Mars Attacks 1996.1080p.6CH.ValaMovie.mkv\n",
            " None\n",
            "Mary.Poppins.Returns.2018.DVDRip.DibaMoviez.mkv\n",
            " None\n",
            "Max.2.White.House.Hero.2017.720p.ShAaNiG.mkv\n",
            " None\n",
            "Maximum.Ride.2016.720p.Web-DL.mkv\n",
            " None\n",
            "Me.Before.You.2016.720p.HDRip.V2.MkvCage.Film2Movie_BiZ.mkv\n",
            " None\n",
            "Mile.22.2018.720p.WEB-DL.x265.PSA.mkv\n",
            " None\n",
            "Millions.2004.480p.WEB-DL.DibaMoviez.mkv\n",
            " None\n",
            "Monster.Hunter.2020.720p.WEB-DL.YIFY.mkv\n",
            " None\n",
            "Mortal.Engines.2018.720p.HC.HDRip.MkvCage.mkv\n",
            " None\n",
            "Mortal.Kombat.2021.1080p.10bit.WEB-DL.6CH.x265.HEVC-PSA.Film2Media.mkv\n",
            " None\n",
            "Mother.2017.Bluray.720p.x265.RMT.mkv\n",
            " None\n",
            "Mr. & Mrs. Smith (2005) [HD].mkv\n",
            " None\n",
            "Mrs.Doubtfire.1993.720p.ValaMovie.mkv\n",
            " None\n",
            "Mr_Right_2015_720p_(DibaMovie).mkv\n",
            " None\n",
            "My Week with Marilyn (2011) [HD].mp4\n",
            " None\n",
            "Need for Speed 2014 BluRay 720p_(SaberFun.IR).mkv\n",
            " None\n",
            "Nekrotronic.2018.720p.6CH.RARBG.mkv\n",
            " None\n",
            "Night At The Museum Secret Of The Tomb 2014 1080p.mkv\n",
            " None\n",
            "Night.School.2018.720p.WEB-DL.MkvCage.mkv\n",
            " None\n",
            "Old.2021.720p.YIFY.mkv\n",
            " None\n",
            "Once Upon a Time in Hollywood.2019.720p.Film2Media.mkv\n",
            " None\n",
            "Once_Upon_a_Time_in_Venice_2017_720p_MkvCage_(DibaMovie).mkv\n",
            " None\n",
            "Orbiter.9.2017.Bluray.720p.nItRo.mkv\n",
            " None\n",
            "OtherLife.2017.720p.WEB-DL.MkvCage.mkv\n",
            " None\n",
            "Overdrive.2017.Bluray.1080p.MkvCage.mkv\n",
            " None\n",
            "Oz.the.Great.and.Powerful.2013.720p.Ganool.mkv\n",
            " None\n",
            "Pet Sematary.2019.720p.hd.rp.x265.HEVC.Film2Movie_WS.mkv\n",
            " None\n",
            "Petes.Dragon.2016.720p.BluRay.x265-PSA (www.Downloadha.com).mkv\n",
            " None\n",
            "Pineapple Express (2008) [HD].mkv\n",
            " None\n",
            "Pixels 2015 1080p Bluray.mp4\n",
            " None\n",
            "Playing.It.Cool 2014.720p.BluRay[filmkhoreh].mkv\n",
            " None\n",
            "Pompeii.2014.720p.mkv\n",
            " None\n",
            "Power.Rangers.2017.Bluray.1080p.6CH.MkvCage.mkv\n",
            " None\n",
            "Pride_and_Prejudice_And_Zombies_2016_720p_x265_(DibaMovie).mkv\n",
            " None\n",
            "Pro_Animes.py\n",
            " None\n",
            "Pulp Fiction (1994) BluRay 720p-sitefilm.mkv\n",
            " None\n",
            "Push.2009.720p.Pahe.mkv\n",
            " None\n",
            "Race to Witch Mountain.2009.720p.YIFY.mkv\n",
            " None\n",
            "Rampage.2018.1080p.WEB-DL.6CH.MkvCage.mkv\n",
            " None\n",
            "Ready.Player.One.2018.720p.WEB-DL.x264.SalamDL_INFO.mkv\n",
            " None\n",
            "Red Riding Hood.2011.720p.BluRay.x265.HEVC.HEVCBay.MrMovie.mkv\n",
            " None\n",
            "Regression (2015) [HD].mkv\n",
            " None\n",
            "Replicas.2018.720p.WEB-DL.MkvCage.mkv\n",
            " None\n",
            "Ride.Along.2.2016.720p.Ganool(TinyMovies).mkv\n",
            " None\n",
            "Ripped.2017.720p.WEB-DL.MkvCage.mkv\n",
            " None\n",
            "Rough_Night_2017_720p_x265_(DibaMovie).mkv\n",
            " None\n",
            "Run.Hide.Fight.2020.1080p.6CH.YIFY.mkv\n",
            " None\n",
            "Runner.Runner.2013.720p.Ganool.mkv\n",
            " None\n",
            "San.Andreas.2015.720p.YIFY.(SaberFun.IR).mp4\n",
            " None\n",
            "Scarface.1983.720p.UHD.BluRay.x265.10Bit.Pahe.Soft.Sub-[RubixFa].mkv\n",
            " None\n",
            "Scarlett.2020.720p.WEB-DL.YIFY.mkv\n",
            " None\n",
            "Science.Fiction.Volume.One.The.Osiris.Child.2016.Bluray.720p.mkv\n",
            " None\n",
            "Scouts Guide to the Zombie Apocalypse (2015) 720p BRRip.mkv\n",
            " None\n",
            "Secrets of the Surface 2020-720.mp4\n",
            " None\n",
            "Security.2017.Bluray.1080p.6CH.mkv\n",
            " None\n",
            "Seventh Son 2015 BluRay 720P [NewMusic].mkv\n",
            " None\n",
            "Seventh.Son.2014.Bluray.720p.MkvCage.mkv\n",
            " None\n",
            "Shazam.2019.1080p.6CH.DibaMoviez_2.mkv\n",
            " None\n",
            "Shifting.Gears.2018.720p.WEB-DL.x264.SalamDL_INFO.mkv\n",
            " None\n",
            "Show.Dogs.2018.720p.x265.RMTeam.mkv\n",
            " None\n",
            "Sicario.Day.of.the.Soldado.2018.720p.WEB-DL.MkvCage.Movie98.mkv\n",
            " None\n",
            "Skyscraper.2018.720p.WEB-DL.x264.SalamDL_INFO.mkv\n",
            " None\n",
            "Slaughterhouse.Rulez.2018.720p.WEB-DL.Ganool.mkv\n",
            " None\n",
            "Sleeping with Other People 2015 (www.SterSong.com).mkv\n",
            " None\n",
            "Small.Soldiers.1998.720p.ValaMovie.mkv\n",
            " None\n",
            "Snatched.2017.Bluray.720p.MkvCage.mkv\n",
            " None\n",
            "Sniper.Legacy.2014.720p.Downloado.ir.mkv\n",
            " None\n",
            "Some.Kind.Of.Beautiful.2014.720p.WEB-DL.Tehmovies.com.mkv\n",
            " None\n",
            "Song for Marion 2012 720p Ganool.mkv\n",
            " None\n",
            "Source Code.2011.720p.BluRay.HardSub.DigiMoviez.mp4\n",
            " None\n",
            "Spontaneous.2020.720p.WEB-DL.HardSub.DigiMoviez.mp4\n",
            " None\n",
            "Stand Up Guys 2012 720p -HarmonyDL8.in-.mkv\n",
            " None\n",
            "Step Up 4- Revolution.2012.720P__MkvDL.mkv\n",
            " None\n",
            "Sucker Punch.2011.720p.BluRay.HardSub.DigiMoviez.mp4\n",
            " None\n",
            "Superfast.2015.Bluray.1080p.5.1CH.Ganool.mkv\n",
            " None\n",
            "Survival.Box.2019.720p.WEB-DL.MkvCage.mkv\n",
            " None\n",
            "Sweet Girl.2021.720p.WEB-DL.YIFY.mkv\n",
            " None\n",
            "Swiss.Army.Man.2016.720p.ShAaNiG_harmonydl.mkv\n",
            " None\n",
            "Switched.2020.720p.WEBRip.x264-GalaxyRG.AvaMovie.mkv\n",
            " None\n",
            "Synchronicity_2015_720p_(DibaMovie).mkv\n",
            " None\n",
            "Tenet.2020.720p.HDRip.Pahe.DigiMoviez.mkv\n",
            " None\n",
            "Th.e.House.2017.1080p.b.lu.ry.Film2Movie_CO.mkv\n",
            " None\n",
            "That.Awkward.Moment.2014.720p.BluRay.x264.YIFY.mp4\n",
            " None\n",
            "The Adventures of Pluto Nash.avi\n",
            " None\n",
            "The Book of Eli 2010.720p.BluRay.HardSub.DigiMoviez.mp4\n",
            " None\n",
            "The Brothers Grimsby 2016 1080p WEB-DL.mkv\n",
            " None\n",
            "The Bucket List.2007.720p.ValaMovie.mkv\n",
            " None\n",
            "The Cable Guy 1996.720p.ValaMovie.mkv\n",
            " None\n",
            "The Condemned 2007.720p.Subbed.BluRay.x264.YTS.AvaMovie.mkv\n",
            " None\n",
            "The Core 2003 720p.YIFY.mkv\n",
            " None\n",
            "The Dead Dont Die.2019.720p.DibaMoviez.mkv\n",
            " None\n",
            "The Departed (2006) [HD].mkv\n",
            " None\n",
            "The Dictator 2012.mkv\n",
            " None\n",
            "The Kid Who Would Be King.2019.720p.WEB-DL.x265.PSA.mkv\n",
            " None\n",
            "The Lady in the Car with Glasses and a Gun 2015 (www.SterSong.com).mkv\n",
            " None\n",
            "The Machine 2013.720p.BluRay.x264.Ganool.SalamDL_INFO.mkv\n",
            " None\n",
            "The Marine 4 Moving Target (2015) (Roman).mkv\n",
            " None\n",
            "The Misfits 2021.720p.YIFY.mkv\n",
            " None\n",
            "The Mortal Instruments City of Bones 2013_720p_ShAaNiG_(ValaMovie).mkv\n",
            " None\n",
            "The Nice Guys (2016) [HD].mkv\n",
            " None\n",
            "The Old Guard 2020.720p.WEB-DL.HardSub.DigiMoviez.mp4\n",
            " None\n",
            "The Perks of Being a Wallflower (2012) [720p].mkv\n",
            " None\n",
            "The Recall 2017_720p_x265_RMTeam_(ValaMovie).mkv\n",
            " None\n",
            "The Rundown 2003.UNCUT.720p.ValaMovie.mkv\n",
            " None\n",
            "The Shawshank Redemption (1994) BluRay 720p x264-sitefilm.mkv\n",
            " None\n",
            "The Silence of the Lambs (1991) BluRay 720p.[Downloado.Ir].mkv\n",
            " None\n",
            "The Spy Who Dumped Me 2018.720p.BluRay.x265.SoftSub.Digimoviez.mkv\n",
            " None\n",
            "The Tomorrow War 2021.720p.WEB-DL.BlueSky.mkv\n",
            " None\n",
            "The Usual Suspects 1995 720p_TehMovies.Com.mkv\n",
            " None\n",
            "The Wrong Missy 2020 720p 10bit WEBRip 6CH x265 HEVC PSA (Bia2Movies).mkv\n",
            " None\n",
            "The X Files.1998.EXTENDED.720p.ValaMovie.mkv\n",
            " None\n",
            "The.5th.Wave.2016.720p.BluRay.Farsi.MKV\n",
            " None\n",
            "The.BFG.2016.720p.BRRip-ETRG (www.Downloadha.com).mp4\n",
            " None\n",
            "The.Darkest.Hour.2011.720p.Pahe.mkv\n",
            " None\n",
            "The.Darkest.Minds.2018.720p.WEB-DL.MkvCage.mkv\n",
            " None\n",
            "The.Gateway.2018.720p.WEB-DL.MkvCage.mkv\n",
            " None\n",
            "The.Hateful.Eight.2015.720p.BluRay.x265.HEVC.mkv\n",
            " None\n",
            "The.Hills.Have.Eyes.2006.720p.HeyDL.mkv\n",
            " None\n",
            "The.House.2017.Bluray.1080p.Ganool.mkv\n",
            " None\n",
            "The.House.with.a.Clock.in.Its.Walls.2018.720p.WEB-DL.MkvCage.mkv\n",
            " None\n",
            "The.Hunt.2012.Bluray.720p.mkv\n",
            " None\n",
            "The.Huntsman.Winters.War.2016.720p.WEB-DL.MkvCage.Film2Movie_BiZ.mkv\n",
            " None\n",
            "The.Imitation.Game.2014.720p_TakMovie.mkv\n",
            " None\n",
            "The.Interview.2014.720p.WEB-DL [marzDownload.com].mkv\n",
            " None\n",
            "The.Lazarus.Effect.2015.720p.TehMovies.com.mkv\n",
            " None\n",
            "The.Legend.Of.Hercules.2014.720p.x264-www.300mbunited.me--scOrp.mkv\n",
            " None\n",
            "The.Librarian.Quest.For.The.Spear.2004.Bluray.720p.mkv\n",
            " None\n",
            "The.Man.from.U.N.C.L.E.2015.720p.Ganool-[Nightsdl.Com].mkv\n",
            " None\n",
            "The.Man.in.the.Iron.Mask.1998.720p.ValaMovie.mkv\n",
            " None\n",
            "The.New.Mutants.2020.INTERNAL.720p.BrRip.2CH.x265.HEVC-PSA_SalamDL.mkv\n",
            " None\n",
            "The.Night.Sitter.2018.720p.WEB-DL.MkvCage.mkv\n",
            " None\n",
            "The.Recall.2017.Bluray.1080p.mkv\n",
            " None\n",
            "The.Social.Network.2010.720p.ValaMovie.mkv\n",
            " None\n",
            "The.Walk.2015.720p.HDrip.Ganool.mkv\n",
            " None\n",
            "The.Witches.1990.720p.BluRay.HardSub.DigiMoviez.mp4\n",
            " None\n",
            "Theres.Something.About.Mary.1998.EXTENDED.720p.ValaMovie.mkv\n",
            " None\n",
            "The_Choice_2016_720p_(DibaMovie).mkv\n",
            " None\n",
            "The_Day_the_Earth _Stood_Still_2008_720p_Farsi_Dubbed_(DibaMovie).mkv\n",
            " None\n",
            "This Is the End (2013) [HD].mkv\n",
            " None\n",
            "ThunderForce.mp4\n",
            " None\n",
            "Time.Freak.2018.720p.x265.PSA.mkv\n",
            " None\n",
            "Time.Trap.2017.720p.BluRay.Film2Movie_US.mkv\n",
            " None\n",
            "Titanic_1997_720p_BrRip.mkv\n",
            " None\n",
            "Tom.and.Jerry.2021.1080p.WEB-DL.6CH.YIFY.mkv\n",
            " None\n",
            "Tomb.Raider.2018.720p.WEB-DL.x264.MkvCage.SalamDL_INFO.mkv\n",
            " None\n",
            "Training.Day.2001.720p.RERIP.FardaDownload_ir.mkv\n",
            " None\n",
            "Triggered.2020.720p.WEB-DL.mkv\n",
            " None\n",
            "TRON_1982_720p_(ValaMovie).mkv\n",
            " None\n",
            "Troy.2004.720p_TehMovies.Com.mkv\n",
            " None\n",
            "Twelve.Monkeys.1995.720p.DibaMoviez.mkv\n",
            " None\n",
            "Uncle.Drew.2018.720p.x265.RMTeam.mkv\n",
            " None\n",
            "Undercover.Grandpa.2017.DVDrip.nItRo.mkv\n",
            " None\n",
            "Underworld Awakening.2012.720p.scOrp-[My-Film].mkv\n",
            " None\n",
            "Underworld.Blood.Wars.2016.720p.WEB-DL.NBY(TinyMovies).mkv\n",
            " None\n",
            "Underworld_Evolution_2006_720p_YIFY_(ValaMovie).mkv\n",
            " None\n",
            "Underworld_Rise_of_the_Lycans_2009_720p_YIFY_(ValaMovie).mkv\n",
            " None\n",
            "Vacation.2015.1080p.6CH.ShAaNiG.mkv\n",
            " None\n",
            "Valerian.And.The.City.Of.A.Thousand.Planets.2017.720p.BluRay.x264.YIFY.AvaMovie.mp4\n",
            " None\n",
            "Van.Wilder.2002.Unrated.720p.BluRay.Ganool.mymoviefilm.mkv\n",
            " None\n",
            "Voice from the Stone (2017) [HD].mkv\n",
            " None\n",
            "Wanted.2008.720p.ValaMovie.mkv\n",
            " None\n",
            "Welcome.To.The.Jungle.2013.Bluray.720p.Mykavirmusic.mkv\n",
            " None\n",
            "Were.the.Millers.2013.EXTENDED.720p.FardaDownload.mkv\n",
            " None\n",
            "Wheres.the.Money.2017.720p.WEB-DL.MkvCage.mkv\n",
            " None\n",
            "White.Chamber.2018.720p.WEB-DL.MkvCage.mkv\n",
            " None\n",
            "Why Him (2016) [HD].mkv\n",
            " None\n",
            "Wolves.2014.720p.BluRay.mkv\n",
            " None\n",
            "Woody.Woodpecker.2017.720p.WEB-DL.MkvCage.mkv\n",
            " None\n",
            "World War Z (2013) BluRay 1080p.mkv\n",
            " None\n",
            "یونس فاخری  معامله.mov\n",
            " None\n",
            "Adventures.in.Babysitting.2016.720p.WEB-DL.MkvCage.Film2Movie_BiZ.mkv\n",
            " None\n",
            "Another.Cinderella.Story.2008.720p.mkv\n",
            " None\n",
            "Avalon_High_hardsub_2.mp4\n",
            " None\n",
            "Diseny_names.txt\n",
            " None\n",
            "Enchanted.2007.720p.Farsi.Dubbed.mkv\n",
            " None\n",
            "Looney.Tunes.Back.in.Action.2003.Bluray.720p.YIFY.mp4\n",
            " None\n",
            "Magic Camp.2020.720p.WEB-DL.HardSub.DigiMoviez.mp4\n",
            " None\n",
            "Secret Society of Second Born Royals 2020.720p.WEB-DL.GalaxyRG.DigiMoviez.mkv\n",
            " None\n",
            "Sky.High.2005.720p.ValaMovie.mkv\n",
            " None\n",
            "The_Cat_in_the_Hat_2003_720p_Farsi_Dubbed_(ValaMovie).mkv\n",
            " None\n",
            "Upside Down Magic 2020.720p.WEB-DL.Dubble.Farsi.mkv\n",
            " None\n",
            "We Can Be Heroes.mp4\n",
            " None\n",
            "Wizards.Of.Waverly.Place.The.Movie.2009.720p.HDTV.mkv\n",
            " None\n",
            "Descendants.1.2015.720p.WEB-DL.nItRo.mkv\n",
            " None\n",
            "Descendants.2.2017.1080p.WEB-DL.6CH.mkv\n",
            " None\n",
            "Descendants.3.2019.1080p.WEB-DL.6CH.x264.mkv\n",
            " None\n",
            "Kick-Ass (2010) [HD].mkv\n",
            " None\n",
            "Kick-Ass 2 (2013) [HD].mp4\n",
            " None\n",
            "Maleficent.2014.720p.Farsi.Dubbed.LianMovie.Com.mkv\n",
            " None\n",
            "Maleficent.Mis.tress.of.Evil.2019.1080p.BRRip.MOVIE30T.CO.mkv\n",
            " None\n",
            "The.Princess.Diaries.2.Royal.Engagement.2004.720p.YIFY.mp4\n",
            " None\n",
            "The.Princess.Diaries.2001.720p.YIFY.mp4\n",
            " None\n",
            "Zombies.1.2018.1080p.WEB-DL.YTS(MoboMovies).mkv\n",
            " None\n",
            "Zombies.2.2020.720p.WEB-DL.x264.AAC.YTS.downloadsfilm.ir.mp4\n",
            " None\n",
            "1917.2019.720p.Farsi.Dubbed.mkv\n",
            " <re.Match object; span=(0, 4), match='1917'>\n",
            "204505_The_Great_Gatsby_2013_DUBBED_720p_BrRip_ShAaNiG_SalamDL.mkv\n",
            " <re.Match object; span=(0, 4), match='2045'>\n",
            "21.Bridges.2019.720p.BluRay._ClubFilm.IR.DUBLE.mkv\n",
            " None\n",
            "24.Hours.to.Live.2017.720p.Farsi.Dubbed.mkv\n",
            " None\n",
            "400.Days.2015.720p.Farsi.Dubbed.mkv\n",
            " None\n",
            "A.Beautiful.Mind.2001.720p.Farsi.Dubbed.mkv\n",
            " None\n",
            "A.Dogs.Way.Home.2019.720p.Farsi.Dubbed.BluRay.x264.RARBG.SalamDL_INFO.mkv\n",
            " None\n",
            "Accident.Man.2018.720p.Farsi.Dubbed.mkv\n",
            " None\n",
            "AI.Artificial Intelligence.2001.720p.Farsi.Dubbed.Film2Media.mkv\n",
            " None\n",
            "Alexander.Very.Bad.Day.2014.720p.Farsi.Dubbed.mkv\n",
            " None\n",
            "Aliens.Stole.My.Body.2020.720p.Farsi.Dubbed.mkv\n",
            " None\n",
            "Annihilation.2018.720p.x265.Farsi.Dubbed.mkv\n",
            " None\n",
            "ARQ.2016.720p.WEBRip.ShAaNiG.Farsi.Dubbed.[RubixFa].mkv\n",
            " None\n",
            "Avatar.2009.EXTENDED.720p.Farsi.Dubbed.mkv\n",
            " None\n",
            "Bastille Day.2016.720p.mkv\n",
            " None\n",
            "Beauty.and.the.Beast.2017.720p.ShAaNiG (Bia2Movies)دوبله.mkv\n",
            " None\n",
            "Bedknobs_and_Broomsticks_1971_720p_Farsi_Dubbed_(ValaMovie).mkv\n",
            " None\n",
            "Bird Box.2018.480p.WEB-DL.Farsi.Dubbed.mkv\n",
            " None\n",
            "Boy_7_2015_1080p_Farsi_Dubbed_(DibaMovie).mkv\n",
            " None\n",
            "Braven.2018.720p.Farsi.Dubbed.mkv\n",
            " None\n",
            "Cinderella.2021.720p.WEB-DL.Farsi.Dubbed.mkv\n",
            " None\n",
            "Click.2006.720p.Farsi.Dubbed.mkv\n",
            " None\n",
            "Close.Encounters.of.the.Third.Kind.1977.DC.720p.Farsi.Dubbed.Film9.mkv\n",
            " None\n",
            "Daredevil_2003_720p_Farsi_Dubbed_(DibaMovie).mkv\n",
            " None\n",
            "Dark.Shadows.2012.720p.Dubbed.Farsi.mkv\n",
            " None\n",
            "Deja Vu.2006.720p.Farsi.Dubbed[www.film2serial.ir].mkv\n",
            " None\n",
            "Die Kanguru-Chroniken.2020.720p.Farsi.Dubbed.mkv\n",
            " None\n",
            "Django Unchained.2012.720p.BluRay.x264.Pahe.Farsi.Dubbed-[RubixFa].mkv\n",
            " None\n",
            "Dolittle.2020.720.HDRip.Farsi.Dubbed.mkv\n",
            " None\n",
            "Dune.2021.720p.WEB-DL.Farsi.Dubbed.mkv\n",
            " None\n",
            "Duplex_2003_720p_Farsi_Dubbed_(ValaMovie).mkv\n",
            " None\n",
            "Elysium 2013.720p.Farsi.Dubbed.mkv\n",
            " None\n",
            "Enders.Game.2013.720p.Farsi.Dubbed.mkv\n",
            " None\n",
            "Enola Holmes 2020.720p.WEB-DL.Pahe.Farsi.Dubbed.[RubixFa].mkv\n",
            " None\n",
            "Exam.2009.720p.Farsi.Dubbed(Film2serial.ir).mkv\n",
            " None\n",
            "Extraction.2020.720p.WEB-DL.Farsi.Dubbed.mkv\n",
            " None\n",
            "Family_Weekend_2013_WEB.DL_720p_Farsi_Dubbed_(DibaMovie).mkv\n",
            " None\n",
            "Faster_2010_720p_Farsi_Dubbed_(DibaMovie).mkv\n",
            " None\n",
            "Finch.2021.720p.WEB-DL.Farsi.Dubbed.mkv\n",
            " None\n",
            "Force of Nature 2020 720p.BluRay.GalaxyRG.Farsi.Dubbed.[RubixFa].mkv\n",
            " None\n",
            "Free.Guy.2021.720p.Farsi.Dubbed.mkv\n",
            " None\n",
            "G-Force_2009_720p_Farsi_Dubbed_(ValaMovie).mkv\n",
            " None\n",
            "Game.Night.2018.720p.x265.Farsi.Dubbed.mkv\n",
            " None\n",
            "Gangster_Squad_2013_720p_x265_Farsi_Dubbed_(DibaMovie).mkv\n",
            " None\n",
            "Geostorm.2017.720p.Farsi.Dubbed.mkv\n",
            " None\n",
            "Ghostbusters.2016.720p.Farsi.Dubbed.mkv\n",
            " None\n",
            "Ghosthunters_on_Icy_Trails_2015_720p_Farsi_Dubbed_(DibaMovie).mkv\n",
            " None\n",
            "Ghost_in_the_Shell_2017_1080p_x265_Farsi_Dubbed_(DibaMovie).mkv\n",
            " None\n",
            "Glass 2019.720p.BluRay.MkvCage.Farsi.Dubbed.[RubixFa].mkv\n",
            " None\n",
            "Hero_Wanted_2008_720p_Farsi_Dubbed_(ValaMovie).mkv\n",
            " None\n",
            "Holmes.and.Watson.2018.720p.Farsi.Dubbed.BluRay.x264.MkvCage.SalamDL_INFO.mkv\n",
            " None\n",
            "Horns.2013.720p.Farsi.Dubbed(Film2serial.ir).mkv\n",
            " None\n",
            "Hotel For Dogs 2009 720p.BluRay.Farsi.Dubbed.Film2Movie_ORG.mkv\n",
            " None\n",
            "I Am Mother.2019.720p.WEB-DL.Farsi.Dubbed.mkv\n",
            " None\n",
            "I.Am.Number.Four.2011.720p.Farsi.Dubbed.mkv\n",
            " None\n",
            "I.Frankenstein.2014.720p.Farsi.Dubbed.mkv\n",
            " None\n",
            "Inception.2010.720p.Farsi.Dubbed.mkv\n",
            " None\n",
            "infinite 2021 720p.WEB-DL.KIMO.DUBLE.mkv\n",
            " None\n",
            "Instant Family.2018.720p.Farsi.Dubbed.BluRay.x264.MkvCage.SalamDL_INFO.mkv\n",
            " None\n",
            "Interstellar.2014.IMAX.EDITION.720p.Farsi.Dubbed.mkv\n",
            " None\n",
            "Jingle.All.the.Way.1996.720p.Farsi.Dubbed.mkv\n",
            " None\n",
            "Jumper.2008.1080p.Farsi.Dubbed.mkv\n",
            " None\n",
            "Jungle.Cruise.2021.720p.Farsi.Dubbed.mkv\n",
            " None\n",
            "Kin.2018.720p.Farsi.Dubbed.mkv\n",
            " None\n",
            "Land.of.the.Lost.2009.720p.Farsi.Dubbed.mkv\n",
            " None\n",
            "Last.Man.Down.2021.720p.WEB-DL.Farsi.Dubbed.mkv\n",
            " None\n",
            "Leon.The.Professional.1994.720p.Farsi.Dubbed.mkv\n",
            " None\n",
            "Mad.Max.Fury.Road.2015.REPACK.720p.Farsi.Dubbed.mkv\n",
            " None\n",
            "Major Grom Plague Doctor.2021.720p.WEB-DL.Farsi.Dubbed.mkv\n",
            " None\n",
            "Mary.Poppins.Returns.2018.720p.Farsi.Dubbed.BluRay.x264.MkvCage.SalamDL_INFO.mkv\n",
            " None\n",
            "Meet_Dave_2008_720p_Farsi_Dubbed_(DibaMovie).mkv\n",
            " None\n",
            "Midnight.Special.2016.Bluray.720p.Dubbed.Farsi.mkv\n",
            " None\n",
            "My Spy 2020.1080p.BluRay.Farsi.Dubbed.Film2Media.mkv\n",
            " None\n",
            "nancy.drew.and.the.hidden.staircase.2019.720p.DUBLE.mkv\n",
            " None\n",
            "Nightbooks.2021.720p.WEB-DL.Farsi.Dubbed.mkv\n",
            " None\n",
            "Oceans.Twelve.2004.720p.Farsi.Dubbed-[My-Film].mkv\n",
            " None\n",
            "Office.Uprising.2018.720p.WEB-DL.Farsi.Dubbed.mkv\n",
            " None\n",
            "Overboard.2018.480p.Farsi.Dubbed.mkv\n",
            " None\n",
            "Pompeii_2014_720p_Farsi_Dubbed_(ValaMovie).mkv\n",
            " None\n",
            "Priest.2011.720p.Farsi.Dubbed.mkv\n",
            " None\n",
            "Project Power.2020.720p.NF.WEB-DL.x264Pahe.Farsi.Dubbed..mkv\n",
            " None\n",
            "Prometheus.2012.720p.Farsi.Dubbed.Film2Media.mkv\n",
            " None\n",
            "Prospect.2018.720p.Farsi.Dubbed.mkv\n",
            " None\n",
            "Ready or Not 2019.720p.BluRay.x264.Dubbed.mkv\n",
            " None\n",
            "Reminiscence.2021.720p.WEB-DL.Farsi.Dubbed.mkv\n",
            " None\n",
            "Resurrecting.The.Champ.2007.720p.BluRay.x264.Farsi.Dubbed-[RubixFa].mkv\n",
            " None\n",
            "Rim.of.the.World.2019.720p.WEB-DL.Farsi.Dubbed.mkv\n",
            " None\n",
            "RoboCop.2014.720p.Farsi.Dubbed.mkv\n",
            " None\n",
            "Saeghe.Siah.2009.720p.mkv\n",
            " None\n",
            "Saving_Private_Ryan_1998_720p_Farsi_Dubbed_(DibaMovie).mkv\n",
            " None\n",
            "Set.It.Up.2018.720p.WEB-DL.Farsi.Dubbed.mkv\n",
            " None\n",
            "Shahzadeye Parsi.mkv\n",
            " None\n",
            "Shooter_2007_720p_Farsi_Dubbed_(DibaMovie).mkv\n",
            " None\n",
            "Speed Racer 2008_720p_Farsi_Dubbed_(ValaMovie).mkv\n",
            " None\n",
            "Spirou.And.Fantasios.2018.720p.Farsi.Dubbed.BluRay.x264.SalamDL_INFO.mkv\n",
            " None\n",
            "Spy_Kids_4_All_the_Time_in_the_World_2011_720p_Farsi_Dubbed_(DibaMovie).mkv\n",
            " None\n",
            "Stardust.2007.720p.Farsi.Dubbed.mkv\n",
            " None\n",
            "Street_Fighter_1994_720p_Farsi_Dubbed_(ValaMovie).mkv\n",
            " None\n",
            "Stuart_Little_2_2002_720p_Farsi_Dubbed_(ValaMovie).mkv\n",
            " None\n",
            "Taxi Driver 1976.720p.BluRay.Farsi.Dubbed.Film2Movie_ORG.mkv\n",
            " None\n",
            "Tekken_2010_720p_x265_Farsi_Dubbed_(DibaMovie).mkv\n",
            " None\n",
            "The Host_2013_720p_Farsi_Dubbed_(ValaMovie).mkv\n",
            " None\n",
            "The Magic Kids 2020.720p.mkv\n",
            " None\n",
            "The Platform 2019 720p WEBRip x264 AAC YIFY Exclusive Sync Dubbed (Bia2Movies).mkv\n",
            " None\n",
            "The Sleepover 2020-720.mp4\n",
            " None\n",
            "The War with Grandpa.2020.720p.BluRay.RARBG.Farsi.Dubbed.[RubixFa].mkv\n",
            " None\n",
            "The.Aviator.2004.720p.Farsi.Dubbed.mkv\n",
            " None\n",
            "The.Claus.Family.2020.1080p.Farsi.Dubbed.mkv\n",
            " None\n",
            "The.Colony.2021.720p.Farsi.Dubbed.mkv\n",
            " None\n",
            "The.Fountain.2006.720p.Farsi.Dubbed.mkv\n",
            " None\n",
            "The.Giver.2014.1080p.Farsi.Dubbed.HexDL.com.mkv\n",
            " None\n",
            "The.Hateful.Eight.2015.720p.BluRay.Farsi.Dubbed.Film2Movie_INFO.mkv\n",
            " None\n",
            "The.Jerry.Maya.Detective.Agency.2.2013.720p_FILM.POP-MUSIC.IR_.mkv\n",
            " None\n",
            "The.Magnificent.Seven.2016.720p.BluRay.Farsi.Dubbed.Film2Movie_BiZ.mkv\n",
            " None\n",
            "The.Man.Who.Invented.Christmas.2017.720p.Farsi.Dubbed.BluRay.x264.MkvCage.SalamDL_INFO.mkv\n",
            " None\n",
            "The.Martian.2015.1080p.Farsi.Dubbed.mkv\n",
            " None\n",
            "The.Protege.2021.720p.Farsi.Dubbed.mkv\n",
            " None\n",
            "The.Shining.1980.720p.BluRay.Farsi.Dubbed.Film2Movie_ORG.mkv\n",
            " None\n",
            "The.Wolf.of.Wall.Street.2013.720p.Farsi.Dubbed(FardaDownload).mkv\n",
            " None\n",
            "The_Borrowers_1997_720p_Farsi_Dubbed_(ValaMovie).mkv\n",
            " None\n",
            "The_Punisher_2004_720p_Farsi_Dubbed_(ValaMovie).mkv\n",
            " None\n",
            "The_Raven_2012_720p_Farsi_Dubbed_(DibaMovie).mkv\n",
            " None\n",
            "Tomorrow Land 2015 720p Farsi Dubbed.mkv\n",
            " None\n",
            "Total.Recall.2012.EXTENDED.DC.720p.Ganool.Farsi.Dubbed-[My-Film].mkv\n",
            " None\n",
            "Ultraviolet_2006_720p_Farsi_Dubbed_(ValaMovie).mkv\n",
            " None\n",
            "Underdog.2007.720p.Farsi.Dubbed.mkv\n",
            " None\n",
            "Van.Helsing.2004.720p.Farsi.Dubbed.HexDL.com.mkv\n",
            " None\n",
            "Voyagers.2021.720p.Farsi.Dubbed.mkv\n",
            " None\n",
            "Warm Bodies.2013.720P.Bluray.X264.Duble.mp4\n",
            " None\n",
            "White_House_Down_2013_Farsi_Dubbed_(SaberFun.IR).mkv\n",
            " None\n",
            "Winters Tale.2014.720p.Farsi.Dubbed.mkv\n",
            " None\n",
            "Yours.Mine.and.Ours.2005.720p.Dubbed.[RazMovie.com].mkv\n",
            " None\n",
            "Zoom.2006.DVDRip.FarsiMovie_ORG.avi\n",
            " None\n",
            "A Quiet Place Part II 2020.1080p.WEB-DL.10bit.6CH.x265.PSA.mkv\n",
            " None\n",
            "A.Quiet.Place.2018.720p.Farsi.Dubbed.mkv\n",
            " None\n",
            "Alien.1.1979.Directors.Cut.720p.Farsi.Dubbed.mkv\n",
            " None\n",
            "Alien.2.1986.Special.Edition.720p.Farsi.Dubbed.mkv\n",
            " None\n",
            "Alien.3.1992.Special.Edition.720p.Farsi.Dubbed.mkv\n",
            " None\n",
            "Alien.4.Resurrection.1997.Special.Edition.720p.Farsi.Dubbed.mkv\n",
            " None\n",
            "Alien.5.Prometheus.2012.720p.BluRay.2CH.x264.Dubbed.FA.mkv\n",
            " None\n",
            "Alien.6.Covenant.2017.720p.DUBLE.mkv\n",
            " None\n",
            "Alien.vs.Predator.2004.720p.Farsi.Dubbed.mkv\n",
            " None\n",
            "Aliens.vs.Predator.Requiem.2007.720p.Farsi.Dubbed.mkv\n",
            " None\n",
            "The.Predator.2018.720p.WEB-DL.MkvCage.mkv\n",
            " None\n",
            "Alvin.And.The.Chipmunks.2007.720p.BluRay.Film2Movie_CO.mkv\n",
            " None\n",
            "Alvin.And.The.Chipmunks.The.Squeakquel.2009.720p.BluRay.Film2Movie_CO.mkv\n",
            " None\n",
            "Alvin_and_the_Chipmunks_Chipwrecked_2011_720p_Farsi_Dubbed_(DibaMovie).mkv\n",
            " None\n",
            "Alvin_and_the_Chipmunks_The_Road_Chip_2015_720p_x265_Farsi_Dubbed_(DibaMovie).mkv\n",
            " None\n",
            "Arthur.3.The.War.of.the.Two.Worlds.2010.720p.Farsi.Dubbed.mkv\n",
            " None\n",
            "Arthur.and.the.Invisibles.2006.720p.Farsi.Dubbed.mkv\n",
            " None\n",
            "Arthur.and.the.Revenge.of.Maltazard.2009.1080p.BluRay.mkv\n",
            " None\n",
            "Avengers Infi nity War 2018.720p.b.lu.ry.NEW.Farsi.Dubbed.Film2Movie_US.mkv\n",
            " None\n",
            "Avengers.1.720p.Farsi.Dubbed.mkv\n",
            " None\n",
            "Avengers.2.Age.of.Ultron.2015.720p.Blu-Ray.Par30dl.Com.mkv\n",
            " None\n",
            "Avngers End g me.2019.720p.b.lu.ry.Farsi.Dubbed.Film2Movie_WS.mkv\n",
            " None\n",
            "Thumbs.db\n",
            " None\n",
            "cats and dogs 2.farsi.720p_UPTV.co.mkv\n",
            " None\n",
            "Cats.and.Dogs.2001.720p.Farsi.Dubbed(Film2serial.ir).mkv\n",
            " None\n",
            "Cats.Dogs.3.Paws.Unite.2020.720p.BluRay.x264.RARBG-SalamDL.mkv\n",
            " None\n",
            "Dont.Breathe.2.2021.720p.WEB-DL.Farsi.Dubbed.mkv\n",
            " None\n",
            "Dont_Breathe_2016_720p_Farsi_Dubbed_(ValaMovie).mkv\n",
            " None\n",
            "Garfield_2004_720p_Farsi_Dubbed_(DibaMovie).mkv\n",
            " None\n",
            "Garfield_2_2006_720p_Farsi_Dubbed_(DibaMovie).mkv\n",
            " None\n",
            "Goosebumps.Haunted.Halloween.2018.720p.WEB-DL.DibaMoviez.mkv\n",
            " None\n",
            "Goosebumps_2015_720p_Farsi_Dubbed_(Doostiha.IR).mkv\n",
            " None\n",
            "Guardians of the Galaxy.Vol.2.2017.HD-TC.ShAaNiG.mkv\n",
            " None\n",
            "Guardians.of.the.Galaxy.2014.720p.Farsi.Dubbed.mkv\n",
            " None\n",
            "Hansel&Gretel.Witch.Hunters2013(SongIrooni).mkv\n",
            " None\n",
            "Hansel.and.Gretel.Witch.Hunters.2013-Dubbed.FA-[My-Film].mka\n",
            " None\n",
            "Harry_Potter_And_Goblet_of_Fire_2005_720p_Farsi_Dubbed_(ValaMovie).mkv\n",
            " None\n",
            "Harry_Potter_and_the_Chamber_of_Secrets_2002_720p_Farsi_Dubbed_(ValaMovie).mkv\n",
            " None\n",
            "Harry_Potter_and_the_Deathly_Hallow_Part_1_2010_720p_Farsi_Dubbed_(ValaMovie).mkv\n",
            " None\n",
            "Harry_Potter_and_the_Deathly_Hallow_Part_2_2011_720p_Farsi_Dubbed_(ValaMovie).mkv\n",
            " None\n",
            "Harry_Potter_and_the_Half_Blood_Prince_2009_720p_Farsi_Dubbed_(ValaMovie).mkv\n",
            " None\n",
            "Harry_Potter_and_the_Order_of_the_Phoenix_2007_720p_Farsi_Dubbed_(ValaMovie).mkv\n",
            " None\n",
            "Harry_Potter_and_the_Prisoner_of_Azkaban_2004_720p_Farsi_Dubbed_(ValaMovie).mkv\n",
            " None\n",
            "Harry_Potter_And_The_Sorcerers_Stone_2001_720p_Farsi_Dubbed_(ValaMovie).mkv\n",
            " None\n",
            "Hitman.2007.1080p.Bluray.Farsi.Dubbed.mkv\n",
            " None\n",
            "Hitman.Agent.47.2015.1080p.Farsi.Dubbed.mkv\n",
            " None\n",
            "The.Hitmans.Bodyguard.2017.720p.Farsi.Dubbed.mkv\n",
            " None\n",
            "The.Hitmans.Wifes.Bodyguard.2021.720p.WEB-DL.Farsi.Dubbed.mkv\n",
            " None\n",
            "Justice.League.2017.720p.Farsi.Dubbed.mkv\n",
            " None\n",
            "Zack.Snyders.Justice.League.2021.720p.Farsi.Dubbed.mkv\n",
            " None\n",
            "Son_of_the_Mask_2005_720p_Farsi_Dubbed_(DibaMovie).mkv\n",
            " None\n",
            "The_Mask_1994_720p_x265_Farsi_Dubbed_(DibaMovie).mkv\n",
            " None\n",
            "Pacific.Rim.2013.720p.Farsi.Dubbed.mkv\n",
            " None\n",
            "Pacific.Rim.Uprising.2018.1080p.WEB-DL.MkvCage.ParsiMovies.mkv\n",
            " None\n",
            "Paul Blart Mall Cop 2009 1080p Farsi Dubbed.jpg\n",
            " None\n",
            "Paul Blart Mall Cop 2009 1080p Farsi Dubbed.mkv\n",
            " None\n",
            "Paul Blart Mall Cops 2 2015 1080p 6CH.jpg\n",
            " None\n",
            "Paul Blart Mall Cops 2 2015 1080p 6CH.mkv\n",
            " None\n",
            "Paul.Blart.Mall.Cop.2.2015.720p.BluRay.srt\n",
            " None\n",
            "Percy.Jackson.Sea.of.Monsters.2013.720p.Bluray.mkv\n",
            " None\n",
            "Percy.Jackson.The.Lightning.Thief.2010.720p.Farsi.Dubbed.mkv\n",
            " None\n",
            "Peter Rabbit 2 The Runaway 2021.720p.WEB-DL.KIMO.DUBLE.mkv\n",
            " None\n",
            "Peter Rabbit 2018.720p.Farsi.Dub.mkv\n",
            " None\n",
            "Rogue.One.2016.720p.BluRay.x264.Dubbed.FA.mkv\n",
            " None\n",
            "Star.Wars.Episode.I.The.Phantom.Menace.1999.720p.Farsi.Dubbed.mkv\n",
            " None\n",
            "Star.Wars.Episode.II.Attack.of.the.Clones.2002.720p.BrRip.Ganool-DUBBED.mkv\n",
            " None\n",
            "Star.Wars.Episode.III.Revenge.of.the.Sith.2005.BluRay.720p.Fa.mkv\n",
            " None\n",
            "Star.Wars.Episode.IV.1977.720.Farsi.Dubbed.mkv\n",
            " None\n",
            "Star.Wars.Episode.V.The.Empire.Strikes.Back.1980.720p.Farsi.Dubbed-[My-Film].mkv\n",
            " None\n",
            "Star.Wars.Episode.VI.1983.Return.of.the.Jedi.720p.Farsi.Dubbed.mkv\n",
            " None\n",
            "Star.Wars.Episode.VII.The.Force.Awakens.2015.720p.BluRay.2CH.x264.Dubbed.FA.mkv\n",
            " None\n",
            "Star.Wars.Episode.VIII.The.Last.Jedi.2017.720p.BluRay.x264-Dubbed.FA.mkv\n",
            " None\n",
            "Taxi.1998.720p.Farsi.Dubbed_mer30download.com.mkv\n",
            " None\n",
            "Taxi.2000.720p.Farsi.Dubbed_mer30download.com.mkv\n",
            " None\n",
            "Taxi.2003.720p.Farsi.Dubbed_mer30download.com.mkv\n",
            " None\n",
            "Taxi.2007.720p.Farsi.Dubbed_mer30download.com.mkv\n",
            " None\n",
            "Taxi.5.2018.480p.Farsi.Dubbed.mkv\n",
            " None\n",
            "The.Lord.of.the.Rings.2001.720p.Farsi.Dubbed.mkv\n",
            " None\n",
            "The.Lord.of.the.Rings.2002.720p.Farsi.Dubbed.mkv\n",
            " None\n",
            "The_Lord_of_the_Rings_2003_720p_Farsi_Dubbed_(ValaMovie).mkv\n",
            " None\n",
            "The_Mummy_1999_720p_Farsi_Dubbed_(DibaMovie).mkv\n",
            " None\n",
            "The_Mummy_Returns_2001_720p_Farsi_Dubbed_(DibaMovie).mkv\n",
            " None\n",
            "The.Princess.Switch.2018.720p.WEB-DL.Farsi.Dubbed.mkv\n",
            " None\n",
            "The.Princess.Switch.Switched.Again.2020.720p.WEB-DL.Farsi.Dubbed.mkv\n",
            " None\n",
            "The_Thinning_2016.mkv\n",
            " None\n",
            "The_Thinning_2018.mkv\n",
            " None\n",
            "3.Idiots.2009.1080p.BluRay.6CH.x264.Dubbed.Fa.AvaMovie.mkv\n",
            " None\n",
            "Baadshah.1999.Hindi.DvDrip.720p.x264.Hon3y.Farsi.Dubbed-[RubixFa].mkv\n",
            " None\n",
            "Badal_2000_720p_Farsi_Dubbed_(ValaMovie).mkv\n",
            " None\n",
            "Bank.Chor.2017.480p.WEB-DL.Farsi.Dubbed.mkv\n",
            " None\n",
            "Billu.2009.720p_[HexDownload.com].mkv\n",
            " None\n",
            "Dabangg 3 2019 Hindi 720p WEB-DL x264 ESubs MkvHub Exclusive Sync Dubbed (Bia2Movies).mkv\n",
            " None\n",
            "Dhoom_3_2013_720p_x265_Farsi_Dubbed_(DibaMovie).mkv\n",
            " None\n",
            "Don_2006_720p_Farsi_Dubbed_(ValaMovie).mkv\n",
            " None\n",
            "Don_2_2011_720p_Farsi_Dubbed_(ValaMovie).mkv\n",
            " None\n",
            "Drishyam_2015_720p_Farsi_Dubbed_.mkv\n",
            " None\n",
            "Duplicate.1998.720p.WEB-DL.x264.Ganool.Farsi.Dubbed-[RubixFa].mkv\n",
            " None\n",
            "Judwaa.2.2017.720p.Farsi.Dubbed .mkv\n",
            " None\n",
            "Kabhi.Khushi.Kabhie.Gham.2001.720p.BluRay.Pahe.Farsi.Dubbed.[RubixFa].mkv\n",
            " None\n",
            "Khiladi_786_2012_720p_x265_Farsi_Dubbed_(DibaMovie).mkv\n",
            " None\n",
            "Kick 2014 BluRay 1080p.Dobleh.mkv\n",
            " None\n",
            "No.Problem.2010.Farsi.mkv\n",
            " None\n",
            "Pardes.1997.720p.WEB-DL.x264.Pahe.Farsi.Dubbed-[RubixFa].mkv\n",
            " None\n",
            "PK_2014_720p_x265_Farsi_Dubbed_(DibaMovie).mkv\n",
            " None\n",
            "Raid.2018.480p.Farsi.Dubbed.mkv\n",
            " None\n",
            "Singham.2011.720p.Farsi.Dubbed.mkv\n",
            " None\n",
            "Singham.Returns.2014.720p.Farsi.Dubbed.mkv\n",
            " None\n",
            "Special_26_2013_720p_x265_Farsi_Dubbed_(DibaMovie).mkv\n",
            " None\n",
            "Sultan.2016.720p.x265.Farsi.Dubbed.mkv\n",
            " None\n",
            "Veer Zaara.2004.720p.BRRip.SilverRG.Farsi.Dubbed-[RubixFa].mkv\n",
            " None\n",
            "47.Ronin.2013.720p.HarmonyDL-Com.mkv\n",
            " None\n",
            "Along.With.the.Gods.The.Last.49.Days.2018.720p.Farsi.Dubbed.BluRay.x264.SalamDL_INFO.mkv\n",
            " None\n",
            "Along.With.The.Gods.The.Two.Worlds.2017.720p.BluRay.mkv\n",
            " None\n",
            "Detective.Chinatown.2.2018.720p.Farsi.Dubbed.BluRay.x264.SalamDL_INFO.mkv\n",
            " None\n",
            "Double World.2020.720p.WEB-DL.YTS.Farsi.Dubbed.[RubixFa].mkv\n",
            " None\n",
            "Hitman.Agent.Jun.2020.720p.Korean.WEB-DLRip.x264.Ganool.Farsi.Dubbed.[RubixFa].mkv\n",
            " None\n",
            "Jade.Dynasty.2019.720p.BluRay.YTS.Farsi.Dubbed.[RubixFa].mkv\n",
            " None\n",
            "Kill Zone.2005.BluRay. 720p.(Ganool) [FA].mkv\n",
            " None\n",
            "Kung Fu League 2018.720p.BluRay.Farsi.Dubbed.DigiMoviez.mkv\n",
            " None\n",
            "Last_Hero_in_China_1993_720p_Farsi_Dubbed_(ValaMovie).mkv\n",
            " None\n",
            "Mr.Zoo.The.Missing.VIP.2020.720p.WEB-DL.Farsi.Dubbed.mkv\n",
            " None\n",
            "Mulan.2020.720P.Webrip.Duble.mp4\n",
            " None\n",
            "My Zombie Crush.mp4\n",
            " None\n",
            "My_Girl_friend_Is_an_Agent_2009_720p_Farsi_Dubbed_(ValaMovie).mkv\n",
            " None\n",
            "Parasite.2019.720p.Farsi.Dubbed.mkv\n",
            " None\n",
            "Psychokinesis.2018.720p.Farsi.Dubbed.WEB-DL.x264.MkvCage.SalamDL_INFO.mkv\n",
            " None\n",
            "Shang.Chi.and.the.Legend.of.the.Ten.Rings.2021.720p.BluRay.Dubbed.ZarFilm.mkv\n",
            " None\n",
            "Shaolin.Soccer.2001.720p.Farsi.Dubbed.mkv\n",
            " None\n",
            "Shin Godzilla 2016.HDrip 720p.ViDl(ViDl.ir).mp4\n",
            " None\n",
            "Space Sweepers Upera.mp4\n",
            " None\n",
            "The Con Artists 2014_720p_Farsi_Dubbed_(ValaMovie).mkv\n",
            " None\n",
            "The Knight of Shadows Between Yin and Yang 2019 720p WEB-DL Farsi Dubbed MOVIE30T.CO.mkv\n",
            " None\n",
            "The YinYang Master Dream of Eternity.mp4\n",
            " None\n",
            "The.Dude.In.Me.2019.720p.Farsi.Dubbed.mkv\n",
            " None\n",
            "The.Mad.Monk.2021.720p.WEB-DL.Farsi.Dubbed.mkv\n",
            " None\n",
            "The_White_Haired_Witch_of_Lunar_Kingdom_2014_720p_Farsi_Dubbed_(ValaMovie).mkv\n",
            " None\n",
            "Infernal.Affairs.2002.720p.BluRay.FA.mkv\n",
            " None\n",
            "Infernal.Affairs.II.2003.BluRay.720p.FA.mkv\n",
            " None\n",
            "Infernal.Affairs.III.2003.BluRay.720p.FA.mkv\n",
            " None\n",
            "The_Forbidden_Kingdom_2008_720p_UPTVz.co_Duble.mkv\n",
            " None\n",
            "True.and.False.Monkey.King.2020.720p.Farsi.Dubbed.mp4\n",
            " None\n",
            "The Monkey King 2014 720-893415-subdown.zip\n",
            " None\n",
            "The.Monkey.King.2014.720p.BluRay.Film2Movie_INFO.mkv\n",
            " None\n",
            "The.Monkey.King.2014.720p.BluRay.RezaAlex&AliVahdaT.srt\n",
            " None\n",
            "The Monkey King 2 Farsi Persian 1317838  Subf2m [subf2m.co].zip\n",
            " None\n",
            "The.Monkey.King.2.2016.720p.BluRay.Film2Movie_INFO.mkv\n",
            " None\n",
            "the.monkey.king.2.2016.720p.bluray.hevc.x265.Esii.ass\n",
            " None\n",
            "The Monkey King 3 2018 HI Farsi Persian 1773661  Subf2m [subf2m.co].zip\n",
            " None\n",
            "The Monkey King 3 2018 HI Farsi Persian 1773665  Subf2m [subf2m.co].zip\n",
            " None\n",
            "The.Monkey.King.3.2018.720p.BluRay.Film2Movie_US.mkv\n",
            " None\n",
            "The.Monkey.King.3.2018.720p.DibaMoviez.srt\n",
            " None\n",
            "1.mkv\n",
            " None\n",
            "2.mkv\n",
            " None\n",
            "زیر نویس1.srt\n",
            " None\n",
            "Rurouni_Kenshin_2012_720p_Farsi_Dubbed_(ValaMovie).mkv\n",
            " None\n",
            "Rurouni_Kenshin_Kyoto_Inferno_2014_720p_Farsi_Dubbed_(ValaMovie).mkv\n",
            " None\n",
            "Rurouni.Kenshin.Final.Chapter.Part.I.The.Final.2021.720p.WEB-DL.Farsi.Dubbed.mkv\n",
            " None\n",
            "Rurouni.Kenshin.Final.Chapter.Part.II.The.Beginning.2021.720p.WEB-DL.Farsi.Dubbed.mkv\n",
            " None\n",
            "1971 The Big Boss [MovieCenter].mkv\n",
            " <re.Match object; span=(0, 4), match='1971'>\n",
            "1972 Fist Of Fury [MovieCenter]_2.mkv\n",
            " <re.Match object; span=(0, 4), match='1972'>\n",
            "1972 Way of The Dragon [MovieCenter].mkv\n",
            " <re.Match object; span=(0, 4), match='1972'>\n",
            "Bleeding Steel 2017.720p.Farsi.Dubbed.mkv\n",
            " None\n",
            "Chinese.Zodiac.2012.720p.Farsi(P30Movie).mkv\n",
            " None\n",
            "Dragon Blade (2015) 1080p BluRay 6CH @MkvCage.mkv\n",
            " None\n",
            "Journey to China The Mystery of Iron Mask 2019.720p.Censroed.Farsi.Dubbed.mkv\n",
            " None\n",
            "Kung.Fu.Yoga.2017.1080p.Farsi.Dubbed.mkv\n",
            " None\n",
            "Police Story (2013) [HD].mkv\n",
            " None\n",
            "Skiptrace (2016) [HD].mkv\n",
            " None\n",
            "The Karate Kid (2010) [HD].mkv\n",
            " None\n",
            "The Spy Next Door 2010.720p.Farsi.Dubbed.mkv\n",
            " None\n",
            "The.Foreigner.2017.1080p.HDRip.MkvCage.mkv\n",
            " None\n",
            "Who Am I (1998) [HD].mkv\n",
            " None\n",
            "Rush Hour (1998) [HD].mkv\n",
            " None\n",
            "Rush Hour 2 (2001) [HD].mkv\n",
            " None\n",
            "Rush Hour 3 (2007) [HD].mp4\n",
            " None\n",
            "Cowboys_and_Aliens_2011_720p_Farsi_Dubbed_(ValaMovie).mkv\n",
            " None\n",
            "James.Bond.Quantum.of.Solace.2008.720p.YIFY.mp4\n",
            " None\n",
            "No.Time.to.Die.2021.720p.WEB-DL.Farsi.Dubbed.mkv\n",
            " None\n",
            "Skyfall (2012) BluRay 720p.mkv\n",
            " None\n",
            "Spectre.2015.720p.BluRay.ShAaNiG.Film2Movie_INFO.mkv\n",
            " None\n",
            "Spectre_2015_720p_Farsi_Dubbed_(ValaMovie).mkv\n",
            " None\n",
            "Zarehee.Aramesh.2008.720p.V2_tiktab.ir_2.mkv\n",
            " None\n",
            "Skyfall.2012.Bluray 1080p - NightMovie.mkv\n",
            " None\n",
            "Skyfall.2012.DVDSCR.x264-P2P.Fa.srt\n",
            " None\n",
            "Spectre.2015.1080p.5.1CH.Ganool.mkv\n",
            " None\n",
            "Spectre.2015.Dubbed.Audio.mp3\n",
            " None\n",
            "Spectre.2015.DVDSCR.AC3.srt\n",
            " None\n",
            "Crank_High_Voltage_2009_720p_Farsi_Dubbed_(DibaMovie).mkv\n",
            " None\n",
            "Homefront.2013.720p.Farsi.Dubbed.HexDL.com.mkv\n",
            " None\n",
            "Parker.2013.720p.BluRay.mkv\n",
            " None\n",
            "Redemption.2013.720p.BluRay.Farsi.Dubbed.Film2Movie_ORG.mkv\n",
            " None\n",
            "spy 2015.mkv\n",
            " None\n",
            "Spy_2015_720p_Farsi_Dubbed_(DibaMovie).mkv\n",
            " None\n",
            "The.Meg.2018.720p.WEB-DL.Farsi.Dubbed.mkv\n",
            " None\n",
            "Wild.Card.2015.1080p.5.1CH.[FarsiMovie.net].mkv\n",
            " None\n",
            "Mechanic.1.2011.720p.BluRay.Film2Movie_ORG.mkv\n",
            " None\n",
            "Mechanic.2.2016.Resurrection.Bluray.720p.ShAaNiG.mkv\n",
            " None\n",
            "A.Walk.Among.the.Tombstones.2014.720p.Farsi.Dubbed.mkv\n",
            " None\n",
            "Cold Pursuit.2019.720p.Farsi.Dubbed.mkv\n",
            " None\n",
            "Honest Thief.2020.720p.BluRay.x264-GalaxyRG.AvaMovie.mkv\n",
            " None\n",
            "Non.Stop.2014.720p.BluRay.x264.YIFY.mp4\n",
            " None\n",
            "Run_All_Night_2015_720p_x265_Farsi_Dubbed_(DibaMovie).mkv\n",
            " None\n",
            "The Ice Road 2021.720p.WEB-DL.KIMO.DUBLE.mkv\n",
            " None\n",
            "TheMarksman.mp4\n",
            " None\n",
            "Wrath of Titans 2.2012.720p_SaberFun.ir.mkv\n",
            " None\n",
            "Taken_2008_720p_Farsi_Dubbed_(DibaMovie).mkv\n",
            " None\n",
            "Taken_2_2012_720p_EXTENDED_(DibaMovie).mkv\n",
            " None\n",
            "Taken_3_2014_720p_x265_Farsi_Dubbed_(DibaMovie).mkv\n",
            " None\n",
            "A.Score.to.Settle.2019.720p.WEB-DL.MkvCage.mkv\n",
            " None\n",
            "Knowing.2009.720p.Farsi.Dubbed.Film9.mkv\n",
            " None\n",
            "National.Treasure.Book.of.Secrets.2007.720p.Farsi.Dubbed).mkv\n",
            " None\n",
            "Next 2007 Fars{ Zortex.Ir }.mkv\n",
            " None\n",
            "Pay the Ghost 2015 720P Web-DL [NewMusic].mkv\n",
            " None\n",
            "Primal.2019.720p.wb-dl.Farsi.Dubbed.mkv\n",
            " None\n",
            "Prisoners.Of.The.Ghostland.2021.720p.WEB-DL.Farsi.Dubbed.mkv\n",
            " None\n",
            "Season.of.the.Witch.2011.TS.XViD-T0XiC-iNK.mkv\n",
            " None\n",
            "The Sorcerers Apprentice 2010.720p.BluRay.H264.AAC.RARBG.Farsi.Dubbed-[RubixFa].mkv\n",
            " None\n",
            "6.Underground.2019.720p.WEB-DL.MOVIE30T.CO.mkv\n",
            " None\n",
            "Red.Notice.2021.720p.WEB-DL.Dubbed.ZarFilm.mkv\n",
            " None\n",
            "The Adam Project.mp4\n",
            " None\n",
            "The.Voices.2014.720p.BluRay_(+++wWw.Movieo.IR+++)_2.mkv\n",
            " None\n",
            "American.Made.2017.Bluray.720p.MkvCage.mkv\n",
            " None\n",
            "Edge.of.Tomorrow.2014.BluRay.720p.900MB_Harmonydl_.mkv\n",
            " None\n",
            "Interview with the Vampire 1994.720p.Farsi.Dubbed.mkv\n",
            " None\n",
            "Jack Reacher Never Go Back 2016_720p_Farsi_Dubbed_(ValaMovie).mkv\n",
            " None\n",
            "Knight.and.Day.2010.EXTENDED.720p.DibaMoviez.mkv\n",
            " None\n",
            "Legend.1985.Directors.Cut.720p.ValaMovie.mkv\n",
            " None\n",
            "Minority.Report.2002.720p.Farsi.Dubbed.mkv\n",
            " None\n",
            "Oblivion 2013.1080pDubble.Farsi.mkv\n",
            " None\n",
            "The_Island_2005_1080p_Farsi_Dubbed_(ValaMovie)_2.mkv\n",
            " None\n",
            "The_Mummy_2017_720p_Farsi_Dubbed_(ValaMovie).mkv\n",
            " None\n",
            "Top.Gun.1986.REMASTERED.720p.ValaMovie.mkv\n",
            " None\n",
            "Vanilla_Sky_2001_720p_Farsi_Dubbed_(ValaMovie).mkv\n",
            " None\n",
            "War of the Worlds_2005_720p_Ganool_(ValaMovie).mkv\n",
            " None\n",
            "1.mkv\n",
            " None\n",
            "2.mkv\n",
            " None\n",
            "3.mkv\n",
            " None\n",
            "4.mp4\n",
            " None\n",
            "5.mkv\n",
            " None\n",
            "Babylon.A.D.2008.Extended.720p.Farsi.Dubbed.Film9.mkv\n",
            " None\n",
            "The.Last.Witch.Hunter.2015.720p.Ganool.Dubbed.Farsi.mkv\n",
            " None\n",
            "The.Pacifier.2005.720p.Farsi.Dubbed.mkv\n",
            " None\n",
            "The_Last_Witch_Hunter_2015_720p_x265_Farsi_Dubbed_(ValaMovie).mkv\n",
            " None\n",
            "Riddick.2013.720p.Farsi.Dubbed(Film2serial.ir).mkv\n",
            " None\n",
            "The.Chronicles.of.Riddick.2004.720p.Farsi.Dubbed.mkv\n",
            " None\n",
            "3x.2002.720p.Farsi.Fixed.Dubbed(Film2serial.ir).mkv\n",
            " None\n",
            "3X.State.of.the.Union.2005.1080p.Farsi(SabaMovie).mkv\n",
            " None\n",
            "Return.of.Xander.Cage.2017.1080p.Farsi.Dubbed.mkv\n",
            " None\n",
            "Bright.2017.720p.WEB-DL.MkvCage.mkv\n",
            " None\n",
            "Focus.2015.720p.WEB-DL.Ganool (SaBerFun.IR).mkv\n",
            " None\n",
            "Gemini Man.2019.720p.WEB-DL.mkv\n",
            " None\n",
            "Hancck.2008.720p.Farsi.Dubbed.Film9.mkv\n",
            " None\n",
            "I Robot 2004_720p_Farsi_Dubbed_(Film2serial.IR).mkv\n",
            " None\n",
            "Bad.Boys.1995.REMASTERED.720p.Farsi.Dubbed.HexDL.com.mkv\n",
            " None\n",
            "Bad.Boys.For.Life.2020.720p.WEB-DL.Film2Movie_li.mkv\n",
            " None\n",
            "Bad.Boys.II.2003.720p.Farsi.Dubbed.mkv\n",
            " None\n",
            "Men.in.Black.1997.1080p.Farsi.Dubbed.HexDL.com.mkv\n",
            " None\n",
            "Men.in.Black.3.2012.1080p.Farsi.Dubbed.HexDL.com.mkv\n",
            " None\n",
            "Men.in.Black.II.2002.1080p.Farsi.Dubbed.HexDL.com.mkv\n",
            " None\n",
            "Men.in.Black.International.2019.720p.Farsi.Dubbed.mkv\n",
            " None\n",
            "Men.in.Black.International.2019.Dubbed.Audio.mka\n",
            " None\n",
            "Alice.in.Wonderland.2.2016.720p.BluRay.Film2Movie_BiZ.mkv\n",
            " None\n",
            "Alice.in.Wonderland.2010.720p.BluRay.Film2Movie_ORG.mkv\n",
            " None\n",
            "American.Pie.1.1999.1080p.YIFY.mkv\n",
            " None\n",
            "American.Pie.2.2001.1080p.YIFY.mkv\n",
            " None\n",
            "American.Pie.3.Wedding.2003.1080p.YIFY.mkv\n",
            " None\n",
            "American.Pie.4.Presents.Band Camp 2005.1080p.6CH.YIFY.mkv\n",
            " None\n",
            "American.Pie.5.Presents.The naked Mile.2006.1080p.6CH.YIFY.mkv\n",
            " None\n",
            "American.Pie.6.Presents.Beta.House.2007.1080p.6CH.YIFY.mkv\n",
            " None\n",
            "American.Pie.7.Presents.The.Book.of.Love.2009.1080p.YIFY.mkv\n",
            " None\n",
            "American.Pie.8.Reunion.2012.1080p.YIFY.mkv\n",
            " None\n",
            "American.Pie.9.Presents.Girls.Rules.2020.720p.YIFY.mkv\n",
            " None\n",
            "Ant-Man.2015.720p.WEB-DL.MkvCage.SaberFun.IR.mkv\n",
            " None\n",
            "Ant-Man.and.The.Wasp.2018.720p.DibaMoviez.mkv\n",
            " None\n",
            "Dawn.of.the.Planet.of.the.Apes.2014.720p.Farsi.Dubbed.mkv\n",
            " None\n",
            "Planet.of.the.Apes.2001.720p.YIFY.mkv\n",
            " None\n",
            "Rise of the Planet of the Apes(wWw.DiarFilm.IR).mkv\n",
            " None\n",
            "War.for.the.Planet.of.the.Apes.2017.Bluray.1080p.MkvCage.mkv\n",
            " None\n",
            "1.mkv\n",
            " None\n",
            "2.mkv\n",
            " None\n",
            "3.mkv\n",
            " None\n",
            "4.mkv\n",
            " None\n",
            "Back.to.the.Future.1985.720p.Farsi.Dubbed.Film2Media.mkv\n",
            " None\n",
            "Back.to.the.Future.1989.720p.Farsi.Dubbed.mkv\n",
            " None\n",
            "Back.to.the.Future.1990.720p.Farsi.Dubbed.mkv\n",
            " None\n",
            "Batman.v.Superman.Dawn.of.Justice.2016.EXTENDED.720p.Farsi.Dubbed.mkv\n",
            " None\n",
            "Batman.and.Mr.Freeze.SubZero.1998.DVDrip.mkv\n",
            " None\n",
            "Batman_and_Robin_1997_720p_YIFY_(DibaMovie).mp4\n",
            " None\n",
            "Batman.Begins.2005.1080p.Farsi.Dubbed.mkv\n",
            " None\n",
            "The.Dark.Knight.2008.1080p.Farsi.Dubbed.mkv\n",
            " None\n",
            "The.Dark.Knight.Rises.2012.1080p.Farsi.Dubbed2Dooble.mkv\n",
            " None\n",
            "Bill.and.Ted.Face.the.Music.2020.1080p.WEB-DL.RARBG.DigiMoviez.mkv\n",
            " None\n",
            "Bill.and.Teds.Bogus.Journey.1991.720p.BluRay.HardSub.DigiMoviez.mp4\n",
            " None\n",
            "Bill.and.Teds.Excellent.Adventure.1989.720p.BluRay.HardSub.DigiMoviez.mp4\n",
            " None\n",
            "Blade.1998.720p.BluRay.Film2Movie_ORG.mkv\n",
            " None\n",
            "Blade.II.2002.720p.BluRay.Film2Movie_ORG.mkv\n",
            " None\n",
            "Blade.Trinity.2004.720p.BluRay.Film2Movie_ORG.mkv\n",
            " None\n",
            "Captain.America.Civil.War.2016.720p.Bluray.Dubbed.Farsi.mkv\n",
            " None\n",
            "Captain.America.The.First.Avenger.2011.Bluray.720p.Farsi.Dubbed.mkv\n",
            " None\n",
            "Captain.America.The.Winter.Soldier.2014.720p.Exclusive.Dubbed_www.par30dl.com.mkv\n",
            " None\n",
            "Conan the Barbarian (1984).mkv\n",
            " None\n",
            "Conan the Barbarian 2011 1080p (MyDatir).mkv\n",
            " None\n",
            "Creed (2015) [HD].mkv\n",
            " None\n",
            "Creed.II.2018.720p.WEB-DL.MkvCage.mkv\n",
            " None\n",
            "Deadpool.2.2018.Super.Duper.Cut.720p.WEB-DL.MkvCage.mkv\n",
            " None\n",
            "Deadpool.2016.1080p.6CH.ShAaNiG.HarmonyDL-Org.mkv\n",
            " None\n",
            "Death Race (2008) [Full HD].mkv\n",
            " None\n",
            "Death Race 2 (2010) [Full HD].mp4\n",
            " None\n",
            "Death Race 3 Inferno (2013) [Full HD].mkv\n",
            " None\n",
            "Death.Race.4.Beyond.Anarchy.2018.720p.HDRip.MkvCage.mkv\n",
            " None\n",
            "Die Hard (1998) [HD].mkv\n",
            " None\n",
            "Die Hard 2 (1990) [HD].mkv\n",
            " None\n",
            "Die Hard 3 With a Vengeance (1995) [HD].mkv\n",
            " None\n",
            "Die Hard 4.mkv\n",
            " None\n",
            "Die Hard 5.mkv\n",
            " None\n",
            "Escape.Plan.1.2013.BluRay.720p._Harmonydl_.mkv\n",
            " None\n",
            "Escape.Plan.2.Hades.2018.720p.Farsi.Dubbed.Farshow.mkv\n",
            " None\n",
            "Escape Room 2019.720p.Farsi.Dubbed.mkv\n",
            " None\n",
            "Escape.Room.2017.1080p.x265.RMTeam.mkv\n",
            " None\n",
            "Fantastic.Beasts.And.Where.To.Find.Them.2016.720p.BluRay.ShAaNiG.Film2Movie_BiZ.mkv\n",
            " None\n",
            "Fantastic.Beasts.The.Crimes.of.Grindelwald.2018.720p.HDRip.MkvCage.mkv\n",
            " None\n",
            "Fantastic Four.1. (2005) [Full HD].mkv\n",
            " None\n",
            "Fantastic Four.2. Rise of the Silver Surfer (2007) [Full HD].mkv\n",
            " None\n",
            "Fantastic Four.3. (2015) [Full HD].mkv\n",
            " None\n",
            "Fast and Furious.1.2001.1080p.Farsi.Dubbed.mkv\n",
            " None\n",
            "Fast and Furious.2.2003.1080p.Farsi.Dubbed.mkv\n",
            " None\n",
            "Fast and Furious.3.2006.1080p.Farsi.Dubbed.mkv\n",
            " None\n",
            "Fast and Furious.4.2009.1080p.Farsi.Dubbed.mkv\n",
            " None\n",
            "Fast and Furious.5.2011.mp4\n",
            " None\n",
            "Fast and Furious.6.2013.1080p.dub..mkv\n",
            " None\n",
            "Fast and Furious.7.2015.720p.HDTV.FarsiMovie.Net.mkv.mkv\n",
            " None\n",
            "Fast and Furious.8.2017.Bluray.1080p.MkvCage.Dubbed.Farsi.mkv\n",
            " None\n",
            "Fast and Furious.9.The.Fast.Saga.2021.720p.WEB-DL.YIFY.mkv\n",
            " None\n",
            "Hobbs and Shaw.2019.720p.Farsi.Dubbed.mkv\n",
            " None\n",
            "01.mkv\n",
            " None\n",
            "02.mkv\n",
            " None\n",
            "03.Snake Eyes G I Joe Origins 2021.mkv\n",
            " None\n",
            "Ghost.Rider.2007.720p.Farsi.Dubbed.Film2Media.mkv\n",
            " None\n",
            "Ghost.Rider.Spirit.of.Vengeance.2011.720p.Farsi.Dubbed.Film2Media.mkv\n",
            " None\n",
            "Godzilla vs Kong 2021.1080p.WEB-DL.6CH.Pahe.mkv\n",
            " None\n",
            "Godzilla.2014.1080p.BluRay.6CH.com.mkv\n",
            " None\n",
            "Godzilla.King.of.the.Monsters.2019.720p.WEB-DL.DibaMoviez.mkv\n",
            " None\n",
            "Guardians Of The Galaxy (2014) 1080p (1).mkv\n",
            " None\n",
            "Guardians of the Galaxy Vol. 2 (2017) [Full HD].mkv\n",
            " None\n",
            "Hard Target (1993) [HD].mkv\n",
            " None\n",
            "Hard.Target.2.2016.720p.BluRay.Film2Movie_BiZ.mkv\n",
            " None\n",
            "London.Has.Fallen.2016.1080p.6CH.ShAaNiG.mkv\n",
            " None\n",
            "Olympus.Has.Fallen.2013.1080p.5.1CH.Ganool.mkv\n",
            " None\n",
            "White house down 2013 . 720 BlueRay.mkv\n",
            " None\n",
            "Hellboy 2004 720p Farsi (MarzFun.ir).mkv\n",
            " None\n",
            "Hellboy II The Golden Army 2008 720p (MarzFun.ir).mkv\n",
            " None\n",
            "Hellboy.2019.720p.Farsi.Dubbed.mkv\n",
            " None\n",
            "1.Home.Alone.1990.720p.TehMovies.com.mp4\n",
            " None\n",
            "2.Home.Alone.2.Lost.in.New.York.1992.720p.TehMovies.com.mp4\n",
            " None\n",
            "3.Home.Alone.3.1997.720p.HDTV.TehMovies.com.mkv\n",
            " None\n",
            "4.Home.Alone.4.720p.2002.TehMovies.com.mkv\n",
            " None\n",
            "5.Home Alone.5.The Holiday Heist (2012) [HD].mkv\n",
            " None\n",
            "6.Home Alone.6.Home Sweet.mp4\n",
            " None\n",
            "Hulk.2003.720p.BluRay.(MovieCenter).mkv\n",
            " None\n",
            "The.Incredible.Hulk.2008.720p.BluRay.(MovieCenter).mkv\n",
            " None\n",
            "Ip.Man.1.2008.720p.BluRay.Film2Movie_ORG.mkv\n",
            " None\n",
            "Ip.Man.2.2010.720p.BluRay.Film2Movie_ORG.mkv\n",
            " None\n",
            "Ip.Man.3.2015.720p.BluRay.Film2Movie_INFO.mkv\n",
            " None\n",
            "Ip.Man.4.The.Finale.2019.1080p.BluRay.DUBLE.mkv\n",
            " None\n",
            "Master.Z.Ip.Man.Legacy.2018.100p.BRRip.x264-MkvCage.BLAXUP.mkv\n",
            " None\n",
            "Iron.Man.1.2008.720p.BluRay.Film2Movie_ORG.mkv\n",
            " None\n",
            "Iron.Man.2.2010.720p.Farsi.Dubbed-[My-Film-ir].mkv\n",
            " None\n",
            "Iron.Man.3.2013.720p.Farsi.Dubbed.mkv\n",
            " None\n",
            "The Bourne (2016) [HD].mkv\n",
            " None\n",
            "The Bourne Identity (2002) [HD].mkv\n",
            " None\n",
            "The Bourne Legacy (2012) [HD].mkv\n",
            " None\n",
            "The Bourne Supremacy (2004) [HD].mkv\n",
            " None\n",
            "The Bourne Ultimatum (2007) [HD].mkv\n",
            " None\n",
            "John Wick Chapter 1.mkv\n",
            " None\n",
            "John Wick Chapter 2.mkv\n",
            " None\n",
            "John Wick Chapter 3.mkv\n",
            " None\n",
            "Jumanji.1.Welcome.To.The.Jungle.2017.1080p.BluRay.MkvCage.mkv\n",
            " None\n",
            "Jumanji.2.The.Next.Level.2019.720p.DUBLE.mkv\n",
            " None\n",
            "Zathura.A.Space.Adventure.2005.720p.YIFY.mkv\n",
            " None\n",
            "Jurassic.World.2015.1080p.Farsi.Dubbed.mkv\n",
            " None\n",
            "Jurassic.World.2018.720p.WEB-DL.x264.SalamDL_INFO.mkv\n",
            " None\n",
            "The.Jurassic.Games.2018.720p.BluRay.x264.RARBG.SalamDL_INFO.mkv\n",
            " None\n",
            "Kill.Bill.Vol.1.2003.720p.DibaMoviez.mkv\n",
            " None\n",
            "Kill.Bill.Vol.2.2004.720p.Ganool.mkv\n",
            " None\n",
            "Kill.Bill.Vol.3.The.Whole.Bloody.Affair.2011.720p.DibaMoviez.mkv\n",
            " None\n",
            "Kingsman.1.The.Secret.Service.2014.UNCUT.Bluray.1080p.Farsi.Dubbed.mkv\n",
            " None\n",
            "Kingsman.2.The.Golden.Circle.2017.Bluray.1080p.x265.RMT.mkv\n",
            " None\n",
            "Kingsman.3.2021.720p.Farsi.Dubbed.mkv\n",
            " None\n",
            "King.Kong.1933.720p.Farsi.Dubbed.mkv\n",
            " None\n",
            "King.Kong.1976.720p.Farsi.Dubbed.mkv\n",
            " None\n",
            "King.Kong.2005.Extended.720p.Farsi.Dubbed.mkv\n",
            " None\n",
            "Kong.Skull.Island.2017.720p.Farsi.Dubbed.mkv\n",
            " None\n",
            "Lazer.Team.1.2015.Bluray.720p.mkv\n",
            " None\n",
            "Lazer.Team.2.2018.720p.WEBRip.Ganool.mkv\n",
            " None\n",
            "Maze.Ru.nner.3.2018.1080p.hd.rp.Filmha_CO.mkv\n",
            " None\n",
            "Maze.Runner.2014.1080p.Farsi.Dubbed.HexDL.com.mkv\n",
            " None\n",
            "Maze.Runner.The.Death.Cure.2017.1080p.Farsi.Dubbed.HexDL.com.mkv\n",
            " None\n",
            "Maze.Runner.The.Scorch.Trials.2015.1080p.Farsi.Dubbed.HexDL.com.mkv\n",
            " None\n",
            "Neighbors 2014 BluRay 720p.mkv\n",
            " None\n",
            "Neighbors.2.Sorority.Rising.2016.720p.HC.WEBRip-[jahandl.com].mkv\n",
            " None\n",
            "Now.You.See.Me.1.2013.EXTENDED.RERip.720p.Ganool.mkv\n",
            " None\n",
            "Now.You.See.Me.2.2016.720p.BluRay.x265.HEVC.mkv\n",
            " None\n",
            "POTC1_The_Curse_of_the_Black_Pearl_2003_720p_Farsi_Dubbed_(ValaMovie).mkv\n",
            " None\n",
            "POTC2_Dead_Mans_Chest_2006_720p_Farsi_Dubbed_(ValaMovie).mkv\n",
            " None\n",
            "POTC3_At_Worlds_End_2007_720p_Farsi_Dubbed_(ValaMovie).mkv\n",
            " None\n",
            "POTC4_On_Stranger_Tides_2011_720p_Farsi_Dubbed_(ValaMovie).mkv\n",
            " None\n",
            "POTC5_Dead_Men_Tell_No_Tales_2017_720p_Farsi_Dubbed_(ValaMovie).mkv\n",
            " None\n",
            "1.mkv\n",
            " None\n",
            "Pitch.Perfect.2.2015.720p.BluRay.HardSub.DigiMoviez.mp4\n",
            " None\n",
            "Pitch.Perfect.3.2017.720p.BluRay.HardSub.DigiMoviez.mp4\n",
            " None\n",
            "Rambo (2008) [HD].mkv\n",
            " None\n",
            "Rambo II (1985) [HD].mkv\n",
            " None\n",
            "Rambo III (1988) [HD].mkv\n",
            " None\n",
            "Rambo.Last.Blood.2019.EXTENDED.1080p.BluRay.YTS.MrMovie.mp4\n",
            " None\n",
            "Red.1.2010.720p.BluRay.Farsi.Dubbed.Film2Movie_ORG.mkv\n",
            " None\n",
            "Red.2.2013.720p.BluRay.Film2Movie_ORG.mkv\n",
            " None\n",
            "Resident.Evil.1.2002.720p.2CH.x265.mkv\n",
            " None\n",
            "Resident.Evil.2.Apocalypse.2004.Extended.Edition.720p.2CH.x265.HEVC.mkv\n",
            " None\n",
            "Resident.Evil.3.Extinction.2007.BluRay.720p.mkv\n",
            " None\n",
            "Resident.Evil.4.Afterlife.2010.BluRay.720p.mkv\n",
            " None\n",
            "Resident.Evil.5.Retribution_2012_720p_Ganool_(DibaMovie).mkv\n",
            " None\n",
            "Resident.Evil.6.The_Final_Chapter_2016_720p_Ganool_(DibaMovie).mkv\n",
            " None\n",
            "Rocky.1.1976.720p.Farsi.Dubbed.mkv\n",
            " None\n",
            "Rocky.2.1979.720p.Farsi.Dubbed.mkv\n",
            " None\n",
            "Rocky.3.1982.720p.Farsi.Dubbed.mkv\n",
            " None\n",
            "Rocky.4.(1985) [HD].mp4\n",
            " None\n",
            "Rocky.5.(1990) [HD].mp4\n",
            " None\n",
            "Beyond.Skyline.2017.720p.BRrip.MkvCage.Movie98.mkv\n",
            " None\n",
            "Skylines.2020.720p.YIFY.mkv\n",
            " None\n",
            "Smurfs.The.Lost.Village.2017.720p.BrRip.2CH.x265.HEVC-PSA (www.Downloadha.com).mkv\n",
            " None\n",
            "The.Smurfs.2.2013.720p.Farsi.Dubbed.mkv\n",
            " None\n",
            "The.Smurfs.2011.720p.Farsi.Dubbed.mkv\n",
            " None\n",
            "Spider-Man (2002) [HD].mkv\n",
            " None\n",
            "Spider-Man 2 (2004) [Full HD].mp4\n",
            " None\n",
            "Spider-Man 3 (2007) [Full HD].mp4\n",
            " None\n",
            "The Amazing Spider-Man (2012) [Full HD].mkv\n",
            " None\n",
            "The Amazing Spider-Man 2 (2014) [Full HD].mkv\n",
            " None\n",
            "Spider.Man.Far.From.Home.2019.720p.b.lu.ry.GAN.Film2Movie_WS.mkv\n",
            " None\n",
            "Spider.Man.Homecoming.2017.Bluray.1080p.SalamDL.mkv\n",
            " None\n",
            "Spider.Man.No.Way.Home.2021.720p.BluRay.x264.AAC-YIFY.PK.WM.mp4\n",
            " None\n",
            "Spider-Man.Into.the.Spider-Verse.2018.720p.WEB-DL.MkvCage.mkv\n",
            " None\n",
            "Breaking.Wind.2012.720p.BrRip.RARBG.VinaDL.mp4\n",
            " None\n",
            "Disaster_Movie_2008_720p_BrRip_YIFY_(Bia2Movies).mp4\n",
            " None\n",
            "Epic_Movie_2007_720p_BluRay_RARBG_(Bia2Movies).mp4\n",
            " None\n",
            "Meet_the_Spartans_2008_720p_BluRay_RARBG_(Bia2Movies).mp4\n",
            " None\n",
            "Scary.Movie.1.2000.720p.BrRip.Ganool.mkv\n",
            " None\n",
            "Scary.Movie.2.2001.720p.BrRip.Ganool.mkv\n",
            " None\n",
            "Scary.Movie.3.2003.UNRATED.720p.BrRip.Ganool.mkv\n",
            " None\n",
            "Scary.Movie.4.2006.720p.BrRip.Ganool.mkv\n",
            " None\n",
            "Scary.Movie.5.2013.720p.BrRip.ShAaNiG.mkv\n",
            " None\n",
            "Superhero.Movie.2008.720p.Farsi.Dubbed.mkv\n",
            " None\n",
            "The_Starving_Games_2013_720p_BrRip_Ganool_(Bia2Movies).mkv\n",
            " None\n",
            "Vampires_Suck_2010_EXTENDED_720p_BrRip_YIFY_(Bia2Movies).mp4\n",
            " None\n",
            "Walk_All_Over_Me_2007_DVDRip_Unknown_(Bia2Movies).avi\n",
            " None\n",
            "Suicide.Squad.2016.720p.Farsi.Dubbed.HexDL.com.mkv\n",
            " None\n",
            "The.Suicide.Squad.2021.720p.WEB-DL.ValaMovie.mkv\n",
            " None\n",
            "Man.of.Steel.2013.1080p.Farsi_.Dubbed.mkv\n",
            " None\n",
            "Supergirl_1984_720p_(ValaMovie).mkv\n",
            " None\n",
            "Superman.1978.720p.Bluray.Fa.mkv\n",
            " None\n",
            "Superman.II.1980.720.BrRip.264.YIFY.mp4\n",
            " None\n",
            "Superman.III.1983.720p.BluRay.mkv\n",
            " None\n",
            "Superman.IV.1987.BrRip.720p.264.YIFY.mkv\n",
            " None\n",
            "Superman_Returns_2006_720p_Farsi_Dubbed_(ValaMovie).mkv\n",
            " None\n",
            "Tall Girl 2.2022.720p.WEB-DL.ValaMovie.mkv\n",
            " None\n",
            "Tall Girl.2019.720p.WEB-DL.Film2Movie_WS.mkv\n",
            " None\n",
            "Tarzan.2013.1080p.BluRay.x264.YIFY.mp4\n",
            " None\n",
            "The Jungle Book 2016.720p.BluRay.MkvCage.Film2Movie_BiZ.mkv\n",
            " None\n",
            "The.Legend.of.Tarzan.2016.720p.Farsi.Dubbed.mkv\n",
            " None\n",
            "Thumbs.db\n",
            " None\n",
            "Ted.1.2012.UNRATED.720p.Farsi.Dubbed.mkv\n",
            " None\n",
            "Ted.2.2015.Ganool.720p.Dubbed.Farsi.mkv\n",
            " None\n",
            "Teenage.Mutant.Ninja.Turtles.2014.720p.BluRay.(MovieCenter).mkv\n",
            " None\n",
            "Teenage_Mutant_Ninja_Turtles_Out_of_the_Shadows_2016_720p_Bluray_Ganool.mkv\n",
            " None\n",
            "Terminator.1.1984.720p.BluRay.Film2Movie_ORG.mp4\n",
            " None\n",
            "Terminator.2.Judgment.Day.1991.720p.BluRay.Film2Movie_ORG.mkv\n",
            " None\n",
            "Terminator.3.Rise.Of.The.Machines.2003.720p.BluRay.Film2Movie_ORG.mkv\n",
            " None\n",
            "Terminator.4.Salvation.2009.720p.BluRay.Film2Movie_ORG.mp4\n",
            " None\n",
            "Terminator.5. Genisys (2015) 1080p BrRip_AVADL.CoM.mkv\n",
            " None\n",
            "Terminator.6.Dark.Fate.2019.mkv\n",
            " None\n",
            "The.Babysitter.2017.WEB-DL.720p.MkvCage.mkv\n",
            " None\n",
            "The.Babysitter.Killer.Queen.2020.720p.WEB-DL.x265.10Bit.Pahe.DigiMoviez.mkv\n",
            " None\n",
            "The Christmas Chronicles 1.2018.1080p.WEB-DL.Farsi.Dubbed.mkv\n",
            " None\n",
            "The Christmas Chronicles 2.2020.720p.WEB-DL.x264.AAC.YTS.DigiMoviez.mp4\n",
            " None\n",
            "The.Equalizer.1.2014.720p.BluRay.Farsi.Dubbed.Film2Movie_ORG.mkv\n",
            " None\n",
            "The.Equalizer.2.2018.720p.x265.HEVC.Farsi.Dubbed.mkv\n",
            " None\n",
            "The Expendables 2.2012.BluRay 720p.(FOX-DL).mkv\n",
            " None\n",
            "The Expendables 3 (2014) BluRay 720p Downloado.ir.mkv\n",
            " None\n",
            "The.Expendables.1.2010.720p.Bluray.[MovieCenter].mkv\n",
            " None\n",
            "The.Hobbit.1.An.Unexpected.Journey.2012.EXTENDED.720p.ShAaNiG.Farsi.Dubbed.mkv\n",
            " None\n",
            "The.Hobbit.2.The.Desolation.of.Smaug.Extended.Edition.2013.720p.Exclusive.Farsi.Dubbed.mkv\n",
            " None\n",
            "The.Hobbit.3.The.Battle.of.The.Five.Armies.2014.EXTENDED.720p.Farsi.Dubbed.mkv\n",
            " None\n",
            "The Hunger Games.1.2012.BluRay.1080p.Dobleh.mkv\n",
            " None\n",
            "The Hunger Games.2.Catching Fire 2013 720p Farsi Dubbed_(Film2serial.IR).mkv\n",
            " None\n",
            "The Hunger Games.3.Mockingjay.Part.1.2014.720p.Farsi.Dubbed.mkv\n",
            " None\n",
            "The Hunger Games.4.Mockingjay.Part.2.2015.BluRay.720p.Dubbed.FA.mkv\n",
            " None\n",
            "The.Lord.of.the.Rings.The.Fellowship.of.the.Ring.2001.720p.Farsi.Dubbed.mkv\n",
            " None\n",
            "The.Lord.of.the.Rings.The.Return.of.the.King.2003.720p.Farsi.Dubbed.mkv\n",
            " None\n",
            "The.Lord.of.the.Rings.The.Two.Towers.2002.720p.Farsi.Dubbed.mkv\n",
            " None\n",
            "The.Matrix.1999.2160p.10bit.HDR.BluRay.8CH.x265.HEVC.PSA.MrMovie.mkv\n",
            " None\n",
            "The.Matrix.Reloaded.2003.1080p.BluRay.ETRG.MrMovie.mp4\n",
            " None\n",
            "The.Matrix.Resurrections.2021.1080p.WEB-DL.RARBG.mkv\n",
            " None\n",
            "The.Matrix.Revolutions.2003.1080p.BluRay.ETRG.MrMovie.mp4\n",
            " None\n",
            "The.Raid.1.Redemption.2011.720p.BluRay.Farsi.Dubbed.Film2Movie_ORG.mkv\n",
            " None\n",
            "The.Raid.2.Berandal.2014.720p.Ganool.mkv\n",
            " None\n",
            "The Ring (2002) [HD].mkv\n",
            " None\n",
            "The Ring Three (2017) [HD].mkv\n",
            " None\n",
            "The Ring Two (2005) [HD].mkv\n",
            " None\n",
            "Thor.1.2011.720p.BluRay.2CH.x265.HEVC.Dubbed.FA.mkv\n",
            " None\n",
            "Thor.2.The Dark World.2013.Bluray 720p_downloado.ir.mkv\n",
            " None\n",
            "Thor.3.Ragnarok.2017.1080p.wb-dl.x265.HEVC.Film2Movie_CO.mkv\n",
            " None\n",
            "Transformers.1.2007.Bluray.1080p.Farsi.Dubbed.mkv\n",
            " None\n",
            "Transformers.2.Revenge.of.the.Fallen.2009.1080p.Farsi.Dubbed.mkv\n",
            " None\n",
            "Transformers.3.Dark.of.the.Moon.2011.Bluray.1080p.mkv\n",
            " None\n",
            "Transformers.4.Age_of_Extinction_2014_720p_Farsi_Dubbed_(DibaMovie).mkv\n",
            " None\n",
            "Transformers.5.The.Last.Knight.2017.720p.MkvCage.Dubbed.Farsi.mkv\n",
            " None\n",
            "Transformers.6.Bumblebee.2018.720p.WEB-DL.x265.PSA.mkv\n",
            " None\n",
            "Twilight.1.2008.720p.BluRay.LianMovie.mkv\n",
            " None\n",
            "Twilight.2. Saga New Moon (2009) [HD].mkv\n",
            " None\n",
            "Twilight.4.Saga Breaking Dawn – Part 1 (2011) [HD].mkv\n",
            " None\n",
            "Twilight.5.Saga Breaking Dawn – Part 2 (2012) [HD].mkv\n",
            " None\n",
            "Twilight3.Saga Eclipse (2010) [HD].mkv\n",
            " None\n",
            "Undisputed.1.2002.720p.(MovieCenter).mkv\n",
            " None\n",
            "Undisputed.2.Last.Man.Standing.2006.720p.Farsi.Dubbed.mkv\n",
            " None\n",
            "Undisputed.3.Redemption.2010.1080p.Farsi.Dubbed.mkv\n",
            " None\n",
            "Undisputed.4.2016.WEBrip.1080p.Dubbed.Farsi.mkv\n",
            " None\n",
            "Venom.2018.1080p.HDRip.6CH.x265.Hunter.mkv\n",
            " None\n",
            "Venom.Let.There.Be.Carnage.2021.1080p.mkv\n",
            " None\n",
            "Wonder.Woman.1.2017.720p.Farsi.Dubbed-[RubixFa.com].mkv\n",
            " None\n",
            "Wonder.Woman.2.1984.2020.IMAX.1080p.WEB-DL.6CH.x265.TMKV.mkv\n",
            " None\n",
            "X Men.1.mkv\n",
            " None\n",
            "X Men.10.Dark Phoenix.2019.1080p.6CH.x265.RMTeam.mkv\n",
            " None\n",
            "X Men.2.720p.FardaDownload_ir.mkv\n",
            " None\n",
            "X Men.3.720p.FardaDownload_ir.mkv\n",
            " None\n",
            "X Men.4.Origins.Wolverine.2009.720p.Farsi.Dubbed.mkv\n",
            " None\n",
            "X Men.5.First.Class.720p..FardaDownload_ir.mkv\n",
            " None\n",
            "X Men.6.The Wolverine (2013) EXTENDED BluRay 720p x264_downloado.ir.mkv\n",
            " None\n",
            "X Men.7.Days.of.Future.Past.2014.Rogue.720p.Cut.Exclusive.Farsi.Dubbed.mkv\n",
            " None\n",
            "X Men.8.Apocalypse.2016.720p.BluRay.x264.ShAaNiG_bia4movie.com.mkv\n",
            " None\n",
            "X Men.9.Logan.2017.Bluray.1080p.Farsi.Dubbed.mkv\n",
            " None\n",
            "Zombieland.2009.720p.Farsi.Dubbed.mkv\n",
            " None\n",
            "Zombieland.Double.Tap.2019.720p.BluRay.AAC.RARBG.MrMovie.mp4\n",
            " None\n",
            "chahar_angost.mp4\n",
            " None\n",
            "clup hamsarab.mp4\n",
            " None\n",
            "JanJal Dar Aroosi_UPTV.co.mkv\n",
            " None\n",
            "Marmoulak_UPTV.tv.mkv\n",
            " None\n",
            "Muhammad-Bluray_1080.mp4\n",
            " None\n",
            "Red.Carpet.2014.DVDrip.mkv\n",
            " None\n",
            "Texas-HQ_1080.mp4\n",
            " None\n",
            "Texas2-1080.mp4\n",
            " None\n",
            "Vantafeh.1080p.HDTV.mkv\n",
            " None\n",
            "zahrmar.mp4\n",
            " None\n",
            "Allegiant_2016_720p_x265_Farsi_Dubbed_(DibaMovie).mkv\n",
            " None\n",
            "Divergent.2014.Bluray.720p.Farsi.Dubbed.mkv\n",
            " None\n",
            "Insurgent.2015.Bluray.720p.Dubbed.Farsi.mkv\n",
            " None\n"
          ]
        }
      ]
    },
    {
      "cell_type": "code",
      "source": [
        "ss = \"\"\"\n",
        "The Ring Two (2005) [HD].mkv\n",
        "Thor.1.2011.720p.BluRay.2CH.x265.HEVC.Dubbed.FA.mkv\n",
        "Thor.2.The Dark World.2013.Bluray 720p_downloado.ir.mkv\n",
        "Thor.3.Ragnarok.2017.1080p.wb-dl.x265.HEVC.Film2Movie_CO.mkv\n",
        "Transformers.1.1955.Bluray.1080p.Farsi.Dubbed.mkv\n",
        "Transformers.2.Revenge.of.the.Fallen.2009.1080p.Farsi.Dubbed.mkv\n",
        "Transformers.3.Dark.of.the.Moon.2011.Bluray.1080p.mkv\n",
        "Transformers.4.Age_of_Extinction_2014_720p_Farsi_Dubbed_(DibaMovie).mkv\n",
        "Transformers.5.The.Last.Knight.2017.720p.MkvCage.Dubbed.Farsi.mkv\n",
        "Transformers.6.Bumblebee.2018.720p.WEB-DL.x265.PSA.mkv\n",
        "Twilight.1.2008.720p.BluRay.LianMovie.mkv\n",
        "Twilight.2. Saga New Moon (2009) [HD].mkv\n",
        "Twilight.4.Saga Breaking Dawn – Part 1 (2011) [HD].mkv\n",
        "Twilight.5.Saga Breaking Dawn – Part 2 (2012) [HD].mkv\n",
        "Twilight3.Saga Eclipse (1983) [HD].mkv\n",
        "Undisputed.1.2002.720p.(MovieCenter).mkv\n",
        "Undisputed.2.Last.Man.Standing.2006.720p.Farsi.Dubbed.mkv\n",
        "Undisputed.3.Redemption.2010.1080p.Farsi.Dubbed.mkv\n",
        "Undisputed.4.2016.WEBrip.1080p.Dubbed.Farsi.mkv\n",
        "\"\"\""
      ],
      "metadata": {
        "id": "ydfDoBugT-mg"
      },
      "execution_count": 17,
      "outputs": []
    },
    {
      "cell_type": "code",
      "source": [
        "pattern = re.compile(r'[20\\d{3}|19\\d{3}]')\n",
        "re.findall(pattern, ss)"
      ],
      "metadata": {
        "id": "KeVuIWE2UY5B",
        "colab": {
          "base_uri": "https://localhost:8080/"
        },
        "outputId": "1c825d16-ec50-4ba8-b143-a983522bc94b"
      },
      "execution_count": 18,
      "outputs": [
        {
          "output_type": "execute_result",
          "data": {
            "text/plain": [
              "['2',\n",
              " '0',\n",
              " '0',\n",
              " '5',\n",
              " '1',\n",
              " '2',\n",
              " '0',\n",
              " '1',\n",
              " '1',\n",
              " '7',\n",
              " '2',\n",
              " '0',\n",
              " '2',\n",
              " '2',\n",
              " '6',\n",
              " '5',\n",
              " '2',\n",
              " '2',\n",
              " '0',\n",
              " '1',\n",
              " '3',\n",
              " '7',\n",
              " '2',\n",
              " '0',\n",
              " '3',\n",
              " '2',\n",
              " '0',\n",
              " '1',\n",
              " '7',\n",
              " '1',\n",
              " '0',\n",
              " '8',\n",
              " '0',\n",
              " '2',\n",
              " '6',\n",
              " '5',\n",
              " '2',\n",
              " '1',\n",
              " '1',\n",
              " '9',\n",
              " '5',\n",
              " '5',\n",
              " '1',\n",
              " '0',\n",
              " '8',\n",
              " '0',\n",
              " '2',\n",
              " '2',\n",
              " '0',\n",
              " '0',\n",
              " '9',\n",
              " '1',\n",
              " '0',\n",
              " '8',\n",
              " '0',\n",
              " '3',\n",
              " '2',\n",
              " '0',\n",
              " '1',\n",
              " '1',\n",
              " '1',\n",
              " '0',\n",
              " '8',\n",
              " '0',\n",
              " '4',\n",
              " '2',\n",
              " '0',\n",
              " '1',\n",
              " '4',\n",
              " '7',\n",
              " '2',\n",
              " '0',\n",
              " '5',\n",
              " '2',\n",
              " '0',\n",
              " '1',\n",
              " '7',\n",
              " '7',\n",
              " '2',\n",
              " '0',\n",
              " '6',\n",
              " '2',\n",
              " '0',\n",
              " '1',\n",
              " '8',\n",
              " '7',\n",
              " '2',\n",
              " '0',\n",
              " '2',\n",
              " '6',\n",
              " '5',\n",
              " '1',\n",
              " '2',\n",
              " '0',\n",
              " '0',\n",
              " '8',\n",
              " '7',\n",
              " '2',\n",
              " '0',\n",
              " '2',\n",
              " '2',\n",
              " '0',\n",
              " '0',\n",
              " '9',\n",
              " '4',\n",
              " '1',\n",
              " '2',\n",
              " '0',\n",
              " '1',\n",
              " '1',\n",
              " '5',\n",
              " '2',\n",
              " '2',\n",
              " '0',\n",
              " '1',\n",
              " '2',\n",
              " '3',\n",
              " '1',\n",
              " '9',\n",
              " '8',\n",
              " '3',\n",
              " '1',\n",
              " '2',\n",
              " '0',\n",
              " '0',\n",
              " '2',\n",
              " '7',\n",
              " '2',\n",
              " '0',\n",
              " '2',\n",
              " '2',\n",
              " '0',\n",
              " '0',\n",
              " '6',\n",
              " '7',\n",
              " '2',\n",
              " '0',\n",
              " '3',\n",
              " '2',\n",
              " '0',\n",
              " '1',\n",
              " '0',\n",
              " '1',\n",
              " '0',\n",
              " '8',\n",
              " '0',\n",
              " '4',\n",
              " '2',\n",
              " '0',\n",
              " '1',\n",
              " '6',\n",
              " '1',\n",
              " '0',\n",
              " '8',\n",
              " '0']"
            ]
          },
          "metadata": {},
          "execution_count": 18
        }
      ]
    },
    {
      "cell_type": "code",
      "source": [
        "pattern = re.compile(r'20\\d{2}')\n",
        "re.findall(pattern, ss)"
      ],
      "metadata": {
        "id": "F_2bgIc9VbJ4",
        "colab": {
          "base_uri": "https://localhost:8080/"
        },
        "outputId": "d848fda8-f14d-4ab9-d34c-c8ef6e88c733"
      },
      "execution_count": 19,
      "outputs": [
        {
          "output_type": "execute_result",
          "data": {
            "text/plain": [
              "['2005',\n",
              " '2011',\n",
              " '2013',\n",
              " '2017',\n",
              " '2009',\n",
              " '2011',\n",
              " '2014',\n",
              " '2017',\n",
              " '2018',\n",
              " '2008',\n",
              " '2009',\n",
              " '2011',\n",
              " '2012',\n",
              " '2002',\n",
              " '2006',\n",
              " '2010',\n",
              " '2016']"
            ]
          },
          "metadata": {},
          "execution_count": 19
        }
      ]
    },
    {
      "cell_type": "code",
      "source": [
        "pattern = re.compile(r'19\\d{2}')\n",
        "re.findall(pattern, ss)"
      ],
      "metadata": {
        "colab": {
          "base_uri": "https://localhost:8080/"
        },
        "id": "Ty1ydT8e0vwM",
        "outputId": "3e2170af-dc00-437c-b6dd-7bf88d4b86e0"
      },
      "execution_count": 20,
      "outputs": [
        {
          "output_type": "execute_result",
          "data": {
            "text/plain": [
              "['1955', '1983']"
            ]
          },
          "metadata": {},
          "execution_count": 20
        }
      ]
    },
    {
      "cell_type": "code",
      "source": [
        "pattern = re.compile(r'[19|20]\\d{3}')\n",
        "re.findall(pattern, ss)"
      ],
      "metadata": {
        "colab": {
          "base_uri": "https://localhost:8080/"
        },
        "id": "dHqvz4xF2-S0",
        "outputId": "302c03bb-1a26-44e8-eb29-a0a9dd39d580"
      },
      "execution_count": 21,
      "outputs": [
        {
          "output_type": "execute_result",
          "data": {
            "text/plain": [
              "['2005',\n",
              " '2011',\n",
              " '2013',\n",
              " '2017',\n",
              " '1080',\n",
              " '1955',\n",
              " '1080',\n",
              " '2009',\n",
              " '1080',\n",
              " '2011',\n",
              " '1080',\n",
              " '2014',\n",
              " '2017',\n",
              " '2018',\n",
              " '2008',\n",
              " '2009',\n",
              " '2011',\n",
              " '2012',\n",
              " '1983',\n",
              " '2002',\n",
              " '2006',\n",
              " '2010',\n",
              " '1080',\n",
              " '2016',\n",
              " '1080']"
            ]
          },
          "metadata": {},
          "execution_count": 21
        }
      ]
    },
    {
      "cell_type": "code",
      "source": [
        "pattern = re.compile(r'(19)\\d{2}(?(1)\\d+|20)')\n",
        "re.findall(pattern, ss)"
      ],
      "metadata": {
        "id": "gJGyVS9EFDL7",
        "colab": {
          "base_uri": "https://localhost:8080/"
        },
        "outputId": "b3108dd3-2152-4810-ad20-7f97abef8c5f"
      },
      "execution_count": 22,
      "outputs": [
        {
          "output_type": "execute_result",
          "data": {
            "text/plain": [
              "[]"
            ]
          },
          "metadata": {},
          "execution_count": 22
        }
      ]
    },
    {
      "cell_type": "code",
      "source": [
        "words_str = '''\n",
        "[Added] jealous, /ˈdʒeləs/, حسود ، از روی حسادت ، رشکمندانه ، پاسدارانه ، مراقب, adj. envious[sound:envious.mp3], resentful of another's possessions or success; caused by envy or resentment; having envious or resentful feelings; zealous, vigilant; intolerant,  jealous.jpg , A detective was hired by the jealous widow to find the boyfriend who had abandoned her.,   بیوه زن حسود، کارآگاهی را استخدام کرد تا دوست پسرش را که او را ترک کرده بود ، پیدا کند., Although my neighbor just bought a new car I am not jealous of him.,   با اینکه همسایه ام به تازگی اتومبیل جدیدی خریده است، به او حسادت نمی کنم., Being jealous, Mona would not let her boyfriend dance with any of the cheerleaders.,   چون «مونا» حسود بود، اجازه نمی داد دوست پسرش با هیچ یک از معرکه گیرها برقصد.\n",
        "[Added] tact, /tækt/, مردم داری(مهارت در انجام کار یا گفتن سخن) ، تدبیر ، فراست, n. diplomacy[sound:diplomacy.mp3], ability to skillfully deal with people, finesse; sense of what is proper or appropriate, taste, discretion,  tact.jpg , My aunt never hurts anyone's feeling because she always uses tact.,   خاله ام هرگز احساسات کسی را جریحه دار نمی کند، چون همیشه تدبیر به کار می برد., By the use of tact, Janet was able to calm her jealous husband.,  «ژانت» توانست با استفاده از تدبیر، شوهر حسودش را آرام کند., Your friends will admire you if you use tact and thoughtfulness.,  اگر تدبیر و تفکر بکار ببرید، دوستانتان شما را تحسین میکنند.\n",
        "[Added] oath, /əʊθ $ oʊθ/, سوگند ، پیمان، قسم خوردن، دشنام ، ناسزا, n. solemn vow; words of a solemn promise; curse,  oath.jpg , The president will take the oath of office tomorrow.,   فردا رئیس جمهور سوگند اداری می خورد., In court the witness took an oath that he would tell the whole truth.,   در دادگاه شاهد سوگند یاد کرد که تمام حقیقت را بگوید., When Terry discovered that he had been abandoned, he let out an angry oath. ,   وقتی «تری» فهمید که او را ترک کرده اند، از روی عصبانیت دشنام داد.\n",
        "[Added] vacant, /ˈveɪkənt/, خالی ، (وقت) آزاد ، بیخیال ، منگ ، ابله ، (حقوق- ارث ملک و غیره) بی مدعی, adj. empty[sound:empty.mp3], unfilled; unoccupied; not in use; lacking expression; not claimed (e.g. an inheritance),  vacant.jpg , Someone is planning to build a house on that vacant lot., شخصی قصد دارد روی آن تکه زمین خالی یک خانه بسازد., I put my coat on that vacant seat.,   کتم را روی آن صندلی خالی گذاشتم., When the landlord broke in, he found that apartment vacant.,   وقتی صاحب خانه با شکستن در وارد شد، آپارتمان را خالی یافت.\n",
        "[Added] hardship, /ˈhɑːdʃɪp $ ˈhɑːrd-/, سختی ، مشقت, n. difficulty[sound:difficulty.mp3], suffering[sound:suffering.mp3], trouble, adversity, tribulation,  paste-127620658233345.jpg , The fighter had to face many hardships before he became a champion.,   جنگجو پیش از آنکه قهرمان شود، مجبور بود با سختی های زیادی روبرو شود., Abe Lincoln was able to overcome one hardship after another.,   «ابی لینکلن» قادر بود بر مشکلات یکی پس از دیگری فائق آید., On account of hardship, Bert was let out of the army to take care of his sick mother.,  «بِرت» بدلیل مشکلاتش اجازه یافت ارتش را ترک کند تا از مادر بیمارش مراقبت نماید.\n",
        "'''"
      ],
      "metadata": {
        "id": "DgH6-oiux6gZ"
      },
      "execution_count": 23,
      "outputs": []
    },
    {
      "cell_type": "code",
      "source": [
        "re.findall(r'[Added]\\w+,', words_str)"
      ],
      "metadata": {
        "id": "OZnMyjrUEvs9",
        "colab": {
          "base_uri": "https://localhost:8080/"
        },
        "outputId": "a43922a0-3693-4635-f353-c88640d48635"
      },
      "execution_count": 24,
      "outputs": [
        {
          "output_type": "execute_result",
          "data": {
            "text/plain": [
              "['ealous,',\n",
              " 'ealous,',\n",
              " 'erant,',\n",
              " 'ealous,',\n",
              " 'eople,',\n",
              " 'discretion,',\n",
              " 'doned,',\n",
              " 'dship,',\n",
              " 'dversity,',\n",
              " 'dship,']"
            ]
          },
          "metadata": {},
          "execution_count": 24
        }
      ]
    },
    {
      "cell_type": "code",
      "source": [
        "re.findall(r'[Added](\\w+),', words_str)"
      ],
      "metadata": {
        "colab": {
          "base_uri": "https://localhost:8080/"
        },
        "id": "J8l44VFYnRX1",
        "outputId": "9e1a93da-4f6d-4987-a9d0-a6eb7373a782"
      },
      "execution_count": 25,
      "outputs": [
        {
          "output_type": "execute_result",
          "data": {
            "text/plain": [
              "['alous',\n",
              " 'alous',\n",
              " 'rant',\n",
              " 'alous',\n",
              " 'ople',\n",
              " 'iscretion',\n",
              " 'oned',\n",
              " 'ship',\n",
              " 'versity',\n",
              " 'ship']"
            ]
          },
          "metadata": {},
          "execution_count": 25
        }
      ]
    },
    {
      "cell_type": "code",
      "source": [
        "re.findall(r'[Added] (\\w+),', words_str)"
      ],
      "metadata": {
        "colab": {
          "base_uri": "https://localhost:8080/"
        },
        "id": "fx9YkO0bofwF",
        "outputId": "da1f341a-d2be-46b8-fa70-5c95b428695e"
      },
      "execution_count": 26,
      "outputs": [
        {
          "output_type": "execute_result",
          "data": {
            "text/plain": [
              "['in']"
            ]
          },
          "metadata": {},
          "execution_count": 26
        }
      ]
    },
    {
      "cell_type": "code",
      "source": [
        "words_str.find('[Added]')"
      ],
      "metadata": {
        "colab": {
          "base_uri": "https://localhost:8080/"
        },
        "id": "aguSyHAtoxJ-",
        "outputId": "32071fe5-dac8-449a-90db-8e51205412d9"
      },
      "execution_count": 27,
      "outputs": [
        {
          "output_type": "execute_result",
          "data": {
            "text/plain": [
              "1"
            ]
          },
          "metadata": {},
          "execution_count": 27
        }
      ]
    },
    {
      "cell_type": "code",
      "source": [
        "words_str.find('Added', 2)"
      ],
      "metadata": {
        "colab": {
          "base_uri": "https://localhost:8080/"
        },
        "id": "HfR5JPoPo4xa",
        "outputId": "960282ed-a4d1-476a-fb1e-fbe2e1d8a2b2"
      },
      "execution_count": 28,
      "outputs": [
        {
          "output_type": "execute_result",
          "data": {
            "text/plain": [
              "2"
            ]
          },
          "metadata": {},
          "execution_count": 28
        }
      ]
    },
    {
      "cell_type": "code",
      "source": [
        "i=0\n",
        "while i!= -1:\n",
        "   i = words_str.find('[Added]', i)\n",
        "   print(i)\n",
        "   break"
      ],
      "metadata": {
        "colab": {
          "base_uri": "https://localhost:8080/"
        },
        "id": "qdZinLMGpQoa",
        "outputId": "b3633567-3ee1-4e57-ad56-2a9077e32e9e"
      },
      "execution_count": 29,
      "outputs": [
        {
          "output_type": "stream",
          "name": "stdout",
          "text": [
            "1\n"
          ]
        }
      ]
    },
    {
      "cell_type": "code",
      "source": [
        "re.findall(r'(\\[Added\\])+', words_str)"
      ],
      "metadata": {
        "id": "mMOxeJnEsLXJ",
        "colab": {
          "base_uri": "https://localhost:8080/"
        },
        "outputId": "0fea7549-b174-499d-a998-fd2702a9c0df"
      },
      "execution_count": 30,
      "outputs": [
        {
          "output_type": "execute_result",
          "data": {
            "text/plain": [
              "['[Added]', '[Added]', '[Added]', '[Added]', '[Added]']"
            ]
          },
          "metadata": {},
          "execution_count": 30
        }
      ]
    },
    {
      "cell_type": "code",
      "source": [
        "maches = re.findall(r'\\[Added\\]\\s(\\w+),', words_str)"
      ],
      "metadata": {
        "id": "g_oYQARAxqkn"
      },
      "execution_count": 31,
      "outputs": []
    },
    {
      "cell_type": "code",
      "source": [
        "maches"
      ],
      "metadata": {
        "colab": {
          "base_uri": "https://localhost:8080/"
        },
        "id": "Ek1qgKr1x6q0",
        "outputId": "2dda2da2-79f9-4bc6-b809-a25cf54fbce6"
      },
      "execution_count": 32,
      "outputs": [
        {
          "output_type": "execute_result",
          "data": {
            "text/plain": [
              "['jealous', 'tact', 'oath', 'vacant', 'hardship']"
            ]
          },
          "metadata": {},
          "execution_count": 32
        }
      ]
    },
    {
      "cell_type": "code",
      "source": [
        "for m in re.findall(r'\\[Added\\]\\s(\\w+),', words_str):\n",
        "  print(m)"
      ],
      "metadata": {
        "colab": {
          "base_uri": "https://localhost:8080/"
        },
        "id": "T2JdZTg7tMul",
        "outputId": "5f954a59-9276-413c-d6ae-05ec2e91683a"
      },
      "execution_count": 33,
      "outputs": [
        {
          "output_type": "stream",
          "name": "stdout",
          "text": [
            "jealous\n",
            "tact\n",
            "oath\n",
            "vacant\n",
            "hardship\n"
          ]
        }
      ]
    },
    {
      "cell_type": "code",
      "source": [
        "for m in re.finditer(r'\\[Added\\]\\s(\\w+),', words_str):\n",
        "  print(m.span())"
      ],
      "metadata": {
        "colab": {
          "base_uri": "https://localhost:8080/"
        },
        "id": "k-gMDhTjtgqM",
        "outputId": "935cc141-afd3-4cb5-e85e-fd1273705aec"
      },
      "execution_count": 34,
      "outputs": [
        {
          "output_type": "stream",
          "name": "stdout",
          "text": [
            "(1, 17)\n",
            "(766, 779)\n",
            "(1404, 1417)\n",
            "(1900, 1915)\n",
            "(2437, 2454)\n"
          ]
        }
      ]
    },
    {
      "cell_type": "code",
      "source": [
        "name = 'esi'\n",
        "lastname = 'alamdari'"
      ],
      "metadata": {
        "id": "INAdnmAXRUGR"
      },
      "execution_count": 35,
      "outputs": []
    },
    {
      "cell_type": "code",
      "source": [
        "print(f\"{name:{10}} {lastname:{20}}\")"
      ],
      "metadata": {
        "id": "rzNILPDTzHZE",
        "colab": {
          "base_uri": "https://localhost:8080/"
        },
        "outputId": "0968fca0-7d37-4f91-86ab-11d893c57433"
      },
      "execution_count": 36,
      "outputs": [
        {
          "output_type": "stream",
          "name": "stdout",
          "text": [
            "esi        alamdari            \n"
          ]
        }
      ]
    },
    {
      "cell_type": "code",
      "source": [
        "print(f\"{name:{10}} {lastname:>{20}}\")"
      ],
      "metadata": {
        "colab": {
          "base_uri": "https://localhost:8080/"
        },
        "id": "txiCBl6WRXV4",
        "outputId": "ac8369ce-7dc2-4e31-8f30-04f5d6f14655"
      },
      "execution_count": 37,
      "outputs": [
        {
          "output_type": "stream",
          "name": "stdout",
          "text": [
            "esi                    alamdari\n"
          ]
        }
      ]
    },
    {
      "cell_type": "code",
      "source": [
        "temp_str2=f\"{name:{10}} {lastname:>{20}}\""
      ],
      "metadata": {
        "id": "XvUskd1dSnGa"
      },
      "execution_count": 38,
      "outputs": []
    },
    {
      "cell_type": "code",
      "source": [
        "print(f\"{name:{10}} {lastname:.>{20}}\")"
      ],
      "metadata": {
        "colab": {
          "base_uri": "https://localhost:8080/"
        },
        "id": "ar7r0i_9RlVs",
        "outputId": "2df5dc6a-f28b-43b3-c6f4-300047ef157c"
      },
      "execution_count": 39,
      "outputs": [
        {
          "output_type": "stream",
          "name": "stdout",
          "text": [
            "esi        ............alamdari\n"
          ]
        }
      ]
    },
    {
      "cell_type": "code",
      "source": [
        "print(f\"{name:{10}} {lastname:t>{20}}\")"
      ],
      "metadata": {
        "colab": {
          "base_uri": "https://localhost:8080/"
        },
        "id": "Uyyn-NvxRtHw",
        "outputId": "bf7819af-d4a5-467e-e459-c1a48d2047dc"
      },
      "execution_count": 40,
      "outputs": [
        {
          "output_type": "stream",
          "name": "stdout",
          "text": [
            "esi        ttttttttttttalamdari\n"
          ]
        }
      ]
    },
    {
      "cell_type": "code",
      "source": [
        "print(f\"{name:{10}} {lastname:->{20}}\")"
      ],
      "metadata": {
        "colab": {
          "base_uri": "https://localhost:8080/"
        },
        "id": "lOwKhLWRRvXd",
        "outputId": "1abe9885-3c2c-4c82-a651-2354dd4d60fa"
      },
      "execution_count": 41,
      "outputs": [
        {
          "output_type": "stream",
          "name": "stdout",
          "text": [
            "esi        ------------alamdari\n"
          ]
        }
      ]
    },
    {
      "cell_type": "code",
      "source": [
        "temp_str = f\"{name:{10}} {lastname:->{20}}\""
      ],
      "metadata": {
        "id": "K8W86R8oRyKP"
      },
      "execution_count": 42,
      "outputs": []
    },
    {
      "cell_type": "code",
      "source": [
        "re.findall('\\s', temp_str)"
      ],
      "metadata": {
        "colab": {
          "base_uri": "https://localhost:8080/"
        },
        "id": "YGuC1Lz-R9fA",
        "outputId": "c8d69599-645f-4bab-8cfa-5250031e6652"
      },
      "execution_count": 43,
      "outputs": [
        {
          "output_type": "execute_result",
          "data": {
            "text/plain": [
              "[' ', ' ', ' ', ' ', ' ', ' ', ' ', ' ']"
            ]
          },
          "metadata": {},
          "execution_count": 43
        }
      ]
    },
    {
      "cell_type": "code",
      "source": [
        "spaces_count = len(re.findall('\\s', temp_str))\n",
        "spaces_count"
      ],
      "metadata": {
        "colab": {
          "base_uri": "https://localhost:8080/"
        },
        "id": "95aeV3IYSGAE",
        "outputId": "935d12f0-a1f9-4b4c-f310-93ca78452958"
      },
      "execution_count": 44,
      "outputs": [
        {
          "output_type": "execute_result",
          "data": {
            "text/plain": [
              "8"
            ]
          },
          "metadata": {},
          "execution_count": 44
        }
      ]
    },
    {
      "cell_type": "code",
      "source": [
        "len(temp_str)"
      ],
      "metadata": {
        "colab": {
          "base_uri": "https://localhost:8080/"
        },
        "id": "tD6AvJ0UTKwp",
        "outputId": "8ee6c0c8-7be8-495d-9f92-5fe4d0baa36f"
      },
      "execution_count": 45,
      "outputs": [
        {
          "output_type": "execute_result",
          "data": {
            "text/plain": [
              "31"
            ]
          },
          "metadata": {},
          "execution_count": 45
        }
      ]
    },
    {
      "cell_type": "code",
      "source": [
        "len('esi')"
      ],
      "metadata": {
        "colab": {
          "base_uri": "https://localhost:8080/"
        },
        "id": "XUKdIh_vSQts",
        "outputId": "67e83253-4627-4744-f047-97dcd6132d00"
      },
      "execution_count": 46,
      "outputs": [
        {
          "output_type": "execute_result",
          "data": {
            "text/plain": [
              "3"
            ]
          },
          "metadata": {},
          "execution_count": 46
        }
      ]
    },
    {
      "cell_type": "code",
      "source": [
        "len('esi') + spaces_count"
      ],
      "metadata": {
        "colab": {
          "base_uri": "https://localhost:8080/"
        },
        "id": "2FtQAPxeSdY7",
        "outputId": "aff07fe4-87f1-44ea-d180-a800e96b84a0"
      },
      "execution_count": 47,
      "outputs": [
        {
          "output_type": "execute_result",
          "data": {
            "text/plain": [
              "11"
            ]
          },
          "metadata": {},
          "execution_count": 47
        }
      ]
    },
    {
      "cell_type": "code",
      "source": [
        "space_count_2 = len(re.findall('\\s', temp_str2))"
      ],
      "metadata": {
        "id": "sJ9RAWGZSe5C"
      },
      "execution_count": 48,
      "outputs": []
    },
    {
      "cell_type": "code",
      "source": [
        "space_count_2"
      ],
      "metadata": {
        "colab": {
          "base_uri": "https://localhost:8080/"
        },
        "id": "Yj5wVx-kStkb",
        "outputId": "c2af46ab-4ae7-4b88-fdde-351e56b681f0"
      },
      "execution_count": 49,
      "outputs": [
        {
          "output_type": "execute_result",
          "data": {
            "text/plain": [
              "20"
            ]
          },
          "metadata": {},
          "execution_count": 49
        }
      ]
    },
    {
      "cell_type": "code",
      "source": [
        "len(temp_str2)"
      ],
      "metadata": {
        "colab": {
          "base_uri": "https://localhost:8080/"
        },
        "id": "Gg1tDIi2S6Ba",
        "outputId": "67f09412-b3e2-4907-cacf-4ef42db5308a"
      },
      "execution_count": 50,
      "outputs": [
        {
          "output_type": "execute_result",
          "data": {
            "text/plain": [
              "31"
            ]
          },
          "metadata": {},
          "execution_count": 50
        }
      ]
    },
    {
      "cell_type": "code",
      "source": [
        "len('esi') + len(lastname)"
      ],
      "metadata": {
        "colab": {
          "base_uri": "https://localhost:8080/"
        },
        "id": "WpEo8zGWTCVF",
        "outputId": "f8292ef6-cc5e-4124-8fff-e56974e30561"
      },
      "execution_count": 51,
      "outputs": [
        {
          "output_type": "execute_result",
          "data": {
            "text/plain": [
              "11"
            ]
          },
          "metadata": {},
          "execution_count": 51
        }
      ]
    },
    {
      "cell_type": "markdown",
      "source": [
        "https://strftime.org/"
      ],
      "metadata": {
        "id": "DqoBQ0NqTmXY"
      }
    },
    {
      "cell_type": "code",
      "source": [
        "import datetime"
      ],
      "metadata": {
        "id": "eYJsPDJeTG83"
      },
      "execution_count": 52,
      "outputs": []
    },
    {
      "cell_type": "code",
      "source": [
        "today = datetime.datetime(year=2020, month=5, day=7)"
      ],
      "metadata": {
        "id": "SKFl815sTq46"
      },
      "execution_count": 53,
      "outputs": []
    },
    {
      "cell_type": "code",
      "source": [
        "today"
      ],
      "metadata": {
        "colab": {
          "base_uri": "https://localhost:8080/"
        },
        "id": "2rq5Uzk7T3e3",
        "outputId": "00bb7581-57ba-4493-da25-9a1e44675411"
      },
      "execution_count": 54,
      "outputs": [
        {
          "output_type": "execute_result",
          "data": {
            "text/plain": [
              "datetime.datetime(2020, 5, 7, 0, 0)"
            ]
          },
          "metadata": {},
          "execution_count": 54
        }
      ]
    },
    {
      "cell_type": "code",
      "source": [
        "print(f'The Date is: {today}')"
      ],
      "metadata": {
        "colab": {
          "base_uri": "https://localhost:8080/"
        },
        "id": "6U64dVN0T4d5",
        "outputId": "bb2e4874-4c8c-4c33-85b0-b12515bae2ae"
      },
      "execution_count": 55,
      "outputs": [
        {
          "output_type": "stream",
          "name": "stdout",
          "text": [
            "The Date is: 2020-05-07 00:00:00\n"
          ]
        }
      ]
    },
    {
      "cell_type": "code",
      "source": [
        "print(f'The Date is: {today:%B}')"
      ],
      "metadata": {
        "colab": {
          "base_uri": "https://localhost:8080/"
        },
        "id": "ZwpgBiJcT96U",
        "outputId": "57c315c6-d6e4-4f48-8567-6563a2fc5952"
      },
      "execution_count": 56,
      "outputs": [
        {
          "output_type": "stream",
          "name": "stdout",
          "text": [
            "The Date is: May\n"
          ]
        }
      ]
    },
    {
      "cell_type": "code",
      "source": [
        "print(f'The Date is: {today:%x}')"
      ],
      "metadata": {
        "colab": {
          "base_uri": "https://localhost:8080/"
        },
        "id": "QxeXsXyjUCT9",
        "outputId": "4ee986ae-3744-47c7-b29a-a8262daf6bdb"
      },
      "execution_count": 57,
      "outputs": [
        {
          "output_type": "stream",
          "name": "stdout",
          "text": [
            "The Date is: 05/07/20\n"
          ]
        }
      ]
    },
    {
      "cell_type": "code",
      "source": [
        "print(f'The Date is: {today:%B %d, %Y}')"
      ],
      "metadata": {
        "colab": {
          "base_uri": "https://localhost:8080/"
        },
        "id": "amDCiP2QURy2",
        "outputId": "f3ef97b5-d96e-4c22-884a-20c7a83da293"
      },
      "execution_count": 58,
      "outputs": [
        {
          "output_type": "stream",
          "name": "stdout",
          "text": [
            "The Date is: May 07, 2020\n"
          ]
        }
      ]
    },
    {
      "cell_type": "markdown",
      "source": [
        "Write a Text File"
      ],
      "metadata": {
        "id": "P-uawxcKVcTL"
      }
    },
    {
      "cell_type": "code",
      "source": [
        "%%writefile practice.txt\n",
        "This file is only for practice,\n",
        "it is a good way to excel"
      ],
      "metadata": {
        "colab": {
          "base_uri": "https://localhost:8080/"
        },
        "id": "4eQ5MLdLUaVM",
        "outputId": "a52fb930-fd54-4348-9ba7-c620242c69a2"
      },
      "execution_count": 59,
      "outputs": [
        {
          "output_type": "stream",
          "name": "stdout",
          "text": [
            "Writing practice.txt\n"
          ]
        }
      ]
    },
    {
      "cell_type": "code",
      "source": [
        "with open('practice.txt') as f:\n",
        "  t = f.read()\n",
        "  s = f.read()\n",
        "  f.seek(0) #### It seeks pointer to index=0 of file\n",
        "  b = f.read()"
      ],
      "metadata": {
        "id": "i7r9E1idVBrP"
      },
      "execution_count": 60,
      "outputs": []
    },
    {
      "cell_type": "code",
      "source": [
        "t"
      ],
      "metadata": {
        "colab": {
          "base_uri": "https://localhost:8080/",
          "height": 36
        },
        "id": "YZEwmu7LXmwv",
        "outputId": "dfaf3c0a-1be8-4389-c0bf-69f2c068c6c0"
      },
      "execution_count": 61,
      "outputs": [
        {
          "output_type": "execute_result",
          "data": {
            "text/plain": [
              "'This file is only for practice,\\nit is a good way to excel'"
            ],
            "application/vnd.google.colaboratory.intrinsic+json": {
              "type": "string"
            }
          },
          "metadata": {},
          "execution_count": 61
        }
      ]
    },
    {
      "cell_type": "code",
      "source": [
        "s"
      ],
      "metadata": {
        "colab": {
          "base_uri": "https://localhost:8080/",
          "height": 36
        },
        "id": "0YkYxtW_XnVW",
        "outputId": "49ab92d3-60e0-421a-93a8-9af604d040d0"
      },
      "execution_count": 62,
      "outputs": [
        {
          "output_type": "execute_result",
          "data": {
            "text/plain": [
              "''"
            ],
            "application/vnd.google.colaboratory.intrinsic+json": {
              "type": "string"
            }
          },
          "metadata": {},
          "execution_count": 62
        }
      ]
    },
    {
      "cell_type": "code",
      "source": [
        "b"
      ],
      "metadata": {
        "colab": {
          "base_uri": "https://localhost:8080/",
          "height": 36
        },
        "id": "O7G_-5pUXnnC",
        "outputId": "750dccff-fcd5-41da-ed4a-6682d7d25400"
      },
      "execution_count": 63,
      "outputs": [
        {
          "output_type": "execute_result",
          "data": {
            "text/plain": [
              "'This file is only for practice,\\nit is a good way to excel'"
            ],
            "application/vnd.google.colaboratory.intrinsic+json": {
              "type": "string"
            }
          },
          "metadata": {},
          "execution_count": 63
        }
      ]
    },
    {
      "cell_type": "code",
      "source": [
        "with open('practice.txt', 'a+') as f:\n",
        "  f.write(f'Hello, This is a new line in this Data: {today: %D}')"
      ],
      "metadata": {
        "id": "UGMiCHxOXn01"
      },
      "execution_count": 64,
      "outputs": []
    },
    {
      "cell_type": "code",
      "source": [
        "with open('practice.txt') as f:\n",
        "  print(f.read())"
      ],
      "metadata": {
        "colab": {
          "base_uri": "https://localhost:8080/"
        },
        "id": "9SQ_CtL3YAs4",
        "outputId": "eaf00c33-5bd6-4ab1-9fbe-d023c23eee05"
      },
      "execution_count": 65,
      "outputs": [
        {
          "output_type": "stream",
          "name": "stdout",
          "text": [
            "This file is only for practice,\n",
            "it is a good way to excelHello, This is a new line in this Data:  05/07/20\n"
          ]
        }
      ]
    },
    {
      "cell_type": "code",
      "source": [
        "!pip install PyPDF2\n",
        "import PyPDF2\n",
        "\n",
        "!wget https://london.ac.uk/sites/default/files/study-guides/introduction-to-natural-language-processing.pdf"
      ],
      "metadata": {
        "colab": {
          "base_uri": "https://localhost:8080/"
        },
        "id": "EXheykFCY5_o",
        "outputId": "399318d2-5fca-44c3-df8b-235f5edc264e"
      },
      "execution_count": 66,
      "outputs": [
        {
          "output_type": "stream",
          "name": "stdout",
          "text": [
            "Collecting PyPDF2\n",
            "  Downloading PyPDF2-1.27.12-py3-none-any.whl (80 kB)\n",
            "\u001b[?25l\r\u001b[K     |████                            | 10 kB 20.1 MB/s eta 0:00:01\r\u001b[K     |████████▏                       | 20 kB 21.3 MB/s eta 0:00:01\r\u001b[K     |████████████▎                   | 30 kB 9.3 MB/s eta 0:00:01\r\u001b[K     |████████████████▍               | 40 kB 8.3 MB/s eta 0:00:01\r\u001b[K     |████████████████████▌           | 51 kB 4.4 MB/s eta 0:00:01\r\u001b[K     |████████████████████████▋       | 61 kB 5.2 MB/s eta 0:00:01\r\u001b[K     |████████████████████████████▋   | 71 kB 4.7 MB/s eta 0:00:01\r\u001b[K     |████████████████████████████████| 80 kB 3.3 MB/s \n",
            "\u001b[?25hInstalling collected packages: PyPDF2\n",
            "Successfully installed PyPDF2-1.27.12\n",
            "--2022-05-05 15:46:31--  https://london.ac.uk/sites/default/files/study-guides/introduction-to-natural-language-processing.pdf\n",
            "Resolving london.ac.uk (london.ac.uk)... 128.86.130.42\n",
            "Connecting to london.ac.uk (london.ac.uk)|128.86.130.42|:443... connected.\n",
            "HTTP request sent, awaiting response... 200 OK\n",
            "Length: 204809 (200K) [application/pdf]\n",
            "Saving to: ‘introduction-to-natural-language-processing.pdf’\n",
            "\n",
            "introduction-to-nat 100%[===================>] 200.01K   755KB/s    in 0.3s    \n",
            "\n",
            "2022-05-05 15:46:32 (755 KB/s) - ‘introduction-to-natural-language-processing.pdf’ saved [204809/204809]\n",
            "\n"
          ]
        }
      ]
    },
    {
      "cell_type": "code",
      "source": [
        "myfile = open('introduction-to-natural-language-processing.pdf', mode='rb')\n",
        "\n",
        "pdf_reader = PyPDF2.PdfFileReader(myfile)"
      ],
      "metadata": {
        "id": "Y-zpAhP9ZFM3"
      },
      "execution_count": 67,
      "outputs": []
    },
    {
      "cell_type": "code",
      "source": [
        "pdf_reader.numPages\n"
      ],
      "metadata": {
        "colab": {
          "base_uri": "https://localhost:8080/"
        },
        "id": "5Fl-xzBgclcp",
        "outputId": "ad17cff7-ddf7-4555-b7d2-5153dfdf12c9"
      },
      "execution_count": 68,
      "outputs": [
        {
          "output_type": "execute_result",
          "data": {
            "text/plain": [
              "52"
            ]
          },
          "metadata": {},
          "execution_count": 68
        }
      ]
    },
    {
      "cell_type": "code",
      "source": [
        "first_page = pdf_reader.getPage(0)"
      ],
      "metadata": {
        "id": "6kwewdFUcnKi"
      },
      "execution_count": 69,
      "outputs": []
    },
    {
      "cell_type": "code",
      "source": [
        "first_page.extractText()"
      ],
      "metadata": {
        "colab": {
          "base_uri": "https://localhost:8080/",
          "height": 70
        },
        "id": "w-vwlcbOcoY2",
        "outputId": "3e3772ab-9f71-421f-a38f-280b4c88d647"
      },
      "execution_count": 70,
      "outputs": [
        {
          "output_type": "execute_result",
          "data": {
            "text/plain": [
              "'Introduc tion to natural\\nlanguage processing\\nR. K ibble\\nCO3354\\n2013\\nUndergraduate study in \\nComputing and related programmes\\nThis is an ex trac t from a subjec t guide for an undergraduate course offered as par t of the \\nUniversit y of London I nter national Programmes in Computing. M ater ials for these programmes \\n\\nare developed by academics at Goldsmiths.\\nFor more infor mation, see: w w w.londoninter national.ac.uk\\n'"
            ],
            "application/vnd.google.colaboratory.intrinsic+json": {
              "type": "string"
            }
          },
          "metadata": {},
          "execution_count": 70
        }
      ]
    },
    {
      "cell_type": "code",
      "source": [
        "pdf_writer = PyPDF2.PdfFileWriter()"
      ],
      "metadata": {
        "id": "qqOaFy9Kcpjb"
      },
      "execution_count": 71,
      "outputs": []
    },
    {
      "cell_type": "code",
      "source": [
        "pdf_writer.addPage(first_page)"
      ],
      "metadata": {
        "id": "V0b9uBFMcuDF"
      },
      "execution_count": 72,
      "outputs": []
    },
    {
      "cell_type": "code",
      "source": [
        "pdf_output = open('New_PDF.pdf', 'wb')\n",
        "pdf_writer.write(pdf_output)\n",
        "pdf_output.close()"
      ],
      "metadata": {
        "id": "kfP2rsVtcvAJ"
      },
      "execution_count": 73,
      "outputs": []
    },
    {
      "cell_type": "code",
      "source": [
        "with open('New_PDF.pdf', 'rb') as ff:\n",
        "  pp = PyPDF2.PdfFileReader(ff)\n",
        "  print(pp.numPages)"
      ],
      "metadata": {
        "colab": {
          "base_uri": "https://localhost:8080/"
        },
        "id": "YFJgYuNWcxeE",
        "outputId": "4a9050a2-ac6f-4b8c-d365-cec89069adc6"
      },
      "execution_count": 74,
      "outputs": [
        {
          "output_type": "stream",
          "name": "stdout",
          "text": [
            "1\n"
          ]
        }
      ]
    },
    {
      "cell_type": "code",
      "source": [
        "all_text = []\n",
        "for i in range(pdf_reader.numPages):\n",
        "  all_text.append(pdf_reader.getPage(i).extractText())"
      ],
      "metadata": {
        "id": "HmV2L09qcysR"
      },
      "execution_count": 75,
      "outputs": []
    },
    {
      "cell_type": "code",
      "source": [
        "all_text"
      ],
      "metadata": {
        "colab": {
          "base_uri": "https://localhost:8080/"
        },
        "id": "MdVsVthHdVUn",
        "outputId": "5521359f-6b18-4b9b-c51d-9932ce69dbd2"
      },
      "execution_count": 76,
      "outputs": [
        {
          "output_type": "execute_result",
          "data": {
            "text/plain": [
              "['Introduc tion to natural\\nlanguage processing\\nR. K ibble\\nCO3354\\n2013\\nUndergraduate study in \\nComputing and related programmes\\nThis is an ex trac t from a subjec t guide for an undergraduate course offered as par t of the \\nUniversit y of London I nter national Programmes in Computing. M ater ials for these programmes \\n\\nare developed by academics at Goldsmiths.\\nFor more infor mation, see: w w w.londoninter national.ac.uk\\n',\n",
              " 'This guide was prepared for the Universit y of London International Programmes by:\\nR. Kibble\\n\\nThis is one of a series of subjec t guides published by the Universit y.We regret that due to pressure of work the author is \\nunable to enter into any correspondence relating to, or arising from, the guide. If you have any comments on this subjec t \\n\\nguide, favourable or unfavourable, please use the form at the back of this guide.\\nUniversit y of London International Programmes \\nPublications O ffice \\n\\n32 Russell S quare \\n\\nLondon WC1B 5DN \\n\\nUnited Kingdom \\nw w w.londoninternational.ac.uk\\nPublished by: Universit y of London \\nCopyright © D epar tment of Computing, Goldsmiths 2013\\nThe Universit y of London and Goldsmiths asser t copyright over all material in this subjec t guide except where other wise \\nindicated. All rights reser ved. No par t of this work may be reproduced in any form, or by any means, without permission in \\n\\nwriting from the publisher.We make ever y effor t to respec t copyright. If you think we have inadver tently used your copyright \\n\\nmaterial, please let us know.\\n',\n",
              " 'Contents\\nPreface\\n1\\nAbout this half unit . . . . . . . . . . . . . . . . . . . . . . . . . . . . . . . . 1\\nAssessment . . . . . . . . . . . . . . . . . . . . . . . . . . . . . . . . . . . . 1\\nThe subject guide and other learning resources . . . . . . . . . . . . . . . . 2\\nSuggested study time . . . . . . . . . . . . . . . . . . . . . . . . . . . . . . . 2\\n\\nAcknowledgement . . . . . . . . . . . . . . . . . . . . . . . . . . . . . . . . 3\\n1 Introduction: how to use this subject guide 5\\n1.1 Introduction . . . . . . . . . . . . . . . . . . . . . . . . . . . . . . . . . 5\\n\\n1.2 Aims of the course . . . . . . . . . . . . . . . . . . . . . . . . . . . . . 5\\n\\n1.3 Learning outcomes . . . . . . . . . . . . . . . . . . . . . . . . . . . . . 6\\n1.4 Reading list and other learning resources . . . . . . . . . . . . . . . . . 6\\n1.5 Software requirements . . . . . . . . . . . . . . . . . . . . . . . . . . . 8\\n\\n1.6 How to use the guide/structure of the course . . . . . . . . . . . . . . 8\\n1.6.1 Chapter 2: Introducing NLP: patterns and structures in language 8\\n\\n1.6.2 Chapter 3: Getting to grips with natural language data . . . . . 8\\n\\n1.6.3 Chapter 4: Computational tools for text analysis . . . . . . . . . 9\\n1.6.4 Chapter 5: Statistically-based techniques for text analysis . . . 9\\n1.6.5 Chapter 6: Analysing sentences: syntax and parsing . . . . . . 9\\n\\n1.6.6 Appendices . . . . . . . . . . . . . . . . . . . . . . . . . . . . . 9\\n1.7 What the course does not cover . . . . . . . . . . . . . . . . . . . . . . 9\\n2 Introducing NLP: patterns and structure in language 11\\nEssential reading . . . . . . . . . . . . . . . . . . . . . . . . . . . . . . 11\\n\\nRecommended reading . . . . . . . . . . . . . . . . . . . . . . . . . . . 11\\n\\nAdditional reading . . . . . . . . . . . . . . . . . . . . . . . . . . . . . 11\\n2.1 Learning outcomes . . . . . . . . . . . . . . . . . . . . . . . . . . . . . 11\\n\\n2.2 Introduction . . . . . . . . . . . . . . . . . . . . . . . . . . . . . . . . . 12\\n\\n2.3 Basic concepts . . . . . . . . . . . . . . . . . . . . . . . . . . . . . . . . 12\\n2.3.1 Tokenised text and pattern matching . . . . . . . . . . . . . . . 12\\n\\nActivity: Recognising names . . . . . . . . . . . . . . . . . . . . . . . . 13\\n\\n2.3.2 Parts of speech . . . . . . . . . . . . . . . . . . . . . . . . . . . 13\\nActivity: identify parts of speech . . . . . . . . . . . . . . . . . . . . . 14\\n2.3.3 Constituent structure . . . . . . . . . . . . . . . . . . . . . . . . 14\\n\\nActivity: Writing production rules . . . . . . . . . . . . . . . . . . . . . 15\\n2.4 A closer look at syntax . . . . . . . . . . . . . . . . . . . . . . . . . . . 15\\n2.4.1 Operation of a \\x02nite-state machine . . . . . . . . . . . . . . . . 16\\nActivity: Finite-state machines . . . . . . . . . . . . . . . . . . . . . . . 17\\n2.4.2 Representing \\x02nite-state machines . . . . . . . . . . . . . . . . 17\\n\\n2.4.3 Declarative alternatives to \\x02nite-state machines . . . . . . . . . 18\\n\\nActivity: Coding regular expressions . . . . . . . . . . . . . . . . . . . 19\\n\\nActivity: tree diagrams for a regular language . . . . . . . . . . . . . . 21\\n\\n2.4.4 Limitations of \\x02nite-state methods Œ introducing context-free\\ngrammars . . . . . . . . . . . . . . . . . . . . . . . . . . . . . . 21\\nActivity: Regular grammars . . . . . . . . . . . . . . . . . . . . . . . . 21\\n\\nActivity: Context-free grammar . . . . . . . . . . . . . . . . . . . . . . 23\\n\\n2.4.5 Looking ahead: some further uses of regular expressions . . . . 23\\ni\\n',\n",
              " 'CO\\n3354\\nIntroduction to natural language processing\\n2.4.6 Looking ahead: grammars and parsing . . . . . . . . . . . . . . 24\\n2.5 Word structure . . . . . . . . . . . . . . . . . . . . . . . . . . . . . . . 24\\nActivity: Past tense formation . . . . . . . . . . . . . . . . . . . . . . . 25\\n2.6 A brief history of natural language processing . . . . . . . . . . . . . . 25\\n2.7 Summary . . . . . . . . . . . . . . . . . . . . . . . . . . . . . . . . . . 27\\n\\n2.8 Sample examination questions . . . . . . . . . . . . . . . . . . . . . . 27\\n3 Getting to grips with natural language data 29\\nEssential reading . . . . . . . . . . . . . . . . . . . . . . . . . . . . . . 29\\n\\nRecommended reading . . . . . . . . . . . . . . . . . . . . . . . . . . . 29\\n\\nAdditional reading . . . . . . . . . . . . . . . . . . . . . . . . . . . . . 29\\n3.1 Learning outcomes . . . . . . . . . . . . . . . . . . . . . . . . . . . . . 29\\n\\n3.2 Using the Natural Language Toolkit . . . . . . . . . . . . . . . . . . . . 29\\n\\n3.3 Corpora and other data resources . . . . . . . . . . . . . . . . . . . . . 30\\n\\n3.4 Some uses of corpora . . . . . . . . . . . . . . . . . . . . . . . . . . . . 31\\n3.4.1 Lexicography . . . . . . . . . . . . . . . . . . . . . . . . . . . . 32\\n\\n3.4.2 Grammar and syntax . . . . . . . . . . . . . . . . . . . . . . . . 32\\n3.4.3 Stylistics: variation across authors, periods, genres and chan-\\nnels of communication . . . . . . . . . . . . . . . . . . . . . . . 32\\n3.4.4 Training and evaluation . . . . . . . . . . . . . . . . . . . . . . 33\\n3.5 Corpora . . . . . . . . . . . . . . . . . . . . . . . . . . . . . . . . . . . 33\\n3.5.1 Brown corpus . . . . . . . . . . . . . . . . . . . . . . . . . . . . 34\\n3.5.2 British National Corpus . . . . . . . . . . . . . . . . . . . . . . 34\\n3.5.3 COBUILD Bank of English . . . . . . . . . . . . . . . . . . . . . 34\\n3.5.4 Penn Treebank . . . . . . . . . . . . . . . . . . . . . . . . . . . 35\\n\\n3.5.5 Gutenberg archive . . . . . . . . . . . . . . . . . . . . . . . . . 36\\n\\n3.5.6 Other corpora . . . . . . . . . . . . . . . . . . . . . . . . . . . . 36\\n\\nActivity: Online corpus queries . . . . . . . . . . . . . . . . . . . . . . 37\\n3.5.7 WordNet . . . . . . . . . . . . . . . . . . . . . . . . . . . . . . . 37\\n3.6 Some basic corpus analysis . . . . . . . . . . . . . . . . . . . . . . . . 38\\n3.6.1 Frequency distributions . . . . . . . . . . . . . . . . . . . . . . 38\\nActivity: Using NLTK tools . . . . . . . . . . . . . . . . . . . . . . . . . 39\\n\\n3.6.2 DIY corpus: some worked examples . . . . . . . . . . . . . . . 39\\n\\nActivity: building and analysing a DIY corpus . . . . . . . . . . . . . . 41\\n3.7 Summary . . . . . . . . . . . . . . . . . . . . . . . . . . . . . . . . . . 41\\n\\n3.8 Sample examination question . . . . . . . . . . . . . . . . . . . . . . . 42\\n4 Computational tools for text analysis 43\\nEssential reading . . . . . . . . . . . . . . . . . . . . . . . . . . . . . . 43\\n\\nRecommended reading . . . . . . . . . . . . . . . . . . . . . . . . . . . 43\\n\\nAdditional reading . . . . . . . . . . . . . . . . . . . . . . . . . . . . . 43\\n4.1 Introduction and learning outcomes . . . . . . . . . . . . . . . . . . . 43\\n4.1.1 Learning outcomes . . . . . . . . . . . . . . . . . . . . . . . . . 43\\n4.2 Data structures . . . . . . . . . . . . . . . . . . . . . . . . . . . . . . . 44\\nActivity: strings and sequences . . . . . . . . . . . . . . . . . . . . . . 44\\n4.3 Tokenisation . . . . . . . . . . . . . . . . . . . . . . . . . . . . . . . . . 44\\n4.3.1 Some issues with tokenisation . . . . . . . . . . . . . . . . . . . 45\\n\\n4.3.2 Tokenisation in the NLTK . . . . . . . . . . . . . . . . . . . . . 46\\n\\nActivity: Tokenising text . . . . . . . . . . . . . . . . . . . . . . . . . . 46\\n4.4 Stemming . . . . . . . . . . . . . . . . . . . . . . . . . . . . . . . . . . 46\\nActivity: Comparing stemmers . . . . . . . . . . . . . . . . . . . . . . . 48\\n4.5 Tagging . . . . . . . . . . . . . . . . . . . . . . . . . . . . . . . . . . . 48\\n4.5.1 RE tagging . . . . . . . . . . . . . . . . . . . . . . . . . . . . . 49\\n\\nActivity: Tagging with REs . . . . . . . . . . . . . . . . . . . . . . . . . 51\\n4.5.2 Trained taggers and backoff . . . . . . . . . . . . . . . . . . . . 51\\nii\\n',\n",
              " \"4.5.3 Transformation-based tagging . . . . . . . . . . . . . . . . . . . 53\\n4.5.4 Evaluation and performance . . . . . . . . . . . . . . . . . . . . 53\\nActivity: Trained taggers . . . . . . . . . . . . . . . . . . . . . . . . . . 53\\n4.6 Summary . . . . . . . . . . . . . . . . . . . . . . . . . . . . . . . . . . 53\\n4.7 Sample examination question . . . . . . . . . . . . . . . . . . . . . . . 54\\n5 Statistically-based techniques for text analysis 57\\nEssential reading . . . . . . . . . . . . . . . . . . . . . . . . . . . . . . 57\\n\\nRecommended reading . . . . . . . . . . . . . . . . . . . . . . . . . . . 57\\n\\nAdditional reading . . . . . . . . . . . . . . . . . . . . . . . . . . . . . 57\\n5.1 Learning outcomes . . . . . . . . . . . . . . . . . . . . . . . . . . . . . 57\\n5.2 Introduction . . . . . . . . . . . . . . . . . . . . . . . . . . . . . . . . . 58\\n5.3 Some fundamentals of machine learning . . . . . . . . . . . . . . . . . 58\\n5.3.1 Naive Bayes classi\\x02ers . . . . . . . . . . . . . . . . . . . . . . . 58\\n\\nActivity: Bayes' rule . . . . . . . . . . . . . . . . . . . . . . . . . . . . 59\\n\\n5.3.2 Hidden Markov models . . . . . . . . . . . . . . . . . . . . . . 60\\n\\n5.3.3 Information and entropy . . . . . . . . . . . . . . . . . . . . . . 61\\n5.3.4 Decision trees and maximum entropy classi\\x02ers . . . . . . . . . 62\\nActivity: further reading . . . . . . . . . . . . . . . . . . . . . . . . . . 63\\n\\n5.3.5 Evaluation . . . . . . . . . . . . . . . . . . . . . . . . . . . . . . 63\\n5.4 Machine learning in action: document classi\\x02cation . . . . . . . . . . . 64\\n5.4.1 Summary: document classi\\x02cation . . . . . . . . . . . . . . . . 65\\n\\nActivity: document classi\\x02cation . . . . . . . . . . . . . . . . . . . . . 66\\n5.5 Machine learning in action: information extraction . . . . . . . . . . . 66\\n5.5.1 Types of information extraction . . . . . . . . . . . . . . . . . . 67\\n\\n5.5.2 Regular expressions for personal names . . . . . . . . . . . . . 67\\n\\nActivity: coding regular expressions for proper names . . . . . . . . . . 69\\n\\n5.5.3 Information extraction as sequential classi\\x02cation: chunking\\nand NE recognition . . . . . . . . . . . . . . . . . . . . . . . . . 69\\nActivity: chunking and NE recognition . . . . . . . . . . . . . . . . . . 71\\n5.6 Limitations of statistical methods . . . . . . . . . . . . . . . . . . . . . 71\\n\\n5.7 Summary . . . . . . . . . . . . . . . . . . . . . . . . . . . . . . . . . . 72\\n\\n5.8 Sample examination question . . . . . . . . . . . . . . . . . . . . . . . 72\\n6 Analysing sentences: syntax and parsing 75\\nEssential reading . . . . . . . . . . . . . . . . . . . . . . . . . . . . . . 75\\n\\nRecommended reading . . . . . . . . . . . . . . . . . . . . . . . . . . . 75\\nAdditional reading . . . . . . . . . . . . . . . . . . . . . . . . . . . . . 75\\n6.1 Learning outcomes . . . . . . . . . . . . . . . . . . . . . . . . . . . . . 75\\n6.2 Grammars and parsing . . . . . . . . . . . . . . . . . . . . . . . . . . . 75\\n\\n6.3 Complicating CFGs . . . . . . . . . . . . . . . . . . . . . . . . . . . . . 76\\n6.3.1 Verb categories . . . . . . . . . . . . . . . . . . . . . . . . . . . 76\\n\\nActivity: Verb categories . . . . . . . . . . . . . . . . . . . . . . . . . . 78\\n6.3.2 Agreement . . . . . . . . . . . . . . . . . . . . . . . . . . . . . 78\\nActivity: feature-based grammar . . . . . . . . . . . . . . . . . . . . . 80\\n\\n6.3.3 Unbounded dependencies . . . . . . . . . . . . . . . . . . . . . 80\\n\\n6.3.4 Ambiguity and probabilistic grammars . . . . . . . . . . . . . . 82\\n\\nActivity: probabilistic grammar . . . . . . . . . . . . . . . . . . . . . . 85\\n6.4 Parsing . . . . . . . . . . . . . . . . . . . . . . . . . . . . . . . . . . . . 85\\n6.4.1 Recursive descent parsing . . . . . . . . . . . . . . . . . . . . . 86\\n\\n6.4.2 Shift-reduce parsing . . . . . . . . . . . . . . . . . . . . . . . . 87\\n\\n6.4.3 Parsing with a well-formed substring table . . . . . . . . . . . . 87\\n\\n6.4.4 Finite-state machines and context-free parsing . . . . . . . . . . 89\\n\\nActivity: Parsing . . . . . . . . . . . . . . . . . . . . . . . . . . . . . . 90\\n6.5 Summary . . . . . . . . . . . . . . . . . . . . . . . . . . . . . . . . . . 90\\niii\\n\",\n",
              " \"CO\\n3354\\nIntroduction to natural language processing\\n6.6 Sample examination question . . . . . . . . . . . . . . . . . . . . . . . 91\\nA Bibliography 93\\nB Glossary 95\\n\\nC Answers to selected activities 97\\nChapter 2: Introducing NLP: patterns and structure in natural language . . . 97\\nIdentify parts of speech, page 14 . . . . . . . . . . . . . . . . . . . . . 97\\nOperation of a \\x02nite-state machine, page 17 . . . . . . . . . . . . . . . 97\\n\\nCoding regular expressions, page 19 . . . . . . . . . . . . . . . . . . . 97\\n\\nRegular grammars, page 21 . . . . . . . . . . . . . . . . . . . . . . . . 98\\nPast tense forms, page 25 . . . . . . . . . . . . . . . . . . . . . . . . . 98\\nChapter 3: Getting to grips with natural language data . . . . . . . . . . . . 98\\nOnline corpus queries, page 37 . . . . . . . . . . . . . . . . . . . . . . 98\\nUsing NLTK tools, page 39 . . . . . . . . . . . . . . . . . . . . . . . . . 99\\nChapter 4: Computational tools for text analysis . . . . . . . . . . . . . . . . 100\\nComparing stemmers, page 48 . . . . . . . . . . . . . . . . . . . . . . . 100\\n\\nTagging with REs, page 51 . . . . . . . . . . . . . . . . . . . . . . . . . 101\\nChapter 5: Statistically-based techniques for text analysis . . . . . . . . . . . 101\\nActivity: Bayes' Rule, page 59 . . . . . . . . . . . . . . . . . . . . . . . 101\\nChapter 6: Analysing sentences: syntax and parsing . . . . . . . . . . . . . . 102\\nActivity: Verb categories, page 78 . . . . . . . . . . . . . . . . . . . . . 102\\nActivity: Feature-based grammar, page 80 . . . . . . . . . . . . . . . . 102\\nD Trace of recursive descent parse 105\\nE Sample examination paper with answering guidelines 107\\nE.1 Sample examination questions . . . . . . . . . . . . . . . . . . . . . . 108\\nE.2 Answering guidelines for sample examination questions . . . . . . . . 113\\niv\\n\",\n",
              " \"Preface\\nAbout this half unit\\nThis half unit course combines a critical introduction to key topics in theoretical and\\ncomputational linguistics with hands-on practical experience of using existing\\nsoftware tools and developing applications to process texts and access linguistic\\n\\nresources. The aims of the course and learning outcomes are listed in Chapter 1.\\n\\nThis course has no speci\\x02c prerequisites. There will be some programming involved\\n\\nand you will need to acquire some familiarity with the Python language, but you will\\nnot be expected to develop substantial original code or to encode specialised\\nalgorithms. The course involves some statistical techniques, but the only\\n\\nmathematical knowledge assumed is an understanding of elementary probability\\n\\nand familiarity with the concept of logarithms.\\nBefore the advent of the world wide web, most machine-readable information was\\nstored in structured databases and accessed via specialised query languages such as\\nStructured Query Language (SQL). Nowadays the situation is reversed: most\\n\\ninformation is found in unstructured or semi-structured natural language documents\\n\\nand there is increasing demand for techniques to `unlock' this data. Computing\\n\\ngraduates with knowledge of natural language processing techniques are \\x02nding\\n\\nemployment in areas such as text analytics, sentiment analysis, topic detection and\\ninformation extraction.\\nAssessment\\nThe course is assessed via an unseen written examination. A sample examination\\npaper is provided in the Appendix at the end of this subject guide, with some\\n\\nguidelines on how to answer the questions. You will be required to attempt three\\n\\nquestions out of a choice of \\x02ve. The questions will cover `book knowledge', problem\\n\\nsolving and short essays on more theoretical topics. The examination is not a\\n\\nmemory test but will be designed to assess your understanding of the course\\ncontent. There will also be coursework which will include a similar mix of questions,\\nbut with a stronger focus on practical problem-solving.\\nYou will be expected to provide electronic copies of your coursework for plagiarism\\nchecking purposes. It is very important that any material that is not original to you\\n\\nshould be properly attributed and placed in quotation marks, with a full list of\\nreferences at the end of your submission. You should follow the style used in this\\nsubject guide for citing references, for example:\\nSegaran (2007, pp.117Œ118) discusses some problems with rule-based spam \\x02lters.\\nAnswers which consist entirely or mostly of quoted material are unlikely to get many\\nmarks even if properly attributed, as simply reproducing an answer in someone\\nelse's words does not demonstrate that you have fully understood the material.\\nIn order to give you some practice in problem-solving and writing short essays, there\\n1\\n\",\n",
              " \"CO\\n3354\\nIntroduction to natural language processing\\nare a number of Activities throughout this subject guide. The Appendix includes a\\nsection `Answers to selected activities', although these will not always provide\\ncomplete answers to the questions but are intended to indicate how particular types\\nof questions should be approached. Sample examination questions are provided at\\n\\nthe end of each chapter. Some, but not all, of these are included in the sample\\n\\nexamination paper with suggested answers at the end of the guide.\\nThe subject guide and other learning resources\\nThis subject guide is not intended as a self-contained textbook but sets out speci\\x02c\\ntopics for study in the CO3354 half unit. There is a recommended textbook and a\\n\\nnumber of other readings are listed at appropriate places. There are also links to\\nwebsites providing useful resources such as software tools and access to online\\nlinguistic data. The learning outcomes listed in the next chapter assume that you are\\n\\nworking through the recommended readings, activities and sample examination\\n\\nquestions. It will not be possible to pass this half unit by reading only the subject\\n\\nguide. Please refer to the Computing VLE for other resources, which should be used\\n\\nas an aid to your learning.\\nSugg ested study time\\nThe Student Handbook states that `To be able to gain the most bene\\x02t from the\\nprogramme, it is likely that you will have to spend at least 300 hours studying for\\n\\neach full unit, though you are likely to bene\\x02t from spending up to twice this time'.\\n\\nNote that this subject is a half unit.\\nThe course is designed to be delivered over a ten-week term as one of four\\nconcurrent modules, and this guide has six chapters. Chapter 1 goes into more detail\\nabout the structure of the guide and the course, while Chapters 2 to 6 are each\\n\\ndedicated to a particular topic. It is suggested that you spend about two weeks on\\n\\nChapters 1 and 2 together and each of Chapters 3 to 6, including the associated\\n\\nreading and web-based material, and work through the activities and sample\\nexamination questions during this time.\\n2\\n\",\n",
              " \"Contents\\nAcknowledg ement\\nThis subject guide draws closely on:\\nBird, S., E. Klein and E. Loper,\\nNatural Language Processing with Python\\n. (O'Reilly\\nMedia 2009) [ISBN 9780596516499; http://nltk.org/book].\\nYou will be expected to draw on it in your studies and to use the accompanying\\nsoftware package, the Natural Language Toolkit, which requires the Python\\n\\nlanguage.\\nNatural language processing with Python\\nhas been made available under\\nthe terms of the Creative Commons Attribution Noncommercial No-Derivative-Works\\n\\n3.0 US License:\\nhttp://creativecommons.org/licenses/by -nc-nd.3.0/us/legalcode\\n(last\\nvisited 13th April 2013).\\n3\\n\",\n",
              " 'CO\\n3354\\nIntroduction to natural language processing\\n4\\n',\n",
              " \"Chapter 1\\nIntroduction: how to use this subject guide\\n1.1 Introduction\\nThe idea of computers being able to understand ordinary languages and hold\\nconversations with human beings has been a staple of science \\x02ction since the \\x02rst\\n\\nhalf of the twentieth century and was envisaged in a classic paper by Alan Turing\\n\\n(1950) as a hallmark of computational intelligence. Since the start of the\\ntwenty-\\x02rst century this vision has been starting to look more plausible: arti\\x02cial\\nintelligence techniques allied with the scienti\\x02c study of language have emerged\\n\\nfrom universities and research laboratories to inform a variety of industrial and\\n\\ncommercial applications. Many websites now offer automatic translation; mobile\\n\\nphones can appear to understand spoken questions and commands; search engines\\n\\nlike Google use basic linguistic techniques for automatically completing or\\n`correcting' your queries and for \\x02nding relevant results that are closely matched to\\nyour search terms. We are still some way from full machine understanding of natural\\n\\nlanguage, however. Automated translations still need to be reviewed and edited by\\n\\nskilled human translators while no computer system has yet come close to passing\\n\\nthe `Turing Test' of convincingly simulating human conversation. Indeed it has been\\n\\nargued that the Turing Test is a blind alley and that research should focus on\\nproducing effective applications for speci\\x02c requirements without seeking to\\ngenerate an illusion that users are interacting with a human rather than a machine\\n\\n(Hayes and Ford, 1995). Hopefully, by the time you \\x02nish this course you will have\\n\\ncome to appreciate some of the challenges posed by full understanding of natural\\n\\nlanguage as well as the very real achievements that have resulted from focusing on a\\nrange of speci\\x02c, well-de\\x02ned tasks.\\n1.2 Aims of the course\\nThis course combines a critical introduction to key topics in theoretical linguistics\\nwith hands-on practical experience of developing applications to process texts and\\n\\naccess linguistic resources. The main topics covered are:\\naccessing text corpora and lexical resources\\nprocessing raw text\\ncategorising and tagging\\nextracting information from text\\nanalysing sentence structure.\\n5\\n\",\n",
              " 'CO\\n3354\\nIntroduction to natural language processing\\n1.3 Learning outcomes\\nOn successful completion of this course, including recommended readings, exercises\\nand activities, you should be able to:\\n1. utilise and explain the function of software tools such as corpus readers,\\nstemmers, taggers and parsers\\n2. explain the difference between regular and context-free grammars and de\\x02ne\\nformal grammars for fragments of a natural language\\n3. critically appraise existing Natural Language Processing (NLP) applications such\\nas chatbots and translation systems\\n4. describe some applications of statistical techniques to natural language analysis,\\nsuch as classi\\x02cation and probabilistic parsing.\\nEach main chapter contains a list of learning outcomes speci\\x02c to that chapter at the\\nbeginning, as well as a summary at the end of the chapter.\\n1.4 Reading list and other learning resources\\nThis is a list of textbooks and other resources which will be useful for all or most\\nparts of the course. Additional readings will be given at the start of each chapter. See\\n\\nthe bibliography for a full list of books and articles referred to, including all ISBNs.\\n\\nIn some cases several different books will be listed: you are not expected to read all\\n\\nof them, rather the intention is to give you some alternatives in case particular texts\\nare hard to obtain.\\nEssential reading\\nBird, Klein, and Loper (2009):\\nNatural Language Processing with Python\\n. The full\\ntext including diagrams is freely available online at\\nhttp://nltk.org/book\\n(last\\nvisited 13th April 2013). The main textbook for this course,\\nNatural Language\\nProcessing with Python\\nis the outcome of a project extending over several years\\nto develop the Natural Language Toolkit (NLTK), which is a set of tools and\\nresources for teaching computational linguistics. The NLTK comprises a suite of\\n\\nsoftware modules written in Python and a collection of corpora and other\\n\\nresources. See section 1.5 below for advice on installing the NLTK and other\\nsoftware packages.\\nIn the course of working through this text you will gain some experience and\\nfamiliarity with the Python language, though you will not be expected to\\n\\nproduce substantial original code as part of the learning outcomes of the course.\\nRecommended reading\\nPinker (2007).\\nThe Language Instinct\\n. This book is aimed at non-specialists and\\ndeals with many psychological and cultural aspects of language. Chapter 4 is\\n\\nparticularly relevant to this course as it provides a clear and accessible\\n\\npresentation of two standard techniques for modelling linguistic structure:\\n\\n\\x02nite-state machines and context-free grammars (though Pinker does not in fact\\n\\nuse these terms, as we will see in Chapter 2 of the subject guide).\\n6\\n',\n",
              " \"Reading list and other lear ning resources\\nJurafsky and Martin (2009):\\nSpeech and Language Processing\\n, second edition.\\nCurrently the de\\x02nitive introductory textbook in this \\x02eld, covering the major\\ntopics in a way which combines theoretical issues with presentations of key\\ntechnologies, formalisms and mathematical techniques. Much of this book goes\\n\\nbeyond what you will need to pass this course, but it is always worth turning to\\n\\nif you're looking for a more in-depth discussion of any particular topics.\\nPerkins (2010):\\nPython Text Processing with NLTK 2.0 Cookbook\\n. This book will be\\nsuitable for students who want to get more practice in applying Python\\nprogramming to natural language processing. Perkins explains several\\ntechniques and algorithms in more technical detail than Bird et al. (2009) and\\n\\nprovides a variety of worked examples and code snippets.\\nSegaran (2007)\\nProgramming Collective Intelligence\\n. This highly readable and\\ninformative text includes tutorial material on machine learning techniques using\\n\\nthe Python language.\\nAdditional reading\\nRussell and Norvig (2010)\\nArti\\x02cial Intelligence: a modern approach\\n, third edition.\\nThis book is currently regarded as the de\\x02nitive textbook in Arti\\x02cial\\n\\nIntelligence, and includes useful material on natural language processing as well\\n\\nas on machine learning, which has many applications in NLP.\\nMitkov (2003)\\nThe Oxford Handbook of Computational Linguistics\\n. Edited by Ruslan\\nMitkov. A collection of short articles on major topics in the \\x02eld, contributed by\\n\\nacknowledged experts in their respective disciplines.\\nPartee et al. (1990)\\nMathematical Methods in Linguistics\\n. A classic text, whose\\ncontents indicate how much the \\x02eld has changed since its publication. A book\\n\\nwith such a title nowadays would be expected to include substantial coverage of\\n\\nstatistics, probability and information theory, but this text is devoted exclusively\\nto discrete mathematics including set theory, formal logic, algebra and automata.\\nThese topics are particularly applicable to the content of Chapters 2 and 6.\\nWebsites\\nIntroductory/Reference\\nThe Internet Grammar of English\\nis a clear and informative\\nintroductory guide to English grammar which also serves as a tutorial in\\ngrammatical terminology and concepts. The site is hosted by the Survey of\\nEnglish Usage at University College London\\n(http://www.ucl.ac.uk/internet-grammar/home.htm, last visited 27th May\\n\\n2013).\\nHands-on corpus analysis\\nBNCWeb\\nis a web-based interface to the British National Corpus hosted at Lancaster\\nUniversity which supports a variety of online queries for corpus analysis\\n(http://bncweb.info/; last visited 27th May 2013).\\nThe Bank of English\\nforms part of the Collins Corpus, developed by Collins\\nDictionaries and the University of Birmingham. Used as a basis for Collins\\nAdvanced Learner's Dictionary, grammars and various tutorial materials for\\n\\nlearners of English. Limited online access at\\nhttp://www.collinslanguage.com/wordbanks; (last visited 27th May 2013).\\nJournals and conferences\\nComputational Linguistics\\nis the leading journal in this \\x02eld and is freely available at\\nhttp://www.mitpressjournals.org/loi/coli (last visited 27th May 2013).\\nConference Proceedings are often freely downloadable and many of these are\\nhosted by the ACL Anthology at http://aclweb.org/anthology-new/ (last visited\\n\\n27th May 2013).\\n7\\n\",\n",
              " \"CO\\n3354\\nIntroduction to natural language processing\\n1.5 Software requirements\\nThis course assumes you have access to the Natural Language Toolkit (NLTK) either\\non your own computer or at your institution. The NLTK can be freely downloaded\\nand it is strongly recommended that you install it on your own machine: Windows,\\nMac OSX and Linux distributions are available from\\nhttp://nltk.org\\n(last visited\\nApril 10th 2013) and some distributions of Linux have it in their package/software\\n\\nmanagers. Full instructions are available at the cited website along with details of\\n\\nassociated packages which should also be installed, including Python itself which is\\n\\nalso freely available. Once you have installed the software you should also download\\nthe required datasets as explained in the textbook (Bird et al., 2009, p. 3).\\nYou should check the NLTK website to determine what versions of Python are\\nsupported. Current stable releases of NLTK are compatible with Python 2.6 and 2.7.\\n\\nA version supporting Python 3 is under development and may be available for\\ntesting by the time you read this guide (as of April 2013).\\n1.6 How to use the guide/structure of the course\\nThis section gives a brief summary of each chapter. These learning outcomes are\\nlisted at the beginning of each main chapter and assume that you have worked\\n\\nthrough the recommended readings and activities for that chapter.\\n1.6.1 Chapter 2: Introducing NLP: patterns and structures in languag e\\nThis chapter looks at different approaches to analysing texts, ranging from `shallow'\\ntechniques that focus on individual words and phrases to `deeper' methods that\\n\\nproduce a full representation of the grammatical structure of a sentence as a\\n\\nhierarchical tree diagram. The chapter introduces two important formalisms:\\n\\nregular expressions\\n, which will play an important part throughout the course, and\\ncontext-free grammars\\nwhich we return to in Chapter 6 of the subject guide.\\n1.6.2 Chapter 3: Getting to grips with natural languag e data\\nThis chapter looks at the different kinds of data resources that can be used for\\ndeveloping tools to harvest information that has been published as machine-readable\\n\\ndocuments. In particular, we introduce the notion of a `corpus' (plural\\ncorpora\\n) Œ for\\nthe purposes of this course, a computer-readable collection of text or speech. The\\n\\nNLTK includes a selection of excerpts from several well-known corpora and we\\n\\nprovide brief descriptions of the most important of these and of the different formats\\n\\nin which corpora are stored.\\n8\\n\",\n",
              " 'What the course does not cover\\n1.6.3 Chapter 4: Computational tools for text analysis\\nThe previous chapter introduced some relatively super\\x02cial techniques for language\\nanalysis such as concordancing and collocations. This chapter covers some\\nfundamental operations in text analysis:\\ntokenisation: breaking up a character string into words, punctuation marks and\\n\\nother meaningful expressions;\\nstemming: removing af\\x02xes from words, e.g.\\nmean+ing\\n,\\ndistribut+ion\\n;\\ntagging: associating each word in a text with a grammatical category or part of\\n\\nspeech.\\n1.6.4 Chapter 5: Statistically-based techniques for text analysis\\nStatistical and probabilistic methods are pervasive in modern computational\\nlinguistics. These methods generally do not aim at complete understanding or\\n\\nanalysis of a text, but at producing reliable answers to well-de\\x02ned problems such as\\n\\nsentiment analysis, topic detection or recognising named entities and relations\\nbetween them in a text.\\n1.6.5 Chapter 6: Analysing sentences: syntax and parsing\\nThis chapter resumes the discussion of natural language syntax that was introduced\\nin Chapter 2, concentrating on context-free grammar formalisms and various ways\\n\\nthey need to be modi\\x02ed and extended beyond the model that was presented in that\\n\\nchapter. Formal grammars do not encode any kind of processing strategy but simply\\n\\nprovide a declarative speci\\x02cation of the well-formed sentences in a language.\\n\\nParsers are computer programs that use grammar rules to analyse sentences, and\\nthis chapter introduces some fundamental approaches to syntactic parsing.\\n1.6.6 Appendices\\nThe Appendices include:\\nA. A bibliography listing all works referenced in the subject guide, including\\npublication details and ISBNs.\\nB. A glossary of technical terms used in this subject guide.\\nC. Answers to selected activities.\\nD. A trace of a recursive descent parse as described in Chapter 6 of the subject guide.\\nE. A sample examination paper with guidelines on how to answer questions.\\n1.7 What the course does not cover\\nThe \\x02eld of natural language processing or computational linguistics is a large and\\ndiverse one, and includes many topics we will not be able to address in this course.\\n\\nSome of these are listed below:\\n9\\n',\n",
              " 'CO\\n3354\\nIntroduction to natural language processing\\nspeech recognition and synthesis\\ndialogue and question answering\\nmachine translation\\nsemantic analysis, including word meanings and logical structure\\ngenerating text or speech from non-linguistic inputs.\\nHowever, the course should provide you with a basis for investigating some of these\\nareas for your \\x02nal year project. Some of these topics are dealt with in the later\\nchapters of Bird et al. (2009) and most of them are touched on by Jurafsky and\\n\\nMartin (2009).\\n10\\n',\n",
              " \"Chapter 2\\nIntroducing NLP: patterns and structure in\\nlanguag e\\nEssential reading\\nSteven Pinker (2007),\\nThe Language Instinct\\n, Chapter 4.\\nRecommended reading\\nJurafsky and Martin (2009),\\nSpeech and Language Processing\\nsecond edition,\\nChapters/Sections 2 `Regular Expressions and Automata', 5.1 `(Mostly) English Word\\nClasses', 12.1 `Constituency', 12.2 `Context-Free Grammars', 12.3 `Some Grammar\\n\\nRules for English'.\\nAdditional reading\\nThe Internet Grammar of English;\\n\\nhttp://www.ucl.ac.uk/internet-grammar/home.htm\\nespecially sections `Word\\nClasses' and `Introducing Phrases'.\\nPartee, ter Meulen and Wall, (1990),\\nMathematical Methods in Linguistics\\n,\\nChapters/Sections 16.1Œ4, 17.1Œ3 (omitting 17.1.2Œ5, 17.2.1), 18.2, 18.6.\\n2.1 Learning outcomes\\nBy the end of this chapter, and having completed the Essential reading and activities,\\nyou should be able to:\\nexplain the concept of\\n\\x02nite state machines\\n(FSMs) and their connections with\\nregular expressions; work through simple FSMs\\nwrite regular expressions for well-de\\x02ned patterns of symbols\\nanalyse sentences in terms of parts of speech (POS) and constituent structure,\\nincluding the use of tree diagrams\\nwrite regular and context-free grammars for small fragments of natural language\\nexplain the concept of\\nstemming\\nand specify word-formation rules for given\\nexamples.\\n11\\n\",\n",
              " 'CO\\n3354\\nIntroduction to natural language processing\\n2.2 Introduction\\nPeople communicate in many different ways: through speaking and listening,\\nmaking gestures, using specialised hand signals (such as when driving or directing\\ntraf\\x02c), using sign languages for the deaf, or through various forms of\\ntext\\n.\\nBy text we mean words that are written or printed on a \\x03at surface (paper, card,\\nstreet signs and so on) or displayed on a screen or electronic device in order to be\\n\\nread by their intended recipient (or by whoever happens to be passing by).\\nThis course will focus only on the last of these: we will be concerned with various\\nways in which computer systems can analyse and interpret texts, and we will assume\\n\\nfor convenience that these texts are presented in an electronic format. This is of\\n\\ncourse quite a reasonable assumption, given the huge amount of text we can access\\n\\nvia the World Wide Web and the increasing availability of electronic versions of\\n\\nnewspapers, novels, textbooks and indeed subject guides. This chapter introduces\\nsome essential concepts, techniques and terminology that will be applied in the rest\\nof the course. Some material in this chapter is a little technical but no programming\\n\\nis involved at this stage.\\nWe will begin in section 2.3 by considering texts as strings of characters which can\\nbe broken up into sub-strings, and introduce some techniques for informally\\ndescribing patterns of various kinds that occur in texts. Subsequently in section 2.4\\nwe will begin to motivate the analysis of texts in terms of hierarchical structures in\\n\\nwhich elements of various kinds can be embedded within each other, in a\\n\\ncomparable way to the elements that make up an HTML web document. This section\\n\\nintroduces some technical machinery such as: \\x02nite-state machines (FSMs), regular\\nexpressions, regular grammars and context-free grammars.\\n2.3 Basic concepts\\n2.3.1 Tokenised text and pattern matching\\nOne of the more basic operations that can be applied to a text is\\ntokenising\\n:\\nbreaking up a stream of characters into words, punctuation marks, numbers and\\nother discrete items. So for example the character string\\nﬁDr. Watson, Mr. Sherlock Holmesﬂ, said Stamford, introducing us.\\ncan be tokenised as in the following example, where each token is enclosed in single\\nquotation marks:\\n`\"\\' `Dr.\\' `Watson\\' `,\\' `Mr.\\' `Sherlock\\' `Holmes\\' `\"\\' `,\\'\\n`said\\' `Stamford\\' `,\\' `introducing\\' `us\\' `.\\'\\nAt this level, words have not been classi\\x02ed into grammatical categories and we\\nhave very little indication of syntactic structure. Still, a fair amount of information\\nmay be obtained from relatively shallow analysis of tokenised text. For example,\\n\\nsuppose we want to develop a procedure for \\x02nding all personal names in a given\\n\\ntext. We know that personal names always start with capital letters, but that is not\\n\\nenough to distinguish them from names of countries, cities, companies, racehorses\\n12\\n',\n",
              " \"Basic concepts\\nand so on, or from capitalisation at the start of a sentence. Some additional ways to\\nidentify personal names include:\\nUse of a title\\nDr.\\n,\\nMr.\\n,\\nMrs.\\n,\\nMiss\\n,\\nProfessor\\nand so on.\\nA capitalised word or words followed by a comma and a number, usually below\\n100: this is a common way of referring to people in news reports, where the\\nnumber stands for their age Œ for example\\nPierre Vinken, 61, . . .\\nA capitalised word followed by a verb that usually applies to humans:\\nsaid\\n,\\nreported\\n,\\nclaimed\\n,\\nthought\\n,\\nargued\\n. . . This can over-generate in the case of\\ncountry or organisation names as in\\nthe Crown argues\\nor\\nBritain claimed\\n.\\nWe can express these more concisely as follows, where\\nj\\nis the disjunction symbol,\\nWord\\nstands for a capitalised word and\\nInt\\nis an integer:\\n(Dr.\\nj\\nProfessor\\nj\\nMr.\\nj\\nMrs.\\nj\\nMiss\\nj\\nMs)\\nWord\\nWord Word\\n,\\nInt\\nWord\\n(said\\nj\\nthought\\nj\\nbelieved\\nj\\nclaimed\\nj\\nargued\\nj\\n...)\\nLearning activity\\n1. Wr ite down your own examples of names that match each of the above patter ns.\\n2. Pick a newspaper ar ticle or webpage that provides a var iety of examples of people's names. Do they\\nmatch the patter ns we have encoded above? If not, see if you can devise additional r ules for\\nrecognising names and wr ite them out in a similar for mat.\\n2.3.2 Par ts of speech\\nA further stage in analysing text is to associate every token with a grammatical\\ncategory or\\npart of speech\\n(POS). A number of different POS classi\\x02cations have\\nbeen developed within computational linguistics and we will see some examples in\\n\\nsubsequent chapters. The following is a list of categories that are often encountered\\n\\nin general linguistics: you will be familiar with many of them already from learning\\n\\nthe grammar of English or other languages, though some terms such as\\nDeterminer\\nor\\nConjunction\\nmay be new to you.\\nNoun\\n\\x02sh, book, house, pen, procrastination, language\\nProper noun\\nJohn, France, Barack, Goldsmiths, Python\\nVerb\\nloves, hates, studies, sleeps, thinks, is, has\\nAdjective\\ngrumpy, sleepy, happy, bashful\\nAdverb\\nslowly, quickly, now, here, there\\nPronoun\\nI, you, he, she, we, us, it, they\\nPreposition\\nin, on, at, by, around, with, without\\nConjunction\\nand, but, or, unless\\nDeterminer\\nthe, a, an, some, many, few, 100\\n13\\n\",\n",
              " \"CO\\n3354\\nIntroduction to natural language processing\\nBird et al. (2009, pp. 184Œ5) make the standard distinction that nouns `generally\\nrefer to people, places, things or concepts' while verbs `describe events or actions'.\\nThis may be helpful when one is starting to learn grammatical terminology but is\\nsomething of an over-simpli\\x02cation. One can easily \\x02nd or construct examples\\n\\nwhere the same concept can be expressed by a noun or a verb, or by an adjective or\\n\\nan adverb. And on the other hand, there are many words that can take different\\n\\nparts of speech depending on what they do in a sentence:\\n1. Rome\\nfell swiftly\\n.\\n2. The\\nfall\\nof Rome was\\nswift\\n.\\n3. The enemy\\ncompletely destroyed\\nthe city.\\n4. The enemy's\\ndestruction\\nof the city was\\ncomplete\\n.\\n5. John likes to\\n\\x02sh\\non the river bank.\\n6. John caught a\\n\\x02sh\\n.\\nAdditionally, some types of verbs do not correspond to any particular action but\\n\\nserve a purely grammatical function: these include the auxiliary verbs such as\\ndid\\n,\\nshall\\nand so on. So in summary, we can often only assign a part of speech to a word\\ndepending on its function in context rather than how it relates to real things or\\n\\nevents in the world.\\nLearning activity\\nIdentify par ts of speech in these examples:\\n1. The cat sat on the mat.\\n2. John sat on the chair.\\n3. The dog saw the rabbit.\\n\\n4. Jack and Jill went up the hill.\\n\\n5. The owl and the pussycat went to sea.\\n\\n6. The train travelled slowly.\\n2.3.3 Constituent structure\\nYou will have noticed several recurring patterns in the above examples:\\nDet Noun\\n,\\nPrep Det Noun\\nand so on. You may also have noticed that some types of phrase can\\noccur in similar contexts:\\n(John\\nj\\nthe cat) sat\\n, a\\nProper Noun\\nor a sequence\\nDet Noun\\ncan come before a\\nVerb\\n. Some of these possibilities can be captured using the\\npattern-matching notation introduced above, for example:\\n(((the\\nj\\na)(cat\\nj\\ndog))(John\\nj\\nJack\\nj\\nSusan))(barked\\nj\\nslept)\\nThis will match any sequence which ends in a verb\\nbarked\\nor\\nslept\\npreceded by\\neither\\na Determiner\\na\\nor\\nthe\\nfollowed by a Noun\\ncat\\nor\\ndog\\nor\\na proper name\\nJohn\\n,\\nJack\\nor\\nSusan\\n.\\nPatterns that have similar distributions (meaning that they can occur in similar\\ncontexts) are standardly identi\\x02ed by phrasal categories such as\\nNoun Phrase\\nor\\nVerb\\n14\\n\",\n",
              " \"A closer look at syntax\\nPhrase\\n. A common way to represent information about constituent structure is by\\nmeans of production rules of the form\\nX\\n!\\nA; B ; C : : :\\n. Using rules of this form,\\ngrammatical sentences can be broken down into constituent phrases consisting of\\nvarious combinations of POS:\\nSentence\\n!\\nNoun Phrase, Verb Phrase\\nNoun Phrase\\n!\\nDeter miner, Noun (\\nExample:\\nthe, dog)\\nNoun Phrase\\n!\\nProper Noun (\\nExample:\\nJack)\\nNoun Phrase\\n!\\nNoun Phrase, Conj, Noun Phrase (\\nExamples:\\nJack and Jill, the owl and the pussycat)\\nVerb Phrase\\n!\\nVerb, Noun Phrase (\\nExample:\\nsaw the rabbit)\\nVerb Phrase\\n!\\nVerb, Preposition, Noun Phrase (\\nExamples:\\nwent up the hill, sat on the mat)\\nLearning activity\\nRead through the recommended sections of the UCL `Inter net Grammar of English'. Wr ite production r ules\\nthat cover some of the examples in these sections.\\n2.4 A closer look at syntax\\nThis section aims to motivate the idea that texts can be analysed as hierarchical\\nstructures rather than `\\x03at' sequences whose elements are organised in various\\npatterns. The Essential reading for this chapter by Steven Pinker gives a concise and\\naccessible introduction to some fundamental distinctions we will make in this\\n\\nsection, from the point of view of Chomskyan linguistics (compare Chomsky,\\n\\n1957/2002). Chomsky and his followers argue that some components of our\\n\\nknowledge of language are innate, and Pinker (2007, chapter 4) sketches some\\narguments in support of this claim. This position is considered to be contentious by\\nmany linguists and we will not address it in this course. However, Pinker's chapter\\n\\nprovides a useful introduction to syntactic analysis and clearly distinguishes between\\n\\ntwo formal techniques for modelling grammatical knowledge, which underlie\\n\\nregular\\nand\\ncontext-free\\ngrammars respectively (these terms will be explained as\\nwe go along).\\nLearning activity\\nIf you have access to it, read through the recommended chapter by Pinker and make notes, and have it to\\nhand while wor king through the remainder of this section.\\nPinker notes that language makes `in\\x02nite use of \\x02nite means', in Humboldt's\\n\\nphrase\\n1\\n. That is, there is no principled upper limit to the length of a grammatical\\nsentence: we can always add another phrase, even if it's a banal one like `one could\\nsay that', `and that's a fact' or `and you can tell that to the Marines'. A large\\n1\\n`Sie [die Sprache] muss daher von endlichen Mitteln einen unendlichen Gebrauch machen' (von Hum-\\nboldt, 1836, p. 122).\\n15\\n\",\n",
              " \"CO\\n3354\\nIntroduction to natural language processing\\nproportion, perhaps most of the sentences we read, hear or speak every day may be\\nentirely novel, at least to us. Consequently, knowledge of a language seems to\\nconsist in knowing rules that specify what sentences belong to the language, rather\\nthan memorising long lists of sentences to be produced on appropriate occasions.\\nPinker considers two different formal systems for generating or recognising\\nsentences in English:\\n`wordchain' devices, equivalent to \\x02nite state machines. These devices\\n\\nincorporate three distinct operations:\\nsequence\\n,\\nselection\\nand\\niteration\\n.\\nPhrase structure grammars, which include the additional operation of\\nrecursion\\n.\\nNote that Pinker deliberately uses the more descriptive expression `wordchain' as he\\n\\nis concerned to avoid the use of forbidding technical terminology. In what follows\\nwe will stick to the standard term\\n\\x02nite-state machine\\nwhich you are more likely to\\n\\x02nd in textbooks. You may also encounter the terms\\n\\x02nite-state automaton\\nor just\\n\\x02nite automaton\\n.\\n2.4.1 Operation of a \\x02nite-state machine\\nA wordchain device or \\x02nite-state machine (FSM) can be seen as a set of lists of\\nsymbols (such as words or \\x02xed phrases) and rules for going from list to list. A\\n\\nsimple example:\\nWord lists\\n1. The, a, one\\n2. Cat, dog, \\x02sh\\n\\n3. Barked, slept, swam\\nRules\\nIt is important to keep in mind that FSMs are neutral between accepting and\\ngenerating strings. That is to say, one way to operate a FSM is to read a string, one\\nsymbol at a time, and determine whether the symbol is found in the list at the\\n\\ncurrent state of the machine. If it is, we advance to the next state and read the next\\n\\nsymbol. Alternatively, this FSM could be used to generate strings by picking one\\n\\nword from each list in sequence. Some possible matching strings are:\\nThe dog swam\\nA cat barked\\nA \\x02sh slept\\n. . .\\nA more complex example:\\n1.\\nJohn/Mary/Fred\\nOR\\n1a.\\nthe/a/one\\n1b.\\ncat/dog/\\x02sh\\n16\\n\",\n",
              " 'A closer look at syntax\\n2. (optional):\\nand/or\\nGO TO 1\\n3.\\nslept/barked/swam\\nOR\\n3a.\\nsat/walked\\n3b.\\non\\n3c.\\na/the\\n3d.\\nmat/hill\\n4. (optional)\\nand/or\\nGO TO 3\\n5. (optional)\\nand/or/but\\nGO TO 1\\n.\\nThis formulation involves the basic operations of sequence, selection and iteration as\\nfollows:\\nSEQUENCE\\nMoving from list to list in numerical order: 1, 2, 3 . . .\\nSELECTION\\nChoosing an item from a list, for example\\ncat\\n,\\ndog\\nor\\n\\x02sh\\n; choosing between lists.\\nITERATION\\n\\nRepeating particular sequences, for example:\\nJohn and Mary or a \\x02sh\\n(repeats step 1.)\\nThe cat barked but Fred walked on the hill.\\n(Repeats steps 1Œ5, omitting step 4.)\\nLearning activity\\n1. Find the shor test sentence generated or accepted by the above FSM.\\n2. Wr ite out four sentences between six and 20 words long which are accepted by the FSM.\\n2.4.2 Representing \\x02nite-state machines\\nThere are various conventional ways of representing a non-deterministic FSM in\\nterms of a number of states and the permissible transitions between states. In our\\n\\ninformal exposition above, the numbered steps represent states and each symbol or\\nword in a list counts as a possible transition to the next state. Pinker adopts a\\ngraphical convention where states are depicted as nodes in a graph and transitions\\n\\nare directed, labelled arcs between the nodes; see also Partee et al. (1990, p. 457\\n\\nand following). Alternatively, the states and transitions can be shown in tabular form\\n\\nas in Table 2.1 where\\nq\\n1\\nis the initial state and\\nq\\n4\\nthe \\x02nal state:\\n17\\n',\n",
              " \"CO\\n3354\\nIntroduction to natural language processing\\nq1\\njohn\\nq2\\nq1\\nmary\\nq2\\nq1\\nthe\\nq1a\\nq1\\na\\nq1a\\nq1a\\ncat\\nq2\\nq1a\\ndog\\nq2\\nq2\\nslept\\nq3\\nq2\\nbarked\\nq3\\nq2\\nswam\\nq3\\nq3\\nand\\nq1\\nq3\\nor\\nq1\\nq3\\n.\\nq4\\nTable 2.1: A \\x02nite-state machine represented as a state-transition table.\\n2.4.3 Declarative alternatives to \\x02nite-state machines\\nThe FSMs shown above combine a formal speci\\x02cation of a language with a\\nprocessing strategy. It is often convenient to separate the two and de\\x02ne the\\n\\nlanguage using expressions from a declarative formalism which can be manipulated\\n\\nusing various different algorithms. This section considers two such formalisms:\\n\\nregular expressions\\nand\\nregular grammars\\n.\\nRegular expressions (REs)\\nprovide a simple but powerful means of identifying\\npatterns in text and are widely used in various applications of computer science. REs\\n\\nare based on three fundamental concepts which as we have seen are characteristic of\\n\\n\\x02nite-state machines:\\nsequence\\nŒ to do with the order in which items occur: may include a wildcard\\ncharacter which is written as the period or full stop `.' and may be replaced by\\nany character.\\nselection\\nŒ specifying a choice between alternative items or sequences, indicated by\\nthe `\\nj\\n' operator\\niteration\\nŒ repetition of items or sequences, indicated by the `*' operator, meaning\\nzero or more occurrences of whatever precedes the star.\\nSome simple examples:\\na*\\nmatches sequences of zero or more\\na\\n's:\\na\\n,\\naaaa\\n,\\naaaaaaaaaaa\\nand so on. A\\nsequence of zero elements is known as the `empty string' and conventionally\\ndenoted by the Greek letter\\nepsilon\\nor\\n\\x0f\\n.\\naa*\\nsequences of one or more\\na\\n's\\nab*\\nsequences of one\\na\\nfollowed by zero or more\\nb\\n's:\\na\\n,\\nab\\n,\\nabbbb\\n, . . .\\n(ab)*\\nsequences of zero or more pairs\\nab\\n:\\n\\x0f\\n,\\nab\\n,\\nabab\\n,\\nababab\\n. . .\\n(ab)\\nj\\n(ba) ab\\nor\\nba\\n((ab)\\nj\\n(ba))*\\npossibly empty sequences of\\nab\\nand\\nba\\npairs:\\n\\x0f\\n,\\nab\\n,\\nabab\\n,\\nbaab\\n,\\nbababa\\n,\\nabba\\n. . . Note that parentheses operate in the usual manner as in\\nmathematical or logical expressions, to denote the\\nscope\\nof operators.\\nb.*a\\nall strings that start with\\nb\\nand end with\\na\\n:\\nba\\n,\\nbbbaaaa\\n,\\nbcccccccca\\n. . .\\n18\\n\",\n",
              " \"A closer look at syntax\\nProgramming languages such as Java, Perl and Python implement extensions of REs\\nwith operators which are mostly redundant in that they can be reduced to\\ncombinations of the above operations, but can make programs much more compact\\nand readable, including:\\n+\\nŒ one or more of the previous item\\n?\\nŒ the previous item is optional\\n[A-Z], [0-9]\\nŒ this expression matches one of a range of characters\\n‹abc\\nŒ matches pattern\\nabc\\nat the start of a string\\nabc$\\nŒ matches pattern\\nabc\\nat the end of a string.\\nSee also Bird et al. (2009, Table 3.3) and the other recommended readings on this\\ntopic.\\nHere are some examples of our suggested ways of recognising personal names coded\\nas regular expressions. These are intended to be applied to tokenised text and every\\n\\nsequence enclosed by angled brackets\\n< : : : >\\nstands for an individual token. In\\nExamples 1, 3 and 4 below, the material within parentheses represents the target\\nstring and sequences outside parentheses provide the context.\\n1.\\n<\\nMrs?\\n>\\n(\\n<\\n.+\\n>\\n) matches `Mr' or `Mrs' followed by any string. The \\x02rst token\\nconsists of the sequence\\nMr\\nfollowed optionally by the character\\ns\\n. The second\\nconsists of a sequence of one or more characters: any character may occur in\\nplace of the wildcard `.'.\\n2.\\n<\\n[A-Z][a-z]+\\n>\\n+ matches any sequence of one or more capitalised words.\\n3. (\\n<\\n[A-Z][a-z]+\\n>\\n+)\\n<\\n,\\n><\\n[0-9]+\\n>\\nmatches capitalised word(s) followed by a\\ncomma and a number (age).\\n4. (\\n<\\n[A-Z][a-z]+\\n>\\n+)\\n<\\nsaid\\nj\\nreported\\nj\\nclaimed\\n>\\n.\\nLearning activity\\n1. Wr ite a regular expression for all str ings consisting of an odd number of\\na\\n's followed by an even\\nnumber of\\nb\\n's.\\n2. Wr ite a regular expression for all sequences of\\na\\n's and\\nb\\n's of length 3.\\n3. Wr ite a regular expression for all str ings that contain\\nabba\\nsomewhere within them.\\nAs you have probably observed, the pattern-matching notation we used in section\\n\\n2.3 employed a subset of the RE syntax, and we could in principle use regular\\nexpressions to encode simple grammars as presented in that section. For example:\\n( (John\\nj\\nMary\\nj\\nFred)\\nj\\n( (the\\nj\\na)(cat\\nj\\ndog\\nj\\n\\x02sh) )\\n(barked\\nj\\nslept\\nj\\nswam)\\n((and\\nj\\nor) (barked\\nj\\nslept\\nj\\nswam))*\\nmatches sentences like:\\n1. John slept\\n2. The cat barked or swam\\n3. Mary swam and barked or slept\\n19\\n\",\n",
              " 'CO\\n3354\\nIntroduction to natural language processing\\n4. . . .\\nIt can be seen that even conceptually simple REs can rapidly become almost\\nunreadable. A more manageable formalism is a\\nregular grammar\\n, made up of\\nproduction rules or rewrite rules of the kind you have seen in the previous section:\\nS\\n!\\nJohn\\nj\\nMar y\\nj\\nFred VP\\nS\\n!\\nthe\\nj\\na S1\\nS1\\n!\\ncat\\nj\\ndog\\nj\\n\\x02sh VP\\nVP\\n!\\nbar ked\\nj\\nslept\\nj\\nswam VP1\\nVP1\\n!\\nand\\nj\\nor VP\\nVP1\\n!\\n\\x0f\\nA sequence of words forms a grammatical sentence according to a grammar of this\\n\\ntype if one can draw a tree diagram like Figure 2.1 such that:\\n1. The root node is\\nS\\nor\\nSentence\\n.\\n2. For every node that matches the left hand side (LHS) of a grammar rule, one can\\ndraw a subtree with the items on the right hand side (RHS) as daughter nodes.\\n3. When no more grammar rules can be applied, every leaf node of the tree\\nmatches a word in the language or the empty string\\n\\x0f\\n.\\nS\\nthe\\nS1\\ncat\\nVP\\nbarked\\nVP1\\nor\\nVP\\nswam\\nVP1\\n\\x0f\\nFigure 2.1: A r ight-branching tree.\\nSymbols which only occur on the right-hand side of rules, and so can only appear as\\nleaf-nodes in a tree, are known as\\nterminal symbols\\n. Regular grammars have the\\nrestriction that when non-terminal symbols appear on the RHS they must either\\nalways be the rightmost symbol, or always the leftmost. These classes of grammars\\nare known as\\nright-linear\\nand\\nleft-linear\\nrespectively. A right-linear grammar will\\nalways result in a right-branching tree as in the above example.\\n20\\n',\n",
              " \"A closer look at syntax\\nLearning activity\\nDraw tree diagrams according to the above grammar for the sentences:\\n1. The dog slept.\\n2. Mar y swam and bar ked or slept.\\n2.4.4 Limitations of \\x02nite-state methods Œ introducing context-free grammars\\nPinker (2007, p.86) gives an example of a `wordchain device' or FSM which is\\nintended to show the limitations of \\x02nite-state methods for handling natural\\nlanguage. The procedure is apparently designed to deal with complex sentences\\nincluding constructions like\\nIf. . . then. . .\\nand\\nEither. . . or . . .\\n. If we look at a few\\npossible matching strings, we see clearly that some are grammatical sentences but\\n\\nothers are nonsensical. (Following a standard convention in linguistics, the\\n\\nunacceptable cases are marked with an asterisk `*'.)\\nEither a happy girl eats ice cream or the boy eats hot dogs.\\n*Either a happy girl eats ice cream then one dog eats candy.\\nIf a girl eats ice cream then the boy eats candy.\\n*If a girl eats ice cream or the boy eats candy.\\nLearning activity\\n1. Wr ite a regular grammar that is equivalent to the FSM in Pinker (2007, p. 86).\\n2. Convince yourself that it allows you to draw well-for med trees for the ungrammatical examples above.\\n\\n3. What character istic of the grammar prevents it from r uling out the ill-for med examples?\\nSee `Answers to Activities' in Appendix C (p. 98) for fur ther discussion.\\nIn order to handle these kinds of sentences correctly we need to add new kinds of\\nrewrite rules, going beyond the class of right- or left-linear grammars:\\n1. To match pairs of words like\\nif . . . then\\n,\\neither . . . or\\n, we need rules where a\\nnon-terminal symbol on the RHS can have additional material on both sides as\\n\\nin the \\x02rst two rules below.\\n2. In order to allow for inde\\x02nite nesting Œ\\nif either John will come if Mary does, or\\n. . .\\nwe need rules where the same symbol can occur on both sides of the arrow.\\nThis is known as\\nself-embedding\\nor\\ncentre-embedding\\n.\\nNote that centre-embedding is an instance of\\nrecursion\\nin grammar; right-linear\\ngrammars may also include recursive rules but they can always be processed\\n\\niteratively rather than recursively (Jurafsky and Martin, 2009, p. 447).\\n21\\n\",\n",
              " 'CO\\n3354\\nIntroduction to natural language processing\\nS\\n!\\nEither S or S\\nS\\n!\\nIf S then S\\nS\\n!\\nNP VP\\nNP\\n!\\nDet N\\nDet\\n!\\na\\nj\\nthe\\nj\\n\\x0f\\nN\\n!\\ngir l\\nj\\nboy\\nj\\ndog\\nj\\ncat\\nj\\nburgers\\nj\\ncandy\\nj\\ncream\\nj\\ncake\\nVP\\n!\\nV NP\\nVP\\n!\\nV PP\\nPP\\n!\\nP NP\\nV\\n!\\neats\\nj\\nlikes\\nj\\nsat\\nP\\n!\\non\\nThe above grammar handles these cases correctly as well as simple sentences like\\nThe cat sat on the mat\\n:\\nS\\nNP\\nDet\\nthe\\nN\\ncat\\nVP\\nV\\nsat\\nPP\\nP\\non\\nNP\\nDet\\nthe\\nN\\nmat\\nFigure 2.2: Tree diagram for\\nThe cat sat on the mat.\\nIt is also acceptable to represent trees using\\nlabelled bracketed strings\\nas in the\\nexample below:\\n(S\\n(NP (Det the ) (N cat ))\\n(VP (V sat )\\n(PP\\n(P on )\\n\\n(NP\\n\\n(Det the ) (N mat ) )\\n)\\n)\\n)\\n22\\n',\n",
              " \"A closer look at syntax\\nFigure 2.3 is an example of self-embedding.\\nS\\nIf S\\nNP\\nDet\\nthe\\nN\\ncat\\nVP\\nV\\nlikes\\nNP\\nDet\\n\\x0f\\nN\\ncream\\nthen S\\nNP\\nDet\\nthe\\nN\\nboy\\nVP\\nV\\neats\\nNP\\nDet\\n\\x0f\\nN\\nburgers\\nFigure 2.3: Tree diagram with self-embedding.\\nLearning activity\\n1. Trace through the grammar r ules and satisfy yourself that Figure 2.3 represents the str ucture of the\\nsentence\\nIf the cat likes cream then the boy eats burgers\\naccording to the grammar.\\n2. What is the shor test sentence generated by the above grammar?\\n3. Using the above grammar, draw complete tree diagrams for :\\n(a) If the gir l likes cake then either the boy eats burgers or the boy eats candy.\\n\\n(b) If either the boy likes cake or the gir l likes burgers then the dog eats candy.\\n4. Think of ways to modify the grammar to generate more natural-sounding sentences.\\n2.4.5 Looking ahead: some fur ther uses of regular expressions\\nIn this chapter we have so far looked at \\x02nite-state formalisms as techniques for\\ngenerating or recognising short phrases as well as whole sentences, and found them\\nto be wanting. Many current applications in language technology do not, in fact,\\n\\nrequire complete analysis of sentences but proceed by looking for patterns of interest\\n\\nwithin a text and discarding what does not match these patterns. Finite-state\\n\\nmethods are often quite adequate for these applications and you will see many uses\\n\\nfor regular expressions in later chapters of this guide. Some examples we will look at\\nin more detail in later chapters are:\\nstemming: extracting the `base form' of a word as informally presented in\\nsection 2.5 of this chapter\\ntagging: automatically assigning POS or other forms of mark-up to elements in a\\ntext\\nchunking: grouping together a sequence of words as a phrase\\ninformation extraction: identifying chunks that denote meaningful entities,\\nevents or other items of interest.\\n23\\n\",\n",
              " \"CO\\n3354\\nIntroduction to natural language processing\\n2.4.6 Looking ahead: grammars and parsing\\nThe pseudocode and graphical representations of wordchains (FSMs) combine a\\nspeci\\x02cation of the well-formed sentences in a language fragment with a processing\\nstrategy. It is im portant to keep in mind that formal grammars made up of a series of\\n\\nproduction rules do\\nnot\\nencode a processing strategy. As stated above, a grammar is\\na declarative speci\\x02cation of the strings that make up a language while parsers use a\\n\\nvariety of algorithms to apply the grammar rules. We will look at some of these\\nparsing strategies in Chapter 6 of this subject guide.\\n2.5 Word structure\\nWords combine in different orders to form sentences and phrases; they also have\\ninternal structure. Nouns in English may have different endings according to\\n\\nwhether they are singular (\\na box\\n) or plural (\\nsome boxes\\n) while in some languages\\nthis information may be expressed at the start of the word, for example Swahili\\nziwa\\n(`lake') vs\\nmaziwa\\n(`lakes'). In English, endings of verbs can indicate person, number,\\ntense and mood\\n2\\n, while other languages may make different dictinctions. Nouns and\\nverbs are sometimes classi\\x02ed as regular or irregular according to whether their\\n\\nin\\x03ected forms can be derived by following simple rules. Table 2.2 shows examples\\n\\nof some common past tense forms in English.\\nPresent Past\\nbecome became\\ncome came\\nmistake mistook\\nmisunderstand misunderstood\\nring rang\\nsell sold\\nshake shook\\nsing sang\\nsink sank\\nstand stood\\ntake took\\ntell told\\ntravel travelled\\nunderstand understood\\nwithstand withstood\\nTable 2.2: Past tense for ms (1).\\nThe sub\\x02eld of linguistics known as\\nmorphology\\nis concerned with the structure of\\nwords and is concerned, among other things, with formulating rules for deriving\\ndifferent forms of a word according to its grammatical role. Here are some rules\\n\\nwhich appear to cover the examples in the table:\\n2\\nSee the Internet Grammar of English at http://www.ucl.ac.uk/internet-grammar/verbs/verbs.htm (last\\nvisited 27th May 2013) for explanations of these terms.\\n24\\n\",\n",
              " 'A br ief histor y of natural language processing\\nSome rules for past-tense formation\\n-come\\n!\\n-came\\n-take\\n!\\n-took\\n-ing\\n!\\n-ang\\n-ink\\n!\\n-ank\\n-ell\\n!\\n-old\\n-and\\n!\\n-ood\\n-el\\n!\\n-elled\\nSome of these rules could be made more general: we could combine the\\n-ing\\nand\\n-ink\\nrules to a single rule, -in\\n!\\n-an\\n. On the other hand, some rules which work for\\nthese particular examples would fail if applied to a wider range of data: we have\\ncome\\n!\\ncame\\n,\\nbecome\\n!\\nbecame\\nbut not\\nwelcome\\n!\\n*welcame\\n. This is an example of\\nrules\\nover\\x02tting\\nthe data.\\nLearning activity\\nModify the above r ules so that they will account for the past tense for ms in Table 2.3 as well as in Table 2.2.\\nPresent Past\\nbake baked\\ncommand commanded\\nbring brought\\nsling slung\\nsmell smelt\\nthink thought\\nwake woke\\nTable 2.3: Past tense for ms (2).\\nA natural language application such as a machine translation system will typically\\ninclude a database of words or\\nlexicon\\nalong with rules for deriving word endings:\\nfor example, a translation from English into Dutch might handle the word\\nbrought\\nas\\nfollows:\\n1. Find the stem of\\nbrought\\nand interpret the in\\x03ection:\\nbring\\n+\\npast\\n2. Find the Dutch equivalent of\\nbring\\n:\\nbrengen\\n3. Find the past tense of\\nbrengen\\n:\\nbracht\\nThe process of removing af\\x02xes from words to derive the basic form is called\\n\\nstemming\\n. We will look at some tools for doing this in Chapter 4, and you will also\\nhave the opportunity to encode your own rules as regular expressions.\\n2.6 A brief histor y of natural languag e processing\\nThe \\x02eld of natural language processing or computational linguistics builds on\\ntechniques and insights from a number of different disciplines, principally\\n25\\n',\n",
              " \"CO\\n3354\\nIntroduction to natural language processing\\ntheoretical linguistics and computer science but with some input from mathematical\\nlogic and psychology.\\nThe notions of a \\x02nite-state machine and context-free grammar (CFG) were \\x02rst\\nintroduced to linguistics by Chomsky (1957; see Pullum (2011) for a somewhat\\n\\ncritical reappraisal). Chomsky argued that both formalisms were inadequate for\\n\\nmodelling natural language and proposed an additional operation of\\n\\ntransformations, which could essentially permute the output string of a CFG in\\nvarious ways. Chomsky's work introduced a methodology which was to dominate\\ntheoretical linguistics for the next couple of decades: linguists concentrated on\\n\\npostulating formal rules of grammar which were tested against their own intuitions\\n\\nor those of native speakers of other languages, rather than seeking to induce rules\\n\\nfrom large collections of data. Part of the rationale for this was that native speakers\\n\\nof a language are able to recognise whether a sequence of words makes up an\\nacceptable sentence in their language, even if they have never encountered those\\nwords in that particular order before. Prior to what was to become known as the\\n\\nChomskyan revolution, corpus-based approaches had been the norm in general\\n\\nlinguistics. This tradition was overshadowed for a time by so-called `generative'\\n\\nlinguistics, but corpus-based research continued in some quarters until its resurgence\\n\\nin the 1980s, including the development of the \\x02rst machine-readable corpus by the\\nJesuit priest Fr Robert Busa. Busa developed a 10 million-word corpus of medieval\\nphilosophy on punch-cards, with the support of Thomas Watson of IBM (McEnery\\n\\nand Wilson, 2001, pp. 20Œ21).\\nWork in formal grammar tended to assume a `backbone' of context-free rules,\\naugmented with various mechanisms to handle data that appeared to go beyond the\\ncontext-free model; some important developments were Generalised Phrase\\n\\nStructure Grammar (Gazdar et al., 1985) and Head-driven Phrase Structure\\n\\nGrammar (Pollard and Sag, 1994). We will see examples of these extra mechanisms\\n\\nin Chapter 6.\\nEarly work on automated language processing was essentially procedural in its\\nmethodology, working with a type of \\x02nite-state machine called\\ntransition\\nnetworks\\nwhich were extended as augmented transition networks to cope with\\nvarious linguistic constructions (Woods, 1970). Later work based on declarative\\n\\ngrammar formalisms employed techniques including\\ndeductive parsing\\n(Pereira and\\nWarren, 1983) and\\nuni\\x02cation\\n(Kay, 1984). The former adopts techniques from the\\nAI \\x02eld of automated reasoning: the core idea is that parsing a sentence can be seen\\n\\nas constructing a logical proof that a particular sequence of words forms a proper\\n\\nsentence according to a given set of grammar rules. Uni\\x02cation grammars treat\\n\\nlinguistic objects as sets of attributes or features with a \\x02nite range of values, and\\n\\ngrammar rules specify that particular items in a sentence must have the same or\\n\\ncompatible values for certain features. For example, the subject and main verb of a\\nsentence should have the same value for the\\nnumber\\nfeature. We will consider\\ndetailed examples in Chapter 6.\\nMeanwhile, substantial progress was made in lower-level tasks such as speech\\nrecognition and morphological analysis using probabilistic techniques and\\n\\x02nite-state models. During the late 1990s these techniques were extended to cover\\ntasks such as parsing, part-of-speech tagging and reference resolution (recognising\\n\\nwhether or not different expressions in a document referred to the same person or\\n\\nentity). These developments were driven by a number of factors: the continuing\\n\\nincrease in the processing speed and memory capacity of computers; the availability\\n\\nof massive amounts of spoken and written material, both in unstructured form on\\nthe world wide web and with various types of annotation in corpora such as the\\n26\\n\",\n",
              " 'Sample examination questions\\nPenn Treebank\\n3\\nor the British National Corpus\\n4\\n, and events such as the Message\\nUnderstanding Conferences\\n5\\nwhich were initially sponsored by the US Department\\nof Defense to measure and foster progress in extracting information from\\nunstructured text.\\nMuch work since around the year 2000 has involved the use of machine learning\\ntechniques such as Bayesian models and maximum entropy (see Chapter 5). This\\n\\nhas involved using annotated corpora to train systems to segment and annotate texts\\naccording to various morphological, syntactic or semantic criteria. These techniques\\nhave been systematically applied to particular tasks such as parsing, word sense\\n\\ndisambiguation, question answering and summarisation.\\n2.7 Summar y\\n1. This chapter has characterised the subject matter of the course as being\\nconcerned with various ways of using computer programs to analyse\\ntext\\n, by\\nwhich we mean words, numbers, punctuation and other meaningful symbols\\n\\nthat are printed on paper or some other \\x03at surface, or displayed on a screen.\\n2. Some fundamental operations in text analysis include\\ntokenisation\\n, which\\ninvolves extracting these meaningful elements from a stream of electronic\\n\\ncharacters and discarding white space, line feed characters and other material\\n\\nwhich has no explicit meaning for a human reader, and using regular\\n\\nexpressions to identify patterns in a text.\\n3. Regular expressions are composed of the three basic operations of sequence,\\nselection and iteration, and have many applications in computational linguistics\\n\\nand computer science at large. A \\x02nite-state machine is a process whose\\n\\noperations can be speci\\x02ed by means of regular expressions. A regular grammar\\n\\nis a set of production rules or rewrite rules that de\\x02nes the sentences that make\\n\\nup a language, and any language de\\x02ned by a regular grammar can be\\nprocessed by a \\x02nite state machine or described using a regular expression.\\n4. A complete syntactic analysis of natural language sentences is generally held to\\nrequire the additional operation of centre-embedded recursion, which is beyond\\nthe power of \\x02nite-state methods. Recursion is formally encoded in context-free\\n\\ngrammars.\\n5. Not only do words combine in various patterns and structures to form sentences;\\nthey also have internal structure which can be described to an extent using rules\\n\\nfor regular and irregular forms.\\n6. The current state of NLP or computational linguistics builds on research results\\nand concepts from many different \\x02elds, and we have sketched some of the\\n\\nhighlights in a very short history of the discipline.\\n2.8 Sample examination questions\\nYou can expect a list of RE operators to be included as an appendix in the\\nexamination paper.\\n3\\nhttp://www.cis.upenn.edu/\\n˘\\ntreebank/; last visited 27th May 2013\\n4\\nhttp://www.natcorp.ox.ac.uk/; last visited 27th May 2013\\n5\\nhttp://www.itl.nist.gov/iaui/894.02/related\\nprojects/muc/; last visited 27th May 2013\\n27\\n',\n",
              " \"CO\\n3354\\nIntroduction to natural language processing\\n1. S\\n!\\nNP VP\\nNP\\n!\\nDet N\\nNP\\n!\\nPN\\nVP\\n!\\nV\\nVP\\n!\\nV NP\\nVP\\n!\\nV NP PP\\nVP\\n!\\nVP Adv\\nPP\\n!\\nP NP\\nDet\\n!\\nthe\\nj\\na\\nN\\n!\\nwaiter\\nj\\nchairs\\nj\\ntables\\nj\\nhotel\\nj\\nmanager\\nPN\\n!\\nOscar\\nj\\nParis\\nV\\n!\\ndied\\nj\\nput\\nj\\nsaw\\nj\\ncalled\\nAdv\\n!\\nsuddenly\\nj\\nquickly\\nj\\nslowly\\nP\\n!\\nin\\nj\\non\\n(a) Using the grammar rules above, draw syntax trees for:\\ni. Oscar died suddenly.\\nii. The waiter put the chairs on the tables.\\niii. Oscar called the waiter.\\n(b) Modify the grammar so that it generates the unstarred sentences below as\\nwell as (iŒiii) above but not the starred ones. Explain the reasons for your\\nmodi\\x02cations.\\ni. Oscar died in Paris.\\nii. Oscar died in a hotel in Paris.\\niii. The waiter came to the table when Oscar called him.\\niv. When Oscar called him the waiter came to the table.\\nv. * Oscar put\\nvi. * The waiter saw on the tables\\nvii. * The waiter put in the chairs\\nviii. * The waiter put the chairs\\nix. * Oscar died the table\\nx. * When Oscar called him when the waiter came to the table.\\n2. Write a regular expression that will identify male and female names in context,\\nin an English-language text. Discuss ways in which this might over- or\\n\\nunder-generate.\\n3. Explain the difference between regular and context-free grammars and discuss\\nthe claim that natural language grammars need at least context-free power.\\n4. (a) Write a regular grammar which generates the following sentences:\\ni. This is the kid that my father bought.\\nii. This is the cat that killed the kid that my father bought.\\niii. This is the dog that worried the cat that killed the kid that my father\\nbought.\\niv. This is the stick that beat the dog that worried the cat that killed the kid\\nthat my father bought.\\n(\\nBrewer's Dictionary of Phrase and Fable\\n, 1896)\\n(b) Write out three more sentences generated by your grammar.\\n28\\n\",\n",
              " \"Chapter 3\\nGetting to grips with natural languag e data\\nEssential reading\\nBird et al. (2009)\\nNatural Language Processing with Python\\nChapters 1 and 2\\nparticularly: 1.1Œ1.3, 2.1Œ2.2, 2.5.\\nRecommended reading\\n\\nMcEnery (2003) `Corpus Linguistics' in Mitkov (2003) is a succinct overview of the\\ntopic from one of the leading scholars in the \\x02eld.\\nAdditional reading\\nMcEnery and Wilson (2001)\\nCorpus Linguistics\\nis an established undergraduate\\ntextbook; Chapters 2 and 3 are especially relevant for this topic.\\nMcEnery and Hardie (2011)\\nCorpus Linguistics: Method, Theory and Practice\\n. Chapter\\n3 addresses the important topic of research ethics for corpus linguistics, which is\\noften neglected in technical or academic presentations of the subject.\\n3.1 Learning outcomes\\nBy the end of this chapter, and having completed the Essential reading and activities,\\nyou should be able to:\\nexplain what is meant by a corpus in the context of natural language processing,\\n\\nand describe some different types, structures and uses of corpora\\ndescribe the characteristics of some well-known corpora and other language\\nresources such as the Brown corpus, Penn treebank, Project Gutenberg and\\nWordNet\\nUse online interfaces and other software tools to do some basic corpus analysis,\\n\\nincluding concordancing and \\x02nding collocations\\nlocate and format raw text documents and analyse them using corpus tools.\\n3.2 Using the Natural Languag e Toolkit\\nAs stated in Chapter 1, this subject guide is not intended as a stand-alone tutorial in\\nusing the NLTK or the Python language. You are advised to read through the\\nrecommended sections of Bird et al. (2009) and work through the exercises marked\\n29\\n\",\n",
              " \"CO\\n3354\\nIntroduction to natural language processing\\nYour turn\\n. You may also \\x02nd it useful to attempt some of the exercises provided at\\nthe end of each chapter.\\nFrom this chapter onwards you will be running Python sessions and using the NLTK.\\nYou should get into the habit of starting sessions with the following commands:\\n>>> from __future__ import division\\n>>> import nltk, re, pprint\\nOne of the features that makes the Python language suitable for natural language\\napplications is the very \\x03exible treatment of data structures such as lists, strings and\\n\\nsequences. You should be familiar with these structures from previous programming\\n\\ncourses, but should ensure you understand the way they are handled in Python. For\\n\\nthis chapter, only lists are relevant and you should study Bird et al. (2009, section\\n1.2) before trying any of the learning activities in this chapter.\\n3.3 Corpora and other data resources\\nAs explained in the previous chapter, much natural language processing relies on\\nlarge collections of linguistic data known as\\ncorpora\\n(plural of\\ncorpus\\n). A corpus can\\nbe simply de\\x02ned as no more than a collection of language data, composed of\\n\\nwritten texts, transcriptions of speech or a combination of recorded speech and\\n\\ntranscriptions.\\nCorpora fall into three broad categories (McEnery, 2003, p.450):\\nMonolingual\\ncorpora consist, as the name suggests, of data from a single\\nlanguage.\\nComparable\\ncorpora include a range of monolingual corpora in different\\nlanguages, preferably with a similar level of balance and representativeness, and\\ncan be used for contrastive studies of those languages.\\nParallel\\ncorpora include original texts in one language with translations of those\\ntexts in one or more different languages. Parallel corpora can be used to train\\n\\nstatistical translation systems.\\nA corpus is generally expected to have additional characteristics: corpora are usually\\n\\nconstructed so as to be\\nbalanced\\nand\\nrepresentative\\nof a particular domain (McEnery\\nand Wilson, 2001, pp. 29Œ30). (Sometimes the term is used more loosely to cover\\n\\nany large collection of language data which need not have been compiled\\n\\nsystematically, as in the phrase `the web as corpus'.)\\nSampling theory\\nis a branch of\\nstatistics that deals with questions such as: how many respondents are needed in an\\n\\nopinion poll for the results to be considered to represent public opinion at large?\\n\\nSimilar considerations arise in corpus linguistics. This is particularly important if a\\n\\ncorpus is to be used for quantitative analysis of the kind described in Chapter 5: if\\n\\nthe corpus data is skewed or unrepresentative then results of the analysis may not be\\n\\nreliable. These considerations may be less important if the corpus is collected for the\\nliterary or historical interest of the documents that make it up, as is the case with\\nProject Gutenberg for example.\\nFor example, Bird et al. (2009, pp. 407Œ412) refer to the TIMIT corpus, an annotated\\nspeech corpus developed by Texas Instruments and MIT. To ensure\\n\\nrepresentativeness, it was designed to include a wide coverage of dialect variations.\\nCorpus builders need to exercise expert judgment in deciding on the\\nsampling frame\\n,\\n30\\n\",\n",
              " \"Some uses of cor pora\\nor `the entire population of texts from which we will take our samples' (McEnery and\\nWilson, 2001, p. 78) and calculating the size of the corpus that is necessary for it to\\nbe maximally representative. The sampling frame may, for example, be\\nbibliographic\\n,\\nbased on some comprehensive index or the holdings of a particular library, or\\ndemographic\\n, selecting informants on the basis of various social categories as is often\\ndone in public opinion research.\\nCorpora have tended to be of a \\x02nite size and to remain \\x02xed once they have been\\ncompiled. There are also what is known as\\nmonitor corpora\\nwhich are continually\\nupdated with new material. This is particularly useful for compilers of dictionaries\\nwho need to be able to track new words entering the language and the changing or\\n\\ndeclining use of old ones. An example of a monitor corpus is the COBUILD Bank of\\n\\nEnglish\\nTM\\n, which had around 300 million words when it was referred to by McEnery\\n(2003) and has since more than doubled in size to 650 million words.\\nA further distinction is between corpora consisting solely of the original or `raw' text\\nand those that have been marked up with various annotations. One common\\n\\ntechnique is\\nstandoff annotation\\nwhere the mark-up is stored in a different \\x02le from\\nthe original text (McEnery and Wilson, 2001, p.38); (Bird et al., 2009, p.415).\\nFinally, corpora can be further classifed according to their structure:\\nIsolated\\nŒ an unorganised collection of individual texts such as the Gutenberg\\nonline collection of literary works.\\nCategorised\\nŒ texts are organised by categories such as genre; an example is the\\nBrown corpus described below.\\nOverlapping\\nŒ some categories overlap. A news corpus such as Reuters may contain\\nstories which cover both politics and sport, for example.\\nTemporal\\nŒ texts indicate language use over time. Examples are the Inaugural\\ncorpus of all inaugural speeches by US Presidents, and the Helsinki Diachronic\\ncorpus of about 1.6 million words of English dating from the early 9th century\\n\\nCE to 1710.\\nSome examples of corpora, which will be described in more detail later in the\\n\\nchapter, are:\\nBrown\\nDeveloped at Brown University in the early 1960s.\\nBNC\\nBritish National Corpus, created and managed by BNC consortium which\\nincludes Oxford and Lancaster universities, dictionary publishers OUP,\\nLongmans and Chambers, and the British Library.\\nCOBUILD (Bank of English)\\nThe Bank of English\\nTM\\nforms part of the Collins\\nCorpus, developed by Collins Dictionaries and the University of Birmingham,\\n\\nand contains 650 million words.\\nGutenberg\\nAn archive of free electronic books in various formats hosted at\\nhttp://www.gutenberg.org\\n/\\nPenn Treebank\\nA corpus of reports from the\\nWall Street Journal\\nand other sources\\nin various different formats.\\n3.4 Some uses of corpora\\nMcEnery and Wilson (2001, Chapter 4) discuss a variety of uses for corpora, some of\\nwhich are brie\\x03y discussed below.\\n31\\n\",\n",
              " \"CO\\n3354\\nIntroduction to natural language processing\\n3.4.1 Lexicography\\nModern dictionaries such as Chambers, Collins and Longmans now rely heavily on\\ncorpus data in order to classify and inventorise the various ways words can be used\\nin contemporary English as well as any ways these uses may have changed. For\\n\\nexample, a lexicographer who wishes to determine whether the words\\nscapegoat\\n,\\nthermostat\\nor\\nleverage\\ncan be used as verbs can enter the appropriate search string\\nand be presented with examples such as the following (from the BNC):\\nScapegoating\\nan individual prevents the debate and delays community\\nunderstanding\\n.\\nThe measuring cell is immersed in a vat of liquid, usually benzene or xylene which\\n\\ncan be\\nthermostatted\\nat temperatures between 273 and 400 K\\n.\\nThese one-time costs once met could be\\nleveraged\\nover much more business activity\\naround the globe than we then enjoyed\\n.\\nMcEnery and Wilson (2001, p. 107) discuss a case where they claim that two\\n\\nwell-known dictionaries had `got it wrong' by listing\\nquake\\nas a solely intransitive\\nverb, while examples in a transitive construction can in fact be found through a\\n\\ncorpus search:\\nThese sudden movements quake the Earth. (BNC)\\nIt is perhaps debatable whether the dictionaries in question were `wrong' to\\n\\ndisregard examples like this, or the compilers may have judged this to be an\\n\\nidiosyncratic usage which did not merit being included in a work of reference with\\nthe status of standard usage.\\n3.4.2 Grammar and syntax\\nLarge-scale grammars for pedagogic and reference use such as the\\nComprehensive\\nGrammar of the English Language\\n(Quirk et al., 1985) or the\\nCambridge Grammar of\\nthe English Language\\n(Huddleston and Pullum, 2002) use corpora among their\\nsources of information along with results of linguistic research and the compilers'\\nown subjective intuitions as competent speakers of the language, although this has\\ntended to involve qualitative rather than quantitative analysis. Recent advances in\\ncomputational power and developments in parsed corpora and tools to analyse them\\n\\nhave made it possible for researchers to carry out quantitative studies of various\\n\\nkinds of grammatical frequency, such as the relative frequency of different clause\\n\\ntypes in English. Other studies use corpora to test predictions made by formal\\ngrammars that have been developed within the generative school of linguistics. The\\nCOBUILD project which provided the resources for Collins English dictionaries has\\n\\nalso resulted in a series of small handbooks covering various kinds of grammatical\\n\\nconstruction, which are useful both for advanced language learners and for linguists\\n\\nin search of examples.\\n3.4.3 Stylistics: variation across authors, periods, g enres and channels of\\ncommunication\\nThe notion of\\nstyle\\nin communication is that people generally have a choice between\\ndifferent ways of expressing themselves and not only do individuals tend to make\\n32\\n\",\n",
              " \"Cor pora\\nsimilar choices each time they communicate, but their particular choices may be\\nmore characteristic of particular genres (romantic \\x02ction, \\x02nancial news, court\\nreports and so on), time periods and channels of communication. By\\nchannels\\nwe\\nmean distinctions such as written text compared with spoken discourse, both of\\nwhich can be further subdivided: people will make different choices when\\n\\ncomposing emails, sending text messages or (rarely) writing a letter by hand. We\\n\\nprobably also adopt different styles when talking face-to-face and on the telephone.\\n\\nLiterary scholars as well as law enforcement and intelligence agencies may have an\\ninterest in identifying the author of a document from internal evidence. There have\\nbeen various famous and less well-known instances of controversial attribution of\\n\\nauthorship: for example, various \\x02gures have been put forward as the authors of\\n\\nShakespeare's plays.\\n3.4.4 Training and evaluation\\nIn addition to the applications listed above, corpora are routinely used in linguistic\\nresearch for training and testing machine-learning systems for speci\\x02c tasks in\\ntext\\nanalytics\\nsuch as:\\ndetecting the topic of a document\\nanalysing the sentiments expressed for or against some product or policy\\nidentifying individuals described in a text, relations between them and events\\n\\nthey participate in\\nstatistical parsing\\nstatistical machine translation.\\nFor example, the Brown corpus and the WSJ corpus are typically used for evaluating\\n\\ntext segmentation among other text processing tasks (Mikheev, 2003, p. 203).\\nThese topics will be covered in more detail in Chapter 5 of this subject guide, where\\nyou will be introduced to various machine-learning techniques. These will all be\\ntypes of\\nsupervised learning\\n, where a system is trained on `corpora containing the\\ncorrect label for each input' (Bird et al., 2009, p. 222), as opposed to\\nunsupervised\\nlearning\\nwhere the system is designed to detect patterns in the input without any\\nfeedback. This normally means that the corpus has been marked up by human\\nannotators. Standard practice is to divide a corpus into training and test sets; the\\n\\ntest set is considered a\\ngold standard\\nfor comparing the accuracy of trained learning\\nsystems with that of the annotators. Of course humans are fallible, and it is good\\n\\npractice to use multiple annotators for at least a sample of the corpus and report the\\n\\nlevel of\\ninter-annotator agreement\\nthat was achieved. This will set an upper bound\\nfor the performance that can be expected from the system, as it seems meaningless\\n\\nto say that a computer program can achieve 100 per cent accuracy on tasks where\\n\\nhuman annotators disagree (see Jurafsky and Martin, 2009, p. 189).\\n3.5 Corpora\\nThis section provides brief descriptions of various corpora, some of which are\\ndistributed in full or in part with the NLTK and others can be accessed online.\\n33\\n\",\n",
              " \"CO\\n3354\\nIntroduction to natural language processing\\n3.5.1 Brown corpus\\nThis was one of the \\x02rst `large-scale' machine readable corpora, though it may seem\\nrather small by today's standards, consisting of one million words. It was developed\\nat Brown University from the early 1960s and took around two decades to complete.\\n\\nIt was intended as a `standard corpus of present-day edited American English' and is\\n\\ncaterorised by genre under headings such as:\\nNews\\nChicago Tribune\\n: Society Reportage\\nEditorial\\nChristian Science Monitor\\n: Editorials\\nReviews\\nTime Magazine\\n: Reviews\\nGovernment\\nUS Of\\x02ce of Civil Defense:\\nThe Family Fallout Shelter\\nScience Fiction\\nHeinlein:\\nStranger in a Strange Land\\nHumour\\nThurber:\\nThe future, if any, of comedy\\n.\\nThe Brown corpus is provided with the NLTK in tagged and untagged versions and\\ncan be accessed using the various methods listed by Bird et al. (2009, Table 2.3,\\n\\np. 50).\\n3.5.2 British National Corpus\\nThe BNC is created and managed by the BNC consortium, which includes Oxford\\nand Lancaster universities, dictionary publishers OUP, Longmans and Chambers, and\\n\\nthe British Library. It was developed between 1991 and 1994 and consists of 100\\n\\nmillion words: 90 per cent written and 10 per cent transcriptions of speech. This\\nwas one of the \\x02rst corpora to include spontaneous spoken English. The corpus was\\nmarked up using an automated part-of-speech tagger which resulted in a signi\\x02cant\\n\\nsaving of time and expense compared with manual annotation by competent\\n\\nspeakers of the language, but means that there is inevitably a degree of error Œ as\\n\\nyou may discover in the course of the exercise given later in this chapter.\\nYou can access this corpus online and perform various kinds of analysis using the\\nSimple Query language. Registration is required via the following link but there is\\n\\ncurrently no charge:\\nhttp://bncweb.lancs.ac.uk/bncwebSignup/user/login.php\\n(last visited 27th\\nMay 2013)\\n3.5.3 COBUILD Bank of English\\nThe COBUILD project involved Collins Dictionaries and the University of\\nBirmingham. The Collins corpus is a 2.5-billion word analytical database of English.\\nIt contains written material from websites, newspapers, magazines and books\\npublished around the world, and spoken material from radio, TV and everyday\\n\\nconversations. The Bank of English\\nTM\\nforms part of the Collins Corpus and contains\\n650 million words. It was used as a basis for the Collins Advanced Learner's\\n\\nDictionary, grammars and various tutorial materials for learners of English. It is not\\n\\nincluded in the NLTK but there is limited online access via\\nhttp://www.collinslanguage.com/wordbanks\\n.\\n34\\n\",\n",
              " \"Cor pora\\n3.5.4 Penn Treebank\\nThe Penn Treebank with its various offshoots is one of the widely used linguistic\\nresources among empirical researchers.\\nIt includes a collection of texts in four different formats:\\nRaw text (original).\\nTagged with POS using a tagset which was developed as part of the project.\\n`Parsed'; that is, marked up with constituent structure.\\nCombined, including both POS tags and constituent structure.\\nThe Penn Treebank project . . . has produced treebanks from the Brown, Switchboard, ATIS and\\nWall Street\\nJour nal\\ncor pora of English, as well as treebanks in Arabic and Chinese.\\nJurafsky and Mar tin (2009, p. 438)\\nThe project began at the University of Pennsylvania in the 1990s and the results\\nhave been used as a basis for further annotation efforts involving semantics and\\n\\nrhetorical structure. The NLTK includes a selection from the\\nWall Street Journal\\n(WSJ)\\ncomponent of the Treebank, which can be accessed in each of the above\\nformats and additionally with a simpli\\x02ed POS tagset (Bird et al., 2009, Table 5-1,\\n\\np. 183). Here is an excerpt showing the four different formats:\\nRaw text\\nPierre Vinken, 61 years old, will join the board as a\\nnonexecutive director Nov. 29.\\nTagg ed\\n[ Pierre/NNP Vinken/NNP ]\\n,/,\\n\\n[ 61/CD years/NNS ]\\nold/JJ ,/, will/MD join/VB\\n[ the/DT board/NN ]\\n\\nas/IN\\n\\n[ a/DT nonexecutive/JJ director/NN Nov./NNP 29/CD ]\\n\\n./.\\nParsed\\n( (S (NP-SBJ (NP Pierre Vinken)\\n,\\n(ADJP (NP 61 years) old)\\n35\\n\",\n",
              " \"CO\\n3354\\nIntroduction to natural language processing\\n,)\\n(VP will\\n(VP join\\n(NP the board)\\n(PP-CLR as\\n(NP a nonexecutive director))\\n\\n(NP-TMP Nov. 29)))\\n\\n.))\\nCombined\\n( (S\\n(NP-SBJ\\n(NP (NNP Pierre) (NNP Vinken) )\\n(, ,)\\n\\n(ADJP\\n(NP (CD 61) (NNS years) )\\n\\n(JJ old) )\\n(, ,) )\\n(VP (MD will)\\n(VP (VB join)\\n(NP (DT the) (NN board) )\\n(PP-CLR (IN as)\\n(NP (DT a) (JJ nonexecutive) (NN director) ))\\n(NP-TMP (NNP Nov.) (CD 29) )))\\n(. .) ))\\n3.5.5 Gutenberg archive\\nThe NLTK includes a small selection of out-of-copyright literary texts from Project\\nGutenberg, an archive of free electronic books hosted at\\nhttp://www.gutenberg.org/\\nSome of the texts included are:\\nJane Austen:\\nEmma\\n,\\nPersuasion\\nGK Chesterton:\\nFather Brown stories\\n,\\nThe Man Who Was Thursday\\nWilliam Blake:\\nPoems\\nMilton:\\nParadise Lost\\nShakespeare:\\nJulius Caesar\\n,\\nMacbeth\\n,\\nHamlet\\n3.5.6 Other corpora\\nSome further corpora included with the NLTK are:\\nThe Reuters corpus distributed with the NLTK contains 10,788 news documents\\ntotalling 1.3m words, partitioned into `training' and `test' sets. This split is for\\n\\ntraining and testing machine learning algorithms: we return to this topic in\\n\\nChapter 5 of this subject guide.\\n36\\n\",\n",
              " 'Cor pora\\nUS Presidents\\' inaugural and State of the Union addresses, organised as separate\\n\\x02les.\\nUN Declaration of Human Rights in 300+ languages. Here are a few excerpts:\\n\\x0f\\nAll human beings are born free and equal in dignity and rights.\\n\\x0f\\nAbantu bonke bazalwa bekhululekile njalo belingana kumalungelo abo\\n.\\n\\x0f\\nTodos os seres humanos nascem livres e iguais em dignidade e em direitos\\n.\\nOther corpora with online query interfaces include:\\n1. The Corpus of Contemporary American English, hosted at Brigham Young\\nUniversity, is claimed to be `the only large and balanced corpus of American\\n\\nEnglish\\'.\\nhttp://corpus.byu.edu/coca/\\n(last visited 27th May 2013)\\n2. The Intellitext project at the University of Leeds `aims to facilitate corpus use for\\nacademics working in various areas of the humanities\\' and currently provides\\n\\naccess to monolingual and parallel corpora in several European and Asian\\n\\nlanguages.\\nhttp://corpus.leeds.ac.uk/it/\\n(last visited 27th May 2013)\\nLearning activity\\n1. Pick two or three of the cor pora mentioned above and research them online, focusing on questions\\nsuch as:\\nhow large is the cor pus?\\nwhat language(s) and genre(s) does it represent?\\nwhen was it constr ucted and what is its intended use?\\nwhat is the sampling frame?\\nwhat level of interannotator agreement was achieved, if repor ted?\\n2. Logon to the BNC Web (free registration needed) or another online cor pus. Study the documentation\\nprovided and search for data to answer the following questions:\\nWhat syntactic categor ies can the following words have?\\ntotal\\n,\\npancake\\n,\\nrequisition\\n,\\nacquisition\\n.\\nThe guide to Simple Quer y Syntax provided with the BNC war ns that `par t-of-speech tags have\\n\\nbeen assigned by an automatic software tool and are not always correct\\'. Have your answers to\\n\\nthe previous question shown up any examples of incorrect classi\\x02cation, in your view?\\nWhat prepositions can follow the verb\\ntalk\\n? Give an example in each case.\\n3.5.7 WordNet\\nThe NLTK also includes English WordNet, with 155,287 words and 117,659\\nsynonym sets or\\nsynsets\\n. A synset consists of a set of synonymous words paired with\\na de\\x02nition and linked to words with more general or more speci\\x02c meanings. For\\n\\nexample,\\ntable\\nhas various meanings:\\ntable.n.01 [\\'table\\', \\'tabular\\\\_array\\'], \"a set of data arranged in\\n\\nrows and columns\"\\ntable.n.02 [\\'table\\'], \"a piece of furniture having a smooth flat top\\n37\\n',\n",
              " 'CO\\n3354\\nIntroduction to natural language processing\\nthat is usually supported by one or more vertical legs\"\\ntable.n.02 hyponyms: drop-leaf\\\\_table, coffee\\\\_table, pool\\\\_table, altar,\\ntable.n.02 hypernyms: furniture\\n3.6 Some basic corpus analysis\\nThis chapter describes some relatively simple techniques, extracting various kinds of\\ndata in suitable formats for human interpretation of the results. Chapters 4 and 5 of\\n\\nthe subject guide will look at ways the analysis and interpretation itself can be\\nautomated to varying degrees.\\nConcordancing\\ninvolves locating every instance of a word or phrase within a text or\\ncorpus and presenting it in context, usually a \\x02xed number of words before and\\nafter each occurrence.\\nCollocations\\nare pairs of sequences of words that occur together in a text more\\nfrequently than would be expected by chance, and so provide a rough indication\\n\\nof the content or style of a document.\\nConditional frequency distributions\\nsupport an elementary form of statistical\\nanalysis. A\\nfrequency distribution\\ncounts observable events and a\\nconditional\\nfrequency distribution\\npairs each event with a condition. Some sample\\napplications are:\\nComparing the use of particular words in different genres.\\nComparing word lengths in different languages.\\n3.6.1 Frequency distributions\\nThe following worked example displays some rudimentary stylistic analysis by\\nranking the POS tags in a corpus according to frequency.\\nCalculating tag frequency\\n1. Import the Brown corpus.\\n2. List the different categories within the corpus.\\n\\n3. Count the number of sentences in the science \\x02ction category.\\n\\n4. Extract all the word tokens from the science \\x02ction category, paired with their\\ntags, and store them in the variable\\nbsf\\n. Note that the simpli\\x02ed tagset is\\nselected.\\n5. Calculate a frequency distribution of the tags: this gives an ordered list of the\\ntags paired with their frequency in the variable\\nsf\\ntag\\nfd\\n. (Only the 12 most\\nfrequent are shown.)\\n>>> from nltk.corpus import brown\\n>>> brown.categories()\\n[\\'adventure\\', \\'belles_lettres\\', \\'editorial\\', \\'fiction\\',\\n\\'government\\', \\'hobbies\\', \\'humor\\', \\'learned\\', \\'lore\\',\\n38\\n',\n",
              " \"Some basic cor pus analysis\\n'mystery', 'news', 'religion', 'reviews', 'romance', 'science_fiction']\\n>>> sf_sents = brown.sents(categories = 'science_fiction')\\n>>> len(sf_sents)\\n948\\n\\n>>> bsf = brown.tagged_words(categories = 'science_fiction',\\n\\nsimplify_tags=True)\\n\\n>>> sf_tag_fd = nltk.FreqDist(tag for (word,tag) in bsf)\\n\\n>>> sf_tag_fd.keys()\\n['N', 'V', 'DET', 'PRO', 'P', '.', 'ADJ', ',', 'CNJ', 'ADV', 'VD', 'NP', ]\\n>>> sf_tag_fd.tabulate()\\n\\nN V DET PRO P . ADJ , CNJ ADV VD NP\\n\\n2232 1473 1345 1268 1182 1078 793 791 685 644 531 467\\nLearning activity\\n1. Repeat the above process for other categor ies such as romance, news and religion. How do the\\nfrequency distr ibutions and sentence counts enable you to compare the literar y styles of these\\n\\ngenres? Explain any assumptions you make.\\n2. Having read through Bird et al. (2009, section 2.1), with par ticular attention to Table 2-3 on page 50,\\nanswer the following questions:\\n(a) Summar ise the README \\x02le from the Reuters cor pus.\\n(b) Create a var iable\\nsoysents\\ncontaining all sentences from repor ts concer ning soy products.\\n(c) Display the \\x02rst ten sentences in\\nsoysents\\n.\\n(d) Create a var iable\\nmetalwords\\ncontaining all words from repor ts concer ning metals.\\n(e) What are the most frequently mentioned metals in this collection? Caution: why might this result\\nbe less than 100 per cent reliable?\\n3.6.2 DIY corpus: some worked examples\\nNLTK's plain text corpus reader can be used to build a `corpus' from a collection of\\ntext \\x02les. The resulting corpus will be formatted for access as raw text, lists of words\\nor lists of sentences and can be re-formatted for other functions such as\\n\\nconcordancing and \\x02nding collocations.\\nThe \\x02rst example involves a one-text `corpus' of the recent report from the UK\\nEquality and Human Rights Commission:\\nHow fair is Britain\\n?\\nStep 1\\nDownload the report as a PDF from\\nhttp://www.equalityhumanrights.com\\nStep 2\\nManually extract text using Adobe Acrobat or another PDF reader and save\\nas a\\n.txt\\n\\x02le\\nStep 3\\nPoint the corpus reader to the directory where you have saved the text \\x02le.\\n>>> import nltk\\n\\n>>> from nltk.corpus import PlaintextCorpusReader\\n\\n>>> corpus_root = 'C:\\\\NLP-stuff\\\\Corpora'\\n>>> mycorpus = PlaintextCorpusReader(corpus_root,'.*')\\n39\\n\",\n",
              " \"CO\\n3354\\nIntroduction to natural language processing\\nWe can now use the\\nraw\\n,\\nwords\\nand\\nsents\\nmethods to display the content in\\ndifferent formats:\\n>>> mycorpus.fileids()\\n['howfair.txt']\\n>>> mycorpus.words('howfair.txt')\\n['Equality', 'and', 'Human', 'Rights', 'Commission', ]\\n\\n>>> hf_raw = mycorpus.raw('howfair.txt')\\n\\n>>> hf_raw[:100]\\n\\n'Equality and Human Rights Commission\\\\r\\\\nTriennial\\n\\nReview 2010\\\\r\\\\nExecutive Summary\\\\r\\\\nHow fair\\\\r\\\\nis Britain'\\n>>> mycorpus.sents('howfair.txt')\\n[['Equality', 'and', 'Human', 'Rights', 'Commission', 'Triennial',\\n\\n'Review', '2010', 'Executive', 'Summary', 'How', 'fair', 'is',\\n\\n'Britain', '?'], ...\\nConcordancing and collocations\\nThe\\nText\\nmethod formats the content in a way which can be accessed by the\\nconcordance\\nand\\ncollocation\\nmethods. Note that concordancing will always\\nreturn \\x02xed-length strings which include your target text as a substring, and so may\\nbe cut off in the middle of a word.\\n>>> fair=nltk.Text(mycorpus.words('howfair.txt'))\\n>>> fair.concordance('equal')\\nBuilding index...\\nDisplaying 3 of 3 matches:\\n\\nhas narrowed considerably since the equal Pay Act 1970 came into force in 1975\\n\\nsonal circumstances , should have an equal opportunity to have a say in decisio\\n\\nthat every individual should have an equal chance to make the most of their tal\\n\\n>>> fair.collocations()\\nBuilding collocations list\\nHuman Rights; Rights Commission; Significant findings; Headline data;\\n\\nExecutive Summary; less likely; ethnic minority; life expectancy;\\n\\n0845 604; domestic violence; hate crime; labour market; disabled people;\\n\\nmental health; Black Caribbean; different groups; religiously motivated;\\nsexual assault; minority groups; formal childcare\\nConditional frequency distribution\\nRecall that a\\nfrequency distribution\\nis a set of ordered pairs\\n< ev ent; count >\\nwhere\\ncount\\nis the number of times\\nevent\\noccurs. In our context\\nevent\\nis a word-type\\nand\\ncount\\nis the number of tokens of that type in a text. A\\nconditional frequency\\ndistribution\\nis a collection of frequency distributions, each one for a different\\ncondition.\\nFor this example we add a second document to the corpus, extracted from a PDF\\n`Guide to data protection'.\\nStep 1\\nCreate a single variable\\ntext\\nword\\nconsisting of pairs of each word-token\\nwith the \\x02leid of the document it occurs in.\\n40\\n\",\n",
              " \"Summar y\\nStep 2\\nCreate a conditional frequency distribution, which will tell you the frequency\\nof each word in both texts.\\nStep 3\\nPick a sample of words which are likely to occur in both documents, and\\ntabulate their comparative frequency.\\n>>> text_word = [(text,word) for text in ['howfair.txt','guide.txt']\\nfor word in mycorpus.words(text)]\\n>>> text_word[:10]\\n[('howfair.txt', 'Equality'), ('howfair.txt', 'and'),\\n\\n('howfair.txt', 'Human'),('howfair.txt', 'Rights'),\\n\\n('howfair.txt', 'Commission'), ('howfair.txt', 'Triennial'),\\n('howfair.txt', 'Review'), ('howfair.txt', '2010'),\\n('howfair.txt', 'Executive'),\\n\\n('howfair.txt', 'Summary')]\\n\\n>>> cfd = nltk.ConditionalFreqDist(text_word)\\n\\n>>> cfd\\n<ConditionalFreqDist with 2 conditions>\\n>>> cfd.conditions()\\n\\n['guide.txt', 'howfair.txt']\\n\\n>>> cfd['howfair.txt']\\n\\n<FreqDist with 16391 outcomes>\\n\\n>>> cfd['guide.txt']\\n<FreqDist with 47064 outcomes>\\nTesting the CFD\\n\\n>>> cfd['guide.txt']['fair']\\n\\n31\\n\\n>>> cfd['howfair.txt']['fair']\\n\\n30\\n>>> keywords = ['fair','police','crime','office','equal','privacy']\\n>>>>cfd.tabulate(conditions=['howfair.txt','guide.txt'],\\n\\nsamples=keywords)\\nfair police crime office equal privacy\\nhowfair.txt 30 15 29 4 2 0\\n\\nguide.txt 31 16 17 2 0 26\\nLearning activity\\nFind some suitable electronic documents and follow the above techniques to constr uct a `mini-cor pus'. The\\ndocuments in these examples were sourced from UK gover nment websites: you may \\x02nd similar\\n\\ndocuments on the website of your own countr y's gover nment, or of transnational organisations like the\\n\\nEuropean Union or the United Nations. Think of some ter ms which are likely to occur in several of these\\n\\ndocuments and compare them using a conditional frequency distr ibution. If you can \\x02nd a lengthy repor t\\nwhich is issued along with a shor ter summar y, it is an interesting exercise to pick some key ter ms and see if\\ntheir comparative frequency is the same or similar in the or iginal document and the summar y.\\n3.7 Summar y\\n1. A corpus is a collection of linguistic data which was not originally produced for\\nthe purposes of linguistic analysis. Properly speaking it should be constructed so\\nas to be balanced and representative. If a corpus includes any kind of\\n41\\n\",\n",
              " \"CO\\n3354\\nIntroduction to natural language processing\\nannotation, it is good practice to use multiple annotators for at least a sample of\\nthe corpus and report the level of\\ninter-annotator agreement\\nthat was\\nachieved.\\n2. Some uses of corpora include:\\nLexicography (compiling dictionaries).\\nCompiling grammars for education and reference purposes.\\nStylistics: developing techniques to identify the author or genre of a\\n\\ndocument; investigating the effect on language use of different channels\\n\\nsuch as email, chat, face-to-face conversation, telephone calls and\\n\\nhand-written letters.\\nTraining and evaluation in linguistic research, using machine learning\\n\\ntechniques.\\n3. This chapter includes brief descriptions of several well-known and widely-used\\ncorpora such as the Brown corpus, the BNC and the Penn Treebank.\\n4. Students on this course can access a variety of corpora through online interfaces\\nor by using corpus tools provided with the NLTK.\\n5. Some simple techniques for analysing corpora include concordancing,\\ncollocations and (conditional) frequency distributions. None of these techniques\\n\\ninvolve automated linguistic analysis: the interpretation of the outputs is down\\n\\nto the analyst.\\n3.8 Sample examination question\\na) Explain what is meant by the following types of corpus, and describe an example\\nin each category that you have encountered during this course:\\nisolated\\ncategorised\\noverlapping\\ntemporal.\\nb) What applications would a\\ntagged\\nand\\nparsed\\ncorpus be suitable for? What are\\nsome advantages and disadvantages of using an automated tagger to build such a\\n\\ncorpus?\\nc) Suppose the following lists show the number of sentences and the most commonly\\noccurring part-of-speech tags in three different categories of text in a corpus, with\\ntheir frequency of occurrence in brackets. What can you say about the styles of these\\ndocuments from studying these results? Discuss any assumptions you make.\\nCategory A\\n(4623 sentences) N (22236) P (10845) DET (10648) NP (8336) V\\n(7346) ADJ (5435) `,' (5188) `.' (4472) CNJ (4227) PRO (3408) ADV (2770) VD\\n(2531) . . .\\nCategory B\\n(948 sentences) N (2232) V (1473) DET (1345) PRO (1268) P (1182)\\n`.' (1078) ADJ (793) `,' (791) CNJ (685) ADV (644) VD (531) NP (467) . . .\\nCategory C\\n(1716 sentences) N (7304) P (4364) DET (4239) V (3863) ADJ (2620)\\nCNJ (2324) PRO (2243) `,' (1913) `.' (1892) ADV (1485) NP (1224) VN (952)\\n\\n. . .\\n42\\n\",\n",
              " \"Appendix C\\nAnswers to selected activities\\nThis section includes model solutions to some of the exercises and activities where\\nappropriate. In other cases there is no `correct' answer and the point of the activity is\\nto stimulate you to engage in independent self-directed learning.\\nChapter 2: Introducing NLP: patterns and structure in natural\\nlanguag e\\nIdentify par ts of speech, pag e 14\\nJack\\n(Proper Noun)\\nand\\n(conjunction)\\nJill\\n(Proper Noun)\\nwent\\n(verb)\\nup\\n(preposition)\\nthe\\n(determiner)\\nhill\\n(noun)\\n.\\nThe\\n(determiner)\\nowl\\n(noun)\\nand\\n(conjunction)\\nthe\\n(determiner)\\npussycat\\n(noun)\\nwent\\n(verb)\\nto\\n(preposition)\\nsea\\n(noun)\\n.\\nOperation of a \\x02nite-state machine , pag e 17\\n1. John swam.\\n2. (a) John and Mary walked on the hill.\\n(b) The cat sat on the mat and slept.\\n(c) John or a \\x02sh walked on a hill and barked.\\n(d) . . .\\nCoding regular expressions, pag e 19\\n1. a(aa)*(bb)*\\n\\n2. (aaa)\\nj\\n(aab)\\nj\\n(abb)\\nj\\n(bbb)\\nj\\n(bba)\\nj\\n(baa)\\nj\\n(aba)\\nj\\n(bab)\\n97\\n\",\n",
              " \"CO\\n3354\\nIntroduction to natural language processing\\nRegular grammars, pag e 21\\nS\\n!\\neither\\nj\\nif S1\\nS\\n!\\nthe\\nj\\na\\nj\\none S2\\nS2\\n!\\nhappy S2\\nS2\\n!\\n(boy\\nj\\ngir l\\nj\\ndog) eats (`ice cream'\\nj\\n`hot dogs'\\nj\\ncandy) S3\\nS3\\n!\\nor\\nj\\nthen S2\\nS3\\n!\\n\\x0f\\nThis is a slightly idealised rendering of Pinker's state diagram which appears to have\\nno halting state.\\nThe problem with this grammar can be clearly seen: the rule\\nS3\\n!\\nor\\nj\\nthen S2\\nhas\\nno connection with the rule that introduces\\neither\\nor\\nif\\nand so there is no way to\\nensure that the appropriate conjunction is used.\\nPast tense forms, pag e 25\\nThe general idea is that rules need to be\\nconditional\\nin order to handle\\nnon-standard cases before applying general regularities: so a reasonable rule based\\non this data set might be:\\nwelcome\\n!\\nwelcomed\\nelse\\n-come\\n!\\n-came\\nChapter 3: Getting to grips with natural languag e data\\nOnline corpus queries, pag e 37\\nExamples of incorrect tagging: search on\\nto total/V\\ngives examples like:\\n. . . a ticket\\nto total\\noblivion.\\n. . . to describe it\\nto total\\nstrangers.\\nas well as `correct' examples like\\n. . . thought\\nto total\\nabout 1,500 families . . .\\n. . . a great opportunity\\nto total\\nand celebrate all the small wins made over the\\nyear\\n98\\n\",\n",
              " \"APPENDIX C. ANSWERS TO SELECTED ACTIVITIES\\nUsing NLTK tools, pag e 39\\n1. `Stylistic' analysis\\nScience Fiction\\n(948 sentences) N (2232) V (1473) DET (1345) PRO (1268) P\\n(1182) `.' (1078) ADJ (793) `,' (791) CNJ (685) ADV (644) VD (531) NP (467)\\n. . .\\nNews\\n(4623 sentences) N (22236) P (10845) DET (10648) NP (8336) V (7346)\\nADJ (5435) `,' (5188) `.' (4472) CNJ (4227) PRO (3408) ADV (2770) VD (2531)\\n. . .\\nReligion\\n(1716 sentences) N (7304) P (4364) DET (4239) V (3863) ADJ (2620)\\nCNJ (2324) PRO (2243) `,' (1913) `.' (1892) ADV (1485) NP (1224) VN (952)\\n. . .\\nSome counts:\\nSF: N 2232, PRO 1268, NP 467 ADJ 793\\nNE: N 22236, NP 8336, PRO 3408 ADJ 5435\\nRE: N 7304, PRO 2243 NP 1224 ADJ 2620\\n\\nSF: S 948, COMMA 791, CNJ 685\\nNE: COM 5188 S 4623 CNJ 4227\\nRE: CNJ 2324 COM 1913 S 1716\\n\\nSome tentative conclusions:\\n1. Reference and description: both SF and RE use pronouns more than proper\\nnames; News has more proper names. Hard to interpret without further\\nanalysis: if an SF work includes a lot of dialogue for example, it might be more\\nnatural for characters to refer to each other as I, we, you and so on rather than\\n\\nby name. And news stories tend to be about named individuals.\\n2. Syntactic complexity: we cannot be very precise with this data but it looks as if\\nthe SF genre has the least syntactic complexity and the RE genre the highest,\\njudging from the numbers of commas and conjunctions per sentence. Of course\\nwe cannot tell whether these tokens are connecting clauses or other types of\\n\\nphrases.\\nIn an examination or coursework question, you would get credit for discussing these\\n\\nand other characteristics in the light of your impressionistic understanding of the\\n\\ntypical styles for these genres.\\n2. Reuters\\nDisplay the README \\x02le from the Reuters corpus.\\nfrom nltk.corpus import reuters\\ndesc = reuters.readme()\\nprint desc\\n99\\n\",\n",
              " \"CO\\n3354\\nIntroduction to natural language processing\\nCreate a variable\\nsoysents\\ncontaining all sentences from reports concerning soy\\nproducts.\\nreuters.categories()\\nPick out categories relating to soy:\\n\\nsoysents = reuters.sents(categories=['soy-meal', ...])\\nDisplay the \\x02rst ten sentences in\\nsoysents\\n.\\nprint soysents[:10]\\nCreate a variable\\nmetalwords\\ncontaining all words from reports concerning\\nmetals.\\n\\nmetalwords = reuters.words(categories = ['alum','copper','gold', ...])\\n\\n(Note that inspection of texts in the\\nalum\\ncategory con\\x02rms that they are about\\naluminium.)\\nWhat are the most frequently mentioned metals in this collection? Caution: why\\nmight this result be less than 100 per cent reliable?\\nfrom nltk.book import *\\nfreqmetal = FreqDist(metalwords)\\n\\nfreqmetalkeys = freqmetal.keys()\\nfreqmetal[:100]\\nRemember that the contents of a frequency distribution are listed in the order of\\ntheir frequency of occurrence. By scanning the output you should see that the\\n\\n\\x02rst three metals listed are gold, copper and steel. However caution is in order\\n\\nas Reuters is an overlapping corpus, so we may be double-counting some\\noccurrences. These metals may also be mentioned under the category\\nstrategic-metal\\n, or some reports may mention more than one kind of metal\\nand so come under multiple categories.\\nChapter 4: Computational tools for text analysis\\nComparing stemmers, pag e 48\\nL ancaster rules\\nRemove\\nist/s/e/ing/en/th/ity/ate/al/a/ed/ment/ation\\n.\\nReplace\\n-ies\\nwith\\n-y\\n.\\nSome motivations: reduce verbs to stem form, remove plural af\\x02x and\\nreturn stem in irregular cases (\\nstudy\\n), remove ordinal af\\x02x\\n-th\\n, remove\\naf\\x02xes that form nominalisations or adjectives: -\\nment\\n,\\n-al\\n.\\nPorter rules\\nRemove\\ns/ing/ity/e/ate/ed/ment/ational\\n.\\nReplace\\n-y\\nwith\\n-i\\n.\\nMotivations: similar to Lancaster rules but applied more sparingly.\\nErrors\\nLancaster removes\\n-th\\nfrom\\nsouth\\nas if it were an ordinal and\\n-e\\nfrom\\nare\\nthough\\nar\\nis not a stem here; not clear why\\n-a\\nremoved from\\narea\\n. Lancaster and\\nPorter both treat some proper names as common nouns; for example, by\\n\\nremoving the last letter from\\nLyons\\nand\\nStanhope\\n(both) or by postulating an\\n-i\\nstem for names ending in\\n-y\\n(Porter).\\n100\\n\"]"
            ]
          },
          "metadata": {},
          "execution_count": 76
        }
      ]
    },
    {
      "cell_type": "code",
      "source": [
        "myfile.close()"
      ],
      "metadata": {
        "id": "AYrzWRvUdLWS"
      },
      "execution_count": 77,
      "outputs": []
    },
    {
      "cell_type": "code",
      "source": [
        "three_movies = \"\"\"\n",
        "Thor.1.2011.720p.BluRay.2CH.x265.HEVC.Dubbed.FA.mkv\n",
        "Thor.2.The Dark World.2013.Bluray 720p_downloado.ir.mkv\n",
        "Thor.3.Ragnarok.2017.1080p.wb-dl.x265.HEVC.Film2Movie_CO.mkv\n",
        "Transformers.1.1955.Bluray.1080p.Farsi.Dubbed.mkv\n",
        "Transformers.2.Revenge.of.the.Fallen.2009.1080p.Farsi.Dubbed.mkv\n",
        "Transformers.3.Dark.of.the.Moon.2011.Bluray.1080p.mkv\n",
        "Transformers.4.Age_of_Extinction_2014_720p_Farsi_Dubbed_(DibaMovie).mkv\n",
        "Transformers.5.The.Last.Knight.2017.720p.MkvCage.Dubbed.Farsi.mkv\n",
        "Transformers.6.Bumblebee.2018.720p.WEB-DL.x265.PSA.mkv\n",
        "Twilight.1.2008.720p.BluRay.LianMovie.mkv\n",
        "Twilight.2. Saga New Moon (2009) [HD].mkv\n",
        "Twilight.4.Saga Breaking Dawn – Part 1 (2011) [HD].mkv\n",
        "Twilight.5.Saga Breaking Dawn – Part 2 (2012) [HD].mkv\n",
        "Twilight3.Saga Eclipse (1983) [HD].mkv\"\"\""
      ],
      "metadata": {
        "id": "cBcjpZ_-dWcv"
      },
      "execution_count": 80,
      "outputs": []
    },
    {
      "cell_type": "code",
      "source": [
        "re.findall(r'(\\w+)', three_movies)"
      ],
      "metadata": {
        "colab": {
          "base_uri": "https://localhost:8080/"
        },
        "id": "P_ALfaE6EVib",
        "outputId": "b7e0f228-043e-4672-ac10-f91993e4b73c"
      },
      "execution_count": 85,
      "outputs": [
        {
          "output_type": "execute_result",
          "data": {
            "text/plain": [
              "['Thor',\n",
              " '1',\n",
              " '2011',\n",
              " '720p',\n",
              " 'BluRay',\n",
              " '2CH',\n",
              " 'x265',\n",
              " 'HEVC',\n",
              " 'Dubbed',\n",
              " 'FA',\n",
              " 'mkv',\n",
              " 'Thor',\n",
              " '2',\n",
              " 'The',\n",
              " 'Dark',\n",
              " 'World',\n",
              " '2013',\n",
              " 'Bluray',\n",
              " '720p_downloado',\n",
              " 'ir',\n",
              " 'mkv',\n",
              " 'Thor',\n",
              " '3',\n",
              " 'Ragnarok',\n",
              " '2017',\n",
              " '1080p',\n",
              " 'wb',\n",
              " 'dl',\n",
              " 'x265',\n",
              " 'HEVC',\n",
              " 'Film2Movie_CO',\n",
              " 'mkv',\n",
              " 'Transformers',\n",
              " '1',\n",
              " '1955',\n",
              " 'Bluray',\n",
              " '1080p',\n",
              " 'Farsi',\n",
              " 'Dubbed',\n",
              " 'mkv',\n",
              " 'Transformers',\n",
              " '2',\n",
              " 'Revenge',\n",
              " 'of',\n",
              " 'the',\n",
              " 'Fallen',\n",
              " '2009',\n",
              " '1080p',\n",
              " 'Farsi',\n",
              " 'Dubbed',\n",
              " 'mkv',\n",
              " 'Transformers',\n",
              " '3',\n",
              " 'Dark',\n",
              " 'of',\n",
              " 'the',\n",
              " 'Moon',\n",
              " '2011',\n",
              " 'Bluray',\n",
              " '1080p',\n",
              " 'mkv',\n",
              " 'Transformers',\n",
              " '4',\n",
              " 'Age_of_Extinction_2014_720p_Farsi_Dubbed_',\n",
              " 'DibaMovie',\n",
              " 'mkv',\n",
              " 'Transformers',\n",
              " '5',\n",
              " 'The',\n",
              " 'Last',\n",
              " 'Knight',\n",
              " '2017',\n",
              " '720p',\n",
              " 'MkvCage',\n",
              " 'Dubbed',\n",
              " 'Farsi',\n",
              " 'mkv',\n",
              " 'Transformers',\n",
              " '6',\n",
              " 'Bumblebee',\n",
              " '2018',\n",
              " '720p',\n",
              " 'WEB',\n",
              " 'DL',\n",
              " 'x265',\n",
              " 'PSA',\n",
              " 'mkv',\n",
              " 'Twilight',\n",
              " '1',\n",
              " '2008',\n",
              " '720p',\n",
              " 'BluRay',\n",
              " 'LianMovie',\n",
              " 'mkv',\n",
              " 'Twilight',\n",
              " '2',\n",
              " 'Saga',\n",
              " 'New',\n",
              " 'Moon',\n",
              " '2009',\n",
              " 'HD',\n",
              " 'mkv',\n",
              " 'Twilight',\n",
              " '4',\n",
              " 'Saga',\n",
              " 'Breaking',\n",
              " 'Dawn',\n",
              " 'Part',\n",
              " '1',\n",
              " '2011',\n",
              " 'HD',\n",
              " 'mkv',\n",
              " 'Twilight',\n",
              " '5',\n",
              " 'Saga',\n",
              " 'Breaking',\n",
              " 'Dawn',\n",
              " 'Part',\n",
              " '2',\n",
              " '2012',\n",
              " 'HD',\n",
              " 'mkv',\n",
              " 'Twilight3',\n",
              " 'Saga',\n",
              " 'Eclipse',\n",
              " '1983',\n",
              " 'HD',\n",
              " 'mkv']"
            ]
          },
          "metadata": {},
          "execution_count": 85
        }
      ]
    },
    {
      "cell_type": "code",
      "source": [
        "re.findall(r'\\n(\\w+)', three_movies)"
      ],
      "metadata": {
        "colab": {
          "base_uri": "https://localhost:8080/"
        },
        "id": "4H9j4QH9Esot",
        "outputId": "0e204c04-878f-4ee5-ae1f-c2e85116e234"
      },
      "execution_count": 87,
      "outputs": [
        {
          "output_type": "execute_result",
          "data": {
            "text/plain": [
              "['Thor',\n",
              " 'Thor',\n",
              " 'Thor',\n",
              " 'Transformers',\n",
              " 'Transformers',\n",
              " 'Transformers',\n",
              " 'Transformers',\n",
              " 'Transformers',\n",
              " 'Transformers',\n",
              " 'Twilight',\n",
              " 'Twilight',\n",
              " 'Twilight',\n",
              " 'Twilight',\n",
              " 'Twilight3']"
            ]
          },
          "metadata": {},
          "execution_count": 87
        }
      ]
    },
    {
      "cell_type": "code",
      "source": [
        "re.match(r'\\n(\\w+)', three_movies)"
      ],
      "metadata": {
        "colab": {
          "base_uri": "https://localhost:8080/"
        },
        "id": "iDIVWcY0E9kl",
        "outputId": "9889f2c5-3bea-4724-c940-544e90d7421c"
      },
      "execution_count": 89,
      "outputs": [
        {
          "output_type": "execute_result",
          "data": {
            "text/plain": [
              "<re.Match object; span=(0, 5), match='\\nThor'>"
            ]
          },
          "metadata": {},
          "execution_count": 89
        }
      ]
    },
    {
      "cell_type": "code",
      "source": [
        "re.sub(r'\\n(\\w+)', three_movies[re.find(r'\\n(\\w+)'.lower())],three_movies)"
      ],
      "metadata": {
        "colab": {
          "base_uri": "https://localhost:8080/",
          "height": 165
        },
        "id": "3IlTlYAfGV41",
        "outputId": "e2d6f4cc-cab6-4c34-f388-9918d90b209f"
      },
      "execution_count": 96,
      "outputs": [
        {
          "output_type": "error",
          "ename": "AttributeError",
          "evalue": "ignored",
          "traceback": [
            "\u001b[0;31m---------------------------------------------------------------------------\u001b[0m",
            "\u001b[0;31mAttributeError\u001b[0m                            Traceback (most recent call last)",
            "\u001b[0;32m<ipython-input-96-52bb21c126dc>\u001b[0m in \u001b[0;36m<module>\u001b[0;34m()\u001b[0m\n\u001b[0;32m----> 1\u001b[0;31m \u001b[0mre\u001b[0m\u001b[0;34m.\u001b[0m\u001b[0msub\u001b[0m\u001b[0;34m(\u001b[0m\u001b[0;34mr'\\n(\\w+)'\u001b[0m\u001b[0;34m,\u001b[0m \u001b[0mthree_movies\u001b[0m\u001b[0;34m[\u001b[0m\u001b[0mre\u001b[0m\u001b[0;34m.\u001b[0m\u001b[0mfind\u001b[0m\u001b[0;34m(\u001b[0m\u001b[0;34mr'\\n(\\w+)'\u001b[0m\u001b[0;34m.\u001b[0m\u001b[0mlower\u001b[0m\u001b[0;34m(\u001b[0m\u001b[0;34m)\u001b[0m\u001b[0;34m)\u001b[0m\u001b[0;34m]\u001b[0m\u001b[0;34m,\u001b[0m\u001b[0mthree_movies\u001b[0m\u001b[0;34m)\u001b[0m\u001b[0;34m\u001b[0m\u001b[0;34m\u001b[0m\u001b[0m\n\u001b[0m",
            "\u001b[0;31mAttributeError\u001b[0m: module 're' has no attribute 'find'"
          ]
        }
      ]
    },
    {
      "cell_type": "code",
      "source": [
        ""
      ],
      "metadata": {
        "id": "4U8j3h6SGn22"
      },
      "execution_count": null,
      "outputs": []
    }
  ]
}