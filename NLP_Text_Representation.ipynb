{
  "nbformat": 4,
  "nbformat_minor": 0,
  "metadata": {
    "colab": {
      "name": "NLP-Text-Representation.ipynb",
      "provenance": [],
      "collapsed_sections": [
        "S5MlCyq2KO1Q",
        "jyNEVeY0TmOB",
        "VF4hwtRvZ-wz",
        "3ynA35BNiZaG",
        "XTLQICn-snjF",
        "vr0_duCb5rd8",
        "TNZxb7IT34FF",
        "BbCjvps28lJL"
      ],
      "authorship_tag": "ABX9TyMwlfdMGyU+YryNz1ZxdUGZ",
      "include_colab_link": true
    },
    "kernelspec": {
      "name": "python3",
      "display_name": "Python 3"
    },
    "language_info": {
      "name": "python"
    }
  },
  "cells": [
    {
      "cell_type": "markdown",
      "metadata": {
        "id": "view-in-github",
        "colab_type": "text"
      },
      "source": [
        "<a href=\"https://colab.research.google.com/github/mralamdari/NLP-Text-Processing/blob/main/NLP_Text_Representation.ipynb\" target=\"_parent\"><img src=\"https://colab.research.google.com/assets/colab-badge.svg\" alt=\"Open In Colab\"/></a>"
      ]
    },
    {
      "cell_type": "code",
      "source": [
        "import spacy\n",
        "import nltk\n",
        "import sklearn\n",
        "import numpy as np\n",
        "import matplotlib.pyplot as plt\n",
        "import warnings\n",
        "from sklearn import manifold\n",
        "\n",
        "warnings.filterwarnings('ignore')\n",
        "nltk.download('punkt')\n",
        "nltk.download('stopwords')"
      ],
      "metadata": {
        "id": "MqnMcJM9Jjzn",
        "colab": {
          "base_uri": "https://localhost:8080/"
        },
        "outputId": "5402d936-3c6c-43f3-d7e2-525ea56a3d9b"
      },
      "execution_count": 181,
      "outputs": [
        {
          "output_type": "stream",
          "name": "stdout",
          "text": [
            "[nltk_data] Downloading package punkt to /root/nltk_data...\n",
            "[nltk_data]   Package punkt is already up-to-date!\n",
            "[nltk_data] Downloading package stopwords to /root/nltk_data...\n",
            "[nltk_data]   Package stopwords is already up-to-date!\n"
          ]
        },
        {
          "output_type": "execute_result",
          "data": {
            "text/plain": [
              "True"
            ]
          },
          "metadata": {},
          "execution_count": 181
        }
      ]
    },
    {
      "cell_type": "code",
      "execution_count": 2,
      "metadata": {
        "id": "LfUmtheDIjmY",
        "colab": {
          "base_uri": "https://localhost:8080/"
        },
        "outputId": "de2c1595-7c59-4971-a7bb-705cff0abebd"
      },
      "outputs": [
        {
          "output_type": "execute_result",
          "data": {
            "text/plain": [
              "['dog bites man', 'man bites dog', 'dog eats meat', 'man eats food']"
            ]
          },
          "metadata": {},
          "execution_count": 2
        }
      ],
      "source": [
        "documents = [\"Dog bites man.\", \"Man bites dog.\", \"Dog eats meat.\", \"Man eats food.\"]\n",
        "documents = [sentence.lower().replace('.', '') for sentence in documents]\n",
        "documents"
      ]
    },
    {
      "cell_type": "markdown",
      "source": [
        "###One-Hot Encoding"
      ],
      "metadata": {
        "id": "S5MlCyq2KO1Q"
      }
    },
    {
      "cell_type": "code",
      "source": [
        "#Vocabulary\n",
        "all_words = []\n",
        "for sentence in documents:\n",
        "  all_words.extend(sentence.split())\n",
        "\n",
        "unique_words = set(all_words)\n",
        "vocab = dict(zip(unique_words, range(len(unique_words))))\n",
        "vocab"
      ],
      "metadata": {
        "colab": {
          "base_uri": "https://localhost:8080/"
        },
        "id": "AAQ_lSjAJsBR",
        "outputId": "b7eb0da0-a7b9-4e5f-9de4-8b2b8f886f00"
      },
      "execution_count": 57,
      "outputs": [
        {
          "output_type": "execute_result",
          "data": {
            "text/plain": [
              "{'bites': 0, 'dog': 2, 'eats': 5, 'food': 1, 'man': 3, 'meat': 4}"
            ]
          },
          "metadata": {},
          "execution_count": 57
        }
      ]
    },
    {
      "cell_type": "code",
      "source": [
        "#onehot creator\n",
        "def onehot_creator(sentence):\n",
        "  sentence = sentence.lower().split()\n",
        "  onehot_encoded = np.zeros((len(sentence), len(vocab)))\n",
        "  for i, word in enumerate(sentence):\n",
        "    word_id = vocab.get(word)\n",
        "    if word_id != None:\n",
        "      onehot_encoded[i][word_id] = 1\n",
        "  return onehot_encoded"
      ],
      "metadata": {
        "id": "WTC9WRaRMA4h"
      },
      "execution_count": 58,
      "outputs": []
    },
    {
      "cell_type": "code",
      "source": [
        "onehot_creator(\"Dog bites man\")"
      ],
      "metadata": {
        "colab": {
          "base_uri": "https://localhost:8080/"
        },
        "id": "HE5iDapoMyAr",
        "outputId": "34958c54-82e2-4777-d620-2b3b1facb627"
      },
      "execution_count": 59,
      "outputs": [
        {
          "output_type": "execute_result",
          "data": {
            "text/plain": [
              "array([[0., 0., 1., 0., 0., 0.],\n",
              "       [1., 0., 0., 0., 0., 0.],\n",
              "       [0., 0., 0., 1., 0., 0.]])"
            ]
          },
          "metadata": {},
          "execution_count": 59
        }
      ]
    },
    {
      "cell_type": "code",
      "source": [
        "test_sample = \"Dog bites man and then eates meat\"\n",
        "onehot_creator(test_sample)"
      ],
      "metadata": {
        "colab": {
          "base_uri": "https://localhost:8080/"
        },
        "id": "5oj44WL7My03",
        "outputId": "3b274dba-a75f-43bd-e869-d1b62e71dcdc"
      },
      "execution_count": 60,
      "outputs": [
        {
          "output_type": "execute_result",
          "data": {
            "text/plain": [
              "array([[0., 0., 1., 0., 0., 0.],\n",
              "       [1., 0., 0., 0., 0., 0.],\n",
              "       [0., 0., 0., 1., 0., 0.],\n",
              "       [0., 0., 0., 0., 0., 0.],\n",
              "       [0., 0., 0., 0., 0., 0.],\n",
              "       [0., 0., 0., 0., 0., 0.],\n",
              "       [0., 0., 0., 0., 1., 0.]])"
            ]
          },
          "metadata": {},
          "execution_count": 60
        }
      ]
    },
    {
      "cell_type": "markdown",
      "source": [
        "One Hot Encoding with Scikit-learn"
      ],
      "metadata": {
        "id": "QHgdrTeISCoR"
      }
    },
    {
      "cell_type": "code",
      "source": [
        "from sklearn import preprocessing"
      ],
      "metadata": {
        "id": "dFjjVstdRi0f"
      },
      "execution_count": 61,
      "outputs": []
    },
    {
      "cell_type": "code",
      "source": [
        "label_encoder = preprocessing.LabelEncoder()\n",
        "onehot_encoder = preprocessing.OneHotEncoder()"
      ],
      "metadata": {
        "id": "ps0279CQSV4S"
      },
      "execution_count": 62,
      "outputs": []
    },
    {
      "cell_type": "code",
      "source": [
        "label_encoder.fit_transform(all_words)"
      ],
      "metadata": {
        "colab": {
          "base_uri": "https://localhost:8080/"
        },
        "id": "qtzroWoxSxT-",
        "outputId": "e024c936-eb2e-4577-a9e4-95bc228249d2"
      },
      "execution_count": 63,
      "outputs": [
        {
          "output_type": "execute_result",
          "data": {
            "text/plain": [
              "array([1, 0, 4, 4, 0, 1, 1, 2, 5, 4, 2, 3])"
            ]
          },
          "metadata": {},
          "execution_count": 63
        }
      ]
    },
    {
      "cell_type": "code",
      "source": [
        "onehot_encoder.fit_transform(np.array(all_words).reshape(-1, 1)).toarray()"
      ],
      "metadata": {
        "colab": {
          "base_uri": "https://localhost:8080/"
        },
        "id": "nv9A6wiSS_Wf",
        "outputId": "01c689e4-a1dd-49e5-b480-e1363852370e"
      },
      "execution_count": 64,
      "outputs": [
        {
          "output_type": "execute_result",
          "data": {
            "text/plain": [
              "array([[0., 1., 0., 0., 0., 0.],\n",
              "       [1., 0., 0., 0., 0., 0.],\n",
              "       [0., 0., 0., 0., 1., 0.],\n",
              "       [0., 0., 0., 0., 1., 0.],\n",
              "       [1., 0., 0., 0., 0., 0.],\n",
              "       [0., 1., 0., 0., 0., 0.],\n",
              "       [0., 1., 0., 0., 0., 0.],\n",
              "       [0., 0., 1., 0., 0., 0.],\n",
              "       [0., 0., 0., 0., 0., 1.],\n",
              "       [0., 0., 0., 0., 1., 0.],\n",
              "       [0., 0., 1., 0., 0., 0.],\n",
              "       [0., 0., 0., 1., 0., 0.]])"
            ]
          },
          "metadata": {},
          "execution_count": 64
        }
      ]
    },
    {
      "cell_type": "markdown",
      "source": [
        "###Bag of Words (BoW)"
      ],
      "metadata": {
        "id": "jyNEVeY0TmOB"
      }
    },
    {
      "cell_type": "code",
      "source": [
        "from sklearn import feature_extraction"
      ],
      "metadata": {
        "id": "ph7oM6KeTELQ"
      },
      "execution_count": 65,
      "outputs": []
    },
    {
      "cell_type": "code",
      "source": [
        "count_vect = feature_extraction.text.CountVectorizer()"
      ],
      "metadata": {
        "id": "M7YdSiY2U038"
      },
      "execution_count": 66,
      "outputs": []
    },
    {
      "cell_type": "code",
      "source": [
        "bow_representation = count_vect.fit_transform(documents)"
      ],
      "metadata": {
        "id": "vXVvDSG_VCgl"
      },
      "execution_count": 67,
      "outputs": []
    },
    {
      "cell_type": "code",
      "source": [
        "count_vect.vocabulary_"
      ],
      "metadata": {
        "colab": {
          "base_uri": "https://localhost:8080/"
        },
        "id": "wLWdFRIbVQ7a",
        "outputId": "6e1fb63e-5dce-40aa-d1a8-52323ac97b4b"
      },
      "execution_count": 68,
      "outputs": [
        {
          "output_type": "execute_result",
          "data": {
            "text/plain": [
              "{'bites': 0, 'dog': 1, 'eats': 2, 'food': 3, 'man': 4, 'meat': 5}"
            ]
          },
          "metadata": {},
          "execution_count": 68
        }
      ]
    },
    {
      "cell_type": "code",
      "source": [
        "for rep in bow_representation:\n",
        "  print(rep.toarray())"
      ],
      "metadata": {
        "colab": {
          "base_uri": "https://localhost:8080/"
        },
        "id": "XcZ8NZQOVdDU",
        "outputId": "e98735fe-c151-4a04-e657-ebc3b592bf56"
      },
      "execution_count": 69,
      "outputs": [
        {
          "output_type": "stream",
          "name": "stdout",
          "text": [
            "[[1 1 0 0 1 0]]\n",
            "[[1 1 0 0 1 0]]\n",
            "[[0 1 1 0 0 1]]\n",
            "[[0 0 1 1 1 0]]\n"
          ]
        }
      ]
    },
    {
      "cell_type": "code",
      "source": [
        "count_vect.transform([test_sample]).toarray()"
      ],
      "metadata": {
        "colab": {
          "base_uri": "https://localhost:8080/"
        },
        "id": "dsHcV6bnVpth",
        "outputId": "16c58b25-9bf0-47df-dbf3-2c1cba764f66"
      },
      "execution_count": 70,
      "outputs": [
        {
          "output_type": "execute_result",
          "data": {
            "text/plain": [
              "array([[1, 1, 0, 0, 1, 1]])"
            ]
          },
          "metadata": {},
          "execution_count": 70
        }
      ]
    },
    {
      "cell_type": "markdown",
      "source": [
        "BoW with Binary vectors"
      ],
      "metadata": {
        "id": "mmrQ_XEAWmh2"
      }
    },
    {
      "cell_type": "code",
      "source": [
        "binary_count_vector = feature_extraction.text.CountVectorizer(binary=True)\n",
        "binary_count_vector.fit(documents)"
      ],
      "metadata": {
        "colab": {
          "base_uri": "https://localhost:8080/"
        },
        "id": "0Y6JPR5fWwZT",
        "outputId": "11d9a31f-2ef4-4746-e3d0-e620125eacdb"
      },
      "execution_count": 71,
      "outputs": [
        {
          "output_type": "execute_result",
          "data": {
            "text/plain": [
              "CountVectorizer(binary=True)"
            ]
          },
          "metadata": {},
          "execution_count": 71
        }
      ]
    },
    {
      "cell_type": "code",
      "source": [
        "binary_count_vector.transform([test_sample]).toarray()"
      ],
      "metadata": {
        "colab": {
          "base_uri": "https://localhost:8080/"
        },
        "id": "NKHp7RP8XHwV",
        "outputId": "1592f9ec-e12f-4e92-a46c-a165a780b5db"
      },
      "execution_count": 72,
      "outputs": [
        {
          "output_type": "execute_result",
          "data": {
            "text/plain": [
              "array([[1, 1, 0, 0, 1, 1]])"
            ]
          },
          "metadata": {},
          "execution_count": 72
        }
      ]
    },
    {
      "cell_type": "markdown",
      "source": [
        "###Bag of N-Grams (BoN)"
      ],
      "metadata": {
        "id": "VF4hwtRvZ-wz"
      }
    },
    {
      "cell_type": "code",
      "source": [
        "count_vect = feature_extraction.text.CountVectorizer(ngram_range=(1, 3))"
      ],
      "metadata": {
        "id": "2v7NduONZ_Lh"
      },
      "execution_count": 73,
      "outputs": []
    },
    {
      "cell_type": "code",
      "source": [
        "bon_representation = count_vect.fit_transform(documents)"
      ],
      "metadata": {
        "id": "MC6j-goVbloV"
      },
      "execution_count": 74,
      "outputs": []
    },
    {
      "cell_type": "code",
      "source": [
        "count_vect.vocabulary_"
      ],
      "metadata": {
        "colab": {
          "base_uri": "https://localhost:8080/"
        },
        "id": "1sAp7v8Bbmfq",
        "outputId": "00dd11a8-65f4-4138-dac5-43309dfe3666"
      },
      "execution_count": 75,
      "outputs": [
        {
          "output_type": "execute_result",
          "data": {
            "text/plain": [
              "{'bites': 0,\n",
              " 'bites dog': 1,\n",
              " 'bites man': 2,\n",
              " 'dog': 3,\n",
              " 'dog bites': 4,\n",
              " 'dog bites man': 5,\n",
              " 'dog eats': 6,\n",
              " 'dog eats meat': 7,\n",
              " 'eats': 8,\n",
              " 'eats food': 9,\n",
              " 'eats meat': 10,\n",
              " 'food': 11,\n",
              " 'man': 12,\n",
              " 'man bites': 13,\n",
              " 'man bites dog': 14,\n",
              " 'man eats': 15,\n",
              " 'man eats food': 16,\n",
              " 'meat': 17}"
            ]
          },
          "metadata": {},
          "execution_count": 75
        }
      ]
    },
    {
      "cell_type": "code",
      "source": [
        "for rep in bow_representation:\n",
        "  print(rep.toarray())"
      ],
      "metadata": {
        "colab": {
          "base_uri": "https://localhost:8080/"
        },
        "id": "1ZcCLbfbboNC",
        "outputId": "a669f9e1-f5c3-488f-d2ec-55f36486cb17"
      },
      "execution_count": 76,
      "outputs": [
        {
          "output_type": "stream",
          "name": "stdout",
          "text": [
            "[[1 1 0 0 1 0]]\n",
            "[[1 1 0 0 1 0]]\n",
            "[[0 1 1 0 0 1]]\n",
            "[[0 0 1 1 1 0]]\n"
          ]
        }
      ]
    },
    {
      "cell_type": "code",
      "source": [
        "count_vect.transform([test_sample]).toarray()"
      ],
      "metadata": {
        "colab": {
          "base_uri": "https://localhost:8080/"
        },
        "id": "xP1fA2lpgr7_",
        "outputId": "1aaa1f70-ba9c-4294-aaef-7ba875a300b9"
      },
      "execution_count": 77,
      "outputs": [
        {
          "output_type": "execute_result",
          "data": {
            "text/plain": [
              "array([[1, 0, 1, 1, 1, 1, 0, 0, 0, 0, 0, 0, 1, 0, 0, 0, 0, 1]])"
            ]
          },
          "metadata": {},
          "execution_count": 77
        }
      ]
    },
    {
      "cell_type": "markdown",
      "source": [
        "###TF-IDF"
      ],
      "metadata": {
        "id": "3ynA35BNiZaG"
      }
    },
    {
      "cell_type": "code",
      "source": [
        "tfidf = feature_extraction.text.TfidfVectorizer()"
      ],
      "metadata": {
        "id": "Vj32tE8Yg7A-"
      },
      "execution_count": 78,
      "outputs": []
    },
    {
      "cell_type": "code",
      "source": [
        "bow_rep_tfidf = tfidf.fit_transform(documents)"
      ],
      "metadata": {
        "id": "Mf1QSVRjinXD"
      },
      "execution_count": 79,
      "outputs": []
    },
    {
      "cell_type": "code",
      "source": [
        "bow_rep_tfidf.toarray()"
      ],
      "metadata": {
        "colab": {
          "base_uri": "https://localhost:8080/"
        },
        "id": "nNQ-xmPbivXF",
        "outputId": "308e2d66-884a-4f31-b17a-68cedca1b7c0"
      },
      "execution_count": 80,
      "outputs": [
        {
          "output_type": "execute_result",
          "data": {
            "text/plain": [
              "array([[0.65782931, 0.53256952, 0.        , 0.        , 0.53256952,\n",
              "        0.        ],\n",
              "       [0.65782931, 0.53256952, 0.        , 0.        , 0.53256952,\n",
              "        0.        ],\n",
              "       [0.        , 0.44809973, 0.55349232, 0.        , 0.        ,\n",
              "        0.70203482],\n",
              "       [0.        , 0.        , 0.55349232, 0.70203482, 0.44809973,\n",
              "        0.        ]])"
            ]
          },
          "metadata": {},
          "execution_count": 80
        }
      ]
    },
    {
      "cell_type": "code",
      "source": [
        "#Idf for Vocabulary Words\n",
        "tfidf.idf_"
      ],
      "metadata": {
        "colab": {
          "base_uri": "https://localhost:8080/"
        },
        "id": "lUdArJIciwmG",
        "outputId": "b13a0866-4519-48b1-bfdd-cdc5736d762d"
      },
      "execution_count": 81,
      "outputs": [
        {
          "output_type": "execute_result",
          "data": {
            "text/plain": [
              "array([1.51082562, 1.22314355, 1.51082562, 1.91629073, 1.22314355,\n",
              "       1.91629073])"
            ]
          },
          "metadata": {},
          "execution_count": 81
        }
      ]
    },
    {
      "cell_type": "code",
      "source": [
        "#Vocabulary Words\n",
        "tfidf.get_feature_names()"
      ],
      "metadata": {
        "colab": {
          "base_uri": "https://localhost:8080/"
        },
        "id": "_sKHEepejLGj",
        "outputId": "2450bc6c-1426-4741-8ce7-50a8222e9059"
      },
      "execution_count": 82,
      "outputs": [
        {
          "output_type": "execute_result",
          "data": {
            "text/plain": [
              "['bites', 'dog', 'eats', 'food', 'man', 'meat']"
            ]
          },
          "metadata": {},
          "execution_count": 82
        }
      ]
    },
    {
      "cell_type": "code",
      "source": [
        "tfidf.transform([test_sample]).toarray()"
      ],
      "metadata": {
        "colab": {
          "base_uri": "https://localhost:8080/"
        },
        "id": "W7iYoWVbjSok",
        "outputId": "fc81ff7a-ef8d-4e62-d178-1279e465864b"
      },
      "execution_count": 83,
      "outputs": [
        {
          "output_type": "execute_result",
          "data": {
            "text/plain": [
              "array([[0.5051001 , 0.40892206, 0.        , 0.        , 0.40892206,\n",
              "        0.64065543]])"
            ]
          },
          "metadata": {},
          "execution_count": 83
        }
      ]
    },
    {
      "cell_type": "markdown",
      "source": [
        "###Word2Vec"
      ],
      "metadata": {
        "id": "XTLQICn-snjF"
      }
    },
    {
      "cell_type": "markdown",
      "source": [
        "####Embeddings using Spacy"
      ],
      "metadata": {
        "id": "vr0_duCb5rd8"
      }
    },
    {
      "cell_type": "code",
      "source": [
        "!python -m spacy download en_core_web_md"
      ],
      "metadata": {
        "id": "uYxgX7dtvYbN"
      },
      "execution_count": null,
      "outputs": []
    },
    {
      "cell_type": "code",
      "source": [
        "import spacy"
      ],
      "metadata": {
        "id": "3IlS7aGqxCqF"
      },
      "execution_count": 31,
      "outputs": []
    },
    {
      "cell_type": "code",
      "source": [
        "nlp = spacy.load('en_core_web_md')"
      ],
      "metadata": {
        "id": "Zrxf1SlG4VpN"
      },
      "execution_count": 32,
      "outputs": []
    },
    {
      "cell_type": "code",
      "source": [
        "doc = nlp('i love pizza')"
      ],
      "metadata": {
        "id": "b_2WxAStxciT"
      },
      "execution_count": 33,
      "outputs": []
    },
    {
      "cell_type": "code",
      "source": [
        "doc.vector"
      ],
      "metadata": {
        "colab": {
          "base_uri": "https://localhost:8080/"
        },
        "id": "s_vJ_tkS3Nnw",
        "outputId": "e70d4576-deb3-49e3-a099-dc9ced745406"
      },
      "execution_count": 95,
      "outputs": [
        {
          "output_type": "execute_result",
          "data": {
            "text/plain": [
              "array([ 1.11230902e-01,  2.41379991e-01, -1.61966667e-01, -3.14129978e-01,\n",
              "        1.05768003e-01,  3.91543359e-01,  3.54509979e-01, -1.27896652e-01,\n",
              "        1.70420006e-01,  1.69123328e+00, -6.31393373e-01,  1.69920668e-01,\n",
              "        7.96566680e-02, -1.29133360e-02, -1.50936663e-01,  1.39993383e-02,\n",
              "       -1.84084341e-01,  1.19740999e+00, -2.22010016e-01,  2.34284341e-01,\n",
              "        2.44166657e-01, -3.25873703e-01,  2.53593326e-01, -1.86454996e-01,\n",
              "        1.27480000e-01,  4.88123260e-02, -3.57987314e-01, -2.18866989e-01,\n",
              "        2.98794001e-01, -2.83073336e-02, -1.92849990e-02,  2.78633356e-01,\n",
              "       -1.75589994e-01,  1.30146667e-01,  9.73366722e-02,  1.38193667e-01,\n",
              "       -2.25796700e-02, -1.12435341e-01, -3.15516651e-01,  2.65180707e-01,\n",
              "       -1.24165334e-01,  1.74489990e-01,  1.08916335e-01,  9.63599980e-02,\n",
              "        2.16483325e-02,  5.32136679e-01, -2.61241674e-01,  2.68553346e-01,\n",
              "        6.79000234e-03, -9.15016606e-02, -2.10650012e-01, -4.78706658e-02,\n",
              "        1.10848665e-01, -8.40806589e-02,  1.75191328e-01,  3.65736671e-02,\n",
              "       -2.83703983e-01, -2.09925339e-01,  1.33019999e-01,  5.85173331e-02,\n",
              "       -1.55589327e-01, -2.78515339e-01, -1.92952991e-01,  1.39500007e-01,\n",
              "        1.00963367e-02, -5.74236333e-01,  5.20366663e-03,  1.75650001e-01,\n",
              "       -3.16434354e-02,  6.08799839e-03, -9.18086693e-02,  2.83870012e-01,\n",
              "       -2.60533299e-02,  1.54799724e-03, -2.87366714e-02,  1.74294338e-01,\n",
              "       -1.09751008e-01,  7.53910020e-02,  5.20623326e-02,  1.86183333e-01,\n",
              "        2.76756674e-01,  1.32749990e-01,  2.53932983e-01, -2.42943332e-01,\n",
              "        9.98433307e-02, -1.75691798e-01,  6.33720696e-01, -1.95393339e-01,\n",
              "        1.81266665e-02, -1.13929994e-01, -2.06568316e-01, -1.79595336e-01,\n",
              "       -1.62299991e-01,  1.30263316e-02,  1.79328993e-01,  3.20605308e-01,\n",
              "        1.93750069e-01,  1.11956328e-01, -1.98403314e-01, -4.45556752e-02,\n",
              "       -2.10523322e-01, -1.47883341e-01,  2.12536678e-01,  1.12560004e-01,\n",
              "        8.94693360e-02, -3.54791999e-01,  4.00125980e-01, -2.14694336e-01,\n",
              "       -7.33820051e-02, -6.46256730e-02,  5.72613329e-02, -4.17568356e-01,\n",
              "       -1.30208790e-01, -2.97082007e-01,  2.68494338e-01, -1.60678998e-01,\n",
              "        9.68393385e-02,  7.92703331e-02, -9.40166712e-02, -3.06733442e-03,\n",
              "        1.80108324e-01,  2.17663255e-02,  1.78046659e-01,  5.46826608e-02,\n",
              "        3.32096666e-01,  1.83946669e-01,  2.59866327e-01, -5.28383292e-02,\n",
              "       -7.48046637e-02,  3.02080005e-01, -1.25839993e-01, -1.81833327e-01,\n",
              "       -2.43196666e-01,  1.57144174e-01,  5.43735437e-02, -2.18789339e-01,\n",
              "       -2.86983341e-01, -1.79447338e-01, -6.73046634e-02, -1.67968646e-01,\n",
              "       -2.92063332e+00, -5.42890020e-02,  3.16956669e-01,  1.90795317e-01,\n",
              "       -2.96250015e-01, -2.11915329e-01, -3.60329986e-01,  3.55949998e-01,\n",
              "        1.77500043e-02, -2.89146692e-01, -9.40866843e-02,  1.12967961e-01,\n",
              "        1.76783323e-01,  1.13562338e-01,  1.67890325e-01, -1.39806673e-01,\n",
              "       -7.42266700e-02, -1.57998011e-01,  3.60000022e-02,  3.22833359e-02,\n",
              "       -7.06223249e-02,  7.55523294e-02, -5.78323342e-02, -4.72463071e-02,\n",
              "       -5.86876683e-02, -1.04455672e-01,  1.37143329e-01, -1.00895651e-01,\n",
              "        1.20572001e-01,  6.64023384e-02, -1.72782347e-01, -1.07498668e-01,\n",
              "        1.87446669e-01, -5.05176663e-01, -3.21856737e-02, -2.44533014e-03,\n",
              "       -2.62850314e-01,  8.79673436e-02, -2.12996677e-01, -4.45286661e-01,\n",
              "        2.03050002e-01, -1.71679661e-01, -1.13406502e-01, -7.97733292e-02,\n",
              "       -1.01568334e-01, -1.33566661e-02, -2.40480006e-01, -1.58593342e-01,\n",
              "        4.65073287e-02, -6.14933437e-03, -3.70326750e-02, -4.03843336e-02,\n",
              "       -2.79070020e-01, -5.51526666e-01,  1.42301992e-01,  9.02286693e-02,\n",
              "        2.76946664e-01, -2.54420012e-01,  1.00670338e-01,  5.21633327e-02,\n",
              "       -1.64929003e-01, -1.99686661e-01, -5.53316660e-02,  5.87373339e-02,\n",
              "        2.20459998e-01,  4.50769961e-02, -7.14366660e-02,  2.47953773e-01,\n",
              "        1.57386661e-01, -1.02807008e-01, -9.29903388e-02,  2.00539336e-01,\n",
              "       -1.39426008e-01, -1.18276656e-01,  5.72346635e-02,  7.86933377e-02,\n",
              "        1.29290000e-01, -3.21063668e-01, -9.43466648e-02,  2.56933331e-01,\n",
              "        2.92033348e-02,  1.24360703e-01, -3.95794325e-02, -1.11829996e-01,\n",
              "       -1.62315995e-01,  9.09233093e-03, -1.58766672e-01,  1.05978340e-01,\n",
              "       -8.51566568e-02, -2.73006648e-01, -3.05083334e-01,  1.20972998e-01,\n",
              "        2.26399899e-02, -1.60215333e-01, -8.60573351e-02, -2.83356696e-01,\n",
              "       -2.53699988e-01, -1.72716334e-01, -2.07618654e-01,  3.27096671e-01,\n",
              "        2.84953326e-01,  1.50356337e-01, -1.60417676e-01,  9.24500003e-02,\n",
              "        1.13646664e-01, -1.23333931e-03,  4.69633453e-02, -1.08343333e-01,\n",
              "       -2.29665339e-01,  1.83683351e-01,  2.25600004e-01, -2.93786675e-01,\n",
              "       -2.72659987e-01, -8.92019942e-02,  1.32473335e-01,  2.17590019e-01,\n",
              "       -5.39667904e-04, -2.01319978e-02, -2.57983327e-01, -2.22668663e-01,\n",
              "        3.87873389e-02,  4.03889976e-02, -2.46453345e-01, -9.06300023e-02,\n",
              "       -5.22469990e-02,  1.97413325e-01, -2.75529921e-02,  2.31733680e-01,\n",
              "       -3.13059986e-01,  2.87919998e-01, -4.11521286e-01,  1.18246675e-02,\n",
              "       -4.25020009e-01,  1.66090995e-01, -1.69416010e-01,  1.08877897e-01,\n",
              "       -8.12156647e-02, -1.61245331e-01,  2.23529145e-01,  3.07986647e-01,\n",
              "        1.59966663e-01, -1.94840327e-01, -4.15566601e-02, -2.64743362e-02,\n",
              "        1.80076677e-02,  3.26669335e-01,  5.56143343e-01,  2.74059981e-01,\n",
              "       -2.16080010e-01, -1.21616321e-02,  2.35469997e-01,  1.09729342e-01,\n",
              "       -2.12286338e-01,  6.12907410e-02,  9.97443274e-02, -2.05437660e-01,\n",
              "        3.54403369e-02, -1.45925999e-01,  1.28802672e-01,  4.38833326e-01],\n",
              "      dtype=float32)"
            ]
          },
          "metadata": {},
          "execution_count": 95
        }
      ]
    },
    {
      "cell_type": "code",
      "source": [
        "doc[0].vector"
      ],
      "metadata": {
        "colab": {
          "base_uri": "https://localhost:8080/"
        },
        "id": "_vsyEN4M3ZsV",
        "outputId": "d7fb20d3-137d-42db-c08b-f7dc495923bd"
      },
      "execution_count": 96,
      "outputs": [
        {
          "output_type": "execute_result",
          "data": {
            "text/plain": [
              "array([ 1.8733e-01,  4.0595e-01, -5.1174e-01, -5.5482e-01,  3.9716e-02,\n",
              "        1.2887e-01,  4.5137e-01, -5.9149e-01,  1.5591e-01,  1.5137e+00,\n",
              "       -8.7020e-01,  5.0672e-02,  1.5211e-01, -1.9183e-01,  1.1181e-01,\n",
              "        1.2131e-01, -2.7212e-01,  1.6203e+00, -2.4884e-01,  1.4060e-01,\n",
              "        3.3099e-01, -1.8061e-02,  1.5244e-01, -2.6943e-01, -2.7833e-01,\n",
              "       -5.2123e-02, -4.8149e-01, -5.1839e-01,  8.6262e-02,  3.0818e-02,\n",
              "       -2.1253e-01, -1.1378e-01, -2.2384e-01,  1.8262e-01, -3.4541e-01,\n",
              "        8.2611e-02,  1.0024e-01, -7.9550e-02, -8.1721e-01,  6.5621e-03,\n",
              "        8.0134e-02, -3.9976e-01, -6.3131e-02,  3.2260e-01, -3.1625e-02,\n",
              "        4.3056e-01, -2.7270e-01, -7.6020e-02,  1.0293e-01, -8.8653e-02,\n",
              "       -2.9087e-01, -4.7214e-02,  4.6036e-02, -1.7788e-02,  6.4990e-02,\n",
              "        8.8451e-02, -3.1574e-01, -5.8522e-01,  2.2295e-01, -5.2785e-02,\n",
              "       -5.5981e-01, -3.9580e-01, -7.9849e-02, -1.0933e-02, -4.1722e-02,\n",
              "       -5.5576e-01,  8.8707e-02,  1.3710e-01, -2.9873e-03, -2.6256e-02,\n",
              "        7.7330e-02,  3.9199e-01,  3.4507e-01, -8.0130e-02,  3.3451e-01,\n",
              "        2.7063e-01, -2.4544e-02,  7.2576e-02, -1.8120e-01,  2.3693e-01,\n",
              "        3.9977e-01,  4.5012e-01,  2.7179e-02,  2.7400e-01,  1.4791e-01,\n",
              "       -5.8324e-03,  9.5910e-01, -1.0129e+00,  2.0699e-01,  1.8237e-01,\n",
              "       -2.5234e-01, -2.6261e-01, -3.4799e-01, -2.4051e-02,  4.4470e-01,\n",
              "        5.9226e-02,  4.5561e-01,  1.9700e-01, -4.8327e-01,  8.9523e-02,\n",
              "       -2.2373e-01, -1.5654e-01,  2.1578e-01,  1.1673e-01,  8.2006e-02,\n",
              "       -8.0735e-01,  2.3903e-01, -5.1304e-01, -3.3888e-01, -3.1499e-01,\n",
              "       -1.7272e-01, -6.7020e-01,  2.7096e-01, -4.3241e-01,  4.3103e-02,\n",
              "        2.1233e-02,  1.3350e-02, -6.3938e-02, -2.4957e-01, -2.4938e-01,\n",
              "        3.4812e-01, -7.1321e-02,  2.3375e-01, -9.5384e-02,  5.2488e-01,\n",
              "        6.8175e-01, -1.0214e-01, -1.4914e-01, -7.5697e-02,  1.7248e-01,\n",
              "        2.5440e-01,  1.5760e-01, -5.9125e-01,  2.4300e-01,  6.3962e-01,\n",
              "       -9.3280e-02, -2.7914e-01, -6.6262e-02, -6.7170e-02, -4.0929e-01,\n",
              "       -3.0300e+00,  1.8250e-01,  2.0113e-01,  6.0628e-02, -2.4769e-01,\n",
              "        5.5324e-02, -4.9106e-01,  3.1544e-01, -3.4231e-01, -6.3766e-01,\n",
              "       -3.6129e-01, -5.9029e-02,  1.5510e-01,  4.4577e-02,  2.3572e-01,\n",
              "       -1.7095e-01, -2.2749e-01, -2.3184e-02,  2.3868e-01,  2.8170e-02,\n",
              "        4.2965e-01, -1.2458e-01, -3.6972e-02,  2.0061e-01, -3.1405e-01,\n",
              "       -8.5287e-02, -3.3496e-01, -9.7047e-02, -1.4388e-01,  1.1147e-01,\n",
              "       -4.5232e-01, -2.4217e-01, -1.8245e-01, -6.7292e-01,  2.1933e-02,\n",
              "       -5.4816e-02, -4.6508e-01,  4.7767e-01, -2.4752e-01, -1.5790e-01,\n",
              "        1.1817e-01,  5.6851e-02, -4.9151e-01,  1.5496e-01,  1.6425e-02,\n",
              "        4.1650e-02, -3.4990e-01, -1.5979e-01,  3.9705e-01,  2.2963e-01,\n",
              "        2.4688e-01,  1.9567e-02, -2.8802e-01, -6.9983e-01,  3.2744e-01,\n",
              "        1.0833e-01,  2.4945e-01, -7.8653e-01, -6.1379e-02, -3.7359e-01,\n",
              "       -1.1603e-01, -2.4950e-01,  1.0161e-01,  3.3994e-02,  1.5650e-01,\n",
              "        2.1344e-01, -1.1094e-01, -5.7687e-03,  1.7869e-01, -1.0127e-01,\n",
              "       -1.6891e-02,  3.0001e-01, -3.4116e-01, -3.2390e-02,  4.2514e-02,\n",
              "        1.1850e-01, -1.8337e-01, -6.2865e-01, -2.8021e-01,  4.2351e-01,\n",
              "        1.1277e-01,  1.2121e-03,  1.5710e-01, -3.6321e-01, -4.9251e-01,\n",
              "        1.1653e-01,  2.4024e-01,  1.7712e-01,  6.8700e-02, -4.4137e-01,\n",
              "       -2.9877e-01, -1.2071e-02,  2.8325e-01,  1.0668e-01, -1.8859e-01,\n",
              "       -4.1345e-01, -3.4090e-01,  4.7236e-02, -3.8309e-01,  4.3572e-01,\n",
              "        2.4505e-01,  2.7337e-01, -7.3038e-02,  4.2514e-01, -3.2455e-02,\n",
              "       -3.5211e-01,  4.5691e-01,  1.9433e-01, -1.5230e-01,  4.2675e-01,\n",
              "        2.8795e-01, -5.5969e-01, -1.3031e-01,  8.9844e-02,  4.2605e-01,\n",
              "       -1.9632e-01, -7.1989e-02, -8.0189e-02, -3.0425e-01, -4.6190e-01,\n",
              "        2.8178e-01, -9.9872e-02,  3.5097e-01,  1.6123e-01, -3.6548e-02,\n",
              "       -3.6739e-01, -1.9819e-02,  3.2130e-01,  1.7479e-01,  2.5175e-01,\n",
              "       -7.6439e-03, -9.3786e-02, -3.7852e-01,  4.3725e-01,  2.1288e-01,\n",
              "        2.5096e-01, -1.9613e-01, -2.8865e-01, -5.6726e-03,  4.2795e-01,\n",
              "        2.0625e-01, -3.7701e-02, -1.2200e-01, -7.9253e-02, -1.0290e-01,\n",
              "        1.0558e-02,  4.9880e-01,  2.5382e-01,  1.5526e-01,  1.7951e-03,\n",
              "        1.1633e-01,  7.9300e-02, -3.9142e-01, -3.2483e-01,  6.3451e-01,\n",
              "       -1.8910e-01,  5.4050e-02,  1.6495e-01,  1.8757e-01,  5.3874e-01],\n",
              "      dtype=float32)"
            ]
          },
          "metadata": {},
          "execution_count": 96
        }
      ]
    },
    {
      "cell_type": "markdown",
      "source": [
        "####Embeddings using Gensim"
      ],
      "metadata": {
        "id": "qIXrLtVP4yzD"
      }
    },
    {
      "cell_type": "code",
      "source": [
        "import gensim\n",
        "corpus = [['dog','bites','man'], [\"man\", \"bites\" ,\"dog\"],[\"dog\",\"eats\",\"meat\"],[\"man\", \"eats\",\"food\"]]"
      ],
      "metadata": {
        "id": "ZxuSR_N75N1N"
      },
      "execution_count": 97,
      "outputs": []
    },
    {
      "cell_type": "markdown",
      "source": [
        "#####Continuous Bag of Words (CBOW)\n"
      ],
      "metadata": {
        "id": "6kMyZGPg7L3y"
      }
    },
    {
      "cell_type": "code",
      "source": [
        "model_cbow = gensim.models.Word2Vec(corpus, min_count=1, sg=0) "
      ],
      "metadata": {
        "id": "v_9M0Quf5lrG"
      },
      "execution_count": 98,
      "outputs": []
    },
    {
      "cell_type": "code",
      "source": [
        "words = list(model_cbow.wv.vocab)\n",
        "print(words)"
      ],
      "metadata": {
        "colab": {
          "base_uri": "https://localhost:8080/"
        },
        "id": "hAmiFKaG6NBT",
        "outputId": "9cc3a550-5b20-4247-86cd-158a95459d1b"
      },
      "execution_count": 99,
      "outputs": [
        {
          "output_type": "stream",
          "name": "stdout",
          "text": [
            "['dog', 'bites', 'man', 'eats', 'meat', 'food']\n"
          ]
        }
      ]
    },
    {
      "cell_type": "code",
      "source": [
        "model_cbow['meat']"
      ],
      "metadata": {
        "colab": {
          "base_uri": "https://localhost:8080/"
        },
        "id": "WjtdujhA6XsK",
        "outputId": "31a16994-a6fe-4ca1-adf3-b6868b12f182"
      },
      "execution_count": 100,
      "outputs": [
        {
          "output_type": "execute_result",
          "data": {
            "text/plain": [
              "array([-0.00348223,  0.00274166,  0.00286569, -0.00024953, -0.0027612 ,\n",
              "        0.00016903,  0.0036551 ,  0.00111108,  0.00233274,  0.00089957,\n",
              "        0.00081475,  0.00447297,  0.00022637, -0.0015832 , -0.00177419,\n",
              "        0.00248535, -0.0040132 , -0.00499565,  0.00205056,  0.00194684,\n",
              "        0.0001828 , -0.00046876, -0.00216897, -0.00419755,  0.00100626,\n",
              "       -0.00095996, -0.00153622, -0.00092589, -0.00281605,  0.00158246,\n",
              "        0.00190902,  0.00040479, -0.00016452,  0.00042426,  0.00166272,\n",
              "       -0.00488523,  0.00156547,  0.0004393 , -0.00257476, -0.00397822,\n",
              "       -0.00226262,  0.0019594 ,  0.00471237, -0.00407758, -0.00204773,\n",
              "       -0.00217647, -0.00128273,  0.00415247, -0.00298349,  0.00143813,\n",
              "       -0.00385219, -0.00218028,  0.00466753,  0.00132019, -0.00132702,\n",
              "        0.00292814,  0.00131277,  0.00174935,  0.00332778, -0.00029809,\n",
              "       -0.00308627, -0.00291407, -0.00210095,  0.00454491, -0.0048104 ,\n",
              "       -0.00186057, -0.00131231, -0.00338939,  0.00372805, -0.00024439,\n",
              "       -0.00237971, -0.00173464, -0.00350508,  0.00060397, -0.00075224,\n",
              "       -0.00070549,  0.00364141, -0.0011102 ,  0.00420146, -0.00033696,\n",
              "       -0.00022121, -0.00160198,  0.00467585, -0.00476082, -0.00180316,\n",
              "        0.00369121,  0.00370696,  0.00338274, -0.00487455,  0.00427043,\n",
              "       -0.00386699, -0.00301867,  0.00114578, -0.00404733, -0.00196349,\n",
              "       -0.00208673, -0.00141137,  0.00142641, -0.00010757,  0.00348067],\n",
              "      dtype=float32)"
            ]
          },
          "metadata": {},
          "execution_count": 100
        }
      ]
    },
    {
      "cell_type": "code",
      "source": [
        "model_cbow.similarity('bites', 'eats')"
      ],
      "metadata": {
        "colab": {
          "base_uri": "https://localhost:8080/"
        },
        "id": "5q-6LNqJ6jD4",
        "outputId": "a4aa3850-051b-4eff-bf21-04ffa8ba2d97"
      },
      "execution_count": 101,
      "outputs": [
        {
          "output_type": "execute_result",
          "data": {
            "text/plain": [
              "0.018700752"
            ]
          },
          "metadata": {},
          "execution_count": 101
        }
      ]
    },
    {
      "cell_type": "code",
      "source": [
        "model_cbow.similarity('dog', 'eats')"
      ],
      "metadata": {
        "colab": {
          "base_uri": "https://localhost:8080/"
        },
        "id": "dvoDbTlt6vlX",
        "outputId": "07e329b7-9c90-4d09-a82f-c7330b961b03"
      },
      "execution_count": 102,
      "outputs": [
        {
          "output_type": "execute_result",
          "data": {
            "text/plain": [
              "-0.18652296"
            ]
          },
          "metadata": {},
          "execution_count": 102
        }
      ]
    },
    {
      "cell_type": "code",
      "source": [
        "model_cbow.similarity('meat', 'eats')"
      ],
      "metadata": {
        "colab": {
          "base_uri": "https://localhost:8080/"
        },
        "id": "xu9DOPEK639x",
        "outputId": "b1bece33-e21a-451b-e2b2-dd64c02e95f8"
      },
      "execution_count": 103,
      "outputs": [
        {
          "output_type": "execute_result",
          "data": {
            "text/plain": [
              "0.012212791"
            ]
          },
          "metadata": {},
          "execution_count": 103
        }
      ]
    },
    {
      "cell_type": "code",
      "source": [
        "model_cbow.save('cbow_model.bin')"
      ],
      "metadata": {
        "id": "sC7VmATH7TDD"
      },
      "execution_count": 104,
      "outputs": []
    },
    {
      "cell_type": "code",
      "source": [
        "model_cbow = gensim.models.Word2Vec.load('cbow_model.bin')"
      ],
      "metadata": {
        "id": "EaKOtw5M7hdc"
      },
      "execution_count": 105,
      "outputs": []
    },
    {
      "cell_type": "markdown",
      "source": [
        "#####SkipGram"
      ],
      "metadata": {
        "id": "8-IHPxAA7SsQ"
      }
    },
    {
      "cell_type": "code",
      "source": [
        "model_skipgram = gensim.models.Word2Vec(corpus, min_count=1, sg=1)"
      ],
      "metadata": {
        "id": "2IlrKIZm7DCF"
      },
      "execution_count": 106,
      "outputs": []
    },
    {
      "cell_type": "code",
      "source": [
        "words = list(model_skipgram.wv.vocab)\n",
        "print(words)"
      ],
      "metadata": {
        "colab": {
          "base_uri": "https://localhost:8080/"
        },
        "id": "kFnlEkNy78YZ",
        "outputId": "e73714e8-239b-4ddc-bb6a-aded08cbcf93"
      },
      "execution_count": 107,
      "outputs": [
        {
          "output_type": "stream",
          "name": "stdout",
          "text": [
            "['dog', 'bites', 'man', 'eats', 'meat', 'food']\n"
          ]
        }
      ]
    },
    {
      "cell_type": "code",
      "source": [
        "model_skipgram['man']"
      ],
      "metadata": {
        "colab": {
          "base_uri": "https://localhost:8080/"
        },
        "id": "8bEAjMBi8wgu",
        "outputId": "330bac3c-a7f4-4706-a573-1a9546d392e5"
      },
      "execution_count": 108,
      "outputs": [
        {
          "output_type": "execute_result",
          "data": {
            "text/plain": [
              "array([-2.0112637e-03,  4.6612024e-03,  2.3878811e-05,  1.3731554e-03,\n",
              "       -2.0678404e-03, -3.6847231e-03, -2.1829552e-03, -6.3940813e-04,\n",
              "        2.7256953e-03,  3.1432479e-03,  3.4235683e-03, -4.8793722e-03,\n",
              "       -3.3713137e-03,  1.4868978e-03,  3.5669198e-03,  2.3784512e-03,\n",
              "        1.4670979e-04,  9.1529329e-04,  1.0346138e-03, -1.2632761e-03,\n",
              "        3.8981244e-03, -1.8848220e-03, -3.3825007e-03,  4.1506458e-03,\n",
              "        4.9111829e-04, -3.4495068e-03, -3.8652134e-03,  2.8149204e-03,\n",
              "       -4.9288641e-03,  3.9023457e-03,  1.3927063e-03,  3.6816704e-03,\n",
              "       -3.8061489e-03, -1.9930471e-03, -1.0662479e-03,  6.0274446e-04,\n",
              "        7.6384575e-04,  6.1616849e-04, -6.1438896e-04,  3.0194691e-03,\n",
              "        4.1772745e-04, -2.8730193e-03,  4.1851439e-03,  4.2853854e-03,\n",
              "       -2.3214680e-03, -1.0146014e-03, -3.7481105e-03,  2.9782655e-03,\n",
              "       -2.2786264e-03, -2.0994677e-03, -4.1740588e-03, -2.8265764e-03,\n",
              "        4.0045881e-04, -3.0477790e-03, -5.4128142e-04, -1.0910128e-03,\n",
              "       -3.2148270e-03,  1.4722606e-03,  1.7782146e-03, -3.7808597e-04,\n",
              "       -4.7907294e-03, -1.7613285e-03, -1.7706308e-04,  1.8077200e-04,\n",
              "        7.6292659e-04,  1.0284799e-03,  9.1447931e-04, -4.7864956e-03,\n",
              "        4.5862454e-03, -4.9410779e-03,  5.6724180e-04, -4.2264140e-03,\n",
              "       -7.4079121e-04, -3.3604396e-03,  2.2077141e-03,  8.6643570e-04,\n",
              "        1.4708344e-03, -2.8410051e-03, -4.6402705e-03,  1.6507736e-03,\n",
              "        4.5664557e-03,  4.9491841e-03, -1.3867269e-03, -4.9060630e-03,\n",
              "       -3.9082654e-03,  2.3951463e-03, -4.5155277e-03,  1.3719010e-03,\n",
              "        1.1868818e-03,  4.8261993e-03,  4.0296284e-03, -1.4363686e-04,\n",
              "        2.3682655e-03,  2.0280485e-03, -4.0485444e-03, -2.9201240e-03,\n",
              "       -4.6464084e-03,  4.6767070e-04, -1.1560741e-03,  2.3808362e-04],\n",
              "      dtype=float32)"
            ]
          },
          "metadata": {},
          "execution_count": 108
        }
      ]
    },
    {
      "cell_type": "code",
      "source": [
        "model_skipgram.similarity('bites', 'eats')"
      ],
      "metadata": {
        "colab": {
          "base_uri": "https://localhost:8080/"
        },
        "id": "6PNGJQCM80aR",
        "outputId": "23b9f5f5-8bb6-4a89-be31-e48e42b097a1"
      },
      "execution_count": 109,
      "outputs": [
        {
          "output_type": "execute_result",
          "data": {
            "text/plain": [
              "0.018704321"
            ]
          },
          "metadata": {},
          "execution_count": 109
        }
      ]
    },
    {
      "cell_type": "code",
      "source": [
        "model_skipgram.similarity('dog', 'eats')"
      ],
      "metadata": {
        "colab": {
          "base_uri": "https://localhost:8080/"
        },
        "id": "t8rNTzQn8-Dh",
        "outputId": "d886c26a-f2d7-4d24-f03a-d050e71e995e"
      },
      "execution_count": 110,
      "outputs": [
        {
          "output_type": "execute_result",
          "data": {
            "text/plain": [
              "-0.18650742"
            ]
          },
          "metadata": {},
          "execution_count": 110
        }
      ]
    },
    {
      "cell_type": "code",
      "source": [
        "model_skipgram.similarity('meat', 'eats')"
      ],
      "metadata": {
        "colab": {
          "base_uri": "https://localhost:8080/"
        },
        "id": "weEMkaP39Aq0",
        "outputId": "4249669f-b307-4bf7-9721-97c300738319"
      },
      "execution_count": 111,
      "outputs": [
        {
          "output_type": "execute_result",
          "data": {
            "text/plain": [
              "0.01214213"
            ]
          },
          "metadata": {},
          "execution_count": 111
        }
      ]
    },
    {
      "cell_type": "code",
      "source": [
        "model_skipgram.save('skipgram_model.bin')"
      ],
      "metadata": {
        "id": "wqHa7slF9Bik"
      },
      "execution_count": 112,
      "outputs": []
    },
    {
      "cell_type": "code",
      "source": [
        "model_skipgram = gensim.models.Word2Vec.load('skipgram_model.bin')"
      ],
      "metadata": {
        "id": "h7YYxzmR9d3J"
      },
      "execution_count": 113,
      "outputs": []
    },
    {
      "cell_type": "markdown",
      "source": [
        "###Document Vectors"
      ],
      "metadata": {
        "id": "TNZxb7IT34FF"
      }
    },
    {
      "cell_type": "code",
      "source": [
        "nlp = spacy.load('en_core_web_sm')"
      ],
      "metadata": {
        "id": "2nhGe_lE34ow"
      },
      "execution_count": 84,
      "outputs": []
    },
    {
      "cell_type": "code",
      "source": [
        "for sentence in documents:\n",
        "  nlp_sentence = nlp(sentence)\n",
        "  for token in nlp_sentence:\n",
        "    print(token.text, token.vector)"
      ],
      "metadata": {
        "colab": {
          "base_uri": "https://localhost:8080/"
        },
        "id": "3dh2bouZ5pJQ",
        "outputId": "f6165eff-fc68-47d2-d429-39afcc6eaed6"
      },
      "execution_count": 85,
      "outputs": [
        {
          "output_type": "stream",
          "name": "stdout",
          "text": [
            "dog [ 1.91941047e+00 -9.85911846e-01 -1.27942407e+00 -1.14421546e+00\n",
            "  1.43229246e+00 -8.80053222e-01 -1.09747672e+00  7.21595168e-01\n",
            "  2.44990873e+00  2.91721630e+00  4.64994287e+00  2.98618340e+00\n",
            "  3.77544284e+00 -7.92122722e-01 -4.97682095e-01 -1.77960849e+00\n",
            " -8.52171421e-01  2.09922647e+00 -2.43797159e+00 -3.56699729e+00\n",
            " -2.06929612e+00 -5.84487259e-01 -1.27857530e+00 -5.24895728e-01\n",
            "  5.96585989e-01 -1.11221814e+00 -5.57519197e-01 -3.13567591e+00\n",
            "  2.45222092e+00 -6.95058644e-01  5.21145868e+00 -1.52752805e+00\n",
            "  1.71462417e+00 -1.59104490e+00 -1.12313199e+00 -5.21127224e-01\n",
            "  1.87160277e+00  3.26025546e-01 -2.57721138e+00  6.14066660e-01\n",
            "  3.19818997e+00  2.61671638e+00  8.70276809e-01 -1.36841798e+00\n",
            " -7.08141744e-01  1.85532546e+00 -1.51074374e+00 -1.93607807e-03\n",
            " -1.36703479e+00  8.96698594e-01 -7.39807606e-01 -1.78732085e+00\n",
            " -1.83793247e+00 -1.68872523e+00 -2.32823610e+00  2.22032118e+00\n",
            "  4.67480326e+00 -1.64622879e+00  2.28443205e-01 -1.63649273e+00\n",
            " -7.51743615e-02  3.44763458e-01 -4.46224451e-01  1.47298121e+00\n",
            "  1.62680995e+00  6.43189788e-01  8.67201090e-02 -8.45406175e-01\n",
            " -2.34528613e+00  4.36903179e-01 -2.32005453e+00 -1.37756503e+00\n",
            "  2.10573196e+00  3.40651798e+00 -3.18727922e+00 -1.72612810e+00\n",
            " -2.79121637e+00  1.74305737e-01 -2.29703093e+00  8.10718298e-01\n",
            "  1.88502884e+00 -2.74781775e+00 -1.98476827e+00 -2.49837577e-01\n",
            "  1.02837324e-01  4.89412785e+00 -2.23543501e+00 -8.99279773e-01\n",
            "  6.71694279e-01 -1.59718370e+00 -3.29685974e+00  1.72054911e+00\n",
            " -6.65885806e-01  2.88729572e+00  2.57701874e+00  2.57356691e+00]\n",
            "bites [ 2.2891631e+00  6.9909734e-01 -3.6597207e+00  5.9012455e-01\n",
            "  2.8848612e-01  2.6344304e+00  6.5052485e-01 -2.5569630e-01\n",
            "  4.1872373e+00  1.0220106e+00 -1.4831681e+00  4.7727907e-01\n",
            " -1.1430612e+00  2.0813129e+00 -2.9697056e+00 -2.1433415e+00\n",
            " -2.7380013e-01 -3.4205973e-02 -1.1503913e+00 -2.1321077e+00\n",
            "  4.8856896e-01 -1.4739058e+00 -1.5901238e-01 -1.6181784e+00\n",
            "  2.6807506e+00 -2.2585037e-01 -1.3693209e+00 -8.5717607e-01\n",
            " -9.1407597e-02 -2.1552706e+00 -2.0508304e+00  1.4469879e+00\n",
            " -2.7253437e+00 -9.3841219e-01 -3.5988092e+00  8.2679147e-01\n",
            "  2.0665250e+00 -3.8812518e-02 -3.7789817e+00  2.9782567e+00\n",
            "  4.6672869e+00  3.1001039e+00  7.2593123e-01 -5.1259041e-02\n",
            "  6.9979954e-01 -3.6006408e+00  2.7546096e-01 -2.0513704e+00\n",
            "  1.4891988e+00  1.9538239e+00 -2.9934611e+00 -1.1935629e+00\n",
            " -4.8216283e-03 -9.5482630e-01 -1.2745976e+00 -4.0996695e-01\n",
            "  1.2745302e+00  6.2289035e-01 -3.9751892e+00 -1.5957201e+00\n",
            " -1.8297102e+00  3.7905822e+00  3.6283469e-01  1.4279008e+00\n",
            "  2.5030928e+00  3.0996156e+00  7.0012379e-01 -1.7861184e+00\n",
            " -2.2127132e+00  3.7044382e-01  4.9324754e-01  3.1495407e-01\n",
            " -2.8027997e+00  1.2167886e-02 -2.4487588e+00 -8.9480877e-01\n",
            " -1.9265089e+00 -2.6903887e+00  2.2252502e+00  8.9562541e-01\n",
            "  5.0473142e-01  3.4874098e+00 -2.6960936e+00  4.3370289e-01\n",
            "  4.7849458e-01  2.2811088e-01  1.0538528e+00  1.9736307e+00\n",
            " -1.3628168e+00  1.6518754e+00  5.8267772e-02  1.1169801e+00\n",
            "  1.1504505e+00 -9.7246760e-01 -7.6805931e-01  6.8656521e+00]\n",
            "man [ 0.53685385  0.32385206 -0.36676776  0.8298571   0.40908372  0.6043205\n",
            " -0.22187617  1.4096318   3.3183377   2.515588    0.60492337 -1.040808\n",
            "  5.0165815   1.8037158   0.13811481 -0.07723951  1.6624862  -1.845408\n",
            " -1.3705921  -0.53376883 -1.7871213  -1.5037332   0.4513399  -0.8331367\n",
            " -1.6784387  -1.1365645   1.4404099  -0.1597142   2.94418     1.0427597\n",
            "  3.485979   -0.08857018 -0.26066375 -0.10514653 -0.5763577  -2.8714545\n",
            "  2.0640204  -2.1167488  -5.345424   -1.0095658   4.142198    1.5914928\n",
            " -0.58559626 -3.090853    0.54601455  0.63334    -1.2864181  -1.277297\n",
            " -2.4622338  -1.4283599  -0.64834815 -2.1840768   0.23861039 -0.18145347\n",
            " -0.23185444 -1.8256984   0.48298237 -2.060605   -2.316733    2.4855962\n",
            "  1.71293     1.8294315   0.13066924 -3.4172204   1.6171098   0.6992478\n",
            "  1.212168   -1.1621199  -2.6342645  -0.703472   -2.5499864   2.34391\n",
            " -0.8026893   3.0884056  -1.9666861   0.2566385  -0.38691866 -1.0572971\n",
            " -0.5223105   1.0283424  -1.2142341  -2.130168    0.41782868  0.00706333\n",
            "  1.2277368   3.3859189   3.2297935  -1.3863995   1.6438377  -1.1376173\n",
            "  0.31348115  3.4792268  -2.7368944   2.9930706   0.19144717 -0.15791643]\n",
            "man [ 0.7888863   1.083919   -0.35323167 -0.73987913 -0.49030042  1.6419284\n",
            " -1.6619375   2.3852751   1.9981184   4.7937684   4.720047    0.3387185\n",
            "  4.4454274   1.5730257  -0.06160116 -1.9620255  -0.06666401  0.45019686\n",
            " -3.878724   -0.82186854  0.22669673 -1.3878722  -1.6847411  -0.17864001\n",
            " -1.4496999  -1.5109959  -0.59488606 -1.6589926   3.590187    0.06973836\n",
            "  3.9115858  -0.06349781 -1.488812   -1.9933238   1.2208314   1.7076309\n",
            "  2.6056023  -0.80645776 -2.992334    0.47299546  2.0808764   2.3067095\n",
            " -1.5104551   0.5040869  -2.0285635  -1.1253445  -1.2346911  -1.9630895\n",
            " -1.6281708   1.2157714  -2.6033337  -2.233292   -0.07722911  0.6127262\n",
            " -1.2152244   1.0336426   1.1331751  -1.3354261  -0.15778536 -1.2085104\n",
            " -0.0685907   1.3864028  -0.3398047  -0.09460545  0.53525954  2.3085182\n",
            "  1.9992309  -3.4277897  -1.5862743  -0.13316533 -2.0165217   0.13316745\n",
            " -0.9387411   3.0318418  -3.0551827  -0.96272266 -2.0183272  -0.46942502\n",
            " -1.9278139  -0.02909783  2.0964017  -2.6075346  -0.3167987  -0.15686905\n",
            "  0.82376957  4.693938   -1.271749   -0.95877516  2.2401345  -0.6824265\n",
            " -3.0635698   2.0776386  -2.8204172   3.432457    2.457738    1.5380919 ]\n",
            "bites [ 1.3747169   0.75951576 -2.0386875   0.47162795  0.9765426   1.9823077\n",
            "  0.06130332  2.01786     3.3743708   2.4298263  -0.01698858 -2.1178517\n",
            " -0.39338487  2.5798664  -2.022553   -1.3160868  -0.20072114  2.8978395\n",
            " -2.0718148  -2.1307726   1.0209869  -2.253436    0.6923156  -2.2661219\n",
            "  2.311895    0.6920155  -1.945776   -0.18749845  0.4149741  -2.6658444\n",
            " -0.6569654   0.4516012  -3.118997   -1.3340917  -3.6860292   0.41037425\n",
            "  1.9872112   0.2655378  -4.1270113   3.7116709   4.948203    2.4899755\n",
            "  0.7336448  -1.9907414   0.9756649  -1.5211312   0.00798804 -1.1256539\n",
            "  2.0131736   1.1410819  -1.9279115  -2.0005517  -0.23423731 -1.1558846\n",
            " -2.0686967  -0.01214457  0.9060559   1.0421203  -2.4333885  -1.1881351\n",
            " -2.2899802   3.0198185   0.83513886  1.7519441   2.4819424   2.7640438\n",
            " -0.83651996 -3.0509243  -0.5107962  -0.74011713 -0.16474906  1.2582803\n",
            " -1.1004856  -0.73728853 -0.9559965  -1.0966125  -2.4221303  -4.1997433\n",
            "  1.5180151  -1.398406   -0.33450198  4.0062895  -4.2474494   0.37666464\n",
            " -0.5151194   2.788715    0.19553685  1.2461331  -1.3887466   1.4032775\n",
            "  0.35989153  2.2794697   1.6711353  -1.4850378  -1.3835645   6.0287056 ]\n",
            "dog [ 0.50819266 -2.667007    0.60718644  1.149341    1.9466753   0.9978473\n",
            " -0.26273108 -0.04749316  1.792765    1.2735462   0.80571634  2.1148677\n",
            "  2.9248827  -0.04049584 -1.2431111   0.5392498   2.6198683   0.49915183\n",
            "  0.9427904  -3.0965803  -0.92043626 -1.0133096  -0.16679388 -0.95659745\n",
            " -0.0644632  -0.7538854   1.8805755  -2.59729     2.6989484   0.9922949\n",
            "  3.9918182  -1.6662551   2.541341   -0.10577476 -3.5456715  -3.94544\n",
            "  0.57598835 -0.52035105 -3.9299068  -1.4960816   4.434364    1.4302311\n",
            "  2.1654341  -3.6643417   0.5330774   1.1421432  -1.3214686   0.4788366\n",
            " -1.9540094  -0.4423272   1.0889297  -1.8227599  -2.087492   -1.9124533\n",
            " -1.2992061   1.4628903   3.1095638  -1.9657229  -1.72568     2.9101577\n",
            "  1.5256736   0.02912751  0.14006144 -2.4456232   1.992576    0.22557473\n",
            "  1.40415     1.0681424  -2.3234427   0.46588808 -2.120284    1.2509482\n",
            "  1.7936325   3.0735662  -1.968452   -0.10792968 -1.3695453  -0.39464706\n",
            " -0.05726171  0.7277364  -1.5663354  -1.5381284  -4.2691965  -1.9931545\n",
            "  0.4707121   3.5559118   2.1385772  -1.7046876  -0.9149157  -2.3844848\n",
            " -0.938901    2.4299505  -1.8006006   3.271493   -0.5295939   1.7066903 ]\n",
            "dog [ 1.1878153  -0.26170456  0.03419253 -0.5098145   2.2524698  -0.14316672\n",
            " -0.9741871   0.9987432   3.3585162   3.098389    3.9458573   3.153195\n",
            "  2.474797    0.28299487 -1.0718518  -1.2719603  -0.9346882   0.6980716\n",
            " -1.7807717  -3.778508   -0.7800435   0.856657   -0.16256608 -1.1889228\n",
            "  0.14485419 -1.9348825  -0.6589819  -4.140472    3.1796694  -1.0029719\n",
            "  6.03379    -0.7439264   0.7298713  -0.33960485 -0.50823545 -0.27505162\n",
            "  1.4645944   0.05909663 -2.02593    -0.07870805  3.7751808   3.8910067\n",
            "  0.93147826 -1.4408367   0.23482867  1.5038861  -1.6044441   0.86290354\n",
            " -2.3903039  -0.5329412   0.72840124 -2.3201046  -2.763682   -1.7391096\n",
            " -2.5468462   1.630208    3.9861825  -1.1560813  -0.16007495 -1.2812638\n",
            "  1.0757833  -0.34596324  0.12258975 -0.1409623   1.0506115  -0.3939129\n",
            "  0.72289705 -0.11757469 -2.8201733  -0.41023016 -2.7297587   0.24024476\n",
            "  1.5475457   4.6176043  -3.0510297  -2.0189776  -3.2474117  -0.3285729\n",
            " -2.0773463   0.12776823  0.3675652  -1.3721904  -2.56865    -1.5797273\n",
            "  0.55347294  4.8819714  -1.1988775  -0.95212567  0.12909323 -1.8111378\n",
            " -2.3643622   0.32793254 -0.7840178   4.060226    1.358352    1.5559675 ]\n",
            "eats [-0.47655314 -0.887504   -3.3885355  -0.40814278 -0.23221523  8.091818\n",
            "  0.5198322   0.8531424   4.7039433   1.8867078   2.428679   -1.8267653\n",
            " -3.6248026   0.781947   -2.8044906  -1.8048921  -2.8840442   0.54410243\n",
            " -1.5859952  -0.8147486   2.621002   -0.56582713 -3.1238108  -1.0869386\n",
            "  1.2806193  -0.62084794 -0.41871095  0.35869947  1.7905439   0.24119776\n",
            " -0.23247066  0.15588203 -2.8230116   0.31940773 -2.8698652  -1.8306046\n",
            "  1.1420581  -0.07288504 -4.425796    2.8891995   4.5341854   2.66613\n",
            "  2.2523046  -1.910728   -1.3054113  -0.17172056 -0.25334305 -1.3717226\n",
            " -0.57009274  0.7400309  -1.5993974  -1.581954    1.7183993  -0.30978245\n",
            " -2.3206043   0.02712953  1.4552921  -1.1711987  -2.003884   -1.0205673\n",
            "  0.06380576  5.6872478   0.7931988  -0.11952353  3.0262659   0.30001533\n",
            "  0.43619615 -0.04385164 -1.5230343  -1.263225   -1.0696131   0.25260383\n",
            " -2.4857993  -0.13119471 -0.16439424  0.09343493 -1.9477481   0.72152287\n",
            " -0.80629015 -1.1293207   2.190932    2.7421567  -3.0568235  -0.84169805\n",
            "  4.044013   -0.59416664  1.2623303   0.34135234 -1.2421702  -0.37756807\n",
            "  1.4536979   2.1429076   0.40599105 -1.2975076  -2.0072887   3.8580472 ]\n",
            "meat [ 2.138053   -2.541163   -1.6169465   0.99598527  2.8571105  -0.9096813\n",
            "  0.35411698 -0.1910876  -0.47033745  1.9334728   2.6313715  -0.9612169\n",
            "  0.17063287 -3.4600377  -2.0822     -3.2176647   1.6690171   1.10865\n",
            " -2.1880314   0.7451431  -0.12024727 -0.9113674  -0.3146925   0.7854967\n",
            " -1.021762    0.07333279 -1.2305236   2.6997995   1.8073626  -0.7207465\n",
            " -0.6923174   1.7419236   2.8713107   0.13027394 -2.1113434  -2.155512\n",
            "  1.7595143  -0.52964604 -0.9856106   1.2039561   2.837541    3.033954\n",
            "  0.70165014 -3.0863986   3.073672    1.5679681   0.275984   -0.3757972\n",
            "  0.82467526  0.23318158 -0.8008322  -1.9445537  -0.874099   -0.8534336\n",
            " -0.6911663  -0.61774874  0.9182625   0.02582562  0.84742206  2.5277944\n",
            "  2.7032058  -3.0997431  -0.33105564  0.13020399 -0.928833   -2.0683148\n",
            "  0.9145014  -1.1663402  -3.8949287  -0.9299402  -1.9084469   0.9839597\n",
            "  2.629518    3.3735454  -0.7319842   0.47553572  1.6213193  -0.47500783\n",
            "  0.8673178   1.3444524  -1.8177899  -1.1215929  -2.5569901   1.3808305\n",
            " -1.4061852   5.3022623   1.805669   -2.8189406  -1.9364095  -1.7295058\n",
            " -0.5408506   1.2016699  -2.4855862   0.9887575   1.6726267  -0.304379  ]\n",
            "man [ 0.52389205  1.5652239  -0.04750337  0.3047545  -0.08478642  1.6677048\n",
            " -0.618326    2.8580084   3.3072426   4.910988    4.430622   -0.89721835\n",
            "  2.7919784   1.9583353  -0.27794886 -1.4141033  -0.4280256  -0.81272227\n",
            " -3.4777741  -0.65262485  1.5562562  -1.2966298  -0.6721474  -1.2479438\n",
            " -1.6569079  -2.2275739  -0.07252926 -2.4424021   4.1824937  -0.18493074\n",
            "  4.3238254   0.22241122 -1.6786616  -0.55612457  2.0346923   0.40100402\n",
            "  2.5539172  -0.39336064 -2.583725   -0.37986255  2.7086127   3.5384498\n",
            " -1.7465255   0.696826   -0.87424815 -1.0220783  -0.7737946  -1.4038389\n",
            " -2.6686094   0.11081302 -0.16799808 -1.9404501  -0.13648355  1.2400486\n",
            " -1.5815971   0.7862677   0.32222164 -1.7648649  -0.3421955  -1.5199637\n",
            "  0.09515956  0.5408838   0.18814006 -0.9631245   0.09222977  0.85028267\n",
            "  4.1756663  -3.2499475  -2.2830732  -0.4174441  -2.7026453   0.03638396\n",
            " -1.0914427   4.579353   -2.796823   -0.98650265 -1.6295836  -1.3913723\n",
            " -2.197145    0.2371495   1.36781    -2.2192519  -0.3003249  -1.7600602\n",
            "  0.9031153   4.4606066  -0.72957647 -0.7701424   1.6933117  -0.7388307\n",
            " -2.544035    0.76758516 -3.1120014   4.1439514   1.5054498   0.35547572]\n",
            "eats [-1.3092378e+00 -8.6047465e-01 -3.2190249e+00 -4.4768196e-01\n",
            " -2.8020874e-02  6.4026423e+00 -2.2878736e-01  2.6748505e+00\n",
            "  4.9811215e+00  2.8140156e+00  2.5498390e+00 -2.7002344e+00\n",
            " -3.4247236e+00  1.5574431e+00 -2.1884162e+00 -2.1857004e+00\n",
            " -2.3307033e+00 -1.6605252e-01 -1.6718901e+00 -1.2166021e+00\n",
            "  3.6533082e+00  2.1984850e-01 -3.2604895e+00  1.3748842e-01\n",
            " -1.6829664e-01 -2.6968803e+00  6.8282926e-01  1.3026061e+00\n",
            "  6.8358308e-01 -7.0311296e-01 -2.9204535e-01  2.0198764e-01\n",
            " -2.7918777e+00  4.4713789e-01 -3.4799085e+00 -1.7759440e+00\n",
            "  9.7510737e-01  6.7892790e-01 -4.7331920e+00  3.8798397e+00\n",
            "  4.3553877e+00  3.3594851e+00  1.1228745e+00 -1.5380020e+00\n",
            " -3.2728779e-01 -9.0554619e-01 -6.5745354e-01 -5.2136183e-01\n",
            " -1.2597066e+00 -1.9782155e+00 -6.1217833e-01 -3.0532677e+00\n",
            "  3.4866471e+00 -1.0184374e+00 -2.2840528e+00  7.0840657e-01\n",
            "  4.4512683e-01 -8.7002206e-01  2.1135509e-01 -6.2738830e-01\n",
            " -3.1756163e-03  3.9169440e+00  1.8180964e+00  8.1682199e-01\n",
            "  5.1382465e+00  1.4008083e+00 -3.5379043e+00 -3.9664543e-01\n",
            "  9.7356522e-01 -2.6710024e+00 -1.0991514e+00  7.8807414e-01\n",
            " -2.7467117e+00  2.2486269e-01  1.8629702e+00 -2.2459069e-01\n",
            " -1.0668359e+00  2.0133030e-01 -1.2597678e+00 -9.8697454e-01\n",
            "  1.1697617e+00  2.7907655e+00 -2.5036402e+00 -2.1559534e+00\n",
            "  3.7731147e+00 -5.8993244e-01  2.0965610e+00 -9.4858849e-01\n",
            " -6.8825746e-01  5.8568168e-01  9.1899210e-01  3.2966912e+00\n",
            " -4.6160230e-01 -1.5817548e+00 -2.5806928e+00  4.4743700e+00]\n",
            "food [ 0.72869116  0.03434137 -0.28756914  0.05184519  0.7136837  -0.4753884\n",
            "  3.8805974   0.01823676  0.31509843  4.4795837   2.0267544  -1.0776429\n",
            " -0.9160175  -3.1028345  -5.297804   -4.3103743   4.2950892  -1.94804\n",
            " -1.7231253   3.1111705   0.8123846   1.3331718   0.65490824 -1.1419196\n",
            " -2.2710845  -0.52680653 -2.351539    1.4091313   1.9909565   0.586735\n",
            "  1.0407989   0.51377916  2.619031   -0.81934285 -1.9447429  -3.4093976\n",
            "  0.9837853  -0.18379414 -3.216986    2.432847    5.3517866   1.9787108\n",
            " -0.77053833 -3.5746627   3.813958    1.2872791  -1.4586889  -0.67514306\n",
            " -1.7301406   3.057672    0.9834914  -3.5136495  -0.07989472  0.14376049\n",
            "  0.49511337  3.715399    1.0987105  -0.78920376 -0.67757654  1.2312329\n",
            "  0.84770894 -1.6721063   0.3784972   0.3449934  -0.35546967 -3.9479444\n",
            "  0.9773516  -4.6758432  -1.6233422   1.6824732  -2.4013994  -1.1287118\n",
            "  0.08313614  1.7192109  -0.6283364   3.9052181   0.3308367  -0.6079541\n",
            "  1.9425287  -0.1949259  -0.9694871   0.71944535 -3.0416207   0.02603044\n",
            " -1.1319399   3.9096982   2.6283524  -2.8879485  -0.09719437 -0.4198333\n",
            " -1.9813186   1.1300844  -2.4046257   3.2164865   1.4031217  -0.73065805]\n"
          ]
        }
      ]
    },
    {
      "cell_type": "markdown",
      "source": [
        "###Dov2Vec"
      ],
      "metadata": {
        "id": "BbCjvps28lJL"
      }
    },
    {
      "cell_type": "code",
      "source": [
        "tagged_data = [gensim.models.doc2vec.TaggedDocument(words=nltk.tokenize.word_tokenize(word.lower()), \n",
        "                                                    tags = [str(i)]) for i, word in enumerate(documents)]"
      ],
      "metadata": {
        "id": "QJBbhk-57XKh"
      },
      "execution_count": 93,
      "outputs": []
    },
    {
      "cell_type": "code",
      "source": [
        "tagged_data"
      ],
      "metadata": {
        "colab": {
          "base_uri": "https://localhost:8080/"
        },
        "id": "KVu7JeM6-3Z3",
        "outputId": "da5f0275-6864-4892-e77b-8d47d8de581a"
      },
      "execution_count": 94,
      "outputs": [
        {
          "output_type": "execute_result",
          "data": {
            "text/plain": [
              "[TaggedDocument(words=['dog', 'bites', 'man'], tags=['0']),\n",
              " TaggedDocument(words=['man', 'bites', 'dog'], tags=['1']),\n",
              " TaggedDocument(words=['dog', 'eats', 'meat'], tags=['2']),\n",
              " TaggedDocument(words=['man', 'eats', 'food'], tags=['3'])]"
            ]
          },
          "metadata": {},
          "execution_count": 94
        }
      ]
    },
    {
      "cell_type": "code",
      "source": [
        "dbow_model = gensim.models.doc2vec.Doc2Vec(tagged_data, vector_size=20, min_count=1, epochs=2, dm=0)"
      ],
      "metadata": {
        "id": "vl0qFgq0_hB7"
      },
      "execution_count": 120,
      "outputs": []
    },
    {
      "cell_type": "code",
      "source": [
        "dbow_model"
      ],
      "metadata": {
        "colab": {
          "base_uri": "https://localhost:8080/"
        },
        "id": "umZqmJ1rAEdc",
        "outputId": "49dbf717-f04b-4d1d-b484-e634d088e2d1"
      },
      "execution_count": 121,
      "outputs": [
        {
          "output_type": "execute_result",
          "data": {
            "text/plain": [
              "<gensim.models.doc2vec.Doc2Vec at 0x7f8476783e10>"
            ]
          },
          "metadata": {},
          "execution_count": 121
        }
      ]
    },
    {
      "cell_type": "code",
      "source": [
        "dbow_model.infer_vector(['dog', 'eats', 'meat'])"
      ],
      "metadata": {
        "colab": {
          "base_uri": "https://localhost:8080/"
        },
        "id": "9_TaCc3oAUVz",
        "outputId": "07d13444-054c-41e9-c5cb-51c4de5fbdf6"
      },
      "execution_count": 124,
      "outputs": [
        {
          "output_type": "execute_result",
          "data": {
            "text/plain": [
              "array([-0.01294542, -0.01710529,  0.02244416,  0.00745575,  0.00720842,\n",
              "        0.00868102,  0.0017573 , -0.00365329,  0.00967623,  0.00283921,\n",
              "        0.02016313,  0.01881022, -0.01154976, -0.01817759,  0.01066149,\n",
              "        0.00458464,  0.00401179,  0.01565589, -0.00214712, -0.01075333],\n",
              "      dtype=float32)"
            ]
          },
          "metadata": {},
          "execution_count": 124
        }
      ]
    },
    {
      "cell_type": "code",
      "source": [
        "dbow_model.wv.n_similarity(['dog'], ['man'])"
      ],
      "metadata": {
        "colab": {
          "base_uri": "https://localhost:8080/"
        },
        "id": "nxnu7xgvAobA",
        "outputId": "0558e059-eabb-4225-eaad-6f1b093d6b92"
      },
      "execution_count": 127,
      "outputs": [
        {
          "output_type": "execute_result",
          "data": {
            "text/plain": [
              "0.46744114"
            ]
          },
          "metadata": {},
          "execution_count": 127
        }
      ]
    },
    {
      "cell_type": "code",
      "source": [
        "dbow_model.wv.n_similarity(['meat'], ['man'])"
      ],
      "metadata": {
        "colab": {
          "base_uri": "https://localhost:8080/"
        },
        "id": "CXDkosqTA3V7",
        "outputId": "64d52bef-a844-4fa6-eca3-54efa2a0a6b7"
      },
      "execution_count": 128,
      "outputs": [
        {
          "output_type": "execute_result",
          "data": {
            "text/plain": [
              "-0.021492641"
            ]
          },
          "metadata": {},
          "execution_count": 128
        }
      ]
    },
    {
      "cell_type": "code",
      "source": [
        "dbow_model.wv.n_similarity(['dog'], ['meat'])"
      ],
      "metadata": {
        "colab": {
          "base_uri": "https://localhost:8080/"
        },
        "id": "idPWYGBuA-Mr",
        "outputId": "8cf3d0ec-29b5-49ab-da16-5fbd9ade3f5d"
      },
      "execution_count": 129,
      "outputs": [
        {
          "output_type": "execute_result",
          "data": {
            "text/plain": [
              "-0.63136566"
            ]
          },
          "metadata": {},
          "execution_count": 129
        }
      ]
    },
    {
      "cell_type": "code",
      "source": [
        "dbow_model.wv.n_similarity(['dog'], ['food'])"
      ],
      "metadata": {
        "colab": {
          "base_uri": "https://localhost:8080/"
        },
        "id": "fiOLFNy2BAwg",
        "outputId": "321f1a53-2dd1-45c9-e4b2-21d16c8d1554"
      },
      "execution_count": 133,
      "outputs": [
        {
          "output_type": "execute_result",
          "data": {
            "text/plain": [
              "0.12233431"
            ]
          },
          "metadata": {},
          "execution_count": 133
        }
      ]
    },
    {
      "cell_type": "code",
      "source": [
        "dm_model = gensim.models.doc2vec.Doc2Vec(tagged_data, vector_size=20, min_count=1, epochs=2, dm=1)"
      ],
      "metadata": {
        "id": "D069lhAoBIoM"
      },
      "execution_count": 135,
      "outputs": []
    },
    {
      "cell_type": "code",
      "source": [
        "dm_model.infer_vector(['man', 'eats', 'meat'])"
      ],
      "metadata": {
        "colab": {
          "base_uri": "https://localhost:8080/"
        },
        "id": "1y4nYG8_BZmx",
        "outputId": "f1c6b3e4-98c4-4829-f39f-a4f92ff6d1c5"
      },
      "execution_count": 137,
      "outputs": [
        {
          "output_type": "execute_result",
          "data": {
            "text/plain": [
              "array([ 0.02419738,  0.0050433 , -0.01538018, -0.02354402, -0.00771033,\n",
              "        0.02431445,  0.00312986,  0.01675607,  0.02006226, -0.00562447,\n",
              "        0.02347352, -0.00078709,  0.0025219 , -0.01909447,  0.01743626,\n",
              "        0.01861956,  0.01553533,  0.01674518, -0.0044754 ,  0.00285265],\n",
              "      dtype=float32)"
            ]
          },
          "metadata": {},
          "execution_count": 137
        }
      ]
    },
    {
      "cell_type": "code",
      "source": [
        "dm_model.wv.n_similarity(['dog'], ['man'])"
      ],
      "metadata": {
        "colab": {
          "base_uri": "https://localhost:8080/"
        },
        "id": "nlWd13f8BjPR",
        "outputId": "268754ff-f251-4c30-efa5-3d04d6613d36"
      },
      "execution_count": 143,
      "outputs": [
        {
          "output_type": "execute_result",
          "data": {
            "text/plain": [
              "0.46744114"
            ]
          },
          "metadata": {},
          "execution_count": 143
        }
      ]
    },
    {
      "cell_type": "code",
      "source": [
        "dm_model.wv.n_similarity(['meat'], ['man'])"
      ],
      "metadata": {
        "colab": {
          "base_uri": "https://localhost:8080/"
        },
        "id": "jw0nPecbBq7c",
        "outputId": "87d29632-e53e-49c9-f047-bed1035fd084"
      },
      "execution_count": 144,
      "outputs": [
        {
          "output_type": "execute_result",
          "data": {
            "text/plain": [
              "-0.021492641"
            ]
          },
          "metadata": {},
          "execution_count": 144
        }
      ]
    },
    {
      "cell_type": "code",
      "source": [
        "dm_model.wv.n_similarity(['dog'], ['meat'])"
      ],
      "metadata": {
        "colab": {
          "base_uri": "https://localhost:8080/"
        },
        "id": "oEcbMffUBrEM",
        "outputId": "f1b6ffe7-8dea-46c8-e8de-0d8944d58557"
      },
      "execution_count": 145,
      "outputs": [
        {
          "output_type": "execute_result",
          "data": {
            "text/plain": [
              "-0.63136566"
            ]
          },
          "metadata": {},
          "execution_count": 145
        }
      ]
    },
    {
      "cell_type": "code",
      "source": [
        "dm_model.wv.n_similarity(['dog'], ['food'])"
      ],
      "metadata": {
        "colab": {
          "base_uri": "https://localhost:8080/"
        },
        "id": "eZvwUXkeBsGU",
        "outputId": "c9f3f906-fe0d-4350-e357-4349717e591f"
      },
      "execution_count": 146,
      "outputs": [
        {
          "output_type": "execute_result",
          "data": {
            "text/plain": [
              "0.12233431"
            ]
          },
          "metadata": {},
          "execution_count": 146
        }
      ]
    },
    {
      "cell_type": "markdown",
      "source": [
        "###Visualizing Embeddings using TSNE"
      ],
      "metadata": {
        "id": "yTawNQGnB6x-"
      }
    },
    {
      "cell_type": "code",
      "source": [
        "!wget https://raw.githubusercontent.com/practical-nlp/practical-nlp-code/master/Ch3/Models/word2vec_cbow.bin"
      ],
      "metadata": {
        "colab": {
          "base_uri": "https://localhost:8080/"
        },
        "id": "d2gA8q6MBzKg",
        "outputId": "c6674a9c-9492-4a9c-de78-ee2e4caea76f"
      },
      "execution_count": 149,
      "outputs": [
        {
          "output_type": "stream",
          "name": "stdout",
          "text": [
            "--2022-05-22 14:01:55--  https://raw.githubusercontent.com/practical-nlp/practical-nlp-code/master/Ch3/Models/word2vec_cbow.bin\n",
            "Resolving raw.githubusercontent.com (raw.githubusercontent.com)... 185.199.108.133, 185.199.109.133, 185.199.110.133, ...\n",
            "Connecting to raw.githubusercontent.com (raw.githubusercontent.com)|185.199.108.133|:443... connected.\n",
            "HTTP request sent, awaiting response... 200 OK\n",
            "Length: 65730824 (63M) [application/octet-stream]\n",
            "Saving to: ‘word2vec_cbow.bin’\n",
            "\n",
            "word2vec_cbow.bin   100%[===================>]  62.69M   124MB/s    in 0.5s    \n",
            "\n",
            "2022-05-22 14:01:57 (124 MB/s) - ‘word2vec_cbow.bin’ saved [65730824/65730824]\n",
            "\n"
          ]
        }
      ]
    },
    {
      "cell_type": "code",
      "source": [
        "model = gensim.models.KeyedVectors.load_word2vec_format('word2vec_cbow.bin', binary=True)"
      ],
      "metadata": {
        "id": "piwup2yjExSY"
      },
      "execution_count": 150,
      "outputs": []
    },
    {
      "cell_type": "code",
      "source": [
        "vocab = list(model.wv.vocab)"
      ],
      "metadata": {
        "id": "HYdhrxF0FB9x"
      },
      "execution_count": 151,
      "outputs": []
    },
    {
      "cell_type": "code",
      "source": [
        "len(vocab)"
      ],
      "metadata": {
        "colab": {
          "base_uri": "https://localhost:8080/"
        },
        "id": "NCceIAdsHozp",
        "outputId": "f6659422-5d8b-4c8e-db04-4cd2685d9f4a"
      },
      "execution_count": 153,
      "outputs": [
        {
          "output_type": "execute_result",
          "data": {
            "text/plain": [
              "161018"
            ]
          },
          "metadata": {},
          "execution_count": 153
        }
      ]
    },
    {
      "cell_type": "code",
      "source": [
        "vocab[:20]"
      ],
      "metadata": {
        "colab": {
          "base_uri": "https://localhost:8080/"
        },
        "id": "_KK3RdeYHpj4",
        "outputId": "fd3ec3ad-e860-497c-c9eb-81acab78b32b"
      },
      "execution_count": 156,
      "outputs": [
        {
          "output_type": "execute_result",
          "data": {
            "text/plain": [
              "['the',\n",
              " 'of',\n",
              " 'and',\n",
              " 'in',\n",
              " 'to',\n",
              " 'was',\n",
              " 'is',\n",
              " 'for',\n",
              " 'on',\n",
              " 'as',\n",
              " 'by',\n",
              " 'with',\n",
              " 'he',\n",
              " 'at',\n",
              " 'from',\n",
              " 'that',\n",
              " 'his',\n",
              " 'it',\n",
              " 'an',\n",
              " 'were']"
            ]
          },
          "metadata": {},
          "execution_count": 156
        }
      ]
    },
    {
      "cell_type": "code",
      "source": [
        "stopwords = nltk.corpus.stopwords.words()"
      ],
      "metadata": {
        "id": "OjD7RvdyHs0M"
      },
      "execution_count": 157,
      "outputs": []
    },
    {
      "cell_type": "code",
      "source": [
        "vocab_without_stopwords = [word.lower() for word in vocab if word not in stopwords]"
      ],
      "metadata": {
        "id": "RZeyYFoWIGZl"
      },
      "execution_count": 158,
      "outputs": []
    },
    {
      "cell_type": "code",
      "source": [
        "len(vocab_without_stopwords)"
      ],
      "metadata": {
        "colab": {
          "base_uri": "https://localhost:8080/"
        },
        "id": "aYLtpXqhIRaJ",
        "outputId": "a0e71e5b-0c16-4520-da76-efe1a8d4e569"
      },
      "execution_count": 159,
      "outputs": [
        {
          "output_type": "execute_result",
          "data": {
            "text/plain": [
              "159749"
            ]
          },
          "metadata": {},
          "execution_count": 159
        }
      ]
    },
    {
      "cell_type": "code",
      "source": [
        "len(vocab) - len(vocab_without_stopwords)"
      ],
      "metadata": {
        "colab": {
          "base_uri": "https://localhost:8080/"
        },
        "id": "sF9kLUMzIVxt",
        "outputId": "63b5154b-b328-4bb5-85ad-b5db774ff879"
      },
      "execution_count": 160,
      "outputs": [
        {
          "output_type": "execute_result",
          "data": {
            "text/plain": [
              "1269"
            ]
          },
          "metadata": {},
          "execution_count": 160
        }
      ]
    },
    {
      "cell_type": "code",
      "source": [
        "vocab_without_stopwords[:20]"
      ],
      "metadata": {
        "colab": {
          "base_uri": "https://localhost:8080/"
        },
        "id": "ktc2AcwYIXRR",
        "outputId": "494b5c54-16f6-4cb5-d721-b0c40288e2eb"
      },
      "execution_count": 161,
      "outputs": [
        {
          "output_type": "execute_result",
          "data": {
            "text/plain": [
              "['first',\n",
              " 'new',\n",
              " 'two',\n",
              " 'th',\n",
              " 'school',\n",
              " 'references',\n",
              " 'time',\n",
              " 'year',\n",
              " 'bar',\n",
              " 'links',\n",
              " 'external',\n",
              " 'world',\n",
              " 'city',\n",
              " 'state',\n",
              " 'may',\n",
              " 'years',\n",
              " 'national',\n",
              " 'university',\n",
              " 'united',\n",
              " 'team']"
            ]
          },
          "metadata": {},
          "execution_count": 161
        }
      ]
    },
    {
      "cell_type": "code",
      "source": [
        "for similar_word, _ in model.most_similar('school', topn=20):\n",
        "  print(similar_word)"
      ],
      "metadata": {
        "colab": {
          "base_uri": "https://localhost:8080/"
        },
        "id": "7cfu6gASIZQw",
        "outputId": "85c5f5e5-10ad-427d-9336-6a886cab3430"
      },
      "execution_count": 165,
      "outputs": [
        {
          "output_type": "stream",
          "name": "stdout",
          "text": [
            "schools\n",
            "college\n",
            "isd\n",
            "schoolers\n",
            "holsey\n",
            "academy\n",
            "fhs\n",
            "education\n",
            "preschool\n",
            "schooler\n",
            "curriculum\n",
            "students\n",
            "grades\n",
            "campus\n",
            "colleges\n",
            "collegiate\n",
            "gymnasium\n",
            "student\n",
            "fairhills\n",
            "prep\n"
          ]
        }
      ]
    },
    {
      "cell_type": "code",
      "source": [
        "for similar_word, _ in model.most_similar('city', topn=20):\n",
        "  print(similar_word)"
      ],
      "metadata": {
        "colab": {
          "base_uri": "https://localhost:8080/"
        },
        "id": "HEKlQ0wLL2je",
        "outputId": "20de0ef5-681b-4b41-fcb5-f38c2b43582e"
      },
      "execution_count": 166,
      "outputs": [
        {
          "output_type": "stream",
          "name": "stdout",
          "text": [
            "town\n",
            "topeka\n",
            "downtown\n",
            "suburban\n",
            "area\n",
            "suburb\n",
            "conurbation\n",
            "borough\n",
            "cities\n",
            "neighborhoods\n",
            "suburbs\n",
            "municipal\n",
            "neighborhood\n",
            "etobicoke\n",
            "neighbourhood\n",
            "bluffs\n",
            "metro\n",
            "state\n",
            "waterfront\n",
            "metropolitan\n"
          ]
        }
      ]
    },
    {
      "cell_type": "code",
      "source": [
        "keys = ['year', 'school', 'city', 'university', 'school', 'team', 'film']\n",
        "embedding_clusters = []\n",
        "word_clusters = []\n",
        "for word in keys:\n",
        "  embeddings = []\n",
        "  words = []\n",
        "  for similar_word, _ in model.most_similar(word, topn=20):\n",
        "    words.append(similar_word)\n",
        "    embeddings.append(model[similar_word])\n",
        "  embedding_clusters.append(embeddings)\n",
        "  word_clusters.append(words)"
      ],
      "metadata": {
        "id": "CNLPEs4hMymn"
      },
      "execution_count": 169,
      "outputs": []
    },
    {
      "cell_type": "code",
      "source": [
        "len(word_clusters), len(word_clusters[0])"
      ],
      "metadata": {
        "colab": {
          "base_uri": "https://localhost:8080/"
        },
        "id": "xKt3B3-FPVch",
        "outputId": "ba0ceddd-1614-43bb-a795-033deddbafdf"
      },
      "execution_count": 172,
      "outputs": [
        {
          "output_type": "execute_result",
          "data": {
            "text/plain": [
              "(7, 20)"
            ]
          },
          "metadata": {},
          "execution_count": 172
        }
      ]
    },
    {
      "cell_type": "code",
      "source": [
        "word_clusters[0]"
      ],
      "metadata": {
        "colab": {
          "base_uri": "https://localhost:8080/"
        },
        "id": "wjTUp-r-PgNp",
        "outputId": "c106b363-2c2a-4068-8ae7-6450bb9e70df"
      },
      "execution_count": 173,
      "outputs": [
        {
          "output_type": "execute_result",
          "data": {
            "text/plain": [
              "['month',\n",
              " 'week',\n",
              " 'decade',\n",
              " 'years',\n",
              " 'day',\n",
              " 'season',\n",
              " 'months',\n",
              " 'seasons',\n",
              " 'fortnight',\n",
              " 'days',\n",
              " 'weeks',\n",
              " 'weekend',\n",
              " 'time',\n",
              " 'decades',\n",
              " 'semester',\n",
              " 'summer',\n",
              " 'evening',\n",
              " 'hour',\n",
              " 'rounds',\n",
              " 'offseason']"
            ]
          },
          "metadata": {},
          "execution_count": 173
        }
      ]
    },
    {
      "cell_type": "code",
      "source": [
        "embedding_clusters[0]"
      ],
      "metadata": {
        "colab": {
          "base_uri": "https://localhost:8080/"
        },
        "id": "quRTUnUCPnjV",
        "outputId": "f5fc0801-9b78-4050-8022-fdf259b901e0"
      },
      "execution_count": 177,
      "outputs": [
        {
          "output_type": "execute_result",
          "data": {
            "text/plain": [
              "[array([-2.2068849 , -0.37059656, -3.5722163 ,  2.9648452 , -0.32326213,\n",
              "         3.3463948 , -1.3820822 , -0.8973635 ,  4.5223403 ,  2.7755592 ,\n",
              "        -1.6583146 ,  0.21139093, -3.21849   ,  0.8532842 , -0.9408148 ,\n",
              "        -0.6187191 ,  1.532639  ,  0.5755256 , -2.0466862 ,  1.3009337 ,\n",
              "        -1.26347   , -1.0696496 ,  0.59136605, -0.6386157 ,  1.5310727 ,\n",
              "         1.7663351 , -0.4650074 , -0.803212  ,  0.8419739 , -1.9022255 ,\n",
              "        -0.41106072,  0.7344455 ,  1.0780766 , -2.5800087 , -2.2218158 ,\n",
              "         0.5383331 , -3.3763587 ,  0.35877496,  5.1935325 , -3.0792072 ,\n",
              "        -2.512917  , -2.952689  , -0.45483088,  1.4559642 , -0.49042556,\n",
              "        -2.303747  , -2.5723174 , -4.018813  , -1.9164045 , -1.4619983 ,\n",
              "        -0.404113  , -0.45186716,  2.0206685 , -1.0499822 , -1.3220274 ,\n",
              "         2.4071212 ,  1.6206812 ,  0.27286753, -2.378353  , -0.34970096,\n",
              "         2.1767132 ,  0.20676127, -0.2559987 , -0.594602  ,  2.2958608 ,\n",
              "         0.28891337,  1.8732314 ,  0.11363401, -0.9452533 , -1.7350298 ,\n",
              "        -2.7691169 , -3.7095115 ,  1.7608597 ,  2.7368832 ,  4.053267  ,\n",
              "        -1.4896773 , -2.5339396 ,  1.1414902 ,  0.8726105 , -3.434019  ,\n",
              "        -0.7656755 ,  1.073851  , -0.15573686,  2.5765073 ,  3.2700758 ,\n",
              "        -1.3373939 , -6.2772164 , -1.4186392 , -2.1639235 , -0.81914705,\n",
              "        -3.0088875 ,  0.91934186, -1.8337581 ,  1.4966917 ,  0.9658849 ,\n",
              "         2.6410863 ,  1.6557192 , -1.9803938 , -2.9093962 , -3.3514845 ],\n",
              "       dtype=float32),\n",
              " array([-1.6677727 ,  0.9779425 , -3.7058387 ,  3.653332  , -0.28730682,\n",
              "         4.3226805 , -1.7997581 , -0.51527905,  2.688533  ,  2.5218892 ,\n",
              "        -1.4113382 ,  0.64123553, -1.9019941 ,  0.7776355 , -0.60742474,\n",
              "        -0.6117    ,  2.0754979 , -0.7012373 , -1.1918203 ,  2.4493194 ,\n",
              "        -2.0364091 , -0.8561874 , -0.44472256, -1.6196058 , -0.46071193,\n",
              "         1.5604897 ,  0.34018347, -1.240715  , -0.8384527 , -1.5762175 ,\n",
              "         0.7240179 ,  1.5233586 ,  1.0269202 , -0.02955386, -3.4806025 ,\n",
              "         0.33382592, -1.754614  , -1.0701507 ,  4.2536316 , -1.9850779 ,\n",
              "        -2.1087112 , -1.3699548 , -0.5278601 , -0.45959005, -2.1806602 ,\n",
              "        -0.13172531, -3.6648211 , -2.2116795 , -0.72235143, -0.6773927 ,\n",
              "        -2.5569203 , -0.2397704 ,  1.8121607 , -0.06978418, -1.575051  ,\n",
              "         1.8542011 ,  0.2436849 , -0.954388  , -2.9055104 , -0.20035332,\n",
              "         2.1717513 , -1.4569838 , -0.7813758 , -1.2591536 ,  0.8302084 ,\n",
              "        -0.10400728,  1.5893623 ,  2.1922889 ,  0.5050187 , -2.0179102 ,\n",
              "        -3.4650357 , -1.122817  ,  2.0156453 ,  3.9942055 ,  4.3218164 ,\n",
              "        -2.438464  , -1.8784304 , -0.2039339 ,  2.989609  , -4.1778793 ,\n",
              "        -0.86177963,  0.08215031,  0.8921875 ,  0.9308672 ,  2.0856977 ,\n",
              "        -2.118697  , -3.4338562 , -2.6940124 , -3.0149205 ,  0.615413  ,\n",
              "        -2.8081074 ,  2.5995128 , -0.99384123,  1.5511168 ,  1.6972456 ,\n",
              "         1.4105781 ,  1.5113823 , -0.7422947 , -3.1389153 , -1.7178324 ],\n",
              "       dtype=float32),\n",
              " array([ 0.31480467,  2.482967  , -3.0456686 ,  3.0788116 , -0.93401796,\n",
              "         2.5618181 , -0.80222803, -2.2334087 ,  2.0809414 ,  1.496136  ,\n",
              "         0.9377997 , -1.438188  , -1.5751141 , -1.3226188 ,  0.753395  ,\n",
              "        -0.67298055, -0.5075677 , -0.53935456, -1.6599665 ,  1.0246603 ,\n",
              "        -1.9100811 , -1.6999111 ,  0.91074955, -1.2074083 ,  3.6529832 ,\n",
              "         0.9294901 , -0.01469478, -2.3311734 , -1.4832546 , -3.0825324 ,\n",
              "         1.0495412 , -0.3667781 ,  0.7745221 , -3.9912472 ,  0.7077867 ,\n",
              "        -1.5325241 , -1.461141  ,  0.7485676 ,  1.9054103 ,  1.6121498 ,\n",
              "        -1.2724192 , -1.7325072 ,  3.5368779 , -0.8696147 , -3.0435185 ,\n",
              "        -2.9804347 , -1.9204613 , -1.122931  , -2.3239965 ,  0.3401225 ,\n",
              "        -0.8605744 , -1.0241067 ,  1.372153  ,  2.1730123 , -1.6901927 ,\n",
              "         0.15274936,  1.0525694 , -0.7900919 , -0.6084319 ,  0.87772524,\n",
              "         1.1397727 ,  0.76321393, -1.4607558 ,  0.21798116,  2.0718076 ,\n",
              "        -1.0143825 , -2.3937204 ,  1.6540143 , -0.77403927, -4.462238  ,\n",
              "        -2.165584  , -2.0089164 ,  2.0833704 ,  2.5728548 ,  0.43485638,\n",
              "        -1.1525751 , -0.15519789, -0.78961486,  0.55612624, -3.9224877 ,\n",
              "         0.89073217, -1.2223244 ,  0.8140084 ,  1.6910887 , -0.28322372,\n",
              "        -3.0069242 , -5.062224  , -3.1371074 , -2.1165047 ,  0.76097757,\n",
              "        -0.9859744 , -1.2110429 , -1.3908087 ,  0.9580861 ,  1.3312538 ,\n",
              "         0.6185243 ,  1.8325368 , -0.41402286, -2.3937964 , -1.8323381 ],\n",
              "       dtype=float32),\n",
              " array([-1.6369282 , -0.05172922, -3.6263416 ,  3.2231293 , -0.10245951,\n",
              "         2.4024634 ,  0.15333624, -1.5003555 ,  4.934531  ,  2.0395672 ,\n",
              "        -1.8746594 , -1.4168369 , -1.1698558 ,  1.343986  ,  2.1808813 ,\n",
              "        -1.8374078 ,  1.5759035 ,  0.27075756, -0.7584266 ,  0.22670709,\n",
              "        -0.38885602, -4.24267   ,  2.179485  , -0.73366696,  1.0516672 ,\n",
              "         1.3128914 ,  0.73944753, -3.4879715 , -1.3593442 , -5.4118824 ,\n",
              "        -0.05164808, -2.818599  ,  1.6043849 , -4.8057857 ,  0.05824487,\n",
              "        -0.43829793, -2.8223083 , -0.12792392,  2.5734158 ,  0.9431845 ,\n",
              "         0.3044197 , -0.6628752 ,  4.3443494 ,  1.083521  , -2.109932  ,\n",
              "        -4.597845  , -3.0751257 , -5.140486  , -0.834705  ,  1.0344751 ,\n",
              "        -0.82971954,  0.91370255,  3.3855565 ,  2.0725763 , -1.2028723 ,\n",
              "         1.1459918 ,  4.6320353 , -0.7458409 , -3.2339218 , -0.18495148,\n",
              "         0.516507  ,  1.3010348 , -2.811108  , -0.15664636,  2.3789814 ,\n",
              "        -3.920063  , -6.031425  ,  0.29142156, -1.9810743 , -4.2647276 ,\n",
              "        -1.2827243 , -3.1782212 ,  2.3787026 ,  1.9513571 ,  3.768302  ,\n",
              "        -0.95875245, -1.1632965 , -1.8540806 ,  2.398285  , -3.4840832 ,\n",
              "         4.837326  , -0.36180833,  1.434723  ,  1.8783646 ,  2.1486604 ,\n",
              "        -4.0573163 , -8.658813  , -1.5318995 , -4.6116433 ,  1.1315666 ,\n",
              "         0.10091018, -2.303642  ,  1.3339626 , -1.3252293 ,  3.2643907 ,\n",
              "         1.2741102 ,  1.9569085 , -2.886995  , -1.9933525 , -1.6212118 ],\n",
              "       dtype=float32),\n",
              " array([-1.7775578 ,  0.15343417, -2.4181325 ,  4.294507  ,  1.0364712 ,\n",
              "         2.596558  , -1.4947958 ,  1.6587507 ,  2.1800609 ,  1.5696629 ,\n",
              "        -1.5637299 ,  1.8809854 , -3.230261  ,  0.6145323 , -1.8929652 ,\n",
              "        -0.566716  ,  0.06279879, -0.6024342 , -0.4743778 , -0.05766644,\n",
              "        -0.8532403 , -0.5151037 ,  0.7535288 ,  0.47619903, -0.7721613 ,\n",
              "         0.49333382, -1.3083287 , -1.4571083 ,  1.6985575 ,  0.92786336,\n",
              "        -0.48563394, -0.7454019 , -0.6312238 , -1.5120004 , -0.84881866,\n",
              "         0.4252174 , -1.6902246 ,  1.6837239 ,  3.7684946 , -2.8876138 ,\n",
              "        -2.3748198 , -1.5361496 , -1.0173055 , -1.692573  , -0.8587791 ,\n",
              "        -0.51106983, -2.5259173 , -2.0962036 , -3.3634613 , -2.2565556 ,\n",
              "        -0.14309599, -0.6162321 ,  0.87717885,  1.2847393 , -1.524319  ,\n",
              "         1.9349253 , -1.5606672 , -1.7731438 , -2.452533  , -1.9375205 ,\n",
              "         2.902163  , -3.3573387 ,  0.9069998 , -2.4822922 , -0.9252132 ,\n",
              "        -0.0133304 ,  1.5340896 ,  3.3313668 ,  1.1976473 , -1.9562776 ,\n",
              "        -3.2012248 , -2.2684672 ,  2.2843618 ,  2.2881343 ,  1.4407109 ,\n",
              "        -1.1398963 , -1.8572015 , -1.5995739 ,  3.1072335 , -3.593862  ,\n",
              "         1.2681483 ,  1.4338565 ,  1.0448877 ,  0.6147368 ,  2.088648  ,\n",
              "        -1.8560822 , -1.487737  , -2.3560781 , -0.8590735 ,  0.98032737,\n",
              "        -0.40530643,  1.8419123 , -1.9135185 ,  1.0211658 ,  2.296961  ,\n",
              "         2.7058096 , -0.49595836, -0.7959239 , -3.413743  , -0.92056715],\n",
              "       dtype=float32),\n",
              " array([ 1.7530895 , -0.07136256, -3.185259  ,  2.3467007 , -0.5084887 ,\n",
              "         3.6177506 , -3.287529  , -4.976644  ,  2.380122  ,  0.87817365,\n",
              "        -1.9021356 ,  0.9079107 , -0.08968379,  0.793792  , -1.3694212 ,\n",
              "         2.2290745 ,  2.2321358 , -0.4789853 , -0.06362056,  4.843144  ,\n",
              "        -3.6841798 ,  1.1284437 , -0.321624  , -0.76880485,  0.81881464,\n",
              "         1.9923787 ,  0.58073545, -2.0042963 , -2.179441  , -1.095497  ,\n",
              "         0.265443  ,  0.92754525,  0.51584345,  1.2440163 , -4.5918174 ,\n",
              "         2.517853  ,  0.20632139,  1.0590968 ,  2.8803458 , -1.2886841 ,\n",
              "        -4.4160137 , -1.8023943 ,  2.862297  ,  0.76379544, -0.6122915 ,\n",
              "        -2.4529142 , -2.4243746 , -2.7613468 , -0.3434494 , -1.5316494 ,\n",
              "        -2.7847364 , -4.313923  ,  0.9491059 ,  1.0811479 , -2.8972363 ,\n",
              "         0.5642383 ,  4.371177  ,  0.18645999, -1.2547022 , -0.36448476,\n",
              "         0.08743203, -0.53418463,  0.3221958 , -1.5543773 ,  0.46786642,\n",
              "        -1.7201467 ,  0.14561732,  2.2241254 ,  1.1964003 , -2.7172153 ,\n",
              "        -1.48277   ,  2.630086  ,  3.165273  ,  1.7004209 , -0.70054305,\n",
              "        -3.903362  , -2.4181926 ,  2.2266648 ,  2.5401444 , -5.515406  ,\n",
              "        -2.1002784 , -2.289168  ,  3.9201636 ,  3.9784794 ,  3.1113398 ,\n",
              "        -5.129272  , -2.9802048 , -2.9843462 , -4.8639903 ,  3.32613   ,\n",
              "        -1.3477026 ,  4.9111376 , -2.746536  ,  3.7484224 , -1.6280737 ,\n",
              "         0.2750278 ,  3.3859627 ,  1.1267473 , -3.3543324 ,  1.4475925 ],\n",
              "       dtype=float32),\n",
              " array([-3.4418306 , -0.01601027, -2.852009  ,  1.2679975 ,  0.3031243 ,\n",
              "         1.6294419 , -0.10537089, -1.8778313 ,  4.2152686 ,  0.46964568,\n",
              "        -3.2812693 ,  0.37239498, -2.744166  ,  3.3858428 ,  1.2819517 ,\n",
              "        -0.16266741,  0.95856684,  0.49860752, -1.1258533 ,  1.1140385 ,\n",
              "         0.14463246, -3.0639944 ,  0.0482055 ,  0.59857064, -0.5779746 ,\n",
              "         1.1804671 ,  1.6158077 , -1.3634218 , -0.9403905 , -5.0050178 ,\n",
              "        -0.5833265 ,  0.11339981,  2.9292998 , -2.3001704 , -1.6510541 ,\n",
              "         0.86175406, -2.7055862 ,  0.17933834,  5.0442452 ,  0.07228715,\n",
              "         0.8601523 , -2.9863033 ,  1.7185357 ,  2.5283146 , -1.5487123 ,\n",
              "        -4.67634   , -4.9441276 , -5.303114  , -0.31924102, -0.45175368,\n",
              "        -0.5181908 ,  1.9496036 ,  2.7351658 , -0.7897572 , -2.5565205 ,\n",
              "         0.5729599 ,  3.8501189 ,  0.27068877, -4.4431653 , -0.9846866 ,\n",
              "         0.07372136,  0.7618975 , -2.5999987 ,  1.2009887 ,  1.9423993 ,\n",
              "        -1.1425902 , -3.6415806 , -0.53273135, -1.6681393 , -3.7852674 ,\n",
              "        -0.72909194, -3.4590952 ,  1.0512594 ,  3.7223384 ,  4.855618  ,\n",
              "        -1.0438281 , -2.710131  ,  0.6548166 ,  2.2662704 , -1.8740906 ,\n",
              "         2.1782095 ,  1.7475632 ,  0.64466965,  2.2613263 ,  3.3274872 ,\n",
              "        -4.17579   , -8.658538  , -0.55469507, -3.3965633 , -0.47614247,\n",
              "        -1.4839265 , -1.0769683 ,  1.8368275 , -1.5320122 ,  3.6408372 ,\n",
              "         1.6011363 , -0.65229434, -4.333489  , -2.1052835 , -1.1760783 ],\n",
              "       dtype=float32),\n",
              " array([ 1.98019350e+00, -4.35238332e-01, -3.61385846e+00,  2.79375839e+00,\n",
              "         3.05435479e-01,  1.77167463e+00, -2.71026707e+00, -2.57966781e+00,\n",
              "         2.30587983e+00,  2.55239034e+00, -1.82867253e+00, -3.81528944e-01,\n",
              "         3.39033753e-01,  3.94597435e+00,  8.80706787e-01,  2.50173831e+00,\n",
              "         3.46983528e+00, -1.35234511e+00,  2.17936650e-01,  4.13257313e+00,\n",
              "        -2.40909123e+00, -1.93162417e+00,  1.89965177e+00, -1.02196515e+00,\n",
              "         3.58940870e-01,  4.98765796e-01,  1.09820211e+00, -1.50831366e+00,\n",
              "        -3.11629295e+00, -3.77911258e+00,  6.09763563e-01,  1.66570336e-01,\n",
              "         2.06901193e+00,  3.97047937e-01, -1.91683912e+00,  5.39714634e-01,\n",
              "        -1.34182644e+00, -2.96917439e-01,  1.14042711e+00, -2.38566780e+00,\n",
              "        -8.17993999e-01, -7.32897082e-04,  4.23066378e+00,  2.79635620e+00,\n",
              "        -2.30653119e+00, -4.66637897e+00, -1.88777149e+00, -4.00099897e+00,\n",
              "         1.04191661e+00,  1.10559011e+00, -2.33230209e+00, -9.64695632e-01,\n",
              "         1.32916808e+00,  2.69310784e+00, -9.73295689e-01, -1.06179106e+00,\n",
              "         4.36756849e+00,  1.04136348e+00, -3.24119592e+00,  3.20813864e-01,\n",
              "        -1.48133981e+00, -1.52914915e-02, -2.73326802e+00, -5.93086541e-01,\n",
              "        -8.47135484e-01, -3.19335437e+00, -3.41212678e+00,  1.29045069e+00,\n",
              "         6.41200483e-01, -2.96179414e+00,  5.87518096e-01, -1.35658336e+00,\n",
              "         3.34983873e+00,  1.44047844e+00,  1.27444595e-01, -3.56773496e+00,\n",
              "        -2.39633417e+00,  4.75486994e-01,  2.66675043e+00, -1.95167243e+00,\n",
              "         1.01807928e+00,  3.13570768e-01,  2.73220372e+00,  3.96345592e+00,\n",
              "         3.98767543e+00, -4.46234226e+00, -7.66361284e+00, -1.99539554e+00,\n",
              "        -3.43046069e+00,  2.34587145e+00, -7.05169737e-01,  1.52725279e+00,\n",
              "        -1.08078885e+00,  1.19518495e+00, -1.31625962e+00, -1.25834084e+00,\n",
              "         4.44648790e+00, -4.69020814e-01, -1.91953576e+00,  1.53819323e+00],\n",
              "       dtype=float32),\n",
              " array([-0.03595047, -0.3138577 , -0.5908357 ,  0.80827814,  0.15569925,\n",
              "         0.9830134 ,  0.03232423,  0.0595632 ,  0.96519136,  0.41138187,\n",
              "        -0.45166606, -0.0997434 , -0.28087646,  0.18038534,  0.11397654,\n",
              "        -0.19841388, -0.28295493,  0.17809327,  0.1244358 ,  0.27877125,\n",
              "        -0.07364853,  0.07952733, -0.09589934, -0.18350919,  0.35393262,\n",
              "         0.5605104 , -0.49921983,  0.5273635 ,  0.12498178, -0.2758229 ,\n",
              "        -0.41874155,  0.29899615,  0.06349668, -0.11764164,  0.00908845,\n",
              "         0.24750213, -0.3419209 ,  0.21758296,  0.63718337, -0.36177555,\n",
              "        -0.5177587 , -1.0161504 , -0.15828554, -0.21225514, -0.7268685 ,\n",
              "        -0.9400016 , -0.8032259 , -1.2162982 , -0.86976844, -0.13515286,\n",
              "        -0.22241952,  0.11039168, -0.01752097, -0.2841083 , -0.2314719 ,\n",
              "         0.01006151,  0.24300967,  0.4042923 , -0.7726738 , -0.11924408,\n",
              "         0.30129042,  0.26832247, -0.32046503,  0.10375731,  0.09837785,\n",
              "        -0.19507916, -0.06518401,  0.28468955, -0.02394483, -0.6725405 ,\n",
              "        -0.6232142 , -1.0416752 , -0.12575068,  0.58805823,  0.39257318,\n",
              "        -0.06352402, -0.05611169,  0.4108818 ,  0.3521846 , -0.2821093 ,\n",
              "         0.03960726,  0.5737036 ,  0.0830868 ,  0.2863583 ,  0.4119823 ,\n",
              "        -0.558163  , -1.1024792 , -0.20821321,  0.38871148, -0.01606922,\n",
              "        -0.69753736, -0.01814052,  0.15030442,  0.1696115 ,  0.25934422,\n",
              "         0.30818093,  0.31397426, -0.40344283, -0.7312899 , -0.66934854],\n",
              "       dtype=float32),\n",
              " array([-1.8033007 , -1.1723254 , -3.3491616 ,  1.3037412 ,  0.934291  ,\n",
              "         2.1418414 , -0.32756585, -0.7692829 ,  3.2592957 ,  0.83380955,\n",
              "        -2.4530032 ,  0.11051741, -3.5231524 ,  2.9097607 , -0.83187735,\n",
              "        -0.4288033 ,  0.745988  , -0.5175061 , -0.31458363,  1.0810666 ,\n",
              "         0.97467786, -2.087105  , -0.09435869, -0.2723094 , -1.2697251 ,\n",
              "         1.533011  ,  0.32873458, -0.32241753, -0.04097553, -2.871856  ,\n",
              "        -0.5313462 , -0.6316859 ,  1.5577364 , -2.3767622 , -0.23488659,\n",
              "         1.0166898 , -1.7031434 , -0.09199141,  4.861025  , -0.43132782,\n",
              "        -0.48740405, -0.97697973,  0.9536206 ,  0.20249458, -1.4410174 ,\n",
              "        -3.2471037 , -5.170732  , -4.747613  , -0.6876395 , -0.7634808 ,\n",
              "        -0.5321148 ,  1.286419  ,  2.0000842 ,  0.16860634, -1.1350052 ,\n",
              "        -0.146824  ,  0.71781445, -0.12793781, -3.154276  , -1.250734  ,\n",
              "         1.0862381 ,  0.4186709 , -2.6836393 ,  0.03048124,  1.3506038 ,\n",
              "        -2.374488  , -2.5806282 ,  1.5194821 ,  0.01005107, -4.540049  ,\n",
              "        -0.8704048 , -2.7410529 ,  1.8698343 ,  3.6387131 ,  3.9104755 ,\n",
              "        -0.7952462 , -1.8184618 , -2.0311816 ,  2.176202  , -2.1683915 ,\n",
              "         2.5626285 ,  1.8509948 ,  0.5967642 ,  2.0291288 ,  3.5040321 ,\n",
              "        -1.6875991 , -6.858565  , -0.84926903, -1.4018061 ,  1.0762757 ,\n",
              "        -2.1619272 ,  0.41090608,  2.1285026 , -1.5182843 ,  2.665749  ,\n",
              "         0.8724974 , -0.51429766, -3.3598673 , -2.696853  , -0.959427  ],\n",
              "       dtype=float32),\n",
              " array([-2.9634485 ,  0.03906902, -3.8070824 ,  1.20073   ,  1.0037967 ,\n",
              "         3.4549587 , -0.01671683, -1.0142019 ,  4.6226697 ,  1.4466716 ,\n",
              "        -3.3163586 , -0.1708288 , -2.883111  ,  4.7449265 ,  0.874499  ,\n",
              "         1.0103335 ,  1.252233  , -0.8027395 , -2.8313668 ,  1.814435  ,\n",
              "        -0.6416447 , -2.9699724 , -1.8223656 ,  0.8405982 , -1.3706119 ,\n",
              "         0.58093935,  2.8968773 , -1.1791735 , -1.053935  , -3.9699411 ,\n",
              "        -0.08110245,  0.45417842,  1.4175732 ,  0.1099849 , -3.0083828 ,\n",
              "         0.84079033, -2.1789176 , -0.02789676,  5.0126314 ,  0.8934764 ,\n",
              "         0.24573947, -2.6156244 ,  1.2007815 ,  1.6161655 , -2.017268  ,\n",
              "        -3.4909942 , -4.6223254 , -4.082781  ,  0.29647785, -0.64901125,\n",
              "        -1.5879542 ,  3.7740648 ,  2.8585656 ,  1.1351095 , -1.9789313 ,\n",
              "         0.50561774,  3.674829  , -1.3456727 , -4.5805244 , -0.37051937,\n",
              "         0.37615463, -1.3114927 , -3.582097  , -0.14721642,  3.217272  ,\n",
              "        -0.8950763 , -2.8291357 ,  2.0973554 , -0.7204058 , -3.5348022 ,\n",
              "         0.4900474 , -2.2135117 ,  1.5016651 ,  5.095226  ,  4.236351  ,\n",
              "        -1.2214212 , -1.1700846 , -0.6575193 ,  2.038256  , -2.1994607 ,\n",
              "         1.1477996 ,  1.1545236 ,  0.57295114,  2.3176978 ,  3.840897  ,\n",
              "        -4.0811586 , -7.387492  , -0.95025235, -1.7099606 , -0.56167847,\n",
              "        -3.0840473 , -0.63126266,  3.50685   , -1.3830984 ,  3.4797146 ,\n",
              "         0.01640916,  0.9230435 , -3.292071  , -2.0178788 , -1.2739273 ],\n",
              "       dtype=float32),\n",
              " array([-0.96422553,  0.5028219 , -1.438522  ,  4.182639  , -0.5446363 ,\n",
              "         3.2490504 , -0.9118823 ,  1.0332953 , -0.83804655,  3.0390093 ,\n",
              "        -0.5658773 ,  1.5311654 , -1.9161923 ,  0.5587353 , -0.82710224,\n",
              "         0.6591049 ,  1.5834769 , -0.90489465,  0.22428596,  1.1890574 ,\n",
              "        -2.5756106 ,  0.30871785,  0.27091968, -1.4684507 ,  0.6507074 ,\n",
              "         1.5329771 , -1.3362856 , -0.5753818 ,  0.95685494, -1.9613327 ,\n",
              "        -0.42924187, -1.1355846 , -0.13576978,  0.658245  , -0.14247727,\n",
              "         0.98282814,  0.16550744, -1.3974543 ,  2.5832584 , -1.3174413 ,\n",
              "        -3.0037043 ,  0.13830733, -0.8885565 , -0.61981064, -0.64088154,\n",
              "         1.2062751 , -3.7523012 , -1.9633814 , -0.1527101 , -1.4253774 ,\n",
              "        -0.7129612 , -0.5770866 ,  0.11421976, -0.371637  , -0.4483246 ,\n",
              "         0.53887016,  0.09459747, -0.1343301 , -0.99311215,  0.4494402 ,\n",
              "         2.5796492 , -3.323923  , -1.8458261 ,  0.0268302 , -2.3222902 ,\n",
              "        -0.4704081 ,  1.3291612 ,  1.9819059 , -0.32214677, -2.013919  ,\n",
              "        -1.8240023 ,  0.1486595 ,  1.5607483 ,  3.0100765 ,  1.2885939 ,\n",
              "        -2.059059  , -1.9709599 ,  0.43719885,  3.7348893 , -2.979589  ,\n",
              "        -0.5909135 ,  1.4467225 ,  1.0839678 , -0.15565516,  0.78645283,\n",
              "        -0.57536507, -1.3444321 , -2.7948103 , -0.3251557 ,  0.20019972,\n",
              "        -0.24199215,  1.3440534 , -0.6821246 ,  2.5894575 ,  1.7431811 ,\n",
              "         2.837279  ,  0.7377468 , -3.1471865 , -1.8567697 , -2.0598292 ],\n",
              "       dtype=float32),\n",
              " array([-0.61116403,  0.96329165, -1.6353446 ,  3.0338192 ,  1.9535488 ,\n",
              "         2.399797  , -0.3754695 ,  0.14858277,  3.749711  , -0.2430663 ,\n",
              "         0.70102024,  1.3288052 , -3.2692485 ,  2.5542402 ,  0.22865519,\n",
              "         0.04467294,  2.6508493 ,  1.3708818 ,  1.5139558 , -1.7528241 ,\n",
              "        -5.093313  , -1.373615  , -1.8117675 , -2.465317  ,  0.27869126,\n",
              "         0.7272209 ,  0.22917973,  0.07883117, -3.8676953 , -0.8422108 ,\n",
              "        -0.43980882, -1.8149722 , -1.2206169 , -1.5237887 , -0.13614601,\n",
              "         0.67916244, -2.657912  ,  2.4577992 ,  1.644479  , -0.36983216,\n",
              "        -1.1801693 , -0.64407814,  1.5181245 , -1.263202  , -2.186984  ,\n",
              "         0.10278498, -5.1785283 , -0.45563743, -2.4109588 , -0.9199253 ,\n",
              "         1.7240936 , -1.900693  ,  1.5802848 ,  2.8891437 ,  1.176826  ,\n",
              "         3.5104568 ,  1.3521746 , -3.3706048 ,  1.0175877 ,  2.5974402 ,\n",
              "         2.030088  ,  0.33217037, -1.850133  ,  4.0006914 , -0.09432608,\n",
              "         0.32179266, -1.4810544 ,  2.716256  ,  2.320209  , -0.8715438 ,\n",
              "        -0.5243045 , -1.2836664 , -0.98003584,  2.1480742 ,  0.49148774,\n",
              "         0.20834184, -0.19033167, -0.41579917,  3.711594  , -5.2488656 ,\n",
              "        -0.06099496, -0.06868991,  1.860895  , -0.354916  ,  1.3652064 ,\n",
              "        -1.9671487 , -3.205499  , -2.564168  , -2.2418866 , -0.04568835,\n",
              "         0.864754  ,  0.7946199 , -3.4163623 ,  2.7604392 , -0.45123413,\n",
              "         2.7647727 ,  1.4431177 ,  1.1744564 , -3.245871  , -0.74206775],\n",
              "       dtype=float32),\n",
              " array([-8.9392012e-01,  1.2789245e+00, -1.8451331e+00,  2.2516208e+00,\n",
              "        -2.1605768e+00,  1.3049783e+00, -8.3175284e-01, -2.0564203e+00,\n",
              "         2.8062534e+00,  1.3487061e+00, -5.1954806e-01, -6.3321662e-01,\n",
              "        -1.0171880e+00,  1.9926469e+00,  2.3793311e+00, -6.5302682e-01,\n",
              "         1.0708504e-01, -4.7374555e-01, -2.0825644e+00, -1.9754897e-01,\n",
              "        -2.0547957e+00, -2.5438855e+00,  1.2041973e+00,  3.9123662e-02,\n",
              "         6.5992010e-01,  1.1327891e+00,  1.4492645e+00, -2.9667957e+00,\n",
              "        -5.1039481e-01, -6.1585865e+00,  6.8043667e-01, -2.5395527e+00,\n",
              "         1.1141268e+00, -4.5474038e+00,  1.2066213e+00, -2.3088520e+00,\n",
              "        -2.9669011e+00, -2.8215635e-01,  2.2558911e+00,  1.2736948e+00,\n",
              "         6.0010672e-01,  6.5231496e-01,  4.1377783e+00,  1.7166435e+00,\n",
              "        -2.3914843e+00, -4.4644527e+00, -1.8220460e+00, -3.0597177e+00,\n",
              "        -2.5507948e+00,  1.5499288e+00, -3.3508778e-01,  2.9517740e-02,\n",
              "         3.1423979e+00,  2.8962469e+00, -2.2672193e+00,  2.5781596e-01,\n",
              "         2.3566880e+00,  6.1082983e-01, -1.9213816e+00, -1.0617235e+00,\n",
              "         5.2048916e-01, -5.7062858e-01, -2.4498527e+00,  1.7844149e-01,\n",
              "         1.2329229e+00, -2.1060953e+00, -5.2062602e+00, -4.6001956e-02,\n",
              "         1.0014848e-03, -4.8336020e+00,  1.3677287e+00, -3.1825159e+00,\n",
              "         1.8128315e+00,  2.0829740e+00,  1.3661703e+00, -1.5100133e+00,\n",
              "        -2.1903825e-01, -2.0644257e+00,  1.0907763e+00, -1.0587332e+00,\n",
              "         3.5254352e+00,  6.6681409e-01,  1.2998214e+00,  1.4561183e+00,\n",
              "         9.7869843e-01, -2.7650695e+00, -7.9569926e+00, -2.7072029e+00,\n",
              "        -3.4072058e+00, -2.8313801e-01,  1.1951375e+00, -2.1503730e+00,\n",
              "         1.1079836e+00,  1.1697781e-01,  2.7953050e+00, -3.5126352e-01,\n",
              "         1.1610341e+00, -2.0121238e+00, -4.8496869e-01, -1.1714877e+00],\n",
              "       dtype=float32),\n",
              " array([-3.8329113 ,  0.6729085 , -0.3928326 ,  2.938424  ,  0.36858085,\n",
              "         2.3714151 , -0.60551107, -0.21491395,  1.2604057 ,  2.1009254 ,\n",
              "        -0.84465206,  0.5662393 , -1.1377124 , -0.1212583 , -0.69983625,\n",
              "        -0.27704364,  1.1162285 ,  0.20340438,  0.4819781 ,  1.9528496 ,\n",
              "        -0.85152626, -0.85471505, -0.5123676 , -2.4887629 ,  1.087539  ,\n",
              "         0.9344436 , -1.4073253 ,  1.2120421 , -1.3141541 ,  0.4527528 ,\n",
              "         0.8755225 , -2.5932238 ,  2.3854117 ,  0.47384048, -1.3177092 ,\n",
              "         2.1824462 , -3.1063542 , -0.26952264,  1.2070532 , -4.928488  ,\n",
              "        -0.29818282, -1.111357  , -0.28578442, -0.06264046, -1.8470498 ,\n",
              "        -1.5129579 , -0.2962011 , -1.0706921 , -1.2519276 ,  2.0110137 ,\n",
              "        -0.18666695, -1.949636  ,  0.51447517,  0.8725977 ,  0.2980985 ,\n",
              "         0.66637844,  0.6184873 , -2.0816379 , -0.69440925,  0.10880195,\n",
              "         0.7062998 ,  0.07091164,  1.0262904 , -0.49241513, -1.2559365 ,\n",
              "        -1.2869862 ,  1.9485646 , -0.04222952, -1.4052227 , -0.20302607,\n",
              "        -1.6824421 ,  0.058899  , -0.42551285,  0.2528551 ,  1.6383278 ,\n",
              "        -0.69899   , -2.2329004 ,  0.8872622 ,  1.4250586 ,  0.23561539,\n",
              "        -1.7476103 ,  1.3547665 ,  1.8910325 ,  1.1615001 , -0.8295448 ,\n",
              "        -0.95062625, -1.4306793 , -0.6640291 , -1.5412155 , -0.13404615,\n",
              "        -0.8037004 ,  1.3461617 ,  0.4802044 ,  0.14499259,  1.8906292 ,\n",
              "        -0.9458968 , -0.56313217, -0.03626979, -0.42998984, -0.37233347],\n",
              "       dtype=float32),\n",
              " array([-1.4746839 , -0.09000558, -1.8163514 , -1.3410285 ,  0.974531  ,\n",
              "         2.0228038 , -0.7854923 ,  0.08631904, -0.99582237,  1.8184689 ,\n",
              "        -0.12058716,  0.44880953,  0.57948345,  1.2288699 ,  0.18174349,\n",
              "         0.23143959,  1.8766829 , -1.5634226 , -0.484198  ,  2.0461571 ,\n",
              "        -2.7666488 , -0.8251039 , -0.02974269, -0.97199273,  0.7496645 ,\n",
              "         2.0321558 ,  0.48518223,  0.7348847 , -1.4667034 ,  1.0837774 ,\n",
              "         0.94249225, -1.2900494 ,  1.3956738 , -0.23531674, -3.4237008 ,\n",
              "         1.4466584 , -3.3306904 , -1.9330916 ,  2.1247575 ,  0.4415209 ,\n",
              "        -3.4854622 , -0.33880675, -0.23287046,  0.3073439 , -2.689663  ,\n",
              "         1.4475939 , -3.5266342 , -2.5290706 , -0.7981104 , -1.8849553 ,\n",
              "        -1.188454  , -2.257355  ,  1.4913582 ,  0.80506015, -1.8881879 ,\n",
              "         0.99070513,  2.2957788 ,  0.35660422, -0.40973666, -0.4768648 ,\n",
              "        -0.46323404, -0.5035427 , -0.8212058 , -0.14228258, -1.8255409 ,\n",
              "        -2.1221707 , -0.9905125 , -0.16402559,  0.18144228, -1.1701864 ,\n",
              "        -2.3245263 , -0.0084133 ,  1.4028134 ,  2.739054  ,  1.0664    ,\n",
              "        -0.7518662 , -2.952078  ,  0.05030295,  1.3169646 , -3.385411  ,\n",
              "        -0.1973765 ,  1.6850252 , -0.61066574,  1.283131  ,  0.6052114 ,\n",
              "        -1.295366  ,  1.2110502 , -1.0130358 , -1.5954891 ,  2.161473  ,\n",
              "        -1.4391619 ,  0.32768154, -1.5880054 ,  0.39164373,  1.4140006 ,\n",
              "         1.7266371 ,  0.36529237, -1.567304  , -1.9725246 ,  0.81063086],\n",
              "       dtype=float32),\n",
              " array([-2.005184  , -2.6467185 , -2.360008  ,  3.77153   ,  0.41967654,\n",
              "         2.639564  , -2.2151804 , -1.0632393 ,  0.97843623,  3.0822124 ,\n",
              "        -1.8932436 ,  1.5064983 , -3.1532946 ,  0.2336187 , -0.4249121 ,\n",
              "         0.7691346 ,  0.73322   , -2.9405835 ,  0.5474038 , -0.34494063,\n",
              "        -2.8992918 , -1.0331492 , -0.85823894, -2.487456  ,  0.3125408 ,\n",
              "         1.4755504 ,  0.6332051 , -1.1287555 ,  2.3233645 , -0.28575432,\n",
              "        -0.83398235, -1.4301093 , -0.07530114,  0.00974144, -1.565174  ,\n",
              "         1.867871  , -0.30456248, -0.539423  ,  3.2597592 , -2.1494503 ,\n",
              "        -3.0650823 , -0.24599929, -1.3617738 ,  0.5140081 , -1.4320269 ,\n",
              "         0.78035825, -2.990108  , -0.96290326, -0.41303292, -2.5665312 ,\n",
              "        -0.20609635, -1.6608112 ,  1.0377005 ,  1.1914784 , -0.9604038 ,\n",
              "         0.68735397, -1.9186077 ,  0.8797138 , -1.046094  , -3.086127  ,\n",
              "         1.3421909 ,  0.29726997,  0.76989836,  1.0208731 , -0.7055089 ,\n",
              "         1.6990753 ,  0.08666525,  2.1422753 , -1.6416427 , -1.1054925 ,\n",
              "        -2.9082608 ,  0.18335785,  0.38984466,  2.8810556 ,  3.3774269 ,\n",
              "         0.22866516, -2.2160332 , -1.531517  ,  1.3457954 , -2.4231193 ,\n",
              "        -0.4409627 , -0.34387106, -2.2392802 , -0.10376874,  1.0650368 ,\n",
              "         2.1452477 , -0.2393596 , -1.3937404 , -0.90829325,  0.31889558,\n",
              "        -0.26947662,  2.4202557 , -1.7378935 ,  1.0132939 ,  0.29829502,\n",
              "         2.9397378 ,  1.6906927 , -1.2035799 ,  0.76729953, -0.6446465 ],\n",
              "       dtype=float32),\n",
              " array([-2.5762756 , -0.46730304, -2.6188974 ,  4.60667   , -2.4340765 ,\n",
              "         1.8458664 , -0.753406  , -1.0937096 ,  2.7863128 ,  2.8110025 ,\n",
              "        -3.2673645 ,  2.7376037 , -3.7699525 ,  3.7681954 , -0.51581806,\n",
              "        -2.4758196 ,  3.0273402 , -0.82218385,  0.04611068, -0.3167625 ,\n",
              "        -2.0180025 ,  0.6376542 , -1.9305133 ,  0.4032069 , -1.1664553 ,\n",
              "         2.2235136 , -1.9464179 , -0.06520009,  1.1430868 , -0.34316948,\n",
              "        -1.5506927 ,  2.9391444 ,  1.5392579 ,  0.25135973,  0.5957253 ,\n",
              "         1.0556548 , -2.9002802 , -0.36956632,  1.7083148 , -2.8456633 ,\n",
              "        -2.7335699 ,  2.099794  ,  1.6686949 , -1.2680331 , -1.3424416 ,\n",
              "         0.17215544, -4.4964147 , -2.752866  , -2.3147018 , -2.9899578 ,\n",
              "        -0.4230072 ,  2.0495336 ,  0.26341617,  1.5251465 ,  0.715924  ,\n",
              "        -1.4014667 ,  0.29201892, -0.64679575,  1.1421404 , -2.362365  ,\n",
              "         1.4648173 , -0.06544188,  1.0649104 ,  0.80094045, -1.5422133 ,\n",
              "         0.8112475 , -0.06149038,  1.8086863 , -0.7266641 , -3.1569746 ,\n",
              "        -0.19198266, -0.48739266, -0.77600944,  2.503182  ,  3.0929704 ,\n",
              "        -1.2194948 , -1.3742707 , -1.9143821 ,  1.9377985 , -1.8476992 ,\n",
              "         1.1905204 ,  0.87781334, -0.05021785,  0.85354936,  0.40847233,\n",
              "         0.42137045, -2.180694  , -0.29076302, -3.0147119 ,  2.5032    ,\n",
              "         0.06660487,  0.816365  , -2.1024816 ,  2.1962316 ,  2.772175  ,\n",
              "        -0.05774276,  1.5782204 , -2.0790088 , -2.0024478 , -5.1342096 ],\n",
              "       dtype=float32),\n",
              " array([ 0.6412598 , -2.379806  , -0.43904868,  0.2500015 ,  0.31849828,\n",
              "         1.7978522 , -1.3805285 , -3.4569259 ,  2.920137  , -0.35217872,\n",
              "        -3.231256  , -0.26083264, -0.20040892,  2.5467525 , -1.3920325 ,\n",
              "        -0.25875214,  2.3422902 , -1.2258116 ,  0.85737604,  1.3503907 ,\n",
              "        -0.6334133 ,  0.7832502 , -1.0855992 , -1.3547578 , -2.1860852 ,\n",
              "         0.51770616,  0.6971205 ,  0.44843706, -2.5544913 , -3.6875734 ,\n",
              "         0.5974466 ,  0.02152378, -1.4929488 ,  1.0907543 , -1.166657  ,\n",
              "        -1.4798665 , -1.9171461 , -1.5066131 ,  2.02882   , -0.86228496,\n",
              "         0.24427716, -4.216371  ,  0.03271487, -1.9296502 , -1.2905791 ,\n",
              "        -1.5735552 , -3.3522391 , -3.277206  ,  0.6971523 , -1.4028077 ,\n",
              "        -2.2636306 ,  1.7769977 , -0.44709936,  0.01722417,  1.6452248 ,\n",
              "        -0.2101075 , -1.7880013 , -1.2390049 , -0.825624  , -1.7698746 ,\n",
              "         1.061991  , -2.3778214 , -0.1049087 , -2.6356866 ,  0.5481464 ,\n",
              "         0.9495388 , -1.2493421 , -0.6703226 , -0.5903635 , -3.0585165 ,\n",
              "        -1.2535027 ,  0.34276044,  0.1945789 ,  0.10894438,  2.7378373 ,\n",
              "        -3.0683522 , -1.4374247 , -0.25908294,  3.635714  , -0.3765912 ,\n",
              "         0.25017348, -0.821037  ,  0.18685357,  0.585952  ,  0.85515034,\n",
              "        -5.180166  , -5.1342964 , -1.6015748 , -2.7267652 , -1.8513128 ,\n",
              "        -1.6965563 ,  2.5521429 ,  1.2114024 ,  0.36370566,  0.211066  ,\n",
              "        -1.9041158 ,  1.2443423 , -0.13754661, -2.7233815 ,  1.7715794 ],\n",
              "       dtype=float32),\n",
              " array([ 1.0670055 ,  1.0575887 , -1.0985745 , -0.5580679 , -0.12626313,\n",
              "         0.2125357 , -0.8676616 , -1.693824  ,  0.31493026,  1.1872667 ,\n",
              "         0.2277702 ,  0.36396906, -0.53916   ,  0.20450203, -1.0333723 ,\n",
              "         0.6849331 ,  0.7961942 , -0.29016423, -0.22536395,  1.1813228 ,\n",
              "        -1.4466401 , -0.2875689 ,  0.04458363,  0.16154714,  1.0042259 ,\n",
              "         0.9585103 ,  0.5550955 , -0.300299  , -1.4712511 , -0.8968825 ,\n",
              "        -0.14324139,  0.26478547,  0.40388945, -0.7932553 , -2.3849137 ,\n",
              "        -0.27933264,  0.23387237,  0.536151  ,  0.6991067 , -0.66805094,\n",
              "        -0.7164014 ,  0.08753701,  0.20228492,  0.8443313 ,  0.08747609,\n",
              "        -0.13007481, -1.0654855 ,  0.09727541,  0.04812105,  0.43747827,\n",
              "        -0.51549524, -1.6839045 ,  1.2713652 ,  0.2485049 , -0.16264524,\n",
              "         1.0549394 ,  1.0026261 ,  0.58484143, -0.52464634,  0.29336423,\n",
              "        -0.49083996,  0.6809935 ,  0.32445848,  0.0062314 , -0.03768843,\n",
              "        -0.25253448,  0.02925554, -0.45647255,  0.94779295, -0.756363  ,\n",
              "        -0.06281363,  1.0556381 ,  0.41088727,  0.75440913,  0.09987281,\n",
              "        -0.47761002, -0.59902406,  0.85802794,  1.2527974 , -0.5478351 ,\n",
              "        -0.4539244 , -0.15597585,  1.2302918 ,  1.6454396 ,  0.49550885,\n",
              "        -1.4713286 , -0.9134015 , -0.17252164, -1.2134452 ,  0.8503521 ,\n",
              "         0.46910894,  1.06639   , -1.5991517 , -0.10737786,  0.6839988 ,\n",
              "         1.2042985 ,  0.03120659,  0.26624548, -1.0074687 , -0.01070395],\n",
              "       dtype=float32)]"
            ]
          },
          "metadata": {},
          "execution_count": 177
        }
      ]
    },
    {
      "cell_type": "code",
      "source": [
        "embedding_clusters = np.array(embedding_clusters)\n",
        "n, m, k = embedding_clusters.shape\n",
        "tsne_model_en_2d = manifold.TSNE(perplexity=5, n_components=2, init='pca', n_iter=250, random_state=32)\n",
        "embeddings_en_2d = np.array(tsne_model_en_2d.fit_transform(embedding_clusters.reshape(n*m, k))).reshape(n, m, 2)"
      ],
      "metadata": {
        "id": "8Y1rFiYTL-H7"
      },
      "execution_count": 184,
      "outputs": []
    },
    {
      "cell_type": "code",
      "source": [
        "embeddings_en_2d.shape"
      ],
      "metadata": {
        "colab": {
          "base_uri": "https://localhost:8080/"
        },
        "id": "KGGHx3wCPmlY",
        "outputId": "60ff48b8-21c7-4c25-fe76-dd7c778bd94f"
      },
      "execution_count": 186,
      "outputs": [
        {
          "output_type": "execute_result",
          "data": {
            "text/plain": [
              "(7, 20, 2)"
            ]
          },
          "metadata": {},
          "execution_count": 186
        }
      ]
    },
    {
      "cell_type": "code",
      "source": [
        "def tsne_plot_similar_words(lables, embedding_clusters, word_clusters, a=0.7):\n",
        "  plt.figure(figsize=(16, 9))\n",
        "  for label, embeddings, words in zip(lables, embedding_clusters, word_clusters):\n",
        "    x = embeddings[:, 0]\n",
        "    y = embeddings[:, 1]\n",
        "    plt.scatter(x, y, alpha=a, label=label)\n",
        "    for i, word in enumerate(words):\n",
        "      plt.annotate(word, alpha=a-0.2, xy=(x[i], y[i]), xytext=(5, 2),\n",
        "                   textcoords='offset points', ha='right', va='bottom', size=8)\n",
        "  plt.legend(loc=4)\n",
        "  plt.grid(True)\n",
        "  plt.show()"
      ],
      "metadata": {
        "id": "4OmqusCBQ6P6"
      },
      "execution_count": 187,
      "outputs": []
    },
    {
      "cell_type": "code",
      "source": [
        "tsne_plot_similar_words(vocab_without_stopwords, embeddings_en_2d, word_clusters)"
      ],
      "metadata": {
        "colab": {
          "base_uri": "https://localhost:8080/",
          "height": 376
        },
        "id": "BYtupPRwRFN0",
        "outputId": "dba16b3f-887b-44d1-fc81-f096ad5cfa38"
      },
      "execution_count": 189,
      "outputs": [
        {
          "output_type": "display_data",
          "data": {
            "text/plain": [
              "<Figure size 1152x648 with 1 Axes>"
            ],
            "image/png": "[encoded data removed]"
          },
          "metadata": {
            "needs_background": "light"
          }
        }
      ]
    },
    {
      "cell_type": "code",
      "source": [
        ""
      ],
      "metadata": {
        "id": "r9Qad4XUSBZN"
      },
      "execution_count": null,
      "outputs": []
    }
  ]
}