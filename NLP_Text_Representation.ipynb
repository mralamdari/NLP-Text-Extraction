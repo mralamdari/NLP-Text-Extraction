{
  "nbformat": 4,
  "nbformat_minor": 0,
  "metadata": {
    "colab": {
      "name": "NLP-Text-Representation.ipynb",
      "provenance": [],
      "collapsed_sections": [
        "S5MlCyq2KO1Q",
        "jyNEVeY0TmOB",
        "VF4hwtRvZ-wz",
        "3ynA35BNiZaG",
        "XTLQICn-snjF",
        "vr0_duCb5rd8",
        "TNZxb7IT34FF",
        "BbCjvps28lJL"
      ],
      "authorship_tag": "ABX9TyOJXjWiU5EmYTHn1zmt7Lmz",
      "include_colab_link": true
    },
    "kernelspec": {
      "name": "python3",
      "display_name": "Python 3"
    },
    "language_info": {
      "name": "python"
    }
  },
  "cells": [
    {
      "cell_type": "markdown",
      "metadata": {
        "id": "view-in-github",
        "colab_type": "text"
      },
      "source": [
        "<a href=\"https://colab.research.google.com/github/mralamdari/NLP-Text-Processing/blob/main/NLP_Text_Representation.ipynb\" target=\"_parent\"><img src=\"https://colab.research.google.com/assets/colab-badge.svg\" alt=\"Open In Colab\"/></a>"
      ]
    },
    {
      "cell_type": "code",
      "source": [
        "import spacy\n",
        "import nltk\n",
        "import sklearn\n",
        "import numpy as np\n",
        "import matplotlib.pyplot as plt\n",
        "import warnings\n",
        "from sklearn import manifold\n",
        "\n",
        "warnings.filterwarnings('ignore')\n",
        "nltk.download('punkt')\n",
        "nltk.download('stopwords')"
      ],
      "metadata": {
        "id": "MqnMcJM9Jjzn",
        "colab": {
          "base_uri": "https://localhost:8080/"
        },
        "outputId": "5402d936-3c6c-43f3-d7e2-525ea56a3d9b"
      },
      "execution_count": 181,
      "outputs": [
        {
          "output_type": "stream",
          "name": "stdout",
          "text": [
            "[nltk_data] Downloading package punkt to /root/nltk_data...\n",
            "[nltk_data]   Package punkt is already up-to-date!\n",
            "[nltk_data] Downloading package stopwords to /root/nltk_data...\n",
            "[nltk_data]   Package stopwords is already up-to-date!\n"
          ]
        },
        {
          "output_type": "execute_result",
          "data": {
            "text/plain": [
              "True"
            ]
          },
          "metadata": {},
          "execution_count": 181
        }
      ]
    },
    {
      "cell_type": "code",
      "execution_count": 2,
      "metadata": {
        "id": "LfUmtheDIjmY",
        "colab": {
          "base_uri": "https://localhost:8080/"
        },
        "outputId": "de2c1595-7c59-4971-a7bb-705cff0abebd"
      },
      "outputs": [
        {
          "output_type": "execute_result",
          "data": {
            "text/plain": [
              "['dog bites man', 'man bites dog', 'dog eats meat', 'man eats food']"
            ]
          },
          "metadata": {},
          "execution_count": 2
        }
      ],
      "source": [
        "documents = [\"Dog bites man.\", \"Man bites dog.\", \"Dog eats meat.\", \"Man eats food.\"]\n",
        "documents = [sentence.lower().replace('.', '') for sentence in documents]\n",
        "documents"
      ]
    },
    {
      "cell_type": "markdown",
      "source": [
        "###One-Hot Encoding"
      ],
      "metadata": {
        "id": "S5MlCyq2KO1Q"
      }
    },
    {
      "cell_type": "code",
      "source": [
        "#Vocabulary\n",
        "all_words = []\n",
        "for sentence in documents:\n",
        "  all_words.extend(sentence.split())\n",
        "\n",
        "unique_words = set(all_words)\n",
        "vocab = dict(zip(unique_words, range(len(unique_words))))\n",
        "vocab"
      ],
      "metadata": {
        "colab": {
          "base_uri": "https://localhost:8080/"
        },
        "id": "AAQ_lSjAJsBR",
        "outputId": "b7eb0da0-a7b9-4e5f-9de4-8b2b8f886f00"
      },
      "execution_count": 57,
      "outputs": [
        {
          "output_type": "execute_result",
          "data": {
            "text/plain": [
              "{'bites': 0, 'dog': 2, 'eats': 5, 'food': 1, 'man': 3, 'meat': 4}"
            ]
          },
          "metadata": {},
          "execution_count": 57
        }
      ]
    },
    {
      "cell_type": "code",
      "source": [
        "#onehot creator\n",
        "def onehot_creator(sentence):\n",
        "  sentence = sentence.lower().split()\n",
        "  onehot_encoded = np.zeros((len(sentence), len(vocab)))\n",
        "  for i, word in enumerate(sentence):\n",
        "    word_id = vocab.get(word)\n",
        "    if word_id != None:\n",
        "      onehot_encoded[i][word_id] = 1\n",
        "  return onehot_encoded"
      ],
      "metadata": {
        "id": "WTC9WRaRMA4h"
      },
      "execution_count": 58,
      "outputs": []
    },
    {
      "cell_type": "code",
      "source": [
        "onehot_creator(\"Dog bites man\")"
      ],
      "metadata": {
        "colab": {
          "base_uri": "https://localhost:8080/"
        },
        "id": "HE5iDapoMyAr",
        "outputId": "34958c54-82e2-4777-d620-2b3b1facb627"
      },
      "execution_count": 59,
      "outputs": [
        {
          "output_type": "execute_result",
          "data": {
            "text/plain": [
              "array([[0., 0., 1., 0., 0., 0.],\n",
              "       [1., 0., 0., 0., 0., 0.],\n",
              "       [0., 0., 0., 1., 0., 0.]])"
            ]
          },
          "metadata": {},
          "execution_count": 59
        }
      ]
    },
    {
      "cell_type": "code",
      "source": [
        "test_sample = \"Dog bites man and then eates meat\"\n",
        "onehot_creator(test_sample)"
      ],
      "metadata": {
        "colab": {
          "base_uri": "https://localhost:8080/"
        },
        "id": "5oj44WL7My03",
        "outputId": "3b274dba-a75f-43bd-e869-d1b62e71dcdc"
      },
      "execution_count": 60,
      "outputs": [
        {
          "output_type": "execute_result",
          "data": {
            "text/plain": [
              "array([[0., 0., 1., 0., 0., 0.],\n",
              "       [1., 0., 0., 0., 0., 0.],\n",
              "       [0., 0., 0., 1., 0., 0.],\n",
              "       [0., 0., 0., 0., 0., 0.],\n",
              "       [0., 0., 0., 0., 0., 0.],\n",
              "       [0., 0., 0., 0., 0., 0.],\n",
              "       [0., 0., 0., 0., 1., 0.]])"
            ]
          },
          "metadata": {},
          "execution_count": 60
        }
      ]
    },
    {
      "cell_type": "markdown",
      "source": [
        "One Hot Encoding with Scikit-learn"
      ],
      "metadata": {
        "id": "QHgdrTeISCoR"
      }
    },
    {
      "cell_type": "code",
      "source": [
        "from sklearn import preprocessing"
      ],
      "metadata": {
        "id": "dFjjVstdRi0f"
      },
      "execution_count": 61,
      "outputs": []
    },
    {
      "cell_type": "code",
      "source": [
        "label_encoder = preprocessing.LabelEncoder()\n",
        "onehot_encoder = preprocessing.OneHotEncoder()"
      ],
      "metadata": {
        "id": "ps0279CQSV4S"
      },
      "execution_count": 62,
      "outputs": []
    },
    {
      "cell_type": "code",
      "source": [
        "label_encoder.fit_transform(all_words)"
      ],
      "metadata": {
        "colab": {
          "base_uri": "https://localhost:8080/"
        },
        "id": "qtzroWoxSxT-",
        "outputId": "e024c936-eb2e-4577-a9e4-95bc228249d2"
      },
      "execution_count": 63,
      "outputs": [
        {
          "output_type": "execute_result",
          "data": {
            "text/plain": [
              "array([1, 0, 4, 4, 0, 1, 1, 2, 5, 4, 2, 3])"
            ]
          },
          "metadata": {},
          "execution_count": 63
        }
      ]
    },
    {
      "cell_type": "code",
      "source": [
        "onehot_encoder.fit_transform(np.array(all_words).reshape(-1, 1)).toarray()"
      ],
      "metadata": {
        "colab": {
          "base_uri": "https://localhost:8080/"
        },
        "id": "nv9A6wiSS_Wf",
        "outputId": "01c689e4-a1dd-49e5-b480-e1363852370e"
      },
      "execution_count": 64,
      "outputs": [
        {
          "output_type": "execute_result",
          "data": {
            "text/plain": [
              "array([[0., 1., 0., 0., 0., 0.],\n",
              "       [1., 0., 0., 0., 0., 0.],\n",
              "       [0., 0., 0., 0., 1., 0.],\n",
              "       [0., 0., 0., 0., 1., 0.],\n",
              "       [1., 0., 0., 0., 0., 0.],\n",
              "       [0., 1., 0., 0., 0., 0.],\n",
              "       [0., 1., 0., 0., 0., 0.],\n",
              "       [0., 0., 1., 0., 0., 0.],\n",
              "       [0., 0., 0., 0., 0., 1.],\n",
              "       [0., 0., 0., 0., 1., 0.],\n",
              "       [0., 0., 1., 0., 0., 0.],\n",
              "       [0., 0., 0., 1., 0., 0.]])"
            ]
          },
          "metadata": {},
          "execution_count": 64
        }
      ]
    },
    {
      "cell_type": "markdown",
      "source": [
        "###Bag of Words (BoW)"
      ],
      "metadata": {
        "id": "jyNEVeY0TmOB"
      }
    },
    {
      "cell_type": "code",
      "source": [
        "from sklearn import feature_extraction"
      ],
      "metadata": {
        "id": "ph7oM6KeTELQ"
      },
      "execution_count": 65,
      "outputs": []
    },
    {
      "cell_type": "code",
      "source": [
        "count_vect = feature_extraction.text.CountVectorizer()"
      ],
      "metadata": {
        "id": "M7YdSiY2U038"
      },
      "execution_count": 66,
      "outputs": []
    },
    {
      "cell_type": "code",
      "source": [
        "bow_representation = count_vect.fit_transform(documents)"
      ],
      "metadata": {
        "id": "vXVvDSG_VCgl"
      },
      "execution_count": 67,
      "outputs": []
    },
    {
      "cell_type": "code",
      "source": [
        "count_vect.vocabulary_"
      ],
      "metadata": {
        "colab": {
          "base_uri": "https://localhost:8080/"
        },
        "id": "wLWdFRIbVQ7a",
        "outputId": "6e1fb63e-5dce-40aa-d1a8-52323ac97b4b"
      },
      "execution_count": 68,
      "outputs": [
        {
          "output_type": "execute_result",
          "data": {
            "text/plain": [
              "{'bites': 0, 'dog': 1, 'eats': 2, 'food': 3, 'man': 4, 'meat': 5}"
            ]
          },
          "metadata": {},
          "execution_count": 68
        }
      ]
    },
    {
      "cell_type": "code",
      "source": [
        "for rep in bow_representation:\n",
        "  print(rep.toarray())"
      ],
      "metadata": {
        "colab": {
          "base_uri": "https://localhost:8080/"
        },
        "id": "XcZ8NZQOVdDU",
        "outputId": "e98735fe-c151-4a04-e657-ebc3b592bf56"
      },
      "execution_count": 69,
      "outputs": [
        {
          "output_type": "stream",
          "name": "stdout",
          "text": [
            "[[1 1 0 0 1 0]]\n",
            "[[1 1 0 0 1 0]]\n",
            "[[0 1 1 0 0 1]]\n",
            "[[0 0 1 1 1 0]]\n"
          ]
        }
      ]
    },
    {
      "cell_type": "code",
      "source": [
        "count_vect.transform([test_sample]).toarray()"
      ],
      "metadata": {
        "colab": {
          "base_uri": "https://localhost:8080/"
        },
        "id": "dsHcV6bnVpth",
        "outputId": "16c58b25-9bf0-47df-dbf3-2c1cba764f66"
      },
      "execution_count": 70,
      "outputs": [
        {
          "output_type": "execute_result",
          "data": {
            "text/plain": [
              "array([[1, 1, 0, 0, 1, 1]])"
            ]
          },
          "metadata": {},
          "execution_count": 70
        }
      ]
    },
    {
      "cell_type": "markdown",
      "source": [
        "BoW with Binary vectors"
      ],
      "metadata": {
        "id": "mmrQ_XEAWmh2"
      }
    },
    {
      "cell_type": "code",
      "source": [
        "binary_count_vector = feature_extraction.text.CountVectorizer(binary=True)\n",
        "binary_count_vector.fit(documents)"
      ],
      "metadata": {
        "colab": {
          "base_uri": "https://localhost:8080/"
        },
        "id": "0Y6JPR5fWwZT",
        "outputId": "11d9a31f-2ef4-4746-e3d0-e620125eacdb"
      },
      "execution_count": 71,
      "outputs": [
        {
          "output_type": "execute_result",
          "data": {
            "text/plain": [
              "CountVectorizer(binary=True)"
            ]
          },
          "metadata": {},
          "execution_count": 71
        }
      ]
    },
    {
      "cell_type": "code",
      "source": [
        "binary_count_vector.transform([test_sample]).toarray()"
      ],
      "metadata": {
        "colab": {
          "base_uri": "https://localhost:8080/"
        },
        "id": "NKHp7RP8XHwV",
        "outputId": "1592f9ec-e12f-4e92-a46c-a165a780b5db"
      },
      "execution_count": 72,
      "outputs": [
        {
          "output_type": "execute_result",
          "data": {
            "text/plain": [
              "array([[1, 1, 0, 0, 1, 1]])"
            ]
          },
          "metadata": {},
          "execution_count": 72
        }
      ]
    },
    {
      "cell_type": "markdown",
      "source": [
        "###Bag of N-Grams (BoN)"
      ],
      "metadata": {
        "id": "VF4hwtRvZ-wz"
      }
    },
    {
      "cell_type": "code",
      "source": [
        "count_vect = feature_extraction.text.CountVectorizer(ngram_range=(1, 3))"
      ],
      "metadata": {
        "id": "2v7NduONZ_Lh"
      },
      "execution_count": 73,
      "outputs": []
    },
    {
      "cell_type": "code",
      "source": [
        "bon_representation = count_vect.fit_transform(documents)"
      ],
      "metadata": {
        "id": "MC6j-goVbloV"
      },
      "execution_count": 74,
      "outputs": []
    },
    {
      "cell_type": "code",
      "source": [
        "count_vect.vocabulary_"
      ],
      "metadata": {
        "colab": {
          "base_uri": "https://localhost:8080/"
        },
        "id": "1sAp7v8Bbmfq",
        "outputId": "00dd11a8-65f4-4138-dac5-43309dfe3666"
      },
      "execution_count": 75,
      "outputs": [
        {
          "output_type": "execute_result",
          "data": {
            "text/plain": [
              "{'bites': 0,\n",
              " 'bites dog': 1,\n",
              " 'bites man': 2,\n",
              " 'dog': 3,\n",
              " 'dog bites': 4,\n",
              " 'dog bites man': 5,\n",
              " 'dog eats': 6,\n",
              " 'dog eats meat': 7,\n",
              " 'eats': 8,\n",
              " 'eats food': 9,\n",
              " 'eats meat': 10,\n",
              " 'food': 11,\n",
              " 'man': 12,\n",
              " 'man bites': 13,\n",
              " 'man bites dog': 14,\n",
              " 'man eats': 15,\n",
              " 'man eats food': 16,\n",
              " 'meat': 17}"
            ]
          },
          "metadata": {},
          "execution_count": 75
        }
      ]
    },
    {
      "cell_type": "code",
      "source": [
        "for rep in bow_representation:\n",
        "  print(rep.toarray())"
      ],
      "metadata": {
        "colab": {
          "base_uri": "https://localhost:8080/"
        },
        "id": "1ZcCLbfbboNC",
        "outputId": "a669f9e1-f5c3-488f-d2ec-55f36486cb17"
      },
      "execution_count": 76,
      "outputs": [
        {
          "output_type": "stream",
          "name": "stdout",
          "text": [
            "[[1 1 0 0 1 0]]\n",
            "[[1 1 0 0 1 0]]\n",
            "[[0 1 1 0 0 1]]\n",
            "[[0 0 1 1 1 0]]\n"
          ]
        }
      ]
    },
    {
      "cell_type": "code",
      "source": [
        "count_vect.transform([test_sample]).toarray()"
      ],
      "metadata": {
        "colab": {
          "base_uri": "https://localhost:8080/"
        },
        "id": "xP1fA2lpgr7_",
        "outputId": "1aaa1f70-ba9c-4294-aaef-7ba875a300b9"
      },
      "execution_count": 77,
      "outputs": [
        {
          "output_type": "execute_result",
          "data": {
            "text/plain": [
              "array([[1, 0, 1, 1, 1, 1, 0, 0, 0, 0, 0, 0, 1, 0, 0, 0, 0, 1]])"
            ]
          },
          "metadata": {},
          "execution_count": 77
        }
      ]
    },
    {
      "cell_type": "markdown",
      "source": [
        "###TF-IDF"
      ],
      "metadata": {
        "id": "3ynA35BNiZaG"
      }
    },
    {
      "cell_type": "code",
      "source": [
        "tfidf = feature_extraction.text.TfidfVectorizer()"
      ],
      "metadata": {
        "id": "Vj32tE8Yg7A-"
      },
      "execution_count": 78,
      "outputs": []
    },
    {
      "cell_type": "code",
      "source": [
        "bow_rep_tfidf = tfidf.fit_transform(documents)"
      ],
      "metadata": {
        "id": "Mf1QSVRjinXD"
      },
      "execution_count": 79,
      "outputs": []
    },
    {
      "cell_type": "code",
      "source": [
        "bow_rep_tfidf.toarray()"
      ],
      "metadata": {
        "colab": {
          "base_uri": "https://localhost:8080/"
        },
        "id": "nNQ-xmPbivXF",
        "outputId": "308e2d66-884a-4f31-b17a-68cedca1b7c0"
      },
      "execution_count": 80,
      "outputs": [
        {
          "output_type": "execute_result",
          "data": {
            "text/plain": [
              "array([[0.65782931, 0.53256952, 0.        , 0.        , 0.53256952,\n",
              "        0.        ],\n",
              "       [0.65782931, 0.53256952, 0.        , 0.        , 0.53256952,\n",
              "        0.        ],\n",
              "       [0.        , 0.44809973, 0.55349232, 0.        , 0.        ,\n",
              "        0.70203482],\n",
              "       [0.        , 0.        , 0.55349232, 0.70203482, 0.44809973,\n",
              "        0.        ]])"
            ]
          },
          "metadata": {},
          "execution_count": 80
        }
      ]
    },
    {
      "cell_type": "code",
      "source": [
        "#Idf for Vocabulary Words\n",
        "tfidf.idf_"
      ],
      "metadata": {
        "colab": {
          "base_uri": "https://localhost:8080/"
        },
        "id": "lUdArJIciwmG",
        "outputId": "b13a0866-4519-48b1-bfdd-cdc5736d762d"
      },
      "execution_count": 81,
      "outputs": [
        {
          "output_type": "execute_result",
          "data": {
            "text/plain": [
              "array([1.51082562, 1.22314355, 1.51082562, 1.91629073, 1.22314355,\n",
              "       1.91629073])"
            ]
          },
          "metadata": {},
          "execution_count": 81
        }
      ]
    },
    {
      "cell_type": "code",
      "source": [
        "#Vocabulary Words\n",
        "tfidf.get_feature_names()"
      ],
      "metadata": {
        "colab": {
          "base_uri": "https://localhost:8080/"
        },
        "id": "_sKHEepejLGj",
        "outputId": "2450bc6c-1426-4741-8ce7-50a8222e9059"
      },
      "execution_count": 82,
      "outputs": [
        {
          "output_type": "execute_result",
          "data": {
            "text/plain": [
              "['bites', 'dog', 'eats', 'food', 'man', 'meat']"
            ]
          },
          "metadata": {},
          "execution_count": 82
        }
      ]
    },
    {
      "cell_type": "code",
      "source": [
        "tfidf.transform([test_sample]).toarray()"
      ],
      "metadata": {
        "colab": {
          "base_uri": "https://localhost:8080/"
        },
        "id": "W7iYoWVbjSok",
        "outputId": "fc81ff7a-ef8d-4e62-d178-1279e465864b"
      },
      "execution_count": 83,
      "outputs": [
        {
          "output_type": "execute_result",
          "data": {
            "text/plain": [
              "array([[0.5051001 , 0.40892206, 0.        , 0.        , 0.40892206,\n",
              "        0.64065543]])"
            ]
          },
          "metadata": {},
          "execution_count": 83
        }
      ]
    },
    {
      "cell_type": "markdown",
      "source": [
        "###Word2Vec"
      ],
      "metadata": {
        "id": "XTLQICn-snjF"
      }
    },
    {
      "cell_type": "markdown",
      "source": [
        "####Embeddings using Spacy"
      ],
      "metadata": {
        "id": "vr0_duCb5rd8"
      }
    },
    {
      "cell_type": "code",
      "source": [
        "!python -m spacy download en_core_web_md"
      ],
      "metadata": {
        "id": "uYxgX7dtvYbN"
      },
      "execution_count": null,
      "outputs": []
    },
    {
      "cell_type": "code",
      "source": [
        "import spacy"
      ],
      "metadata": {
        "id": "3IlS7aGqxCqF"
      },
      "execution_count": 31,
      "outputs": []
    },
    {
      "cell_type": "code",
      "source": [
        "nlp = spacy.load('en_core_web_md')"
      ],
      "metadata": {
        "id": "Zrxf1SlG4VpN"
      },
      "execution_count": 32,
      "outputs": []
    },
    {
      "cell_type": "code",
      "source": [
        "doc = nlp('i love pizza')"
      ],
      "metadata": {
        "id": "b_2WxAStxciT"
      },
      "execution_count": 33,
      "outputs": []
    },
    {
      "cell_type": "code",
      "source": [
        "doc.vector"
      ],
      "metadata": {
        "colab": {
          "base_uri": "https://localhost:8080/"
        },
        "id": "s_vJ_tkS3Nnw",
        "outputId": "e70d4576-deb3-49e3-a099-dc9ced745406"
      },
      "execution_count": 95,
      "outputs": [
        {
          "output_type": "execute_result",
          "data": {
            "text/plain": [
              "array([ 1.11230902e-01,  2.41379991e-01, -1.61966667e-01, -3.14129978e-01,\n",
              "        1.05768003e-01,  3.91543359e-01,  3.54509979e-01, -1.27896652e-01,\n",
              "        1.70420006e-01,  1.69123328e+00, -6.31393373e-01,  1.69920668e-01,\n",
              "        7.96566680e-02, -1.29133360e-02, -1.50936663e-01,  1.39993383e-02,\n",
              "       -1.84084341e-01,  1.19740999e+00, -2.22010016e-01,  2.34284341e-01,\n",
              "        2.44166657e-01, -3.25873703e-01,  2.53593326e-01, -1.86454996e-01,\n",
              "        1.27480000e-01,  4.88123260e-02, -3.57987314e-01, -2.18866989e-01,\n",
              "        2.98794001e-01, -2.83073336e-02, -1.92849990e-02,  2.78633356e-01,\n",
              "       -1.75589994e-01,  1.30146667e-01,  9.73366722e-02,  1.38193667e-01,\n",
              "       -2.25796700e-02, -1.12435341e-01, -3.15516651e-01,  2.65180707e-01,\n",
              "       -1.24165334e-01,  1.74489990e-01,  1.08916335e-01,  9.63599980e-02,\n",
              "        2.16483325e-02,  5.32136679e-01, -2.61241674e-01,  2.68553346e-01,\n",
              "        6.79000234e-03, -9.15016606e-02, -2.10650012e-01, -4.78706658e-02,\n",
              "        1.10848665e-01, -8.40806589e-02,  1.75191328e-01,  3.65736671e-02,\n",
              "       -2.83703983e-01, -2.09925339e-01,  1.33019999e-01,  5.85173331e-02,\n",
              "       -1.55589327e-01, -2.78515339e-01, -1.92952991e-01,  1.39500007e-01,\n",
              "        1.00963367e-02, -5.74236333e-01,  5.20366663e-03,  1.75650001e-01,\n",
              "       -3.16434354e-02,  6.08799839e-03, -9.18086693e-02,  2.83870012e-01,\n",
              "       -2.60533299e-02,  1.54799724e-03, -2.87366714e-02,  1.74294338e-01,\n",
              "       -1.09751008e-01,  7.53910020e-02,  5.20623326e-02,  1.86183333e-01,\n",
              "        2.76756674e-01,  1.32749990e-01,  2.53932983e-01, -2.42943332e-01,\n",
              "        9.98433307e-02, -1.75691798e-01,  6.33720696e-01, -1.95393339e-01,\n",
              "        1.81266665e-02, -1.13929994e-01, -2.06568316e-01, -1.79595336e-01,\n",
              "       -1.62299991e-01,  1.30263316e-02,  1.79328993e-01,  3.20605308e-01,\n",
              "        1.93750069e-01,  1.11956328e-01, -1.98403314e-01, -4.45556752e-02,\n",
              "       -2.10523322e-01, -1.47883341e-01,  2.12536678e-01,  1.12560004e-01,\n",
              "        8.94693360e-02, -3.54791999e-01,  4.00125980e-01, -2.14694336e-01,\n",
              "       -7.33820051e-02, -6.46256730e-02,  5.72613329e-02, -4.17568356e-01,\n",
              "       -1.30208790e-01, -2.97082007e-01,  2.68494338e-01, -1.60678998e-01,\n",
              "        9.68393385e-02,  7.92703331e-02, -9.40166712e-02, -3.06733442e-03,\n",
              "        1.80108324e-01,  2.17663255e-02,  1.78046659e-01,  5.46826608e-02,\n",
              "        3.32096666e-01,  1.83946669e-01,  2.59866327e-01, -5.28383292e-02,\n",
              "       -7.48046637e-02,  3.02080005e-01, -1.25839993e-01, -1.81833327e-01,\n",
              "       -2.43196666e-01,  1.57144174e-01,  5.43735437e-02, -2.18789339e-01,\n",
              "       -2.86983341e-01, -1.79447338e-01, -6.73046634e-02, -1.67968646e-01,\n",
              "       -2.92063332e+00, -5.42890020e-02,  3.16956669e-01,  1.90795317e-01,\n",
              "       -2.96250015e-01, -2.11915329e-01, -3.60329986e-01,  3.55949998e-01,\n",
              "        1.77500043e-02, -2.89146692e-01, -9.40866843e-02,  1.12967961e-01,\n",
              "        1.76783323e-01,  1.13562338e-01,  1.67890325e-01, -1.39806673e-01,\n",
              "       -7.42266700e-02, -1.57998011e-01,  3.60000022e-02,  3.22833359e-02,\n",
              "       -7.06223249e-02,  7.55523294e-02, -5.78323342e-02, -4.72463071e-02,\n",
              "       -5.86876683e-02, -1.04455672e-01,  1.37143329e-01, -1.00895651e-01,\n",
              "        1.20572001e-01,  6.64023384e-02, -1.72782347e-01, -1.07498668e-01,\n",
              "        1.87446669e-01, -5.05176663e-01, -3.21856737e-02, -2.44533014e-03,\n",
              "       -2.62850314e-01,  8.79673436e-02, -2.12996677e-01, -4.45286661e-01,\n",
              "        2.03050002e-01, -1.71679661e-01, -1.13406502e-01, -7.97733292e-02,\n",
              "       -1.01568334e-01, -1.33566661e-02, -2.40480006e-01, -1.58593342e-01,\n",
              "        4.65073287e-02, -6.14933437e-03, -3.70326750e-02, -4.03843336e-02,\n",
              "       -2.79070020e-01, -5.51526666e-01,  1.42301992e-01,  9.02286693e-02,\n",
              "        2.76946664e-01, -2.54420012e-01,  1.00670338e-01,  5.21633327e-02,\n",
              "       -1.64929003e-01, -1.99686661e-01, -5.53316660e-02,  5.87373339e-02,\n",
              "        2.20459998e-01,  4.50769961e-02, -7.14366660e-02,  2.47953773e-01,\n",
              "        1.57386661e-01, -1.02807008e-01, -9.29903388e-02,  2.00539336e-01,\n",
              "       -1.39426008e-01, -1.18276656e-01,  5.72346635e-02,  7.86933377e-02,\n",
              "        1.29290000e-01, -3.21063668e-01, -9.43466648e-02,  2.56933331e-01,\n",
              "        2.92033348e-02,  1.24360703e-01, -3.95794325e-02, -1.11829996e-01,\n",
              "       -1.62315995e-01,  9.09233093e-03, -1.58766672e-01,  1.05978340e-01,\n",
              "       -8.51566568e-02, -2.73006648e-01, -3.05083334e-01,  1.20972998e-01,\n",
              "        2.26399899e-02, -1.60215333e-01, -8.60573351e-02, -2.83356696e-01,\n",
              "       -2.53699988e-01, -1.72716334e-01, -2.07618654e-01,  3.27096671e-01,\n",
              "        2.84953326e-01,  1.50356337e-01, -1.60417676e-01,  9.24500003e-02,\n",
              "        1.13646664e-01, -1.23333931e-03,  4.69633453e-02, -1.08343333e-01,\n",
              "       -2.29665339e-01,  1.83683351e-01,  2.25600004e-01, -2.93786675e-01,\n",
              "       -2.72659987e-01, -8.92019942e-02,  1.32473335e-01,  2.17590019e-01,\n",
              "       -5.39667904e-04, -2.01319978e-02, -2.57983327e-01, -2.22668663e-01,\n",
              "        3.87873389e-02,  4.03889976e-02, -2.46453345e-01, -9.06300023e-02,\n",
              "       -5.22469990e-02,  1.97413325e-01, -2.75529921e-02,  2.31733680e-01,\n",
              "       -3.13059986e-01,  2.87919998e-01, -4.11521286e-01,  1.18246675e-02,\n",
              "       -4.25020009e-01,  1.66090995e-01, -1.69416010e-01,  1.08877897e-01,\n",
              "       -8.12156647e-02, -1.61245331e-01,  2.23529145e-01,  3.07986647e-01,\n",
              "        1.59966663e-01, -1.94840327e-01, -4.15566601e-02, -2.64743362e-02,\n",
              "        1.80076677e-02,  3.26669335e-01,  5.56143343e-01,  2.74059981e-01,\n",
              "       -2.16080010e-01, -1.21616321e-02,  2.35469997e-01,  1.09729342e-01,\n",
              "       -2.12286338e-01,  6.12907410e-02,  9.97443274e-02, -2.05437660e-01,\n",
              "        3.54403369e-02, -1.45925999e-01,  1.28802672e-01,  4.38833326e-01],\n",
              "      dtype=float32)"
            ]
          },
          "metadata": {},
          "execution_count": 95
        }
      ]
    },
    {
      "cell_type": "code",
      "source": [
        "doc[0].vector"
      ],
      "metadata": {
        "colab": {
          "base_uri": "https://localhost:8080/"
        },
        "id": "_vsyEN4M3ZsV",
        "outputId": "d7fb20d3-137d-42db-c08b-f7dc495923bd"
      },
      "execution_count": 96,
      "outputs": [
        {
          "output_type": "execute_result",
          "data": {
            "text/plain": [
              "array([ 1.8733e-01,  4.0595e-01, -5.1174e-01, -5.5482e-01,  3.9716e-02,\n",
              "        1.2887e-01,  4.5137e-01, -5.9149e-01,  1.5591e-01,  1.5137e+00,\n",
              "       -8.7020e-01,  5.0672e-02,  1.5211e-01, -1.9183e-01,  1.1181e-01,\n",
              "        1.2131e-01, -2.7212e-01,  1.6203e+00, -2.4884e-01,  1.4060e-01,\n",
              "        3.3099e-01, -1.8061e-02,  1.5244e-01, -2.6943e-01, -2.7833e-01,\n",
              "       -5.2123e-02, -4.8149e-01, -5.1839e-01,  8.6262e-02,  3.0818e-02,\n",
              "       -2.1253e-01, -1.1378e-01, -2.2384e-01,  1.8262e-01, -3.4541e-01,\n",
              "        8.2611e-02,  1.0024e-01, -7.9550e-02, -8.1721e-01,  6.5621e-03,\n",
              "        8.0134e-02, -3.9976e-01, -6.3131e-02,  3.2260e-01, -3.1625e-02,\n",
              "        4.3056e-01, -2.7270e-01, -7.6020e-02,  1.0293e-01, -8.8653e-02,\n",
              "       -2.9087e-01, -4.7214e-02,  4.6036e-02, -1.7788e-02,  6.4990e-02,\n",
              "        8.8451e-02, -3.1574e-01, -5.8522e-01,  2.2295e-01, -5.2785e-02,\n",
              "       -5.5981e-01, -3.9580e-01, -7.9849e-02, -1.0933e-02, -4.1722e-02,\n",
              "       -5.5576e-01,  8.8707e-02,  1.3710e-01, -2.9873e-03, -2.6256e-02,\n",
              "        7.7330e-02,  3.9199e-01,  3.4507e-01, -8.0130e-02,  3.3451e-01,\n",
              "        2.7063e-01, -2.4544e-02,  7.2576e-02, -1.8120e-01,  2.3693e-01,\n",
              "        3.9977e-01,  4.5012e-01,  2.7179e-02,  2.7400e-01,  1.4791e-01,\n",
              "       -5.8324e-03,  9.5910e-01, -1.0129e+00,  2.0699e-01,  1.8237e-01,\n",
              "       -2.5234e-01, -2.6261e-01, -3.4799e-01, -2.4051e-02,  4.4470e-01,\n",
              "        5.9226e-02,  4.5561e-01,  1.9700e-01, -4.8327e-01,  8.9523e-02,\n",
              "       -2.2373e-01, -1.5654e-01,  2.1578e-01,  1.1673e-01,  8.2006e-02,\n",
              "       -8.0735e-01,  2.3903e-01, -5.1304e-01, -3.3888e-01, -3.1499e-01,\n",
              "       -1.7272e-01, -6.7020e-01,  2.7096e-01, -4.3241e-01,  4.3103e-02,\n",
              "        2.1233e-02,  1.3350e-02, -6.3938e-02, -2.4957e-01, -2.4938e-01,\n",
              "        3.4812e-01, -7.1321e-02,  2.3375e-01, -9.5384e-02,  5.2488e-01,\n",
              "        6.8175e-01, -1.0214e-01, -1.4914e-01, -7.5697e-02,  1.7248e-01,\n",
              "        2.5440e-01,  1.5760e-01, -5.9125e-01,  2.4300e-01,  6.3962e-01,\n",
              "       -9.3280e-02, -2.7914e-01, -6.6262e-02, -6.7170e-02, -4.0929e-01,\n",
              "       -3.0300e+00,  1.8250e-01,  2.0113e-01,  6.0628e-02, -2.4769e-01,\n",
              "        5.5324e-02, -4.9106e-01,  3.1544e-01, -3.4231e-01, -6.3766e-01,\n",
              "       -3.6129e-01, -5.9029e-02,  1.5510e-01,  4.4577e-02,  2.3572e-01,\n",
              "       -1.7095e-01, -2.2749e-01, -2.3184e-02,  2.3868e-01,  2.8170e-02,\n",
              "        4.2965e-01, -1.2458e-01, -3.6972e-02,  2.0061e-01, -3.1405e-01,\n",
              "       -8.5287e-02, -3.3496e-01, -9.7047e-02, -1.4388e-01,  1.1147e-01,\n",
              "       -4.5232e-01, -2.4217e-01, -1.8245e-01, -6.7292e-01,  2.1933e-02,\n",
              "       -5.4816e-02, -4.6508e-01,  4.7767e-01, -2.4752e-01, -1.5790e-01,\n",
              "        1.1817e-01,  5.6851e-02, -4.9151e-01,  1.5496e-01,  1.6425e-02,\n",
              "        4.1650e-02, -3.4990e-01, -1.5979e-01,  3.9705e-01,  2.2963e-01,\n",
              "        2.4688e-01,  1.9567e-02, -2.8802e-01, -6.9983e-01,  3.2744e-01,\n",
              "        1.0833e-01,  2.4945e-01, -7.8653e-01, -6.1379e-02, -3.7359e-01,\n",
              "       -1.1603e-01, -2.4950e-01,  1.0161e-01,  3.3994e-02,  1.5650e-01,\n",
              "        2.1344e-01, -1.1094e-01, -5.7687e-03,  1.7869e-01, -1.0127e-01,\n",
              "       -1.6891e-02,  3.0001e-01, -3.4116e-01, -3.2390e-02,  4.2514e-02,\n",
              "        1.1850e-01, -1.8337e-01, -6.2865e-01, -2.8021e-01,  4.2351e-01,\n",
              "        1.1277e-01,  1.2121e-03,  1.5710e-01, -3.6321e-01, -4.9251e-01,\n",
              "        1.1653e-01,  2.4024e-01,  1.7712e-01,  6.8700e-02, -4.4137e-01,\n",
              "       -2.9877e-01, -1.2071e-02,  2.8325e-01,  1.0668e-01, -1.8859e-01,\n",
              "       -4.1345e-01, -3.4090e-01,  4.7236e-02, -3.8309e-01,  4.3572e-01,\n",
              "        2.4505e-01,  2.7337e-01, -7.3038e-02,  4.2514e-01, -3.2455e-02,\n",
              "       -3.5211e-01,  4.5691e-01,  1.9433e-01, -1.5230e-01,  4.2675e-01,\n",
              "        2.8795e-01, -5.5969e-01, -1.3031e-01,  8.9844e-02,  4.2605e-01,\n",
              "       -1.9632e-01, -7.1989e-02, -8.0189e-02, -3.0425e-01, -4.6190e-01,\n",
              "        2.8178e-01, -9.9872e-02,  3.5097e-01,  1.6123e-01, -3.6548e-02,\n",
              "       -3.6739e-01, -1.9819e-02,  3.2130e-01,  1.7479e-01,  2.5175e-01,\n",
              "       -7.6439e-03, -9.3786e-02, -3.7852e-01,  4.3725e-01,  2.1288e-01,\n",
              "        2.5096e-01, -1.9613e-01, -2.8865e-01, -5.6726e-03,  4.2795e-01,\n",
              "        2.0625e-01, -3.7701e-02, -1.2200e-01, -7.9253e-02, -1.0290e-01,\n",
              "        1.0558e-02,  4.9880e-01,  2.5382e-01,  1.5526e-01,  1.7951e-03,\n",
              "        1.1633e-01,  7.9300e-02, -3.9142e-01, -3.2483e-01,  6.3451e-01,\n",
              "       -1.8910e-01,  5.4050e-02,  1.6495e-01,  1.8757e-01,  5.3874e-01],\n",
              "      dtype=float32)"
            ]
          },
          "metadata": {},
          "execution_count": 96
        }
      ]
    },
    {
      "cell_type": "markdown",
      "source": [
        "####Embeddings using Gensim"
      ],
      "metadata": {
        "id": "qIXrLtVP4yzD"
      }
    },
    {
      "cell_type": "code",
      "source": [
        "import gensim\n",
        "corpus = [['dog','bites','man'], [\"man\", \"bites\" ,\"dog\"],[\"dog\",\"eats\",\"meat\"],[\"man\", \"eats\",\"food\"]]"
      ],
      "metadata": {
        "id": "ZxuSR_N75N1N"
      },
      "execution_count": 97,
      "outputs": []
    },
    {
      "cell_type": "markdown",
      "source": [
        "#####Continuous Bag of Words (CBOW)\n"
      ],
      "metadata": {
        "id": "6kMyZGPg7L3y"
      }
    },
    {
      "cell_type": "code",
      "source": [
        "model_cbow = gensim.models.Word2Vec(corpus, min_count=1, sg=0) "
      ],
      "metadata": {
        "id": "v_9M0Quf5lrG"
      },
      "execution_count": 98,
      "outputs": []
    },
    {
      "cell_type": "code",
      "source": [
        "words = list(model_cbow.wv.vocab)\n",
        "print(words)"
      ],
      "metadata": {
        "colab": {
          "base_uri": "https://localhost:8080/"
        },
        "id": "hAmiFKaG6NBT",
        "outputId": "9cc3a550-5b20-4247-86cd-158a95459d1b"
      },
      "execution_count": 99,
      "outputs": [
        {
          "output_type": "stream",
          "name": "stdout",
          "text": [
            "['dog', 'bites', 'man', 'eats', 'meat', 'food']\n"
          ]
        }
      ]
    },
    {
      "cell_type": "code",
      "source": [
        "model_cbow['meat']"
      ],
      "metadata": {
        "colab": {
          "base_uri": "https://localhost:8080/"
        },
        "id": "WjtdujhA6XsK",
        "outputId": "31a16994-a6fe-4ca1-adf3-b6868b12f182"
      },
      "execution_count": 100,
      "outputs": [
        {
          "output_type": "execute_result",
          "data": {
            "text/plain": [
              "array([-0.00348223,  0.00274166,  0.00286569, -0.00024953, -0.0027612 ,\n",
              "        0.00016903,  0.0036551 ,  0.00111108,  0.00233274,  0.00089957,\n",
              "        0.00081475,  0.00447297,  0.00022637, -0.0015832 , -0.00177419,\n",
              "        0.00248535, -0.0040132 , -0.00499565,  0.00205056,  0.00194684,\n",
              "        0.0001828 , -0.00046876, -0.00216897, -0.00419755,  0.00100626,\n",
              "       -0.00095996, -0.00153622, -0.00092589, -0.00281605,  0.00158246,\n",
              "        0.00190902,  0.00040479, -0.00016452,  0.00042426,  0.00166272,\n",
              "       -0.00488523,  0.00156547,  0.0004393 , -0.00257476, -0.00397822,\n",
              "       -0.00226262,  0.0019594 ,  0.00471237, -0.00407758, -0.00204773,\n",
              "       -0.00217647, -0.00128273,  0.00415247, -0.00298349,  0.00143813,\n",
              "       -0.00385219, -0.00218028,  0.00466753,  0.00132019, -0.00132702,\n",
              "        0.00292814,  0.00131277,  0.00174935,  0.00332778, -0.00029809,\n",
              "       -0.00308627, -0.00291407, -0.00210095,  0.00454491, -0.0048104 ,\n",
              "       -0.00186057, -0.00131231, -0.00338939,  0.00372805, -0.00024439,\n",
              "       -0.00237971, -0.00173464, -0.00350508,  0.00060397, -0.00075224,\n",
              "       -0.00070549,  0.00364141, -0.0011102 ,  0.00420146, -0.00033696,\n",
              "       -0.00022121, -0.00160198,  0.00467585, -0.00476082, -0.00180316,\n",
              "        0.00369121,  0.00370696,  0.00338274, -0.00487455,  0.00427043,\n",
              "       -0.00386699, -0.00301867,  0.00114578, -0.00404733, -0.00196349,\n",
              "       -0.00208673, -0.00141137,  0.00142641, -0.00010757,  0.00348067],\n",
              "      dtype=float32)"
            ]
          },
          "metadata": {},
          "execution_count": 100
        }
      ]
    },
    {
      "cell_type": "code",
      "source": [
        "model_cbow.similarity('bites', 'eats')"
      ],
      "metadata": {
        "colab": {
          "base_uri": "https://localhost:8080/"
        },
        "id": "5q-6LNqJ6jD4",
        "outputId": "a4aa3850-051b-4eff-bf21-04ffa8ba2d97"
      },
      "execution_count": 101,
      "outputs": [
        {
          "output_type": "execute_result",
          "data": {
            "text/plain": [
              "0.018700752"
            ]
          },
          "metadata": {},
          "execution_count": 101
        }
      ]
    },
    {
      "cell_type": "code",
      "source": [
        "model_cbow.similarity('dog', 'eats')"
      ],
      "metadata": {
        "colab": {
          "base_uri": "https://localhost:8080/"
        },
        "id": "dvoDbTlt6vlX",
        "outputId": "07e329b7-9c90-4d09-a82f-c7330b961b03"
      },
      "execution_count": 102,
      "outputs": [
        {
          "output_type": "execute_result",
          "data": {
            "text/plain": [
              "-0.18652296"
            ]
          },
          "metadata": {},
          "execution_count": 102
        }
      ]
    },
    {
      "cell_type": "code",
      "source": [
        "model_cbow.similarity('meat', 'eats')"
      ],
      "metadata": {
        "colab": {
          "base_uri": "https://localhost:8080/"
        },
        "id": "xu9DOPEK639x",
        "outputId": "b1bece33-e21a-451b-e2b2-dd64c02e95f8"
      },
      "execution_count": 103,
      "outputs": [
        {
          "output_type": "execute_result",
          "data": {
            "text/plain": [
              "0.012212791"
            ]
          },
          "metadata": {},
          "execution_count": 103
        }
      ]
    },
    {
      "cell_type": "code",
      "source": [
        "model_cbow.save('cbow_model.bin')"
      ],
      "metadata": {
        "id": "sC7VmATH7TDD"
      },
      "execution_count": 104,
      "outputs": []
    },
    {
      "cell_type": "code",
      "source": [
        "model_cbow = gensim.models.Word2Vec.load('cbow_model.bin')"
      ],
      "metadata": {
        "id": "EaKOtw5M7hdc"
      },
      "execution_count": 105,
      "outputs": []
    },
    {
      "cell_type": "markdown",
      "source": [
        "#####SkipGram"
      ],
      "metadata": {
        "id": "8-IHPxAA7SsQ"
      }
    },
    {
      "cell_type": "code",
      "source": [
        "model_skipgram = gensim.models.Word2Vec(corpus, min_count=1, sg=1)"
      ],
      "metadata": {
        "id": "2IlrKIZm7DCF"
      },
      "execution_count": 106,
      "outputs": []
    },
    {
      "cell_type": "code",
      "source": [
        "words = list(model_skipgram.wv.vocab)\n",
        "print(words)"
      ],
      "metadata": {
        "colab": {
          "base_uri": "https://localhost:8080/"
        },
        "id": "kFnlEkNy78YZ",
        "outputId": "e73714e8-239b-4ddc-bb6a-aded08cbcf93"
      },
      "execution_count": 107,
      "outputs": [
        {
          "output_type": "stream",
          "name": "stdout",
          "text": [
            "['dog', 'bites', 'man', 'eats', 'meat', 'food']\n"
          ]
        }
      ]
    },
    {
      "cell_type": "code",
      "source": [
        "model_skipgram['man']"
      ],
      "metadata": {
        "colab": {
          "base_uri": "https://localhost:8080/"
        },
        "id": "8bEAjMBi8wgu",
        "outputId": "330bac3c-a7f4-4706-a573-1a9546d392e5"
      },
      "execution_count": 108,
      "outputs": [
        {
          "output_type": "execute_result",
          "data": {
            "text/plain": [
              "array([-2.0112637e-03,  4.6612024e-03,  2.3878811e-05,  1.3731554e-03,\n",
              "       -2.0678404e-03, -3.6847231e-03, -2.1829552e-03, -6.3940813e-04,\n",
              "        2.7256953e-03,  3.1432479e-03,  3.4235683e-03, -4.8793722e-03,\n",
              "       -3.3713137e-03,  1.4868978e-03,  3.5669198e-03,  2.3784512e-03,\n",
              "        1.4670979e-04,  9.1529329e-04,  1.0346138e-03, -1.2632761e-03,\n",
              "        3.8981244e-03, -1.8848220e-03, -3.3825007e-03,  4.1506458e-03,\n",
              "        4.9111829e-04, -3.4495068e-03, -3.8652134e-03,  2.8149204e-03,\n",
              "       -4.9288641e-03,  3.9023457e-03,  1.3927063e-03,  3.6816704e-03,\n",
              "       -3.8061489e-03, -1.9930471e-03, -1.0662479e-03,  6.0274446e-04,\n",
              "        7.6384575e-04,  6.1616849e-04, -6.1438896e-04,  3.0194691e-03,\n",
              "        4.1772745e-04, -2.8730193e-03,  4.1851439e-03,  4.2853854e-03,\n",
              "       -2.3214680e-03, -1.0146014e-03, -3.7481105e-03,  2.9782655e-03,\n",
              "       -2.2786264e-03, -2.0994677e-03, -4.1740588e-03, -2.8265764e-03,\n",
              "        4.0045881e-04, -3.0477790e-03, -5.4128142e-04, -1.0910128e-03,\n",
              "       -3.2148270e-03,  1.4722606e-03,  1.7782146e-03, -3.7808597e-04,\n",
              "       -4.7907294e-03, -1.7613285e-03, -1.7706308e-04,  1.8077200e-04,\n",
              "        7.6292659e-04,  1.0284799e-03,  9.1447931e-04, -4.7864956e-03,\n",
              "        4.5862454e-03, -4.9410779e-03,  5.6724180e-04, -4.2264140e-03,\n",
              "       -7.4079121e-04, -3.3604396e-03,  2.2077141e-03,  8.6643570e-04,\n",
              "        1.4708344e-03, -2.8410051e-03, -4.6402705e-03,  1.6507736e-03,\n",
              "        4.5664557e-03,  4.9491841e-03, -1.3867269e-03, -4.9060630e-03,\n",
              "       -3.9082654e-03,  2.3951463e-03, -4.5155277e-03,  1.3719010e-03,\n",
              "        1.1868818e-03,  4.8261993e-03,  4.0296284e-03, -1.4363686e-04,\n",
              "        2.3682655e-03,  2.0280485e-03, -4.0485444e-03, -2.9201240e-03,\n",
              "       -4.6464084e-03,  4.6767070e-04, -1.1560741e-03,  2.3808362e-04],\n",
              "      dtype=float32)"
            ]
          },
          "metadata": {},
          "execution_count": 108
        }
      ]
    },
    {
      "cell_type": "code",
      "source": [
        "model_skipgram.similarity('bites', 'eats')"
      ],
      "metadata": {
        "colab": {
          "base_uri": "https://localhost:8080/"
        },
        "id": "6PNGJQCM80aR",
        "outputId": "23b9f5f5-8bb6-4a89-be31-e48e42b097a1"
      },
      "execution_count": 109,
      "outputs": [
        {
          "output_type": "execute_result",
          "data": {
            "text/plain": [
              "0.018704321"
            ]
          },
          "metadata": {},
          "execution_count": 109
        }
      ]
    },
    {
      "cell_type": "code",
      "source": [
        "model_skipgram.similarity('dog', 'eats')"
      ],
      "metadata": {
        "colab": {
          "base_uri": "https://localhost:8080/"
        },
        "id": "t8rNTzQn8-Dh",
        "outputId": "d886c26a-f2d7-4d24-f03a-d050e71e995e"
      },
      "execution_count": 110,
      "outputs": [
        {
          "output_type": "execute_result",
          "data": {
            "text/plain": [
              "-0.18650742"
            ]
          },
          "metadata": {},
          "execution_count": 110
        }
      ]
    },
    {
      "cell_type": "code",
      "source": [
        "model_skipgram.similarity('meat', 'eats')"
      ],
      "metadata": {
        "colab": {
          "base_uri": "https://localhost:8080/"
        },
        "id": "weEMkaP39Aq0",
        "outputId": "4249669f-b307-4bf7-9721-97c300738319"
      },
      "execution_count": 111,
      "outputs": [
        {
          "output_type": "execute_result",
          "data": {
            "text/plain": [
              "0.01214213"
            ]
          },
          "metadata": {},
          "execution_count": 111
        }
      ]
    },
    {
      "cell_type": "code",
      "source": [
        "model_skipgram.save('skipgram_model.bin')"
      ],
      "metadata": {
        "id": "wqHa7slF9Bik"
      },
      "execution_count": 112,
      "outputs": []
    },
    {
      "cell_type": "code",
      "source": [
        "model_skipgram = gensim.models.Word2Vec.load('skipgram_model.bin')"
      ],
      "metadata": {
        "id": "h7YYxzmR9d3J"
      },
      "execution_count": 113,
      "outputs": []
    },
    {
      "cell_type": "markdown",
      "source": [
        "###Document Vectors"
      ],
      "metadata": {
        "id": "TNZxb7IT34FF"
      }
    },
    {
      "cell_type": "code",
      "source": [
        "nlp = spacy.load('en_core_web_sm')"
      ],
      "metadata": {
        "id": "2nhGe_lE34ow"
      },
      "execution_count": 84,
      "outputs": []
    },
    {
      "cell_type": "code",
      "source": [
        "for sentence in documents:\n",
        "  nlp_sentence = nlp(sentence)\n",
        "  for token in nlp_sentence:\n",
        "    print(token.text, token.vector)"
      ],
      "metadata": {
        "colab": {
          "base_uri": "https://localhost:8080/"
        },
        "id": "3dh2bouZ5pJQ",
        "outputId": "f6165eff-fc68-47d2-d429-39afcc6eaed6"
      },
      "execution_count": 85,
      "outputs": [
        {
          "output_type": "stream",
          "name": "stdout",
          "text": [
            "dog [ 1.91941047e+00 -9.85911846e-01 -1.27942407e+00 -1.14421546e+00\n",
            "  1.43229246e+00 -8.80053222e-01 -1.09747672e+00  7.21595168e-01\n",
            "  2.44990873e+00  2.91721630e+00  4.64994287e+00  2.98618340e+00\n",
            "  3.77544284e+00 -7.92122722e-01 -4.97682095e-01 -1.77960849e+00\n",
            " -8.52171421e-01  2.09922647e+00 -2.43797159e+00 -3.56699729e+00\n",
            " -2.06929612e+00 -5.84487259e-01 -1.27857530e+00 -5.24895728e-01\n",
            "  5.96585989e-01 -1.11221814e+00 -5.57519197e-01 -3.13567591e+00\n",
            "  2.45222092e+00 -6.95058644e-01  5.21145868e+00 -1.52752805e+00\n",
            "  1.71462417e+00 -1.59104490e+00 -1.12313199e+00 -5.21127224e-01\n",
            "  1.87160277e+00  3.26025546e-01 -2.57721138e+00  6.14066660e-01\n",
            "  3.19818997e+00  2.61671638e+00  8.70276809e-01 -1.36841798e+00\n",
            " -7.08141744e-01  1.85532546e+00 -1.51074374e+00 -1.93607807e-03\n",
            " -1.36703479e+00  8.96698594e-01 -7.39807606e-01 -1.78732085e+00\n",
            " -1.83793247e+00 -1.68872523e+00 -2.32823610e+00  2.22032118e+00\n",
            "  4.67480326e+00 -1.64622879e+00  2.28443205e-01 -1.63649273e+00\n",
            " -7.51743615e-02  3.44763458e-01 -4.46224451e-01  1.47298121e+00\n",
            "  1.62680995e+00  6.43189788e-01  8.67201090e-02 -8.45406175e-01\n",
            " -2.34528613e+00  4.36903179e-01 -2.32005453e+00 -1.37756503e+00\n",
            "  2.10573196e+00  3.40651798e+00 -3.18727922e+00 -1.72612810e+00\n",
            " -2.79121637e+00  1.74305737e-01 -2.29703093e+00  8.10718298e-01\n",
            "  1.88502884e+00 -2.74781775e+00 -1.98476827e+00 -2.49837577e-01\n",
            "  1.02837324e-01  4.89412785e+00 -2.23543501e+00 -8.99279773e-01\n",
            "  6.71694279e-01 -1.59718370e+00 -3.29685974e+00  1.72054911e+00\n",
            " -6.65885806e-01  2.88729572e+00  2.57701874e+00  2.57356691e+00]\n",
            "bites [ 2.2891631e+00  6.9909734e-01 -3.6597207e+00  5.9012455e-01\n",
            "  2.8848612e-01  2.6344304e+00  6.5052485e-01 -2.5569630e-01\n",
            "  4.1872373e+00  1.0220106e+00 -1.4831681e+00  4.7727907e-01\n",
            " -1.1430612e+00  2.0813129e+00 -2.9697056e+00 -2.1433415e+00\n",
            " -2.7380013e-01 -3.4205973e-02 -1.1503913e+00 -2.1321077e+00\n",
            "  4.8856896e-01 -1.4739058e+00 -1.5901238e-01 -1.6181784e+00\n",
            "  2.6807506e+00 -2.2585037e-01 -1.3693209e+00 -8.5717607e-01\n",
            " -9.1407597e-02 -2.1552706e+00 -2.0508304e+00  1.4469879e+00\n",
            " -2.7253437e+00 -9.3841219e-01 -3.5988092e+00  8.2679147e-01\n",
            "  2.0665250e+00 -3.8812518e-02 -3.7789817e+00  2.9782567e+00\n",
            "  4.6672869e+00  3.1001039e+00  7.2593123e-01 -5.1259041e-02\n",
            "  6.9979954e-01 -3.6006408e+00  2.7546096e-01 -2.0513704e+00\n",
            "  1.4891988e+00  1.9538239e+00 -2.9934611e+00 -1.1935629e+00\n",
            " -4.8216283e-03 -9.5482630e-01 -1.2745976e+00 -4.0996695e-01\n",
            "  1.2745302e+00  6.2289035e-01 -3.9751892e+00 -1.5957201e+00\n",
            " -1.8297102e+00  3.7905822e+00  3.6283469e-01  1.4279008e+00\n",
            "  2.5030928e+00  3.0996156e+00  7.0012379e-01 -1.7861184e+00\n",
            " -2.2127132e+00  3.7044382e-01  4.9324754e-01  3.1495407e-01\n",
            " -2.8027997e+00  1.2167886e-02 -2.4487588e+00 -8.9480877e-01\n",
            " -1.9265089e+00 -2.6903887e+00  2.2252502e+00  8.9562541e-01\n",
            "  5.0473142e-01  3.4874098e+00 -2.6960936e+00  4.3370289e-01\n",
            "  4.7849458e-01  2.2811088e-01  1.0538528e+00  1.9736307e+00\n",
            " -1.3628168e+00  1.6518754e+00  5.8267772e-02  1.1169801e+00\n",
            "  1.1504505e+00 -9.7246760e-01 -7.6805931e-01  6.8656521e+00]\n",
            "man [ 0.53685385  0.32385206 -0.36676776  0.8298571   0.40908372  0.6043205\n",
            " -0.22187617  1.4096318   3.3183377   2.515588    0.60492337 -1.040808\n",
            "  5.0165815   1.8037158   0.13811481 -0.07723951  1.6624862  -1.845408\n",
            " -1.3705921  -0.53376883 -1.7871213  -1.5037332   0.4513399  -0.8331367\n",
            " -1.6784387  -1.1365645   1.4404099  -0.1597142   2.94418     1.0427597\n",
            "  3.485979   -0.08857018 -0.26066375 -0.10514653 -0.5763577  -2.8714545\n",
            "  2.0640204  -2.1167488  -5.345424   -1.0095658   4.142198    1.5914928\n",
            " -0.58559626 -3.090853    0.54601455  0.63334    -1.2864181  -1.277297\n",
            " -2.4622338  -1.4283599  -0.64834815 -2.1840768   0.23861039 -0.18145347\n",
            " -0.23185444 -1.8256984   0.48298237 -2.060605   -2.316733    2.4855962\n",
            "  1.71293     1.8294315   0.13066924 -3.4172204   1.6171098   0.6992478\n",
            "  1.212168   -1.1621199  -2.6342645  -0.703472   -2.5499864   2.34391\n",
            " -0.8026893   3.0884056  -1.9666861   0.2566385  -0.38691866 -1.0572971\n",
            " -0.5223105   1.0283424  -1.2142341  -2.130168    0.41782868  0.00706333\n",
            "  1.2277368   3.3859189   3.2297935  -1.3863995   1.6438377  -1.1376173\n",
            "  0.31348115  3.4792268  -2.7368944   2.9930706   0.19144717 -0.15791643]\n",
            "man [ 0.7888863   1.083919   -0.35323167 -0.73987913 -0.49030042  1.6419284\n",
            " -1.6619375   2.3852751   1.9981184   4.7937684   4.720047    0.3387185\n",
            "  4.4454274   1.5730257  -0.06160116 -1.9620255  -0.06666401  0.45019686\n",
            " -3.878724   -0.82186854  0.22669673 -1.3878722  -1.6847411  -0.17864001\n",
            " -1.4496999  -1.5109959  -0.59488606 -1.6589926   3.590187    0.06973836\n",
            "  3.9115858  -0.06349781 -1.488812   -1.9933238   1.2208314   1.7076309\n",
            "  2.6056023  -0.80645776 -2.992334    0.47299546  2.0808764   2.3067095\n",
            " -1.5104551   0.5040869  -2.0285635  -1.1253445  -1.2346911  -1.9630895\n",
            " -1.6281708   1.2157714  -2.6033337  -2.233292   -0.07722911  0.6127262\n",
            " -1.2152244   1.0336426   1.1331751  -1.3354261  -0.15778536 -1.2085104\n",
            " -0.0685907   1.3864028  -0.3398047  -0.09460545  0.53525954  2.3085182\n",
            "  1.9992309  -3.4277897  -1.5862743  -0.13316533 -2.0165217   0.13316745\n",
            " -0.9387411   3.0318418  -3.0551827  -0.96272266 -2.0183272  -0.46942502\n",
            " -1.9278139  -0.02909783  2.0964017  -2.6075346  -0.3167987  -0.15686905\n",
            "  0.82376957  4.693938   -1.271749   -0.95877516  2.2401345  -0.6824265\n",
            " -3.0635698   2.0776386  -2.8204172   3.432457    2.457738    1.5380919 ]\n",
            "bites [ 1.3747169   0.75951576 -2.0386875   0.47162795  0.9765426   1.9823077\n",
            "  0.06130332  2.01786     3.3743708   2.4298263  -0.01698858 -2.1178517\n",
            " -0.39338487  2.5798664  -2.022553   -1.3160868  -0.20072114  2.8978395\n",
            " -2.0718148  -2.1307726   1.0209869  -2.253436    0.6923156  -2.2661219\n",
            "  2.311895    0.6920155  -1.945776   -0.18749845  0.4149741  -2.6658444\n",
            " -0.6569654   0.4516012  -3.118997   -1.3340917  -3.6860292   0.41037425\n",
            "  1.9872112   0.2655378  -4.1270113   3.7116709   4.948203    2.4899755\n",
            "  0.7336448  -1.9907414   0.9756649  -1.5211312   0.00798804 -1.1256539\n",
            "  2.0131736   1.1410819  -1.9279115  -2.0005517  -0.23423731 -1.1558846\n",
            " -2.0686967  -0.01214457  0.9060559   1.0421203  -2.4333885  -1.1881351\n",
            " -2.2899802   3.0198185   0.83513886  1.7519441   2.4819424   2.7640438\n",
            " -0.83651996 -3.0509243  -0.5107962  -0.74011713 -0.16474906  1.2582803\n",
            " -1.1004856  -0.73728853 -0.9559965  -1.0966125  -2.4221303  -4.1997433\n",
            "  1.5180151  -1.398406   -0.33450198  4.0062895  -4.2474494   0.37666464\n",
            " -0.5151194   2.788715    0.19553685  1.2461331  -1.3887466   1.4032775\n",
            "  0.35989153  2.2794697   1.6711353  -1.4850378  -1.3835645   6.0287056 ]\n",
            "dog [ 0.50819266 -2.667007    0.60718644  1.149341    1.9466753   0.9978473\n",
            " -0.26273108 -0.04749316  1.792765    1.2735462   0.80571634  2.1148677\n",
            "  2.9248827  -0.04049584 -1.2431111   0.5392498   2.6198683   0.49915183\n",
            "  0.9427904  -3.0965803  -0.92043626 -1.0133096  -0.16679388 -0.95659745\n",
            " -0.0644632  -0.7538854   1.8805755  -2.59729     2.6989484   0.9922949\n",
            "  3.9918182  -1.6662551   2.541341   -0.10577476 -3.5456715  -3.94544\n",
            "  0.57598835 -0.52035105 -3.9299068  -1.4960816   4.434364    1.4302311\n",
            "  2.1654341  -3.6643417   0.5330774   1.1421432  -1.3214686   0.4788366\n",
            " -1.9540094  -0.4423272   1.0889297  -1.8227599  -2.087492   -1.9124533\n",
            " -1.2992061   1.4628903   3.1095638  -1.9657229  -1.72568     2.9101577\n",
            "  1.5256736   0.02912751  0.14006144 -2.4456232   1.992576    0.22557473\n",
            "  1.40415     1.0681424  -2.3234427   0.46588808 -2.120284    1.2509482\n",
            "  1.7936325   3.0735662  -1.968452   -0.10792968 -1.3695453  -0.39464706\n",
            " -0.05726171  0.7277364  -1.5663354  -1.5381284  -4.2691965  -1.9931545\n",
            "  0.4707121   3.5559118   2.1385772  -1.7046876  -0.9149157  -2.3844848\n",
            " -0.938901    2.4299505  -1.8006006   3.271493   -0.5295939   1.7066903 ]\n",
            "dog [ 1.1878153  -0.26170456  0.03419253 -0.5098145   2.2524698  -0.14316672\n",
            " -0.9741871   0.9987432   3.3585162   3.098389    3.9458573   3.153195\n",
            "  2.474797    0.28299487 -1.0718518  -1.2719603  -0.9346882   0.6980716\n",
            " -1.7807717  -3.778508   -0.7800435   0.856657   -0.16256608 -1.1889228\n",
            "  0.14485419 -1.9348825  -0.6589819  -4.140472    3.1796694  -1.0029719\n",
            "  6.03379    -0.7439264   0.7298713  -0.33960485 -0.50823545 -0.27505162\n",
            "  1.4645944   0.05909663 -2.02593    -0.07870805  3.7751808   3.8910067\n",
            "  0.93147826 -1.4408367   0.23482867  1.5038861  -1.6044441   0.86290354\n",
            " -2.3903039  -0.5329412   0.72840124 -2.3201046  -2.763682   -1.7391096\n",
            " -2.5468462   1.630208    3.9861825  -1.1560813  -0.16007495 -1.2812638\n",
            "  1.0757833  -0.34596324  0.12258975 -0.1409623   1.0506115  -0.3939129\n",
            "  0.72289705 -0.11757469 -2.8201733  -0.41023016 -2.7297587   0.24024476\n",
            "  1.5475457   4.6176043  -3.0510297  -2.0189776  -3.2474117  -0.3285729\n",
            " -2.0773463   0.12776823  0.3675652  -1.3721904  -2.56865    -1.5797273\n",
            "  0.55347294  4.8819714  -1.1988775  -0.95212567  0.12909323 -1.8111378\n",
            " -2.3643622   0.32793254 -0.7840178   4.060226    1.358352    1.5559675 ]\n",
            "eats [-0.47655314 -0.887504   -3.3885355  -0.40814278 -0.23221523  8.091818\n",
            "  0.5198322   0.8531424   4.7039433   1.8867078   2.428679   -1.8267653\n",
            " -3.6248026   0.781947   -2.8044906  -1.8048921  -2.8840442   0.54410243\n",
            " -1.5859952  -0.8147486   2.621002   -0.56582713 -3.1238108  -1.0869386\n",
            "  1.2806193  -0.62084794 -0.41871095  0.35869947  1.7905439   0.24119776\n",
            " -0.23247066  0.15588203 -2.8230116   0.31940773 -2.8698652  -1.8306046\n",
            "  1.1420581  -0.07288504 -4.425796    2.8891995   4.5341854   2.66613\n",
            "  2.2523046  -1.910728   -1.3054113  -0.17172056 -0.25334305 -1.3717226\n",
            " -0.57009274  0.7400309  -1.5993974  -1.581954    1.7183993  -0.30978245\n",
            " -2.3206043   0.02712953  1.4552921  -1.1711987  -2.003884   -1.0205673\n",
            "  0.06380576  5.6872478   0.7931988  -0.11952353  3.0262659   0.30001533\n",
            "  0.43619615 -0.04385164 -1.5230343  -1.263225   -1.0696131   0.25260383\n",
            " -2.4857993  -0.13119471 -0.16439424  0.09343493 -1.9477481   0.72152287\n",
            " -0.80629015 -1.1293207   2.190932    2.7421567  -3.0568235  -0.84169805\n",
            "  4.044013   -0.59416664  1.2623303   0.34135234 -1.2421702  -0.37756807\n",
            "  1.4536979   2.1429076   0.40599105 -1.2975076  -2.0072887   3.8580472 ]\n",
            "meat [ 2.138053   -2.541163   -1.6169465   0.99598527  2.8571105  -0.9096813\n",
            "  0.35411698 -0.1910876  -0.47033745  1.9334728   2.6313715  -0.9612169\n",
            "  0.17063287 -3.4600377  -2.0822     -3.2176647   1.6690171   1.10865\n",
            " -2.1880314   0.7451431  -0.12024727 -0.9113674  -0.3146925   0.7854967\n",
            " -1.021762    0.07333279 -1.2305236   2.6997995   1.8073626  -0.7207465\n",
            " -0.6923174   1.7419236   2.8713107   0.13027394 -2.1113434  -2.155512\n",
            "  1.7595143  -0.52964604 -0.9856106   1.2039561   2.837541    3.033954\n",
            "  0.70165014 -3.0863986   3.073672    1.5679681   0.275984   -0.3757972\n",
            "  0.82467526  0.23318158 -0.8008322  -1.9445537  -0.874099   -0.8534336\n",
            " -0.6911663  -0.61774874  0.9182625   0.02582562  0.84742206  2.5277944\n",
            "  2.7032058  -3.0997431  -0.33105564  0.13020399 -0.928833   -2.0683148\n",
            "  0.9145014  -1.1663402  -3.8949287  -0.9299402  -1.9084469   0.9839597\n",
            "  2.629518    3.3735454  -0.7319842   0.47553572  1.6213193  -0.47500783\n",
            "  0.8673178   1.3444524  -1.8177899  -1.1215929  -2.5569901   1.3808305\n",
            " -1.4061852   5.3022623   1.805669   -2.8189406  -1.9364095  -1.7295058\n",
            " -0.5408506   1.2016699  -2.4855862   0.9887575   1.6726267  -0.304379  ]\n",
            "man [ 0.52389205  1.5652239  -0.04750337  0.3047545  -0.08478642  1.6677048\n",
            " -0.618326    2.8580084   3.3072426   4.910988    4.430622   -0.89721835\n",
            "  2.7919784   1.9583353  -0.27794886 -1.4141033  -0.4280256  -0.81272227\n",
            " -3.4777741  -0.65262485  1.5562562  -1.2966298  -0.6721474  -1.2479438\n",
            " -1.6569079  -2.2275739  -0.07252926 -2.4424021   4.1824937  -0.18493074\n",
            "  4.3238254   0.22241122 -1.6786616  -0.55612457  2.0346923   0.40100402\n",
            "  2.5539172  -0.39336064 -2.583725   -0.37986255  2.7086127   3.5384498\n",
            " -1.7465255   0.696826   -0.87424815 -1.0220783  -0.7737946  -1.4038389\n",
            " -2.6686094   0.11081302 -0.16799808 -1.9404501  -0.13648355  1.2400486\n",
            " -1.5815971   0.7862677   0.32222164 -1.7648649  -0.3421955  -1.5199637\n",
            "  0.09515956  0.5408838   0.18814006 -0.9631245   0.09222977  0.85028267\n",
            "  4.1756663  -3.2499475  -2.2830732  -0.4174441  -2.7026453   0.03638396\n",
            " -1.0914427   4.579353   -2.796823   -0.98650265 -1.6295836  -1.3913723\n",
            " -2.197145    0.2371495   1.36781    -2.2192519  -0.3003249  -1.7600602\n",
            "  0.9031153   4.4606066  -0.72957647 -0.7701424   1.6933117  -0.7388307\n",
            " -2.544035    0.76758516 -3.1120014   4.1439514   1.5054498   0.35547572]\n",
            "eats [-1.3092378e+00 -8.6047465e-01 -3.2190249e+00 -4.4768196e-01\n",
            " -2.8020874e-02  6.4026423e+00 -2.2878736e-01  2.6748505e+00\n",
            "  4.9811215e+00  2.8140156e+00  2.5498390e+00 -2.7002344e+00\n",
            " -3.4247236e+00  1.5574431e+00 -2.1884162e+00 -2.1857004e+00\n",
            " -2.3307033e+00 -1.6605252e-01 -1.6718901e+00 -1.2166021e+00\n",
            "  3.6533082e+00  2.1984850e-01 -3.2604895e+00  1.3748842e-01\n",
            " -1.6829664e-01 -2.6968803e+00  6.8282926e-01  1.3026061e+00\n",
            "  6.8358308e-01 -7.0311296e-01 -2.9204535e-01  2.0198764e-01\n",
            " -2.7918777e+00  4.4713789e-01 -3.4799085e+00 -1.7759440e+00\n",
            "  9.7510737e-01  6.7892790e-01 -4.7331920e+00  3.8798397e+00\n",
            "  4.3553877e+00  3.3594851e+00  1.1228745e+00 -1.5380020e+00\n",
            " -3.2728779e-01 -9.0554619e-01 -6.5745354e-01 -5.2136183e-01\n",
            " -1.2597066e+00 -1.9782155e+00 -6.1217833e-01 -3.0532677e+00\n",
            "  3.4866471e+00 -1.0184374e+00 -2.2840528e+00  7.0840657e-01\n",
            "  4.4512683e-01 -8.7002206e-01  2.1135509e-01 -6.2738830e-01\n",
            " -3.1756163e-03  3.9169440e+00  1.8180964e+00  8.1682199e-01\n",
            "  5.1382465e+00  1.4008083e+00 -3.5379043e+00 -3.9664543e-01\n",
            "  9.7356522e-01 -2.6710024e+00 -1.0991514e+00  7.8807414e-01\n",
            " -2.7467117e+00  2.2486269e-01  1.8629702e+00 -2.2459069e-01\n",
            " -1.0668359e+00  2.0133030e-01 -1.2597678e+00 -9.8697454e-01\n",
            "  1.1697617e+00  2.7907655e+00 -2.5036402e+00 -2.1559534e+00\n",
            "  3.7731147e+00 -5.8993244e-01  2.0965610e+00 -9.4858849e-01\n",
            " -6.8825746e-01  5.8568168e-01  9.1899210e-01  3.2966912e+00\n",
            " -4.6160230e-01 -1.5817548e+00 -2.5806928e+00  4.4743700e+00]\n",
            "food [ 0.72869116  0.03434137 -0.28756914  0.05184519  0.7136837  -0.4753884\n",
            "  3.8805974   0.01823676  0.31509843  4.4795837   2.0267544  -1.0776429\n",
            " -0.9160175  -3.1028345  -5.297804   -4.3103743   4.2950892  -1.94804\n",
            " -1.7231253   3.1111705   0.8123846   1.3331718   0.65490824 -1.1419196\n",
            " -2.2710845  -0.52680653 -2.351539    1.4091313   1.9909565   0.586735\n",
            "  1.0407989   0.51377916  2.619031   -0.81934285 -1.9447429  -3.4093976\n",
            "  0.9837853  -0.18379414 -3.216986    2.432847    5.3517866   1.9787108\n",
            " -0.77053833 -3.5746627   3.813958    1.2872791  -1.4586889  -0.67514306\n",
            " -1.7301406   3.057672    0.9834914  -3.5136495  -0.07989472  0.14376049\n",
            "  0.49511337  3.715399    1.0987105  -0.78920376 -0.67757654  1.2312329\n",
            "  0.84770894 -1.6721063   0.3784972   0.3449934  -0.35546967 -3.9479444\n",
            "  0.9773516  -4.6758432  -1.6233422   1.6824732  -2.4013994  -1.1287118\n",
            "  0.08313614  1.7192109  -0.6283364   3.9052181   0.3308367  -0.6079541\n",
            "  1.9425287  -0.1949259  -0.9694871   0.71944535 -3.0416207   0.02603044\n",
            " -1.1319399   3.9096982   2.6283524  -2.8879485  -0.09719437 -0.4198333\n",
            " -1.9813186   1.1300844  -2.4046257   3.2164865   1.4031217  -0.73065805]\n"
          ]
        }
      ]
    },
    {
      "cell_type": "markdown",
      "source": [
        "###Dov2Vec"
      ],
      "metadata": {
        "id": "BbCjvps28lJL"
      }
    },
    {
      "cell_type": "code",
      "source": [
        "tagged_data = [gensim.models.doc2vec.TaggedDocument(words=nltk.tokenize.word_tokenize(word.lower()), \n",
        "                                                    tags = [str(i)]) for i, word in enumerate(documents)]"
      ],
      "metadata": {
        "id": "QJBbhk-57XKh"
      },
      "execution_count": 93,
      "outputs": []
    },
    {
      "cell_type": "code",
      "source": [
        "tagged_data"
      ],
      "metadata": {
        "colab": {
          "base_uri": "https://localhost:8080/"
        },
        "id": "KVu7JeM6-3Z3",
        "outputId": "da5f0275-6864-4892-e77b-8d47d8de581a"
      },
      "execution_count": 94,
      "outputs": [
        {
          "output_type": "execute_result",
          "data": {
            "text/plain": [
              "[TaggedDocument(words=['dog', 'bites', 'man'], tags=['0']),\n",
              " TaggedDocument(words=['man', 'bites', 'dog'], tags=['1']),\n",
              " TaggedDocument(words=['dog', 'eats', 'meat'], tags=['2']),\n",
              " TaggedDocument(words=['man', 'eats', 'food'], tags=['3'])]"
            ]
          },
          "metadata": {},
          "execution_count": 94
        }
      ]
    },
    {
      "cell_type": "code",
      "source": [
        "dbow_model = gensim.models.doc2vec.Doc2Vec(tagged_data, vector_size=20, min_count=1, epochs=2, dm=0)"
      ],
      "metadata": {
        "id": "vl0qFgq0_hB7"
      },
      "execution_count": 120,
      "outputs": []
    },
    {
      "cell_type": "code",
      "source": [
        "dbow_model"
      ],
      "metadata": {
        "colab": {
          "base_uri": "https://localhost:8080/"
        },
        "id": "umZqmJ1rAEdc",
        "outputId": "49dbf717-f04b-4d1d-b484-e634d088e2d1"
      },
      "execution_count": 121,
      "outputs": [
        {
          "output_type": "execute_result",
          "data": {
            "text/plain": [
              "<gensim.models.doc2vec.Doc2Vec at 0x7f8476783e10>"
            ]
          },
          "metadata": {},
          "execution_count": 121
        }
      ]
    },
    {
      "cell_type": "code",
      "source": [
        "dbow_model.infer_vector(['dog', 'eats', 'meat'])"
      ],
      "metadata": {
        "colab": {
          "base_uri": "https://localhost:8080/"
        },
        "id": "9_TaCc3oAUVz",
        "outputId": "07d13444-054c-41e9-c5cb-51c4de5fbdf6"
      },
      "execution_count": 124,
      "outputs": [
        {
          "output_type": "execute_result",
          "data": {
            "text/plain": [
              "array([-0.01294542, -0.01710529,  0.02244416,  0.00745575,  0.00720842,\n",
              "        0.00868102,  0.0017573 , -0.00365329,  0.00967623,  0.00283921,\n",
              "        0.02016313,  0.01881022, -0.01154976, -0.01817759,  0.01066149,\n",
              "        0.00458464,  0.00401179,  0.01565589, -0.00214712, -0.01075333],\n",
              "      dtype=float32)"
            ]
          },
          "metadata": {},
          "execution_count": 124
        }
      ]
    },
    {
      "cell_type": "code",
      "source": [
        "dbow_model.wv.n_similarity(['dog'], ['man'])"
      ],
      "metadata": {
        "colab": {
          "base_uri": "https://localhost:8080/"
        },
        "id": "nxnu7xgvAobA",
        "outputId": "0558e059-eabb-4225-eaad-6f1b093d6b92"
      },
      "execution_count": 127,
      "outputs": [
        {
          "output_type": "execute_result",
          "data": {
            "text/plain": [
              "0.46744114"
            ]
          },
          "metadata": {},
          "execution_count": 127
        }
      ]
    },
    {
      "cell_type": "code",
      "source": [
        "dbow_model.wv.n_similarity(['meat'], ['man'])"
      ],
      "metadata": {
        "colab": {
          "base_uri": "https://localhost:8080/"
        },
        "id": "CXDkosqTA3V7",
        "outputId": "64d52bef-a844-4fa6-eca3-54efa2a0a6b7"
      },
      "execution_count": 128,
      "outputs": [
        {
          "output_type": "execute_result",
          "data": {
            "text/plain": [
              "-0.021492641"
            ]
          },
          "metadata": {},
          "execution_count": 128
        }
      ]
    },
    {
      "cell_type": "code",
      "source": [
        "dbow_model.wv.n_similarity(['dog'], ['meat'])"
      ],
      "metadata": {
        "colab": {
          "base_uri": "https://localhost:8080/"
        },
        "id": "idPWYGBuA-Mr",
        "outputId": "8cf3d0ec-29b5-49ab-da16-5fbd9ade3f5d"
      },
      "execution_count": 129,
      "outputs": [
        {
          "output_type": "execute_result",
          "data": {
            "text/plain": [
              "-0.63136566"
            ]
          },
          "metadata": {},
          "execution_count": 129
        }
      ]
    },
    {
      "cell_type": "code",
      "source": [
        "dbow_model.wv.n_similarity(['dog'], ['food'])"
      ],
      "metadata": {
        "colab": {
          "base_uri": "https://localhost:8080/"
        },
        "id": "fiOLFNy2BAwg",
        "outputId": "321f1a53-2dd1-45c9-e4b2-21d16c8d1554"
      },
      "execution_count": 133,
      "outputs": [
        {
          "output_type": "execute_result",
          "data": {
            "text/plain": [
              "0.12233431"
            ]
          },
          "metadata": {},
          "execution_count": 133
        }
      ]
    },
    {
      "cell_type": "code",
      "source": [
        "dm_model = gensim.models.doc2vec.Doc2Vec(tagged_data, vector_size=20, min_count=1, epochs=2, dm=1)"
      ],
      "metadata": {
        "id": "D069lhAoBIoM"
      },
      "execution_count": 135,
      "outputs": []
    },
    {
      "cell_type": "code",
      "source": [
        "dm_model.infer_vector(['man', 'eats', 'meat'])"
      ],
      "metadata": {
        "colab": {
          "base_uri": "https://localhost:8080/"
        },
        "id": "1y4nYG8_BZmx",
        "outputId": "f1c6b3e4-98c4-4829-f39f-a4f92ff6d1c5"
      },
      "execution_count": 137,
      "outputs": [
        {
          "output_type": "execute_result",
          "data": {
            "text/plain": [
              "array([ 0.02419738,  0.0050433 , -0.01538018, -0.02354402, -0.00771033,\n",
              "        0.02431445,  0.00312986,  0.01675607,  0.02006226, -0.00562447,\n",
              "        0.02347352, -0.00078709,  0.0025219 , -0.01909447,  0.01743626,\n",
              "        0.01861956,  0.01553533,  0.01674518, -0.0044754 ,  0.00285265],\n",
              "      dtype=float32)"
            ]
          },
          "metadata": {},
          "execution_count": 137
        }
      ]
    },
    {
      "cell_type": "code",
      "source": [
        "dm_model.wv.n_similarity(['dog'], ['man'])"
      ],
      "metadata": {
        "colab": {
          "base_uri": "https://localhost:8080/"
        },
        "id": "nlWd13f8BjPR",
        "outputId": "268754ff-f251-4c30-efa5-3d04d6613d36"
      },
      "execution_count": 143,
      "outputs": [
        {
          "output_type": "execute_result",
          "data": {
            "text/plain": [
              "0.46744114"
            ]
          },
          "metadata": {},
          "execution_count": 143
        }
      ]
    },
    {
      "cell_type": "code",
      "source": [
        "dm_model.wv.n_similarity(['meat'], ['man'])"
      ],
      "metadata": {
        "colab": {
          "base_uri": "https://localhost:8080/"
        },
        "id": "jw0nPecbBq7c",
        "outputId": "87d29632-e53e-49c9-f047-bed1035fd084"
      },
      "execution_count": 144,
      "outputs": [
        {
          "output_type": "execute_result",
          "data": {
            "text/plain": [
              "-0.021492641"
            ]
          },
          "metadata": {},
          "execution_count": 144
        }
      ]
    },
    {
      "cell_type": "code",
      "source": [
        "dm_model.wv.n_similarity(['dog'], ['meat'])"
      ],
      "metadata": {
        "colab": {
          "base_uri": "https://localhost:8080/"
        },
        "id": "oEcbMffUBrEM",
        "outputId": "f1b6ffe7-8dea-46c8-e8de-0d8944d58557"
      },
      "execution_count": 145,
      "outputs": [
        {
          "output_type": "execute_result",
          "data": {
            "text/plain": [
              "-0.63136566"
            ]
          },
          "metadata": {},
          "execution_count": 145
        }
      ]
    },
    {
      "cell_type": "code",
      "source": [
        "dm_model.wv.n_similarity(['dog'], ['food'])"
      ],
      "metadata": {
        "colab": {
          "base_uri": "https://localhost:8080/"
        },
        "id": "eZvwUXkeBsGU",
        "outputId": "c9f3f906-fe0d-4350-e357-4349717e591f"
      },
      "execution_count": 146,
      "outputs": [
        {
          "output_type": "execute_result",
          "data": {
            "text/plain": [
              "0.12233431"
            ]
          },
          "metadata": {},
          "execution_count": 146
        }
      ]
    },
    {
      "cell_type": "markdown",
      "source": [
        "###Visualizing Embeddings using TSNE"
      ],
      "metadata": {
        "id": "yTawNQGnB6x-"
      }
    },
    {
      "cell_type": "code",
      "source": [
        "!wget https://raw.githubusercontent.com/practical-nlp/practical-nlp-code/master/Ch3/Models/word2vec_cbow.bin"
      ],
      "metadata": {
        "colab": {
          "base_uri": "https://localhost:8080/"
        },
        "id": "d2gA8q6MBzKg",
        "outputId": "c6674a9c-9492-4a9c-de78-ee2e4caea76f"
      },
      "execution_count": 149,
      "outputs": [
        {
          "output_type": "stream",
          "name": "stdout",
          "text": [
            "--2022-05-22 14:01:55--  https://raw.githubusercontent.com/practical-nlp/practical-nlp-code/master/Ch3/Models/word2vec_cbow.bin\n",
            "Resolving raw.githubusercontent.com (raw.githubusercontent.com)... 185.199.108.133, 185.199.109.133, 185.199.110.133, ...\n",
            "Connecting to raw.githubusercontent.com (raw.githubusercontent.com)|185.199.108.133|:443... connected.\n",
            "HTTP request sent, awaiting response... 200 OK\n",
            "Length: 65730824 (63M) [application/octet-stream]\n",
            "Saving to: ‘word2vec_cbow.bin’\n",
            "\n",
            "word2vec_cbow.bin   100%[===================>]  62.69M   124MB/s    in 0.5s    \n",
            "\n",
            "2022-05-22 14:01:57 (124 MB/s) - ‘word2vec_cbow.bin’ saved [65730824/65730824]\n",
            "\n"
          ]
        }
      ]
    },
    {
      "cell_type": "code",
      "source": [
        "model = gensim.models.KeyedVectors.load_word2vec_format('word2vec_cbow.bin', binary=True)"
      ],
      "metadata": {
        "id": "piwup2yjExSY"
      },
      "execution_count": 150,
      "outputs": []
    },
    {
      "cell_type": "code",
      "source": [
        "vocab = list(model.wv.vocab)"
      ],
      "metadata": {
        "id": "HYdhrxF0FB9x"
      },
      "execution_count": 151,
      "outputs": []
    },
    {
      "cell_type": "code",
      "source": [
        "len(vocab)"
      ],
      "metadata": {
        "colab": {
          "base_uri": "https://localhost:8080/"
        },
        "id": "NCceIAdsHozp",
        "outputId": "f6659422-5d8b-4c8e-db04-4cd2685d9f4a"
      },
      "execution_count": 153,
      "outputs": [
        {
          "output_type": "execute_result",
          "data": {
            "text/plain": [
              "161018"
            ]
          },
          "metadata": {},
          "execution_count": 153
        }
      ]
    },
    {
      "cell_type": "code",
      "source": [
        "vocab[:20]"
      ],
      "metadata": {
        "colab": {
          "base_uri": "https://localhost:8080/"
        },
        "id": "_KK3RdeYHpj4",
        "outputId": "fd3ec3ad-e860-497c-c9eb-81acab78b32b"
      },
      "execution_count": 156,
      "outputs": [
        {
          "output_type": "execute_result",
          "data": {
            "text/plain": [
              "['the',\n",
              " 'of',\n",
              " 'and',\n",
              " 'in',\n",
              " 'to',\n",
              " 'was',\n",
              " 'is',\n",
              " 'for',\n",
              " 'on',\n",
              " 'as',\n",
              " 'by',\n",
              " 'with',\n",
              " 'he',\n",
              " 'at',\n",
              " 'from',\n",
              " 'that',\n",
              " 'his',\n",
              " 'it',\n",
              " 'an',\n",
              " 'were']"
            ]
          },
          "metadata": {},
          "execution_count": 156
        }
      ]
    },
    {
      "cell_type": "code",
      "source": [
        "stopwords = nltk.corpus.stopwords.words()"
      ],
      "metadata": {
        "id": "OjD7RvdyHs0M"
      },
      "execution_count": 157,
      "outputs": []
    },
    {
      "cell_type": "code",
      "source": [
        "vocab_without_stopwords = [word.lower() for word in vocab if word not in stopwords]"
      ],
      "metadata": {
        "id": "RZeyYFoWIGZl"
      },
      "execution_count": 158,
      "outputs": []
    },
    {
      "cell_type": "code",
      "source": [
        "len(vocab_without_stopwords)"
      ],
      "metadata": {
        "colab": {
          "base_uri": "https://localhost:8080/"
        },
        "id": "aYLtpXqhIRaJ",
        "outputId": "a0e71e5b-0c16-4520-da76-efe1a8d4e569"
      },
      "execution_count": 159,
      "outputs": [
        {
          "output_type": "execute_result",
          "data": {
            "text/plain": [
              "159749"
            ]
          },
          "metadata": {},
          "execution_count": 159
        }
      ]
    },
    {
      "cell_type": "code",
      "source": [
        "len(vocab) - len(vocab_without_stopwords)"
      ],
      "metadata": {
        "colab": {
          "base_uri": "https://localhost:8080/"
        },
        "id": "sF9kLUMzIVxt",
        "outputId": "63b5154b-b328-4bb5-85ad-b5db774ff879"
      },
      "execution_count": 160,
      "outputs": [
        {
          "output_type": "execute_result",
          "data": {
            "text/plain": [
              "1269"
            ]
          },
          "metadata": {},
          "execution_count": 160
        }
      ]
    },
    {
      "cell_type": "code",
      "source": [
        "vocab_without_stopwords[:20]"
      ],
      "metadata": {
        "colab": {
          "base_uri": "https://localhost:8080/"
        },
        "id": "ktc2AcwYIXRR",
        "outputId": "494b5c54-16f6-4cb5-d721-b0c40288e2eb"
      },
      "execution_count": 161,
      "outputs": [
        {
          "output_type": "execute_result",
          "data": {
            "text/plain": [
              "['first',\n",
              " 'new',\n",
              " 'two',\n",
              " 'th',\n",
              " 'school',\n",
              " 'references',\n",
              " 'time',\n",
              " 'year',\n",
              " 'bar',\n",
              " 'links',\n",
              " 'external',\n",
              " 'world',\n",
              " 'city',\n",
              " 'state',\n",
              " 'may',\n",
              " 'years',\n",
              " 'national',\n",
              " 'university',\n",
              " 'united',\n",
              " 'team']"
            ]
          },
          "metadata": {},
          "execution_count": 161
        }
      ]
    },
    {
      "cell_type": "code",
      "source": [
        "for similar_word, _ in model.most_similar('school', topn=20):\n",
        "  print(similar_word)"
      ],
      "metadata": {
        "colab": {
          "base_uri": "https://localhost:8080/"
        },
        "id": "7cfu6gASIZQw",
        "outputId": "85c5f5e5-10ad-427d-9336-6a886cab3430"
      },
      "execution_count": 165,
      "outputs": [
        {
          "output_type": "stream",
          "name": "stdout",
          "text": [
            "schools\n",
            "college\n",
            "isd\n",
            "schoolers\n",
            "holsey\n",
            "academy\n",
            "fhs\n",
            "education\n",
            "preschool\n",
            "schooler\n",
            "curriculum\n",
            "students\n",
            "grades\n",
            "campus\n",
            "colleges\n",
            "collegiate\n",
            "gymnasium\n",
            "student\n",
            "fairhills\n",
            "prep\n"
          ]
        }
      ]
    },
    {
      "cell_type": "code",
      "source": [
        "for similar_word, _ in model.most_similar('city', topn=20):\n",
        "  print(similar_word)"
      ],
      "metadata": {
        "colab": {
          "base_uri": "https://localhost:8080/"
        },
        "id": "HEKlQ0wLL2je",
        "outputId": "20de0ef5-681b-4b41-fcb5-f38c2b43582e"
      },
      "execution_count": 166,
      "outputs": [
        {
          "output_type": "stream",
          "name": "stdout",
          "text": [
            "town\n",
            "topeka\n",
            "downtown\n",
            "suburban\n",
            "area\n",
            "suburb\n",
            "conurbation\n",
            "borough\n",
            "cities\n",
            "neighborhoods\n",
            "suburbs\n",
            "municipal\n",
            "neighborhood\n",
            "etobicoke\n",
            "neighbourhood\n",
            "bluffs\n",
            "metro\n",
            "state\n",
            "waterfront\n",
            "metropolitan\n"
          ]
        }
      ]
    },
    {
      "cell_type": "code",
      "source": [
        "keys = ['year', 'school', 'city', 'university', 'school', 'team', 'film']\n",
        "embedding_clusters = []\n",
        "word_clusters = []\n",
        "for word in keys:\n",
        "  embeddings = []\n",
        "  words = []\n",
        "  for similar_word, _ in model.most_similar(word, topn=20):\n",
        "    words.append(similar_word)\n",
        "    embeddings.append(model[similar_word])\n",
        "  embedding_clusters.append(embeddings)\n",
        "  word_clusters.append(words)"
      ],
      "metadata": {
        "id": "CNLPEs4hMymn"
      },
      "execution_count": 169,
      "outputs": []
    },
    {
      "cell_type": "code",
      "source": [
        "len(word_clusters), len(word_clusters[0])"
      ],
      "metadata": {
        "colab": {
          "base_uri": "https://localhost:8080/"
        },
        "id": "xKt3B3-FPVch",
        "outputId": "ba0ceddd-1614-43bb-a795-033deddbafdf"
      },
      "execution_count": 172,
      "outputs": [
        {
          "output_type": "execute_result",
          "data": {
            "text/plain": [
              "(7, 20)"
            ]
          },
          "metadata": {},
          "execution_count": 172
        }
      ]
    },
    {
      "cell_type": "code",
      "source": [
        "word_clusters[0]"
      ],
      "metadata": {
        "colab": {
          "base_uri": "https://localhost:8080/"
        },
        "id": "wjTUp-r-PgNp",
        "outputId": "c106b363-2c2a-4068-8ae7-6450bb9e70df"
      },
      "execution_count": 173,
      "outputs": [
        {
          "output_type": "execute_result",
          "data": {
            "text/plain": [
              "['month',\n",
              " 'week',\n",
              " 'decade',\n",
              " 'years',\n",
              " 'day',\n",
              " 'season',\n",
              " 'months',\n",
              " 'seasons',\n",
              " 'fortnight',\n",
              " 'days',\n",
              " 'weeks',\n",
              " 'weekend',\n",
              " 'time',\n",
              " 'decades',\n",
              " 'semester',\n",
              " 'summer',\n",
              " 'evening',\n",
              " 'hour',\n",
              " 'rounds',\n",
              " 'offseason']"
            ]
          },
          "metadata": {},
          "execution_count": 173
        }
      ]
    },
    {
      "cell_type": "code",
      "source": [
        "embedding_clusters[0].shape"
      ],
      "metadata": {
        "colab": {
          "base_uri": "https://localhost:8080/"
        },
        "id": "quRTUnUCPnjV",
        "outputId": "382d5aee-2bc7-4f4b-880c-320178067b29"
      },
      "execution_count": 191,
      "outputs": [
        {
          "output_type": "execute_result",
          "data": {
            "text/plain": [
              "(20, 100)"
            ]
          },
          "metadata": {},
          "execution_count": 191
        }
      ]
    },
    {
      "cell_type": "code",
      "source": [
        "embedding_clusters = np.array(embedding_clusters)\n",
        "n, m, k = embedding_clusters.shape\n",
        "tsne_model_en_2d = manifold.TSNE(perplexity=5, n_components=2, init='pca', n_iter=250, random_state=32)\n",
        "embeddings_en_2d = np.array(tsne_model_en_2d.fit_transform(embedding_clusters.reshape(n*m, k))).reshape(n, m, 2)"
      ],
      "metadata": {
        "id": "8Y1rFiYTL-H7"
      },
      "execution_count": 184,
      "outputs": []
    },
    {
      "cell_type": "code",
      "source": [
        "embeddings_en_2d.shape"
      ],
      "metadata": {
        "colab": {
          "base_uri": "https://localhost:8080/"
        },
        "id": "KGGHx3wCPmlY",
        "outputId": "60ff48b8-21c7-4c25-fe76-dd7c778bd94f"
      },
      "execution_count": 186,
      "outputs": [
        {
          "output_type": "execute_result",
          "data": {
            "text/plain": [
              "(7, 20, 2)"
            ]
          },
          "metadata": {},
          "execution_count": 186
        }
      ]
    },
    {
      "cell_type": "code",
      "source": [
        "def tsne_plot_similar_words(lables, embedding_clusters, word_clusters, a=0.7):\n",
        "  plt.figure(figsize=(16, 9))\n",
        "  for label, embeddings, words in zip(lables, embedding_clusters, word_clusters):\n",
        "    x = embeddings[:, 0]\n",
        "    y = embeddings[:, 1]\n",
        "    plt.scatter(x, y, alpha=a, label=label)\n",
        "    for i, word in enumerate(words):\n",
        "      plt.annotate(word, alpha=a-0.2, xy=(x[i], y[i]), xytext=(5, 2),\n",
        "                   textcoords='offset points', ha='right', va='bottom', size=8)\n",
        "  plt.legend(loc=4)\n",
        "  plt.grid(True)\n",
        "  plt.show()"
      ],
      "metadata": {
        "id": "4OmqusCBQ6P6"
      },
      "execution_count": 187,
      "outputs": []
    },
    {
      "cell_type": "code",
      "source": [
        "tsne_plot_similar_words(vocab_without_stopwords, embeddings_en_2d, word_clusters)"
      ],
      "metadata": {
        "colab": {
          "base_uri": "https://localhost:8080/",
          "height": 376
        },
        "id": "BYtupPRwRFN0",
        "outputId": "dba16b3f-887b-44d1-fc81-f096ad5cfa38"
      },
      "execution_count": 189,
      "outputs": [
        {
          "output_type": "display_data",
          "data": {
            "text/plain": [
              "<Figure size 1152x648 with 1 Axes>"
            ],
            "image/png": "[encoded data removed]"
          },
          "metadata": {
            "needs_background": "light"
          }
        }
      ]
    },
    {
      "cell_type": "code",
      "source": [
        "tsne_model_en_2d = manifold.TSNE(perplexity=25, n_components=2, init='pca', n_iter=1500, random_state=32)\n",
        "embeddings_en_2d = np.array(tsne_model_en_2d.fit_transform(embedding_clusters.reshape(n*m, k))).reshape(n, m, 2)\n",
        "tsne_plot_similar_words(vocab_without_stopwords, embeddings_en_2d, word_clusters)"
      ],
      "metadata": {
        "colab": {
          "base_uri": "https://localhost:8080/",
          "height": 374
        },
        "id": "r9Qad4XUSBZN",
        "outputId": "35d86301-30d0-4677-cf69-bc9e4046b5b3"
      },
      "execution_count": 192,
      "outputs": [
        {
          "output_type": "display_data",
          "data": {
            "text/plain": [
              "<Figure size 1152x648 with 1 Axes>"
            ],
            "image/png": "[encoded data removed]"
          },
          "metadata": {
            "needs_background": "light"
          }
        }
      ]
    },
    {
      "cell_type": "code",
      "source": [
        "tsne_model_en_2d = manifold.TSNE(perplexity=50, n_components=2, init='pca', n_iter=1500, random_state=32)\n",
        "embeddings_en_2d = np.array(tsne_model_en_2d.fit_transform(embedding_clusters.reshape(n*m, k))).reshape(n, m, 2)\n",
        "tsne_plot_similar_words(vocab_without_stopwords, embeddings_en_2d, word_clusters)"
      ],
      "metadata": {
        "colab": {
          "base_uri": "https://localhost:8080/",
          "height": 374
        },
        "id": "J-rsMsVwSOTV",
        "outputId": "baa64a1c-d671-4702-e262-9aa036252ee0"
      },
      "execution_count": 193,
      "outputs": [
        {
          "output_type": "display_data",
          "data": {
            "text/plain": [
              "<Figure size 1152x648 with 1 Axes>"
            ],
            "image/png": "[encoded data removed]"
          },
          "metadata": {
            "needs_background": "light"
          }
        }
      ]
    },
    {
      "cell_type": "markdown",
      "source": [
        "Visualizing Embeddings using TensorBoard\n",
        "\n",
        "\n"
      ],
      "metadata": {
        "id": "nnqnlri1Stn5"
      }
    }
  ]
}