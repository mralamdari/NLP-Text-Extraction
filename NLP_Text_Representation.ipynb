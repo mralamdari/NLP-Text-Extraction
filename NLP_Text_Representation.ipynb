{
  "nbformat": 4,
  "nbformat_minor": 0,
  "metadata": {
    "colab": {
      "name": "NLP-Text-Representation.ipynb",
      "provenance": [],
      "collapsed_sections": [
        "S5MlCyq2KO1Q",
        "jyNEVeY0TmOB",
        "VF4hwtRvZ-wz",
        "3ynA35BNiZaG",
        "XTLQICn-snjF"
      ],
      "authorship_tag": "ABX9TyPWXa3D3ey0xVmH0Rarofbi",
      "include_colab_link": true
    },
    "kernelspec": {
      "name": "python3",
      "display_name": "Python 3"
    },
    "language_info": {
      "name": "python"
    }
  },
  "cells": [
    {
      "cell_type": "markdown",
      "metadata": {
        "id": "view-in-github",
        "colab_type": "text"
      },
      "source": [
        "<a href=\"https://colab.research.google.com/github/mralamdari/NLP-Text-Processing/blob/main/NLP_Text_Representation.ipynb\" target=\"_parent\"><img src=\"https://colab.research.google.com/assets/colab-badge.svg\" alt=\"Open In Colab\"/></a>"
      ]
    },
    {
      "cell_type": "code",
      "source": [
        "import spacy\n",
        "import sklearn\n",
        "import numpy as np\n",
        "import matplotlib.pyplot as plt"
      ],
      "metadata": {
        "id": "MqnMcJM9Jjzn"
      },
      "execution_count": 1,
      "outputs": []
    },
    {
      "cell_type": "code",
      "execution_count": 2,
      "metadata": {
        "id": "LfUmtheDIjmY",
        "colab": {
          "base_uri": "https://localhost:8080/"
        },
        "outputId": "de2c1595-7c59-4971-a7bb-705cff0abebd"
      },
      "outputs": [
        {
          "output_type": "execute_result",
          "data": {
            "text/plain": [
              "['dog bites man', 'man bites dog', 'dog eats meat', 'man eats food']"
            ]
          },
          "metadata": {},
          "execution_count": 2
        }
      ],
      "source": [
        "documents = [\"Dog bites man.\", \"Man bites dog.\", \"Dog eats meat.\", \"Man eats food.\"]\n",
        "documents = [sentence.lower().replace('.', '') for sentence in documents]\n",
        "documents"
      ]
    },
    {
      "cell_type": "markdown",
      "source": [
        "###One-Hot Encoding"
      ],
      "metadata": {
        "id": "S5MlCyq2KO1Q"
      }
    },
    {
      "cell_type": "code",
      "source": [
        "#Vocabulary\n",
        "all_words = []\n",
        "for sentence in documents:\n",
        "  all_words.extend(sentence.split())\n",
        "\n",
        "unique_words = set(all_words)\n",
        "vocab = dict(zip(unique_words, range(len(unique_words))))\n",
        "vocab"
      ],
      "metadata": {
        "colab": {
          "base_uri": "https://localhost:8080/"
        },
        "id": "AAQ_lSjAJsBR",
        "outputId": "06992357-622e-4d9c-873f-c2088b51668a"
      },
      "execution_count": 3,
      "outputs": [
        {
          "output_type": "execute_result",
          "data": {
            "text/plain": [
              "{'bites': 0, 'dog': 2, 'eats': 5, 'food': 1, 'man': 3, 'meat': 4}"
            ]
          },
          "metadata": {},
          "execution_count": 3
        }
      ]
    },
    {
      "cell_type": "code",
      "source": [
        "#onehot creator\n",
        "def onehot_creator(sentence):\n",
        "  sentence = sentence.lower().split()\n",
        "  onehot_encoded = np.zeros((len(sentence), len(vocab)))\n",
        "  for i, word in enumerate(sentence):\n",
        "    word_id = vocab.get(word)\n",
        "    if word_id != None:\n",
        "      onehot_encoded[i][word_id] = 1\n",
        "  return onehot_encoded"
      ],
      "metadata": {
        "id": "WTC9WRaRMA4h"
      },
      "execution_count": 4,
      "outputs": []
    },
    {
      "cell_type": "code",
      "source": [
        "onehot_creator(\"Dog bites man\")"
      ],
      "metadata": {
        "colab": {
          "base_uri": "https://localhost:8080/"
        },
        "id": "HE5iDapoMyAr",
        "outputId": "9b49df15-d021-4e02-945d-ae456202ee49"
      },
      "execution_count": 5,
      "outputs": [
        {
          "output_type": "execute_result",
          "data": {
            "text/plain": [
              "array([[0., 0., 1., 0., 0., 0.],\n",
              "       [1., 0., 0., 0., 0., 0.],\n",
              "       [0., 0., 0., 1., 0., 0.]])"
            ]
          },
          "metadata": {},
          "execution_count": 5
        }
      ]
    },
    {
      "cell_type": "code",
      "source": [
        "test_sample = \"Dog bites man and then eates meat\"\n",
        "onehot_creator(test_sample)"
      ],
      "metadata": {
        "colab": {
          "base_uri": "https://localhost:8080/"
        },
        "id": "5oj44WL7My03",
        "outputId": "657133af-d301-4e17-e644-b1327a21529c"
      },
      "execution_count": 6,
      "outputs": [
        {
          "output_type": "execute_result",
          "data": {
            "text/plain": [
              "array([[0., 0., 1., 0., 0., 0.],\n",
              "       [1., 0., 0., 0., 0., 0.],\n",
              "       [0., 0., 0., 1., 0., 0.],\n",
              "       [0., 0., 0., 0., 0., 0.],\n",
              "       [0., 0., 0., 0., 0., 0.],\n",
              "       [0., 0., 0., 0., 0., 0.],\n",
              "       [0., 0., 0., 0., 1., 0.]])"
            ]
          },
          "metadata": {},
          "execution_count": 6
        }
      ]
    },
    {
      "cell_type": "markdown",
      "source": [
        "One Hot Encoding with Scikit-learn"
      ],
      "metadata": {
        "id": "QHgdrTeISCoR"
      }
    },
    {
      "cell_type": "code",
      "source": [
        "from sklearn import preprocessing"
      ],
      "metadata": {
        "id": "dFjjVstdRi0f"
      },
      "execution_count": 7,
      "outputs": []
    },
    {
      "cell_type": "code",
      "source": [
        "label_encoder = preprocessing.LabelEncoder()\n",
        "onehot_encoder = preprocessing.OneHotEncoder()"
      ],
      "metadata": {
        "id": "ps0279CQSV4S"
      },
      "execution_count": 8,
      "outputs": []
    },
    {
      "cell_type": "code",
      "source": [
        "label_encoder.fit_transform(all_words)"
      ],
      "metadata": {
        "colab": {
          "base_uri": "https://localhost:8080/"
        },
        "id": "qtzroWoxSxT-",
        "outputId": "7feb717e-66b4-4bc5-89f1-3eb4ab4134fb"
      },
      "execution_count": 9,
      "outputs": [
        {
          "output_type": "execute_result",
          "data": {
            "text/plain": [
              "array([1, 0, 4, 4, 0, 1, 1, 2, 5, 4, 2, 3])"
            ]
          },
          "metadata": {},
          "execution_count": 9
        }
      ]
    },
    {
      "cell_type": "code",
      "source": [
        "onehot_encoder.fit_transform(np.array(all_words).reshape(-1, 1)).toarray()"
      ],
      "metadata": {
        "colab": {
          "base_uri": "https://localhost:8080/"
        },
        "id": "nv9A6wiSS_Wf",
        "outputId": "da7d46ef-cea7-4d9a-a357-73f6b271730a"
      },
      "execution_count": 10,
      "outputs": [
        {
          "output_type": "execute_result",
          "data": {
            "text/plain": [
              "array([[0., 1., 0., 0., 0., 0.],\n",
              "       [1., 0., 0., 0., 0., 0.],\n",
              "       [0., 0., 0., 0., 1., 0.],\n",
              "       [0., 0., 0., 0., 1., 0.],\n",
              "       [1., 0., 0., 0., 0., 0.],\n",
              "       [0., 1., 0., 0., 0., 0.],\n",
              "       [0., 1., 0., 0., 0., 0.],\n",
              "       [0., 0., 1., 0., 0., 0.],\n",
              "       [0., 0., 0., 0., 0., 1.],\n",
              "       [0., 0., 0., 0., 1., 0.],\n",
              "       [0., 0., 1., 0., 0., 0.],\n",
              "       [0., 0., 0., 1., 0., 0.]])"
            ]
          },
          "metadata": {},
          "execution_count": 10
        }
      ]
    },
    {
      "cell_type": "markdown",
      "source": [
        "###Bag of Words (BoW)"
      ],
      "metadata": {
        "id": "jyNEVeY0TmOB"
      }
    },
    {
      "cell_type": "code",
      "source": [
        "from sklearn import feature_extraction"
      ],
      "metadata": {
        "id": "ph7oM6KeTELQ"
      },
      "execution_count": 11,
      "outputs": []
    },
    {
      "cell_type": "code",
      "source": [
        "count_vect = feature_extraction.text.CountVectorizer()"
      ],
      "metadata": {
        "id": "M7YdSiY2U038"
      },
      "execution_count": 12,
      "outputs": []
    },
    {
      "cell_type": "code",
      "source": [
        "bow_representation = count_vect.fit_transform(documents)"
      ],
      "metadata": {
        "id": "vXVvDSG_VCgl"
      },
      "execution_count": 13,
      "outputs": []
    },
    {
      "cell_type": "code",
      "source": [
        "count_vect.vocabulary_"
      ],
      "metadata": {
        "colab": {
          "base_uri": "https://localhost:8080/"
        },
        "id": "wLWdFRIbVQ7a",
        "outputId": "4e40afa7-6e9c-412b-daff-a68bab53c340"
      },
      "execution_count": 14,
      "outputs": [
        {
          "output_type": "execute_result",
          "data": {
            "text/plain": [
              "{'bites': 0, 'dog': 1, 'eats': 2, 'food': 3, 'man': 4, 'meat': 5}"
            ]
          },
          "metadata": {},
          "execution_count": 14
        }
      ]
    },
    {
      "cell_type": "code",
      "source": [
        "for rep in bow_representation:\n",
        "  print(rep.toarray())"
      ],
      "metadata": {
        "colab": {
          "base_uri": "https://localhost:8080/"
        },
        "id": "XcZ8NZQOVdDU",
        "outputId": "ac2d82c7-887f-4a2c-93da-10a449df48cf"
      },
      "execution_count": 15,
      "outputs": [
        {
          "output_type": "stream",
          "name": "stdout",
          "text": [
            "[[1 1 0 0 1 0]]\n",
            "[[1 1 0 0 1 0]]\n",
            "[[0 1 1 0 0 1]]\n",
            "[[0 0 1 1 1 0]]\n"
          ]
        }
      ]
    },
    {
      "cell_type": "code",
      "source": [
        "count_vect.transform([test_sample]).toarray()"
      ],
      "metadata": {
        "colab": {
          "base_uri": "https://localhost:8080/"
        },
        "id": "dsHcV6bnVpth",
        "outputId": "50bdfd5c-86c6-4fec-aca4-02dd8d09bc99"
      },
      "execution_count": 16,
      "outputs": [
        {
          "output_type": "execute_result",
          "data": {
            "text/plain": [
              "array([[1, 1, 0, 0, 1, 1]])"
            ]
          },
          "metadata": {},
          "execution_count": 16
        }
      ]
    },
    {
      "cell_type": "markdown",
      "source": [
        "BoW with Binary vectors"
      ],
      "metadata": {
        "id": "mmrQ_XEAWmh2"
      }
    },
    {
      "cell_type": "code",
      "source": [
        "binary_count_vector = feature_extraction.text.CountVectorizer(binary=True)\n",
        "binary_count_vector.fit(documents)"
      ],
      "metadata": {
        "colab": {
          "base_uri": "https://localhost:8080/"
        },
        "id": "0Y6JPR5fWwZT",
        "outputId": "4dc1d920-7357-4f0d-ba6e-eb1886aa5065"
      },
      "execution_count": 17,
      "outputs": [
        {
          "output_type": "execute_result",
          "data": {
            "text/plain": [
              "CountVectorizer(binary=True)"
            ]
          },
          "metadata": {},
          "execution_count": 17
        }
      ]
    },
    {
      "cell_type": "code",
      "source": [
        "binary_count_vector.transform([test_sample]).toarray()"
      ],
      "metadata": {
        "colab": {
          "base_uri": "https://localhost:8080/"
        },
        "id": "NKHp7RP8XHwV",
        "outputId": "337067a0-4cb9-4c1e-eb70-48ccdd709685"
      },
      "execution_count": 18,
      "outputs": [
        {
          "output_type": "execute_result",
          "data": {
            "text/plain": [
              "array([[1, 1, 0, 0, 1, 1]])"
            ]
          },
          "metadata": {},
          "execution_count": 18
        }
      ]
    },
    {
      "cell_type": "markdown",
      "source": [
        "###Bag of N-Grams (BoN)"
      ],
      "metadata": {
        "id": "VF4hwtRvZ-wz"
      }
    },
    {
      "cell_type": "code",
      "source": [
        "count_vect = feature_extraction.text.CountVectorizer(ngram_range=(1, 3))"
      ],
      "metadata": {
        "id": "2v7NduONZ_Lh"
      },
      "execution_count": 19,
      "outputs": []
    },
    {
      "cell_type": "code",
      "source": [
        "bon_representation = count_vect.fit_transform(documents)"
      ],
      "metadata": {
        "id": "MC6j-goVbloV"
      },
      "execution_count": 20,
      "outputs": []
    },
    {
      "cell_type": "code",
      "source": [
        "count_vect.vocabulary_"
      ],
      "metadata": {
        "colab": {
          "base_uri": "https://localhost:8080/"
        },
        "id": "1sAp7v8Bbmfq",
        "outputId": "1aba6786-9f95-43b3-94a3-c420db3c0b21"
      },
      "execution_count": 21,
      "outputs": [
        {
          "output_type": "execute_result",
          "data": {
            "text/plain": [
              "{'bites': 0,\n",
              " 'bites dog': 1,\n",
              " 'bites man': 2,\n",
              " 'dog': 3,\n",
              " 'dog bites': 4,\n",
              " 'dog bites man': 5,\n",
              " 'dog eats': 6,\n",
              " 'dog eats meat': 7,\n",
              " 'eats': 8,\n",
              " 'eats food': 9,\n",
              " 'eats meat': 10,\n",
              " 'food': 11,\n",
              " 'man': 12,\n",
              " 'man bites': 13,\n",
              " 'man bites dog': 14,\n",
              " 'man eats': 15,\n",
              " 'man eats food': 16,\n",
              " 'meat': 17}"
            ]
          },
          "metadata": {},
          "execution_count": 21
        }
      ]
    },
    {
      "cell_type": "code",
      "source": [
        "for rep in bow_representation:\n",
        "  print(rep.toarray())"
      ],
      "metadata": {
        "colab": {
          "base_uri": "https://localhost:8080/"
        },
        "id": "1ZcCLbfbboNC",
        "outputId": "7c44a2f5-cf46-4528-ff11-6a71e3d45c4b"
      },
      "execution_count": 22,
      "outputs": [
        {
          "output_type": "stream",
          "name": "stdout",
          "text": [
            "[[1 1 0 0 1 0]]\n",
            "[[1 1 0 0 1 0]]\n",
            "[[0 1 1 0 0 1]]\n",
            "[[0 0 1 1 1 0]]\n"
          ]
        }
      ]
    },
    {
      "cell_type": "code",
      "source": [
        "count_vect.transform([test_sample]).toarray()"
      ],
      "metadata": {
        "colab": {
          "base_uri": "https://localhost:8080/"
        },
        "id": "xP1fA2lpgr7_",
        "outputId": "80ae791d-7724-4b0c-8209-12a5d28c8f60"
      },
      "execution_count": 23,
      "outputs": [
        {
          "output_type": "execute_result",
          "data": {
            "text/plain": [
              "array([[1, 0, 1, 1, 1, 1, 0, 0, 0, 0, 0, 0, 1, 0, 0, 0, 0, 1]])"
            ]
          },
          "metadata": {},
          "execution_count": 23
        }
      ]
    },
    {
      "cell_type": "markdown",
      "source": [
        "###TF-IDF"
      ],
      "metadata": {
        "id": "3ynA35BNiZaG"
      }
    },
    {
      "cell_type": "code",
      "source": [
        "tfidf = feature_extraction.text.TfidfVectorizer()"
      ],
      "metadata": {
        "id": "Vj32tE8Yg7A-"
      },
      "execution_count": 24,
      "outputs": []
    },
    {
      "cell_type": "code",
      "source": [
        "bow_rep_tfidf = tfidf.fit_transform(documents)"
      ],
      "metadata": {
        "id": "Mf1QSVRjinXD"
      },
      "execution_count": 25,
      "outputs": []
    },
    {
      "cell_type": "code",
      "source": [
        "bow_rep_tfidf.toarray()"
      ],
      "metadata": {
        "colab": {
          "base_uri": "https://localhost:8080/"
        },
        "id": "nNQ-xmPbivXF",
        "outputId": "61f0e4c5-9a9c-437e-f43d-69a49c60a2ed"
      },
      "execution_count": 26,
      "outputs": [
        {
          "output_type": "execute_result",
          "data": {
            "text/plain": [
              "array([[0.65782931, 0.53256952, 0.        , 0.        , 0.53256952,\n",
              "        0.        ],\n",
              "       [0.65782931, 0.53256952, 0.        , 0.        , 0.53256952,\n",
              "        0.        ],\n",
              "       [0.        , 0.44809973, 0.55349232, 0.        , 0.        ,\n",
              "        0.70203482],\n",
              "       [0.        , 0.        , 0.55349232, 0.70203482, 0.44809973,\n",
              "        0.        ]])"
            ]
          },
          "metadata": {},
          "execution_count": 26
        }
      ]
    },
    {
      "cell_type": "code",
      "source": [
        "#Idf for Vocabulary Words\n",
        "tfidf.idf_"
      ],
      "metadata": {
        "colab": {
          "base_uri": "https://localhost:8080/"
        },
        "id": "lUdArJIciwmG",
        "outputId": "173b0e3b-78b8-4aff-fb36-dfb1a9fc6013"
      },
      "execution_count": 27,
      "outputs": [
        {
          "output_type": "execute_result",
          "data": {
            "text/plain": [
              "array([1.51082562, 1.22314355, 1.51082562, 1.91629073, 1.22314355,\n",
              "       1.91629073])"
            ]
          },
          "metadata": {},
          "execution_count": 27
        }
      ]
    },
    {
      "cell_type": "code",
      "source": [
        "#Vocabulary Words\n",
        "tfidf.get_feature_names()"
      ],
      "metadata": {
        "colab": {
          "base_uri": "https://localhost:8080/"
        },
        "id": "_sKHEepejLGj",
        "outputId": "d6a2b9b2-a9f8-4307-a53d-4f19e640e8f4"
      },
      "execution_count": 28,
      "outputs": [
        {
          "output_type": "stream",
          "name": "stderr",
          "text": [
            "/usr/local/lib/python3.7/dist-packages/sklearn/utils/deprecation.py:87: FutureWarning: Function get_feature_names is deprecated; get_feature_names is deprecated in 1.0 and will be removed in 1.2. Please use get_feature_names_out instead.\n",
            "  warnings.warn(msg, category=FutureWarning)\n"
          ]
        },
        {
          "output_type": "execute_result",
          "data": {
            "text/plain": [
              "['bites', 'dog', 'eats', 'food', 'man', 'meat']"
            ]
          },
          "metadata": {},
          "execution_count": 28
        }
      ]
    },
    {
      "cell_type": "code",
      "source": [
        "tfidf.transform([test_sample]).toarray()"
      ],
      "metadata": {
        "colab": {
          "base_uri": "https://localhost:8080/"
        },
        "id": "W7iYoWVbjSok",
        "outputId": "d061e87b-b1d0-413a-cf5b-81f16fad6260"
      },
      "execution_count": 29,
      "outputs": [
        {
          "output_type": "execute_result",
          "data": {
            "text/plain": [
              "array([[0.5051001 , 0.40892206, 0.        , 0.        , 0.40892206,\n",
              "        0.64065543]])"
            ]
          },
          "metadata": {},
          "execution_count": 29
        }
      ]
    },
    {
      "cell_type": "markdown",
      "source": [
        "###Word2Vec"
      ],
      "metadata": {
        "id": "XTLQICn-snjF"
      }
    },
    {
      "cell_type": "markdown",
      "source": [
        "####Embeddings using Spacy"
      ],
      "metadata": {
        "id": "vr0_duCb5rd8"
      }
    },
    {
      "cell_type": "code",
      "source": [
        "!python -m spacy download en_core_web_md"
      ],
      "metadata": {
        "id": "uYxgX7dtvYbN"
      },
      "execution_count": null,
      "outputs": []
    },
    {
      "cell_type": "code",
      "source": [
        "import spacy"
      ],
      "metadata": {
        "id": "3IlS7aGqxCqF"
      },
      "execution_count": 31,
      "outputs": []
    },
    {
      "cell_type": "code",
      "source": [
        "nlp = spacy.load('en_core_web_md')"
      ],
      "metadata": {
        "id": "Zrxf1SlG4VpN"
      },
      "execution_count": 32,
      "outputs": []
    },
    {
      "cell_type": "code",
      "source": [
        "doc = nlp('i love pizza')"
      ],
      "metadata": {
        "id": "b_2WxAStxciT"
      },
      "execution_count": 33,
      "outputs": []
    },
    {
      "cell_type": "code",
      "source": [
        "doc.vector"
      ],
      "metadata": {
        "colab": {
          "base_uri": "https://localhost:8080/"
        },
        "id": "s_vJ_tkS3Nnw",
        "outputId": "6b9d353b-6727-40ea-9a6a-f71d5e6f7a9a"
      },
      "execution_count": 34,
      "outputs": [
        {
          "output_type": "execute_result",
          "data": {
            "text/plain": [
              "array([ 1.11230902e-01,  2.41379991e-01, -1.61966667e-01, -3.14129978e-01,\n",
              "        1.05768003e-01,  3.91543359e-01,  3.54509979e-01, -1.27896652e-01,\n",
              "        1.70420006e-01,  1.69123328e+00, -6.31393373e-01,  1.69920668e-01,\n",
              "        7.96566680e-02, -1.29133360e-02, -1.50936663e-01,  1.39993383e-02,\n",
              "       -1.84084341e-01,  1.19740999e+00, -2.22010016e-01,  2.34284341e-01,\n",
              "        2.44166657e-01, -3.25873703e-01,  2.53593326e-01, -1.86454996e-01,\n",
              "        1.27480000e-01,  4.88123260e-02, -3.57987314e-01, -2.18866989e-01,\n",
              "        2.98794001e-01, -2.83073336e-02, -1.92849990e-02,  2.78633356e-01,\n",
              "       -1.75589994e-01,  1.30146667e-01,  9.73366722e-02,  1.38193667e-01,\n",
              "       -2.25796700e-02, -1.12435341e-01, -3.15516651e-01,  2.65180707e-01,\n",
              "       -1.24165334e-01,  1.74489990e-01,  1.08916335e-01,  9.63599980e-02,\n",
              "        2.16483325e-02,  5.32136679e-01, -2.61241674e-01,  2.68553346e-01,\n",
              "        6.79000234e-03, -9.15016606e-02, -2.10650012e-01, -4.78706658e-02,\n",
              "        1.10848665e-01, -8.40806589e-02,  1.75191328e-01,  3.65736671e-02,\n",
              "       -2.83703983e-01, -2.09925339e-01,  1.33019999e-01,  5.85173331e-02,\n",
              "       -1.55589327e-01, -2.78515339e-01, -1.92952991e-01,  1.39500007e-01,\n",
              "        1.00963367e-02, -5.74236333e-01,  5.20366663e-03,  1.75650001e-01,\n",
              "       -3.16434354e-02,  6.08799839e-03, -9.18086693e-02,  2.83870012e-01,\n",
              "       -2.60533299e-02,  1.54799724e-03, -2.87366714e-02,  1.74294338e-01,\n",
              "       -1.09751008e-01,  7.53910020e-02,  5.20623326e-02,  1.86183333e-01,\n",
              "        2.76756674e-01,  1.32749990e-01,  2.53932983e-01, -2.42943332e-01,\n",
              "        9.98433307e-02, -1.75691798e-01,  6.33720696e-01, -1.95393339e-01,\n",
              "        1.81266665e-02, -1.13929994e-01, -2.06568316e-01, -1.79595336e-01,\n",
              "       -1.62299991e-01,  1.30263316e-02,  1.79328993e-01,  3.20605308e-01,\n",
              "        1.93750069e-01,  1.11956328e-01, -1.98403314e-01, -4.45556752e-02,\n",
              "       -2.10523322e-01, -1.47883341e-01,  2.12536678e-01,  1.12560004e-01,\n",
              "        8.94693360e-02, -3.54791999e-01,  4.00125980e-01, -2.14694336e-01,\n",
              "       -7.33820051e-02, -6.46256730e-02,  5.72613329e-02, -4.17568356e-01,\n",
              "       -1.30208790e-01, -2.97082007e-01,  2.68494338e-01, -1.60678998e-01,\n",
              "        9.68393385e-02,  7.92703331e-02, -9.40166712e-02, -3.06733442e-03,\n",
              "        1.80108324e-01,  2.17663255e-02,  1.78046659e-01,  5.46826608e-02,\n",
              "        3.32096666e-01,  1.83946669e-01,  2.59866327e-01, -5.28383292e-02,\n",
              "       -7.48046637e-02,  3.02080005e-01, -1.25839993e-01, -1.81833327e-01,\n",
              "       -2.43196666e-01,  1.57144174e-01,  5.43735437e-02, -2.18789339e-01,\n",
              "       -2.86983341e-01, -1.79447338e-01, -6.73046634e-02, -1.67968646e-01,\n",
              "       -2.92063332e+00, -5.42890020e-02,  3.16956669e-01,  1.90795317e-01,\n",
              "       -2.96250015e-01, -2.11915329e-01, -3.60329986e-01,  3.55949998e-01,\n",
              "        1.77500043e-02, -2.89146692e-01, -9.40866843e-02,  1.12967961e-01,\n",
              "        1.76783323e-01,  1.13562338e-01,  1.67890325e-01, -1.39806673e-01,\n",
              "       -7.42266700e-02, -1.57998011e-01,  3.60000022e-02,  3.22833359e-02,\n",
              "       -7.06223249e-02,  7.55523294e-02, -5.78323342e-02, -4.72463071e-02,\n",
              "       -5.86876683e-02, -1.04455672e-01,  1.37143329e-01, -1.00895651e-01,\n",
              "        1.20572001e-01,  6.64023384e-02, -1.72782347e-01, -1.07498668e-01,\n",
              "        1.87446669e-01, -5.05176663e-01, -3.21856737e-02, -2.44533014e-03,\n",
              "       -2.62850314e-01,  8.79673436e-02, -2.12996677e-01, -4.45286661e-01,\n",
              "        2.03050002e-01, -1.71679661e-01, -1.13406502e-01, -7.97733292e-02,\n",
              "       -1.01568334e-01, -1.33566661e-02, -2.40480006e-01, -1.58593342e-01,\n",
              "        4.65073287e-02, -6.14933437e-03, -3.70326750e-02, -4.03843336e-02,\n",
              "       -2.79070020e-01, -5.51526666e-01,  1.42301992e-01,  9.02286693e-02,\n",
              "        2.76946664e-01, -2.54420012e-01,  1.00670338e-01,  5.21633327e-02,\n",
              "       -1.64929003e-01, -1.99686661e-01, -5.53316660e-02,  5.87373339e-02,\n",
              "        2.20459998e-01,  4.50769961e-02, -7.14366660e-02,  2.47953773e-01,\n",
              "        1.57386661e-01, -1.02807008e-01, -9.29903388e-02,  2.00539336e-01,\n",
              "       -1.39426008e-01, -1.18276656e-01,  5.72346635e-02,  7.86933377e-02,\n",
              "        1.29290000e-01, -3.21063668e-01, -9.43466648e-02,  2.56933331e-01,\n",
              "        2.92033348e-02,  1.24360703e-01, -3.95794325e-02, -1.11829996e-01,\n",
              "       -1.62315995e-01,  9.09233093e-03, -1.58766672e-01,  1.05978340e-01,\n",
              "       -8.51566568e-02, -2.73006648e-01, -3.05083334e-01,  1.20972998e-01,\n",
              "        2.26399899e-02, -1.60215333e-01, -8.60573351e-02, -2.83356696e-01,\n",
              "       -2.53699988e-01, -1.72716334e-01, -2.07618654e-01,  3.27096671e-01,\n",
              "        2.84953326e-01,  1.50356337e-01, -1.60417676e-01,  9.24500003e-02,\n",
              "        1.13646664e-01, -1.23333931e-03,  4.69633453e-02, -1.08343333e-01,\n",
              "       -2.29665339e-01,  1.83683351e-01,  2.25600004e-01, -2.93786675e-01,\n",
              "       -2.72659987e-01, -8.92019942e-02,  1.32473335e-01,  2.17590019e-01,\n",
              "       -5.39667904e-04, -2.01319978e-02, -2.57983327e-01, -2.22668663e-01,\n",
              "        3.87873389e-02,  4.03889976e-02, -2.46453345e-01, -9.06300023e-02,\n",
              "       -5.22469990e-02,  1.97413325e-01, -2.75529921e-02,  2.31733680e-01,\n",
              "       -3.13059986e-01,  2.87919998e-01, -4.11521286e-01,  1.18246675e-02,\n",
              "       -4.25020009e-01,  1.66090995e-01, -1.69416010e-01,  1.08877897e-01,\n",
              "       -8.12156647e-02, -1.61245331e-01,  2.23529145e-01,  3.07986647e-01,\n",
              "        1.59966663e-01, -1.94840327e-01, -4.15566601e-02, -2.64743362e-02,\n",
              "        1.80076677e-02,  3.26669335e-01,  5.56143343e-01,  2.74059981e-01,\n",
              "       -2.16080010e-01, -1.21616321e-02,  2.35469997e-01,  1.09729342e-01,\n",
              "       -2.12286338e-01,  6.12907410e-02,  9.97443274e-02, -2.05437660e-01,\n",
              "        3.54403369e-02, -1.45925999e-01,  1.28802672e-01,  4.38833326e-01],\n",
              "      dtype=float32)"
            ]
          },
          "metadata": {},
          "execution_count": 34
        }
      ]
    },
    {
      "cell_type": "code",
      "source": [
        "doc[0].vector"
      ],
      "metadata": {
        "colab": {
          "base_uri": "https://localhost:8080/"
        },
        "id": "_vsyEN4M3ZsV",
        "outputId": "5b55b670-3fb6-4311-f1f0-e8856f20db7a"
      },
      "execution_count": 35,
      "outputs": [
        {
          "output_type": "execute_result",
          "data": {
            "text/plain": [
              "array([ 1.8733e-01,  4.0595e-01, -5.1174e-01, -5.5482e-01,  3.9716e-02,\n",
              "        1.2887e-01,  4.5137e-01, -5.9149e-01,  1.5591e-01,  1.5137e+00,\n",
              "       -8.7020e-01,  5.0672e-02,  1.5211e-01, -1.9183e-01,  1.1181e-01,\n",
              "        1.2131e-01, -2.7212e-01,  1.6203e+00, -2.4884e-01,  1.4060e-01,\n",
              "        3.3099e-01, -1.8061e-02,  1.5244e-01, -2.6943e-01, -2.7833e-01,\n",
              "       -5.2123e-02, -4.8149e-01, -5.1839e-01,  8.6262e-02,  3.0818e-02,\n",
              "       -2.1253e-01, -1.1378e-01, -2.2384e-01,  1.8262e-01, -3.4541e-01,\n",
              "        8.2611e-02,  1.0024e-01, -7.9550e-02, -8.1721e-01,  6.5621e-03,\n",
              "        8.0134e-02, -3.9976e-01, -6.3131e-02,  3.2260e-01, -3.1625e-02,\n",
              "        4.3056e-01, -2.7270e-01, -7.6020e-02,  1.0293e-01, -8.8653e-02,\n",
              "       -2.9087e-01, -4.7214e-02,  4.6036e-02, -1.7788e-02,  6.4990e-02,\n",
              "        8.8451e-02, -3.1574e-01, -5.8522e-01,  2.2295e-01, -5.2785e-02,\n",
              "       -5.5981e-01, -3.9580e-01, -7.9849e-02, -1.0933e-02, -4.1722e-02,\n",
              "       -5.5576e-01,  8.8707e-02,  1.3710e-01, -2.9873e-03, -2.6256e-02,\n",
              "        7.7330e-02,  3.9199e-01,  3.4507e-01, -8.0130e-02,  3.3451e-01,\n",
              "        2.7063e-01, -2.4544e-02,  7.2576e-02, -1.8120e-01,  2.3693e-01,\n",
              "        3.9977e-01,  4.5012e-01,  2.7179e-02,  2.7400e-01,  1.4791e-01,\n",
              "       -5.8324e-03,  9.5910e-01, -1.0129e+00,  2.0699e-01,  1.8237e-01,\n",
              "       -2.5234e-01, -2.6261e-01, -3.4799e-01, -2.4051e-02,  4.4470e-01,\n",
              "        5.9226e-02,  4.5561e-01,  1.9700e-01, -4.8327e-01,  8.9523e-02,\n",
              "       -2.2373e-01, -1.5654e-01,  2.1578e-01,  1.1673e-01,  8.2006e-02,\n",
              "       -8.0735e-01,  2.3903e-01, -5.1304e-01, -3.3888e-01, -3.1499e-01,\n",
              "       -1.7272e-01, -6.7020e-01,  2.7096e-01, -4.3241e-01,  4.3103e-02,\n",
              "        2.1233e-02,  1.3350e-02, -6.3938e-02, -2.4957e-01, -2.4938e-01,\n",
              "        3.4812e-01, -7.1321e-02,  2.3375e-01, -9.5384e-02,  5.2488e-01,\n",
              "        6.8175e-01, -1.0214e-01, -1.4914e-01, -7.5697e-02,  1.7248e-01,\n",
              "        2.5440e-01,  1.5760e-01, -5.9125e-01,  2.4300e-01,  6.3962e-01,\n",
              "       -9.3280e-02, -2.7914e-01, -6.6262e-02, -6.7170e-02, -4.0929e-01,\n",
              "       -3.0300e+00,  1.8250e-01,  2.0113e-01,  6.0628e-02, -2.4769e-01,\n",
              "        5.5324e-02, -4.9106e-01,  3.1544e-01, -3.4231e-01, -6.3766e-01,\n",
              "       -3.6129e-01, -5.9029e-02,  1.5510e-01,  4.4577e-02,  2.3572e-01,\n",
              "       -1.7095e-01, -2.2749e-01, -2.3184e-02,  2.3868e-01,  2.8170e-02,\n",
              "        4.2965e-01, -1.2458e-01, -3.6972e-02,  2.0061e-01, -3.1405e-01,\n",
              "       -8.5287e-02, -3.3496e-01, -9.7047e-02, -1.4388e-01,  1.1147e-01,\n",
              "       -4.5232e-01, -2.4217e-01, -1.8245e-01, -6.7292e-01,  2.1933e-02,\n",
              "       -5.4816e-02, -4.6508e-01,  4.7767e-01, -2.4752e-01, -1.5790e-01,\n",
              "        1.1817e-01,  5.6851e-02, -4.9151e-01,  1.5496e-01,  1.6425e-02,\n",
              "        4.1650e-02, -3.4990e-01, -1.5979e-01,  3.9705e-01,  2.2963e-01,\n",
              "        2.4688e-01,  1.9567e-02, -2.8802e-01, -6.9983e-01,  3.2744e-01,\n",
              "        1.0833e-01,  2.4945e-01, -7.8653e-01, -6.1379e-02, -3.7359e-01,\n",
              "       -1.1603e-01, -2.4950e-01,  1.0161e-01,  3.3994e-02,  1.5650e-01,\n",
              "        2.1344e-01, -1.1094e-01, -5.7687e-03,  1.7869e-01, -1.0127e-01,\n",
              "       -1.6891e-02,  3.0001e-01, -3.4116e-01, -3.2390e-02,  4.2514e-02,\n",
              "        1.1850e-01, -1.8337e-01, -6.2865e-01, -2.8021e-01,  4.2351e-01,\n",
              "        1.1277e-01,  1.2121e-03,  1.5710e-01, -3.6321e-01, -4.9251e-01,\n",
              "        1.1653e-01,  2.4024e-01,  1.7712e-01,  6.8700e-02, -4.4137e-01,\n",
              "       -2.9877e-01, -1.2071e-02,  2.8325e-01,  1.0668e-01, -1.8859e-01,\n",
              "       -4.1345e-01, -3.4090e-01,  4.7236e-02, -3.8309e-01,  4.3572e-01,\n",
              "        2.4505e-01,  2.7337e-01, -7.3038e-02,  4.2514e-01, -3.2455e-02,\n",
              "       -3.5211e-01,  4.5691e-01,  1.9433e-01, -1.5230e-01,  4.2675e-01,\n",
              "        2.8795e-01, -5.5969e-01, -1.3031e-01,  8.9844e-02,  4.2605e-01,\n",
              "       -1.9632e-01, -7.1989e-02, -8.0189e-02, -3.0425e-01, -4.6190e-01,\n",
              "        2.8178e-01, -9.9872e-02,  3.5097e-01,  1.6123e-01, -3.6548e-02,\n",
              "       -3.6739e-01, -1.9819e-02,  3.2130e-01,  1.7479e-01,  2.5175e-01,\n",
              "       -7.6439e-03, -9.3786e-02, -3.7852e-01,  4.3725e-01,  2.1288e-01,\n",
              "        2.5096e-01, -1.9613e-01, -2.8865e-01, -5.6726e-03,  4.2795e-01,\n",
              "        2.0625e-01, -3.7701e-02, -1.2200e-01, -7.9253e-02, -1.0290e-01,\n",
              "        1.0558e-02,  4.9880e-01,  2.5382e-01,  1.5526e-01,  1.7951e-03,\n",
              "        1.1633e-01,  7.9300e-02, -3.9142e-01, -3.2483e-01,  6.3451e-01,\n",
              "       -1.8910e-01,  5.4050e-02,  1.6495e-01,  1.8757e-01,  5.3874e-01],\n",
              "      dtype=float32)"
            ]
          },
          "metadata": {},
          "execution_count": 35
        }
      ]
    },
    {
      "cell_type": "markdown",
      "source": [
        "####Embeddings using Gensim"
      ],
      "metadata": {
        "id": "qIXrLtVP4yzD"
      }
    },
    {
      "cell_type": "code",
      "source": [
        "import gensim\n",
        "corpus = [['dog','bites','man'], [\"man\", \"bites\" ,\"dog\"],[\"dog\",\"eats\",\"meat\"],[\"man\", \"eats\",\"food\"]]"
      ],
      "metadata": {
        "id": "ZxuSR_N75N1N"
      },
      "execution_count": 36,
      "outputs": []
    },
    {
      "cell_type": "markdown",
      "source": [
        "#####Continuous Bag of Words (CBOW)\n"
      ],
      "metadata": {
        "id": "6kMyZGPg7L3y"
      }
    },
    {
      "cell_type": "code",
      "source": [
        "model_cbow = gensim.models.Word2Vec(corpus, min_count=1, sg=0) "
      ],
      "metadata": {
        "id": "v_9M0Quf5lrG"
      },
      "execution_count": 37,
      "outputs": []
    },
    {
      "cell_type": "code",
      "source": [
        "words = list(model_cbow.wv.vocab)\n",
        "print(words)"
      ],
      "metadata": {
        "colab": {
          "base_uri": "https://localhost:8080/"
        },
        "id": "hAmiFKaG6NBT",
        "outputId": "31440616-b6cc-4ad2-c6d9-e9078770fdab"
      },
      "execution_count": 38,
      "outputs": [
        {
          "output_type": "stream",
          "name": "stdout",
          "text": [
            "['dog', 'bites', 'man', 'eats', 'meat', 'food']\n"
          ]
        }
      ]
    },
    {
      "cell_type": "code",
      "source": [
        "model_cbow['meat']"
      ],
      "metadata": {
        "colab": {
          "base_uri": "https://localhost:8080/"
        },
        "id": "WjtdujhA6XsK",
        "outputId": "7cd11ca2-38e5-4574-d5a6-6d27a89edf39"
      },
      "execution_count": 39,
      "outputs": [
        {
          "output_type": "stream",
          "name": "stderr",
          "text": [
            "/usr/local/lib/python3.7/dist-packages/ipykernel_launcher.py:1: DeprecationWarning: Call to deprecated `__getitem__` (Method will be removed in 4.0.0, use self.wv.__getitem__() instead).\n",
            "  \"\"\"Entry point for launching an IPython kernel.\n"
          ]
        },
        {
          "output_type": "execute_result",
          "data": {
            "text/plain": [
              "array([-0.00348223,  0.00274166,  0.00286569, -0.00024953, -0.0027612 ,\n",
              "        0.00016903,  0.0036551 ,  0.00111108,  0.00233274,  0.00089957,\n",
              "        0.00081475,  0.00447297,  0.00022637, -0.0015832 , -0.00177419,\n",
              "        0.00248535, -0.0040132 , -0.00499565,  0.00205056,  0.00194684,\n",
              "        0.0001828 , -0.00046876, -0.00216897, -0.00419755,  0.00100626,\n",
              "       -0.00095996, -0.00153622, -0.00092589, -0.00281605,  0.00158246,\n",
              "        0.00190902,  0.00040479, -0.00016452,  0.00042426,  0.00166272,\n",
              "       -0.00488523,  0.00156547,  0.0004393 , -0.00257476, -0.00397822,\n",
              "       -0.00226262,  0.0019594 ,  0.00471237, -0.00407758, -0.00204773,\n",
              "       -0.00217647, -0.00128273,  0.00415247, -0.00298349,  0.00143813,\n",
              "       -0.00385219, -0.00218028,  0.00466753,  0.00132019, -0.00132702,\n",
              "        0.00292814,  0.00131277,  0.00174935,  0.00332778, -0.00029809,\n",
              "       -0.00308627, -0.00291407, -0.00210095,  0.00454491, -0.0048104 ,\n",
              "       -0.00186057, -0.00131231, -0.00338939,  0.00372805, -0.00024439,\n",
              "       -0.00237971, -0.00173464, -0.00350508,  0.00060397, -0.00075224,\n",
              "       -0.00070549,  0.00364141, -0.0011102 ,  0.00420146, -0.00033696,\n",
              "       -0.00022121, -0.00160198,  0.00467585, -0.00476082, -0.00180316,\n",
              "        0.00369121,  0.00370696,  0.00338274, -0.00487455,  0.00427043,\n",
              "       -0.00386699, -0.00301867,  0.00114578, -0.00404733, -0.00196349,\n",
              "       -0.00208673, -0.00141137,  0.00142641, -0.00010757,  0.00348067],\n",
              "      dtype=float32)"
            ]
          },
          "metadata": {},
          "execution_count": 39
        }
      ]
    },
    {
      "cell_type": "code",
      "source": [
        "model_cbow.similarity('bites', 'eats')"
      ],
      "metadata": {
        "colab": {
          "base_uri": "https://localhost:8080/"
        },
        "id": "5q-6LNqJ6jD4",
        "outputId": "ec50ba37-b9a1-4294-bd78-920db93a79a0"
      },
      "execution_count": 40,
      "outputs": [
        {
          "output_type": "stream",
          "name": "stderr",
          "text": [
            "/usr/local/lib/python3.7/dist-packages/ipykernel_launcher.py:1: DeprecationWarning: Call to deprecated `similarity` (Method will be removed in 4.0.0, use self.wv.similarity() instead).\n",
            "  \"\"\"Entry point for launching an IPython kernel.\n"
          ]
        },
        {
          "output_type": "execute_result",
          "data": {
            "text/plain": [
              "0.018700752"
            ]
          },
          "metadata": {},
          "execution_count": 40
        }
      ]
    },
    {
      "cell_type": "code",
      "source": [
        "model_cbow.similarity('dog', 'eats')"
      ],
      "metadata": {
        "colab": {
          "base_uri": "https://localhost:8080/"
        },
        "id": "dvoDbTlt6vlX",
        "outputId": "2fdf2265-5af4-4d3b-b3c3-12b442385bb3"
      },
      "execution_count": 41,
      "outputs": [
        {
          "output_type": "stream",
          "name": "stderr",
          "text": [
            "/usr/local/lib/python3.7/dist-packages/ipykernel_launcher.py:1: DeprecationWarning: Call to deprecated `similarity` (Method will be removed in 4.0.0, use self.wv.similarity() instead).\n",
            "  \"\"\"Entry point for launching an IPython kernel.\n"
          ]
        },
        {
          "output_type": "execute_result",
          "data": {
            "text/plain": [
              "-0.18652296"
            ]
          },
          "metadata": {},
          "execution_count": 41
        }
      ]
    },
    {
      "cell_type": "code",
      "source": [
        "model_cbow.similarity('meat', 'eats')"
      ],
      "metadata": {
        "colab": {
          "base_uri": "https://localhost:8080/"
        },
        "id": "xu9DOPEK639x",
        "outputId": "d8d4b502-ee27-485f-a717-1134a3980154"
      },
      "execution_count": 42,
      "outputs": [
        {
          "output_type": "stream",
          "name": "stderr",
          "text": [
            "/usr/local/lib/python3.7/dist-packages/ipykernel_launcher.py:1: DeprecationWarning: Call to deprecated `similarity` (Method will be removed in 4.0.0, use self.wv.similarity() instead).\n",
            "  \"\"\"Entry point for launching an IPython kernel.\n"
          ]
        },
        {
          "output_type": "execute_result",
          "data": {
            "text/plain": [
              "0.012212791"
            ]
          },
          "metadata": {},
          "execution_count": 42
        }
      ]
    },
    {
      "cell_type": "code",
      "source": [
        "model_cbow.save('cbow_model.bin')"
      ],
      "metadata": {
        "id": "sC7VmATH7TDD"
      },
      "execution_count": 43,
      "outputs": []
    },
    {
      "cell_type": "code",
      "source": [
        "model_cbow = gensim.models.Word2Vec.load('cbow_model.bin')"
      ],
      "metadata": {
        "id": "EaKOtw5M7hdc"
      },
      "execution_count": 44,
      "outputs": []
    },
    {
      "cell_type": "markdown",
      "source": [
        "#####SkipGram"
      ],
      "metadata": {
        "id": "8-IHPxAA7SsQ"
      }
    },
    {
      "cell_type": "code",
      "source": [
        "model_skipgram = gensim.models.Word2Vec(corpus, min_count=1, sg=1)"
      ],
      "metadata": {
        "id": "2IlrKIZm7DCF"
      },
      "execution_count": 45,
      "outputs": []
    },
    {
      "cell_type": "code",
      "source": [
        "words = list(model_skipgram.wv.vocab)\n",
        "print(words)"
      ],
      "metadata": {
        "colab": {
          "base_uri": "https://localhost:8080/"
        },
        "id": "kFnlEkNy78YZ",
        "outputId": "8fcad3d7-99d0-4983-d0b6-2eead94054c1"
      },
      "execution_count": 46,
      "outputs": [
        {
          "output_type": "stream",
          "name": "stdout",
          "text": [
            "['dog', 'bites', 'man', 'eats', 'meat', 'food']\n"
          ]
        }
      ]
    },
    {
      "cell_type": "code",
      "source": [
        "model_skipgram['man']"
      ],
      "metadata": {
        "colab": {
          "base_uri": "https://localhost:8080/"
        },
        "id": "8bEAjMBi8wgu",
        "outputId": "96aaf4f9-be8f-4672-f6c6-d5e12ab12b6f"
      },
      "execution_count": 47,
      "outputs": [
        {
          "output_type": "stream",
          "name": "stderr",
          "text": [
            "/usr/local/lib/python3.7/dist-packages/ipykernel_launcher.py:1: DeprecationWarning: Call to deprecated `__getitem__` (Method will be removed in 4.0.0, use self.wv.__getitem__() instead).\n",
            "  \"\"\"Entry point for launching an IPython kernel.\n"
          ]
        },
        {
          "output_type": "execute_result",
          "data": {
            "text/plain": [
              "array([-2.0112637e-03,  4.6612024e-03,  2.3878811e-05,  1.3731554e-03,\n",
              "       -2.0678404e-03, -3.6847231e-03, -2.1829552e-03, -6.3940813e-04,\n",
              "        2.7256953e-03,  3.1432479e-03,  3.4235683e-03, -4.8793722e-03,\n",
              "       -3.3713137e-03,  1.4868978e-03,  3.5669198e-03,  2.3784512e-03,\n",
              "        1.4670979e-04,  9.1529329e-04,  1.0346138e-03, -1.2632761e-03,\n",
              "        3.8981244e-03, -1.8848220e-03, -3.3825007e-03,  4.1506458e-03,\n",
              "        4.9111829e-04, -3.4495068e-03, -3.8652134e-03,  2.8149204e-03,\n",
              "       -4.9288641e-03,  3.9023457e-03,  1.3927063e-03,  3.6816704e-03,\n",
              "       -3.8061489e-03, -1.9930471e-03, -1.0662479e-03,  6.0274446e-04,\n",
              "        7.6384575e-04,  6.1616849e-04, -6.1438896e-04,  3.0194691e-03,\n",
              "        4.1772745e-04, -2.8730193e-03,  4.1851439e-03,  4.2853854e-03,\n",
              "       -2.3214680e-03, -1.0146014e-03, -3.7481105e-03,  2.9782655e-03,\n",
              "       -2.2786264e-03, -2.0994677e-03, -4.1740588e-03, -2.8265764e-03,\n",
              "        4.0045881e-04, -3.0477790e-03, -5.4128142e-04, -1.0910128e-03,\n",
              "       -3.2148270e-03,  1.4722606e-03,  1.7782146e-03, -3.7808597e-04,\n",
              "       -4.7907294e-03, -1.7613285e-03, -1.7706308e-04,  1.8077200e-04,\n",
              "        7.6292659e-04,  1.0284799e-03,  9.1447931e-04, -4.7864956e-03,\n",
              "        4.5862454e-03, -4.9410779e-03,  5.6724180e-04, -4.2264140e-03,\n",
              "       -7.4079121e-04, -3.3604396e-03,  2.2077141e-03,  8.6643570e-04,\n",
              "        1.4708344e-03, -2.8410051e-03, -4.6402705e-03,  1.6507736e-03,\n",
              "        4.5664557e-03,  4.9491841e-03, -1.3867269e-03, -4.9060630e-03,\n",
              "       -3.9082654e-03,  2.3951463e-03, -4.5155277e-03,  1.3719010e-03,\n",
              "        1.1868818e-03,  4.8261993e-03,  4.0296284e-03, -1.4363686e-04,\n",
              "        2.3682655e-03,  2.0280485e-03, -4.0485444e-03, -2.9201240e-03,\n",
              "       -4.6464084e-03,  4.6767070e-04, -1.1560741e-03,  2.3808362e-04],\n",
              "      dtype=float32)"
            ]
          },
          "metadata": {},
          "execution_count": 47
        }
      ]
    },
    {
      "cell_type": "code",
      "source": [
        "model_skipgram.similarity('bites', 'eats')"
      ],
      "metadata": {
        "colab": {
          "base_uri": "https://localhost:8080/"
        },
        "id": "6PNGJQCM80aR",
        "outputId": "5386275f-7c10-422d-cd5a-1954ad46bb26"
      },
      "execution_count": 48,
      "outputs": [
        {
          "output_type": "stream",
          "name": "stderr",
          "text": [
            "/usr/local/lib/python3.7/dist-packages/ipykernel_launcher.py:1: DeprecationWarning: Call to deprecated `similarity` (Method will be removed in 4.0.0, use self.wv.similarity() instead).\n",
            "  \"\"\"Entry point for launching an IPython kernel.\n"
          ]
        },
        {
          "output_type": "execute_result",
          "data": {
            "text/plain": [
              "0.018704321"
            ]
          },
          "metadata": {},
          "execution_count": 48
        }
      ]
    },
    {
      "cell_type": "code",
      "source": [
        "model_skipgram.similarity('dog', 'eats')"
      ],
      "metadata": {
        "colab": {
          "base_uri": "https://localhost:8080/"
        },
        "id": "t8rNTzQn8-Dh",
        "outputId": "b5168d5a-b88b-4411-c0f9-38e147b9ff42"
      },
      "execution_count": 49,
      "outputs": [
        {
          "output_type": "stream",
          "name": "stderr",
          "text": [
            "/usr/local/lib/python3.7/dist-packages/ipykernel_launcher.py:1: DeprecationWarning: Call to deprecated `similarity` (Method will be removed in 4.0.0, use self.wv.similarity() instead).\n",
            "  \"\"\"Entry point for launching an IPython kernel.\n"
          ]
        },
        {
          "output_type": "execute_result",
          "data": {
            "text/plain": [
              "-0.18650742"
            ]
          },
          "metadata": {},
          "execution_count": 49
        }
      ]
    },
    {
      "cell_type": "code",
      "source": [
        "model_skipgram.similarity('meat', 'eats')"
      ],
      "metadata": {
        "colab": {
          "base_uri": "https://localhost:8080/"
        },
        "id": "weEMkaP39Aq0",
        "outputId": "5b80609d-096e-4a7e-e617-153228647424"
      },
      "execution_count": 50,
      "outputs": [
        {
          "output_type": "stream",
          "name": "stderr",
          "text": [
            "/usr/local/lib/python3.7/dist-packages/ipykernel_launcher.py:1: DeprecationWarning: Call to deprecated `similarity` (Method will be removed in 4.0.0, use self.wv.similarity() instead).\n",
            "  \"\"\"Entry point for launching an IPython kernel.\n"
          ]
        },
        {
          "output_type": "execute_result",
          "data": {
            "text/plain": [
              "0.01214213"
            ]
          },
          "metadata": {},
          "execution_count": 50
        }
      ]
    },
    {
      "cell_type": "code",
      "source": [
        "model_skipgram.save('skipgram_model.bin')"
      ],
      "metadata": {
        "id": "wqHa7slF9Bik"
      },
      "execution_count": 51,
      "outputs": []
    },
    {
      "cell_type": "code",
      "source": [
        "model_skipgram = gensim.models.Word2Vec.load('skipgram_model.bin')"
      ],
      "metadata": {
        "id": "h7YYxzmR9d3J"
      },
      "execution_count": 52,
      "outputs": []
    },
    {
      "cell_type": "markdown",
      "source": [
        "###Document Vectors"
      ],
      "metadata": {
        "id": "TNZxb7IT34FF"
      }
    },
    {
      "cell_type": "code",
      "source": [
        ""
      ],
      "metadata": {
        "id": "2nhGe_lE34ow"
      },
      "execution_count": 52,
      "outputs": []
    }
  ]
}