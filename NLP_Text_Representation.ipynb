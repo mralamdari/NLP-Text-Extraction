{
  "nbformat": 4,
  "nbformat_minor": 0,
  "metadata": {
    "colab": {
      "name": "NLP-Text-Representation.ipynb",
      "provenance": [],
      "collapsed_sections": [
        "S5MlCyq2KO1Q",
        "jyNEVeY0TmOB",
        "VF4hwtRvZ-wz",
        "3ynA35BNiZaG",
        "vr0_duCb5rd8"
      ],
      "authorship_tag": "ABX9TyNBW2ItVfXUTBPGTFd9BUfj",
      "include_colab_link": true
    },
    "kernelspec": {
      "name": "python3",
      "display_name": "Python 3"
    },
    "language_info": {
      "name": "python"
    }
  },
  "cells": [
    {
      "cell_type": "markdown",
      "metadata": {
        "id": "view-in-github",
        "colab_type": "text"
      },
      "source": [
        "<a href=\"https://colab.research.google.com/github/mralamdari/NLP-Text-Processing/blob/main/NLP_Text_Representation.ipynb\" target=\"_parent\"><img src=\"https://colab.research.google.com/assets/colab-badge.svg\" alt=\"Open In Colab\"/></a>"
      ]
    },
    {
      "cell_type": "code",
      "source": [
        "import spacy\n",
        "import sklearn\n",
        "import numpy as np\n",
        "import matplotlib.pyplot as plt"
      ],
      "metadata": {
        "id": "MqnMcJM9Jjzn"
      },
      "execution_count": 1,
      "outputs": []
    },
    {
      "cell_type": "code",
      "execution_count": 2,
      "metadata": {
        "id": "LfUmtheDIjmY",
        "colab": {
          "base_uri": "https://localhost:8080/"
        },
        "outputId": "563e81dc-22f2-4e04-aa7c-fcfba0736501"
      },
      "outputs": [
        {
          "output_type": "execute_result",
          "data": {
            "text/plain": [
              "['dog bites man', 'man bites dog', 'dog eats meat', 'man eats food']"
            ]
          },
          "metadata": {},
          "execution_count": 2
        }
      ],
      "source": [
        "documents = [\"Dog bites man.\", \"Man bites dog.\", \"Dog eats meat.\", \"Man eats food.\"]\n",
        "documents = [sentence.lower().replace('.', '') for sentence in documents]\n",
        "documents"
      ]
    },
    {
      "cell_type": "markdown",
      "source": [
        "###One-Hot Encoding"
      ],
      "metadata": {
        "id": "S5MlCyq2KO1Q"
      }
    },
    {
      "cell_type": "code",
      "source": [
        "#Vocabulary\n",
        "all_words = []\n",
        "for sentence in documents:\n",
        "  all_words.extend(sentence.split())\n",
        "\n",
        "unique_words = set(all_words)\n",
        "vocab = dict(zip(unique_words, range(len(unique_words))))\n",
        "vocab"
      ],
      "metadata": {
        "colab": {
          "base_uri": "https://localhost:8080/"
        },
        "id": "AAQ_lSjAJsBR",
        "outputId": "1c9e8d6f-a816-448a-fcd8-ccb51cf8f5b9"
      },
      "execution_count": 9,
      "outputs": [
        {
          "output_type": "execute_result",
          "data": {
            "text/plain": [
              "{'bites': 0, 'dog': 1, 'eats': 4, 'food': 5, 'man': 3, 'meat': 2}"
            ]
          },
          "metadata": {},
          "execution_count": 9
        }
      ]
    },
    {
      "cell_type": "code",
      "source": [
        "#onehot creator\n",
        "def onehot_creator(sentence):\n",
        "  sentence = sentence.lower().split()\n",
        "  onehot_encoded = np.zeros((len(sentence), len(vocab)))\n",
        "  for i, word in enumerate(sentence):\n",
        "    word_id = vocab.get(word)\n",
        "    if word_id != None:\n",
        "      onehot_encoded[i][word_id] = 1\n",
        "  return onehot_encoded"
      ],
      "metadata": {
        "id": "WTC9WRaRMA4h"
      },
      "execution_count": 38,
      "outputs": []
    },
    {
      "cell_type": "code",
      "source": [
        "onehot_creator(\"Dog bites man\")"
      ],
      "metadata": {
        "colab": {
          "base_uri": "https://localhost:8080/"
        },
        "id": "HE5iDapoMyAr",
        "outputId": "0ccf781b-c08e-4882-89ef-4cce81e1ab5b"
      },
      "execution_count": 40,
      "outputs": [
        {
          "output_type": "execute_result",
          "data": {
            "text/plain": [
              "array([[0., 1., 0., 0., 0., 0.],\n",
              "       [1., 0., 0., 0., 0., 0.],\n",
              "       [0., 0., 0., 1., 0., 0.]])"
            ]
          },
          "metadata": {},
          "execution_count": 40
        }
      ]
    },
    {
      "cell_type": "code",
      "source": [
        "test_sample = \"Dog bites man and then eates meat\"\n",
        "onehot_creator(test_sample)"
      ],
      "metadata": {
        "colab": {
          "base_uri": "https://localhost:8080/"
        },
        "id": "5oj44WL7My03",
        "outputId": "5443b5d2-bf59-4594-8aae-73f1b992eba7"
      },
      "execution_count": 66,
      "outputs": [
        {
          "output_type": "execute_result",
          "data": {
            "text/plain": [
              "array([[0., 1., 0., 0., 0., 0.],\n",
              "       [1., 0., 0., 0., 0., 0.],\n",
              "       [0., 0., 0., 1., 0., 0.],\n",
              "       [0., 0., 0., 0., 0., 0.],\n",
              "       [0., 0., 0., 0., 0., 0.],\n",
              "       [0., 0., 0., 0., 0., 0.],\n",
              "       [0., 0., 1., 0., 0., 0.]])"
            ]
          },
          "metadata": {},
          "execution_count": 66
        }
      ]
    },
    {
      "cell_type": "markdown",
      "source": [
        "One Hot Encoding with Scikit-learn"
      ],
      "metadata": {
        "id": "QHgdrTeISCoR"
      }
    },
    {
      "cell_type": "code",
      "source": [
        "from sklearn import preprocessing"
      ],
      "metadata": {
        "id": "dFjjVstdRi0f"
      },
      "execution_count": 42,
      "outputs": []
    },
    {
      "cell_type": "code",
      "source": [
        "label_encoder = preprocessing.LabelEncoder()\n",
        "onehot_encoder = preprocessing.OneHotEncoder()"
      ],
      "metadata": {
        "id": "ps0279CQSV4S"
      },
      "execution_count": 43,
      "outputs": []
    },
    {
      "cell_type": "code",
      "source": [
        "label_encoder.fit_transform(all_words)"
      ],
      "metadata": {
        "colab": {
          "base_uri": "https://localhost:8080/"
        },
        "id": "qtzroWoxSxT-",
        "outputId": "1e689c5e-b707-464b-cef1-435c77062e3e"
      },
      "execution_count": 44,
      "outputs": [
        {
          "output_type": "execute_result",
          "data": {
            "text/plain": [
              "array([1, 0, 4, 4, 0, 1, 1, 2, 5, 4, 2, 3])"
            ]
          },
          "metadata": {},
          "execution_count": 44
        }
      ]
    },
    {
      "cell_type": "code",
      "source": [
        "onehot_encoder.fit_transform(np.array(all_words).reshape(-1, 1)).toarray()"
      ],
      "metadata": {
        "colab": {
          "base_uri": "https://localhost:8080/"
        },
        "id": "nv9A6wiSS_Wf",
        "outputId": "57f6a79a-92ce-420d-c7dd-e11c25e69b3b"
      },
      "execution_count": 50,
      "outputs": [
        {
          "output_type": "execute_result",
          "data": {
            "text/plain": [
              "array([[0., 1., 0., 0., 0., 0.],\n",
              "       [1., 0., 0., 0., 0., 0.],\n",
              "       [0., 0., 0., 0., 1., 0.],\n",
              "       [0., 0., 0., 0., 1., 0.],\n",
              "       [1., 0., 0., 0., 0., 0.],\n",
              "       [0., 1., 0., 0., 0., 0.],\n",
              "       [0., 1., 0., 0., 0., 0.],\n",
              "       [0., 0., 1., 0., 0., 0.],\n",
              "       [0., 0., 0., 0., 0., 1.],\n",
              "       [0., 0., 0., 0., 1., 0.],\n",
              "       [0., 0., 1., 0., 0., 0.],\n",
              "       [0., 0., 0., 1., 0., 0.]])"
            ]
          },
          "metadata": {},
          "execution_count": 50
        }
      ]
    },
    {
      "cell_type": "markdown",
      "source": [
        "###Bag of Words (BoW)"
      ],
      "metadata": {
        "id": "jyNEVeY0TmOB"
      }
    },
    {
      "cell_type": "code",
      "source": [
        "from sklearn import feature_extraction"
      ],
      "metadata": {
        "id": "ph7oM6KeTELQ"
      },
      "execution_count": 51,
      "outputs": []
    },
    {
      "cell_type": "code",
      "source": [
        "count_vect = feature_extraction.text.CountVectorizer()"
      ],
      "metadata": {
        "id": "M7YdSiY2U038"
      },
      "execution_count": 52,
      "outputs": []
    },
    {
      "cell_type": "code",
      "source": [
        "bow_representation = count_vect.fit_transform(documents)"
      ],
      "metadata": {
        "id": "vXVvDSG_VCgl"
      },
      "execution_count": 54,
      "outputs": []
    },
    {
      "cell_type": "code",
      "source": [
        "count_vect.vocabulary_"
      ],
      "metadata": {
        "colab": {
          "base_uri": "https://localhost:8080/"
        },
        "id": "wLWdFRIbVQ7a",
        "outputId": "d10b7ed3-68be-4a86-8e70-a16b95a29549"
      },
      "execution_count": 56,
      "outputs": [
        {
          "output_type": "execute_result",
          "data": {
            "text/plain": [
              "{'bites': 0, 'dog': 1, 'eats': 2, 'food': 3, 'man': 4, 'meat': 5}"
            ]
          },
          "metadata": {},
          "execution_count": 56
        }
      ]
    },
    {
      "cell_type": "code",
      "source": [
        "for rep in bow_representation:\n",
        "  print(rep.toarray())"
      ],
      "metadata": {
        "colab": {
          "base_uri": "https://localhost:8080/"
        },
        "id": "XcZ8NZQOVdDU",
        "outputId": "1ba138fb-3b7c-4c35-f31a-a37bc8460154"
      },
      "execution_count": 57,
      "outputs": [
        {
          "output_type": "stream",
          "name": "stdout",
          "text": [
            "[[1 1 0 0 1 0]]\n",
            "[[1 1 0 0 1 0]]\n",
            "[[0 1 1 0 0 1]]\n",
            "[[0 0 1 1 1 0]]\n"
          ]
        }
      ]
    },
    {
      "cell_type": "code",
      "source": [
        "count_vect.transform([test_sample]).toarray()"
      ],
      "metadata": {
        "colab": {
          "base_uri": "https://localhost:8080/"
        },
        "id": "dsHcV6bnVpth",
        "outputId": "5e82cba9-5cfd-4a2c-b899-0d4c8fb3e9c1"
      },
      "execution_count": 62,
      "outputs": [
        {
          "output_type": "execute_result",
          "data": {
            "text/plain": [
              "array([[1, 1, 0, 0, 1, 1]])"
            ]
          },
          "metadata": {},
          "execution_count": 62
        }
      ]
    },
    {
      "cell_type": "markdown",
      "source": [
        "BoW with Binary vectors"
      ],
      "metadata": {
        "id": "mmrQ_XEAWmh2"
      }
    },
    {
      "cell_type": "code",
      "source": [
        "binary_count_vector = feature_extraction.text.CountVectorizer(binary=True)\n",
        "binary_count_vector.fit(documents)"
      ],
      "metadata": {
        "colab": {
          "base_uri": "https://localhost:8080/"
        },
        "id": "0Y6JPR5fWwZT",
        "outputId": "d860c866-c28a-4317-d53b-bd58c3f53d83"
      },
      "execution_count": 63,
      "outputs": [
        {
          "output_type": "execute_result",
          "data": {
            "text/plain": [
              "CountVectorizer(binary=True)"
            ]
          },
          "metadata": {},
          "execution_count": 63
        }
      ]
    },
    {
      "cell_type": "code",
      "source": [
        "binary_count_vector.transform([test_sample]).toarray()"
      ],
      "metadata": {
        "colab": {
          "base_uri": "https://localhost:8080/"
        },
        "id": "NKHp7RP8XHwV",
        "outputId": "830e05a3-c45e-4da4-d084-b7e6e4cc280f"
      },
      "execution_count": 84,
      "outputs": [
        {
          "output_type": "execute_result",
          "data": {
            "text/plain": [
              "array([[1, 1, 0, 0, 1, 1]])"
            ]
          },
          "metadata": {},
          "execution_count": 84
        }
      ]
    },
    {
      "cell_type": "markdown",
      "source": [
        "###Bag of N-Grams (BoN)"
      ],
      "metadata": {
        "id": "VF4hwtRvZ-wz"
      }
    },
    {
      "cell_type": "code",
      "source": [
        "count_vect = feature_extraction.text.CountVectorizer(ngram_range=(1, 3))"
      ],
      "metadata": {
        "id": "2v7NduONZ_Lh"
      },
      "execution_count": 78,
      "outputs": []
    },
    {
      "cell_type": "code",
      "source": [
        "bon_representation = count_vect.fit_transform(documents)"
      ],
      "metadata": {
        "id": "MC6j-goVbloV"
      },
      "execution_count": 79,
      "outputs": []
    },
    {
      "cell_type": "code",
      "source": [
        "count_vect.vocabulary_"
      ],
      "metadata": {
        "colab": {
          "base_uri": "https://localhost:8080/"
        },
        "id": "1sAp7v8Bbmfq",
        "outputId": "4f64fe14-6b4b-4e7f-ba03-178fbb20c7a8"
      },
      "execution_count": 80,
      "outputs": [
        {
          "output_type": "execute_result",
          "data": {
            "text/plain": [
              "{'bites': 0,\n",
              " 'bites dog': 1,\n",
              " 'bites man': 2,\n",
              " 'dog': 3,\n",
              " 'dog bites': 4,\n",
              " 'dog bites man': 5,\n",
              " 'dog eats': 6,\n",
              " 'dog eats meat': 7,\n",
              " 'eats': 8,\n",
              " 'eats food': 9,\n",
              " 'eats meat': 10,\n",
              " 'food': 11,\n",
              " 'man': 12,\n",
              " 'man bites': 13,\n",
              " 'man bites dog': 14,\n",
              " 'man eats': 15,\n",
              " 'man eats food': 16,\n",
              " 'meat': 17}"
            ]
          },
          "metadata": {},
          "execution_count": 80
        }
      ]
    },
    {
      "cell_type": "code",
      "source": [
        "for rep in bow_representation:\n",
        "  print(rep.toarray())"
      ],
      "metadata": {
        "colab": {
          "base_uri": "https://localhost:8080/"
        },
        "id": "1ZcCLbfbboNC",
        "outputId": "3dc089f3-7074-4ecc-f52a-26848b470db7"
      },
      "execution_count": 81,
      "outputs": [
        {
          "output_type": "stream",
          "name": "stdout",
          "text": [
            "[[1 1 0 0 1 0]]\n",
            "[[1 1 0 0 1 0]]\n",
            "[[0 1 1 0 0 1]]\n",
            "[[0 0 1 1 1 0]]\n"
          ]
        }
      ]
    },
    {
      "cell_type": "code",
      "source": [
        "count_vect.transform([test_sample]).toarray()"
      ],
      "metadata": {
        "colab": {
          "base_uri": "https://localhost:8080/"
        },
        "id": "xP1fA2lpgr7_",
        "outputId": "21e79890-a8e7-4289-ca41-0f6d6df13e40"
      },
      "execution_count": 86,
      "outputs": [
        {
          "output_type": "execute_result",
          "data": {
            "text/plain": [
              "array([[1, 0, 1, 1, 1, 1, 0, 0, 0, 0, 0, 0, 1, 0, 0, 0, 0, 1]])"
            ]
          },
          "metadata": {},
          "execution_count": 86
        }
      ]
    },
    {
      "cell_type": "markdown",
      "source": [
        "###TF-IDF"
      ],
      "metadata": {
        "id": "3ynA35BNiZaG"
      }
    },
    {
      "cell_type": "code",
      "source": [
        "tfidf = feature_extraction.text.TfidfVectorizer()"
      ],
      "metadata": {
        "id": "Vj32tE8Yg7A-"
      },
      "execution_count": 87,
      "outputs": []
    },
    {
      "cell_type": "code",
      "source": [
        "bow_rep_tfidf = tfidf.fit_transform(documents)"
      ],
      "metadata": {
        "id": "Mf1QSVRjinXD"
      },
      "execution_count": 88,
      "outputs": []
    },
    {
      "cell_type": "code",
      "source": [
        "bow_rep_tfidf.toarray()"
      ],
      "metadata": {
        "colab": {
          "base_uri": "https://localhost:8080/"
        },
        "id": "nNQ-xmPbivXF",
        "outputId": "9f10f7f6-9213-44d7-a9a0-838a791320a2"
      },
      "execution_count": 90,
      "outputs": [
        {
          "output_type": "execute_result",
          "data": {
            "text/plain": [
              "array([[0.65782931, 0.53256952, 0.        , 0.        , 0.53256952,\n",
              "        0.        ],\n",
              "       [0.65782931, 0.53256952, 0.        , 0.        , 0.53256952,\n",
              "        0.        ],\n",
              "       [0.        , 0.44809973, 0.55349232, 0.        , 0.        ,\n",
              "        0.70203482],\n",
              "       [0.        , 0.        , 0.55349232, 0.70203482, 0.44809973,\n",
              "        0.        ]])"
            ]
          },
          "metadata": {},
          "execution_count": 90
        }
      ]
    },
    {
      "cell_type": "code",
      "source": [
        "#Idf for Vocabulary Words\n",
        "tfidf.idf_"
      ],
      "metadata": {
        "colab": {
          "base_uri": "https://localhost:8080/"
        },
        "id": "lUdArJIciwmG",
        "outputId": "e7bcd7f5-17cc-4406-dbce-1fac4120982e"
      },
      "execution_count": 92,
      "outputs": [
        {
          "output_type": "execute_result",
          "data": {
            "text/plain": [
              "array([1.51082562, 1.22314355, 1.51082562, 1.91629073, 1.22314355,\n",
              "       1.91629073])"
            ]
          },
          "metadata": {},
          "execution_count": 92
        }
      ]
    },
    {
      "cell_type": "code",
      "source": [
        "#Vocabulary Words\n",
        "tfidf.get_feature_names()"
      ],
      "metadata": {
        "colab": {
          "base_uri": "https://localhost:8080/"
        },
        "id": "_sKHEepejLGj",
        "outputId": "cce32ed0-cd20-42b1-a9b9-2a79c20682d3"
      },
      "execution_count": 94,
      "outputs": [
        {
          "output_type": "stream",
          "name": "stderr",
          "text": [
            "/usr/local/lib/python3.7/dist-packages/sklearn/utils/deprecation.py:87: FutureWarning: Function get_feature_names is deprecated; get_feature_names is deprecated in 1.0 and will be removed in 1.2. Please use get_feature_names_out instead.\n",
            "  warnings.warn(msg, category=FutureWarning)\n"
          ]
        },
        {
          "output_type": "execute_result",
          "data": {
            "text/plain": [
              "['bites', 'dog', 'eats', 'food', 'man', 'meat']"
            ]
          },
          "metadata": {},
          "execution_count": 94
        }
      ]
    },
    {
      "cell_type": "code",
      "source": [
        "tfidf.transform([test_sample]).toarray()"
      ],
      "metadata": {
        "colab": {
          "base_uri": "https://localhost:8080/"
        },
        "id": "W7iYoWVbjSok",
        "outputId": "5863034b-07ac-40a0-e69a-68ce58865e90"
      },
      "execution_count": 97,
      "outputs": [
        {
          "output_type": "execute_result",
          "data": {
            "text/plain": [
              "array([[0.5051001 , 0.40892206, 0.        , 0.        , 0.40892206,\n",
              "        0.64065543]])"
            ]
          },
          "metadata": {},
          "execution_count": 97
        }
      ]
    },
    {
      "cell_type": "markdown",
      "source": [
        "###Word2Vec"
      ],
      "metadata": {
        "id": "XTLQICn-snjF"
      }
    },
    {
      "cell_type": "markdown",
      "source": [
        "####Embeddings using Spacy"
      ],
      "metadata": {
        "id": "vr0_duCb5rd8"
      }
    },
    {
      "cell_type": "code",
      "source": [
        "!python -m spacy download en_core_web_md"
      ],
      "metadata": {
        "id": "uYxgX7dtvYbN"
      },
      "execution_count": null,
      "outputs": []
    },
    {
      "cell_type": "code",
      "source": [
        "import spacy"
      ],
      "metadata": {
        "id": "3IlS7aGqxCqF"
      },
      "execution_count": 4,
      "outputs": []
    },
    {
      "cell_type": "code",
      "source": [
        "nlp = spacy.load('en_core_web_md')"
      ],
      "metadata": {
        "id": "fffDtFuHxKsw"
      },
      "execution_count": 8,
      "outputs": []
    },
    {
      "cell_type": "code",
      "source": [
        "doc = nlp('i love pizza')"
      ],
      "metadata": {
        "id": "b_2WxAStxciT"
      },
      "execution_count": 9,
      "outputs": []
    },
    {
      "cell_type": "code",
      "source": [
        "doc.vector"
      ],
      "metadata": {
        "colab": {
          "base_uri": "https://localhost:8080/"
        },
        "id": "s_vJ_tkS3Nnw",
        "outputId": "cf6b8cc1-36af-4923-a483-534e0560c3ef"
      },
      "execution_count": 11,
      "outputs": [
        {
          "output_type": "execute_result",
          "data": {
            "text/plain": [
              "array([ 1.11230902e-01,  2.41379991e-01, -1.61966667e-01, -3.14129978e-01,\n",
              "        1.05768003e-01,  3.91543359e-01,  3.54509979e-01, -1.27896652e-01,\n",
              "        1.70420006e-01,  1.69123328e+00, -6.31393373e-01,  1.69920668e-01,\n",
              "        7.96566680e-02, -1.29133360e-02, -1.50936663e-01,  1.39993383e-02,\n",
              "       -1.84084341e-01,  1.19740999e+00, -2.22010016e-01,  2.34284341e-01,\n",
              "        2.44166657e-01, -3.25873703e-01,  2.53593326e-01, -1.86454996e-01,\n",
              "        1.27480000e-01,  4.88123260e-02, -3.57987314e-01, -2.18866989e-01,\n",
              "        2.98794001e-01, -2.83073336e-02, -1.92849990e-02,  2.78633356e-01,\n",
              "       -1.75589994e-01,  1.30146667e-01,  9.73366722e-02,  1.38193667e-01,\n",
              "       -2.25796700e-02, -1.12435341e-01, -3.15516651e-01,  2.65180707e-01,\n",
              "       -1.24165334e-01,  1.74489990e-01,  1.08916335e-01,  9.63599980e-02,\n",
              "        2.16483325e-02,  5.32136679e-01, -2.61241674e-01,  2.68553346e-01,\n",
              "        6.79000234e-03, -9.15016606e-02, -2.10650012e-01, -4.78706658e-02,\n",
              "        1.10848665e-01, -8.40806589e-02,  1.75191328e-01,  3.65736671e-02,\n",
              "       -2.83703983e-01, -2.09925339e-01,  1.33019999e-01,  5.85173331e-02,\n",
              "       -1.55589327e-01, -2.78515339e-01, -1.92952991e-01,  1.39500007e-01,\n",
              "        1.00963367e-02, -5.74236333e-01,  5.20366663e-03,  1.75650001e-01,\n",
              "       -3.16434354e-02,  6.08799839e-03, -9.18086693e-02,  2.83870012e-01,\n",
              "       -2.60533299e-02,  1.54799724e-03, -2.87366714e-02,  1.74294338e-01,\n",
              "       -1.09751008e-01,  7.53910020e-02,  5.20623326e-02,  1.86183333e-01,\n",
              "        2.76756674e-01,  1.32749990e-01,  2.53932983e-01, -2.42943332e-01,\n",
              "        9.98433307e-02, -1.75691798e-01,  6.33720696e-01, -1.95393339e-01,\n",
              "        1.81266665e-02, -1.13929994e-01, -2.06568316e-01, -1.79595336e-01,\n",
              "       -1.62299991e-01,  1.30263316e-02,  1.79328993e-01,  3.20605308e-01,\n",
              "        1.93750069e-01,  1.11956328e-01, -1.98403314e-01, -4.45556752e-02,\n",
              "       -2.10523322e-01, -1.47883341e-01,  2.12536678e-01,  1.12560004e-01,\n",
              "        8.94693360e-02, -3.54791999e-01,  4.00125980e-01, -2.14694336e-01,\n",
              "       -7.33820051e-02, -6.46256730e-02,  5.72613329e-02, -4.17568356e-01,\n",
              "       -1.30208790e-01, -2.97082007e-01,  2.68494338e-01, -1.60678998e-01,\n",
              "        9.68393385e-02,  7.92703331e-02, -9.40166712e-02, -3.06733442e-03,\n",
              "        1.80108324e-01,  2.17663255e-02,  1.78046659e-01,  5.46826608e-02,\n",
              "        3.32096666e-01,  1.83946669e-01,  2.59866327e-01, -5.28383292e-02,\n",
              "       -7.48046637e-02,  3.02080005e-01, -1.25839993e-01, -1.81833327e-01,\n",
              "       -2.43196666e-01,  1.57144174e-01,  5.43735437e-02, -2.18789339e-01,\n",
              "       -2.86983341e-01, -1.79447338e-01, -6.73046634e-02, -1.67968646e-01,\n",
              "       -2.92063332e+00, -5.42890020e-02,  3.16956669e-01,  1.90795317e-01,\n",
              "       -2.96250015e-01, -2.11915329e-01, -3.60329986e-01,  3.55949998e-01,\n",
              "        1.77500043e-02, -2.89146692e-01, -9.40866843e-02,  1.12967961e-01,\n",
              "        1.76783323e-01,  1.13562338e-01,  1.67890325e-01, -1.39806673e-01,\n",
              "       -7.42266700e-02, -1.57998011e-01,  3.60000022e-02,  3.22833359e-02,\n",
              "       -7.06223249e-02,  7.55523294e-02, -5.78323342e-02, -4.72463071e-02,\n",
              "       -5.86876683e-02, -1.04455672e-01,  1.37143329e-01, -1.00895651e-01,\n",
              "        1.20572001e-01,  6.64023384e-02, -1.72782347e-01, -1.07498668e-01,\n",
              "        1.87446669e-01, -5.05176663e-01, -3.21856737e-02, -2.44533014e-03,\n",
              "       -2.62850314e-01,  8.79673436e-02, -2.12996677e-01, -4.45286661e-01,\n",
              "        2.03050002e-01, -1.71679661e-01, -1.13406502e-01, -7.97733292e-02,\n",
              "       -1.01568334e-01, -1.33566661e-02, -2.40480006e-01, -1.58593342e-01,\n",
              "        4.65073287e-02, -6.14933437e-03, -3.70326750e-02, -4.03843336e-02,\n",
              "       -2.79070020e-01, -5.51526666e-01,  1.42301992e-01,  9.02286693e-02,\n",
              "        2.76946664e-01, -2.54420012e-01,  1.00670338e-01,  5.21633327e-02,\n",
              "       -1.64929003e-01, -1.99686661e-01, -5.53316660e-02,  5.87373339e-02,\n",
              "        2.20459998e-01,  4.50769961e-02, -7.14366660e-02,  2.47953773e-01,\n",
              "        1.57386661e-01, -1.02807008e-01, -9.29903388e-02,  2.00539336e-01,\n",
              "       -1.39426008e-01, -1.18276656e-01,  5.72346635e-02,  7.86933377e-02,\n",
              "        1.29290000e-01, -3.21063668e-01, -9.43466648e-02,  2.56933331e-01,\n",
              "        2.92033348e-02,  1.24360703e-01, -3.95794325e-02, -1.11829996e-01,\n",
              "       -1.62315995e-01,  9.09233093e-03, -1.58766672e-01,  1.05978340e-01,\n",
              "       -8.51566568e-02, -2.73006648e-01, -3.05083334e-01,  1.20972998e-01,\n",
              "        2.26399899e-02, -1.60215333e-01, -8.60573351e-02, -2.83356696e-01,\n",
              "       -2.53699988e-01, -1.72716334e-01, -2.07618654e-01,  3.27096671e-01,\n",
              "        2.84953326e-01,  1.50356337e-01, -1.60417676e-01,  9.24500003e-02,\n",
              "        1.13646664e-01, -1.23333931e-03,  4.69633453e-02, -1.08343333e-01,\n",
              "       -2.29665339e-01,  1.83683351e-01,  2.25600004e-01, -2.93786675e-01,\n",
              "       -2.72659987e-01, -8.92019942e-02,  1.32473335e-01,  2.17590019e-01,\n",
              "       -5.39667904e-04, -2.01319978e-02, -2.57983327e-01, -2.22668663e-01,\n",
              "        3.87873389e-02,  4.03889976e-02, -2.46453345e-01, -9.06300023e-02,\n",
              "       -5.22469990e-02,  1.97413325e-01, -2.75529921e-02,  2.31733680e-01,\n",
              "       -3.13059986e-01,  2.87919998e-01, -4.11521286e-01,  1.18246675e-02,\n",
              "       -4.25020009e-01,  1.66090995e-01, -1.69416010e-01,  1.08877897e-01,\n",
              "       -8.12156647e-02, -1.61245331e-01,  2.23529145e-01,  3.07986647e-01,\n",
              "        1.59966663e-01, -1.94840327e-01, -4.15566601e-02, -2.64743362e-02,\n",
              "        1.80076677e-02,  3.26669335e-01,  5.56143343e-01,  2.74059981e-01,\n",
              "       -2.16080010e-01, -1.21616321e-02,  2.35469997e-01,  1.09729342e-01,\n",
              "       -2.12286338e-01,  6.12907410e-02,  9.97443274e-02, -2.05437660e-01,\n",
              "        3.54403369e-02, -1.45925999e-01,  1.28802672e-01,  4.38833326e-01],\n",
              "      dtype=float32)"
            ]
          },
          "metadata": {},
          "execution_count": 11
        }
      ]
    },
    {
      "cell_type": "code",
      "source": [
        "doc[0].vector"
      ],
      "metadata": {
        "colab": {
          "base_uri": "https://localhost:8080/"
        },
        "id": "_vsyEN4M3ZsV",
        "outputId": "99607172-cea5-4f15-ae53-7c0cd9bd5746"
      },
      "execution_count": 12,
      "outputs": [
        {
          "output_type": "execute_result",
          "data": {
            "text/plain": [
              "array([ 1.8733e-01,  4.0595e-01, -5.1174e-01, -5.5482e-01,  3.9716e-02,\n",
              "        1.2887e-01,  4.5137e-01, -5.9149e-01,  1.5591e-01,  1.5137e+00,\n",
              "       -8.7020e-01,  5.0672e-02,  1.5211e-01, -1.9183e-01,  1.1181e-01,\n",
              "        1.2131e-01, -2.7212e-01,  1.6203e+00, -2.4884e-01,  1.4060e-01,\n",
              "        3.3099e-01, -1.8061e-02,  1.5244e-01, -2.6943e-01, -2.7833e-01,\n",
              "       -5.2123e-02, -4.8149e-01, -5.1839e-01,  8.6262e-02,  3.0818e-02,\n",
              "       -2.1253e-01, -1.1378e-01, -2.2384e-01,  1.8262e-01, -3.4541e-01,\n",
              "        8.2611e-02,  1.0024e-01, -7.9550e-02, -8.1721e-01,  6.5621e-03,\n",
              "        8.0134e-02, -3.9976e-01, -6.3131e-02,  3.2260e-01, -3.1625e-02,\n",
              "        4.3056e-01, -2.7270e-01, -7.6020e-02,  1.0293e-01, -8.8653e-02,\n",
              "       -2.9087e-01, -4.7214e-02,  4.6036e-02, -1.7788e-02,  6.4990e-02,\n",
              "        8.8451e-02, -3.1574e-01, -5.8522e-01,  2.2295e-01, -5.2785e-02,\n",
              "       -5.5981e-01, -3.9580e-01, -7.9849e-02, -1.0933e-02, -4.1722e-02,\n",
              "       -5.5576e-01,  8.8707e-02,  1.3710e-01, -2.9873e-03, -2.6256e-02,\n",
              "        7.7330e-02,  3.9199e-01,  3.4507e-01, -8.0130e-02,  3.3451e-01,\n",
              "        2.7063e-01, -2.4544e-02,  7.2576e-02, -1.8120e-01,  2.3693e-01,\n",
              "        3.9977e-01,  4.5012e-01,  2.7179e-02,  2.7400e-01,  1.4791e-01,\n",
              "       -5.8324e-03,  9.5910e-01, -1.0129e+00,  2.0699e-01,  1.8237e-01,\n",
              "       -2.5234e-01, -2.6261e-01, -3.4799e-01, -2.4051e-02,  4.4470e-01,\n",
              "        5.9226e-02,  4.5561e-01,  1.9700e-01, -4.8327e-01,  8.9523e-02,\n",
              "       -2.2373e-01, -1.5654e-01,  2.1578e-01,  1.1673e-01,  8.2006e-02,\n",
              "       -8.0735e-01,  2.3903e-01, -5.1304e-01, -3.3888e-01, -3.1499e-01,\n",
              "       -1.7272e-01, -6.7020e-01,  2.7096e-01, -4.3241e-01,  4.3103e-02,\n",
              "        2.1233e-02,  1.3350e-02, -6.3938e-02, -2.4957e-01, -2.4938e-01,\n",
              "        3.4812e-01, -7.1321e-02,  2.3375e-01, -9.5384e-02,  5.2488e-01,\n",
              "        6.8175e-01, -1.0214e-01, -1.4914e-01, -7.5697e-02,  1.7248e-01,\n",
              "        2.5440e-01,  1.5760e-01, -5.9125e-01,  2.4300e-01,  6.3962e-01,\n",
              "       -9.3280e-02, -2.7914e-01, -6.6262e-02, -6.7170e-02, -4.0929e-01,\n",
              "       -3.0300e+00,  1.8250e-01,  2.0113e-01,  6.0628e-02, -2.4769e-01,\n",
              "        5.5324e-02, -4.9106e-01,  3.1544e-01, -3.4231e-01, -6.3766e-01,\n",
              "       -3.6129e-01, -5.9029e-02,  1.5510e-01,  4.4577e-02,  2.3572e-01,\n",
              "       -1.7095e-01, -2.2749e-01, -2.3184e-02,  2.3868e-01,  2.8170e-02,\n",
              "        4.2965e-01, -1.2458e-01, -3.6972e-02,  2.0061e-01, -3.1405e-01,\n",
              "       -8.5287e-02, -3.3496e-01, -9.7047e-02, -1.4388e-01,  1.1147e-01,\n",
              "       -4.5232e-01, -2.4217e-01, -1.8245e-01, -6.7292e-01,  2.1933e-02,\n",
              "       -5.4816e-02, -4.6508e-01,  4.7767e-01, -2.4752e-01, -1.5790e-01,\n",
              "        1.1817e-01,  5.6851e-02, -4.9151e-01,  1.5496e-01,  1.6425e-02,\n",
              "        4.1650e-02, -3.4990e-01, -1.5979e-01,  3.9705e-01,  2.2963e-01,\n",
              "        2.4688e-01,  1.9567e-02, -2.8802e-01, -6.9983e-01,  3.2744e-01,\n",
              "        1.0833e-01,  2.4945e-01, -7.8653e-01, -6.1379e-02, -3.7359e-01,\n",
              "       -1.1603e-01, -2.4950e-01,  1.0161e-01,  3.3994e-02,  1.5650e-01,\n",
              "        2.1344e-01, -1.1094e-01, -5.7687e-03,  1.7869e-01, -1.0127e-01,\n",
              "       -1.6891e-02,  3.0001e-01, -3.4116e-01, -3.2390e-02,  4.2514e-02,\n",
              "        1.1850e-01, -1.8337e-01, -6.2865e-01, -2.8021e-01,  4.2351e-01,\n",
              "        1.1277e-01,  1.2121e-03,  1.5710e-01, -3.6321e-01, -4.9251e-01,\n",
              "        1.1653e-01,  2.4024e-01,  1.7712e-01,  6.8700e-02, -4.4137e-01,\n",
              "       -2.9877e-01, -1.2071e-02,  2.8325e-01,  1.0668e-01, -1.8859e-01,\n",
              "       -4.1345e-01, -3.4090e-01,  4.7236e-02, -3.8309e-01,  4.3572e-01,\n",
              "        2.4505e-01,  2.7337e-01, -7.3038e-02,  4.2514e-01, -3.2455e-02,\n",
              "       -3.5211e-01,  4.5691e-01,  1.9433e-01, -1.5230e-01,  4.2675e-01,\n",
              "        2.8795e-01, -5.5969e-01, -1.3031e-01,  8.9844e-02,  4.2605e-01,\n",
              "       -1.9632e-01, -7.1989e-02, -8.0189e-02, -3.0425e-01, -4.6190e-01,\n",
              "        2.8178e-01, -9.9872e-02,  3.5097e-01,  1.6123e-01, -3.6548e-02,\n",
              "       -3.6739e-01, -1.9819e-02,  3.2130e-01,  1.7479e-01,  2.5175e-01,\n",
              "       -7.6439e-03, -9.3786e-02, -3.7852e-01,  4.3725e-01,  2.1288e-01,\n",
              "        2.5096e-01, -1.9613e-01, -2.8865e-01, -5.6726e-03,  4.2795e-01,\n",
              "        2.0625e-01, -3.7701e-02, -1.2200e-01, -7.9253e-02, -1.0290e-01,\n",
              "        1.0558e-02,  4.9880e-01,  2.5382e-01,  1.5526e-01,  1.7951e-03,\n",
              "        1.1633e-01,  7.9300e-02, -3.9142e-01, -3.2483e-01,  6.3451e-01,\n",
              "       -1.8910e-01,  5.4050e-02,  1.6495e-01,  1.8757e-01,  5.3874e-01],\n",
              "      dtype=float32)"
            ]
          },
          "metadata": {},
          "execution_count": 12
        }
      ]
    },
    {
      "cell_type": "markdown",
      "source": [
        "####Embeddings using Gensim"
      ],
      "metadata": {
        "id": "qIXrLtVP4yzD"
      }
    },
    {
      "cell_type": "code",
      "source": [
        "import gensim\n",
        "corpus = [['dog','bites','man'], [\"man\", \"bites\" ,\"dog\"],[\"dog\",\"eats\",\"meat\"],[\"man\", \"eats\",\"food\"]]"
      ],
      "metadata": {
        "id": "ZxuSR_N75N1N"
      },
      "execution_count": 17,
      "outputs": []
    },
    {
      "cell_type": "markdown",
      "source": [
        "#####Continuous Bag of Words (CBOW)\n"
      ],
      "metadata": {
        "id": "6kMyZGPg7L3y"
      }
    },
    {
      "cell_type": "code",
      "source": [
        "model_cbow = gensim.models.Word2Vec(corpus, min_count=1, sg=0) "
      ],
      "metadata": {
        "id": "v_9M0Quf5lrG"
      },
      "execution_count": 19,
      "outputs": []
    },
    {
      "cell_type": "code",
      "source": [
        "words = list(model_cbow.wv.vocab)\n",
        "print(words)"
      ],
      "metadata": {
        "colab": {
          "base_uri": "https://localhost:8080/"
        },
        "id": "hAmiFKaG6NBT",
        "outputId": "b9be7e0e-a1f5-4c9e-e252-6357b9415c66"
      },
      "execution_count": 22,
      "outputs": [
        {
          "output_type": "stream",
          "name": "stdout",
          "text": [
            "['dog', 'bites', 'man', 'eats', 'meat', 'food']\n"
          ]
        }
      ]
    },
    {
      "cell_type": "code",
      "source": [
        "model_cbow['meat']"
      ],
      "metadata": {
        "colab": {
          "base_uri": "https://localhost:8080/"
        },
        "id": "WjtdujhA6XsK",
        "outputId": "5e460896-ba45-4743-9919-7312edaa10a2"
      },
      "execution_count": 23,
      "outputs": [
        {
          "output_type": "stream",
          "name": "stderr",
          "text": [
            "/usr/local/lib/python3.7/dist-packages/ipykernel_launcher.py:1: DeprecationWarning: Call to deprecated `__getitem__` (Method will be removed in 4.0.0, use self.wv.__getitem__() instead).\n",
            "  \"\"\"Entry point for launching an IPython kernel.\n"
          ]
        },
        {
          "output_type": "execute_result",
          "data": {
            "text/plain": [
              "array([ 1.86382572e-03,  4.39878786e-03,  3.91667662e-03,  2.64534191e-03,\n",
              "        1.39515847e-04, -2.49983254e-03,  2.38882843e-03, -1.69968116e-03,\n",
              "        4.29632561e-03,  3.49699054e-04,  5.70764823e-04,  4.02356964e-03,\n",
              "       -1.76552846e-03, -3.02880304e-03, -2.74629914e-03, -4.28141514e-03,\n",
              "        1.33252272e-03, -3.10373516e-03,  1.10409586e-04,  5.98974148e-05,\n",
              "       -2.84599466e-03, -2.70853122e-03, -4.16035764e-03, -1.03914899e-04,\n",
              "       -1.86258834e-03,  3.50842049e-04, -3.41786398e-03, -8.81396525e-04,\n",
              "        4.09322605e-03, -2.34383671e-03,  3.26915015e-03, -5.96057624e-04,\n",
              "        4.13260376e-03, -3.64906224e-03,  4.76058852e-03, -2.61705997e-03,\n",
              "        2.90847500e-03,  4.65514185e-03, -2.32121581e-03, -3.33201978e-03,\n",
              "       -3.26441205e-03, -4.82923258e-03,  2.82629230e-03,  1.63173338e-03,\n",
              "        2.22920161e-03, -1.38756237e-03,  2.21916381e-03, -2.05490948e-03,\n",
              "        1.66887674e-03, -1.93758542e-03,  4.11832612e-03, -1.64936425e-03,\n",
              "       -7.36534363e-04,  3.98513023e-03,  3.68457893e-03, -1.09996682e-03,\n",
              "       -4.61835507e-03, -4.83111013e-03, -4.05008486e-03,  3.14176548e-03,\n",
              "       -1.63913661e-04, -3.53606069e-03,  5.44039649e-04, -3.09912884e-03,\n",
              "       -5.32939972e-04, -4.12076153e-03,  4.68823314e-03, -2.84862326e-04,\n",
              "       -1.81756832e-03, -1.36604346e-03, -4.75137029e-03,  1.39954360e-03,\n",
              "        4.48120106e-03,  2.12226063e-03, -3.22038238e-03,  2.15295376e-03,\n",
              "        2.96896882e-03, -2.55334168e-03,  1.27770228e-03, -4.66420315e-03,\n",
              "        3.98346456e-03,  4.78664134e-03, -1.51076214e-03, -2.46849377e-03,\n",
              "        3.02977720e-03, -9.88334417e-04,  1.62084284e-03, -3.42917489e-03,\n",
              "        1.35266013e-03, -8.29523895e-04,  1.06702256e-03, -3.36884800e-03,\n",
              "       -2.27883761e-03, -2.44819280e-03, -8.31769663e-04,  5.13786683e-04,\n",
              "       -3.31367925e-03, -1.24414300e-03, -4.82446700e-03,  8.80865962e-04],\n",
              "      dtype=float32)"
            ]
          },
          "metadata": {},
          "execution_count": 23
        }
      ]
    },
    {
      "cell_type": "code",
      "source": [
        "model_cbow.similarity('bites', 'eats')"
      ],
      "metadata": {
        "colab": {
          "base_uri": "https://localhost:8080/"
        },
        "id": "5q-6LNqJ6jD4",
        "outputId": "2a5401f5-f8c4-47ec-ac4d-ceb775681152"
      },
      "execution_count": 24,
      "outputs": [
        {
          "output_type": "stream",
          "name": "stderr",
          "text": [
            "/usr/local/lib/python3.7/dist-packages/ipykernel_launcher.py:1: DeprecationWarning: Call to deprecated `similarity` (Method will be removed in 4.0.0, use self.wv.similarity() instead).\n",
            "  \"\"\"Entry point for launching an IPython kernel.\n"
          ]
        },
        {
          "output_type": "execute_result",
          "data": {
            "text/plain": [
              "0.059683584"
            ]
          },
          "metadata": {},
          "execution_count": 24
        }
      ]
    },
    {
      "cell_type": "code",
      "source": [
        "model_cbow.similarity('dog', 'eats')"
      ],
      "metadata": {
        "colab": {
          "base_uri": "https://localhost:8080/"
        },
        "id": "dvoDbTlt6vlX",
        "outputId": "04349c1d-3be7-4787-996c-d0f50cbb0770"
      },
      "execution_count": 28,
      "outputs": [
        {
          "output_type": "stream",
          "name": "stderr",
          "text": [
            "/usr/local/lib/python3.7/dist-packages/ipykernel_launcher.py:1: DeprecationWarning: Call to deprecated `similarity` (Method will be removed in 4.0.0, use self.wv.similarity() instead).\n",
            "  \"\"\"Entry point for launching an IPython kernel.\n"
          ]
        },
        {
          "output_type": "execute_result",
          "data": {
            "text/plain": [
              "-0.018639755"
            ]
          },
          "metadata": {},
          "execution_count": 28
        }
      ]
    },
    {
      "cell_type": "code",
      "source": [
        "model_cbow.similarity('meat', 'eats')"
      ],
      "metadata": {
        "colab": {
          "base_uri": "https://localhost:8080/"
        },
        "id": "xu9DOPEK639x",
        "outputId": "5d517ee3-5194-463e-ac8f-a55cc2e20123"
      },
      "execution_count": 29,
      "outputs": [
        {
          "output_type": "stream",
          "name": "stderr",
          "text": [
            "/usr/local/lib/python3.7/dist-packages/ipykernel_launcher.py:1: DeprecationWarning: Call to deprecated `similarity` (Method will be removed in 4.0.0, use self.wv.similarity() instead).\n",
            "  \"\"\"Entry point for launching an IPython kernel.\n"
          ]
        },
        {
          "output_type": "execute_result",
          "data": {
            "text/plain": [
              "0.0014443402"
            ]
          },
          "metadata": {},
          "execution_count": 29
        }
      ]
    },
    {
      "cell_type": "code",
      "source": [
        "model_cbow.save('cbow_model.bin')"
      ],
      "metadata": {
        "id": "sC7VmATH7TDD"
      },
      "execution_count": 30,
      "outputs": []
    },
    {
      "cell_type": "code",
      "source": [
        "model_cbow = gensim.models.Word2Vec.load('cbow_model.bin')"
      ],
      "metadata": {
        "id": "EaKOtw5M7hdc"
      },
      "execution_count": 32,
      "outputs": []
    },
    {
      "cell_type": "markdown",
      "source": [
        "#####SkipGram"
      ],
      "metadata": {
        "id": "8-IHPxAA7SsQ"
      }
    },
    {
      "cell_type": "code",
      "source": [
        "model_skipgram = gensim.models.Word2Vec(corpus, min_count=1, sg=1)"
      ],
      "metadata": {
        "id": "2IlrKIZm7DCF"
      },
      "execution_count": 33,
      "outputs": []
    },
    {
      "cell_type": "code",
      "source": [
        "words = list(model_skipgram.wv.vocab)\n",
        "print(words)"
      ],
      "metadata": {
        "colab": {
          "base_uri": "https://localhost:8080/"
        },
        "id": "kFnlEkNy78YZ",
        "outputId": "a59346cd-2bb8-4ec3-c09c-fac6fc14b44a"
      },
      "execution_count": 34,
      "outputs": [
        {
          "output_type": "stream",
          "name": "stdout",
          "text": [
            "['dog', 'bites', 'man', 'eats', 'meat', 'food']\n"
          ]
        }
      ]
    },
    {
      "cell_type": "code",
      "source": [
        "model_skipgram['man']"
      ],
      "metadata": {
        "colab": {
          "base_uri": "https://localhost:8080/"
        },
        "id": "8bEAjMBi8wgu",
        "outputId": "29da8b67-2ca1-4485-eb38-deb0050b9856"
      },
      "execution_count": 35,
      "outputs": [
        {
          "output_type": "stream",
          "name": "stderr",
          "text": [
            "/usr/local/lib/python3.7/dist-packages/ipykernel_launcher.py:1: DeprecationWarning: Call to deprecated `__getitem__` (Method will be removed in 4.0.0, use self.wv.__getitem__() instead).\n",
            "  \"\"\"Entry point for launching an IPython kernel.\n"
          ]
        },
        {
          "output_type": "execute_result",
          "data": {
            "text/plain": [
              "array([ 2.70033441e-03,  5.27583470e-04, -4.30648820e-03, -1.87176338e-03,\n",
              "       -2.85190740e-03,  8.82315624e-04, -9.35057818e-04,  2.34860973e-03,\n",
              "       -3.11193289e-03,  2.71500554e-03,  2.00413563e-03,  3.42800026e-03,\n",
              "        3.81431496e-03, -1.50338141e-03,  4.52308916e-03,  2.76574004e-03,\n",
              "        2.84280744e-03, -4.34568094e-04,  3.64157860e-03,  3.24759458e-04,\n",
              "        4.38285898e-03,  3.73717630e-03, -5.96458209e-04, -3.59512120e-03,\n",
              "       -4.75550396e-03, -4.01656143e-03, -3.80055862e-03, -3.69138061e-03,\n",
              "        2.55903648e-03,  2.36403127e-03, -1.27182808e-03, -4.41914512e-04,\n",
              "        3.69670708e-03,  3.69484373e-03, -2.50596879e-03, -1.21253124e-03,\n",
              "        1.58703560e-03, -3.38559010e-04, -1.33460097e-03,  1.15172705e-04,\n",
              "       -2.64002127e-03, -1.48099149e-03, -2.89875106e-03,  3.01210280e-03,\n",
              "        2.95349932e-03,  1.84020796e-03,  3.93898401e-04, -4.83518001e-03,\n",
              "       -3.58779845e-03, -1.47141621e-03,  2.94377888e-03,  3.88921821e-03,\n",
              "       -3.27451108e-03,  4.97161411e-03, -1.98201858e-03, -4.65907482e-03,\n",
              "       -2.00658035e-03,  3.34999687e-03, -1.02516916e-03,  2.20773523e-04,\n",
              "        5.00090246e-04, -4.77811368e-03, -3.58126080e-03, -4.28660214e-03,\n",
              "        2.41171592e-03, -3.71662457e-03, -3.82016506e-03, -1.28884590e-03,\n",
              "       -9.06990725e-04, -4.02677199e-03, -3.30840680e-03, -3.27059592e-04,\n",
              "       -1.55511289e-03,  2.55950051e-03,  4.86574322e-03,  4.19569155e-03,\n",
              "        2.15815875e-04, -3.77360242e-03,  6.75464165e-04,  4.17357404e-03,\n",
              "        2.33584270e-03, -2.06014677e-03, -1.81814306e-04, -2.07586889e-03,\n",
              "       -1.65591424e-03, -2.97441264e-03,  4.01315559e-03, -4.73855343e-03,\n",
              "        3.07061616e-03,  5.40897076e-04,  4.46584169e-03,  4.10275627e-03,\n",
              "        4.96913632e-03,  4.92477976e-03,  4.34091920e-03, -2.77634850e-03,\n",
              "       -3.83815775e-03, -1.32431870e-03,  8.66410497e-04,  8.06820026e-05],\n",
              "      dtype=float32)"
            ]
          },
          "metadata": {},
          "execution_count": 35
        }
      ]
    },
    {
      "cell_type": "code",
      "source": [
        "model_skipgram.similarity('bites', 'eats')"
      ],
      "metadata": {
        "colab": {
          "base_uri": "https://localhost:8080/"
        },
        "id": "6PNGJQCM80aR",
        "outputId": "c6f2afc9-f80b-4330-85f0-47cb88e8b4ec"
      },
      "execution_count": 36,
      "outputs": [
        {
          "output_type": "stream",
          "name": "stderr",
          "text": [
            "/usr/local/lib/python3.7/dist-packages/ipykernel_launcher.py:1: DeprecationWarning: Call to deprecated `similarity` (Method will be removed in 4.0.0, use self.wv.similarity() instead).\n",
            "  \"\"\"Entry point for launching an IPython kernel.\n"
          ]
        },
        {
          "output_type": "execute_result",
          "data": {
            "text/plain": [
              "0.059682388"
            ]
          },
          "metadata": {},
          "execution_count": 36
        }
      ]
    },
    {
      "cell_type": "code",
      "source": [
        "model_skipgram.similarity('dog', 'eats')"
      ],
      "metadata": {
        "colab": {
          "base_uri": "https://localhost:8080/"
        },
        "id": "t8rNTzQn8-Dh",
        "outputId": "14c2c05f-e4ac-4a7c-dded-2455dd969a8e"
      },
      "execution_count": 37,
      "outputs": [
        {
          "output_type": "stream",
          "name": "stderr",
          "text": [
            "/usr/local/lib/python3.7/dist-packages/ipykernel_launcher.py:1: DeprecationWarning: Call to deprecated `similarity` (Method will be removed in 4.0.0, use self.wv.similarity() instead).\n",
            "  \"\"\"Entry point for launching an IPython kernel.\n"
          ]
        },
        {
          "output_type": "execute_result",
          "data": {
            "text/plain": [
              "-0.018645156"
            ]
          },
          "metadata": {},
          "execution_count": 37
        }
      ]
    },
    {
      "cell_type": "code",
      "source": [
        "model_skipgram.similarity('meat', 'eats')"
      ],
      "metadata": {
        "colab": {
          "base_uri": "https://localhost:8080/"
        },
        "id": "weEMkaP39Aq0",
        "outputId": "0709cc7d-97a4-4bc4-a9de-c970bc2cefb7"
      },
      "execution_count": 38,
      "outputs": [
        {
          "output_type": "stream",
          "name": "stderr",
          "text": [
            "/usr/local/lib/python3.7/dist-packages/ipykernel_launcher.py:1: DeprecationWarning: Call to deprecated `similarity` (Method will be removed in 4.0.0, use self.wv.similarity() instead).\n",
            "  \"\"\"Entry point for launching an IPython kernel.\n"
          ]
        },
        {
          "output_type": "execute_result",
          "data": {
            "text/plain": [
              "0.001372223"
            ]
          },
          "metadata": {},
          "execution_count": 38
        }
      ]
    },
    {
      "cell_type": "code",
      "source": [
        ""
      ],
      "metadata": {
        "id": "wqHa7slF9Bik"
      },
      "execution_count": null,
      "outputs": []
    }
  ]
}