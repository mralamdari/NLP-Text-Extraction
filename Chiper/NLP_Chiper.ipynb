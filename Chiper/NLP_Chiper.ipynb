{
  "nbformat": 4,
  "nbformat_minor": 0,
  "metadata": {
    "colab": {
      "name": "NLP-Chiper.ipynb",
      "provenance": [],
      "collapsed_sections": [],
      "authorship_tag": "ABX9TyNhoOwz5cbdi+5mb49DBxny",
      "include_colab_link": true
    },
    "kernelspec": {
      "name": "python3",
      "display_name": "Python 3"
    },
    "language_info": {
      "name": "python"
    }
  },
  "cells": [
    {
      "cell_type": "markdown",
      "metadata": {
        "id": "view-in-github",
        "colab_type": "text"
      },
      "source": [
        "<a href=\"https://colab.research.google.com/github/mralamdari/NLP-Chiper/blob/main/NLP_Chiper.ipynb\" target=\"_parent\"><img src=\"https://colab.research.google.com/assets/colab-badge.svg\" alt=\"Open In Colab\"/></a>"
      ]
    },
    {
      "cell_type": "code",
      "execution_count": 48,
      "metadata": {
        "id": "diPwwgV6IKxU"
      },
      "outputs": [],
      "source": [
        "import re\n",
        "import os\n",
        "import string\n",
        "import textwrap\n",
        "import requests\n",
        "import numpy as np\n",
        "import pandas as pd\n",
        "import matplotlib.pyplot as plt"
      ]
    },
    {
      "cell_type": "code",
      "source": [
        "string.ascii_lowercase #r'[a-z]'"
      ],
      "metadata": {
        "colab": {
          "base_uri": "https://localhost:8080/",
          "height": 36
        },
        "id": "1Ni9kNhTdJMz",
        "outputId": "715bcce1-11fb-4d1e-b17e-9a5482da83e3"
      },
      "execution_count": 3,
      "outputs": [
        {
          "output_type": "execute_result",
          "data": {
            "text/plain": [
              "'abcdefghijklmnopqrstuvwxyz'"
            ],
            "application/vnd.google.colaboratory.intrinsic+json": {
              "type": "string"
            }
          },
          "metadata": {},
          "execution_count": 3
        }
      ]
    },
    {
      "cell_type": "code",
      "source": [
        "string.ascii_uppercase #r'[A-Z]'"
      ],
      "metadata": {
        "colab": {
          "base_uri": "https://localhost:8080/",
          "height": 36
        },
        "id": "raGzStSGd22Z",
        "outputId": "0b6ff0a1-176f-4451-e2b1-86ac4131bc57"
      },
      "execution_count": 4,
      "outputs": [
        {
          "output_type": "execute_result",
          "data": {
            "text/plain": [
              "'ABCDEFGHIJKLMNOPQRSTUVWXYZ'"
            ],
            "application/vnd.google.colaboratory.intrinsic+json": {
              "type": "string"
            }
          },
          "metadata": {},
          "execution_count": 4
        }
      ]
    },
    {
      "cell_type": "code",
      "source": [
        "string.ascii_letters   #r'[a-zA-Z]'"
      ],
      "metadata": {
        "colab": {
          "base_uri": "https://localhost:8080/",
          "height": 36
        },
        "id": "iaedANK1eTch",
        "outputId": "b183cb71-adb9-43d3-f9cf-95df7121809f"
      },
      "execution_count": 5,
      "outputs": [
        {
          "output_type": "execute_result",
          "data": {
            "text/plain": [
              "'abcdefghijklmnopqrstuvwxyzABCDEFGHIJKLMNOPQRSTUVWXYZ'"
            ],
            "application/vnd.google.colaboratory.intrinsic+json": {
              "type": "string"
            }
          },
          "metadata": {},
          "execution_count": 5
        }
      ]
    },
    {
      "cell_type": "code",
      "source": [
        "letters1 = list(string.ascii_lowercase)\n",
        "letters2 = list(string.ascii_lowercase)"
      ],
      "metadata": {
        "id": "Dy7dbd3zd9Hy"
      },
      "execution_count": 11,
      "outputs": []
    },
    {
      "cell_type": "code",
      "source": [
        "np.random.shuffle(letters2)"
      ],
      "metadata": {
        "id": "Cf1v_diIj7sp"
      },
      "execution_count": 12,
      "outputs": []
    },
    {
      "cell_type": "code",
      "source": [
        "mapping_dic = {}\n",
        "for l1, l2 in zip(letters1, letters2):\n",
        "  mapping_dic[l1] = l2"
      ],
      "metadata": {
        "id": "PU-kku_we7wj"
      },
      "execution_count": 13,
      "outputs": []
    },
    {
      "cell_type": "code",
      "source": [
        "mapping_dic"
      ],
      "metadata": {
        "colab": {
          "base_uri": "https://localhost:8080/"
        },
        "id": "v62jw5WUj24c",
        "outputId": "9e5d25a6-fe58-459f-bef6-084c1ba1924d"
      },
      "execution_count": 14,
      "outputs": [
        {
          "output_type": "execute_result",
          "data": {
            "text/plain": [
              "{'a': 't',\n",
              " 'b': 'x',\n",
              " 'c': 'z',\n",
              " 'd': 'b',\n",
              " 'e': 'r',\n",
              " 'f': 'h',\n",
              " 'g': 'p',\n",
              " 'h': 'l',\n",
              " 'i': 'c',\n",
              " 'j': 'm',\n",
              " 'k': 'g',\n",
              " 'l': 'u',\n",
              " 'm': 'a',\n",
              " 'n': 'o',\n",
              " 'o': 'v',\n",
              " 'p': 'd',\n",
              " 'q': 'f',\n",
              " 'r': 'n',\n",
              " 's': 'j',\n",
              " 't': 'e',\n",
              " 'u': 'w',\n",
              " 'v': 'i',\n",
              " 'w': 's',\n",
              " 'x': 'y',\n",
              " 'y': 'q',\n",
              " 'z': 'k'}"
            ]
          },
          "metadata": {},
          "execution_count": 14
        }
      ]
    },
    {
      "cell_type": "code",
      "source": [
        "# Letters ==> [97-122]\n",
        "for i in letters1:\n",
        "  print(ord(i))"
      ],
      "metadata": {
        "colab": {
          "base_uri": "https://localhost:8080/"
        },
        "id": "a0QzuS8IkFmx",
        "outputId": "278f4e1f-0c0c-4252-96b8-680216deb9d0"
      },
      "execution_count": 19,
      "outputs": [
        {
          "output_type": "stream",
          "name": "stdout",
          "text": [
            "97\n",
            "98\n",
            "99\n",
            "100\n",
            "101\n",
            "102\n",
            "103\n",
            "104\n",
            "105\n",
            "106\n",
            "107\n",
            "108\n",
            "109\n",
            "110\n",
            "111\n",
            "112\n",
            "113\n",
            "114\n",
            "115\n",
            "116\n",
            "117\n",
            "118\n",
            "119\n",
            "120\n",
            "121\n",
            "122\n"
          ]
        }
      ]
    },
    {
      "cell_type": "code",
      "source": [
        "M = np.ones((26, 26))\n",
        "pi = np.zeros(26)\n",
        "\n",
        "def update_transition(ch1, ch2):\n",
        "  i = ord(ch1) - 97\n",
        "  j = ord(ch2) - 97\n",
        "  M[i, j] += 1"
      ],
      "metadata": {
        "id": "jn_v7Ak3klI8"
      },
      "execution_count": 20,
      "outputs": []
    },
    {
      "cell_type": "code",
      "source": [
        "def update_pi(ch):\n",
        "  i = ord(ch) - 97\n",
        "  pi[i] += 1"
      ],
      "metadata": {
        "id": "_zEN-owjlcer"
      },
      "execution_count": 39,
      "outputs": []
    },
    {
      "cell_type": "code",
      "source": [
        "def word_prob(word):\n",
        "  i = ord(word[0]) - 97\n",
        "  log_p = np.log(pi[i])\n",
        "\n",
        "  for ch in word[1:]: \n",
        "    j = ord(ch) - 97\n",
        "    log_p += np.log(M[i, j])\n",
        "    i=j\n",
        "  return log_p"
      ],
      "metadata": {
        "id": "f1g-MvAblj-s"
      },
      "execution_count": 23,
      "outputs": []
    },
    {
      "cell_type": "code",
      "source": [
        "def sequence_prob(sentence):\n",
        "  if type(sentence) == str:\n",
        "    sentence = sentence.split()\n",
        "  \n",
        "  total_log_p = 0\n",
        "  for word in sentence:\n",
        "    total_log_p += word_prob(word)\n",
        "  return total_log_p"
      ],
      "metadata": {
        "id": "doRzGNxKmIN_"
      },
      "execution_count": 24,
      "outputs": []
    },
    {
      "cell_type": "code",
      "source": [
        "# !wget 'https://lazyprogrammer.me/course_files/moby_dick.txt'\n",
        "\n",
        "if not os.path.exists('moby_dick.txt'):\n",
        "  r = requests.get('https://lazyprogrammer.me/course_files/moby_dick.txt')\n",
        "  with open('moby_dick.txt', 'w') as f:\n",
        "    f.write(r.content.decode())"
      ],
      "metadata": {
        "id": "ulVP75AwmlOG"
      },
      "execution_count": 35,
      "outputs": []
    },
    {
      "cell_type": "code",
      "source": [
        "regex = re.compile('[^a-zA-Z]')"
      ],
      "metadata": {
        "id": "aNcXYJ9Qm7wy"
      },
      "execution_count": 36,
      "outputs": []
    },
    {
      "cell_type": "code",
      "source": [
        "for line in open('moby_dick.txt'):\n",
        "  line = line.rstrip()\n",
        "  if line:\n",
        "    line = regex.sub(' ', line)\n",
        "    tokens = line.lower().split()\n",
        "    for token in tokens:\n",
        "      ch0 = token[0]\n",
        "      update_pi(ch0)\n",
        "\n",
        "      for ch1  in token[1:]:\n",
        "        update_transition(ch0, ch1)\n",
        "        ch0 = ch1\n",
        "  pi /= pi.sum()\n",
        "  M /= M.sum(axis=1, keepdims=True)"
      ],
      "metadata": {
        "id": "3z9xzyrRnp_Y"
      },
      "execution_count": 40,
      "outputs": []
    },
    {
      "cell_type": "code",
      "source": [
        "pi"
      ],
      "metadata": {
        "colab": {
          "base_uri": "https://localhost:8080/"
        },
        "id": "SIVv66L1nYOM",
        "outputId": "afde0dd3-6836-46d2-b064-070c79268d6e"
      },
      "execution_count": 41,
      "outputs": [
        {
          "output_type": "execute_result",
          "data": {
            "text/plain": [
              "array([1.82617134e-01, 7.63873099e-05, 1.80555582e-01, 1.49525408e-02,\n",
              "       5.89247993e-15, 1.66667106e-01, 5.45290621e-06, 2.78486395e-02,\n",
              "       1.48867670e-02, 5.53517367e-26, 2.80799957e-36, 9.92067232e-04,\n",
              "       1.48867909e-02, 1.98449039e-03, 3.33410397e-01, 9.97514390e-04,\n",
              "       1.37218916e-84, 2.77777781e-02, 1.52411032e-02, 1.50339690e-02,\n",
              "       9.97538629e-04, 1.19463184e-11, 1.06874133e-03, 0.00000000e+00,\n",
              "       1.86689290e-27, 0.00000000e+00])"
            ]
          },
          "metadata": {},
          "execution_count": 41
        }
      ]
    },
    {
      "cell_type": "code",
      "source": [
        "M[0]"
      ],
      "metadata": {
        "colab": {
          "base_uri": "https://localhost:8080/"
        },
        "id": "MSqOx_9dpLRk",
        "outputId": "5d31f260-3f3b-42e8-be9b-52267f6c8609"
      },
      "execution_count": 45,
      "outputs": [
        {
          "output_type": "execute_result",
          "data": {
            "text/plain": [
              "array([0.00000000e+000, 3.58819384e-014, 1.11111213e-001, 1.73611272e-004,\n",
              "       0.00000000e+000, 5.55555556e-002, 8.68055556e-004, 3.58819384e-014,\n",
              "       7.84145930e-003, 0.00000000e+000, 8.68055556e-004, 5.88352784e-006,\n",
              "       8.04115161e-010, 6.73676048e-001, 0.00000000e+000, 4.19097276e-015,\n",
              "       0.00000000e+000, 6.97917673e-002, 1.40630787e-002, 6.34121657e-002,\n",
              "       9.96720169e-016, 8.68055556e-004, 8.68055716e-004, 4.01877572e-009,\n",
              "       8.96990741e-004, 1.61926312e-177])"
            ]
          },
          "metadata": {},
          "execution_count": 45
        }
      ]
    },
    {
      "cell_type": "code",
      "source": [
        "pd.DataFrame(M.round(2), index=letters1, columns=letters1)"
      ],
      "metadata": {
        "colab": {
          "base_uri": "https://localhost:8080/",
          "height": 958
        },
        "id": "S_EuHs3Oqfvz",
        "outputId": "5ebf24f8-efa2-4c06-9986-990a0066c9ee"
      },
      "execution_count": 51,
      "outputs": [
        {
          "output_type": "execute_result",
          "data": {
            "text/plain": [
              "      a    b     c     d     e     f     g     h     i    j  ...    q     r  \\\n",
              "a  0.00  0.0  0.11  0.00  0.00  0.06  0.00  0.00  0.01  0.0  ...  0.0  0.07   \n",
              "b  0.00  0.0  0.00  0.00  0.50  0.00  0.00  0.00  0.00  0.0  ...  0.0  0.00   \n",
              "c  0.00  0.0  0.00  0.00  0.00  0.00  0.00  0.70  0.10  0.0  ...  0.0  0.10   \n",
              "d  0.07  0.0  0.00  0.00  0.27  0.00  0.00  0.00  0.01  0.0  ...  0.0  0.63   \n",
              "e  0.06  0.0  0.00  0.01  0.00  0.00  0.00  0.00  0.00  0.0  ...  0.0  0.47   \n",
              "f  0.00  0.0  0.00  0.00  0.02  0.02  0.00  0.00  0.02  0.0  ...  0.0  0.00   \n",
              "g  0.01  0.0  0.00  0.00  0.58  0.00  0.00  0.09  0.00  0.0  ...  0.0  0.04   \n",
              "h  0.31  0.0  0.00  0.00  0.44  0.00  0.00  0.00  0.25  0.0  ...  0.0  0.00   \n",
              "i  0.00  0.0  0.02  0.00  0.00  0.00  0.00  0.00  0.00  0.0  ...  0.0  0.00   \n",
              "j  0.23  0.0  0.00  0.00  0.00  0.00  0.00  0.00  0.00  0.0  ...  0.0  0.00   \n",
              "k  0.00  0.0  0.00  0.00  0.55  0.00  0.00  0.00  0.00  0.0  ...  0.0  0.00   \n",
              "l  0.17  0.0  0.00  0.33  0.09  0.00  0.00  0.00  0.04  0.0  ...  0.0  0.00   \n",
              "m  0.04  0.0  0.00  0.00  0.25  0.00  0.00  0.00  0.58  0.0  ...  0.0  0.00   \n",
              "n  0.00  0.0  0.00  0.27  0.03  0.00  0.19  0.00  0.00  0.0  ...  0.0  0.00   \n",
              "o  0.00  0.0  0.01  0.00  0.00  0.00  0.00  0.00  0.00  0.0  ...  0.0  0.20   \n",
              "p  0.13  0.0  0.00  0.00  0.01  0.00  0.00  0.50  0.25  0.0  ...  0.0  0.06   \n",
              "q  0.00  0.0  0.00  0.00  0.00  0.00  0.00  0.00  0.00  0.0  ...  0.0  0.00   \n",
              "r  0.11  0.0  0.06  0.00  0.43  0.00  0.00  0.00  0.00  0.0  ...  0.0  0.00   \n",
              "s  0.09  0.0  0.00  0.00  0.22  0.00  0.00  0.02  0.40  0.0  ...  0.0  0.00   \n",
              "t  0.00  0.0  0.00  0.00  0.13  0.00  0.00  0.75  0.00  0.0  ...  0.0  0.13   \n",
              "u  0.00  0.0  0.00  0.00  0.00  0.00  0.00  0.00  0.17  0.0  ...  0.0  0.00   \n",
              "v  0.25  0.0  0.00  0.00  0.16  0.00  0.00  0.00  0.56  0.0  ...  0.0  0.00   \n",
              "w  0.50  0.0  0.00  0.00  0.00  0.00  0.00  0.04  0.28  0.0  ...  0.0  0.00   \n",
              "x  0.00  0.0  0.00  0.00  0.07  0.00  0.00  0.00  0.88  0.0  ...  0.0  0.00   \n",
              "y  0.30  0.0  0.00  0.00  0.69  0.00  0.00  0.00  0.01  0.0  ...  0.0  0.00   \n",
              "z  0.00  0.0  0.00  0.00  0.90  0.00  0.00  0.00  0.10  0.0  ...  0.0  0.00   \n",
              "\n",
              "      s     t     u     v     w    x     y    z  \n",
              "a  0.01  0.06  0.00  0.00  0.00  0.0  0.00  0.0  \n",
              "b  0.00  0.00  0.11  0.00  0.00  0.0  0.38  0.0  \n",
              "c  0.00  0.00  0.00  0.00  0.00  0.0  0.00  0.0  \n",
              "d  0.00  0.00  0.00  0.00  0.00  0.0  0.00  0.0  \n",
              "e  0.00  0.04  0.00  0.04  0.01  0.0  0.00  0.0  \n",
              "f  0.00  0.33  0.00  0.00  0.00  0.0  0.00  0.0  \n",
              "g  0.00  0.03  0.00  0.00  0.00  0.0  0.00  0.0  \n",
              "h  0.00  0.00  0.00  0.00  0.00  0.0  0.00  0.0  \n",
              "i  0.13  0.02  0.00  0.00  0.00  0.0  0.00  0.0  \n",
              "j  0.00  0.00  0.27  0.00  0.00  0.0  0.00  0.0  \n",
              "k  0.44  0.00  0.00  0.00  0.00  0.0  0.00  0.0  \n",
              "l  0.00  0.00  0.00  0.00  0.00  0.0  0.33  0.0  \n",
              "m  0.00  0.00  0.00  0.00  0.00  0.0  0.02  0.0  \n",
              "n  0.00  0.00  0.00  0.00  0.00  0.0  0.00  0.0  \n",
              "o  0.00  0.20  0.31  0.00  0.00  0.0  0.00  0.0  \n",
              "p  0.00  0.00  0.00  0.00  0.03  0.0  0.00  0.0  \n",
              "q  0.00  0.00  1.00  0.00  0.00  0.0  0.00  0.0  \n",
              "r  0.00  0.00  0.06  0.00  0.00  0.0  0.00  0.0  \n",
              "s  0.20  0.07  0.00  0.00  0.00  0.0  0.00  0.0  \n",
              "t  0.00  0.00  0.00  0.00  0.00  0.0  0.00  0.0  \n",
              "u  0.17  0.03  0.00  0.00  0.00  0.0  0.00  0.0  \n",
              "v  0.00  0.00  0.00  0.00  0.00  0.0  0.00  0.0  \n",
              "w  0.00  0.00  0.00  0.00  0.00  0.0  0.00  0.0  \n",
              "x  0.00  0.05  0.00  0.00  0.00  0.0  0.00  0.0  \n",
              "y  0.00  0.00  0.00  0.00  0.00  0.0  0.00  0.0  \n",
              "z  0.00  0.00  0.00  0.00  0.00  0.0  0.00  0.0  \n",
              "\n",
              "[26 rows x 26 columns]"
            ],
            "text/html": [
              "\n",
              "  <div id=\"df-40fd4cb8-bf2c-4c14-955e-afd3f95b18fc\">\n",
              "    <div class=\"colab-df-container\">\n",
              "      <div>\n",
              "<style scoped>\n",
              "    .dataframe tbody tr th:only-of-type {\n",
              "        vertical-align: middle;\n",
              "    }\n",
              "\n",
              "    .dataframe tbody tr th {\n",
              "        vertical-align: top;\n",
              "    }\n",
              "\n",
              "    .dataframe thead th {\n",
              "        text-align: right;\n",
              "    }\n",
              "</style>\n",
              "<table border=\"1\" class=\"dataframe\">\n",
              "  <thead>\n",
              "    <tr style=\"text-align: right;\">\n",
              "      <th></th>\n",
              "      <th>a</th>\n",
              "      <th>b</th>\n",
              "      <th>c</th>\n",
              "      <th>d</th>\n",
              "      <th>e</th>\n",
              "      <th>f</th>\n",
              "      <th>g</th>\n",
              "      <th>h</th>\n",
              "      <th>i</th>\n",
              "      <th>j</th>\n",
              "      <th>...</th>\n",
              "      <th>q</th>\n",
              "      <th>r</th>\n",
              "      <th>s</th>\n",
              "      <th>t</th>\n",
              "      <th>u</th>\n",
              "      <th>v</th>\n",
              "      <th>w</th>\n",
              "      <th>x</th>\n",
              "      <th>y</th>\n",
              "      <th>z</th>\n",
              "    </tr>\n",
              "  </thead>\n",
              "  <tbody>\n",
              "    <tr>\n",
              "      <th>a</th>\n",
              "      <td>0.00</td>\n",
              "      <td>0.0</td>\n",
              "      <td>0.11</td>\n",
              "      <td>0.00</td>\n",
              "      <td>0.00</td>\n",
              "      <td>0.06</td>\n",
              "      <td>0.00</td>\n",
              "      <td>0.00</td>\n",
              "      <td>0.01</td>\n",
              "      <td>0.0</td>\n",
              "      <td>...</td>\n",
              "      <td>0.0</td>\n",
              "      <td>0.07</td>\n",
              "      <td>0.01</td>\n",
              "      <td>0.06</td>\n",
              "      <td>0.00</td>\n",
              "      <td>0.00</td>\n",
              "      <td>0.00</td>\n",
              "      <td>0.0</td>\n",
              "      <td>0.00</td>\n",
              "      <td>0.0</td>\n",
              "    </tr>\n",
              "    <tr>\n",
              "      <th>b</th>\n",
              "      <td>0.00</td>\n",
              "      <td>0.0</td>\n",
              "      <td>0.00</td>\n",
              "      <td>0.00</td>\n",
              "      <td>0.50</td>\n",
              "      <td>0.00</td>\n",
              "      <td>0.00</td>\n",
              "      <td>0.00</td>\n",
              "      <td>0.00</td>\n",
              "      <td>0.0</td>\n",
              "      <td>...</td>\n",
              "      <td>0.0</td>\n",
              "      <td>0.00</td>\n",
              "      <td>0.00</td>\n",
              "      <td>0.00</td>\n",
              "      <td>0.11</td>\n",
              "      <td>0.00</td>\n",
              "      <td>0.00</td>\n",
              "      <td>0.0</td>\n",
              "      <td>0.38</td>\n",
              "      <td>0.0</td>\n",
              "    </tr>\n",
              "    <tr>\n",
              "      <th>c</th>\n",
              "      <td>0.00</td>\n",
              "      <td>0.0</td>\n",
              "      <td>0.00</td>\n",
              "      <td>0.00</td>\n",
              "      <td>0.00</td>\n",
              "      <td>0.00</td>\n",
              "      <td>0.00</td>\n",
              "      <td>0.70</td>\n",
              "      <td>0.10</td>\n",
              "      <td>0.0</td>\n",
              "      <td>...</td>\n",
              "      <td>0.0</td>\n",
              "      <td>0.10</td>\n",
              "      <td>0.00</td>\n",
              "      <td>0.00</td>\n",
              "      <td>0.00</td>\n",
              "      <td>0.00</td>\n",
              "      <td>0.00</td>\n",
              "      <td>0.0</td>\n",
              "      <td>0.00</td>\n",
              "      <td>0.0</td>\n",
              "    </tr>\n",
              "    <tr>\n",
              "      <th>d</th>\n",
              "      <td>0.07</td>\n",
              "      <td>0.0</td>\n",
              "      <td>0.00</td>\n",
              "      <td>0.00</td>\n",
              "      <td>0.27</td>\n",
              "      <td>0.00</td>\n",
              "      <td>0.00</td>\n",
              "      <td>0.00</td>\n",
              "      <td>0.01</td>\n",
              "      <td>0.0</td>\n",
              "      <td>...</td>\n",
              "      <td>0.0</td>\n",
              "      <td>0.63</td>\n",
              "      <td>0.00</td>\n",
              "      <td>0.00</td>\n",
              "      <td>0.00</td>\n",
              "      <td>0.00</td>\n",
              "      <td>0.00</td>\n",
              "      <td>0.0</td>\n",
              "      <td>0.00</td>\n",
              "      <td>0.0</td>\n",
              "    </tr>\n",
              "    <tr>\n",
              "      <th>e</th>\n",
              "      <td>0.06</td>\n",
              "      <td>0.0</td>\n",
              "      <td>0.00</td>\n",
              "      <td>0.01</td>\n",
              "      <td>0.00</td>\n",
              "      <td>0.00</td>\n",
              "      <td>0.00</td>\n",
              "      <td>0.00</td>\n",
              "      <td>0.00</td>\n",
              "      <td>0.0</td>\n",
              "      <td>...</td>\n",
              "      <td>0.0</td>\n",
              "      <td>0.47</td>\n",
              "      <td>0.00</td>\n",
              "      <td>0.04</td>\n",
              "      <td>0.00</td>\n",
              "      <td>0.04</td>\n",
              "      <td>0.01</td>\n",
              "      <td>0.0</td>\n",
              "      <td>0.00</td>\n",
              "      <td>0.0</td>\n",
              "    </tr>\n",
              "    <tr>\n",
              "      <th>f</th>\n",
              "      <td>0.00</td>\n",
              "      <td>0.0</td>\n",
              "      <td>0.00</td>\n",
              "      <td>0.00</td>\n",
              "      <td>0.02</td>\n",
              "      <td>0.02</td>\n",
              "      <td>0.00</td>\n",
              "      <td>0.00</td>\n",
              "      <td>0.02</td>\n",
              "      <td>0.0</td>\n",
              "      <td>...</td>\n",
              "      <td>0.0</td>\n",
              "      <td>0.00</td>\n",
              "      <td>0.00</td>\n",
              "      <td>0.33</td>\n",
              "      <td>0.00</td>\n",
              "      <td>0.00</td>\n",
              "      <td>0.00</td>\n",
              "      <td>0.0</td>\n",
              "      <td>0.00</td>\n",
              "      <td>0.0</td>\n",
              "    </tr>\n",
              "    <tr>\n",
              "      <th>g</th>\n",
              "      <td>0.01</td>\n",
              "      <td>0.0</td>\n",
              "      <td>0.00</td>\n",
              "      <td>0.00</td>\n",
              "      <td>0.58</td>\n",
              "      <td>0.00</td>\n",
              "      <td>0.00</td>\n",
              "      <td>0.09</td>\n",
              "      <td>0.00</td>\n",
              "      <td>0.0</td>\n",
              "      <td>...</td>\n",
              "      <td>0.0</td>\n",
              "      <td>0.04</td>\n",
              "      <td>0.00</td>\n",
              "      <td>0.03</td>\n",
              "      <td>0.00</td>\n",
              "      <td>0.00</td>\n",
              "      <td>0.00</td>\n",
              "      <td>0.0</td>\n",
              "      <td>0.00</td>\n",
              "      <td>0.0</td>\n",
              "    </tr>\n",
              "    <tr>\n",
              "      <th>h</th>\n",
              "      <td>0.31</td>\n",
              "      <td>0.0</td>\n",
              "      <td>0.00</td>\n",
              "      <td>0.00</td>\n",
              "      <td>0.44</td>\n",
              "      <td>0.00</td>\n",
              "      <td>0.00</td>\n",
              "      <td>0.00</td>\n",
              "      <td>0.25</td>\n",
              "      <td>0.0</td>\n",
              "      <td>...</td>\n",
              "      <td>0.0</td>\n",
              "      <td>0.00</td>\n",
              "      <td>0.00</td>\n",
              "      <td>0.00</td>\n",
              "      <td>0.00</td>\n",
              "      <td>0.00</td>\n",
              "      <td>0.00</td>\n",
              "      <td>0.0</td>\n",
              "      <td>0.00</td>\n",
              "      <td>0.0</td>\n",
              "    </tr>\n",
              "    <tr>\n",
              "      <th>i</th>\n",
              "      <td>0.00</td>\n",
              "      <td>0.0</td>\n",
              "      <td>0.02</td>\n",
              "      <td>0.00</td>\n",
              "      <td>0.00</td>\n",
              "      <td>0.00</td>\n",
              "      <td>0.00</td>\n",
              "      <td>0.00</td>\n",
              "      <td>0.00</td>\n",
              "      <td>0.0</td>\n",
              "      <td>...</td>\n",
              "      <td>0.0</td>\n",
              "      <td>0.00</td>\n",
              "      <td>0.13</td>\n",
              "      <td>0.02</td>\n",
              "      <td>0.00</td>\n",
              "      <td>0.00</td>\n",
              "      <td>0.00</td>\n",
              "      <td>0.0</td>\n",
              "      <td>0.00</td>\n",
              "      <td>0.0</td>\n",
              "    </tr>\n",
              "    <tr>\n",
              "      <th>j</th>\n",
              "      <td>0.23</td>\n",
              "      <td>0.0</td>\n",
              "      <td>0.00</td>\n",
              "      <td>0.00</td>\n",
              "      <td>0.00</td>\n",
              "      <td>0.00</td>\n",
              "      <td>0.00</td>\n",
              "      <td>0.00</td>\n",
              "      <td>0.00</td>\n",
              "      <td>0.0</td>\n",
              "      <td>...</td>\n",
              "      <td>0.0</td>\n",
              "      <td>0.00</td>\n",
              "      <td>0.00</td>\n",
              "      <td>0.00</td>\n",
              "      <td>0.27</td>\n",
              "      <td>0.00</td>\n",
              "      <td>0.00</td>\n",
              "      <td>0.0</td>\n",
              "      <td>0.00</td>\n",
              "      <td>0.0</td>\n",
              "    </tr>\n",
              "    <tr>\n",
              "      <th>k</th>\n",
              "      <td>0.00</td>\n",
              "      <td>0.0</td>\n",
              "      <td>0.00</td>\n",
              "      <td>0.00</td>\n",
              "      <td>0.55</td>\n",
              "      <td>0.00</td>\n",
              "      <td>0.00</td>\n",
              "      <td>0.00</td>\n",
              "      <td>0.00</td>\n",
              "      <td>0.0</td>\n",
              "      <td>...</td>\n",
              "      <td>0.0</td>\n",
              "      <td>0.00</td>\n",
              "      <td>0.44</td>\n",
              "      <td>0.00</td>\n",
              "      <td>0.00</td>\n",
              "      <td>0.00</td>\n",
              "      <td>0.00</td>\n",
              "      <td>0.0</td>\n",
              "      <td>0.00</td>\n",
              "      <td>0.0</td>\n",
              "    </tr>\n",
              "    <tr>\n",
              "      <th>l</th>\n",
              "      <td>0.17</td>\n",
              "      <td>0.0</td>\n",
              "      <td>0.00</td>\n",
              "      <td>0.33</td>\n",
              "      <td>0.09</td>\n",
              "      <td>0.00</td>\n",
              "      <td>0.00</td>\n",
              "      <td>0.00</td>\n",
              "      <td>0.04</td>\n",
              "      <td>0.0</td>\n",
              "      <td>...</td>\n",
              "      <td>0.0</td>\n",
              "      <td>0.00</td>\n",
              "      <td>0.00</td>\n",
              "      <td>0.00</td>\n",
              "      <td>0.00</td>\n",
              "      <td>0.00</td>\n",
              "      <td>0.00</td>\n",
              "      <td>0.0</td>\n",
              "      <td>0.33</td>\n",
              "      <td>0.0</td>\n",
              "    </tr>\n",
              "    <tr>\n",
              "      <th>m</th>\n",
              "      <td>0.04</td>\n",
              "      <td>0.0</td>\n",
              "      <td>0.00</td>\n",
              "      <td>0.00</td>\n",
              "      <td>0.25</td>\n",
              "      <td>0.00</td>\n",
              "      <td>0.00</td>\n",
              "      <td>0.00</td>\n",
              "      <td>0.58</td>\n",
              "      <td>0.0</td>\n",
              "      <td>...</td>\n",
              "      <td>0.0</td>\n",
              "      <td>0.00</td>\n",
              "      <td>0.00</td>\n",
              "      <td>0.00</td>\n",
              "      <td>0.00</td>\n",
              "      <td>0.00</td>\n",
              "      <td>0.00</td>\n",
              "      <td>0.0</td>\n",
              "      <td>0.02</td>\n",
              "      <td>0.0</td>\n",
              "    </tr>\n",
              "    <tr>\n",
              "      <th>n</th>\n",
              "      <td>0.00</td>\n",
              "      <td>0.0</td>\n",
              "      <td>0.00</td>\n",
              "      <td>0.27</td>\n",
              "      <td>0.03</td>\n",
              "      <td>0.00</td>\n",
              "      <td>0.19</td>\n",
              "      <td>0.00</td>\n",
              "      <td>0.00</td>\n",
              "      <td>0.0</td>\n",
              "      <td>...</td>\n",
              "      <td>0.0</td>\n",
              "      <td>0.00</td>\n",
              "      <td>0.00</td>\n",
              "      <td>0.00</td>\n",
              "      <td>0.00</td>\n",
              "      <td>0.00</td>\n",
              "      <td>0.00</td>\n",
              "      <td>0.0</td>\n",
              "      <td>0.00</td>\n",
              "      <td>0.0</td>\n",
              "    </tr>\n",
              "    <tr>\n",
              "      <th>o</th>\n",
              "      <td>0.00</td>\n",
              "      <td>0.0</td>\n",
              "      <td>0.01</td>\n",
              "      <td>0.00</td>\n",
              "      <td>0.00</td>\n",
              "      <td>0.00</td>\n",
              "      <td>0.00</td>\n",
              "      <td>0.00</td>\n",
              "      <td>0.00</td>\n",
              "      <td>0.0</td>\n",
              "      <td>...</td>\n",
              "      <td>0.0</td>\n",
              "      <td>0.20</td>\n",
              "      <td>0.00</td>\n",
              "      <td>0.20</td>\n",
              "      <td>0.31</td>\n",
              "      <td>0.00</td>\n",
              "      <td>0.00</td>\n",
              "      <td>0.0</td>\n",
              "      <td>0.00</td>\n",
              "      <td>0.0</td>\n",
              "    </tr>\n",
              "    <tr>\n",
              "      <th>p</th>\n",
              "      <td>0.13</td>\n",
              "      <td>0.0</td>\n",
              "      <td>0.00</td>\n",
              "      <td>0.00</td>\n",
              "      <td>0.01</td>\n",
              "      <td>0.00</td>\n",
              "      <td>0.00</td>\n",
              "      <td>0.50</td>\n",
              "      <td>0.25</td>\n",
              "      <td>0.0</td>\n",
              "      <td>...</td>\n",
              "      <td>0.0</td>\n",
              "      <td>0.06</td>\n",
              "      <td>0.00</td>\n",
              "      <td>0.00</td>\n",
              "      <td>0.00</td>\n",
              "      <td>0.00</td>\n",
              "      <td>0.03</td>\n",
              "      <td>0.0</td>\n",
              "      <td>0.00</td>\n",
              "      <td>0.0</td>\n",
              "    </tr>\n",
              "    <tr>\n",
              "      <th>q</th>\n",
              "      <td>0.00</td>\n",
              "      <td>0.0</td>\n",
              "      <td>0.00</td>\n",
              "      <td>0.00</td>\n",
              "      <td>0.00</td>\n",
              "      <td>0.00</td>\n",
              "      <td>0.00</td>\n",
              "      <td>0.00</td>\n",
              "      <td>0.00</td>\n",
              "      <td>0.0</td>\n",
              "      <td>...</td>\n",
              "      <td>0.0</td>\n",
              "      <td>0.00</td>\n",
              "      <td>0.00</td>\n",
              "      <td>0.00</td>\n",
              "      <td>1.00</td>\n",
              "      <td>0.00</td>\n",
              "      <td>0.00</td>\n",
              "      <td>0.0</td>\n",
              "      <td>0.00</td>\n",
              "      <td>0.0</td>\n",
              "    </tr>\n",
              "    <tr>\n",
              "      <th>r</th>\n",
              "      <td>0.11</td>\n",
              "      <td>0.0</td>\n",
              "      <td>0.06</td>\n",
              "      <td>0.00</td>\n",
              "      <td>0.43</td>\n",
              "      <td>0.00</td>\n",
              "      <td>0.00</td>\n",
              "      <td>0.00</td>\n",
              "      <td>0.00</td>\n",
              "      <td>0.0</td>\n",
              "      <td>...</td>\n",
              "      <td>0.0</td>\n",
              "      <td>0.00</td>\n",
              "      <td>0.00</td>\n",
              "      <td>0.00</td>\n",
              "      <td>0.06</td>\n",
              "      <td>0.00</td>\n",
              "      <td>0.00</td>\n",
              "      <td>0.0</td>\n",
              "      <td>0.00</td>\n",
              "      <td>0.0</td>\n",
              "    </tr>\n",
              "    <tr>\n",
              "      <th>s</th>\n",
              "      <td>0.09</td>\n",
              "      <td>0.0</td>\n",
              "      <td>0.00</td>\n",
              "      <td>0.00</td>\n",
              "      <td>0.22</td>\n",
              "      <td>0.00</td>\n",
              "      <td>0.00</td>\n",
              "      <td>0.02</td>\n",
              "      <td>0.40</td>\n",
              "      <td>0.0</td>\n",
              "      <td>...</td>\n",
              "      <td>0.0</td>\n",
              "      <td>0.00</td>\n",
              "      <td>0.20</td>\n",
              "      <td>0.07</td>\n",
              "      <td>0.00</td>\n",
              "      <td>0.00</td>\n",
              "      <td>0.00</td>\n",
              "      <td>0.0</td>\n",
              "      <td>0.00</td>\n",
              "      <td>0.0</td>\n",
              "    </tr>\n",
              "    <tr>\n",
              "      <th>t</th>\n",
              "      <td>0.00</td>\n",
              "      <td>0.0</td>\n",
              "      <td>0.00</td>\n",
              "      <td>0.00</td>\n",
              "      <td>0.13</td>\n",
              "      <td>0.00</td>\n",
              "      <td>0.00</td>\n",
              "      <td>0.75</td>\n",
              "      <td>0.00</td>\n",
              "      <td>0.0</td>\n",
              "      <td>...</td>\n",
              "      <td>0.0</td>\n",
              "      <td>0.13</td>\n",
              "      <td>0.00</td>\n",
              "      <td>0.00</td>\n",
              "      <td>0.00</td>\n",
              "      <td>0.00</td>\n",
              "      <td>0.00</td>\n",
              "      <td>0.0</td>\n",
              "      <td>0.00</td>\n",
              "      <td>0.0</td>\n",
              "    </tr>\n",
              "    <tr>\n",
              "      <th>u</th>\n",
              "      <td>0.00</td>\n",
              "      <td>0.0</td>\n",
              "      <td>0.00</td>\n",
              "      <td>0.00</td>\n",
              "      <td>0.00</td>\n",
              "      <td>0.00</td>\n",
              "      <td>0.00</td>\n",
              "      <td>0.00</td>\n",
              "      <td>0.17</td>\n",
              "      <td>0.0</td>\n",
              "      <td>...</td>\n",
              "      <td>0.0</td>\n",
              "      <td>0.00</td>\n",
              "      <td>0.17</td>\n",
              "      <td>0.03</td>\n",
              "      <td>0.00</td>\n",
              "      <td>0.00</td>\n",
              "      <td>0.00</td>\n",
              "      <td>0.0</td>\n",
              "      <td>0.00</td>\n",
              "      <td>0.0</td>\n",
              "    </tr>\n",
              "    <tr>\n",
              "      <th>v</th>\n",
              "      <td>0.25</td>\n",
              "      <td>0.0</td>\n",
              "      <td>0.00</td>\n",
              "      <td>0.00</td>\n",
              "      <td>0.16</td>\n",
              "      <td>0.00</td>\n",
              "      <td>0.00</td>\n",
              "      <td>0.00</td>\n",
              "      <td>0.56</td>\n",
              "      <td>0.0</td>\n",
              "      <td>...</td>\n",
              "      <td>0.0</td>\n",
              "      <td>0.00</td>\n",
              "      <td>0.00</td>\n",
              "      <td>0.00</td>\n",
              "      <td>0.00</td>\n",
              "      <td>0.00</td>\n",
              "      <td>0.00</td>\n",
              "      <td>0.0</td>\n",
              "      <td>0.00</td>\n",
              "      <td>0.0</td>\n",
              "    </tr>\n",
              "    <tr>\n",
              "      <th>w</th>\n",
              "      <td>0.50</td>\n",
              "      <td>0.0</td>\n",
              "      <td>0.00</td>\n",
              "      <td>0.00</td>\n",
              "      <td>0.00</td>\n",
              "      <td>0.00</td>\n",
              "      <td>0.00</td>\n",
              "      <td>0.04</td>\n",
              "      <td>0.28</td>\n",
              "      <td>0.0</td>\n",
              "      <td>...</td>\n",
              "      <td>0.0</td>\n",
              "      <td>0.00</td>\n",
              "      <td>0.00</td>\n",
              "      <td>0.00</td>\n",
              "      <td>0.00</td>\n",
              "      <td>0.00</td>\n",
              "      <td>0.00</td>\n",
              "      <td>0.0</td>\n",
              "      <td>0.00</td>\n",
              "      <td>0.0</td>\n",
              "    </tr>\n",
              "    <tr>\n",
              "      <th>x</th>\n",
              "      <td>0.00</td>\n",
              "      <td>0.0</td>\n",
              "      <td>0.00</td>\n",
              "      <td>0.00</td>\n",
              "      <td>0.07</td>\n",
              "      <td>0.00</td>\n",
              "      <td>0.00</td>\n",
              "      <td>0.00</td>\n",
              "      <td>0.88</td>\n",
              "      <td>0.0</td>\n",
              "      <td>...</td>\n",
              "      <td>0.0</td>\n",
              "      <td>0.00</td>\n",
              "      <td>0.00</td>\n",
              "      <td>0.05</td>\n",
              "      <td>0.00</td>\n",
              "      <td>0.00</td>\n",
              "      <td>0.00</td>\n",
              "      <td>0.0</td>\n",
              "      <td>0.00</td>\n",
              "      <td>0.0</td>\n",
              "    </tr>\n",
              "    <tr>\n",
              "      <th>y</th>\n",
              "      <td>0.30</td>\n",
              "      <td>0.0</td>\n",
              "      <td>0.00</td>\n",
              "      <td>0.00</td>\n",
              "      <td>0.69</td>\n",
              "      <td>0.00</td>\n",
              "      <td>0.00</td>\n",
              "      <td>0.00</td>\n",
              "      <td>0.01</td>\n",
              "      <td>0.0</td>\n",
              "      <td>...</td>\n",
              "      <td>0.0</td>\n",
              "      <td>0.00</td>\n",
              "      <td>0.00</td>\n",
              "      <td>0.00</td>\n",
              "      <td>0.00</td>\n",
              "      <td>0.00</td>\n",
              "      <td>0.00</td>\n",
              "      <td>0.0</td>\n",
              "      <td>0.00</td>\n",
              "      <td>0.0</td>\n",
              "    </tr>\n",
              "    <tr>\n",
              "      <th>z</th>\n",
              "      <td>0.00</td>\n",
              "      <td>0.0</td>\n",
              "      <td>0.00</td>\n",
              "      <td>0.00</td>\n",
              "      <td>0.90</td>\n",
              "      <td>0.00</td>\n",
              "      <td>0.00</td>\n",
              "      <td>0.00</td>\n",
              "      <td>0.10</td>\n",
              "      <td>0.0</td>\n",
              "      <td>...</td>\n",
              "      <td>0.0</td>\n",
              "      <td>0.00</td>\n",
              "      <td>0.00</td>\n",
              "      <td>0.00</td>\n",
              "      <td>0.00</td>\n",
              "      <td>0.00</td>\n",
              "      <td>0.00</td>\n",
              "      <td>0.0</td>\n",
              "      <td>0.00</td>\n",
              "      <td>0.0</td>\n",
              "    </tr>\n",
              "  </tbody>\n",
              "</table>\n",
              "<p>26 rows × 26 columns</p>\n",
              "</div>\n",
              "      <button class=\"colab-df-convert\" onclick=\"convertToInteractive('df-40fd4cb8-bf2c-4c14-955e-afd3f95b18fc')\"\n",
              "              title=\"Convert this dataframe to an interactive table.\"\n",
              "              style=\"display:none;\">\n",
              "        \n",
              "  <svg xmlns=\"http://www.w3.org/2000/svg\" height=\"24px\"viewBox=\"0 0 24 24\"\n",
              "       width=\"24px\">\n",
              "    <path d=\"M0 0h24v24H0V0z\" fill=\"none\"/>\n",
              "    <path d=\"M18.56 5.44l.94 2.06.94-2.06 2.06-.94-2.06-.94-.94-2.06-.94 2.06-2.06.94zm-11 1L8.5 8.5l.94-2.06 2.06-.94-2.06-.94L8.5 2.5l-.94 2.06-2.06.94zm10 10l.94 2.06.94-2.06 2.06-.94-2.06-.94-.94-2.06-.94 2.06-2.06.94z\"/><path d=\"M17.41 7.96l-1.37-1.37c-.4-.4-.92-.59-1.43-.59-.52 0-1.04.2-1.43.59L10.3 9.45l-7.72 7.72c-.78.78-.78 2.05 0 2.83L4 21.41c.39.39.9.59 1.41.59.51 0 1.02-.2 1.41-.59l7.78-7.78 2.81-2.81c.8-.78.8-2.07 0-2.86zM5.41 20L4 18.59l7.72-7.72 1.47 1.35L5.41 20z\"/>\n",
              "  </svg>\n",
              "      </button>\n",
              "      \n",
              "  <style>\n",
              "    .colab-df-container {\n",
              "      display:flex;\n",
              "      flex-wrap:wrap;\n",
              "      gap: 12px;\n",
              "    }\n",
              "\n",
              "    .colab-df-convert {\n",
              "      background-color: #E8F0FE;\n",
              "      border: none;\n",
              "      border-radius: 50%;\n",
              "      cursor: pointer;\n",
              "      display: none;\n",
              "      fill: #1967D2;\n",
              "      height: 32px;\n",
              "      padding: 0 0 0 0;\n",
              "      width: 32px;\n",
              "    }\n",
              "\n",
              "    .colab-df-convert:hover {\n",
              "      background-color: #E2EBFA;\n",
              "      box-shadow: 0px 1px 2px rgba(60, 64, 67, 0.3), 0px 1px 3px 1px rgba(60, 64, 67, 0.15);\n",
              "      fill: #174EA6;\n",
              "    }\n",
              "\n",
              "    [theme=dark] .colab-df-convert {\n",
              "      background-color: #3B4455;\n",
              "      fill: #D2E3FC;\n",
              "    }\n",
              "\n",
              "    [theme=dark] .colab-df-convert:hover {\n",
              "      background-color: #434B5C;\n",
              "      box-shadow: 0px 1px 3px 1px rgba(0, 0, 0, 0.15);\n",
              "      filter: drop-shadow(0px 1px 2px rgba(0, 0, 0, 0.3));\n",
              "      fill: #FFFFFF;\n",
              "    }\n",
              "  </style>\n",
              "\n",
              "      <script>\n",
              "        const buttonEl =\n",
              "          document.querySelector('#df-40fd4cb8-bf2c-4c14-955e-afd3f95b18fc button.colab-df-convert');\n",
              "        buttonEl.style.display =\n",
              "          google.colab.kernel.accessAllowed ? 'block' : 'none';\n",
              "\n",
              "        async function convertToInteractive(key) {\n",
              "          const element = document.querySelector('#df-40fd4cb8-bf2c-4c14-955e-afd3f95b18fc');\n",
              "          const dataTable =\n",
              "            await google.colab.kernel.invokeFunction('convertToInteractive',\n",
              "                                                     [key], {});\n",
              "          if (!dataTable) return;\n",
              "\n",
              "          const docLinkHtml = 'Like what you see? Visit the ' +\n",
              "            '<a target=\"_blank\" href=https://colab.research.google.com/notebooks/data_table.ipynb>data table notebook</a>'\n",
              "            + ' to learn more about interactive tables.';\n",
              "          element.innerHTML = '';\n",
              "          dataTable['output_type'] = 'display_data';\n",
              "          await google.colab.output.renderOutput(dataTable, element);\n",
              "          const docLink = document.createElement('div');\n",
              "          docLink.innerHTML = docLinkHtml;\n",
              "          element.appendChild(docLink);\n",
              "        }\n",
              "      </script>\n",
              "    </div>\n",
              "  </div>\n",
              "  "
            ]
          },
          "metadata": {},
          "execution_count": 51
        }
      ]
    },
    {
      "cell_type": "code",
      "source": [
        "sample = '''My cabby drove fast. I don't think I ever drove faster, but the others\n",
        "were there before us. The cab and the landau with their steaming horses\n",
        "were in front of the door when I arrived. I paid the man and hurried\n",
        "into the church. There was not a soul there save the two whom I had\n",
        "followed and a surpliced clergyman, who seemed to be expostulating with\n",
        "them. They were all three standing in a knot in front of the altar. I\n",
        "lounged up the side aisle like any other idler who has dropped into a\n",
        "church. Suddenly, to my surprise, the three at the altar faced round to\n",
        "me, and Godfrey Norton came running as hard as he could towards me.\n",
        "'''"
      ],
      "metadata": {
        "id": "F0g6fmzkpLuP"
      },
      "execution_count": 53,
      "outputs": []
    },
    {
      "cell_type": "code",
      "source": [
        "def encoder(text):\n",
        "  text = text.lower()\n",
        "  text = regex.sub(' ', text)\n",
        "  coded_text = []\n",
        "  for char in text:\n",
        "    maped_char = mapping_dic.get(char)\n",
        "    maped_char = maped_char if maped_char else char\n",
        "    coded_text.append(maped_char)\n",
        "  return ''.join(coded_text)"
      ],
      "metadata": {
        "id": "hzLxqZnbrFyD"
      },
      "execution_count": 89,
      "outputs": []
    },
    {
      "cell_type": "code",
      "source": [
        "encoded_sample = encoder(sample)"
      ],
      "metadata": {
        "id": "L4hj6l8lryT8"
      },
      "execution_count": 90,
      "outputs": []
    },
    {
      "cell_type": "code",
      "source": [
        "encoded_sample"
      ],
      "metadata": {
        "colab": {
          "base_uri": "https://localhost:8080/",
          "height": 157
        },
        "id": "DhDLlCVurzkR",
        "outputId": "684b54a3-ec90-4b80-9274-57021d60ff4a"
      },
      "execution_count": 91,
      "outputs": [
        {
          "output_type": "execute_result",
          "data": {
            "text/plain": [
              "'aq ztxxq bnvir htje  c bvo e elcog c rirn bnvir htjern  xwe elr velrnj srnr elrnr xrhvnr wj  elr ztx tob elr utobtw scel elrcn jertacop lvnjrj srnr co hnvoe vh elr bvvn slro c tnncirb  c dtcb elr ato tob lwnncrb coev elr zlwnzl  elrnr stj ove t jvwu elrnr jtir elr esv slva c ltb hvuuvsrb tob t jwnduczrb zurnpqato  slv jrrarb ev xr rydvjewutecop scel elra  elrq srnr tuu elnrr jetobcop co t gove co hnvoe vh elr tuetn  c uvwoprb wd elr jcbr tcjur ucgr toq velrn cburn slv ltj bnvddrb coev t zlwnzl  jwbbrouq  ev aq jwndncjr  elr elnrr te elr tuetn htzrb nvwob ev ar  tob pvbhnrq ovnevo ztar nwoocop tj ltnb tj lr zvwub evstnbj ar  '"
            ],
            "application/vnd.google.colaboratory.intrinsic+json": {
              "type": "string"
            }
          },
          "metadata": {},
          "execution_count": 91
        }
      ]
    },
    {
      "cell_type": "code",
      "source": [
        "decoder_dic = {}\n",
        "for k, v in mapping_dic.items():\n",
        "  decoder_dic[v] = k"
      ],
      "metadata": {
        "id": "7PVzfPRmtMJb"
      },
      "execution_count": 107,
      "outputs": []
    },
    {
      "cell_type": "code",
      "source": [
        "decoder_dic"
      ],
      "metadata": {
        "colab": {
          "base_uri": "https://localhost:8080/"
        },
        "id": "WH2LAeIgtfAj",
        "outputId": "a0f4ffb4-8ec1-43b5-c92c-3f390ac9a4a7"
      },
      "execution_count": 108,
      "outputs": [
        {
          "output_type": "execute_result",
          "data": {
            "text/plain": [
              "{'a': 'm',\n",
              " 'b': 'd',\n",
              " 'c': 'i',\n",
              " 'd': 'p',\n",
              " 'e': 't',\n",
              " 'f': 'q',\n",
              " 'g': 'k',\n",
              " 'h': 'f',\n",
              " 'i': 'v',\n",
              " 'j': 's',\n",
              " 'k': 'z',\n",
              " 'l': 'h',\n",
              " 'm': 'j',\n",
              " 'n': 'r',\n",
              " 'o': 'n',\n",
              " 'p': 'g',\n",
              " 'q': 'y',\n",
              " 'r': 'e',\n",
              " 's': 'w',\n",
              " 't': 'a',\n",
              " 'u': 'l',\n",
              " 'v': 'o',\n",
              " 'w': 'u',\n",
              " 'x': 'b',\n",
              " 'y': 'x',\n",
              " 'z': 'c'}"
            ]
          },
          "metadata": {},
          "execution_count": 108
        }
      ]
    },
    {
      "cell_type": "code",
      "source": [
        "def decoder(text):\n",
        "  decoded_text = []\n",
        "  for char in text:\n",
        "    maped_char = decoder_dic.get(char)\n",
        "    maped_char = maped_char if maped_char else char\n",
        "    decoded_text.append(maped_char)\n",
        "  return ''.join(decoded_text)"
      ],
      "metadata": {
        "id": "kp_N-UyJszqg"
      },
      "execution_count": 111,
      "outputs": []
    },
    {
      "cell_type": "code",
      "source": [
        "decoded_sample = decoder(encoded_sample)"
      ],
      "metadata": {
        "id": "1_hKjrRjvCjR"
      },
      "execution_count": 114,
      "outputs": []
    },
    {
      "cell_type": "code",
      "source": [
        "decoded_sample"
      ],
      "metadata": {
        "colab": {
          "base_uri": "https://localhost:8080/",
          "height": 157
        },
        "id": "F18-AASuvOS1",
        "outputId": "e1295a2c-7653-4e10-d5a4-77c69f02c3fd"
      },
      "execution_count": 115,
      "outputs": [
        {
          "output_type": "execute_result",
          "data": {
            "text/plain": [
              "'my cabby drove fast  i don t think i ever drove faster  but the others were there before us  the cab and the landau with their steaming horses were in front of the door when i arrived  i paid the man and hurried into the church  there was not a soul there save the two whom i had followed and a surpliced clergyman  who seemed to be expostulating with them  they were all three standing in a knot in front of the altar  i lounged up the side aisle like any other idler who has dropped into a church  suddenly  to my surprise  the three at the altar faced round to me  and godfrey norton came running as hard as he could towards me  '"
            ],
            "application/vnd.google.colaboratory.intrinsic+json": {
              "type": "string"
            }
          },
          "metadata": {},
          "execution_count": 115
        }
      ]
    },
    {
      "cell_type": "code",
      "source": [
        "pred = np.array(decoded_sample.split())\n",
        "original = np.array(regex.sub(' ', sample.lower()).split())"
      ],
      "metadata": {
        "id": "Tg7zEypAv871"
      },
      "execution_count": 125,
      "outputs": []
    },
    {
      "cell_type": "code",
      "source": [
        "pred[:10]"
      ],
      "metadata": {
        "colab": {
          "base_uri": "https://localhost:8080/"
        },
        "id": "lGi-FFBLwTFT",
        "outputId": "1aa9c8ee-947d-462d-cb8d-de83dcdca787"
      },
      "execution_count": 126,
      "outputs": [
        {
          "output_type": "execute_result",
          "data": {
            "text/plain": [
              "array(['my', 'cabby', 'drove', 'fast', 'i', 'don', 't', 'think', 'i',\n",
              "       'ever'], dtype='<U13')"
            ]
          },
          "metadata": {},
          "execution_count": 126
        }
      ]
    },
    {
      "cell_type": "code",
      "source": [
        "original[:10]"
      ],
      "metadata": {
        "colab": {
          "base_uri": "https://localhost:8080/"
        },
        "id": "d7oo55HowcBC",
        "outputId": "4c5c141d-2627-4721-e977-40af76100ae2"
      },
      "execution_count": 127,
      "outputs": [
        {
          "output_type": "execute_result",
          "data": {
            "text/plain": [
              "array(['my', 'cabby', 'drove', 'fast', 'i', 'don', 't', 'think', 'i',\n",
              "       'ever'], dtype='<U13')"
            ]
          },
          "metadata": {},
          "execution_count": 127
        }
      ]
    },
    {
      "cell_type": "code",
      "source": [
        "pred.shape, original.shape"
      ],
      "metadata": {
        "colab": {
          "base_uri": "https://localhost:8080/"
        },
        "id": "1_fHahyvwj5X",
        "outputId": "bcf8a19d-9274-466e-cec9-8bc8ff3b4d9d"
      },
      "execution_count": 128,
      "outputs": [
        {
          "output_type": "execute_result",
          "data": {
            "text/plain": [
              "((124,), (124,))"
            ]
          },
          "metadata": {},
          "execution_count": 128
        }
      ]
    },
    {
      "cell_type": "code",
      "source": [
        "100 * np.sum(pred == original) / len(pred)"
      ],
      "metadata": {
        "colab": {
          "base_uri": "https://localhost:8080/"
        },
        "id": "2yRYQJ0swdES",
        "outputId": "4315bc8a-9380-43ec-c530-bd44da28b266"
      },
      "execution_count": 130,
      "outputs": [
        {
          "output_type": "execute_result",
          "data": {
            "text/plain": [
              "100.0"
            ]
          },
          "metadata": {},
          "execution_count": 130
        }
      ]
    },
    {
      "cell_type": "code",
      "source": [
        "dna_population = []\n",
        "for _ in range(10):\n",
        "  np.random.shuffle(letters2)\n",
        "  dna_population.append(letters2)"
      ],
      "metadata": {
        "id": "3WdCjED3wh4K"
      },
      "execution_count": 151,
      "outputs": []
    },
    {
      "cell_type": "code",
      "source": [
        "dna_population[2]"
      ],
      "metadata": {
        "colab": {
          "base_uri": "https://localhost:8080/"
        },
        "id": "e-HAOwuOxZnE",
        "outputId": "e9004189-facd-436b-f6e0-3db1c4aa22b3"
      },
      "execution_count": 153,
      "outputs": [
        {
          "output_type": "execute_result",
          "data": {
            "text/plain": [
              "['z',\n",
              " 'i',\n",
              " 'v',\n",
              " 'h',\n",
              " 'c',\n",
              " 'n',\n",
              " 'a',\n",
              " 'd',\n",
              " 'l',\n",
              " 'e',\n",
              " 'q',\n",
              " 'g',\n",
              " 'w',\n",
              " 't',\n",
              " 'o',\n",
              " 's',\n",
              " 'r',\n",
              " 'j',\n",
              " 'p',\n",
              " 'm',\n",
              " 'u',\n",
              " 'y',\n",
              " 'b',\n",
              " 'f',\n",
              " 'x',\n",
              " 'k']"
            ]
          },
          "metadata": {},
          "execution_count": 153
        }
      ]
    },
    {
      "cell_type": "code",
      "source": [
        "def offspring(pop, num_children):\n",
        "  offspring_list=[]\n",
        "  for dna in pop:\n",
        "    for i in range(num_children):\n",
        "      copy_dna = dna.copy()\n",
        "      j = np.random.randint(len(copy_dna))\n",
        "      k = np.random.randint(len(copy_dna))\n",
        "\n",
        "      temp = copy_dna[j]\n",
        "      copy_dna[j] = copy_dna[k]\n",
        "      copy_dna[k] = temp\n",
        "      offspring_list.append(copy_dna)\n",
        "  return offspring_list + pop"
      ],
      "metadata": {
        "id": "-4BWbInpxgul"
      },
      "execution_count": 154,
      "outputs": []
    },
    {
      "cell_type": "code",
      "source": [
        "num_iters = 100\n",
        "scores = np.zeros(num_iters)\n",
        "best_dna, best_map, best_score = None, None, float('-inf')\n",
        "for i in range(num_iters):\n",
        "  if i > 0:\n",
        "    dna_population = offspring(dna_population, 2)\n",
        "\n",
        "  dna2scores = {}\n",
        "  for dna in dna_population:\n",
        "    decoded_text = decoder(encoded_sample)\n",
        "    score = sequence_prob(decoded_text)\n",
        "    dna2scores[''.join(dna)] = score\n",
        "\n",
        "    if score > best_score:\n",
        "      best_score = score\n",
        "      best_dna = dna\n",
        "      best_map = encoded_sample\n",
        "  \n",
        "  scores[i] = np.mean(list(dna2scores.values()))\n",
        "  sorted_dna = sorted(dna2scores.items(), key=lambda x: x[1], reverse=True)\n",
        "  dna_pool = [list(k) for k, v in sorted_dna[:5]]\n",
        "\n",
        "  if i%10 == 0:\n",
        "    print(f'Iteration {i}, Current score is: {scores[i]}, Best Score is: {best_score}')"
      ],
      "metadata": {
        "colab": {
          "base_uri": "https://localhost:8080/"
        },
        "id": "SJUG-ZZy2jeJ",
        "outputId": "e1d11314-1e8e-49c3-820f-d7b79a65f840"
      },
      "execution_count": null,
      "outputs": [
        {
          "output_type": "stream",
          "name": "stdout",
          "text": [
            "Iteration 0, Current score is: -4120.423628346766, Best Score is: -4120.423628346766\n"
          ]
        }
      ]
    },
    {
      "cell_type": "code",
      "source": [
        ""
      ],
      "metadata": {
        "id": "_bfkCtKY4VmV"
      },
      "execution_count": null,
      "outputs": []
    }
  ]
}