{
  "nbformat": 4,
  "nbformat_minor": 0,
  "metadata": {
    "colab": {
      "name": "NLP-Text-PreProcessing.ipynb",
      "provenance": [],
      "collapsed_sections": [
        "TYPEaAgXV-EN",
        "0mOPQn0DWFdD"
      ],
      "authorship_tag": "ABX9TyOECfqjoiIYi5SHpMDI6RpX",
      "include_colab_link": true
    },
    "kernelspec": {
      "name": "python3",
      "display_name": "Python 3"
    },
    "language_info": {
      "name": "python"
    }
  },
  "cells": [
    {
      "cell_type": "markdown",
      "metadata": {
        "id": "view-in-github",
        "colab_type": "text"
      },
      "source": [
        "<a href=\"https://colab.research.google.com/github/mralamdari/NLP-Text-Processing/blob/main/NLP_Text_PreProcessing.ipynb\" target=\"_parent\"><img src=\"https://colab.research.google.com/assets/colab-badge.svg\" alt=\"Open In Colab\"/></a>"
      ]
    },
    {
      "cell_type": "code",
      "execution_count": 1,
      "metadata": {
        "id": "GD6K9gKUjIOy"
      },
      "outputs": [],
      "source": [
        "import re\n",
        "import nltk\n",
        "import spacy\n",
        "import string\n",
        "import numpy as np"
      ]
    },
    {
      "cell_type": "code",
      "source": [
        "corpus_original = \"Need to finalize the demo corpus which will be used for this notebook and it should be done soon !!. It should be done by the ending of this month. But will it? This notebook has been run 4 times !!\"\n",
        "corpus = \"Need to finalize the demo corpus which will be used for this notebook & should be done soon !!. It should be done by the ending of this month. But will it? This notebook has been run 4 times !!\""
      ],
      "metadata": {
        "id": "lUrdtzgOoeHL"
      },
      "execution_count": 2,
      "outputs": []
    },
    {
      "cell_type": "code",
      "source": [
        "corpus = re.sub(r'\\d+', '', corpus.lower())"
      ],
      "metadata": {
        "id": "SGHk8_EVogwC"
      },
      "execution_count": 3,
      "outputs": []
    },
    {
      "cell_type": "code",
      "source": [
        "corpus"
      ],
      "metadata": {
        "colab": {
          "base_uri": "https://localhost:8080/",
          "height": 53
        },
        "id": "y4HoUeAZ2Z9S",
        "outputId": "9d382f4b-913e-46d0-8705-f3b6e57acab9"
      },
      "execution_count": 4,
      "outputs": [
        {
          "output_type": "execute_result",
          "data": {
            "text/plain": [
              "'need to finalize the demo corpus which will be used for this notebook & should be done soon !!. it should be done by the ending of this month. but will it? this notebook has been run  times !!'"
            ],
            "application/vnd.google.colaboratory.intrinsic+json": {
              "type": "string"
            }
          },
          "metadata": {},
          "execution_count": 4
        }
      ]
    },
    {
      "cell_type": "code",
      "source": [
        "corpus = corpus.translate(str.maketrans('', '', string.punctuation))"
      ],
      "metadata": {
        "id": "8UIoZi_H5mJh"
      },
      "execution_count": 5,
      "outputs": []
    },
    {
      "cell_type": "code",
      "source": [
        "print(string.punctuation)\n",
        "corpus"
      ],
      "metadata": {
        "colab": {
          "base_uri": "https://localhost:8080/",
          "height": 70
        },
        "id": "fXYooP_f53ZM",
        "outputId": "263d0ef6-5695-49bc-9047-31cb2b3f524b"
      },
      "execution_count": 6,
      "outputs": [
        {
          "output_type": "stream",
          "name": "stdout",
          "text": [
            "!\"#$%&'()*+,-./:;<=>?@[\\]^_`{|}~\n"
          ]
        },
        {
          "output_type": "execute_result",
          "data": {
            "text/plain": [
              "'need to finalize the demo corpus which will be used for this notebook  should be done soon  it should be done by the ending of this month but will it this notebook has been run  times '"
            ],
            "application/vnd.google.colaboratory.intrinsic+json": {
              "type": "string"
            }
          },
          "metadata": {},
          "execution_count": 6
        }
      ]
    },
    {
      "cell_type": "code",
      "source": [
        "corpus = ' '.join([token for token in corpus.split()])"
      ],
      "metadata": {
        "id": "A_FGtycN54l0"
      },
      "execution_count": 7,
      "outputs": []
    },
    {
      "cell_type": "code",
      "source": [
        "corpus"
      ],
      "metadata": {
        "colab": {
          "base_uri": "https://localhost:8080/",
          "height": 53
        },
        "id": "rZdDWisl7RIx",
        "outputId": "581c21cd-61e8-45e1-9473-9b2bd2b46a8f"
      },
      "execution_count": 8,
      "outputs": [
        {
          "output_type": "execute_result",
          "data": {
            "text/plain": [
              "'need to finalize the demo corpus which will be used for this notebook should be done soon it should be done by the ending of this month but will it this notebook has been run times'"
            ],
            "application/vnd.google.colaboratory.intrinsic+json": {
              "type": "string"
            }
          },
          "metadata": {},
          "execution_count": 8
        }
      ]
    },
    {
      "cell_type": "code",
      "source": [
        "!python -m spacy download en_core_web_sm\n",
        "spacy_model = spacy.load('en_core_web_sm')"
      ],
      "metadata": {
        "id": "WJB40W7A7RUl"
      },
      "execution_count": 10,
      "outputs": []
    },
    {
      "cell_type": "markdown",
      "source": [
        "##Tokenize the Text"
      ],
      "metadata": {
        "id": "7Qe5dDXaVTOP"
      }
    },
    {
      "cell_type": "markdown",
      "source": [
        "###Stop Words"
      ],
      "metadata": {
        "id": "Wq31EKDPV0f_"
      }
    },
    {
      "cell_type": "markdown",
      "source": [
        "####Stop Words with NLTK"
      ],
      "metadata": {
        "id": "TYPEaAgXV-EN"
      }
    },
    {
      "cell_type": "code",
      "source": [
        "import nltk\n",
        "nltk.download('stopwords')\n",
        "nltk.download('punkt')"
      ],
      "metadata": {
        "id": "GslfQw877VxV",
        "colab": {
          "base_uri": "https://localhost:8080/"
        },
        "outputId": "cd2a0b52-dc1e-4354-e3e2-5eb251d5f6d2"
      },
      "execution_count": 11,
      "outputs": [
        {
          "output_type": "stream",
          "name": "stdout",
          "text": [
            "[nltk_data] Downloading package stopwords to /root/nltk_data...\n",
            "[nltk_data]   Unzipping corpora/stopwords.zip.\n",
            "[nltk_data] Downloading package punkt to /root/nltk_data...\n",
            "[nltk_data]   Unzipping tokenizers/punkt.zip.\n"
          ]
        },
        {
          "output_type": "execute_result",
          "data": {
            "text/plain": [
              "True"
            ]
          },
          "metadata": {},
          "execution_count": 11
        }
      ]
    },
    {
      "cell_type": "code",
      "source": [
        "stop_words_nltk = set(nltk.corpus.stopwords.words('english'))\n",
        "len(stop_words_nltk)"
      ],
      "metadata": {
        "colab": {
          "base_uri": "https://localhost:8080/"
        },
        "id": "3tbqzRAmVf1j",
        "outputId": "25ce7b5c-212b-45a3-e2e0-7c76302d627b"
      },
      "execution_count": 12,
      "outputs": [
        {
          "output_type": "execute_result",
          "data": {
            "text/plain": [
              "179"
            ]
          },
          "metadata": {},
          "execution_count": 12
        }
      ]
    },
    {
      "cell_type": "code",
      "source": [
        "tokenized_corpus_nltk = nltk.tokenize.word_tokenize(corpus)\n",
        "print(len(tokenized_corpus_nltk))\n",
        "tokenized_corpus_nltk"
      ],
      "metadata": {
        "id": "IT9D0XmnVoxx",
        "colab": {
          "base_uri": "https://localhost:8080/"
        },
        "outputId": "35cfa974-e68b-45d4-df10-a0c142662303"
      },
      "execution_count": 13,
      "outputs": [
        {
          "output_type": "stream",
          "name": "stdout",
          "text": [
            "36\n"
          ]
        },
        {
          "output_type": "execute_result",
          "data": {
            "text/plain": [
              "['need',\n",
              " 'to',\n",
              " 'finalize',\n",
              " 'the',\n",
              " 'demo',\n",
              " 'corpus',\n",
              " 'which',\n",
              " 'will',\n",
              " 'be',\n",
              " 'used',\n",
              " 'for',\n",
              " 'this',\n",
              " 'notebook',\n",
              " 'should',\n",
              " 'be',\n",
              " 'done',\n",
              " 'soon',\n",
              " 'it',\n",
              " 'should',\n",
              " 'be',\n",
              " 'done',\n",
              " 'by',\n",
              " 'the',\n",
              " 'ending',\n",
              " 'of',\n",
              " 'this',\n",
              " 'month',\n",
              " 'but',\n",
              " 'will',\n",
              " 'it',\n",
              " 'this',\n",
              " 'notebook',\n",
              " 'has',\n",
              " 'been',\n",
              " 'run',\n",
              " 'times']"
            ]
          },
          "metadata": {},
          "execution_count": 13
        }
      ]
    },
    {
      "cell_type": "code",
      "source": [
        "tokenized_words_without_stopwords_nltk = [i for i in tokenized_corpus_nltk if i not in stop_words_nltk] \n",
        "print(len(tokenized_words_without_stopwords_nltk))\n",
        "tokenized_words_without_stopwords_nltk"
      ],
      "metadata": {
        "id": "ySc_d36KWchx",
        "colab": {
          "base_uri": "https://localhost:8080/"
        },
        "outputId": "3a87f6b9-8448-4421-b51c-b61dd3f405f2"
      },
      "execution_count": 14,
      "outputs": [
        {
          "output_type": "stream",
          "name": "stdout",
          "text": [
            "14\n"
          ]
        },
        {
          "output_type": "execute_result",
          "data": {
            "text/plain": [
              "['need',\n",
              " 'finalize',\n",
              " 'demo',\n",
              " 'corpus',\n",
              " 'used',\n",
              " 'notebook',\n",
              " 'done',\n",
              " 'soon',\n",
              " 'done',\n",
              " 'ending',\n",
              " 'month',\n",
              " 'notebook',\n",
              " 'run',\n",
              " 'times']"
            ]
          },
          "metadata": {},
          "execution_count": 14
        }
      ]
    },
    {
      "cell_type": "markdown",
      "source": [
        "####Stop Words with Spacy"
      ],
      "metadata": {
        "id": "0mOPQn0DWFdD"
      }
    },
    {
      "cell_type": "code",
      "source": [
        "import spacy\n",
        "spacy_model = spacy.load('en_core_web_sm')\n",
        "\n",
        "stop_words_sparcy = spacy_model.Defaults.stop_words\n",
        "len(stop_words_sparcy)"
      ],
      "metadata": {
        "colab": {
          "base_uri": "https://localhost:8080/"
        },
        "id": "_0v-e12CVpwt",
        "outputId": "095dba14-4700-4566-bfb0-08d67c54fc64"
      },
      "execution_count": 15,
      "outputs": [
        {
          "output_type": "execute_result",
          "data": {
            "text/plain": [
              "326"
            ]
          },
          "metadata": {},
          "execution_count": 15
        }
      ]
    },
    {
      "cell_type": "code",
      "source": [
        "tokenized_corpus_sparcy = nltk.tokenize.word_tokenize(corpus)\n",
        "print(len(tokenized_corpus_sparcy))\n",
        "tokenized_corpus_sparcy"
      ],
      "metadata": {
        "id": "78E4HiAyXqK7",
        "colab": {
          "base_uri": "https://localhost:8080/"
        },
        "outputId": "7b4d5e6c-64e1-43a8-8f05-6ea289a351ce"
      },
      "execution_count": 16,
      "outputs": [
        {
          "output_type": "stream",
          "name": "stdout",
          "text": [
            "36\n"
          ]
        },
        {
          "output_type": "execute_result",
          "data": {
            "text/plain": [
              "['need',\n",
              " 'to',\n",
              " 'finalize',\n",
              " 'the',\n",
              " 'demo',\n",
              " 'corpus',\n",
              " 'which',\n",
              " 'will',\n",
              " 'be',\n",
              " 'used',\n",
              " 'for',\n",
              " 'this',\n",
              " 'notebook',\n",
              " 'should',\n",
              " 'be',\n",
              " 'done',\n",
              " 'soon',\n",
              " 'it',\n",
              " 'should',\n",
              " 'be',\n",
              " 'done',\n",
              " 'by',\n",
              " 'the',\n",
              " 'ending',\n",
              " 'of',\n",
              " 'this',\n",
              " 'month',\n",
              " 'but',\n",
              " 'will',\n",
              " 'it',\n",
              " 'this',\n",
              " 'notebook',\n",
              " 'has',\n",
              " 'been',\n",
              " 'run',\n",
              " 'times']"
            ]
          },
          "metadata": {},
          "execution_count": 16
        }
      ]
    },
    {
      "cell_type": "code",
      "source": [
        "tokenized_words_without_stopwords_sparcy = [i for i in tokenized_corpus_sparcy if i not in stop_words_sparcy] \n",
        "print(len(tokenized_words_without_stopwords_sparcy))\n",
        "tokenized_words_without_stopwords_sparcy"
      ],
      "metadata": {
        "id": "yg9MuBakXhgf",
        "colab": {
          "base_uri": "https://localhost:8080/"
        },
        "outputId": "e8c59e87-9668-4ac6-e563-c960d0bdfa95"
      },
      "execution_count": 17,
      "outputs": [
        {
          "output_type": "stream",
          "name": "stdout",
          "text": [
            "11\n"
          ]
        },
        {
          "output_type": "execute_result",
          "data": {
            "text/plain": [
              "['need',\n",
              " 'finalize',\n",
              " 'demo',\n",
              " 'corpus',\n",
              " 'notebook',\n",
              " 'soon',\n",
              " 'ending',\n",
              " 'month',\n",
              " 'notebook',\n",
              " 'run',\n",
              " 'times']"
            ]
          },
          "metadata": {},
          "execution_count": 17
        }
      ]
    },
    {
      "cell_type": "code",
      "source": [
        "print('The Difference between nltk and sparcy in stop words:\\n')\n",
        "set(tokenized_words_without_stopwords_nltk) - set(tokenized_words_without_stopwords_sparcy)"
      ],
      "metadata": {
        "colab": {
          "base_uri": "https://localhost:8080/"
        },
        "id": "YBKvuJ6BXjGS",
        "outputId": "c8624264-a84a-4786-c306-6a5dca58d205"
      },
      "execution_count": 18,
      "outputs": [
        {
          "output_type": "stream",
          "name": "stdout",
          "text": [
            "The Difference between nltk and sparcy in stop words:\n",
            "\n"
          ]
        },
        {
          "output_type": "execute_result",
          "data": {
            "text/plain": [
              "{'done', 'used'}"
            ]
          },
          "metadata": {},
          "execution_count": 18
        }
      ]
    },
    {
      "cell_type": "code",
      "source": [
        "# !pip install pyenchant\n",
        "# import enchant\n",
        "# from enchant import DictWithPWL\n",
        "# from enchant.checker import SpellChecker\n",
        "\n",
        "# my_dict = DictWithPWL(\"en_US\", \"mywords.txt\")\n",
        "# my_checker = SpellChecker(my_dict)\n",
        "\n",
        "# my_checker.set_text(\"This is sme sample txt with erors.\")\n",
        "# for error in my_checker:\n",
        "#     print (\"ERROR:\", error.word)"
      ],
      "metadata": {
        "id": "s663r3tuYbdz"
      },
      "execution_count": 19,
      "outputs": []
    },
    {
      "cell_type": "markdown",
      "source": [
        ""
      ],
      "metadata": {
        "id": "DmpGMHo4CCmr"
      }
    },
    {
      "cell_type": "markdown",
      "source": [
        "###Lemmatization"
      ],
      "metadata": {
        "id": "4n3WpiEo55c6"
      }
    },
    {
      "cell_type": "code",
      "source": [
        "nltk.download('wordnet')\n",
        "lemmatizer = nltk.stem.WordNetLemmatizer()\n",
        "sample_words = ['play', 'played', 'player', 'played', 'playing']"
      ],
      "metadata": {
        "id": "o0uYIS7D2ZFC",
        "colab": {
          "base_uri": "https://localhost:8080/"
        },
        "outputId": "3a3b0b71-f70f-4cf4-c4be-61d3bf1fb88b"
      },
      "execution_count": 20,
      "outputs": [
        {
          "output_type": "stream",
          "name": "stdout",
          "text": [
            "[nltk_data] Downloading package wordnet to /root/nltk_data...\n",
            "[nltk_data]   Unzipping corpora/wordnet.zip.\n"
          ]
        }
      ]
    },
    {
      "cell_type": "code",
      "source": [
        "for word in sample_words:\n",
        "  print(lemmatizer.lemmatize(word), end=' ')"
      ],
      "metadata": {
        "id": "wSrNiBXU6eFC",
        "colab": {
          "base_uri": "https://localhost:8080/"
        },
        "outputId": "900de653-bd89-4171-e4e6-f3be9488554d"
      },
      "execution_count": 21,
      "outputs": [
        {
          "output_type": "stream",
          "name": "stdout",
          "text": [
            "play played player played playing "
          ]
        }
      ]
    },
    {
      "cell_type": "code",
      "source": [
        "for word in sample_words:\n",
        "  print(lemmatizer.lemmatize(word, pos='v'), end=' ')"
      ],
      "metadata": {
        "id": "k0PWLK-564M-",
        "colab": {
          "base_uri": "https://localhost:8080/"
        },
        "outputId": "c0be0752-26a4-4d63-a6ab-80de0f8724db"
      },
      "execution_count": 22,
      "outputs": [
        {
          "output_type": "stream",
          "name": "stdout",
          "text": [
            "play play player play play "
          ]
        }
      ]
    },
    {
      "cell_type": "code",
      "source": [
        "from nltk.corpus import wordnet\n",
        "\n",
        "for word in sample_words:\n",
        "  print(lemmatizer.lemmatize(word, wordnet.VERB), end=' ')"
      ],
      "metadata": {
        "colab": {
          "base_uri": "https://localhost:8080/"
        },
        "id": "8f0ulVQfAyBI",
        "outputId": "19f53efa-3086-4e9d-dd4e-2e9cbe48f3fc"
      },
      "execution_count": 23,
      "outputs": [
        {
          "output_type": "stream",
          "name": "stdout",
          "text": [
            "play play player play play "
          ]
        }
      ]
    },
    {
      "cell_type": "markdown",
      "source": [
        "###Stemming"
      ],
      "metadata": {
        "id": "ZfXZf12WCQnz"
      }
    },
    {
      "cell_type": "code",
      "source": [
        "sample_words = ['play', 'played', 'player', 'played', 'playing']"
      ],
      "metadata": {
        "id": "kmAbuNPoCVSz"
      },
      "execution_count": 24,
      "outputs": []
    },
    {
      "cell_type": "code",
      "source": [
        "stemmer = nltk.stem.PorterStemmer()\n",
        "for word in sample_words:\n",
        "  print(stemmer.stem(word), end=' ')"
      ],
      "metadata": {
        "colab": {
          "base_uri": "https://localhost:8080/"
        },
        "id": "D8klX_S4CVNH",
        "outputId": "18398589-f186-4d00-f078-60bf407682b3"
      },
      "execution_count": 25,
      "outputs": [
        {
          "output_type": "stream",
          "name": "stdout",
          "text": [
            "play play player play play "
          ]
        }
      ]
    },
    {
      "cell_type": "code",
      "source": [
        "stemmer = nltk.stem.ISRIStemmer()\n",
        "for word in sample_words:\n",
        "  print(stemmer.stem(word), end=' ')"
      ],
      "metadata": {
        "colab": {
          "base_uri": "https://localhost:8080/"
        },
        "id": "9Ef2n0oVDowr",
        "outputId": "63ce2945-5fe6-4d16-f601-68e152ff9f4c"
      },
      "execution_count": 26,
      "outputs": [
        {
          "output_type": "stream",
          "name": "stdout",
          "text": [
            "play played player played playing "
          ]
        }
      ]
    },
    {
      "cell_type": "code",
      "source": [
        "stemmer = nltk.stem.LancasterStemmer()\n",
        "for word in sample_words:\n",
        "  print(stemmer.stem(word), end=' ')"
      ],
      "metadata": {
        "colab": {
          "base_uri": "https://localhost:8080/"
        },
        "id": "vYLkjAJUEDOL",
        "outputId": "d7c1477b-19db-4190-a413-3f19eec40e39"
      },
      "execution_count": 27,
      "outputs": [
        {
          "output_type": "stream",
          "name": "stdout",
          "text": [
            "play play play play play "
          ]
        }
      ]
    },
    {
      "cell_type": "code",
      "source": [
        "doc = spacy_model(corpus_original)"
      ],
      "metadata": {
        "id": "x82nIKKsE8N-"
      },
      "execution_count": 28,
      "outputs": []
    },
    {
      "cell_type": "code",
      "source": [
        "for token in doc:\n",
        "  print(token, token.lemma, token.lemma_)"
      ],
      "metadata": {
        "colab": {
          "base_uri": "https://localhost:8080/"
        },
        "id": "SsaSu5ejE6MZ",
        "outputId": "0b11cb28-277d-4a22-88e2-252877b9b0c4"
      },
      "execution_count": 29,
      "outputs": [
        {
          "output_type": "stream",
          "name": "stdout",
          "text": [
            "Need 478886015463313967 need\n",
            "to 3791531372978436496 to\n",
            "finalize 1587858491576092726 finalize\n",
            "the 7425985699627899538 the\n",
            "demo 2193290520773312886 demo\n",
            "corpus 17778611927896778164 corpus\n",
            "which 7063653163634019529 which\n",
            "will 18307573501153647118 will\n",
            "be 10382539506755952630 be\n",
            "used 6873750497785110593 use\n",
            "for 16037325823156266367 for\n",
            "this 1995909169258310477 this\n",
            "notebook 17066135242476181520 notebook\n",
            "and 2283656566040971221 and\n",
            "it 561228191312463089 -PRON-\n",
            "should 10292920167869855674 should\n",
            "be 10382539506755952630 be\n",
            "done 2158845516055552166 do\n",
            "soon 6693818191076059033 soon\n",
            "! 17494803046312582752 !\n",
            "! 17494803046312582752 !\n",
            ". 12646065887601541794 .\n",
            "It 561228191312463089 -PRON-\n",
            "should 10292920167869855674 should\n",
            "be 10382539506755952630 be\n",
            "done 2158845516055552166 do\n",
            "by 16764210730586636600 by\n",
            "the 7425985699627899538 the\n",
            "ending 8067141631947323106 ending\n",
            "of 886050111519832510 of\n",
            "this 1995909169258310477 this\n",
            "month 14920206370424861916 month\n",
            ". 12646065887601541794 .\n",
            "But 14560795576765492085 but\n",
            "will 18307573501153647118 will\n",
            "it 561228191312463089 -PRON-\n",
            "? 8205403955989537350 ?\n",
            "This 1995909169258310477 this\n",
            "notebook 17066135242476181520 notebook\n",
            "has 14692702688101715474 have\n",
            "been 10382539506755952630 be\n",
            "run 12767647472892411841 run\n",
            "4 16743743820210141046 4\n",
            "times 8885804376230376864 time\n",
            "! 17494803046312582752 !\n",
            "! 17494803046312582752 !\n"
          ]
        }
      ]
    },
    {
      "cell_type": "markdown",
      "source": [
        "###POS Tagging"
      ],
      "metadata": {
        "id": "YPFHo1nE7y1L"
      }
    },
    {
      "cell_type": "code",
      "source": [
        "doc = spacy_model(corpus_original)"
      ],
      "metadata": {
        "id": "xsEjw8BO7mJ7"
      },
      "execution_count": 30,
      "outputs": []
    },
    {
      "cell_type": "code",
      "source": [
        "for token in doc:\n",
        "  print(token, token.pos_, token.tag_)"
      ],
      "metadata": {
        "id": "TzwS1PGs8W_4",
        "colab": {
          "base_uri": "https://localhost:8080/"
        },
        "outputId": "b8efd14f-1469-4c11-be03-155a55aaefe1"
      },
      "execution_count": 31,
      "outputs": [
        {
          "output_type": "stream",
          "name": "stdout",
          "text": [
            "Need VERB VB\n",
            "to PART TO\n",
            "finalize VERB VB\n",
            "the DET DT\n",
            "demo NOUN NN\n",
            "corpus NOUN NN\n",
            "which DET WDT\n",
            "will VERB MD\n",
            "be AUX VB\n",
            "used VERB VBN\n",
            "for ADP IN\n",
            "this DET DT\n",
            "notebook NOUN NN\n",
            "and CCONJ CC\n",
            "it PRON PRP\n",
            "should VERB MD\n",
            "be AUX VB\n",
            "done VERB VBN\n",
            "soon ADV RB\n",
            "! PUNCT .\n",
            "! PUNCT .\n",
            ". PUNCT .\n",
            "It PRON PRP\n",
            "should VERB MD\n",
            "be AUX VB\n",
            "done VERB VBN\n",
            "by ADP IN\n",
            "the DET DT\n",
            "ending NOUN NN\n",
            "of ADP IN\n",
            "this DET DT\n",
            "month NOUN NN\n",
            ". PUNCT .\n",
            "But CCONJ CC\n",
            "will VERB MD\n",
            "it PRON PRP\n",
            "? PUNCT .\n",
            "This DET DT\n",
            "notebook NOUN NN\n",
            "has AUX VBZ\n",
            "been AUX VBN\n",
            "run VERB VBN\n",
            "4 NUM CD\n",
            "times NOUN NNS\n",
            "! PUNCT .\n",
            "! PUNCT .\n"
          ]
        }
      ]
    },
    {
      "cell_type": "markdown",
      "source": [
        "###Data Augmentation"
      ],
      "metadata": {
        "id": "8mJxfE2bA3CP"
      }
    },
    {
      "cell_type": "code",
      "source": [
        "!pip install nlpaug\n",
        "import nlpaug\n",
        "import nlpaug.augmenter.char as nac\n",
        "import nlpaug.augmenter.word as naw\n",
        "import nlpaug.augmenter.sentence as nas\n",
        "import nlpaug.flow as nafc\n",
        "from nlpaug.util import Action\n"
      ],
      "metadata": {
        "id": "O0p0g8yK8kQQ"
      },
      "execution_count": 32,
      "outputs": []
    },
    {
      "cell_type": "code",
      "source": [
        "augmented_texts = nac.OcrAug().augment(corpus_original, n=20)\n",
        "augmented_texts"
      ],
      "metadata": {
        "id": "ct4Z-Y27B1bU",
        "colab": {
          "base_uri": "https://localhost:8080/"
        },
        "outputId": "1ddc1ff1-d9bd-4d7e-8023-f9e1cdb26fd5"
      },
      "execution_count": null,
      "outputs": [
        {
          "output_type": "execute_result",
          "data": {
            "text/plain": [
              "['Need to fina1i2e the demo cokpu8 which will be o8ed for this notebook and it should be done soon! !. It sh0u1d be dune by the endin9 of this month. But will it? This n0teb00k has been run 1 times!!',\n",
              " 'Need to fina1i2e the demo cokpos which will be used for this notebook and it should 6e done soon! !. It should be done by the ending of this month. But wi11 it? Thi8 notebook has been run 4 times!!',\n",
              " 'Need to finalize the demo corpus which will be used for this nute6oor and it should be dune soon! !. 1t 8hou1d 6e done by the ending 0f this month. But will it? Thi8 notebook has been kon 4 times!!',\n",
              " 'Need to finalize the demo corpus which will be used for this notebook and it should be dune soon! !. It should be dune 6y the endin9 0f this month. But will it? This notebook has been kon 4 time8!!',\n",
              " 'Need to finalize the demo corpus which wi11 be used for thi8 notebook and it should be dune soon! !. It should be done by the endin9 of this month. But will it? This nutebuuk has 6een run 4 times!!',\n",
              " 'Need to finalize the dem0 corpus which will be used for this notebook and it should be dune soon! !. 1t should be done by the ending 0f this month. But will it? Thi8 notebook has been kon 4 times!!',\n",
              " 'Need to finalize the demo corpus which will be used for this notebook and it should 6e done soon! !. It should 6e d0ne by the ending of this month. But will it? This notebook has been run 4 times!!',\n",
              " 'Need to finalize the demo curpos which will be used for this notebook and it should be done 8uon! !. 1t should be done 6y the endin9 of thi8 munth. But will it? This n0tebuor has been run 4 times!!',\n",
              " 'Need to finalize the demo corpus which will be used for thi8 notebook and it sh0u1d be done soon! !. 1t should be d0ne by the ending of this month. But will it? This nutebuuk has been kon 4 times!!',\n",
              " 'Need to finalize the demo corpus which will be used for thi8 notebook and it should 6e done soon! !. It should be d0ne by the ending of thi8 munth. Eot wi11 it? This notebook has been kon 4 times!!',\n",
              " 'Need t0 finalize the demo c0kpus which will 6e used f0k this notebook and it should be done soon! !. It should be done by the ending of this month. But wi11 it? This notebook has been run 4 times!!',\n",
              " 'Need to finalize the demo corpus which will be used for this notebook and it should 6e done soon! !. It 8hoold be done by the endin9 of thi8 m0nth. Eot will it? Thi8 noteb0ur has been run 1 times!!',\n",
              " 'Need to finalize the demu corpus which will 6e o8ed for thi8 notebook and it shuold be done soon! !. It should be done by the ending of thi8 month. But will it? This notebook has been run 4 time8!!',\n",
              " 'Need to finalize the demu c0rpu8 which will be used for this notebook and it should be dune soon! !. It should be done by the ending of this month. But wi11 it? This n0te60ok has 6een run 4 times!!',\n",
              " 'Need tu finalize the demo corpo8 which will 6e used for this notebook and it should be done soon! !. It should be dune by the ending of this month. But wi11 it? This notebook has been run 4 times!!',\n",
              " 'Need to finalize the demo corpus which will be used for thi8 notebook and it shuu1d be done soon! !. It should 6e done by the endin9 of this month. But will it? This notebook has been kon 4 time8!!',\n",
              " 'Need to finalize the demo corpus which will be used for this notebook and it 8hou1d be done soon! !. 1t should 6e d0ne by the ending of this month. But will it? This notebook ha8 been kon 1 times!!',\n",
              " 'Need to finalize the demo corpus which will 6e used fuk this notebook and it should be done s00n! !. It should be done by the ending of this m0nth. But will it? This notebook has been run 4 time8!!',\n",
              " 'Need to finalize the demo corpus which will be used for this note6uuk and it should 6e done soon! !. It should be done 6y the ending uf this month. But will it? Thi8 notebook has been run 4 times!!',\n",
              " 'Need to finalize the demo corpo8 which will be used for this notebook and it shoo1d be dune soon! !. It should be done by the ending of thi8 month. But wi11 it? This notebook ha8 6een run 4 times!!']"
            ]
          },
          "metadata": {},
          "execution_count": 25
        }
      ]
    },
    {
      "cell_type": "code",
      "source": [
        "augmented_texts = nac.KeyboardAug().augment(corpus_original, n=20)\n",
        "augmented_texts"
      ],
      "metadata": {
        "id": "3Bur_r0LC__5",
        "colab": {
          "base_uri": "https://localhost:8080/"
        },
        "outputId": "8fb7e0ea-0f78-4583-8120-933873d9b6d5"
      },
      "execution_count": null,
      "outputs": [
        {
          "output_type": "execute_result",
          "data": {
            "text/plain": [
              "['herd to fimX;ize the demo c9r0us which will be Hses for ttiD notebook and it should be rine soon! !. It qhou<d be done by the ending of thoa month. But will it? This noyefPok has been run 4 t(m$s!!',\n",
              " 'GeeR to finWl8ae the d@mp corpus wyicJ will be used for this notebook and it should be d0He sokb! !. It should be done by the ending of th(W month. But will it? hhls noteHoll has bDeJ run 4 times!!',\n",
              " 'HRed to finZlJz2 the demo corpus which doll be used for this no6evoo, and it should be dpn4 CooJ! !. It should be done by the enEihg of this month. But @il> it? rjis notebook has b32n run 4 times!!',\n",
              " 'Need to finalize the dwko cPr0us which will be 8seC for thLe notebook and it sNo8ld be wPne soon! !. It Zhoild be done by the end7Gg of this month. But Qil> it? Fgis notebook has been run 4 times!!',\n",
              " 'Need to finalize the dw,o clrpuQ whivn wi?o be used for this jotebop, and it should be done s9oB! !. It should be dpnS by the ending of tmie j(nth. But will it? This notebook has been run 4 t7m@s!!',\n",
              " 'Need to v8na>ize the demo Xorous ShiSh will be used for yhiA no%ebol. and it Chpuld be done soon! !. It sh(Kld be done by the ending of hBis mon4y. But w*lo it? This notebook has been run 4 times!!',\n",
              " 'Need to Rjna/ize the demo V0rpus whiSM wi/O be uCWd for fhos notebook and it should be done soon! !. It should be done by the ending of ^h*s month. But wJlK it? TJia JotRFook has been run 4 times!!',\n",
              " 'Need to finalize the rsmo corpus #h8ch 1iil be uEdd for tnOs notebook and it should be d*Je soon! !. It should be done by the ending of hmis nlnth. But will it? Th*X notebook has been run 4 ^i<es!!',\n",
              " 'meeW to TinSliz# the demo corp*Z which wii? be isev for this notebook and it should be done s*ob! !. It should be done by the WndUng of this month. But will it? This nkteGLok has bdDn run 4 t8m$s!!',\n",
              " 'Nf4d to finalize the deNL corpus #Yich w8<l be used for this notebook and it should be done s(og! !. It sh98ld be d(nD by the enC*ng of this month. But wlOl it? This notebook has FeeG run 4 times!!',\n",
              " 'Need to finalize the demo corpus which wOpl be udes for thOc notebook and it sho Tlf be d(nD sIoG! !. It Xhou,d be son# by the ending of this m*Bth. But #i/l it? This notebook has been run 4 times!!',\n",
              " 'Need to finalize the demo corpus dhiVh @il< be used for hhKs notebook and it should be diJe sLkn! !. It should be eonw by the ending of this month. But Dil: it? Tjia noteGpoj has besg run 4 times!!',\n",
              " 'Need to figalUxe the demo vorpuZ Qhidh w(l; be used for this no6eno0k and it xhou;d be sons s9Kn! !. It should be done by the ending of this monHU. But will it? This giteboom has been run 4 times!!',\n",
              " 'geeR to finalize the dek0 dorpKs dhicJ eiil be used for hBis notebook and it should be done zoLn! !. It sh9uls be done by the ending of this month. But wi:. it? TT9s notebook has been run 4 times!!',\n",
              " 'Need to finalize the demo corpKq which will be uw3d for tjiQ notebook and it should be d*nd soon! !. It shLuOd be foGe by the eMd7ng of tGus month. But will it? This n)teGooo has Hesn run 4 times!!',\n",
              " 'Need to fuBxlize the edmo corpus which 1ilI be *seF for this notebook and it should be done sKln! !. It should be doB3 by the enfimg of this mkntG. But will it? TtiE no^4Fook has been run 4 times!!',\n",
              " 'Geee to finalize the d3m0 corpus which wi,< be uswF for th8W no%eboki and it shouOR be eKne soon! !. It should be done by the ending of fh7s month. But will it? TU9s notebook has been run 4 times!!',\n",
              " 'JeeS to finalize the demo s)rpus which will be KCed for tGia notebook and it WhoulE be done soon! !. It stoulr be dime by the ebdiMg of this month. But will it? This Jotegokk has been run 4 tiheC!!',\n",
              " 'Need to finalLa# the demo cor9ks which wip/ be jsef for this notebook and it sUouPd be done sPPn! !. It should be d8me by the ending of ^yis month. But will it? This n)tebo8I has been run 4 tiJeE!!',\n",
              " 'Gedd to fina<ia4 the demo corlKs which !i.l be used for 4hjs notebook and it should be done so9G! !. It should be done by the ending of this mKnHh. But will it? TMiE notebook has bfeB run 4 t7m2s!!']"
            ]
          },
          "metadata": {},
          "execution_count": 26
        }
      ]
    },
    {
      "cell_type": "code",
      "source": [
        "augmented_texts = naw.SpellingAug().augment(corpus_original, n=20)\n",
        "augmented_texts"
      ],
      "metadata": {
        "id": "mWp9OxOHDm2_",
        "colab": {
          "base_uri": "https://localhost:8080/"
        },
        "outputId": "a7ca23ee-f1f8-4eb7-8df7-2b61341a0821"
      },
      "execution_count": null,
      "outputs": [
        {
          "output_type": "execute_result",
          "data": {
            "text/plain": [
              "[\"Need to finalize the demo corpus which was be used for this notebook and i't shoule be down so! !. It slould be done by th? ending of this month. but will iti? This notebook has been run 4 sessions!!\",\n",
              " 'Need to finalize the demo corpus which wold me used for this notebook and it should se done soon! !. It shoulf bee done by the endding of tis month. Bur will it? This notebook has been running 5 times!!',\n",
              " 'Need tm finalize the demo corpus [[wich will be used form thi nootebook and it should be done soon! !. It should we done by the end of this month. But wii it? This notebook has beed run 4 teams!!',\n",
              " 'Need to finalize the demo corpus [[wich wll be used for this notebook ane it should be done soon! !. Its shoukl be done by the endding ow this month. But will ity? This notebook has been run 4th timeas!!',\n",
              " 'Need to finalize the demo corpus witch will ne used fro this netbook and it should be done soon! !. It sholud te done by the ending of this month. But wiil ti? This nootebook has bean run 4 times!!',\n",
              " 'Need to finalize the demo corpus wich will be used for this notebook and it should be done oon! !. Tt should we done by that end of this month. But waill it? These notebook has beans run four times!!',\n",
              " 'Need to finalize the demo corpus which will [[bi used gor thois notebook and it should be dane soon! !. It slould be done by the ending of this month. Bur will it? This netbook hes beed run 4 timeas!!',\n",
              " \"Need to finalize the demo corpus which wil be use ro this notebook and it should be done so! !. It''s should be dane bay ths ending 0f this month. But will il? This notebook has been run 4 times!!\",\n",
              " \"Need to finalize the demo corpus which will be used for this notebook ou ot should we done soon! !. It slould be dane by the endding of this month. But will I''t? Thies notebook hes been run 4 timeas!!\",\n",
              " 'Need to finalize the demo corpus which wiil he used forth this notebook and it sholud be dane sun! !. It should be doen by the end lf this month. But will it? Thisn notebook has been run 4 times!!',\n",
              " 'Need to finalize the demo corpus which will be used for this nootebook fnd it shold be done soon! !. It shuold be done by tem ending fi this montth. But will it? Thys notebook is been run 4 onces!!',\n",
              " 'Need to finalize the demo corpus which will be used for this notebook and lt should be done noon! !. It shold br done bye the ending of his month. But will i? This notbook has beem run 4 onces!!',\n",
              " 'Need to finalize se demo corpus which wiill be used for this notebook and it should be down soon! !. It should se done bye! the ending or this month. ?ut will il? This notebook has been running 4th times!!',\n",
              " \"Need ti finalize the demo corpus whick will be used by this notebook and it should bem done soon! !. It should be done by se end of thease month. Bur will it's? This notebook have been run 4 times!!\",\n",
              " 'Need to finalize the demo corpus which wlii b used fao this notebook and it should be done soon! !. Is should br done by their ending oft his month. but will itl? This notebook has been run 4 times!!',\n",
              " \"Need lo finalize the demo corpus which will be used for thid notebook and it shopuld be done soon! !. I't should by doen bye! the ending of this month. But will it? These notebook has been run four teams!!\",\n",
              " 'Need to finalize the demo corpus which will be sused for this notebook and IT should be done anom! !. It should be dane Buy 5the ending of thease month. But ll is? This notebook has been run 4 sessions!!',\n",
              " \"Need to finalize te demo corpus which will be used foi this nootebook and iti should me done soon! !. It should be dane by the ending of this mouth. But will I''t? thise notebook has been ran 4 times!!\",\n",
              " \"Need t0 finalize the demo corpus which was be uses for this notebook and It's should be done soon! !. It shouid be done by the end jf this's month. But will ity? This notebook has been run 5 times!!\",\n",
              " 'Need to finalize the demo corpus which will we used for this netbook y it should be done soon! !. It shouls me done by thhe ending of this month. But will it? This notebook hat bee run four onces!!']"
            ]
          },
          "metadata": {},
          "execution_count": 27
        }
      ]
    },
    {
      "cell_type": "markdown",
      "source": [
        "##Example 1"
      ],
      "metadata": {
        "id": "ezjxjJ4juRXS"
      }
    },
    {
      "cell_type": "code",
      "source": [
        "sample_text = '''\n",
        "man bite dog\n",
        "dog bite man\n",
        "man eat meat\n",
        "dog eat meat\n",
        "man like ball\n",
        "man like dog\n",
        "'''"
      ],
      "metadata": {
        "id": "4YjhFUFjEZWC"
      },
      "execution_count": null,
      "outputs": []
    },
    {
      "cell_type": "code",
      "source": [
        "vocab = set(sample_text.split())"
      ],
      "metadata": {
        "id": "Du6h6gHUvCWH"
      },
      "execution_count": null,
      "outputs": []
    },
    {
      "cell_type": "code",
      "source": [
        "vocab"
      ],
      "metadata": {
        "colab": {
          "base_uri": "https://localhost:8080/"
        },
        "id": "RggdJQ7pEJP0",
        "outputId": "19d4c224-0a92-48d1-bc0d-c849880a7d1f"
      },
      "execution_count": null,
      "outputs": [
        {
          "output_type": "execute_result",
          "data": {
            "text/plain": [
              "{'ball', 'bite', 'dog', 'eat', 'like', 'man', 'meat'}"
            ]
          },
          "metadata": {},
          "execution_count": 42
        }
      ]
    },
    {
      "cell_type": "code",
      "source": [
        ""
      ],
      "metadata": {
        "id": "FJ5w5urpELYp"
      },
      "execution_count": null,
      "outputs": []
    }
  ]
}
