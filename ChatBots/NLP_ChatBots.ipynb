{
  "nbformat": 4,
  "nbformat_minor": 0,
  "metadata": {
    "colab": {
      "name": "NLP-ChatBots.ipynb",
      "provenance": [],
      "collapsed_sections": [],
      "authorship_tag": "ABX9TyMeFN1r56+A0hYigX9P9FJE",
      "include_colab_link": true
    },
    "kernelspec": {
      "name": "python3",
      "display_name": "Python 3"
    },
    "language_info": {
      "name": "python"
    }
  },
  "cells": [
    {
      "cell_type": "markdown",
      "metadata": {
        "id": "view-in-github",
        "colab_type": "text"
      },
      "source": [
        "<a href=\"https://colab.research.google.com/github/mr-alamdari/NLP-ChatBots/blob/main/NLP_ChatBots.ipynb\" target=\"_parent\"><img src=\"https://colab.research.google.com/assets/colab-badge.svg\" alt=\"Open In Colab\"/></a>"
      ]
    },
    {
      "cell_type": "code",
      "execution_count": 3,
      "metadata": {
        "id": "-NSl76IaDGSP"
      },
      "outputs": [],
      "source": [
        "import pickle\n",
        "import numpy as np\n",
        "import pandas as pd\n",
        "import tensorflow as tf\n",
        "import matplotlib.pyplot as plt"
      ]
    },
    {
      "cell_type": "code",
      "source": [
        "!wget https://raw.githubusercontent.com/mr-alamdari/NLP-ChatBots/main/train_qa.txt"
      ],
      "metadata": {
        "colab": {
          "base_uri": "https://localhost:8080/"
        },
        "id": "bU4zEBfkZRhM",
        "outputId": "a51748e0-0fb7-4857-c260-377e3d586864"
      },
      "execution_count": 4,
      "outputs": [
        {
          "output_type": "stream",
          "name": "stdout",
          "text": [
            "--2022-05-02 08:52:36--  https://raw.githubusercontent.com/mr-alamdari/NLP-ChatBots/main/train_qa.txt\n",
            "Resolving raw.githubusercontent.com (raw.githubusercontent.com)... 185.199.110.133, 185.199.109.133, 185.199.111.133, ...\n",
            "Connecting to raw.githubusercontent.com (raw.githubusercontent.com)|185.199.110.133|:443... connected.\n",
            "HTTP request sent, awaiting response... 200 OK\n",
            "Length: 3804342 (3.6M) [application/octet-stream]\n",
            "Saving to: ‘train_qa.txt.1’\n",
            "\n",
            "train_qa.txt.1      100%[===================>]   3.63M  --.-KB/s    in 0.07s   \n",
            "\n",
            "2022-05-02 08:52:36 (48.8 MB/s) - ‘train_qa.txt.1’ saved [3804342/3804342]\n",
            "\n"
          ]
        }
      ]
    },
    {
      "cell_type": "code",
      "source": [
        "!wget https://raw.githubusercontent.com/mr-alamdari/NLP-ChatBots/main/test_qa.txt"
      ],
      "metadata": {
        "colab": {
          "base_uri": "https://localhost:8080/"
        },
        "id": "rpMOvTozZRcr",
        "outputId": "5aebb855-0244-4e1d-85a1-b8b7c255d82e"
      },
      "execution_count": 5,
      "outputs": [
        {
          "output_type": "stream",
          "name": "stdout",
          "text": [
            "--2022-05-02 08:52:36--  https://raw.githubusercontent.com/mr-alamdari/NLP-ChatBots/main/test_qa.txt\n",
            "Resolving raw.githubusercontent.com (raw.githubusercontent.com)... 185.199.111.133, 185.199.108.133, 185.199.109.133, ...\n",
            "Connecting to raw.githubusercontent.com (raw.githubusercontent.com)|185.199.111.133|:443... connected.\n",
            "HTTP request sent, awaiting response... 200 OK\n",
            "Length: 377233 (368K) [application/octet-stream]\n",
            "Saving to: ‘test_qa.txt.1’\n",
            "\n",
            "test_qa.txt.1       100%[===================>] 368.39K  --.-KB/s    in 0.03s   \n",
            "\n",
            "2022-05-02 08:52:36 (10.4 MB/s) - ‘test_qa.txt.1’ saved [377233/377233]\n",
            "\n"
          ]
        }
      ]
    },
    {
      "cell_type": "code",
      "source": [
        "with open('train_qa.txt', 'rb') as f:\n",
        "  train_data = pickle.load(f)"
      ],
      "metadata": {
        "id": "7__to0bEORfc"
      },
      "execution_count": 6,
      "outputs": []
    },
    {
      "cell_type": "code",
      "source": [
        "with open('test_qa.txt', 'rb') as f:\n",
        "  test_data = pickle.load(f)"
      ],
      "metadata": {
        "id": "DeQyxzv_ZfKR"
      },
      "execution_count": 7,
      "outputs": []
    },
    {
      "cell_type": "code",
      "source": [
        "len(train_data)"
      ],
      "metadata": {
        "colab": {
          "base_uri": "https://localhost:8080/"
        },
        "id": "k1qEANT5Zyse",
        "outputId": "153523a6-8110-4567-973f-4417e9e35587"
      },
      "execution_count": 8,
      "outputs": [
        {
          "output_type": "execute_result",
          "data": {
            "text/plain": [
              "10000"
            ]
          },
          "metadata": {},
          "execution_count": 8
        }
      ]
    },
    {
      "cell_type": "code",
      "source": [
        "len(test_data)"
      ],
      "metadata": {
        "colab": {
          "base_uri": "https://localhost:8080/"
        },
        "id": "zJtfxfBoZ3oJ",
        "outputId": "d1e4db42-08ae-4d5f-924c-f192767dfdbd"
      },
      "execution_count": 9,
      "outputs": [
        {
          "output_type": "execute_result",
          "data": {
            "text/plain": [
              "1000"
            ]
          },
          "metadata": {},
          "execution_count": 9
        }
      ]
    },
    {
      "cell_type": "code",
      "source": [
        "' '.join(train_data[10][0])"
      ],
      "metadata": {
        "colab": {
          "base_uri": "https://localhost:8080/",
          "height": 35
        },
        "id": "Fk_d-wwwZ7_s",
        "outputId": "bdd9dd69-d463-4ae6-ffd3-7b1e65655811"
      },
      "execution_count": 10,
      "outputs": [
        {
          "output_type": "execute_result",
          "data": {
            "text/plain": [
              "'Sandra went back to the hallway . Sandra moved to the office .'"
            ],
            "application/vnd.google.colaboratory.intrinsic+json": {
              "type": "string"
            }
          },
          "metadata": {},
          "execution_count": 10
        }
      ]
    },
    {
      "cell_type": "code",
      "source": [
        "' '.join(train_data[10][1])"
      ],
      "metadata": {
        "colab": {
          "base_uri": "https://localhost:8080/",
          "height": 35
        },
        "id": "ronSXKZUZ_UY",
        "outputId": "be9faf43-5450-4016-e2f2-c6ae34c1f6e4"
      },
      "execution_count": 11,
      "outputs": [
        {
          "output_type": "execute_result",
          "data": {
            "text/plain": [
              "'Is Sandra in the office ?'"
            ],
            "application/vnd.google.colaboratory.intrinsic+json": {
              "type": "string"
            }
          },
          "metadata": {},
          "execution_count": 11
        }
      ]
    },
    {
      "cell_type": "code",
      "source": [
        "train_data[10][2]"
      ],
      "metadata": {
        "colab": {
          "base_uri": "https://localhost:8080/",
          "height": 35
        },
        "id": "Vmu94R0QaNvp",
        "outputId": "e5a891a7-ea2a-4a64-9906-792518492810"
      },
      "execution_count": 12,
      "outputs": [
        {
          "output_type": "execute_result",
          "data": {
            "text/plain": [
              "'yes'"
            ],
            "application/vnd.google.colaboratory.intrinsic+json": {
              "type": "string"
            }
          },
          "metadata": {},
          "execution_count": 12
        }
      ]
    },
    {
      "cell_type": "code",
      "source": [
        "all_data = train_data + train_data"
      ],
      "metadata": {
        "id": "Xf2CGwh7aV_i"
      },
      "execution_count": 13,
      "outputs": []
    },
    {
      "cell_type": "code",
      "source": [
        "vocab = set(['yes', 'no'])\n",
        "for story, question, answer in all_data:\n",
        "  vocab = vocab.union(set(story))\n",
        "  vocab = vocab.union(set(question))"
      ],
      "metadata": {
        "id": "DDwNuBX-awuA"
      },
      "execution_count": 14,
      "outputs": []
    },
    {
      "cell_type": "code",
      "source": [
        "vocab_len = len(vocab) + 1"
      ],
      "metadata": {
        "id": "kqCJ2n_PbMYx"
      },
      "execution_count": 15,
      "outputs": []
    },
    {
      "cell_type": "code",
      "source": [
        "vocab_len"
      ],
      "metadata": {
        "colab": {
          "base_uri": "https://localhost:8080/"
        },
        "id": "fxZnJ4EubRQB",
        "outputId": "d54ec1d4-d85e-47a7-bc68-07ca5aa6eade"
      },
      "execution_count": 16,
      "outputs": [
        {
          "output_type": "execute_result",
          "data": {
            "text/plain": [
              "38"
            ]
          },
          "metadata": {},
          "execution_count": 16
        }
      ]
    },
    {
      "cell_type": "code",
      "source": [
        "all_story_length = [len(data[0]) for data in all_data]"
      ],
      "metadata": {
        "id": "V0hTo7L-bWel"
      },
      "execution_count": 17,
      "outputs": []
    },
    {
      "cell_type": "code",
      "source": [
        "max_story_len = max(all_story_length)"
      ],
      "metadata": {
        "id": "VuWc__nabizA"
      },
      "execution_count": 18,
      "outputs": []
    },
    {
      "cell_type": "code",
      "source": [
        "max_story_len"
      ],
      "metadata": {
        "colab": {
          "base_uri": "https://localhost:8080/"
        },
        "id": "SnbtbhxKbmu0",
        "outputId": "db7c2d0a-7c86-4e7f-ab9c-2b696dc02b1a"
      },
      "execution_count": 19,
      "outputs": [
        {
          "output_type": "execute_result",
          "data": {
            "text/plain": [
              "156"
            ]
          },
          "metadata": {},
          "execution_count": 19
        }
      ]
    },
    {
      "cell_type": "code",
      "source": [
        "all_question_length = [len(data[1]) for data in all_data]"
      ],
      "metadata": {
        "id": "NZIdJhm0bnjs"
      },
      "execution_count": 20,
      "outputs": []
    },
    {
      "cell_type": "code",
      "source": [
        "max_question_length = max(all_question_length)"
      ],
      "metadata": {
        "id": "vYx2pumlbuA-"
      },
      "execution_count": 21,
      "outputs": []
    },
    {
      "cell_type": "code",
      "source": [
        "max_question_length"
      ],
      "metadata": {
        "colab": {
          "base_uri": "https://localhost:8080/"
        },
        "id": "pXHihqptbyfr",
        "outputId": "7b4ad0ba-b627-4568-fa76-3b17abf48f8f"
      },
      "execution_count": 22,
      "outputs": [
        {
          "output_type": "execute_result",
          "data": {
            "text/plain": [
              "6"
            ]
          },
          "metadata": {},
          "execution_count": 22
        }
      ]
    },
    {
      "cell_type": "code",
      "source": [
        "tokenizer = tf.keras.preprocessing.text.Tokenizer()\n",
        "tokenizer.fit_on_texts(vocab)"
      ],
      "metadata": {
        "id": "FOA3VXAPbyqu"
      },
      "execution_count": 23,
      "outputs": []
    },
    {
      "cell_type": "code",
      "source": [
        "tokenizer.word_index"
      ],
      "metadata": {
        "colab": {
          "base_uri": "https://localhost:8080/"
        },
        "id": "jsIlKYgucIUA",
        "outputId": "24d48649-6031-42f5-cbec-d6dec902cb25"
      },
      "execution_count": 24,
      "outputs": [
        {
          "output_type": "execute_result",
          "data": {
            "text/plain": [
              "{'apple': 17,\n",
              " 'back': 7,\n",
              " 'bathroom': 31,\n",
              " 'bedroom': 27,\n",
              " 'daniel': 11,\n",
              " 'discarded': 9,\n",
              " 'down': 5,\n",
              " 'dropped': 4,\n",
              " 'football': 28,\n",
              " 'garden': 15,\n",
              " 'got': 12,\n",
              " 'grabbed': 14,\n",
              " 'hallway': 18,\n",
              " 'in': 23,\n",
              " 'is': 30,\n",
              " 'john': 8,\n",
              " 'journeyed': 26,\n",
              " 'kitchen': 16,\n",
              " 'left': 19,\n",
              " 'mary': 33,\n",
              " 'milk': 20,\n",
              " 'moved': 29,\n",
              " 'no': 2,\n",
              " 'office': 35,\n",
              " 'picked': 10,\n",
              " 'put': 1,\n",
              " 'sandra': 34,\n",
              " 'the': 32,\n",
              " 'there': 3,\n",
              " 'to': 25,\n",
              " 'took': 13,\n",
              " 'travelled': 24,\n",
              " 'up': 6,\n",
              " 'went': 22,\n",
              " 'yes': 21}"
            ]
          },
          "metadata": {},
          "execution_count": 24
        }
      ]
    },
    {
      "cell_type": "code",
      "source": [
        "train_story_text = []\n",
        "train_question_text = []\n",
        "train_answers = []"
      ],
      "metadata": {
        "id": "kJFUMnDacN3Y"
      },
      "execution_count": 25,
      "outputs": []
    },
    {
      "cell_type": "code",
      "source": [
        "for story, question, answer in train_data:\n",
        "  train_story_text.append(story)\n",
        "  train_question_text.append(question)\n",
        "  train_answers.append(answer)"
      ],
      "metadata": {
        "id": "28ttoOmYcZ4n"
      },
      "execution_count": 26,
      "outputs": []
    },
    {
      "cell_type": "code",
      "source": [
        "train_story_text[20]"
      ],
      "metadata": {
        "colab": {
          "base_uri": "https://localhost:8080/"
        },
        "id": "iq1Nm5eccnBH",
        "outputId": "5d75312f-9b2c-49b4-aa65-c055417f7358"
      },
      "execution_count": 27,
      "outputs": [
        {
          "output_type": "execute_result",
          "data": {
            "text/plain": [
              "['Daniel',\n",
              " 'got',\n",
              " 'the',\n",
              " 'apple',\n",
              " 'there',\n",
              " '.',\n",
              " 'John',\n",
              " 'picked',\n",
              " 'up',\n",
              " 'the',\n",
              " 'football',\n",
              " 'there',\n",
              " '.',\n",
              " 'Daniel',\n",
              " 'left',\n",
              " 'the',\n",
              " 'apple',\n",
              " '.',\n",
              " 'Daniel',\n",
              " 'moved',\n",
              " 'to',\n",
              " 'the',\n",
              " 'kitchen',\n",
              " '.']"
            ]
          },
          "metadata": {},
          "execution_count": 27
        }
      ]
    },
    {
      "cell_type": "code",
      "source": [
        "train_story_seq = tokenizer.texts_to_sequences(train_story_text)"
      ],
      "metadata": {
        "id": "5yv4La59coqH"
      },
      "execution_count": 28,
      "outputs": []
    },
    {
      "cell_type": "code",
      "source": [
        "train_story_seq[20]"
      ],
      "metadata": {
        "colab": {
          "base_uri": "https://localhost:8080/"
        },
        "id": "nNp2daFcc1tH",
        "outputId": "84bf3f51-f5b6-482c-c83d-78d7917edc6c"
      },
      "execution_count": 29,
      "outputs": [
        {
          "output_type": "execute_result",
          "data": {
            "text/plain": [
              "[11, 12, 32, 17, 3, 8, 10, 6, 32, 28, 3, 11, 19, 32, 17, 11, 29, 25, 32, 16]"
            ]
          },
          "metadata": {},
          "execution_count": 29
        }
      ]
    },
    {
      "cell_type": "code",
      "source": [
        "len(train_story_seq), len(train_story_text)"
      ],
      "metadata": {
        "colab": {
          "base_uri": "https://localhost:8080/"
        },
        "id": "jgoNhoHOc3qz",
        "outputId": "62074904-47b4-4e76-feeb-d4a94396f9ff"
      },
      "execution_count": 30,
      "outputs": [
        {
          "output_type": "execute_result",
          "data": {
            "text/plain": [
              "(10000, 10000)"
            ]
          },
          "metadata": {},
          "execution_count": 30
        }
      ]
    },
    {
      "cell_type": "code",
      "source": [
        "def vectorize_texts(data, max_story_len=max_story_len, max_question_len=max_question_length, word_index=tokenizer.word_index, vocab_len=vocab_len):\n",
        "  stories = []\n",
        "  questions = []\n",
        "  answers = []\n",
        "\n",
        "  for story, question, answer in data:\n",
        "    s = [word_index[word.lower()] for word in story if word.isalpha()]\n",
        "    q = [word_index[word.lower()] for word in question if word.isalpha()]\n",
        "    y = np.zeros(vocab_len)\n",
        "    y[word_index[answer]] = 1\n",
        "\n",
        "    stories.append(s)\n",
        "    questions.append(q)\n",
        "    answers.append(y)\n",
        "  \n",
        "  return (tf.keras.preprocessing.sequence.pad_sequences(stories, maxlen=max_story_len),\n",
        "          tf.keras.preprocessing.sequence.pad_sequences(questions, maxlen=max_question_length),\n",
        "          np.array(answers))"
      ],
      "metadata": {
        "id": "0IlYZQrIc56g"
      },
      "execution_count": 31,
      "outputs": []
    },
    {
      "cell_type": "code",
      "source": [
        "data = train_data\n",
        "inputs_train, questions_train, answers_train = vectorize_texts(data)"
      ],
      "metadata": {
        "id": "-6Z5b-PHfBwO"
      },
      "execution_count": 32,
      "outputs": []
    },
    {
      "cell_type": "code",
      "source": [
        "data = test_data\n",
        "inputs_test, questions_test, answers_test = vectorize_texts(data)"
      ],
      "metadata": {
        "id": "bjNUYKQif1Kq"
      },
      "execution_count": 33,
      "outputs": []
    },
    {
      "cell_type": "code",
      "source": [
        "inputs_train"
      ],
      "metadata": {
        "colab": {
          "base_uri": "https://localhost:8080/"
        },
        "id": "4nRydDlyg2Nt",
        "outputId": "488a4c32-7876-4468-c004-6bf7d369b5f1"
      },
      "execution_count": 34,
      "outputs": [
        {
          "output_type": "execute_result",
          "data": {
            "text/plain": [
              "array([[ 0,  0,  0, ..., 25, 32, 27],\n",
              "       [ 0,  0,  0, ..., 25, 32, 18],\n",
              "       [ 0,  0,  0, ..., 25, 32, 31],\n",
              "       ...,\n",
              "       [ 0,  0,  0, ..., 25, 32, 27],\n",
              "       [ 0,  0,  0, ..., 32, 20,  3],\n",
              "       [ 0,  0,  0, ..., 32, 17,  3]], dtype=int32)"
            ]
          },
          "metadata": {},
          "execution_count": 34
        }
      ]
    },
    {
      "cell_type": "code",
      "source": [
        "questions_train"
      ],
      "metadata": {
        "colab": {
          "base_uri": "https://localhost:8080/"
        },
        "id": "10lS9PUihLjm",
        "outputId": "3b5edc03-530b-424b-c33e-f99c3aa03e97"
      },
      "execution_count": 35,
      "outputs": [
        {
          "output_type": "execute_result",
          "data": {
            "text/plain": [
              "array([[ 0, 30, 34, 23, 32, 18],\n",
              "       [ 0, 30, 11, 23, 32, 31],\n",
              "       [ 0, 30, 11, 23, 32, 35],\n",
              "       ...,\n",
              "       [ 0, 30, 34, 23, 32, 18],\n",
              "       [ 0, 30, 33, 23, 32, 16],\n",
              "       [ 0, 30, 33, 23, 32, 27]], dtype=int32)"
            ]
          },
          "metadata": {},
          "execution_count": 35
        }
      ]
    },
    {
      "cell_type": "code",
      "source": [
        "answers_train"
      ],
      "metadata": {
        "colab": {
          "base_uri": "https://localhost:8080/"
        },
        "id": "kFpXbaoNhx9U",
        "outputId": "82f4403b-8211-4c8d-9927-4be108a9c7e4"
      },
      "execution_count": 36,
      "outputs": [
        {
          "output_type": "execute_result",
          "data": {
            "text/plain": [
              "array([[0., 0., 1., ..., 0., 0., 0.],\n",
              "       [0., 0., 1., ..., 0., 0., 0.],\n",
              "       [0., 0., 1., ..., 0., 0., 0.],\n",
              "       ...,\n",
              "       [0., 0., 1., ..., 0., 0., 0.],\n",
              "       [0., 0., 1., ..., 0., 0., 0.],\n",
              "       [0., 0., 0., ..., 0., 0., 0.]])"
            ]
          },
          "metadata": {},
          "execution_count": 36
        }
      ]
    },
    {
      "cell_type": "code",
      "source": [
        "len(answers_test)"
      ],
      "metadata": {
        "colab": {
          "base_uri": "https://localhost:8080/"
        },
        "id": "YnIx8P8Ehzlg",
        "outputId": "bed0cc19-73fb-466e-ccb8-d7ceb85960b3"
      },
      "execution_count": 37,
      "outputs": [
        {
          "output_type": "execute_result",
          "data": {
            "text/plain": [
              "1000"
            ]
          },
          "metadata": {},
          "execution_count": 37
        }
      ]
    },
    {
      "cell_type": "code",
      "source": [
        "sum(answers_test)"
      ],
      "metadata": {
        "colab": {
          "base_uri": "https://localhost:8080/"
        },
        "id": "kVxLSZeth8uX",
        "outputId": "11d0b5b5-2dc7-4e12-d649-5aa8dc08439c"
      },
      "execution_count": 38,
      "outputs": [
        {
          "output_type": "execute_result",
          "data": {
            "text/plain": [
              "array([  0.,   0., 503.,   0.,   0.,   0.,   0.,   0.,   0.,   0.,   0.,\n",
              "         0.,   0.,   0.,   0.,   0.,   0.,   0.,   0.,   0.,   0., 497.,\n",
              "         0.,   0.,   0.,   0.,   0.,   0.,   0.,   0.,   0.,   0.,   0.,\n",
              "         0.,   0.,   0.,   0.,   0.])"
            ]
          },
          "metadata": {},
          "execution_count": 38
        }
      ]
    },
    {
      "cell_type": "code",
      "source": [
        "#(max_story_len, batch_size) ==> scince we don't know the batch size, we use (max_story_len, ) to select it automaticaly\n",
        "input_sequence = tf.keras.layers.Input((max_story_len, ))\n",
        "question = tf.keras.layers.Input((max_question_length, ))"
      ],
      "metadata": {
        "id": "VLLk6CcniPJ3"
      },
      "execution_count": 39,
      "outputs": []
    },
    {
      "cell_type": "code",
      "source": [
        "vocab_len = len(vocab) + 1 "
      ],
      "metadata": {
        "id": "nKRCJuqWxmz4"
      },
      "execution_count": 40,
      "outputs": []
    },
    {
      "cell_type": "markdown",
      "source": [
        "###Input Encoder M"
      ],
      "metadata": {
        "id": "H8vwj5f9xxOA"
      }
    },
    {
      "cell_type": "code",
      "source": [
        "input_encoder_m = tf.keras.models.Sequential()\n",
        "input_encoder_m.add(tf.keras.layers.Embedding(input_dim=vocab_len, output_dim=64))\n",
        "input_encoder_m.add(tf.keras.layers.Dropout(0.3))\n",
        "\n",
        "#(samples, story_maxlen, embedding_dim)"
      ],
      "metadata": {
        "id": "Q7qgV1mtynRT"
      },
      "execution_count": 41,
      "outputs": []
    },
    {
      "cell_type": "markdown",
      "source": [
        "###Input Encoder C"
      ],
      "metadata": {
        "id": "eDMX8NczyXc7"
      }
    },
    {
      "cell_type": "code",
      "source": [
        "input_encoder_c = tf.keras.models.Sequential()\n",
        "input_encoder_c.add(tf.keras.layers.Embedding(input_dim=vocab_len, output_dim=max_question_length))\n",
        "input_encoder_c.add(tf.keras.layers.Dropout(0.3))\n",
        "\n",
        "#(samples, story_maxlen, max_question_len)"
      ],
      "metadata": {
        "id": "TXmX1kTcyU0k"
      },
      "execution_count": 42,
      "outputs": []
    },
    {
      "cell_type": "markdown",
      "source": [
        "###Question Encoder"
      ],
      "metadata": {
        "id": "Wz4-S19Ty8O6"
      }
    },
    {
      "cell_type": "code",
      "source": [
        "question_encoder = tf.keras.models.Sequential()\n",
        "question_encoder.add(tf.keras.layers.Embedding(input_dim=vocab_len, output_dim=64, input_length=max_question_length))\n",
        "question_encoder.add(tf.keras.layers.Dropout(0.3))\n",
        "\n",
        "#(samples, query_maxlen, embedding_len)"
      ],
      "metadata": {
        "id": "XVeMBLNLyeXv"
      },
      "execution_count": 43,
      "outputs": []
    },
    {
      "cell_type": "code",
      "source": [
        "input_encoded_m = input_encoder_m(input_sequence)\n",
        "input_encoded_c = input_encoder_c(input_sequence)\n",
        "question_encoded = question_encoder(question)"
      ],
      "metadata": {
        "id": "CXhscw60zJiG"
      },
      "execution_count": 44,
      "outputs": []
    },
    {
      "cell_type": "code",
      "source": [
        "match = tf.keras.layers.dot([input_encoded_m, question_encoded], axes=(2, 2))\n",
        "match = tf.keras.layers.Activation('softmax')(match)"
      ],
      "metadata": {
        "id": "sqpMSpkD4Dc-"
      },
      "execution_count": 45,
      "outputs": []
    },
    {
      "cell_type": "code",
      "source": [
        "match.shape"
      ],
      "metadata": {
        "colab": {
          "base_uri": "https://localhost:8080/"
        },
        "id": "Pt2aqVo9481y",
        "outputId": "fddc8579-4ea2-4439-a8bc-1089010866d1"
      },
      "execution_count": 46,
      "outputs": [
        {
          "output_type": "execute_result",
          "data": {
            "text/plain": [
              "TensorShape([None, 156, 6])"
            ]
          },
          "metadata": {},
          "execution_count": 46
        }
      ]
    },
    {
      "cell_type": "code",
      "source": [
        "response = tf.keras.layers.add([match, input_encoded_c])\n",
        "response = tf.keras.layers.Permute((2, 1))(response)"
      ],
      "metadata": {
        "id": "dsmqDczJ4ghl"
      },
      "execution_count": 47,
      "outputs": []
    },
    {
      "cell_type": "code",
      "source": [
        "response.shape"
      ],
      "metadata": {
        "colab": {
          "base_uri": "https://localhost:8080/"
        },
        "id": "9WGcO6ER46eg",
        "outputId": "ece31990-cc17-4ae8-9309-b9eee2f6c0b0"
      },
      "execution_count": 48,
      "outputs": [
        {
          "output_type": "execute_result",
          "data": {
            "text/plain": [
              "TensorShape([None, 6, 156])"
            ]
          },
          "metadata": {},
          "execution_count": 48
        }
      ]
    },
    {
      "cell_type": "code",
      "source": [
        "answer = tf.keras.layers.concatenate([response, question_encoded])"
      ],
      "metadata": {
        "id": "axAUSQil5AFl"
      },
      "execution_count": 49,
      "outputs": []
    },
    {
      "cell_type": "code",
      "source": [
        "answer"
      ],
      "metadata": {
        "colab": {
          "base_uri": "https://localhost:8080/"
        },
        "id": "JuptBieE5Jsf",
        "outputId": "b2cb6810-1a76-4945-c98b-6acf44e560b1"
      },
      "execution_count": 50,
      "outputs": [
        {
          "output_type": "execute_result",
          "data": {
            "text/plain": [
              "<KerasTensor: shape=(None, 6, 220) dtype=float32 (created by layer 'concatenate')>"
            ]
          },
          "metadata": {},
          "execution_count": 50
        }
      ]
    },
    {
      "cell_type": "code",
      "source": [
        "answer.shape"
      ],
      "metadata": {
        "colab": {
          "base_uri": "https://localhost:8080/"
        },
        "id": "fLaAsZnF5KyX",
        "outputId": "8d9d4922-ab1d-490c-95ed-abb958da7a52"
      },
      "execution_count": 51,
      "outputs": [
        {
          "output_type": "execute_result",
          "data": {
            "text/plain": [
              "TensorShape([None, 6, 220])"
            ]
          },
          "metadata": {},
          "execution_count": 51
        }
      ]
    },
    {
      "cell_type": "code",
      "source": [
        "answer = tf.keras.layers.LSTM(32)(answer)"
      ],
      "metadata": {
        "id": "EeY0kq__5NYy"
      },
      "execution_count": 52,
      "outputs": []
    },
    {
      "cell_type": "code",
      "source": [
        "answer = tf.keras.layers.Dropout(0.5)(answer)"
      ],
      "metadata": {
        "id": "Ea0xlF455Vk6"
      },
      "execution_count": 53,
      "outputs": []
    },
    {
      "cell_type": "code",
      "source": [
        "answer = tf.keras.layers.Dense(vocab_len)(answer)"
      ],
      "metadata": {
        "id": "lAc-MpoI5Zwq"
      },
      "execution_count": 54,
      "outputs": []
    },
    {
      "cell_type": "code",
      "source": [
        "answer = tf.keras.layers.Activation('softmax')(answer)"
      ],
      "metadata": {
        "id": "vfiU6Sdm5e7W"
      },
      "execution_count": 55,
      "outputs": []
    },
    {
      "cell_type": "code",
      "source": [
        "model = tf.keras.models.Model([input_sequence, question], answer)"
      ],
      "metadata": {
        "id": "huO3CqXU5i7S"
      },
      "execution_count": 56,
      "outputs": []
    },
    {
      "cell_type": "code",
      "source": [
        "model.compile(optimizer = 'rmsprop',\n",
        "              loss = 'categorical_crossentropy',\n",
        "              metrics=['accuracy'])"
      ],
      "metadata": {
        "id": "EjgluXfH5n7l"
      },
      "execution_count": 57,
      "outputs": []
    },
    {
      "cell_type": "code",
      "source": [
        "model.summary()"
      ],
      "metadata": {
        "colab": {
          "base_uri": "https://localhost:8080/"
        },
        "id": "dJBPrXxs55sN",
        "outputId": "dcd113fd-f3f2-40f6-8f19-c3f45debf94f"
      },
      "execution_count": 58,
      "outputs": [
        {
          "output_type": "stream",
          "name": "stdout",
          "text": [
            "Model: \"model\"\n",
            "__________________________________________________________________________________________________\n",
            " Layer (type)                   Output Shape         Param #     Connected to                     \n",
            "==================================================================================================\n",
            " input_1 (InputLayer)           [(None, 156)]        0           []                               \n",
            "                                                                                                  \n",
            " input_2 (InputLayer)           [(None, 6)]          0           []                               \n",
            "                                                                                                  \n",
            " sequential (Sequential)        (None, None, 64)     2432        ['input_1[0][0]']                \n",
            "                                                                                                  \n",
            " sequential_2 (Sequential)      (None, 6, 64)        2432        ['input_2[0][0]']                \n",
            "                                                                                                  \n",
            " dot (Dot)                      (None, 156, 6)       0           ['sequential[0][0]',             \n",
            "                                                                  'sequential_2[0][0]']           \n",
            "                                                                                                  \n",
            " activation (Activation)        (None, 156, 6)       0           ['dot[0][0]']                    \n",
            "                                                                                                  \n",
            " sequential_1 (Sequential)      (None, None, 6)      228         ['input_1[0][0]']                \n",
            "                                                                                                  \n",
            " add (Add)                      (None, 156, 6)       0           ['activation[0][0]',             \n",
            "                                                                  'sequential_1[0][0]']           \n",
            "                                                                                                  \n",
            " permute (Permute)              (None, 6, 156)       0           ['add[0][0]']                    \n",
            "                                                                                                  \n",
            " concatenate (Concatenate)      (None, 6, 220)       0           ['permute[0][0]',                \n",
            "                                                                  'sequential_2[0][0]']           \n",
            "                                                                                                  \n",
            " lstm (LSTM)                    (None, 32)           32384       ['concatenate[0][0]']            \n",
            "                                                                                                  \n",
            " dropout_3 (Dropout)            (None, 32)           0           ['lstm[0][0]']                   \n",
            "                                                                                                  \n",
            " dense (Dense)                  (None, 38)           1254        ['dropout_3[0][0]']              \n",
            "                                                                                                  \n",
            " activation_1 (Activation)      (None, 38)           0           ['dense[0][0]']                  \n",
            "                                                                                                  \n",
            "==================================================================================================\n",
            "Total params: 38,730\n",
            "Trainable params: 38,730\n",
            "Non-trainable params: 0\n",
            "__________________________________________________________________________________________________\n"
          ]
        }
      ]
    },
    {
      "cell_type": "code",
      "source": [
        "history = model.fit([inputs_train, questions_train],\n",
        "                    answers_train,\n",
        "                    batch_size=32, \n",
        "                    epochs=100,\n",
        "                    validation_data=([inputs_test, questions_test], answers_test))"
      ],
      "metadata": {
        "colab": {
          "base_uri": "https://localhost:8080/"
        },
        "id": "zLIw-7wh56ug",
        "outputId": "0c6ef27c-a06a-42d7-cfa6-5b16afd683d9"
      },
      "execution_count": 120,
      "outputs": [
        {
          "output_type": "stream",
          "name": "stdout",
          "text": [
            "Epoch 1/100\n",
            "313/313 [==============================] - 6s 18ms/step - loss: 0.5502 - accuracy: 0.7355 - val_loss: 0.5329 - val_accuracy: 0.7400\n",
            "Epoch 2/100\n",
            "313/313 [==============================] - 6s 18ms/step - loss: 0.4863 - accuracy: 0.7824 - val_loss: 0.4483 - val_accuracy: 0.7900\n",
            "Epoch 3/100\n",
            "313/313 [==============================] - 6s 18ms/step - loss: 0.4398 - accuracy: 0.8114 - val_loss: 0.4072 - val_accuracy: 0.8140\n",
            "Epoch 4/100\n",
            "313/313 [==============================] - 5s 17ms/step - loss: 0.4132 - accuracy: 0.8283 - val_loss: 0.3866 - val_accuracy: 0.8280\n",
            "Epoch 5/100\n",
            "313/313 [==============================] - 5s 17ms/step - loss: 0.4062 - accuracy: 0.8352 - val_loss: 0.3871 - val_accuracy: 0.8280\n",
            "Epoch 6/100\n",
            "313/313 [==============================] - 5s 17ms/step - loss: 0.3947 - accuracy: 0.8366 - val_loss: 0.3921 - val_accuracy: 0.8350\n",
            "Epoch 7/100\n",
            "313/313 [==============================] - 5s 17ms/step - loss: 0.3819 - accuracy: 0.8451 - val_loss: 0.3623 - val_accuracy: 0.8430\n",
            "Epoch 8/100\n",
            "313/313 [==============================] - 6s 18ms/step - loss: 0.3683 - accuracy: 0.8516 - val_loss: 0.3684 - val_accuracy: 0.8440\n",
            "Epoch 9/100\n",
            "313/313 [==============================] - 5s 17ms/step - loss: 0.3613 - accuracy: 0.8505 - val_loss: 0.3671 - val_accuracy: 0.8470\n",
            "Epoch 10/100\n",
            "313/313 [==============================] - 5s 18ms/step - loss: 0.3532 - accuracy: 0.8511 - val_loss: 0.3791 - val_accuracy: 0.8380\n",
            "Epoch 11/100\n",
            "313/313 [==============================] - 5s 17ms/step - loss: 0.3471 - accuracy: 0.8582 - val_loss: 0.3648 - val_accuracy: 0.8350\n",
            "Epoch 12/100\n",
            "313/313 [==============================] - 5s 17ms/step - loss: 0.3386 - accuracy: 0.8598 - val_loss: 0.3485 - val_accuracy: 0.8400\n",
            "Epoch 13/100\n",
            "313/313 [==============================] - 5s 17ms/step - loss: 0.3339 - accuracy: 0.8582 - val_loss: 0.3601 - val_accuracy: 0.8410\n",
            "Epoch 14/100\n",
            "313/313 [==============================] - 5s 17ms/step - loss: 0.3320 - accuracy: 0.8610 - val_loss: 0.3567 - val_accuracy: 0.8500\n",
            "Epoch 15/100\n",
            "313/313 [==============================] - 5s 17ms/step - loss: 0.3289 - accuracy: 0.8613 - val_loss: 0.3535 - val_accuracy: 0.8390\n",
            "Epoch 16/100\n",
            "313/313 [==============================] - 6s 18ms/step - loss: 0.3229 - accuracy: 0.8621 - val_loss: 0.3467 - val_accuracy: 0.8450\n",
            "Epoch 17/100\n",
            "313/313 [==============================] - 6s 20ms/step - loss: 0.3204 - accuracy: 0.8638 - val_loss: 0.3462 - val_accuracy: 0.8470\n",
            "Epoch 18/100\n",
            "313/313 [==============================] - 6s 19ms/step - loss: 0.3169 - accuracy: 0.8670 - val_loss: 0.3374 - val_accuracy: 0.8470\n",
            "Epoch 19/100\n",
            "313/313 [==============================] - 6s 18ms/step - loss: 0.3152 - accuracy: 0.8644 - val_loss: 0.3628 - val_accuracy: 0.8410\n",
            "Epoch 20/100\n",
            "313/313 [==============================] - 6s 18ms/step - loss: 0.3145 - accuracy: 0.8628 - val_loss: 0.3624 - val_accuracy: 0.8430\n",
            "Epoch 21/100\n",
            "313/313 [==============================] - 6s 18ms/step - loss: 0.3087 - accuracy: 0.8673 - val_loss: 0.3368 - val_accuracy: 0.8470\n",
            "Epoch 22/100\n",
            "313/313 [==============================] - 6s 18ms/step - loss: 0.3086 - accuracy: 0.8640 - val_loss: 0.3498 - val_accuracy: 0.8470\n",
            "Epoch 23/100\n",
            "313/313 [==============================] - 6s 18ms/step - loss: 0.3096 - accuracy: 0.8643 - val_loss: 0.3478 - val_accuracy: 0.8470\n",
            "Epoch 24/100\n",
            "313/313 [==============================] - 6s 18ms/step - loss: 0.3040 - accuracy: 0.8686 - val_loss: 0.3346 - val_accuracy: 0.8500\n",
            "Epoch 25/100\n",
            "313/313 [==============================] - 6s 18ms/step - loss: 0.3015 - accuracy: 0.8686 - val_loss: 0.3396 - val_accuracy: 0.8500\n",
            "Epoch 26/100\n",
            "313/313 [==============================] - 6s 18ms/step - loss: 0.3025 - accuracy: 0.8654 - val_loss: 0.3415 - val_accuracy: 0.8510\n",
            "Epoch 27/100\n",
            "313/313 [==============================] - 6s 18ms/step - loss: 0.2994 - accuracy: 0.8705 - val_loss: 0.3582 - val_accuracy: 0.8400\n",
            "Epoch 28/100\n",
            "313/313 [==============================] - 6s 18ms/step - loss: 0.3003 - accuracy: 0.8718 - val_loss: 0.3551 - val_accuracy: 0.8420\n",
            "Epoch 29/100\n",
            "313/313 [==============================] - 6s 18ms/step - loss: 0.2973 - accuracy: 0.8693 - val_loss: 0.3336 - val_accuracy: 0.8410\n",
            "Epoch 30/100\n",
            "313/313 [==============================] - 6s 18ms/step - loss: 0.2987 - accuracy: 0.8688 - val_loss: 0.3444 - val_accuracy: 0.8420\n",
            "Epoch 31/100\n",
            "313/313 [==============================] - 6s 18ms/step - loss: 0.2912 - accuracy: 0.8710 - val_loss: 0.3438 - val_accuracy: 0.8490\n",
            "Epoch 32/100\n",
            "313/313 [==============================] - 6s 18ms/step - loss: 0.2912 - accuracy: 0.8738 - val_loss: 0.3407 - val_accuracy: 0.8450\n",
            "Epoch 33/100\n",
            "313/313 [==============================] - 6s 18ms/step - loss: 0.2923 - accuracy: 0.8741 - val_loss: 0.3536 - val_accuracy: 0.8480\n",
            "Epoch 34/100\n",
            "313/313 [==============================] - 6s 18ms/step - loss: 0.2888 - accuracy: 0.8753 - val_loss: 0.3581 - val_accuracy: 0.8380\n",
            "Epoch 35/100\n",
            "313/313 [==============================] - 6s 18ms/step - loss: 0.2900 - accuracy: 0.8733 - val_loss: 0.3404 - val_accuracy: 0.8510\n",
            "Epoch 36/100\n",
            "313/313 [==============================] - 6s 18ms/step - loss: 0.2862 - accuracy: 0.8783 - val_loss: 0.3566 - val_accuracy: 0.8420\n",
            "Epoch 37/100\n",
            "313/313 [==============================] - 6s 18ms/step - loss: 0.2828 - accuracy: 0.8789 - val_loss: 0.3582 - val_accuracy: 0.8390\n",
            "Epoch 38/100\n",
            "313/313 [==============================] - 6s 18ms/step - loss: 0.2823 - accuracy: 0.8782 - val_loss: 0.3449 - val_accuracy: 0.8400\n",
            "Epoch 39/100\n",
            "313/313 [==============================] - 6s 18ms/step - loss: 0.2846 - accuracy: 0.8789 - val_loss: 0.3268 - val_accuracy: 0.8590\n",
            "Epoch 40/100\n",
            "313/313 [==============================] - 6s 18ms/step - loss: 0.2773 - accuracy: 0.8819 - val_loss: 0.3390 - val_accuracy: 0.8570\n",
            "Epoch 41/100\n",
            "313/313 [==============================] - 6s 19ms/step - loss: 0.2775 - accuracy: 0.8826 - val_loss: 0.3421 - val_accuracy: 0.8530\n",
            "Epoch 42/100\n",
            "313/313 [==============================] - 6s 19ms/step - loss: 0.2674 - accuracy: 0.8859 - val_loss: 0.3213 - val_accuracy: 0.8650\n",
            "Epoch 43/100\n",
            "313/313 [==============================] - 6s 19ms/step - loss: 0.2730 - accuracy: 0.8842 - val_loss: 0.3423 - val_accuracy: 0.8490\n",
            "Epoch 44/100\n",
            "313/313 [==============================] - 6s 19ms/step - loss: 0.2696 - accuracy: 0.8870 - val_loss: 0.3245 - val_accuracy: 0.8710\n",
            "Epoch 45/100\n",
            "313/313 [==============================] - 6s 19ms/step - loss: 0.2622 - accuracy: 0.8913 - val_loss: 0.3142 - val_accuracy: 0.8630\n",
            "Epoch 46/100\n",
            "313/313 [==============================] - 6s 19ms/step - loss: 0.2579 - accuracy: 0.8944 - val_loss: 0.3130 - val_accuracy: 0.8770\n",
            "Epoch 47/100\n",
            "313/313 [==============================] - 6s 18ms/step - loss: 0.2526 - accuracy: 0.8932 - val_loss: 0.3416 - val_accuracy: 0.8620\n",
            "Epoch 48/100\n",
            "313/313 [==============================] - 6s 19ms/step - loss: 0.2557 - accuracy: 0.8955 - val_loss: 0.3039 - val_accuracy: 0.8810\n",
            "Epoch 49/100\n",
            "313/313 [==============================] - 6s 18ms/step - loss: 0.2464 - accuracy: 0.8979 - val_loss: 0.3029 - val_accuracy: 0.8720\n",
            "Epoch 50/100\n",
            "313/313 [==============================] - 6s 18ms/step - loss: 0.2431 - accuracy: 0.8963 - val_loss: 0.3118 - val_accuracy: 0.8760\n",
            "Epoch 51/100\n",
            "313/313 [==============================] - 6s 18ms/step - loss: 0.2394 - accuracy: 0.8965 - val_loss: 0.3266 - val_accuracy: 0.8660\n",
            "Epoch 52/100\n",
            "313/313 [==============================] - 6s 19ms/step - loss: 0.2388 - accuracy: 0.9010 - val_loss: 0.3168 - val_accuracy: 0.8730\n",
            "Epoch 53/100\n",
            "313/313 [==============================] - 6s 18ms/step - loss: 0.2301 - accuracy: 0.9032 - val_loss: 0.3101 - val_accuracy: 0.8570\n",
            "Epoch 54/100\n",
            "313/313 [==============================] - 6s 19ms/step - loss: 0.2212 - accuracy: 0.9080 - val_loss: 0.3022 - val_accuracy: 0.8760\n",
            "Epoch 55/100\n",
            "313/313 [==============================] - 6s 18ms/step - loss: 0.2205 - accuracy: 0.9074 - val_loss: 0.2812 - val_accuracy: 0.8740\n",
            "Epoch 56/100\n",
            "313/313 [==============================] - 6s 18ms/step - loss: 0.2117 - accuracy: 0.9093 - val_loss: 0.2715 - val_accuracy: 0.8830\n",
            "Epoch 57/100\n",
            "313/313 [==============================] - 6s 19ms/step - loss: 0.2037 - accuracy: 0.9124 - val_loss: 0.2608 - val_accuracy: 0.8900\n",
            "Epoch 58/100\n",
            "313/313 [==============================] - 6s 19ms/step - loss: 0.2004 - accuracy: 0.9150 - val_loss: 0.2516 - val_accuracy: 0.8870\n",
            "Epoch 59/100\n",
            "313/313 [==============================] - 6s 19ms/step - loss: 0.2001 - accuracy: 0.9140 - val_loss: 0.2647 - val_accuracy: 0.8870\n",
            "Epoch 60/100\n",
            "313/313 [==============================] - 6s 19ms/step - loss: 0.1945 - accuracy: 0.9192 - val_loss: 0.2500 - val_accuracy: 0.8880\n",
            "Epoch 61/100\n",
            "313/313 [==============================] - 6s 18ms/step - loss: 0.1870 - accuracy: 0.9220 - val_loss: 0.2461 - val_accuracy: 0.8970\n",
            "Epoch 62/100\n",
            "313/313 [==============================] - 6s 18ms/step - loss: 0.1837 - accuracy: 0.9267 - val_loss: 0.2720 - val_accuracy: 0.8880\n",
            "Epoch 63/100\n",
            "313/313 [==============================] - 6s 18ms/step - loss: 0.1798 - accuracy: 0.9285 - val_loss: 0.2311 - val_accuracy: 0.8950\n",
            "Epoch 64/100\n",
            "313/313 [==============================] - 6s 18ms/step - loss: 0.1831 - accuracy: 0.9276 - val_loss: 0.2377 - val_accuracy: 0.8970\n",
            "Epoch 65/100\n",
            "313/313 [==============================] - 6s 19ms/step - loss: 0.1718 - accuracy: 0.9306 - val_loss: 0.2158 - val_accuracy: 0.9000\n",
            "Epoch 66/100\n",
            "313/313 [==============================] - 6s 18ms/step - loss: 0.1780 - accuracy: 0.9285 - val_loss: 0.2200 - val_accuracy: 0.8970\n",
            "Epoch 67/100\n",
            "313/313 [==============================] - 6s 18ms/step - loss: 0.1622 - accuracy: 0.9321 - val_loss: 0.2194 - val_accuracy: 0.9070\n",
            "Epoch 68/100\n",
            "313/313 [==============================] - 6s 18ms/step - loss: 0.1647 - accuracy: 0.9326 - val_loss: 0.2469 - val_accuracy: 0.9060\n",
            "Epoch 69/100\n",
            "313/313 [==============================] - 6s 18ms/step - loss: 0.1685 - accuracy: 0.9326 - val_loss: 0.2312 - val_accuracy: 0.9070\n",
            "Epoch 70/100\n",
            "313/313 [==============================] - 6s 18ms/step - loss: 0.1648 - accuracy: 0.9346 - val_loss: 0.2271 - val_accuracy: 0.9050\n",
            "Epoch 71/100\n",
            "313/313 [==============================] - 5s 17ms/step - loss: 0.1632 - accuracy: 0.9360 - val_loss: 0.2105 - val_accuracy: 0.9140\n",
            "Epoch 72/100\n",
            "313/313 [==============================] - 6s 18ms/step - loss: 0.1602 - accuracy: 0.9387 - val_loss: 0.2200 - val_accuracy: 0.9100\n",
            "Epoch 73/100\n",
            "313/313 [==============================] - 6s 18ms/step - loss: 0.1549 - accuracy: 0.9396 - val_loss: 0.2124 - val_accuracy: 0.9000\n",
            "Epoch 74/100\n",
            "313/313 [==============================] - 6s 18ms/step - loss: 0.1496 - accuracy: 0.9418 - val_loss: 0.2377 - val_accuracy: 0.9150\n",
            "Epoch 75/100\n",
            "313/313 [==============================] - 6s 18ms/step - loss: 0.1483 - accuracy: 0.9436 - val_loss: 0.2236 - val_accuracy: 0.9180\n",
            "Epoch 76/100\n",
            "313/313 [==============================] - 6s 18ms/step - loss: 0.1478 - accuracy: 0.9414 - val_loss: 0.2491 - val_accuracy: 0.9120\n",
            "Epoch 77/100\n",
            "313/313 [==============================] - 6s 18ms/step - loss: 0.1395 - accuracy: 0.9448 - val_loss: 0.2312 - val_accuracy: 0.9160\n",
            "Epoch 78/100\n",
            "313/313 [==============================] - 5s 18ms/step - loss: 0.1406 - accuracy: 0.9448 - val_loss: 0.2266 - val_accuracy: 0.9180\n",
            "Epoch 79/100\n",
            "313/313 [==============================] - 5s 17ms/step - loss: 0.1360 - accuracy: 0.9483 - val_loss: 0.2117 - val_accuracy: 0.9130\n",
            "Epoch 80/100\n",
            "313/313 [==============================] - 6s 18ms/step - loss: 0.1349 - accuracy: 0.9460 - val_loss: 0.2146 - val_accuracy: 0.9170\n",
            "Epoch 81/100\n",
            "313/313 [==============================] - 6s 18ms/step - loss: 0.1295 - accuracy: 0.9465 - val_loss: 0.1931 - val_accuracy: 0.9230\n",
            "Epoch 82/100\n",
            "313/313 [==============================] - 6s 18ms/step - loss: 0.1295 - accuracy: 0.9486 - val_loss: 0.2101 - val_accuracy: 0.9210\n",
            "Epoch 83/100\n",
            "313/313 [==============================] - 6s 19ms/step - loss: 0.1217 - accuracy: 0.9528 - val_loss: 0.2223 - val_accuracy: 0.9190\n",
            "Epoch 84/100\n",
            "313/313 [==============================] - 6s 18ms/step - loss: 0.1263 - accuracy: 0.9511 - val_loss: 0.1921 - val_accuracy: 0.9260\n",
            "Epoch 85/100\n",
            "313/313 [==============================] - 6s 18ms/step - loss: 0.1222 - accuracy: 0.9509 - val_loss: 0.1783 - val_accuracy: 0.9240\n",
            "Epoch 86/100\n",
            "313/313 [==============================] - 6s 18ms/step - loss: 0.1196 - accuracy: 0.9540 - val_loss: 0.2170 - val_accuracy: 0.9220\n",
            "Epoch 87/100\n",
            "313/313 [==============================] - 6s 19ms/step - loss: 0.1233 - accuracy: 0.9538 - val_loss: 0.2026 - val_accuracy: 0.9270\n",
            "Epoch 88/100\n",
            "313/313 [==============================] - 6s 18ms/step - loss: 0.1153 - accuracy: 0.9546 - val_loss: 0.2020 - val_accuracy: 0.9350\n",
            "Epoch 89/100\n",
            "313/313 [==============================] - 6s 18ms/step - loss: 0.1111 - accuracy: 0.9579 - val_loss: 0.1951 - val_accuracy: 0.9320\n",
            "Epoch 90/100\n",
            "313/313 [==============================] - 6s 19ms/step - loss: 0.1087 - accuracy: 0.9580 - val_loss: 0.1950 - val_accuracy: 0.9290\n",
            "Epoch 91/100\n",
            "313/313 [==============================] - 6s 18ms/step - loss: 0.1064 - accuracy: 0.9597 - val_loss: 0.1841 - val_accuracy: 0.9280\n",
            "Epoch 92/100\n",
            "313/313 [==============================] - 6s 18ms/step - loss: 0.1031 - accuracy: 0.9622 - val_loss: 0.1778 - val_accuracy: 0.9330\n",
            "Epoch 93/100\n",
            "313/313 [==============================] - 6s 18ms/step - loss: 0.1079 - accuracy: 0.9610 - val_loss: 0.1861 - val_accuracy: 0.9380\n",
            "Epoch 94/100\n",
            "313/313 [==============================] - 6s 18ms/step - loss: 0.0996 - accuracy: 0.9640 - val_loss: 0.1931 - val_accuracy: 0.9370\n",
            "Epoch 95/100\n",
            "313/313 [==============================] - 6s 19ms/step - loss: 0.1010 - accuracy: 0.9611 - val_loss: 0.1867 - val_accuracy: 0.9330\n",
            "Epoch 96/100\n",
            "313/313 [==============================] - 6s 18ms/step - loss: 0.0998 - accuracy: 0.9622 - val_loss: 0.1947 - val_accuracy: 0.9370\n",
            "Epoch 97/100\n",
            "313/313 [==============================] - 6s 18ms/step - loss: 0.1001 - accuracy: 0.9627 - val_loss: 0.1972 - val_accuracy: 0.9310\n",
            "Epoch 98/100\n",
            "313/313 [==============================] - 5s 18ms/step - loss: 0.1065 - accuracy: 0.9633 - val_loss: 0.1737 - val_accuracy: 0.9390\n",
            "Epoch 99/100\n",
            "313/313 [==============================] - 6s 18ms/step - loss: 0.0977 - accuracy: 0.9640 - val_loss: 0.1735 - val_accuracy: 0.9450\n",
            "Epoch 100/100\n",
            "313/313 [==============================] - 6s 18ms/step - loss: 0.0946 - accuracy: 0.9637 - val_loss: 0.1991 - val_accuracy: 0.9420\n"
          ]
        }
      ]
    },
    {
      "cell_type": "code",
      "source": [
        "def plot_history(hist, name='accuracy'):\n",
        "  train_hist = hist.history[name]\n",
        "  val_hist = hist.history[f'val_{name}']\n",
        "  plt.plot(train_hist)\n",
        "  plt.plot(val_hist)\n",
        "  plt.title(f'Model {name}')\n",
        "  plt.xlabel('epoch')\n",
        "  plt.ylabel(name)\n",
        "  plt.legend(['Train', 'Validation'])\n",
        "  plt.show()"
      ],
      "metadata": {
        "id": "rqN80P9l602N"
      },
      "execution_count": 65,
      "outputs": []
    },
    {
      "cell_type": "code",
      "source": [
        "plot_history(history, name='loss')"
      ],
      "metadata": {
        "colab": {
          "base_uri": "https://localhost:8080/",
          "height": 295
        },
        "id": "TkeDI6Zu9lo1",
        "outputId": "9d144034-3850-40bf-ed99-b31ce305ecb8"
      },
      "execution_count": 121,
      "outputs": [
        {
          "output_type": "display_data",
          "data": {
            "text/plain": [
              "<Figure size 432x288 with 1 Axes>"
            ],
            "image/png": "[encoded data removed]"
          },
          "metadata": {
            "needs_background": "light"
          }
        }
      ]
    },
    {
      "cell_type": "code",
      "source": [
        "plot_history(history)"
      ],
      "metadata": {
        "colab": {
          "base_uri": "https://localhost:8080/",
          "height": 295
        },
        "id": "x_1cbH6Z_Ews",
        "outputId": "f5ccbf97-6e52-422a-b71c-5084e4fdf2fe"
      },
      "execution_count": 122,
      "outputs": [
        {
          "output_type": "display_data",
          "data": {
            "text/plain": [
              "<Figure size 432x288 with 1 Axes>"
            ],
            "image/png": "[encoded data removed]"
          },
          "metadata": {
            "needs_background": "light"
          }
        }
      ]
    },
    {
      "cell_type": "code",
      "source": [
        "model.save('my_model.h5')"
      ],
      "metadata": {
        "id": "QGnJoYRV9z41"
      },
      "execution_count": 123,
      "outputs": []
    },
    {
      "cell_type": "code",
      "source": [
        "pred_results = model.predict(([inputs_test, questions_test]))"
      ],
      "metadata": {
        "id": "lCD6utba-b_Q"
      },
      "execution_count": 124,
      "outputs": []
    },
    {
      "cell_type": "code",
      "source": [
        "pred_results"
      ],
      "metadata": {
        "colab": {
          "base_uri": "https://localhost:8080/"
        },
        "id": "i6RCWyv__KuC",
        "outputId": "5b60ef6a-d238-4263-a29d-3dd3ba735c1f"
      },
      "execution_count": 125,
      "outputs": [
        {
          "output_type": "execute_result",
          "data": {
            "text/plain": [
              "array([[4.3131968e-19, 4.5871022e-19, 1.0000000e+00, ..., 4.3995085e-19,\n",
              "        5.9640244e-19, 4.0319218e-19],\n",
              "       [1.1469801e-19, 1.2331052e-19, 1.0000000e+00, ..., 1.2403847e-19,\n",
              "        1.4167907e-19, 8.8909431e-20],\n",
              "       [6.3183371e-17, 6.1810906e-17, 8.2239166e-02, ..., 5.6448254e-17,\n",
              "        7.2875790e-17, 5.8277673e-17],\n",
              "       ...,\n",
              "       [2.3353190e-15, 2.2673230e-15, 9.9962640e-01, ..., 2.4193971e-15,\n",
              "        2.7860479e-15, 2.1785842e-15],\n",
              "       [9.3077645e-17, 8.1085657e-17, 4.7909688e-02, ..., 7.1293546e-17,\n",
              "        1.1168402e-16, 9.0567383e-17],\n",
              "       [7.1087865e-16, 7.1553373e-16, 2.5013508e-02, ..., 6.8052559e-16,\n",
              "        8.0782665e-16, 5.9478892e-16]], dtype=float32)"
            ]
          },
          "metadata": {},
          "execution_count": 125
        }
      ]
    },
    {
      "cell_type": "code",
      "source": [
        "pred_results.shape"
      ],
      "metadata": {
        "colab": {
          "base_uri": "https://localhost:8080/"
        },
        "id": "eTd11Ula_Md9",
        "outputId": "d977e97d-9743-46d8-9968-eaafb13e56bd"
      },
      "execution_count": 126,
      "outputs": [
        {
          "output_type": "execute_result",
          "data": {
            "text/plain": [
              "(1000, 38)"
            ]
          },
          "metadata": {},
          "execution_count": 126
        }
      ]
    },
    {
      "cell_type": "code",
      "source": [
        "pred_results[0]"
      ],
      "metadata": {
        "colab": {
          "base_uri": "https://localhost:8080/"
        },
        "id": "e-sdXmYQ_bYs",
        "outputId": "21dc4142-b8d0-4d35-a96d-4a15b30f2f0a"
      },
      "execution_count": 127,
      "outputs": [
        {
          "output_type": "execute_result",
          "data": {
            "text/plain": [
              "array([4.3131968e-19, 4.5871022e-19, 1.0000000e+00, 4.5802479e-19,\n",
              "       3.8425636e-19, 4.1741832e-19, 4.4780400e-19, 4.9329707e-19,\n",
              "       3.3842531e-19, 4.0891710e-19, 3.3913612e-19, 4.1322622e-19,\n",
              "       4.6640693e-19, 4.3901205e-19, 3.4808554e-19, 3.9195475e-19,\n",
              "       4.6778961e-19, 4.5734739e-19, 4.7231175e-19, 3.6350142e-19,\n",
              "       4.8338693e-19, 3.8541387e-08, 4.0051871e-19, 3.9001581e-19,\n",
              "       4.1958951e-19, 5.1339807e-19, 3.1895368e-19, 3.8436193e-19,\n",
              "       3.3340737e-19, 3.7944949e-19, 4.1910959e-19, 4.1190736e-19,\n",
              "       5.4449505e-19, 4.1669921e-19, 3.3714964e-19, 4.3995085e-19,\n",
              "       5.9640244e-19, 4.0319218e-19], dtype=float32)"
            ]
          },
          "metadata": {},
          "execution_count": 127
        }
      ]
    },
    {
      "cell_type": "code",
      "source": [
        "\" \".join(test_data[0][0])"
      ],
      "metadata": {
        "colab": {
          "base_uri": "https://localhost:8080/",
          "height": 35
        },
        "id": "Wjx2KEVP_dc4",
        "outputId": "3e75a3c1-2216-4435-f6fc-8f95fdfe88e2"
      },
      "execution_count": 128,
      "outputs": [
        {
          "output_type": "execute_result",
          "data": {
            "text/plain": [
              "'Mary got the milk there . John moved to the bedroom .'"
            ],
            "application/vnd.google.colaboratory.intrinsic+json": {
              "type": "string"
            }
          },
          "metadata": {},
          "execution_count": 128
        }
      ]
    },
    {
      "cell_type": "code",
      "source": [
        "\" \".join(test_data[0][1])"
      ],
      "metadata": {
        "colab": {
          "base_uri": "https://localhost:8080/",
          "height": 35
        },
        "id": "25IWH4ym_iyc",
        "outputId": "934c70df-ddb7-43f5-dcef-1d5c21029322"
      },
      "execution_count": 129,
      "outputs": [
        {
          "output_type": "execute_result",
          "data": {
            "text/plain": [
              "'Is John in the kitchen ?'"
            ],
            "application/vnd.google.colaboratory.intrinsic+json": {
              "type": "string"
            }
          },
          "metadata": {},
          "execution_count": 129
        }
      ]
    },
    {
      "cell_type": "code",
      "source": [
        "test_data[0][2]"
      ],
      "metadata": {
        "colab": {
          "base_uri": "https://localhost:8080/",
          "height": 35
        },
        "id": "Z2nhSAL2_380",
        "outputId": "f7f26516-4e55-4a68-f830-681274b8e667"
      },
      "execution_count": 130,
      "outputs": [
        {
          "output_type": "execute_result",
          "data": {
            "text/plain": [
              "'no'"
            ],
            "application/vnd.google.colaboratory.intrinsic+json": {
              "type": "string"
            }
          },
          "metadata": {},
          "execution_count": 130
        }
      ]
    },
    {
      "cell_type": "code",
      "source": [
        "val_max = np.argmax(pred_results[0])"
      ],
      "metadata": {
        "id": "ovVZOKUy_rwp"
      },
      "execution_count": 131,
      "outputs": []
    },
    {
      "cell_type": "code",
      "source": [
        "val_max"
      ],
      "metadata": {
        "colab": {
          "base_uri": "https://localhost:8080/"
        },
        "id": "V8hVNNXW_zky",
        "outputId": "b10613a8-0480-4e71-d594-a2ce79fc833b"
      },
      "execution_count": 132,
      "outputs": [
        {
          "output_type": "execute_result",
          "data": {
            "text/plain": [
              "2"
            ]
          },
          "metadata": {},
          "execution_count": 132
        }
      ]
    },
    {
      "cell_type": "code",
      "source": [
        "print('No: ', tokenizer.word_index['no'])\n",
        "print('Yes: ', tokenizer.word_index['yes'])"
      ],
      "metadata": {
        "colab": {
          "base_uri": "https://localhost:8080/"
        },
        "id": "zE2jbDWGIXGO",
        "outputId": "96af5f6c-9586-4726-c7fb-a30e898c1dcd"
      },
      "execution_count": 135,
      "outputs": [
        {
          "output_type": "stream",
          "name": "stdout",
          "text": [
            "No:  2\n",
            "Yes:  21\n"
          ]
        }
      ]
    },
    {
      "cell_type": "code",
      "source": [
        "def show_results(num):\n",
        "  prob = pred_results[0][num]\n",
        "  res = 'No' if num == 2 else 'Yes'\n",
        "  return res, prob, num"
      ],
      "metadata": {
        "id": "efTp1jfd_0qO"
      },
      "execution_count": 136,
      "outputs": []
    },
    {
      "cell_type": "code",
      "source": [
        "show_results(val_max)"
      ],
      "metadata": {
        "colab": {
          "base_uri": "https://localhost:8080/"
        },
        "id": "BUBXNvb1AazU",
        "outputId": "101f03d8-29c8-4c19-c4d5-a1c342c72eff"
      },
      "execution_count": 137,
      "outputs": [
        {
          "output_type": "execute_result",
          "data": {
            "text/plain": [
              "('No', 1.0, 2)"
            ]
          },
          "metadata": {},
          "execution_count": 137
        }
      ]
    },
    {
      "cell_type": "markdown",
      "source": [
        "####My Story"
      ],
      "metadata": {
        "id": "eNq9-xO-A8pW"
      }
    },
    {
      "cell_type": "code",
      "source": [
        "my_story = 'John left the garden . Sandra picked up milk in the kitchen . '\n",
        "my_question = 'Is John in the garden ?' \n",
        "answer='yes'"
      ],
      "metadata": {
        "id": "EzWAa2FhAvaK"
      },
      "execution_count": 150,
      "outputs": []
    },
    {
      "cell_type": "code",
      "source": [
        "my_data = [(my_story.split(), my_question.split(), answer)]"
      ],
      "metadata": {
        "id": "cDztrpXRBYKh"
      },
      "execution_count": 151,
      "outputs": []
    },
    {
      "cell_type": "code",
      "source": [
        "my_story, my_question, my_answer = vectorize_texts(my_data)"
      ],
      "metadata": {
        "id": "DJMcIySWB7BI"
      },
      "execution_count": 140,
      "outputs": []
    },
    {
      "cell_type": "code",
      "source": [
        "my_answer"
      ],
      "metadata": {
        "colab": {
          "base_uri": "https://localhost:8080/"
        },
        "id": "MLYwkHfNCFGm",
        "outputId": "3c3b3153-ebdf-4a0d-8af1-4685cbed6046"
      },
      "execution_count": 141,
      "outputs": [
        {
          "output_type": "execute_result",
          "data": {
            "text/plain": [
              "array([[0., 0., 0., 0., 0., 0., 0., 0., 0., 0., 0., 0., 0., 0., 0., 0.,\n",
              "        0., 0., 0., 0., 0., 1., 0., 0., 0., 0., 0., 0., 0., 0., 0., 0.,\n",
              "        0., 0., 0., 0., 0., 0.]])"
            ]
          },
          "metadata": {},
          "execution_count": 141
        }
      ]
    },
    {
      "cell_type": "code",
      "source": [
        "pred_results = model.predict(([my_story, my_question]))"
      ],
      "metadata": {
        "id": "Ni6vki03Cd2c"
      },
      "execution_count": 142,
      "outputs": []
    },
    {
      "cell_type": "code",
      "source": [
        "val_max = np.argmax(pred_results[0])"
      ],
      "metadata": {
        "id": "mCwcCMbxCqWt"
      },
      "execution_count": 143,
      "outputs": []
    },
    {
      "cell_type": "code",
      "source": [
        "show_results(val_max)"
      ],
      "metadata": {
        "colab": {
          "base_uri": "https://localhost:8080/"
        },
        "id": "gYUnbCsFCt69",
        "outputId": "1912516f-ad50-49e8-a52b-45c1db1c9e3d"
      },
      "execution_count": 144,
      "outputs": [
        {
          "output_type": "execute_result",
          "data": {
            "text/plain": [
              "('No', 0.9999037, 2)"
            ]
          },
          "metadata": {},
          "execution_count": 144
        }
      ]
    },
    {
      "cell_type": "code",
      "source": [
        "history = model.fit([inputs_train, questions_train],\n",
        "                    answers_train,\n",
        "                    batch_size=16, \n",
        "                    epochs=100,\n",
        "                    validation_data=([inputs_test, questions_test], answers_test))"
      ],
      "metadata": {
        "colab": {
          "base_uri": "https://localhost:8080/"
        },
        "id": "4g7YnNkFCu88",
        "outputId": "bb2058db-c9ac-4ae5-d7cf-842f9a00b046"
      },
      "execution_count": 145,
      "outputs": [
        {
          "output_type": "stream",
          "name": "stdout",
          "text": [
            "Epoch 1/100\n",
            "625/625 [==============================] - 8s 11ms/step - loss: 0.0973 - accuracy: 0.9648 - val_loss: 0.1781 - val_accuracy: 0.9430\n",
            "Epoch 2/100\n",
            "625/625 [==============================] - 7s 12ms/step - loss: 0.1009 - accuracy: 0.9643 - val_loss: 0.1786 - val_accuracy: 0.9450\n",
            "Epoch 3/100\n",
            "625/625 [==============================] - 7s 11ms/step - loss: 0.1009 - accuracy: 0.9645 - val_loss: 0.1681 - val_accuracy: 0.9440\n",
            "Epoch 4/100\n",
            "625/625 [==============================] - 7s 11ms/step - loss: 0.0974 - accuracy: 0.9652 - val_loss: 0.1612 - val_accuracy: 0.9450\n",
            "Epoch 5/100\n",
            "625/625 [==============================] - 7s 11ms/step - loss: 0.0948 - accuracy: 0.9667 - val_loss: 0.1865 - val_accuracy: 0.9410\n",
            "Epoch 6/100\n",
            "625/625 [==============================] - 7s 11ms/step - loss: 0.0973 - accuracy: 0.9663 - val_loss: 0.1770 - val_accuracy: 0.9450\n",
            "Epoch 7/100\n",
            "625/625 [==============================] - 7s 11ms/step - loss: 0.0989 - accuracy: 0.9656 - val_loss: 0.1640 - val_accuracy: 0.9410\n",
            "Epoch 8/100\n",
            "625/625 [==============================] - 7s 11ms/step - loss: 0.0975 - accuracy: 0.9656 - val_loss: 0.1567 - val_accuracy: 0.9430\n",
            "Epoch 9/100\n",
            "625/625 [==============================] - 7s 12ms/step - loss: 0.0939 - accuracy: 0.9663 - val_loss: 0.1561 - val_accuracy: 0.9400\n",
            "Epoch 10/100\n",
            "625/625 [==============================] - 7s 11ms/step - loss: 0.1013 - accuracy: 0.9667 - val_loss: 0.1726 - val_accuracy: 0.9480\n",
            "Epoch 11/100\n",
            "625/625 [==============================] - 7s 11ms/step - loss: 0.0892 - accuracy: 0.9674 - val_loss: 0.1693 - val_accuracy: 0.9470\n",
            "Epoch 12/100\n",
            "625/625 [==============================] - 7s 11ms/step - loss: 0.1013 - accuracy: 0.9648 - val_loss: 0.1817 - val_accuracy: 0.9480\n",
            "Epoch 13/100\n",
            "625/625 [==============================] - 7s 12ms/step - loss: 0.0870 - accuracy: 0.9722 - val_loss: 0.1924 - val_accuracy: 0.9450\n",
            "Epoch 14/100\n",
            "625/625 [==============================] - 7s 12ms/step - loss: 0.1033 - accuracy: 0.9671 - val_loss: 0.1446 - val_accuracy: 0.9480\n",
            "Epoch 15/100\n",
            "625/625 [==============================] - 7s 12ms/step - loss: 0.0823 - accuracy: 0.9711 - val_loss: 0.1851 - val_accuracy: 0.9450\n",
            "Epoch 16/100\n",
            "625/625 [==============================] - 7s 12ms/step - loss: 0.1005 - accuracy: 0.9661 - val_loss: 0.1538 - val_accuracy: 0.9440\n",
            "Epoch 17/100\n",
            "625/625 [==============================] - 7s 12ms/step - loss: 0.0919 - accuracy: 0.9676 - val_loss: 0.1645 - val_accuracy: 0.9480\n",
            "Epoch 18/100\n",
            "625/625 [==============================] - 7s 12ms/step - loss: 0.0898 - accuracy: 0.9696 - val_loss: 0.1742 - val_accuracy: 0.9530\n",
            "Epoch 19/100\n",
            "625/625 [==============================] - 7s 12ms/step - loss: 0.0893 - accuracy: 0.9706 - val_loss: 0.1477 - val_accuracy: 0.9480\n",
            "Epoch 20/100\n",
            "625/625 [==============================] - 8s 12ms/step - loss: 0.0873 - accuracy: 0.9683 - val_loss: 0.1631 - val_accuracy: 0.9470\n",
            "Epoch 21/100\n",
            "625/625 [==============================] - 8s 12ms/step - loss: 0.0861 - accuracy: 0.9719 - val_loss: 0.1683 - val_accuracy: 0.9470\n",
            "Epoch 22/100\n",
            "625/625 [==============================] - 8s 12ms/step - loss: 0.0931 - accuracy: 0.9719 - val_loss: 0.1645 - val_accuracy: 0.9470\n",
            "Epoch 23/100\n",
            "625/625 [==============================] - 7s 12ms/step - loss: 0.0814 - accuracy: 0.9714 - val_loss: 0.1697 - val_accuracy: 0.9500\n",
            "Epoch 24/100\n",
            "625/625 [==============================] - 7s 11ms/step - loss: 0.0874 - accuracy: 0.9708 - val_loss: 0.1457 - val_accuracy: 0.9540\n",
            "Epoch 25/100\n",
            "625/625 [==============================] - 7s 12ms/step - loss: 0.0884 - accuracy: 0.9720 - val_loss: 0.1803 - val_accuracy: 0.9490\n",
            "Epoch 26/100\n",
            "625/625 [==============================] - 7s 12ms/step - loss: 0.0904 - accuracy: 0.9703 - val_loss: 0.1564 - val_accuracy: 0.9580\n",
            "Epoch 27/100\n",
            "625/625 [==============================] - 7s 12ms/step - loss: 0.0923 - accuracy: 0.9706 - val_loss: 0.1959 - val_accuracy: 0.9540\n",
            "Epoch 28/100\n",
            "625/625 [==============================] - 7s 11ms/step - loss: 0.0853 - accuracy: 0.9722 - val_loss: 0.1648 - val_accuracy: 0.9510\n",
            "Epoch 29/100\n",
            "625/625 [==============================] - 7s 11ms/step - loss: 0.0821 - accuracy: 0.9728 - val_loss: 0.2134 - val_accuracy: 0.9450\n",
            "Epoch 30/100\n",
            "625/625 [==============================] - 7s 12ms/step - loss: 0.0894 - accuracy: 0.9706 - val_loss: 0.1818 - val_accuracy: 0.9490\n",
            "Epoch 31/100\n",
            "625/625 [==============================] - 7s 12ms/step - loss: 0.0799 - accuracy: 0.9749 - val_loss: 0.1939 - val_accuracy: 0.9510\n",
            "Epoch 32/100\n",
            "625/625 [==============================] - 7s 12ms/step - loss: 0.0859 - accuracy: 0.9711 - val_loss: 0.1891 - val_accuracy: 0.9490\n",
            "Epoch 33/100\n",
            "625/625 [==============================] - 7s 12ms/step - loss: 0.0830 - accuracy: 0.9734 - val_loss: 0.1849 - val_accuracy: 0.9500\n",
            "Epoch 34/100\n",
            "625/625 [==============================] - 7s 12ms/step - loss: 0.0788 - accuracy: 0.9759 - val_loss: 0.1812 - val_accuracy: 0.9480\n",
            "Epoch 35/100\n",
            "625/625 [==============================] - 7s 12ms/step - loss: 0.0884 - accuracy: 0.9730 - val_loss: 0.1534 - val_accuracy: 0.9550\n",
            "Epoch 36/100\n",
            "625/625 [==============================] - 7s 12ms/step - loss: 0.0801 - accuracy: 0.9728 - val_loss: 0.1816 - val_accuracy: 0.9530\n",
            "Epoch 37/100\n",
            "625/625 [==============================] - 7s 11ms/step - loss: 0.0805 - accuracy: 0.9728 - val_loss: 0.1726 - val_accuracy: 0.9510\n",
            "Epoch 38/100\n",
            "625/625 [==============================] - 7s 11ms/step - loss: 0.0823 - accuracy: 0.9739 - val_loss: 0.1766 - val_accuracy: 0.9600\n",
            "Epoch 39/100\n",
            "625/625 [==============================] - 7s 11ms/step - loss: 0.0764 - accuracy: 0.9762 - val_loss: 0.1614 - val_accuracy: 0.9490\n",
            "Epoch 40/100\n",
            "625/625 [==============================] - 7s 12ms/step - loss: 0.0805 - accuracy: 0.9770 - val_loss: 0.1847 - val_accuracy: 0.9450\n",
            "Epoch 41/100\n",
            "625/625 [==============================] - 7s 12ms/step - loss: 0.0799 - accuracy: 0.9735 - val_loss: 0.1635 - val_accuracy: 0.9540\n",
            "Epoch 42/100\n",
            "625/625 [==============================] - 7s 12ms/step - loss: 0.0848 - accuracy: 0.9751 - val_loss: 0.1801 - val_accuracy: 0.9500\n",
            "Epoch 43/100\n",
            "625/625 [==============================] - 7s 12ms/step - loss: 0.0824 - accuracy: 0.9749 - val_loss: 0.2088 - val_accuracy: 0.9460\n",
            "Epoch 44/100\n",
            "625/625 [==============================] - 7s 12ms/step - loss: 0.0796 - accuracy: 0.9759 - val_loss: 0.1797 - val_accuracy: 0.9480\n",
            "Epoch 45/100\n",
            "625/625 [==============================] - 7s 12ms/step - loss: 0.0770 - accuracy: 0.9750 - val_loss: 0.1744 - val_accuracy: 0.9550\n",
            "Epoch 46/100\n",
            "625/625 [==============================] - 7s 12ms/step - loss: 0.0823 - accuracy: 0.9755 - val_loss: 0.1757 - val_accuracy: 0.9560\n",
            "Epoch 47/100\n",
            "625/625 [==============================] - 7s 12ms/step - loss: 0.0785 - accuracy: 0.9752 - val_loss: 0.1798 - val_accuracy: 0.9510\n",
            "Epoch 48/100\n",
            "625/625 [==============================] - 7s 12ms/step - loss: 0.0815 - accuracy: 0.9748 - val_loss: 0.1890 - val_accuracy: 0.9550\n",
            "Epoch 49/100\n",
            "625/625 [==============================] - 7s 12ms/step - loss: 0.0763 - accuracy: 0.9785 - val_loss: 0.1767 - val_accuracy: 0.9520\n",
            "Epoch 50/100\n",
            "625/625 [==============================] - 7s 12ms/step - loss: 0.0760 - accuracy: 0.9765 - val_loss: 0.2010 - val_accuracy: 0.9520\n",
            "Epoch 51/100\n",
            "625/625 [==============================] - 8s 12ms/step - loss: 0.0689 - accuracy: 0.9791 - val_loss: 0.1733 - val_accuracy: 0.9520\n",
            "Epoch 52/100\n",
            "625/625 [==============================] - 7s 12ms/step - loss: 0.0778 - accuracy: 0.9789 - val_loss: 0.1853 - val_accuracy: 0.9540\n",
            "Epoch 53/100\n",
            "625/625 [==============================] - 8s 12ms/step - loss: 0.0744 - accuracy: 0.9785 - val_loss: 0.1710 - val_accuracy: 0.9590\n",
            "Epoch 54/100\n",
            "625/625 [==============================] - 8s 13ms/step - loss: 0.0705 - accuracy: 0.9783 - val_loss: 0.2118 - val_accuracy: 0.9460\n",
            "Epoch 55/100\n",
            "625/625 [==============================] - 8s 12ms/step - loss: 0.0668 - accuracy: 0.9790 - val_loss: 0.1932 - val_accuracy: 0.9570\n",
            "Epoch 56/100\n",
            "625/625 [==============================] - 8s 12ms/step - loss: 0.0711 - accuracy: 0.9798 - val_loss: 0.1936 - val_accuracy: 0.9520\n",
            "Epoch 57/100\n",
            "625/625 [==============================] - 8s 12ms/step - loss: 0.0713 - accuracy: 0.9792 - val_loss: 0.1963 - val_accuracy: 0.9510\n",
            "Epoch 58/100\n",
            "625/625 [==============================] - 8s 13ms/step - loss: 0.0730 - accuracy: 0.9791 - val_loss: 0.2006 - val_accuracy: 0.9560\n",
            "Epoch 59/100\n",
            "625/625 [==============================] - 8s 13ms/step - loss: 0.0682 - accuracy: 0.9805 - val_loss: 0.1952 - val_accuracy: 0.9540\n",
            "Epoch 60/100\n",
            "625/625 [==============================] - 8s 13ms/step - loss: 0.0717 - accuracy: 0.9790 - val_loss: 0.2160 - val_accuracy: 0.9530\n",
            "Epoch 61/100\n",
            "625/625 [==============================] - 9s 14ms/step - loss: 0.0782 - accuracy: 0.9778 - val_loss: 0.2253 - val_accuracy: 0.9460\n",
            "Epoch 62/100\n",
            "625/625 [==============================] - 8s 13ms/step - loss: 0.0610 - accuracy: 0.9813 - val_loss: 0.1431 - val_accuracy: 0.9600\n",
            "Epoch 63/100\n",
            "625/625 [==============================] - 8s 13ms/step - loss: 0.0654 - accuracy: 0.9800 - val_loss: 0.2136 - val_accuracy: 0.9560\n",
            "Epoch 64/100\n",
            "625/625 [==============================] - 8s 13ms/step - loss: 0.0583 - accuracy: 0.9839 - val_loss: 0.1971 - val_accuracy: 0.9510\n",
            "Epoch 65/100\n",
            "625/625 [==============================] - 8s 13ms/step - loss: 0.0624 - accuracy: 0.9798 - val_loss: 0.2050 - val_accuracy: 0.9530\n",
            "Epoch 66/100\n",
            "625/625 [==============================] - 8s 13ms/step - loss: 0.0606 - accuracy: 0.9818 - val_loss: 0.2113 - val_accuracy: 0.9530\n",
            "Epoch 67/100\n",
            "625/625 [==============================] - 8s 13ms/step - loss: 0.0594 - accuracy: 0.9818 - val_loss: 0.1669 - val_accuracy: 0.9620\n",
            "Epoch 68/100\n",
            "625/625 [==============================] - 8s 12ms/step - loss: 0.0662 - accuracy: 0.9814 - val_loss: 0.2273 - val_accuracy: 0.9550\n",
            "Epoch 69/100\n",
            "625/625 [==============================] - 8s 13ms/step - loss: 0.0621 - accuracy: 0.9792 - val_loss: 0.2055 - val_accuracy: 0.9500\n",
            "Epoch 70/100\n",
            "625/625 [==============================] - 7s 12ms/step - loss: 0.0627 - accuracy: 0.9809 - val_loss: 0.1817 - val_accuracy: 0.9530\n",
            "Epoch 71/100\n",
            "625/625 [==============================] - 8s 12ms/step - loss: 0.0682 - accuracy: 0.9807 - val_loss: 0.2129 - val_accuracy: 0.9570\n",
            "Epoch 72/100\n",
            "625/625 [==============================] - 8s 12ms/step - loss: 0.0697 - accuracy: 0.9817 - val_loss: 0.1717 - val_accuracy: 0.9610\n",
            "Epoch 73/100\n",
            "625/625 [==============================] - 7s 12ms/step - loss: 0.0718 - accuracy: 0.9798 - val_loss: 0.1850 - val_accuracy: 0.9520\n",
            "Epoch 74/100\n",
            "625/625 [==============================] - 8s 13ms/step - loss: 0.0588 - accuracy: 0.9827 - val_loss: 0.1469 - val_accuracy: 0.9580\n",
            "Epoch 75/100\n",
            "625/625 [==============================] - 8s 13ms/step - loss: 0.0701 - accuracy: 0.9817 - val_loss: 0.1763 - val_accuracy: 0.9580\n",
            "Epoch 76/100\n",
            "625/625 [==============================] - 8s 12ms/step - loss: 0.0656 - accuracy: 0.9813 - val_loss: 0.1652 - val_accuracy: 0.9570\n",
            "Epoch 77/100\n",
            "625/625 [==============================] - 8s 13ms/step - loss: 0.0566 - accuracy: 0.9835 - val_loss: 0.1740 - val_accuracy: 0.9560\n",
            "Epoch 78/100\n",
            "625/625 [==============================] - 8s 13ms/step - loss: 0.0634 - accuracy: 0.9818 - val_loss: 0.2061 - val_accuracy: 0.9600\n",
            "Epoch 79/100\n",
            "625/625 [==============================] - 8s 12ms/step - loss: 0.0646 - accuracy: 0.9838 - val_loss: 0.1398 - val_accuracy: 0.9650\n",
            "Epoch 80/100\n",
            "625/625 [==============================] - 8s 12ms/step - loss: 0.0682 - accuracy: 0.9807 - val_loss: 0.1927 - val_accuracy: 0.9550\n",
            "Epoch 81/100\n",
            "625/625 [==============================] - 7s 12ms/step - loss: 0.0702 - accuracy: 0.9832 - val_loss: 0.1540 - val_accuracy: 0.9550\n",
            "Epoch 82/100\n",
            "625/625 [==============================] - 8s 12ms/step - loss: 0.0676 - accuracy: 0.9813 - val_loss: 0.1803 - val_accuracy: 0.9580\n",
            "Epoch 83/100\n",
            "625/625 [==============================] - 8s 12ms/step - loss: 0.0610 - accuracy: 0.9824 - val_loss: 0.1909 - val_accuracy: 0.9560\n",
            "Epoch 84/100\n",
            "625/625 [==============================] - 8s 12ms/step - loss: 0.0604 - accuracy: 0.9835 - val_loss: 0.1343 - val_accuracy: 0.9640\n",
            "Epoch 85/100\n",
            "625/625 [==============================] - 8s 13ms/step - loss: 0.0637 - accuracy: 0.9824 - val_loss: 0.1749 - val_accuracy: 0.9610\n",
            "Epoch 86/100\n",
            "625/625 [==============================] - 8s 12ms/step - loss: 0.0575 - accuracy: 0.9847 - val_loss: 0.1779 - val_accuracy: 0.9580\n",
            "Epoch 87/100\n",
            "625/625 [==============================] - 8s 12ms/step - loss: 0.0540 - accuracy: 0.9838 - val_loss: 0.2065 - val_accuracy: 0.9630\n",
            "Epoch 88/100\n",
            "625/625 [==============================] - 8s 13ms/step - loss: 0.0662 - accuracy: 0.9836 - val_loss: 0.1963 - val_accuracy: 0.9590\n",
            "Epoch 89/100\n",
            "625/625 [==============================] - 8s 13ms/step - loss: 0.0637 - accuracy: 0.9820 - val_loss: 0.1690 - val_accuracy: 0.9600\n",
            "Epoch 90/100\n",
            "625/625 [==============================] - 8s 13ms/step - loss: 0.0576 - accuracy: 0.9838 - val_loss: 0.1748 - val_accuracy: 0.9580\n",
            "Epoch 91/100\n",
            "625/625 [==============================] - 8s 13ms/step - loss: 0.0600 - accuracy: 0.9838 - val_loss: 0.1944 - val_accuracy: 0.9610\n",
            "Epoch 92/100\n",
            "625/625 [==============================] - 8s 12ms/step - loss: 0.0636 - accuracy: 0.9829 - val_loss: 0.1949 - val_accuracy: 0.9630\n",
            "Epoch 93/100\n",
            "625/625 [==============================] - 8s 12ms/step - loss: 0.0587 - accuracy: 0.9824 - val_loss: 0.1610 - val_accuracy: 0.9600\n",
            "Epoch 94/100\n",
            "625/625 [==============================] - 8s 12ms/step - loss: 0.0561 - accuracy: 0.9832 - val_loss: 0.1797 - val_accuracy: 0.9620\n",
            "Epoch 95/100\n",
            "625/625 [==============================] - 8s 12ms/step - loss: 0.0689 - accuracy: 0.9818 - val_loss: 0.2015 - val_accuracy: 0.9570\n",
            "Epoch 96/100\n",
            "625/625 [==============================] - 7s 12ms/step - loss: 0.0545 - accuracy: 0.9850 - val_loss: 0.1601 - val_accuracy: 0.9610\n",
            "Epoch 97/100\n",
            "625/625 [==============================] - 8s 12ms/step - loss: 0.0601 - accuracy: 0.9830 - val_loss: 0.1818 - val_accuracy: 0.9570\n",
            "Epoch 98/100\n",
            "625/625 [==============================] - 7s 12ms/step - loss: 0.0610 - accuracy: 0.9829 - val_loss: 0.1427 - val_accuracy: 0.9670\n",
            "Epoch 99/100\n",
            "625/625 [==============================] - 8s 12ms/step - loss: 0.0542 - accuracy: 0.9859 - val_loss: 0.1975 - val_accuracy: 0.9540\n",
            "Epoch 100/100\n",
            "625/625 [==============================] - 7s 12ms/step - loss: 0.0580 - accuracy: 0.9858 - val_loss: 0.1669 - val_accuracy: 0.9620\n"
          ]
        }
      ]
    },
    {
      "cell_type": "code",
      "source": [
        "plot_history(history, name='loss')"
      ],
      "metadata": {
        "colab": {
          "base_uri": "https://localhost:8080/",
          "height": 295
        },
        "id": "Hv92spJMIoAr",
        "outputId": "d8416ba3-6cc2-4183-d40e-c7ac88e34ad5"
      },
      "execution_count": 146,
      "outputs": [
        {
          "output_type": "display_data",
          "data": {
            "text/plain": [
              "<Figure size 432x288 with 1 Axes>"
            ],
            "image/png": "[encoded data removed]"
          },
          "metadata": {
            "needs_background": "light"
          }
        }
      ]
    },
    {
      "cell_type": "code",
      "source": [
        "plot_history(history)"
      ],
      "metadata": {
        "colab": {
          "base_uri": "https://localhost:8080/",
          "height": 295
        },
        "outputId": "913969b0-1f5a-4156-f29e-e081139812a5",
        "id": "oVyT4v4gLV8d"
      },
      "execution_count": 148,
      "outputs": [
        {
          "output_type": "display_data",
          "data": {
            "text/plain": [
              "<Figure size 432x288 with 1 Axes>"
            ],
            "image/png": "[encoded data removed]"
          },
          "metadata": {
            "needs_background": "light"
          }
        }
      ]
    },
    {
      "cell_type": "code",
      "source": [
        "my_story = 'John left the garden . Sandra picked up milk in the kitchen . '\n",
        "my_question = 'Is John in the garden ?' \n",
        "answer='no'"
      ],
      "metadata": {
        "id": "AxO_wnBJL3w-"
      },
      "execution_count": 184,
      "outputs": []
    },
    {
      "cell_type": "code",
      "source": [
        "my_data = [(my_story.split(), my_question.split(), answer)]"
      ],
      "metadata": {
        "id": "M4f0alQhMFGJ"
      },
      "execution_count": 185,
      "outputs": []
    },
    {
      "cell_type": "code",
      "source": [
        "my_story, my_question, my_answer = vectorize_texts(my_data)"
      ],
      "metadata": {
        "id": "a2nHdHBBMFBp"
      },
      "execution_count": 186,
      "outputs": []
    },
    {
      "cell_type": "code",
      "source": [
        "pred_results = model.predict(([my_story, my_question]))"
      ],
      "metadata": {
        "id": "aFFYlBXYME_G"
      },
      "execution_count": 187,
      "outputs": []
    },
    {
      "cell_type": "code",
      "source": [
        "val_max = np.argmax(pred_results[0])\n",
        "show_results(val_max)"
      ],
      "metadata": {
        "colab": {
          "base_uri": "https://localhost:8080/"
        },
        "id": "Z0k_jf6yMJzv",
        "outputId": "e86e3b87-ce37-40fb-c4e6-ba94cce0b1bb"
      },
      "execution_count": 188,
      "outputs": [
        {
          "output_type": "execute_result",
          "data": {
            "text/plain": [
              "('No', 0.99999905, 2)"
            ]
          },
          "metadata": {},
          "execution_count": 188
        }
      ]
    },
    {
      "cell_type": "code",
      "source": [
        "story_2 ='Daniel grabbed the apple . John mary Sandra in office . '\n",
        "question_2 = 'Sandra mary to John ? '\n",
        "answer_2 = 'yes'"
      ],
      "metadata": {
        "id": "N33EwYktMK1H"
      },
      "execution_count": 209,
      "outputs": []
    },
    {
      "cell_type": "code",
      "source": [
        "my_data_2 = [(story_2.split(), question_2.split(), answer_2)]"
      ],
      "metadata": {
        "id": "t37yNbWEMOCo"
      },
      "execution_count": 210,
      "outputs": []
    },
    {
      "cell_type": "code",
      "source": [
        "my_story, my_question, my_answer = vectorize_texts(my_data_2)"
      ],
      "metadata": {
        "id": "6cVbFAL3NFxN"
      },
      "execution_count": 211,
      "outputs": []
    },
    {
      "cell_type": "code",
      "source": [
        "pred_results = model.predict(([my_story, my_question]))"
      ],
      "metadata": {
        "id": "KJTc7uTSNI8k"
      },
      "execution_count": 212,
      "outputs": []
    },
    {
      "cell_type": "code",
      "source": [
        "val_max = np.argmax(pred_results[0])\n",
        "show_results(val_max)"
      ],
      "metadata": {
        "colab": {
          "base_uri": "https://localhost:8080/"
        },
        "id": "cvi9nPScNcs-",
        "outputId": "e79603fe-5772-4c29-c773-529a59407a8f"
      },
      "execution_count": 213,
      "outputs": [
        {
          "output_type": "execute_result",
          "data": {
            "text/plain": [
              "('Yes', 0.8889464, 21)"
            ]
          },
          "metadata": {},
          "execution_count": 213
        }
      ]
    }
  ]
}