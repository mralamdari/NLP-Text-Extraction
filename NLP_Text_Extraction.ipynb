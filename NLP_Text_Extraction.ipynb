{
  "nbformat": 4,
  "nbformat_minor": 0,
  "metadata": {
    "colab": {
      "name": "NLP-Text-Extraction.ipynb",
      "provenance": [],
      "collapsed_sections": [
        "XCkq1-1OpmQr",
        "ZkAOY4OwMNvF"
      ],
      "authorship_tag": "ABX9TyO0dmm5+EF8AduXkuUk7FzB",
      "include_colab_link": true
    },
    "kernelspec": {
      "name": "python3",
      "display_name": "Python 3"
    },
    "language_info": {
      "name": "python"
    }
  },
  "cells": [
    {
      "cell_type": "markdown",
      "metadata": {
        "id": "view-in-github",
        "colab_type": "text"
      },
      "source": [
        "<a href=\"https://colab.research.google.com/github/mralamdari/NLP-Text-Processing/blob/main/NLP_Text_Extraction.ipynb\" target=\"_parent\"><img src=\"https://colab.research.google.com/assets/colab-badge.svg\" alt=\"Open In Colab\"/></a>"
      ]
    },
    {
      "cell_type": "code",
      "execution_count": 1,
      "metadata": {
        "id": "pUcGOITTgfbb"
      },
      "outputs": [],
      "source": [
        "import re\n",
        "import os\n",
        "import bs4\n",
        "import nltk\n",
        "import datetime\n",
        "import numpy as np\n",
        "from urllib.request import urlopen"
      ]
    },
    {
      "cell_type": "markdown",
      "source": [
        "#HTML Parsing\n",
        "###Extracting text from HTML\n"
      ],
      "metadata": {
        "id": "XCkq1-1OpmQr"
      }
    },
    {
      "cell_type": "markdown",
      "source": [
        "## WebScrapping using BeautifulSoup"
      ],
      "metadata": {
        "id": "-wMC8NQVIonv"
      }
    },
    {
      "cell_type": "code",
      "source": [
        "my_url = 'https://stackoverflow.com/questions/40050397/deep-learning-nan-loss-reasons'"
      ],
      "metadata": {
        "id": "QKzVxSm2gq50"
      },
      "execution_count": 2,
      "outputs": []
    },
    {
      "cell_type": "code",
      "source": [
        "html = urlopen(my_url).read()"
      ],
      "metadata": {
        "id": "USTbZJcGlc4-"
      },
      "execution_count": 3,
      "outputs": []
    },
    {
      "cell_type": "code",
      "source": [
        "soupfield = bs4.BeautifulSoup(html, 'html.parser')"
      ],
      "metadata": {
        "id": "sCMjUjXXou77"
      },
      "execution_count": 4,
      "outputs": []
    },
    {
      "cell_type": "code",
      "source": [
        "print(soupfield.prettify()[:2000])"
      ],
      "metadata": {
        "colab": {
          "base_uri": "https://localhost:8080/"
        },
        "id": "IYyIiZ8eSdZ6",
        "outputId": "12f1a7c4-0d02-4421-e950-1ed607c4d38b"
      },
      "execution_count": 5,
      "outputs": [
        {
          "output_type": "stream",
          "name": "stdout",
          "text": [
            "<!DOCTYPE html>\n",
            "<html class=\"html__responsive \" itemscope=\"\" itemtype=\"https://schema.org/QAPage\" lang=\"en\">\n",
            " <head>\n",
            "  <title>\n",
            "   python - Deep-Learning Nan loss reasons - Stack Overflow\n",
            "  </title>\n",
            "  <link href=\"https://cdn.sstatic.net/Sites/stackoverflow/Img/favicon.ico?v=ec617d715196\" rel=\"shortcut icon\"/>\n",
            "  <link href=\"https://cdn.sstatic.net/Sites/stackoverflow/Img/apple-touch-icon.png?v=c78bd457575a\" rel=\"apple-touch-icon\"/>\n",
            "  <link href=\"https://cdn.sstatic.net/Sites/stackoverflow/Img/apple-touch-icon.png?v=c78bd457575a\" rel=\"image_src\"/>\n",
            "  <link href=\"/opensearch.xml\" rel=\"search\" title=\"Stack Overflow\" type=\"application/opensearchdescription+xml\"/>\n",
            "  <link href=\"https://stackoverflow.com/questions/40050397/deep-learning-nan-loss-reasons\" rel=\"canonical\">\n",
            "   <meta content=\"width=device-width, height=device-height, initial-scale=1.0, minimum-scale=1.0\" name=\"viewport\"/>\n",
            "   <meta content=\"website\" property=\"og:type\">\n",
            "    <meta content=\"https://stackoverflow.com/questions/40050397/deep-learning-nan-loss-reasons\" property=\"og:url\"/>\n",
            "    <meta content=\"Stack Overflow\" property=\"og:site_name\"/>\n",
            "    <meta content=\"https://cdn.sstatic.net/Sites/stackoverflow/Img/apple-touch-icon@2.png?v=73d79a89bded\" itemprop=\"image primaryImageOfPage\" property=\"og:image\"/>\n",
            "    <meta content=\"summary\" name=\"twitter:card\"/>\n",
            "    <meta content=\"stackoverflow.com\" name=\"twitter:domain\"/>\n",
            "    <meta content=\"Deep-Learning Nan loss reasons\" itemprop=\"name\" name=\"twitter:title\" property=\"og:title\"/>\n",
            "    <meta content=\"Perhaps too general a question, but can anyone explain what would cause a Convolutional Neural Network to diverge?\n",
            "Specifics:\n",
            "I am using Tensorflow's iris_training model with some of my own data an...\" itemprop=\"description\" name=\"twitter:description\" property=\"og:description\"/>\n",
            "    <script id=\"webpack-public-path\" type=\"text/uri-list\">\n",
            "     https://cdn.sstatic.net/\n",
            "    </script>\n",
            "    <script src=\"https://ajax.googleapis.com/ajax/libs/jquery/1.12.4/jquery.min.js\">\n",
            "    </script>\n",
            "\n"
          ]
        }
      ]
    },
    {
      "cell_type": "code",
      "source": [
        "soupfield.title"
      ],
      "metadata": {
        "colab": {
          "base_uri": "https://localhost:8080/"
        },
        "id": "Ogi_dl7yKQL1",
        "outputId": "fb052b35-3061-4aed-f55d-9f136cb776a0"
      },
      "execution_count": 6,
      "outputs": [
        {
          "output_type": "execute_result",
          "data": {
            "text/plain": [
              "<title>python - Deep-Learning Nan loss reasons - Stack Overflow</title>"
            ]
          },
          "metadata": {},
          "execution_count": 6
        }
      ]
    },
    {
      "cell_type": "code",
      "source": [
        "question = soupfield.find('div', {'class':'question'})\n",
        "questiontext = question.find(\"div\", {\"class\": \"s-prose js-post-body\"})"
      ],
      "metadata": {
        "id": "xXguU1NbSQhX"
      },
      "execution_count": 7,
      "outputs": []
    },
    {
      "cell_type": "code",
      "source": [
        "questiontext.get_text().strip()"
      ],
      "metadata": {
        "colab": {
          "base_uri": "https://localhost:8080/",
          "height": 123
        },
        "id": "VE5__roPSzlC",
        "outputId": "28af83c9-2604-467c-ebb3-8fd01b22215d"
      },
      "execution_count": 8,
      "outputs": [
        {
          "output_type": "execute_result",
          "data": {
            "text/plain": [
              "'Perhaps too general a question, but can anyone explain what would cause a Convolutional Neural Network to diverge?\\nSpecifics:\\nI am using Tensorflow\\'s iris_training model with some of my own data and keep getting\\n\\nERROR:tensorflow:Model diverged with loss = NaN.\\nTraceback...\\ntensorflow.contrib.learn.python.learn.monitors.NanLossDuringTrainingError: NaN loss during training.\\n\\nTraceback originated with line:\\n tf.contrib.learn.DNNClassifier(feature_columns=feature_columns,\\n                                        hidden_units=[300, 300, 300],\\n                                        #optimizer=tf.train.ProximalAdagradOptimizer(learning_rate=0.001, l1_regularization_strength=0.00001),                                                          \\n                                        n_classes=11,\\n                                        model_dir=\"/tmp/iris_model\")\\n\\nI\\'ve tried adjusting the optimizer, using a zero for learning rate, and using no optimizer. Any insights into network layers, data size, etc is appreciated.'"
            ],
            "application/vnd.google.colaboratory.intrinsic+json": {
              "type": "string"
            }
          },
          "metadata": {},
          "execution_count": 8
        }
      ]
    },
    {
      "cell_type": "code",
      "source": [
        "answer = soupfield.find('div', {'class':'answer'})\n",
        "answertext = answer.find(\"div\", {\"class\": \"s-prose js-post-body\"})"
      ],
      "metadata": {
        "id": "hIWQWNRfTX3g"
      },
      "execution_count": 9,
      "outputs": []
    },
    {
      "cell_type": "code",
      "source": [
        "answertext.get_text().strip()"
      ],
      "metadata": {
        "colab": {
          "base_uri": "https://localhost:8080/",
          "height": 123
        },
        "id": "MLR7XTHpTbNW",
        "outputId": "f204a9a0-2f6d-4b95-ca3b-2f47d0607f24"
      },
      "execution_count": 10,
      "outputs": [
        {
          "output_type": "execute_result",
          "data": {
            "text/plain": [
              "\"There are lots of things I have seen make a model diverge.\\n\\nToo high of a learning rate.  You can often tell if this is the case if the loss begins to increase and then diverges to infinity.  \\nI am not to familiar with the DNNClassifier but I am guessing it uses the categorical cross entropy cost function.  This involves taking the log of the prediction which diverges as the prediction approaches zero.  That is why people usually add a small epsilon value to the prediction to prevent this divergence. I am guessing the DNNClassifier probably does this or uses the tensorflow opp for it.  Probably not the issue.\\nOther numerical stability issues can exist such as division by zero where adding the epsilon can help.  Another less obvious one if the square root who's derivative can diverge if not properly simplified when dealing with finite precision numbers. Yet again I doubt this is the issue in the case of the DNNClassifier.\\nYou may have an issue with the input data.  Try calling assert not np.any(np.isnan(x)) on the input data to make sure you are not introducing the nan.  Also make sure all of the target values are valid.  Finally, make sure the data is properly normalized. You probably want to have the pixels in the range [-1, 1] and not [0, 255].\\nThe labels must be in the domain of the loss function, so if using a logarithmic-based loss function all labels must be non-negative (as noted by evan pu and the comments below).\""
            ],
            "application/vnd.google.colaboratory.intrinsic+json": {
              "type": "string"
            }
          },
          "metadata": {},
          "execution_count": 10
        }
      ]
    },
    {
      "cell_type": "markdown",
      "source": [
        "#Extracting text from images"
      ],
      "metadata": {
        "id": "ZkAOY4OwMNvF"
      }
    },
    {
      "cell_type": "code",
      "source": [
        "!pip install --ignore-installed Pillow==9.0.0"
      ],
      "metadata": {
        "id": "mJ5S5KFHR1vU"
      },
      "execution_count": null,
      "outputs": []
    },
    {
      "cell_type": "code",
      "source": [
        "!sudo apt install tesseract-ocr\n",
        "!pip install pytesseract\n",
        "\n",
        "!wget https://metalbyexample.com/wp-content/uploads/figure-65.png\n",
        "# https://raw.githubusercontent.com/practical-nlp/practical-nlp-code/master/Ch2/OpenSource.png\n",
        "# https://raw.githubusercontent.com/AnirudhMergu/TesseractOCR/master/sample3.png"
      ],
      "metadata": {
        "id": "hGsvyTS6UbAW"
      },
      "execution_count": null,
      "outputs": []
    },
    {
      "cell_type": "code",
      "source": [
        "try:\n",
        "    from PIL import Image\n",
        "except ImportError:\n",
        "    import Image\n",
        "\n",
        "import pytesseract\n",
        "\n",
        "from pytesseract import image_to_string\n",
        "\n",
        "filename = 'figure-65.png'\n",
        "\n",
        "if (os.name) == \"nt\":  #Windows\n",
        "    pytesseract.pytesseract.tesseract_cmd = r'C:\\Program Files\\Tesseract-OCR\\tesseract.exe'"
      ],
      "metadata": {
        "id": "_e1kfNlwaYQ8"
      },
      "execution_count": 20,
      "outputs": []
    },
    {
      "cell_type": "code",
      "source": [
        "# !pip install Pillow==9.0.0\n",
        "img = Image.open(filename)\n",
        "image_to_string(Image.open(filename))"
      ],
      "metadata": {
        "id": "fBTCwfxah6q_"
      },
      "execution_count": 29,
      "outputs": []
    },
    {
      "cell_type": "markdown",
      "source": [
        "#Unicode Normalization\n",
        "\n",
        "\n",
        "####Canonical \n",
        "#####Similar charcters but different\n",
        "\n",
        "######1. Ç\t↔\tC+◌̧\n",
        "######2. 가\t↔\tᄀ +ᅡ\n",
        "######3. q+◌̇+◌̣\t↔\tq+◌̣+◌̇ \n",
        "\n",
        "####Compability Equivalence\n",
        "#####Similar charactrers but with different fonts, size, direction,fractions, squared, circled, super(sub)scripts, positions or other things.\n",
        "\n",
        "######1. \n",
        "ﻊ\t→\tﻋ\t→ ﻌ  → ﻉ\t→\t‌ع‌ ‌\n",
        "\n",
        "######2. ︷\t→\t{\t→\t ︸\t→\t}\n",
        "\n",
        "######3. i⁹\t→\ti9\t→ i₉\n",
        "\n",
        "\n",
        "[More Details...](https://unicode.org/reports/tr15/#:~:text=Compatibility%20equivalence%20is%20a%20weaker,distinct%20visual%20appearances%20or%20behaviors.)"
      ],
      "metadata": {
        "id": "BCkWenkDepjc"
      }
    },
    {
      "cell_type": "markdown",
      "source": [
        "###Decomposition and Composition\n",
        "\n",
        "\n",
        "#####Normalization Form D (NFD) ===>\tCanonical Decomposition\n",
        "#####Normalization Form C (NFC) ===>\tCanonical Decomposition, followed by Canonical Composition\n",
        "#####Normalization Form KD (NFKD) ===>\tCompatibility Decomposition\n",
        "#####Normalization Form KC (NFKC) ===>\tCompatibility Decomposition, followed by Canonical Composition\n"
      ],
      "metadata": {
        "id": "d5_ggWWC85-0"
      }
    },
    {
      "cell_type": "code",
      "source": [
        "import unicodedata"
      ],
      "metadata": {
        "id": "9JX87HHD85k_"
      },
      "execution_count": 1,
      "outputs": []
    },
    {
      "cell_type": "code",
      "source": [
        "c_with_cedilla = '\\u00C7'\n",
        "c_with_cedilla"
      ],
      "metadata": {
        "colab": {
          "base_uri": "https://localhost:8080/",
          "height": 36
        },
        "id": "UE1uPpJ2eqL3",
        "outputId": "7e903ce2-e497-4ad6-923f-6a68f1232bdc"
      },
      "execution_count": 2,
      "outputs": [
        {
          "output_type": "execute_result",
          "data": {
            "text/plain": [
              "'Ç'"
            ],
            "application/vnd.google.colaboratory.intrinsic+json": {
              "type": "string"
            }
          },
          "metadata": {},
          "execution_count": 2
        }
      ]
    },
    {
      "cell_type": "code",
      "source": [
        "c_plus_cedilla = '\\u0043\\u0327'\n",
        "c_plus_cedilla"
      ],
      "metadata": {
        "colab": {
          "base_uri": "https://localhost:8080/",
          "height": 36
        },
        "id": "EXfMmSiU-HDM",
        "outputId": "6dbc26bd-de5a-423f-8850-200f17544133"
      },
      "execution_count": 3,
      "outputs": [
        {
          "output_type": "execute_result",
          "data": {
            "text/plain": [
              "'Ç'"
            ],
            "application/vnd.google.colaboratory.intrinsic+json": {
              "type": "string"
            }
          },
          "metadata": {},
          "execution_count": 3
        }
      ]
    },
    {
      "cell_type": "code",
      "source": [
        "c_with_cedilla == c_plus_cedilla"
      ],
      "metadata": {
        "colab": {
          "base_uri": "https://localhost:8080/"
        },
        "id": "G_0f9QQW-OVQ",
        "outputId": "2efa34cf-1d34-4e6d-81ef-3a633b9b4349"
      },
      "execution_count": 5,
      "outputs": [
        {
          "output_type": "execute_result",
          "data": {
            "text/plain": [
              "False"
            ]
          },
          "metadata": {},
          "execution_count": 5
        }
      ]
    },
    {
      "cell_type": "code",
      "source": [
        "unicodedata.normalize('NFD', c_with_cedilla) == c_plus_cedilla"
      ],
      "metadata": {
        "colab": {
          "base_uri": "https://localhost:8080/"
        },
        "id": "kHqR2ZHW-T82",
        "outputId": "da019f96-2121-4072-e302-a090231d246c"
      },
      "execution_count": 6,
      "outputs": [
        {
          "output_type": "execute_result",
          "data": {
            "text/plain": [
              "True"
            ]
          },
          "metadata": {},
          "execution_count": 6
        }
      ]
    },
    {
      "cell_type": "code",
      "source": [
        "c_with_cedilla == unicodedata.normalize('NFC', c_plus_cedilla)"
      ],
      "metadata": {
        "colab": {
          "base_uri": "https://localhost:8080/"
        },
        "id": "Ra8qsMpC-ubp",
        "outputId": "d93d31f6-c129-4dc1-b23b-80a67abefa92"
      },
      "execution_count": 8,
      "outputs": [
        {
          "output_type": "execute_result",
          "data": {
            "text/plain": [
              "True"
            ]
          },
          "metadata": {},
          "execution_count": 8
        }
      ]
    },
    {
      "cell_type": "code",
      "source": [
        ""
      ],
      "metadata": {
        "id": "TzdQUS0P_K8p"
      },
      "execution_count": null,
      "outputs": []
    }
  ]
}