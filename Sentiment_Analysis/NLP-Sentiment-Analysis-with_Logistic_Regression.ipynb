{
  "nbformat": 4,
  "nbformat_minor": 0,
  "metadata": {
    "colab": {
      "name": "NLP-Semantiment-Analysis-with-Logistic-Regression.ipynb",
      "provenance": [],
      "collapsed_sections": [],
      "authorship_tag": "ABX9TyOm04zVl2k0JnEY85usYCVC",
      "include_colab_link": true
    },
    "kernelspec": {
      "name": "python3",
      "display_name": "Python 3"
    },
    "language_info": {
      "name": "python"
    }
  },
  "cells": [
    {
      "cell_type": "markdown",
      "metadata": {
        "id": "view-in-github",
        "colab_type": "text"
      },
      "source": [
        "<a href=\"https://colab.research.google.com/github/mralamdari/NLP-Semantiment-Analysis/blob/main/NLP_Semantiment_Analysis_with_Logistic_Regression.ipynb\" target=\"_parent\"><img src=\"https://colab.research.google.com/assets/colab-badge.svg\" alt=\"Open In Colab\"/></a>"
      ]
    },
    {
      "cell_type": "code",
      "execution_count": 37,
      "metadata": {
        "id": "1CWO28vtZG2i",
        "colab": {
          "base_uri": "https://localhost:8080/"
        },
        "outputId": "c0ae0b61-7edf-47f3-a66d-2352c4765cb3"
      },
      "outputs": [
        {
          "output_type": "stream",
          "name": "stdout",
          "text": [
            "[nltk_data] Downloading package punkt to /root/nltk_data...\n",
            "[nltk_data]   Package punkt is already up-to-date!\n",
            "[nltk_data] Downloading package stopwords to /root/nltk_data...\n",
            "[nltk_data]   Package stopwords is already up-to-date!\n",
            "[nltk_data] Downloading package wordnet to /root/nltk_data...\n",
            "[nltk_data]   Unzipping corpora/wordnet.zip.\n"
          ]
        },
        {
          "output_type": "execute_result",
          "data": {
            "text/plain": [
              "True"
            ]
          },
          "metadata": {},
          "execution_count": 37
        }
      ],
      "source": [
        "import nltk\n",
        "import numpy as np\n",
        "from sklearn import linear_model\n",
        "from bs4 import BeautifulSoup\n",
        "\n",
        "nltk.download('punkt')\n",
        "nltk.download('stopwords')\n",
        "nltk.download('wordnet')"
      ]
    },
    {
      "cell_type": "code",
      "source": [
        "wordnet_lemmatizer = nltk.stem.WordNetLemmatizer()"
      ],
      "metadata": {
        "id": "Qpuj0CmnZp0g"
      },
      "execution_count": 36,
      "outputs": []
    },
    {
      "cell_type": "code",
      "source": [
        "stopwords = nltk.corpus.stopwords.words('english')"
      ],
      "metadata": {
        "id": "QFm_a-npZ-Jy"
      },
      "execution_count": 26,
      "outputs": []
    },
    {
      "cell_type": "code",
      "source": [
        "stopwords[:20]"
      ],
      "metadata": {
        "colab": {
          "base_uri": "https://localhost:8080/"
        },
        "id": "gmoo8JQ8aaGY",
        "outputId": "ffe817e4-710c-4ea0-ba8b-093ff12435ef"
      },
      "execution_count": 8,
      "outputs": [
        {
          "output_type": "execute_result",
          "data": {
            "text/plain": [
              "['i',\n",
              " 'me',\n",
              " 'my',\n",
              " 'myself',\n",
              " 'we',\n",
              " 'our',\n",
              " 'ours',\n",
              " 'ourselves',\n",
              " 'you',\n",
              " \"you're\",\n",
              " \"you've\",\n",
              " \"you'll\",\n",
              " \"you'd\",\n",
              " 'your',\n",
              " 'yours',\n",
              " 'yourself',\n",
              " 'yourselves',\n",
              " 'he',\n",
              " 'him',\n",
              " 'his']"
            ]
          },
          "metadata": {},
          "execution_count": 8
        }
      ]
    },
    {
      "cell_type": "code",
      "source": [
        "len(stopwords)"
      ],
      "metadata": {
        "colab": {
          "base_uri": "https://localhost:8080/"
        },
        "id": "yrJCSCY2alwP",
        "outputId": "45ff9762-8f46-4be3-c9ee-3e8df1f17e10"
      },
      "execution_count": 9,
      "outputs": [
        {
          "output_type": "execute_result",
          "data": {
            "text/plain": [
              "179"
            ]
          },
          "metadata": {},
          "execution_count": 9
        }
      ]
    },
    {
      "cell_type": "code",
      "source": [
        "!wget https://raw.githubusercontent.com/lazyprogrammer/machine_learning_examples/master/nlp_class/electronics/positive.review"
      ],
      "metadata": {
        "colab": {
          "base_uri": "https://localhost:8080/"
        },
        "id": "-nlsgYWwbSGQ",
        "outputId": "02d3a4ea-c21c-4cc0-cb0d-43babdecb2e8"
      },
      "execution_count": 10,
      "outputs": [
        {
          "output_type": "stream",
          "name": "stdout",
          "text": [
            "--2022-05-09 06:06:45--  https://raw.githubusercontent.com/lazyprogrammer/machine_learning_examples/master/nlp_class/electronics/positive.review\n",
            "Resolving raw.githubusercontent.com (raw.githubusercontent.com)... 185.199.111.133, 185.199.108.133, 185.199.109.133, ...\n",
            "Connecting to raw.githubusercontent.com (raw.githubusercontent.com)|185.199.111.133|:443... connected.\n",
            "HTTP request sent, awaiting response... 200 OK\n",
            "Length: 1105010 (1.1M) [text/plain]\n",
            "Saving to: ‘positive.review’\n",
            "\n",
            "positive.review     100%[===================>]   1.05M  --.-KB/s    in 0.05s   \n",
            "\n",
            "2022-05-09 06:06:46 (20.3 MB/s) - ‘positive.review’ saved [1105010/1105010]\n",
            "\n"
          ]
        }
      ]
    },
    {
      "cell_type": "code",
      "source": [
        "!wget https://raw.githubusercontent.com/lazyprogrammer/machine_learning_examples/master/nlp_class/electronics/negative.review"
      ],
      "metadata": {
        "colab": {
          "base_uri": "https://localhost:8080/"
        },
        "id": "XqtVqdl0bT8H",
        "outputId": "edb0ded9-4ef0-40c8-91c7-357b7124b538"
      },
      "execution_count": 11,
      "outputs": [
        {
          "output_type": "stream",
          "name": "stdout",
          "text": [
            "--2022-05-09 06:06:55--  https://raw.githubusercontent.com/lazyprogrammer/machine_learning_examples/master/nlp_class/electronics/negative.review\n",
            "Resolving raw.githubusercontent.com (raw.githubusercontent.com)... 185.199.108.133, 185.199.109.133, 185.199.110.133, ...\n",
            "Connecting to raw.githubusercontent.com (raw.githubusercontent.com)|185.199.108.133|:443... connected.\n",
            "HTTP request sent, awaiting response... 200 OK\n",
            "Length: 1113512 (1.1M) [text/plain]\n",
            "Saving to: ‘negative.review’\n",
            "\n",
            "negative.review     100%[===================>]   1.06M  --.-KB/s    in 0.05s   \n",
            "\n",
            "2022-05-09 06:06:55 (20.3 MB/s) - ‘negative.review’ saved [1113512/1113512]\n",
            "\n"
          ]
        }
      ]
    },
    {
      "cell_type": "code",
      "source": [
        "!wget https://raw.githubusercontent.com/lazyprogrammer/machine_learning_examples/master/nlp_class/electronics/unlabeled.review"
      ],
      "metadata": {
        "colab": {
          "base_uri": "https://localhost:8080/"
        },
        "id": "3doCB8SjbT3p",
        "outputId": "479fbe3b-cad3-4478-cbbf-4c728ce1c8ab"
      },
      "execution_count": 12,
      "outputs": [
        {
          "output_type": "stream",
          "name": "stdout",
          "text": [
            "--2022-05-09 06:07:05--  https://raw.githubusercontent.com/lazyprogrammer/machine_learning_examples/master/nlp_class/electronics/unlabeled.review\n",
            "Resolving raw.githubusercontent.com (raw.githubusercontent.com)... 185.199.108.133, 185.199.109.133, 185.199.110.133, ...\n",
            "Connecting to raw.githubusercontent.com (raw.githubusercontent.com)|185.199.108.133|:443... connected.\n",
            "HTTP request sent, awaiting response... 200 OK\n",
            "Length: 14584772 (14M) [text/plain]\n",
            "Saving to: ‘unlabeled.review’\n",
            "\n",
            "unlabeled.review    100%[===================>]  13.91M  --.-KB/s    in 0.1s    \n",
            "\n",
            "2022-05-09 06:07:05 (127 MB/s) - ‘unlabeled.review’ saved [14584772/14584772]\n",
            "\n"
          ]
        }
      ]
    },
    {
      "cell_type": "code",
      "source": [
        "positive_reviews = BeautifulSoup(open('positive.review').read())\n",
        "positive_reviews = positive_reviews.findAll('review_text')"
      ],
      "metadata": {
        "id": "Nk0uxqG5aqs1"
      },
      "execution_count": 14,
      "outputs": []
    },
    {
      "cell_type": "code",
      "source": [
        "negative_reviews = BeautifulSoup(open('negative.review').read())\n",
        "negative_reviews = negative_reviews.findAll('review_text')"
      ],
      "metadata": {
        "id": "HmuU-CnvbgsX"
      },
      "execution_count": 15,
      "outputs": []
    },
    {
      "cell_type": "code",
      "source": [
        "len(positive_reviews), len(negative_reviews)"
      ],
      "metadata": {
        "colab": {
          "base_uri": "https://localhost:8080/"
        },
        "id": "3hTyLpX3bl36",
        "outputId": "b7eb58b8-74d4-4bf9-9e80-1738664e91f7"
      },
      "execution_count": 20,
      "outputs": [
        {
          "output_type": "execute_result",
          "data": {
            "text/plain": [
              "(1000, 1000)"
            ]
          },
          "metadata": {},
          "execution_count": 20
        }
      ]
    },
    {
      "cell_type": "code",
      "source": [
        "np.random.shuffle(positive_reviews)"
      ],
      "metadata": {
        "id": "EeKx2RypbnWp"
      },
      "execution_count": 21,
      "outputs": []
    },
    {
      "cell_type": "code",
      "source": [
        "my_tokenizer = lambda review: [wordnet_lemmatizer.lemmatize(token) for token in nltk.tokenize.word_tokenize(review.lower()) if len(token)>=2 and token not in stopwords] "
      ],
      "metadata": {
        "id": "JtxE4mdFhabI"
      },
      "execution_count": 33,
      "outputs": []
    },
    {
      "cell_type": "code",
      "source": [
        "word_index_map = {}\n",
        "index_token = 0\n",
        "\n",
        "def word_tokenizer(reviews):\n",
        "  global word_index_map\n",
        "  global index_token\n",
        "  reviews_list = []\n",
        "  for review in reviews:\n",
        "    tokens = my_tokenizer(review.text)\n",
        "    reviews_list.append(tokens)\n",
        "    for token in tokens:\n",
        "      if token not in word_index_map:\n",
        "        word_index_map[token] = index_token\n",
        "        index_token += 1\n",
        "  return reviews_list"
      ],
      "metadata": {
        "id": "JN3lwIqJbtoB"
      },
      "execution_count": 57,
      "outputs": []
    },
    {
      "cell_type": "code",
      "source": [
        "tokenized_positive = word_tokenizer(positive_reviews)"
      ],
      "metadata": {
        "id": "Ngy3lMeOmRWC"
      },
      "execution_count": 67,
      "outputs": []
    },
    {
      "cell_type": "code",
      "source": [
        "tokenized_negative = word_tokenizer(negative_reviews)"
      ],
      "metadata": {
        "id": "AgJYWSyUmhaR"
      },
      "execution_count": 68,
      "outputs": []
    },
    {
      "cell_type": "code",
      "source": [
        "for index, item in enumerate(tokenized_positive):\n",
        "  print(item)\n",
        "  if index == 20:\n",
        "    break"
      ],
      "metadata": {
        "colab": {
          "base_uri": "https://localhost:8080/"
        },
        "id": "bps9VKOxiT5a",
        "outputId": "32d634f1-99cc-43ea-cd50-633e07f55731"
      },
      "execution_count": 69,
      "outputs": [
        {
          "output_type": "stream",
          "name": "stdout",
          "text": [
            "['fm', 'transmitter', 'bomb', 'diggiti', 'pro', 'clarity', 'great', 'fact', 'long', 'neck', 'make', 'best', 'pro', 'chyrsler', 'pt', 'cruiser', 'love', 'device', 'neck', 'brings', 'ipod', 'even', 'top', 'steering', 'column', 'right', 'view', 'right', \"n't\", 'look', 'fumble', 'i-pod', 'seat', 'pro', 'stable', 'outlet', 'pro', 'great', 'reception', 'con', 'would', 'nice', 'on/off', 'switch', 'base', 'outlet', 'stay', 'even', 'car', 'green', 'light', 'device', 'attract', 'unwanted', 'attention', 'con', 'take', 'protector', 'everytime', 'use', 'ipod', 'car']\n",
            "['purchased', 'receiver', 'fry', \"'s\", 'electronics', 'san', 'diego', 'ca', '199.99', 'first', 'little', 'hesitant', 'purchasing', 'digital', 'receiver', 'got', 'home', 'connected', 'amazed', 'receiver', 'blow', 'away', 'precision', \"'s\", 'home', 'theater', 'capability', 'using', 'four', 'polk', 'r30', \"'s\", 'front', 'rear', 'surround', 'two', 'sony', 'center', 'channel', 'front', 'center', 'rear', 'center', 'channel', 'also', 'klh', '10inch', 'tremor', 'series', 'powered', 'subwoofer', 'estimate', 'entire', 'system', 'cost', '650.00', 'total', 'colleague', 'bose', 'home', 'theater', 'system', 'little', 'system', 'blow', 'water', 'paid', 'much', 'bose', 'want', 'great', 'receiver', 'minimal', 'price', 'way', 'go', 'way', 'mention', 'four', 'digital', 'input', 'optical', 'output', 'hdmi', 'connection', 'buy']\n",
            "['take', 'little', 'time', 'start', 'operating', 'good', 'price', 'little', 'trouble', 'using', 'inside', 'ca']\n",
            "[\"'s\", 'advertized', 'like', 'wire', 'ipod', 'bag', 'headset', 'would', 'bit', 'better', 'could', 'control', 'power', 'ipod', 'headset', 'ie', 'turn', 'headset', 'receiver', 'ipod', 'headset', 'instead', 'get', 'ipod', 'back', 'turn', 'turn', 'receiver', 'turn', 'headset', 'otherwise', 'sound', 'good', 'headset', \"n't\", 'broken', 'yet']\n",
            "['game', 'would', 'even', 'play', 'xbox', 'scratched', 'using', 'game', 'dr.', 'work', 'perfectly', 'like', 'bought', 'brand', 'new', 'game', 'game', 'dr.', 'pretty', 'easy', 'use']\n",
            "['bought', 'refurbished', 'roadmate', '700', 'day', 'ago', 'took', 'minute', 'locate', 'current', 'location', 'totally', 'normal', 'kinda', 'feared', 'would', 'gps', 'older', 'version', '3.2', 'people', 'said', 'earlier', 'fact', 'one', 'got', 'firmwave', 'version', '4.32', 'newest', 'version', 'voice', 'working', 'good', 'happy', 'product', 'even', 'though', 'refurbished', 'one']\n",
            "['far', 'havent', 'filled', 'disc', 'yet', 'using', 'disc', 'came', 'would', 'fill', 'minute', 'talking', 'far', 'great']\n",
            "['say', \"'s\", 'rubber', 'case', 'stretch', 'ipod', \"'s\", 'little', 'room', 'malfunction', 'white', 'would', \"'ve\", 'looked', 'better', \"n't\", 'available', 'amazon', 'merchant', 'without', 'paying', 'product', 'cost', 'shipping', 'little', 'hard', 'clear', 'plastic', 'window', 'screen', 'dial', 'dial', 'covering', 'pop', 'open', 'far', 'several', 'week', 'work', 'fine', 'without', 'scratching']\n",
            "['title', 'state', 'excellent', 'wireless', 'mouse', 'work', 'right', 'away', 'window', 'xp', 'driver', 'install', 'software', 'needed', 'two-button', 'normal', 'scroll', 'capability', 'software', 'allows', 'extra', 'button', 'assignment', 'could', 'use', 'work', 'trouble', 'finding', 'menu', 'want', 'want', 'find', 'example', 'issue', 'find', 'extra', 'button', 'assignment', 'menu', 'plugging', 'usb', 'receiver', 'system', 'start-up', 'however', 'able', 'find', 'menu', 'software', 'remove', 'reinsert', 'receiver', 'said', 'superb', 'mouse', 'function', 'tracking', '...', 'thing', 'work', 'upholstery', 'leather', 'jean', 'thick', 'carpet']\n",
            "['bought', 'minidisc', 'recorder', 'move', 'away', 'analog', 'tape', 'recording', 'product', 'wonderful', 'especially', 'good', 'recording', 'lecture', 'voice', 'lesson', 'etc', 'work', 'quite', 'well', 'built-in', 'mono', 'mike', 'could', 'use', 'external', 'one', 'one', 'player', 'let', 'record', 'line', 'input', 'external', 'mike', '--', 'toggle', 'setting', 'setting', 'section', 'record', 'radio', 'show', 'plugging', 'line-out', 'station', \"'s\", 'tape', 'deck', 'iriver', 'recorded', 'live', 'music', 'minidiscs', \"'s\", 'little', 'trickier', 'set', 'record', 'input', '--', 'ca', \"n't\", 'change', 'fly', \"'ve\", 'recorded', 'live', 'dj', 'show', 'built-in', 'agc', 'course', 'booming', 'bass', 'distorts', 'horribly', 'overall', 'easy', 'record', 'show', 'easy', 'keep', 'pocket', 'rather', 'obviously', 'recording', 'show', \"'ve\", 'also', 'tried', 'external', 'mike', 'record', 'input', 'turned', 'low', 'good', 'result', 'bit', 'trial', 'error', \"'m\", 'still', 'refining', 'later', 'iriver', 'product', 'single', 'aa', 'batter', 'last', 'good', 'long', 'time', 'summer', 'school', 'involves', '2-hour', 'class', 'record', 'several', 'day', 'battery', 'low', 'battery', 'run', 'recording', 'fear', 'file', 'saved', 'negative', 'requirement', 'go', 'special', 'iriver', 'music', 'program', 'firmware', 'update', 'change', 'iriver', 'typical', 'usb', 'external', 'drag-and-drop', 'drive', 'file', 'recorded', '.rec', 'file', 'one', 'convert', '.mp3', 'file', 'transfer', 'computer', \"n't\", 'know', 'different', 'format', 'take', 'exactly', 'amout', 'space', '.mp3', 'file', 'ca', \"n't\", 'trasnfer', '.mp3', 'file', 'iriver', 'even', 'made', \"n't\", 'think', 'use', 'transfer', '.mp3', 'file', 'one', 'computer', 'another', 'also', 'molding', 'line-in', 'input', 'sometimes', 'get', 'way', 'certain', 'plug', 'rca', '1/8', \"''\", 'adaptor', 'make', 'sure', 'pick', 'one', 'alows', 'fit', 'securely', 'way', \"'ve\", 'mine', 'year', 'use', 'every', 'day', 'whether', 'playing', 'mp3s', 'recording', 'class', \"'m\", 'starting', 'trouble', 'on/off/play/pause', 'button', 'many', 'press', \"'s\", 'starting', 'wear', \"'s\", 'still', 'working', 'reliably', 'press', 'little', 'precisely', 'pay', 'attention', '1g', 'model', 'ifp-799', 'great', 'able', 'record', '12-hour', 'radio', 'show', 'marathon', 'produced', 'previous', 'marathon', 'required', 'stack', 'cassette', 'tape', 'minidiscs', \"'m\", 'quite', 'happy', 'iriver', 'plan', 'buying', 'future']\n",
            "['bought', 'nulooq', 'product', 'week', 'ago', 'little', 'expectation', 'actually', 'doubt', \"'d\", 'anything', \"'m\", 'keyboard', 'junkie', 'product', 'description', 'bit', 'confusing', 'seems', 'like', 'ti', 'lot', 'surprise', 'adjusting', 'brush', 'size', 'using', 'ipod', 'like', 'scroll', 'disc', 'device', 'worth', 'price', 'pop-up', 'menu', 'thing', 'cool', \"n't\", 'use', 'much', 'putting', 'tool', 'putting', 'file', 'folder', 'menu', 'keep', 'thing', 'one', 'place', 'guess', 'product', 'also', 'let', 'pan', 'zoom', 'around', \"n't\", 'seem', 'use', 'much', 'still', 'like', 'using', 'mouse', 'pan', 'zoom', 'around', 'hey', 'skeptical', 'product', 'like', 'anyone', 'else', 'found', 'rare', 'surprise', 'good', 'job', 'logitech']\n",
            "[\"'ve\", 'fm', 'transmitter', 'belkin', 'griffin', 'itrip', 'neither', 'came', 'close', 'quality', 'transmitter', 'neither', 'charged', 'ipod', 'belkin', 'required', 'battery', 'lasted', '15', 'hour', 'use', 'itrip', 'worked', 'ok', 'first', 'started', 'getting', 'static', 'matter', 'station', 'used', 'fact', 'ipod', 'hand', 'static', 'go', 'away', 'still', 'clear', 'sound', \"n't\", 'loud', 'take', 'volume', 'control', 'cant', 'use', 'volume', 'ipod', 'still', \"'s\", 'nearly', 'soft', \"'ve\", 'seen', 'found', 'music', 'came', 'good', 'volume', 'adjust', 'song', 'itunes', 'pump', 'unit', 'although', 'seems', 'cheap', 'flimsy', 'first', 'able', 'get', 'consistant', 'strong', 'signal', 'even', 'station', 'usually', 'come', 'clearly', 'power', 'result', 'clean', 'sound', 'little', 'hard', 'read', 'regular', 'angle', 'set', 'presets', \"n't\", 'need', 'see', 'screen', 'set', 'radio', '1-2-3', 'configuration', 'also', 'turning', '90', 'degree', 'angle', 'let', 'see', 'screen', 'much', 'clearer', 'could', \"n't\", 'happier']\n",
            "['reference', \"'ve\", 'owned', 'set', 'labtec', 'apx-6420', '2.1', 'speaker', '6-7', 'year', 'purchase', 'new', 'computer', 'mac', 'pro', 'cinema', 'display', 'decided', 'also', 'time', 'upgrade', 'speaker', 'spent', 'long', 'time', 'mulling', 'different', 'brand', 'model', 'listening', 'store', 'whenever', 'possible', 'major', '``', 'pc', 'speaker', \"''\", 'maker', 'recall', 'sampling', 'altec', 'lansing', 'logitech', 'klipsch', 'bose', 'creative', 'jbl', 'aside', 'listening', 'store', 'poor', 'environment', 'also', 'took', 'account', 'personal', 'experience', 'brand', 'mostly', 'first', 'three', 'listed', 'regular', '``', 'home', \"''\", 'situation', 'initially', 'wanted', 'klipsch', 'promedia', '2.1', \"'s\", 'fantastic', 'review', \"'ve\", 'gotten', 'amazon', 'elsewhere', 'turned', 'apparently', 'poor', 'build', 'quality', 'part', 'breaking', 'quickly', 'along', 'report', 'buzzing', 'power', 'switch', 'back', 'subwoofer', 'impression', 'store', 'experience', 'friend', \"'s\", 'promedia', '4.1', \"'s\", 'neither', 'really', 'cared', 'recently', 'broke', 'tried', 'many', 'logitech', 'speaker', 'could', 'many', 'different', 'situation', 'decided', 'hate', 'sole', 'exception', 'z-5500', \"'s\", 'love', 'bass', 'especially', 'suck', 'speaker', '...', 'eventually', 'came', 'conclusion', 'altec', 'langsing', 'brand', 'wanted', 'go', 'fx6021', \"'s\", 'eyeing', 'year', 'first', 'time', 'heard', 'store', 'declared', 'favorite', 'selection', 'time', 'still', 'true', 'probably', 'best', 'sub-', '200', '2.1', 'pc', 'speaker', 'buy', 'even', 'msrp', '250', \"'re\", 'probably', 'worth', 'speaker', 'nice', 'sound', 'clear', 'sharp', 'get', 'ready', 'hear', 'distortion', 'low', 'bitrate', 'digital', 'audio', 'file', 'speaker', 'especially', 'shine', 'listen', 'live', 'recording', 'anything', 'produced', 'real', 'instrument', 'i.e', 'techno', 'though', 'sound', 'good', 'subwoofer', '``', 'boomy', \"''\", '``', 'buzzy', \"''\", 'like', 'others', 'reported', 'never', 'use', 'equalizer', 'itunes', 'bass', 'half', \"'s\", 'deep', 'rich', 'discrete', \"n't\", 'shake', 'floor', 'cause', 'neighbor', 'complain', '--', 'yes', 'live', 'apartment', 'bass', 'concern', 'mine', 'complain', 'bass', 'maybe', \"n't\", 'gotten', '2.1', 'speaker', 'maybe', 'unit', 'defective', 'perhaps', 'subwoofer', 'placed', 'poor', 'position', 'know', 'sound', 'highly', 'subjective', 'review', \"n't\", 'sound', 'right', 'pro', 'tall', 'sleek', 'sexy', 'satellite', 'provide', 'nice', 'wall', 'sound', 'match', 'cinema', 'display', 'perfectly', 'bass', 'treble', '*large*', 'range', 'adjustability', '50', 'either', 'plenty', 'enough', 'power', 'button', 'control', 'pod', 'important', 'buzzing', \"'re\", '100', 'silent', 'con', 'volume', 'adjustment', 'digital', 'move', '``', 'notch', \"''\", 'notch', \"n't\", 'always', 'small', 'enough', 'much', 'prefer', 'regular', 'analog', 'knob', 'remote', 'bit', 'useless', 'look', 'good', 'perform', 'well', 'feel', 'little', 'cheap', 'get', 'ready', 'lot', 'cable', 'hanging', 'desk', 'floor', 'hand', 'long', 'cable', 'pro', 'well', 'finally', \"n't\", 'fooled', 'spec', 'yes', 'speaker', 'may', 'watt', 'power', 'thx', 'certification', 'really', \"n't\", 'matter', 'much', 'might', 'seem', 'loud', 'enough', 'sane', 'person', '100', 'volume', 'would', 'probably', 'wake', 'neighborhood', 'really', \"n't\", 'pay', 'attention', 'spec', 'bought', 'sound', 'best']\n",
            "['first', 'sure', 'windshield', 'mounting', 'bracket', 'going', 'stay', 'place', 'drive', 'trough', 'street', 'however', 'surprised', 'found', 'bracket', 'stayed', 'put', 'day', 'going', 'one', 'place', 'another', 'even', 'vibration', 'suction', 'rubber', 'system', 'quite', 'strong', 'angle', 'adjustment', 'rotate', 'gps', 'clockwise/counterclockwise', 'pro', 'strong', 'suction', 'rubber', 'system', 'gps', 'mounting', 'system', 'con', 'lack', '4th', 'angle', 'adjustment', 'gps', 'adjusted', 'windshield', 'plane', 'turn', 'towards', 'face', 'easy', 'viewing', \"'s\", 'give', 'star']\n",
            "['would', 'seem', 'even', 'non-tech', 'someone', 'switched', 'uniden', 'mobile/base', 'tech', 'data', 'around', 'secondly', 'term', '``', 'standard', \"''\", 'mean', 'le', 'trustworthy', 'applied', 'sensitivity', 'selectivity', 'please', \"n't\", 'feel', 'berate', 'fine', 'products.however', 'com/tech', 'would', 'like', 'actual', 'bench', 'test', 'measurement', 'informed', 'recom/purchases.also', 'would', 'like', 'know', 'cobra', '1000', '2000', 'series', 'availible', 'still', 'best', 'selectivity', 'sensitivity', 'bench', 'yet.thank', 'yo']\n",
            "['bought', 'battery', 'pack', '10', 'day', 'trip', 'italy', 'happy', 'never', 'change', 'battery', 'listened', 'time', 'reading', 'people', \"'s\", 'review', 'threw', 'battery', 'came', 'used', 'different', 'one', 'worked', 'great', 'complaint', 'suction', 'cup', \"n't\", 'great', 'several', 'time', 'ipod', 'came', 'suction', 'cup', 'plane', 'minimal', 'room', 'people', 'sitting', 'next', 'trying', 'get', 'ipod', 'floor', 'fun', 'overall', 'recommend', 'product', 'little', 'bulky', \"'re\", 'someone', 'like', 'live', 'without', 'music', \"'s\", 'great', 'product', \"n't\", 'going', 'able', 'charge', 'ipod']\n",
            "['used', 'gtx600vp4', 'stay', 'contact', 'two', 'vehicle', 'traveling', '5-watt', 'power', 'gave', 'u', 'ample', 'range', 'reach', '18', '20', 'mile', \"n't\", 'know', 'mile', 'car', 'problem', 'range', 'somewhat', 'reduced', 'hilly', 'terrain', 'varied', 'poor', 'good', 'rocky', 'mountain', \"'s\", 'great', 'way', 'stay', 'touch', 'traveling', 'battery', 'rechargeable', 'a/c', 'd/c', 'ear', 'piece', 'good', 'privacy', 'easy', 'use', 'well', 'worth', 'price', 'good', 'investment']\n",
            "['mouse', 'work', 'perfectly', 'fast', 'easy', 'without', 'problem', 'even', \"n't\", 'install', 'software', 'need', 'cordless', 'mouse', 'bu']\n",
            "[\"'s\", 'wringer', 'problem', 'year', 'came', 'looking', 'replacement', 'cap', 'ca', \"n't\", 'find', 'one', 'amazon']\n",
            "['simple', 'device', 'reliable', 'fixing', 'position', 'know', 'coordinate', 'set', 'bingo', 'compensate', 'lack', 'using', 'coordinate', 'map', 'paid', 'unexpensive']\n",
            "['wow', 'transfer', 'pc', 'cellphone', \"'s\", 'awesome', '...', 'need', 'cable', 'transfer', 'stuff', 'pc', 'cellphone', 'cellphne', 'pc', 'get', 'item', 'special', 'price', 'get']\n"
          ]
        }
      ]
    },
    {
      "cell_type": "code",
      "source": [
        "for index, item in enumerate(tokenized_negative):\n",
        "  print(item)\n",
        "  if index == 20:\n",
        "    break"
      ],
      "metadata": {
        "colab": {
          "base_uri": "https://localhost:8080/"
        },
        "id": "-tsi-oVykxn3",
        "outputId": "23fa3460-2a8f-49a8-961c-61e821ea484a"
      },
      "execution_count": 70,
      "outputs": [
        {
          "output_type": "stream",
          "name": "stdout",
          "text": [
            "['con', 'tip', 'extremely', 'easy', 'carpet', 'lot', 'cd', 'stacked', 'top', 'poorly', 'designed', 'vertical', 'cd', 'rack', 'doesnt', 'individual', 'slot', 'cd', 'want', 'cd', 'bottom', 'stack', 'basically', 'pull', 'whole', 'stack', 'get', 'putting', 'together', 'pain', 'one', 'bought', 'break', 'piece', 'metal', 'fit', 'guide', 'hole', 'again..poorly', 'designed', '...', 'doesnt', 'even', 'fit', 'cd', 'well', 'gap', 'cd', 'ca', 'loose', 'fitting', 'pro', '...', '...', '...', 'guess', 'hold', 'lot', 'cd', '...']\n",
            "[\"'s\", 'nice', 'look', 'tip', 'easily', 'steady', 'rug', 'surface', 'dispite', 'picture', 'box', 'show', 'advice', 'need', 'cd', 'rack', 'hold', 'lot', 'cd', \"'s\", 'save', 'money', 'invest', 'something', 'nicer', 'sturdy']\n",
            "['bought', 'returned', 'three', 'unit', 'one', 'defective', 'finally', 'gave', 'returning', 'system', 'dvd', 'player', 'constantly', 'give', '``', 'bad', 'disc', \"''\", 'error', 'skip', 'even', 'slightest', 'smudge', 'disc', 'sound', 'quality', 'nice', 'price', 'since', 'player', \"n't\", 'work', \"'s\", 'essentially', 'useless', 'complete', 'rip-off', 'price', 'point']\n",
            "['knew', 'inexpensive', 'cd', 'case', 'ca', \"n't\", 'even', 'open', 'one', 'without', 'breaking', 'two', 'pieces..']\n",
            "['used', '25', 'pack', 'dvd', 'backup', 'last', 'failed', 'thought', 'software', 'got', 'new', 'software', 'guess', 'first', 'disc', 'new', 'package', '25', 'bought', 'failed', \"'s\", 'burner', 'another', 'reviewer', 'suggested', 'implying', 'people', 'learn', 'read', \"'s\", 'brand', 'new', \"n't\", 'require', 'firmware', 'upgrade', 'mention', 'suck', 'high', 'failure', 'rate', 'consensus', 'seems', 'tdk', 'sony', 'best', \"'m\", 'buying', 'save', 'frustration']\n",
            "['bought', 'disc', 'compusa', 'needed', 'got', 'one', 'ordered', 'online', 'well', 'wated', 'good', '25', 'buck', 'disc', 'got', 'one', 'burned', 'good', 'much', 'bang', 'buck', 'burned', 'many', 'disc', 'never', 'memorex', 'usually', 'verbatim', 'ridata', 'mam', 'disgruntled', 'disc', 'making', 'coaster', 'maybe', 'burner', \"n't\", 'like', 'whatever', 'case', 'wo', \"n't\", 'buy', 'ever', 'thought', 'memorex', 'made', 'good', 'product']\n",
            "['dvd', 'burned', 'successfully', 'showed', 'movie', 'excellent', 'quality', 'problem', 'every', 'good', 'burn', 'get', 'one', 'bad', 'one', \"'m\", 'using', 'plextor', 'dvd', 'burner', 'love', \"'m\", 'going', 'try', 'luck', 'different', 'dvd', 'brand', 'failure', 'rate', 'memorex', 'unacceptable', \"'s\", 'le', 'cost', 'bother', 'time', 'wasted', 'burning', 'coaster']\n",
            "['hope', \"'s\", 'live', \"'s\", 'memorex', \"'s\", 'crap', \"'s\", 'latest', 'opinion', 'using', 'product', 'liteon', 'sohw-802s', 'hate', 'memorex', 'rarely', 'get', 'decent', 'burn', 'often', \"'ll\", 'discover', 'watching', 'movie', 'horrid', 'quality', 'movie', 'skip', 'stutter', 'stop', 'together', 'disappointing', 'unfortunately', 'found', 'late', 'memorex', 'us', 'cmc', 'medium', '0-50', 'success', 'rate', '...']\n",
            "['read', 'review', 'machine', 'clear', 'lexar', 'serious', 'quality-control', 'problem', 'people', 'worked', 'others', 'miserable', 'failure', 'latter', 'group', 'sigh', 'mine', 'dead', 'arrival', 'tried', 'device', '*both*', 'windows-xp', 'machine', 'case', 'unrecognized', 'lexar', 'tech', 'support', 'subsequently', 'proved', 'contradiction', 'term', 'would', 'return', 'email', 'request', 'help']\n",
            "['knew', 'cash', 'back', 'offer', 'sounded', 'good', 'true', '...', 'sure', 'enough', 'rejected', 'upcs', 'kept', 'copy', 'hounding', 'contacting', 'better', 'business', 'bureau', 'say', \"'whoops\", 'mistake', 'fleeting', 'suspicion', 'intentional']\n",
            "['please', \"n't\", 'expect', 'get', 'cash', 'back', 'purchase', 'promised', 'date', \"'ve\", 'denied', 'twice', 'second', 'time', 'said', 'number', 'invalid', \"'s\", 'original', 'barcode', 'meticulous', 'filing', 'paperwork', 'yet', 'state', '``', 'required', 'product', 'submitted', \"''\", 'meanwhile', 'phoned', 'amaz0n', 'lodge', 'formal', 'complaint', 'product', 'average', \"'ve\", 'used', 'better', 'worse', 'said', \"'s\", 'definitely', 'worth', 'full', 'asking', 'price']\n",
            "['free', 'lunch', 'get', 'pay', '...', 'verdict', 'product', 'well', 'poor', 'rating', 'given', 'purchased', 'product', 'discouraged', 'buying', 'need', 'disc', 'binder', 'case', 'logic', 'brand', 'original', 'pricey', 'low', 'cost', 'alternative', 'needed', 'expense', 'quality', 'tco', 'total', 'cost', 'ownership', 'flap', 'poor', 'customer', 'service', 'rebate', 'poor', 'quality', 'zipper', 'sleeve', 'binding', 'enough', 'give', 'pause', '...', '..', 'someone', 'xtreme', \"'s\", 'management', 'paying', 'attention', '...', '.fix', 'content', 'lose', 'business', 'price', \"n't\", 'everything', 'everyone', 'markt', 'product..']\n",
            "['collection', '1500', 'disk', 'bought', 'many', 'cd/dvd', 'case', 'year', 'brand', 'worst', 'quality', 'purchased', 'would', 'avoid', 'brand', '...']\n",
            "['bought', 'month', 'ago', 'use', 'dx4330', 'kodak', '3mp', 'digital', 'camera', 'worked', 'days.after', 'everytime', 'camera', 'wanted', 'reformat', 'card', 'wth', 'ca', \"n't\", 'use', '...', \"'m\", 'always', 'confidence', 'previous', 'purchase', 'amazon.one', 'mistake', 'made', 'threw', 'away', 'shipping', 'product', 'package', 'tested', 'card', 'thought', 'worked', 'would', 'ok.i', 'longer', 'return', 'needle', 'say', \"'m\", 'confident', 'lexar', \"'s\", 'product', 'buyer', 'beware', '...']\n",
            "['purchased', 'game', 'pad', 'due', 'good', 'review', 'found', 'online', '15', 'free', 'shipping', 'try', 'true', 'built', 'well', 'pretty', 'comfortable', 'hand', 'programming', 'software', 'alright', 'well', 'nice', 'nostromo', 'n50/52', 'software', 'example', 'didnt', 'like', 'much', 'relavant', 'firstly', 'toggle', 'lock', 'shift', 'button', 'button', 'easy', 'press', 'accident', 'since', 'momentary', 'button', 'go', 'back', 'press', 'agian', 'interupting', 'game', 'play', 'also', 'button', 'paddle', 'rather', 'thumb', 'quite', 'far', 'normal', 'thumb', 'use', 'hard', 'time', 'using', 'button', 'quickly', 'also', 'toggle', 'digital', 'button', 'cant', 'mapped', 'us', 'limited', 'total', 'button', 'rather', '10.', 'finally', 'reason', 'way', 'invoke', 'fight', 'nhl06', 'couldnt', 'live', 'ship', 'back', 'ill', 'soon', 'go', 'logitech']\n",
            "[\"'ve\", 'got', 'thing', 'work', 'hour', 'row', \"'ve\", 'spent', 'hour', 'product', 'several', 'machine', 'say', 'hardware', 'suck']\n",
            "['purchased', 'dvd', 'express', 'never', 'worked', 'spent', 'endless', 'time', 'tech', 'support', 'old', 'story', '``', 'must', 'computer', \"''\", 'fly', 'either', 'machine', 'medium', 'type', 'far', 'exceeds', 'system', 'requirement', 'advertised', 'ad', 'exchanged', 'item', 'supposedly', 'checked', 'got', 'problem', 'tech', 'support', 'told', 'person', 'trouble', 'product', 'need', 'check', 'website', 'review', 'product', 'hundred', 'bad', 'review', 'good', 'one', 'mistake', 'reading', 'wasted', 'time', 'money', 'ad', 'also', 'told', 'would', 'work', 'ulead', \"'s\", 'movie', 'factory', 'software', 'came', 'bundled', 'uleads', 'problem', 'use', 'cap', 'wiz', 'program', 'duh', 'guess', 'work', 'program', 'either', 'ulead', 'said', 'several', 'complaint', 'ad', \"'s\", 'product', 'final', 'solution', 'hold', 'product', 'maybe', 'new', 'version', 'cap', 'wiz', 'might', 'work', 'save', 'time', 'money', 'aggravation', 'buy', 'another', 'product', 'p.s', 'since', 'ad', \"n't\", 'consider', 'product', 'defective', 'refund', 'money', 'allow', 'trade', 'upgrade', \"n't\", 'think', 'want', 'product', 'like', 'either', 'reason', 'gave', 'one', 'star', '...', '..it', 'packed', 'well', 'ju']\n",
            "['sd', 'would', 'work', 'nikon', 'coolpix', 's6', 'camera', 'fuji', 'sandisk', 'product']\n",
            "['purchased', 'unit', 'thought', 'would', 'work', 'well', 'novi', 'unit', 'replacing', 'however', 'absolutely', 'range', 'original', 'novi', 'channel', 'unit', 'worked', 'well', 'distance', 'approx', '110', 'ft', 'house', 'barn', 'work', 'room', '...', 'attempting', 'return', 'currently']\n",
            "['bought', 'four', 'returned', 'immediately', 'two', 'dead', 'box', 'third', 'horrible', 'sound', 'searching', 'internet', 'reading', 'variety', 'review', 'similar', 'product', 'finally', 'settled', '900', 'megahertz', 'wireless', 'intercom', 'radio', 'shack', '43-3102', 'beautiful', 'sound', 'well', 'made', 'half', 'price', 'reporter', 'pretty', 'much', 'featues', 'claim', 'range', '300', 'foot', 'opposed', '1000', 'foot', 'need', '300', 'foot', 'range', \"'s\", 'something', 'consider', 'better', 'warranty', 'reporter', 'well', 'buck', 'extend', 'warrarnty', 'another', 'year', 'anyway', 'could', \"n't\", 'happier', 'r', 'intercom', 'ca', \"n't\", 'recommend', 'reporter', 'given', 'unit', 'arrived', 'faulty']\n",
            "['purchased', 'battery', 'pleased', 'wore', 'couple', 'month', \"n't\", 'use', 'camera', 'often', 'expect', 'ther', 'battery', 'charge', 'recharge', 'per', 'instruction', 'hold', 'charge', 'longer.i', 'know', 'monster', 'make', 'good', 'product', 'little', 'disappointed', 'one']\n"
          ]
        }
      ]
    },
    {
      "cell_type": "code",
      "source": [
        "len(tokenized_negative), len(tokenized_positive)"
      ],
      "metadata": {
        "colab": {
          "base_uri": "https://localhost:8080/"
        },
        "id": "1Ld1PVL-mniM",
        "outputId": "928db566-4573-4634-8e45-42721d0113e6"
      },
      "execution_count": 71,
      "outputs": [
        {
          "output_type": "execute_result",
          "data": {
            "text/plain": [
              "(1000, 1000)"
            ]
          },
          "metadata": {},
          "execution_count": 71
        }
      ]
    },
    {
      "cell_type": "code",
      "source": [
        "len(word_index_map)"
      ],
      "metadata": {
        "colab": {
          "base_uri": "https://localhost:8080/"
        },
        "id": "8ua11HLPoI_-",
        "outputId": "92b33850-8883-4c2a-e6af-bff20b07a2ad"
      },
      "execution_count": 65,
      "outputs": [
        {
          "output_type": "execute_result",
          "data": {
            "text/plain": [
              "11607"
            ]
          },
          "metadata": {},
          "execution_count": 65
        }
      ]
    },
    {
      "cell_type": "code",
      "source": [
        "word_index_map\n",
        "for index, item in enumerate(word_index_map.items()):\n",
        "  print(item)\n",
        "  if index == 20:\n",
        "    break"
      ],
      "metadata": {
        "colab": {
          "base_uri": "https://localhost:8080/"
        },
        "id": "Crflvo0coMAD",
        "outputId": "0bb660cd-8813-433e-b874-1cbc286867d9"
      },
      "execution_count": 66,
      "outputs": [
        {
          "output_type": "stream",
          "name": "stdout",
          "text": [
            "('fm', 0)\n",
            "('transmitter', 1)\n",
            "('bomb', 2)\n",
            "('diggiti', 3)\n",
            "('pro', 4)\n",
            "('clarity', 5)\n",
            "('great', 6)\n",
            "('fact', 7)\n",
            "('long', 8)\n",
            "('neck', 9)\n",
            "('make', 10)\n",
            "('best', 11)\n",
            "('chyrsler', 12)\n",
            "('pt', 13)\n",
            "('cruiser', 14)\n",
            "('love', 15)\n",
            "('device', 16)\n",
            "('brings', 17)\n",
            "('ipod', 18)\n",
            "('even', 19)\n",
            "('top', 20)\n"
          ]
        }
      ]
    },
    {
      "cell_type": "code",
      "source": [
        "def tokens2vector(tokens, label):\n",
        "  x = np.zeros(len(word_index_map)+1)\n",
        "  for token in tokens:\n",
        "    index = word_index_map.get(token)\n",
        "    x[index] += 1\n",
        "  x /= x.sum()\n",
        "  x[-1] = label\n",
        "  return x"
      ],
      "metadata": {
        "id": "LQbgyre4nIwL"
      },
      "execution_count": 78,
      "outputs": []
    },
    {
      "cell_type": "code",
      "source": [
        "data = np.zeros((len(tokenized_positive)+len(tokenized_negative), len(word_index_map)+1))\n",
        "data_index = 0\n",
        "def sentences2vetors(sentences, label):\n",
        "  global data, data_index\n",
        "  for tokens in sentences:\n",
        "    x = tokens2vector(tokens, label)\n",
        "    data[data_index, :] = x\n",
        "    data_index += 1"
      ],
      "metadata": {
        "id": "gKiW_UErsvbg"
      },
      "execution_count": 79,
      "outputs": []
    },
    {
      "cell_type": "code",
      "source": [
        "sentences2vetors(tokenized_positive, 1)"
      ],
      "metadata": {
        "id": "d9WxCWH33bq8"
      },
      "execution_count": 80,
      "outputs": []
    },
    {
      "cell_type": "code",
      "source": [
        "sentences2vetors(tokenized_negative, 0)"
      ],
      "metadata": {
        "id": "EkTngWwm3iA8"
      },
      "execution_count": 81,
      "outputs": []
    },
    {
      "cell_type": "code",
      "source": [
        "data.shape"
      ],
      "metadata": {
        "colab": {
          "base_uri": "https://localhost:8080/"
        },
        "id": "PANVQ9Bz3jbI",
        "outputId": "1fce1c70-0e06-4e1e-ebe1-2a6040e09d62"
      },
      "execution_count": 82,
      "outputs": [
        {
          "output_type": "execute_result",
          "data": {
            "text/plain": [
              "(2000, 11608)"
            ]
          },
          "metadata": {},
          "execution_count": 82
        }
      ]
    },
    {
      "cell_type": "code",
      "source": [
        "data[0]"
      ],
      "metadata": {
        "colab": {
          "base_uri": "https://localhost:8080/"
        },
        "id": "4ub1qsHo3pav",
        "outputId": "c1f5960c-ed9d-4b59-c38c-3e3a88d12730"
      },
      "execution_count": 85,
      "outputs": [
        {
          "output_type": "execute_result",
          "data": {
            "text/plain": [
              "array([0.01612903, 0.01612903, 0.01612903, ..., 0.        , 0.        ,\n",
              "       1.        ])"
            ]
          },
          "metadata": {},
          "execution_count": 85
        }
      ]
    },
    {
      "cell_type": "code",
      "source": [
        ""
      ],
      "metadata": {
        "id": "8kP41Sjo3qA4"
      },
      "execution_count": null,
      "outputs": []
    }
  ]
}
