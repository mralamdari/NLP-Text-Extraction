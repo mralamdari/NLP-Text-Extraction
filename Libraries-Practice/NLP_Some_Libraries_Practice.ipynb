{
  "nbformat": 4,
  "nbformat_minor": 0,
  "metadata": {
    "colab": {
      "name": "NLP-Some-Libraries-Practice.ipynb",
      "provenance": [],
      "collapsed_sections": [],
      "authorship_tag": "ABX9TyPptnbijrZ59GKw0p7x/GM8",
      "include_colab_link": true
    },
    "kernelspec": {
      "name": "python3",
      "display_name": "Python 3"
    },
    "language_info": {
      "name": "python"
    }
  },
  "cells": [
    {
      "cell_type": "markdown",
      "metadata": {
        "id": "view-in-github",
        "colab_type": "text"
      },
      "source": [
        "<a href=\"https://colab.research.google.com/github/mralamdari/NLP-Some-Libraries-Practice/blob/main/NLP_Some_Libraries_Practice.ipynb\" target=\"_parent\"><img src=\"https://colab.research.google.com/assets/colab-badge.svg\" alt=\"Open In Colab\"/></a>"
      ]
    },
    {
      "cell_type": "markdown",
      "source": [
        "#[Spacy](https://spacy.io/api)"
      ],
      "metadata": {
        "id": "MQbzT2xu5gYv"
      }
    },
    {
      "cell_type": "code",
      "execution_count": 1,
      "metadata": {
        "id": "zu1RKch94_UJ"
      },
      "outputs": [],
      "source": [
        "import spacy"
      ]
    },
    {
      "cell_type": "markdown",
      "source": [
        "###Loading a Model"
      ],
      "metadata": {
        "id": "_R4nqII77N3x"
      }
    },
    {
      "cell_type": "code",
      "source": [
        "nlp = spacy.load('en_core_web_sm')"
      ],
      "metadata": {
        "id": "OeM-1uWn5fpZ"
      },
      "execution_count": 2,
      "outputs": []
    },
    {
      "cell_type": "markdown",
      "source": [
        "###Apply the model to a document (doc object)"
      ],
      "metadata": {
        "id": "yBPXnnAP7Ran"
      }
    },
    {
      "cell_type": "code",
      "source": [
        "doc = nlp('The First My spacy code, to learn this awsome library ')"
      ],
      "metadata": {
        "id": "HC9nDly-6A6T"
      },
      "execution_count": 3,
      "outputs": []
    },
    {
      "cell_type": "code",
      "source": [
        "doc"
      ],
      "metadata": {
        "colab": {
          "base_uri": "https://localhost:8080/"
        },
        "id": "o5clkpMs6U_c",
        "outputId": "afeffc35-edb7-4f45-c4f0-81ddcfdff717"
      },
      "execution_count": 4,
      "outputs": [
        {
          "output_type": "execute_result",
          "data": {
            "text/plain": [
              "The First My spacy code, to learn this awsome library "
            ]
          },
          "metadata": {},
          "execution_count": 4
        }
      ]
    },
    {
      "cell_type": "code",
      "source": [
        "for token in doc:\n",
        "  print(token)\n",
        "  #print(token.text)"
      ],
      "metadata": {
        "colab": {
          "base_uri": "https://localhost:8080/"
        },
        "id": "ckHVFgmi6VoQ",
        "outputId": "3061cc9a-0bd3-460f-9961-67291b5f03fc"
      },
      "execution_count": 5,
      "outputs": [
        {
          "output_type": "stream",
          "name": "stdout",
          "text": [
            "The\n",
            "First\n",
            "My\n",
            "spacy\n",
            "code\n",
            ",\n",
            "to\n",
            "learn\n",
            "this\n",
            "awsome\n",
            "library\n"
          ]
        }
      ]
    },
    {
      "cell_type": "code",
      "source": [
        "# pos ===> Part of Speach\n",
        "for token in doc:\n",
        "  print(token.text, token.pos, token.pos_)"
      ],
      "metadata": {
        "colab": {
          "base_uri": "https://localhost:8080/"
        },
        "id": "cI_B7QIM6YrI",
        "outputId": "0f2efc65-5d7f-4ad1-dd18-582c553c134d"
      },
      "execution_count": 6,
      "outputs": [
        {
          "output_type": "stream",
          "name": "stdout",
          "text": [
            "The 90 DET\n",
            "First 96 PROPN\n",
            "My 90 DET\n",
            "spacy 92 NOUN\n",
            "code 92 NOUN\n",
            ", 97 PUNCT\n",
            "to 94 PART\n",
            "learn 100 VERB\n",
            "this 90 DET\n",
            "awsome 84 ADJ\n",
            "library 92 NOUN\n"
          ]
        }
      ]
    },
    {
      "cell_type": "code",
      "source": [
        "# dep ===> Syntactic dependency\n",
        "for token in doc:\n",
        "  print(token.text, token.dep_)"
      ],
      "metadata": {
        "colab": {
          "base_uri": "https://localhost:8080/"
        },
        "id": "ZILUIB4u6cAk",
        "outputId": "1c895a0b-9562-4857-a6e0-2cb6fcb1adfc"
      },
      "execution_count": 7,
      "outputs": [
        {
          "output_type": "stream",
          "name": "stdout",
          "text": [
            "The det\n",
            "First amod\n",
            "My poss\n",
            "spacy compound\n",
            "code ROOT\n",
            ", punct\n",
            "to aux\n",
            "learn relcl\n",
            "this det\n",
            "awsome compound\n",
            "library dobj\n"
          ]
        }
      ]
    },
    {
      "cell_type": "code",
      "source": [
        "nlp.pipeline"
      ],
      "metadata": {
        "colab": {
          "base_uri": "https://localhost:8080/"
        },
        "id": "FrNE3QST65vB",
        "outputId": "88c195ac-431f-490c-f965-1dd92b43daea"
      },
      "execution_count": 8,
      "outputs": [
        {
          "output_type": "execute_result",
          "data": {
            "text/plain": [
              "[('tagger', <spacy.pipeline.pipes.Tagger at 0x7fdabb3b3bd0>),\n",
              " ('parser', <spacy.pipeline.pipes.DependencyParser at 0x7fdabaf0efa0>),\n",
              " ('ner', <spacy.pipeline.pipes.EntityRecognizer at 0x7fdabaf0ee50>)]"
            ]
          },
          "metadata": {},
          "execution_count": 8
        }
      ]
    },
    {
      "cell_type": "code",
      "source": [
        "nlp.pipe_names"
      ],
      "metadata": {
        "colab": {
          "base_uri": "https://localhost:8080/"
        },
        "id": "jGPP-q1Y7lcy",
        "outputId": "2876d8f6-fed5-4078-a571-b97d5a315d7c"
      },
      "execution_count": 9,
      "outputs": [
        {
          "output_type": "execute_result",
          "data": {
            "text/plain": [
              "['tagger', 'parser', 'ner']"
            ]
          },
          "metadata": {},
          "execution_count": 9
        }
      ]
    },
    {
      "cell_type": "code",
      "source": [
        "doc2 = nlp(u\"This is a ?? sentence    to practice. tokenization, It's Awsome\")"
      ],
      "metadata": {
        "id": "Xg5ZDZiy7xnp"
      },
      "execution_count": 10,
      "outputs": []
    },
    {
      "cell_type": "code",
      "source": [
        "for token in doc2:\n",
        "  print(token.text, token.pos_, token.dep_)"
      ],
      "metadata": {
        "colab": {
          "base_uri": "https://localhost:8080/"
        },
        "id": "bm4N8nIw795Q",
        "outputId": "16ff8e3c-a924-42cc-ce02-ab77acbb95cf"
      },
      "execution_count": 11,
      "outputs": [
        {
          "output_type": "stream",
          "name": "stdout",
          "text": [
            "This DET nsubj\n",
            "is AUX ROOT\n",
            "a DET attr\n",
            "? PUNCT punct\n",
            "? PUNCT punct\n",
            "sentence NOUN npadvmod\n",
            "    SPACE \n",
            "to PART aux\n",
            "practice VERB ROOT\n",
            ". PUNCT punct\n",
            "tokenization NOUN npadvmod\n",
            ", PUNCT punct\n",
            "It PRON nsubj\n",
            "'s AUX ROOT\n",
            "Awsome PROPN attr\n"
          ]
        }
      ]
    },
    {
      "cell_type": "code",
      "source": [
        "for token in doc2:\n",
        "  print(token.text, token.tag_)"
      ],
      "metadata": {
        "colab": {
          "base_uri": "https://localhost:8080/"
        },
        "id": "zHgR9ZRW8e0U",
        "outputId": "ce548fc3-7e93-4b71-f729-9dca947a1549"
      },
      "execution_count": 12,
      "outputs": [
        {
          "output_type": "stream",
          "name": "stdout",
          "text": [
            "This DT\n",
            "is VBZ\n",
            "a DT\n",
            "? .\n",
            "? .\n",
            "sentence NN\n",
            "    _SP\n",
            "to TO\n",
            "practice VB\n",
            ". .\n",
            "tokenization NN\n",
            ", ,\n",
            "It PRP\n",
            "'s VBZ\n",
            "Awsome NNP\n"
          ]
        }
      ]
    },
    {
      "cell_type": "code",
      "source": [
        "for token in doc2:\n",
        "  print(token.text, token.lemma_)"
      ],
      "metadata": {
        "colab": {
          "base_uri": "https://localhost:8080/"
        },
        "id": "12ZIIBZn-70b",
        "outputId": "ab763494-a844-45ad-bd74-8816f1d160cd"
      },
      "execution_count": 13,
      "outputs": [
        {
          "output_type": "stream",
          "name": "stdout",
          "text": [
            "This this\n",
            "is be\n",
            "a a\n",
            "? ?\n",
            "? ?\n",
            "sentence sentence\n",
            "       \n",
            "to to\n",
            "practice practice\n",
            ". .\n",
            "tokenization tokenization\n",
            ", ,\n",
            "It -PRON-\n",
            "'s be\n",
            "Awsome Awsome\n"
          ]
        }
      ]
    },
    {
      "cell_type": "code",
      "source": [
        "for token in doc2:\n",
        "  print(token.text, token.shape_)"
      ],
      "metadata": {
        "colab": {
          "base_uri": "https://localhost:8080/"
        },
        "id": "sATDC0pl_DrX",
        "outputId": "daa3e0b7-8c5c-4461-ab91-f3518930bfa0"
      },
      "execution_count": 14,
      "outputs": [
        {
          "output_type": "stream",
          "name": "stdout",
          "text": [
            "This Xxxx\n",
            "is xx\n",
            "a x\n",
            "? ?\n",
            "? ?\n",
            "sentence xxxx\n",
            "       \n",
            "to xx\n",
            "practice xxxx\n",
            ". .\n",
            "tokenization xxxx\n",
            ", ,\n",
            "It Xx\n",
            "'s 'x\n",
            "Awsome Xxxxx\n"
          ]
        }
      ]
    },
    {
      "cell_type": "code",
      "source": [
        "for token in doc2:\n",
        "  print(type(token))"
      ],
      "metadata": {
        "colab": {
          "base_uri": "https://localhost:8080/"
        },
        "id": "qYqCfu-h_Rrm",
        "outputId": "cb9d38b9-880e-4997-fa37-be4e1c1e645a"
      },
      "execution_count": 15,
      "outputs": [
        {
          "output_type": "stream",
          "name": "stdout",
          "text": [
            "<class 'spacy.tokens.token.Token'>\n",
            "<class 'spacy.tokens.token.Token'>\n",
            "<class 'spacy.tokens.token.Token'>\n",
            "<class 'spacy.tokens.token.Token'>\n",
            "<class 'spacy.tokens.token.Token'>\n",
            "<class 'spacy.tokens.token.Token'>\n",
            "<class 'spacy.tokens.token.Token'>\n",
            "<class 'spacy.tokens.token.Token'>\n",
            "<class 'spacy.tokens.token.Token'>\n",
            "<class 'spacy.tokens.token.Token'>\n",
            "<class 'spacy.tokens.token.Token'>\n",
            "<class 'spacy.tokens.token.Token'>\n",
            "<class 'spacy.tokens.token.Token'>\n",
            "<class 'spacy.tokens.token.Token'>\n",
            "<class 'spacy.tokens.token.Token'>\n"
          ]
        }
      ]
    },
    {
      "cell_type": "markdown",
      "source": [
        "###Tokenization\n",
        "\n",
        "#####**Prefix**: chars at the beginning\n",
        "#####**Suffix**: chars at the end\n",
        "#####**Infix**: chars in between\n",
        "#####Exception\n"
      ],
      "metadata": {
        "id": "k2bmkuFQCJp3"
      }
    },
    {
      "cell_type": "code",
      "source": [
        "my_str=\"'We\\'re moving to L.A.!, are you coming?\""
      ],
      "metadata": {
        "id": "SN76Z52a_yVF"
      },
      "execution_count": 16,
      "outputs": []
    },
    {
      "cell_type": "code",
      "source": [
        "doc = nlp(my_str)"
      ],
      "metadata": {
        "id": "OVfPyaz4Dx_b"
      },
      "execution_count": 17,
      "outputs": []
    },
    {
      "cell_type": "code",
      "source": [
        "for token in doc:\n",
        "  print(token.text)"
      ],
      "metadata": {
        "colab": {
          "base_uri": "https://localhost:8080/"
        },
        "id": "7KyuV4Y3Dz5V",
        "outputId": "8c6642a8-e15e-45ab-aba4-8d6fa2c0d42a"
      },
      "execution_count": 18,
      "outputs": [
        {
          "output_type": "stream",
          "name": "stdout",
          "text": [
            "'\n",
            "We\n",
            "'re\n",
            "moving\n",
            "to\n",
            "L.A.\n",
            "!\n",
            ",\n",
            "are\n",
            "you\n",
            "coming\n",
            "?\n"
          ]
        }
      ]
    },
    {
      "cell_type": "code",
      "source": [
        "doc2 = nlp(u'Apple helped me create this http://popo@gmail.com gmail!, In L.A. with my freind in Japan so, I can only give you $153.61')"
      ],
      "metadata": {
        "id": "gv4h4sx6EKBq"
      },
      "execution_count": 19,
      "outputs": []
    },
    {
      "cell_type": "code",
      "source": [
        "for token in doc2:\n",
        "  print(token.text)"
      ],
      "metadata": {
        "colab": {
          "base_uri": "https://localhost:8080/"
        },
        "id": "Y0F6_LcAEdm0",
        "outputId": "acf29ce4-66b5-45c0-ef40-91d2ca6329b3"
      },
      "execution_count": 20,
      "outputs": [
        {
          "output_type": "stream",
          "name": "stdout",
          "text": [
            "Apple\n",
            "helped\n",
            "me\n",
            "create\n",
            "this\n",
            "http://popo@gmail.com\n",
            "gmail\n",
            "!\n",
            ",\n",
            "In\n",
            "L.A.\n",
            "with\n",
            "my\n",
            "freind\n",
            "in\n",
            "Japan\n",
            "so\n",
            ",\n",
            "I\n",
            "can\n",
            "only\n",
            "give\n",
            "you\n",
            "$\n",
            "153.61\n"
          ]
        }
      ]
    },
    {
      "cell_type": "code",
      "source": [
        "for entity in doc2.ents:\n",
        "  print(entity, entity.label_)\n",
        "  print(str(spacy.explain(entity.label_)))\n",
        "  print('\\n')"
      ],
      "metadata": {
        "colab": {
          "base_uri": "https://localhost:8080/"
        },
        "id": "Wgk0eRYREfaU",
        "outputId": "d20d8131-a5f3-406d-c1c4-436853247e7d"
      },
      "execution_count": 21,
      "outputs": [
        {
          "output_type": "stream",
          "name": "stdout",
          "text": [
            "Apple ORG\n",
            "Companies, agencies, institutions, etc.\n",
            "\n",
            "\n",
            "L.A. GPE\n",
            "Countries, cities, states\n",
            "\n",
            "\n",
            "Japan GPE\n",
            "Countries, cities, states\n",
            "\n",
            "\n",
            "153.61 MONEY\n",
            "Monetary values, including unit\n",
            "\n",
            "\n"
          ]
        }
      ]
    },
    {
      "cell_type": "code",
      "source": [
        "doc3 = nlp(u'a beautiful butterfly can go beyonds eyes so esi, be carefull. yesterday IBM bought an apple for $5.5 millions')"
      ],
      "metadata": {
        "id": "EoKVXUhbF7RV"
      },
      "execution_count": 22,
      "outputs": []
    },
    {
      "cell_type": "code",
      "source": [
        "for chunk in doc3.noun_chunks:\n",
        "  print(chunk)"
      ],
      "metadata": {
        "colab": {
          "base_uri": "https://localhost:8080/"
        },
        "id": "3CdQDIvuGy69",
        "outputId": "d9be4b0b-4619-4358-be0b-c0a1b8b38fca"
      },
      "execution_count": 23,
      "outputs": [
        {
          "output_type": "stream",
          "name": "stdout",
          "text": [
            "a beautiful butterfly\n",
            "beyonds eyes\n",
            "IBM\n",
            "an apple\n",
            "$5.5 millions\n"
          ]
        }
      ]
    },
    {
      "cell_type": "code",
      "source": [
        "spacy.displacy.render(doc3, style='dep', jupyter=True, options={'distance':110})\n",
        "# spacy.displacy.serve(doc3, style='dep', jupyter=False, options={'distance':110})"
      ],
      "metadata": {
        "colab": {
          "base_uri": "https://localhost:8080/",
          "height": 344
        },
        "id": "udIr7RXAG4Rc",
        "outputId": "894f1da4-323c-46d2-b606-51dc6af6bd59"
      },
      "execution_count": 24,
      "outputs": [
        {
          "output_type": "display_data",
          "data": {
            "text/plain": [
              "<IPython.core.display.HTML object>"
            ],
            "text/html": [
              "<span class=\"tex2jax_ignore\"><svg xmlns=\"http://www.w3.org/2000/svg\" xmlns:xlink=\"http://www.w3.org/1999/xlink\" xml:lang=\"en\" id=\"4e495b033bc54f67b083321e449187d2-0\" class=\"displacy\" width=\"2250\" height=\"302.0\" direction=\"ltr\" style=\"max-width: none; height: 302.0px; color: #000000; background: #ffffff; font-family: Arial; direction: ltr\">\n",
              "<text class=\"displacy-token\" fill=\"currentColor\" text-anchor=\"middle\" y=\"212.0\">\n",
              "    <tspan class=\"displacy-word\" fill=\"currentColor\" x=\"50\">a</tspan>\n",
              "    <tspan class=\"displacy-tag\" dy=\"2em\" fill=\"currentColor\" x=\"50\">DET</tspan>\n",
              "</text>\n",
              "\n",
              "<text class=\"displacy-token\" fill=\"currentColor\" text-anchor=\"middle\" y=\"212.0\">\n",
              "    <tspan class=\"displacy-word\" fill=\"currentColor\" x=\"160\">beautiful</tspan>\n",
              "    <tspan class=\"displacy-tag\" dy=\"2em\" fill=\"currentColor\" x=\"160\">ADJ</tspan>\n",
              "</text>\n",
              "\n",
              "<text class=\"displacy-token\" fill=\"currentColor\" text-anchor=\"middle\" y=\"212.0\">\n",
              "    <tspan class=\"displacy-word\" fill=\"currentColor\" x=\"270\">butterfly</tspan>\n",
              "    <tspan class=\"displacy-tag\" dy=\"2em\" fill=\"currentColor\" x=\"270\">NOUN</tspan>\n",
              "</text>\n",
              "\n",
              "<text class=\"displacy-token\" fill=\"currentColor\" text-anchor=\"middle\" y=\"212.0\">\n",
              "    <tspan class=\"displacy-word\" fill=\"currentColor\" x=\"380\">can</tspan>\n",
              "    <tspan class=\"displacy-tag\" dy=\"2em\" fill=\"currentColor\" x=\"380\">VERB</tspan>\n",
              "</text>\n",
              "\n",
              "<text class=\"displacy-token\" fill=\"currentColor\" text-anchor=\"middle\" y=\"212.0\">\n",
              "    <tspan class=\"displacy-word\" fill=\"currentColor\" x=\"490\">go</tspan>\n",
              "    <tspan class=\"displacy-tag\" dy=\"2em\" fill=\"currentColor\" x=\"490\">VERB</tspan>\n",
              "</text>\n",
              "\n",
              "<text class=\"displacy-token\" fill=\"currentColor\" text-anchor=\"middle\" y=\"212.0\">\n",
              "    <tspan class=\"displacy-word\" fill=\"currentColor\" x=\"600\">beyonds</tspan>\n",
              "    <tspan class=\"displacy-tag\" dy=\"2em\" fill=\"currentColor\" x=\"600\">NOUN</tspan>\n",
              "</text>\n",
              "\n",
              "<text class=\"displacy-token\" fill=\"currentColor\" text-anchor=\"middle\" y=\"212.0\">\n",
              "    <tspan class=\"displacy-word\" fill=\"currentColor\" x=\"710\">eyes</tspan>\n",
              "    <tspan class=\"displacy-tag\" dy=\"2em\" fill=\"currentColor\" x=\"710\">NOUN</tspan>\n",
              "</text>\n",
              "\n",
              "<text class=\"displacy-token\" fill=\"currentColor\" text-anchor=\"middle\" y=\"212.0\">\n",
              "    <tspan class=\"displacy-word\" fill=\"currentColor\" x=\"820\">so</tspan>\n",
              "    <tspan class=\"displacy-tag\" dy=\"2em\" fill=\"currentColor\" x=\"820\">ADV</tspan>\n",
              "</text>\n",
              "\n",
              "<text class=\"displacy-token\" fill=\"currentColor\" text-anchor=\"middle\" y=\"212.0\">\n",
              "    <tspan class=\"displacy-word\" fill=\"currentColor\" x=\"930\">esi,</tspan>\n",
              "    <tspan class=\"displacy-tag\" dy=\"2em\" fill=\"currentColor\" x=\"930\">ADJ</tspan>\n",
              "</text>\n",
              "\n",
              "<text class=\"displacy-token\" fill=\"currentColor\" text-anchor=\"middle\" y=\"212.0\">\n",
              "    <tspan class=\"displacy-word\" fill=\"currentColor\" x=\"1040\">be</tspan>\n",
              "    <tspan class=\"displacy-tag\" dy=\"2em\" fill=\"currentColor\" x=\"1040\">AUX</tspan>\n",
              "</text>\n",
              "\n",
              "<text class=\"displacy-token\" fill=\"currentColor\" text-anchor=\"middle\" y=\"212.0\">\n",
              "    <tspan class=\"displacy-word\" fill=\"currentColor\" x=\"1150\">carefull.</tspan>\n",
              "    <tspan class=\"displacy-tag\" dy=\"2em\" fill=\"currentColor\" x=\"1150\">ADJ</tspan>\n",
              "</text>\n",
              "\n",
              "<text class=\"displacy-token\" fill=\"currentColor\" text-anchor=\"middle\" y=\"212.0\">\n",
              "    <tspan class=\"displacy-word\" fill=\"currentColor\" x=\"1260\">yesterday</tspan>\n",
              "    <tspan class=\"displacy-tag\" dy=\"2em\" fill=\"currentColor\" x=\"1260\">NOUN</tspan>\n",
              "</text>\n",
              "\n",
              "<text class=\"displacy-token\" fill=\"currentColor\" text-anchor=\"middle\" y=\"212.0\">\n",
              "    <tspan class=\"displacy-word\" fill=\"currentColor\" x=\"1370\">IBM</tspan>\n",
              "    <tspan class=\"displacy-tag\" dy=\"2em\" fill=\"currentColor\" x=\"1370\">PROPN</tspan>\n",
              "</text>\n",
              "\n",
              "<text class=\"displacy-token\" fill=\"currentColor\" text-anchor=\"middle\" y=\"212.0\">\n",
              "    <tspan class=\"displacy-word\" fill=\"currentColor\" x=\"1480\">bought</tspan>\n",
              "    <tspan class=\"displacy-tag\" dy=\"2em\" fill=\"currentColor\" x=\"1480\">VERB</tspan>\n",
              "</text>\n",
              "\n",
              "<text class=\"displacy-token\" fill=\"currentColor\" text-anchor=\"middle\" y=\"212.0\">\n",
              "    <tspan class=\"displacy-word\" fill=\"currentColor\" x=\"1590\">an</tspan>\n",
              "    <tspan class=\"displacy-tag\" dy=\"2em\" fill=\"currentColor\" x=\"1590\">DET</tspan>\n",
              "</text>\n",
              "\n",
              "<text class=\"displacy-token\" fill=\"currentColor\" text-anchor=\"middle\" y=\"212.0\">\n",
              "    <tspan class=\"displacy-word\" fill=\"currentColor\" x=\"1700\">apple</tspan>\n",
              "    <tspan class=\"displacy-tag\" dy=\"2em\" fill=\"currentColor\" x=\"1700\">NOUN</tspan>\n",
              "</text>\n",
              "\n",
              "<text class=\"displacy-token\" fill=\"currentColor\" text-anchor=\"middle\" y=\"212.0\">\n",
              "    <tspan class=\"displacy-word\" fill=\"currentColor\" x=\"1810\">for</tspan>\n",
              "    <tspan class=\"displacy-tag\" dy=\"2em\" fill=\"currentColor\" x=\"1810\">ADP</tspan>\n",
              "</text>\n",
              "\n",
              "<text class=\"displacy-token\" fill=\"currentColor\" text-anchor=\"middle\" y=\"212.0\">\n",
              "    <tspan class=\"displacy-word\" fill=\"currentColor\" x=\"1920\">$</tspan>\n",
              "    <tspan class=\"displacy-tag\" dy=\"2em\" fill=\"currentColor\" x=\"1920\">SYM</tspan>\n",
              "</text>\n",
              "\n",
              "<text class=\"displacy-token\" fill=\"currentColor\" text-anchor=\"middle\" y=\"212.0\">\n",
              "    <tspan class=\"displacy-word\" fill=\"currentColor\" x=\"2030\">5.5</tspan>\n",
              "    <tspan class=\"displacy-tag\" dy=\"2em\" fill=\"currentColor\" x=\"2030\">NUM</tspan>\n",
              "</text>\n",
              "\n",
              "<text class=\"displacy-token\" fill=\"currentColor\" text-anchor=\"middle\" y=\"212.0\">\n",
              "    <tspan class=\"displacy-word\" fill=\"currentColor\" x=\"2140\">millions</tspan>\n",
              "    <tspan class=\"displacy-tag\" dy=\"2em\" fill=\"currentColor\" x=\"2140\">NOUN</tspan>\n",
              "</text>\n",
              "\n",
              "<g class=\"displacy-arrow\">\n",
              "    <path class=\"displacy-arc\" id=\"arrow-4e495b033bc54f67b083321e449187d2-0-0\" stroke-width=\"2px\" d=\"M70,167.0 C70,57.0 265.0,57.0 265.0,167.0\" fill=\"none\" stroke=\"currentColor\"/>\n",
              "    <text dy=\"1.25em\" style=\"font-size: 0.8em; letter-spacing: 1px\">\n",
              "        <textPath xlink:href=\"#arrow-4e495b033bc54f67b083321e449187d2-0-0\" class=\"displacy-label\" startOffset=\"50%\" side=\"left\" fill=\"currentColor\" text-anchor=\"middle\">det</textPath>\n",
              "    </text>\n",
              "    <path class=\"displacy-arrowhead\" d=\"M70,169.0 L62,157.0 78,157.0\" fill=\"currentColor\"/>\n",
              "</g>\n",
              "\n",
              "<g class=\"displacy-arrow\">\n",
              "    <path class=\"displacy-arc\" id=\"arrow-4e495b033bc54f67b083321e449187d2-0-1\" stroke-width=\"2px\" d=\"M180,167.0 C180,112.0 260.0,112.0 260.0,167.0\" fill=\"none\" stroke=\"currentColor\"/>\n",
              "    <text dy=\"1.25em\" style=\"font-size: 0.8em; letter-spacing: 1px\">\n",
              "        <textPath xlink:href=\"#arrow-4e495b033bc54f67b083321e449187d2-0-1\" class=\"displacy-label\" startOffset=\"50%\" side=\"left\" fill=\"currentColor\" text-anchor=\"middle\">amod</textPath>\n",
              "    </text>\n",
              "    <path class=\"displacy-arrowhead\" d=\"M180,169.0 L172,157.0 188,157.0\" fill=\"currentColor\"/>\n",
              "</g>\n",
              "\n",
              "<g class=\"displacy-arrow\">\n",
              "    <path class=\"displacy-arc\" id=\"arrow-4e495b033bc54f67b083321e449187d2-0-2\" stroke-width=\"2px\" d=\"M290,167.0 C290,57.0 485.0,57.0 485.0,167.0\" fill=\"none\" stroke=\"currentColor\"/>\n",
              "    <text dy=\"1.25em\" style=\"font-size: 0.8em; letter-spacing: 1px\">\n",
              "        <textPath xlink:href=\"#arrow-4e495b033bc54f67b083321e449187d2-0-2\" class=\"displacy-label\" startOffset=\"50%\" side=\"left\" fill=\"currentColor\" text-anchor=\"middle\">nsubj</textPath>\n",
              "    </text>\n",
              "    <path class=\"displacy-arrowhead\" d=\"M290,169.0 L282,157.0 298,157.0\" fill=\"currentColor\"/>\n",
              "</g>\n",
              "\n",
              "<g class=\"displacy-arrow\">\n",
              "    <path class=\"displacy-arc\" id=\"arrow-4e495b033bc54f67b083321e449187d2-0-3\" stroke-width=\"2px\" d=\"M400,167.0 C400,112.0 480.0,112.0 480.0,167.0\" fill=\"none\" stroke=\"currentColor\"/>\n",
              "    <text dy=\"1.25em\" style=\"font-size: 0.8em; letter-spacing: 1px\">\n",
              "        <textPath xlink:href=\"#arrow-4e495b033bc54f67b083321e449187d2-0-3\" class=\"displacy-label\" startOffset=\"50%\" side=\"left\" fill=\"currentColor\" text-anchor=\"middle\">aux</textPath>\n",
              "    </text>\n",
              "    <path class=\"displacy-arrowhead\" d=\"M400,169.0 L392,157.0 408,157.0\" fill=\"currentColor\"/>\n",
              "</g>\n",
              "\n",
              "<g class=\"displacy-arrow\">\n",
              "    <path class=\"displacy-arc\" id=\"arrow-4e495b033bc54f67b083321e449187d2-0-4\" stroke-width=\"2px\" d=\"M620,167.0 C620,112.0 700.0,112.0 700.0,167.0\" fill=\"none\" stroke=\"currentColor\"/>\n",
              "    <text dy=\"1.25em\" style=\"font-size: 0.8em; letter-spacing: 1px\">\n",
              "        <textPath xlink:href=\"#arrow-4e495b033bc54f67b083321e449187d2-0-4\" class=\"displacy-label\" startOffset=\"50%\" side=\"left\" fill=\"currentColor\" text-anchor=\"middle\">compound</textPath>\n",
              "    </text>\n",
              "    <path class=\"displacy-arrowhead\" d=\"M620,169.0 L612,157.0 628,157.0\" fill=\"currentColor\"/>\n",
              "</g>\n",
              "\n",
              "<g class=\"displacy-arrow\">\n",
              "    <path class=\"displacy-arc\" id=\"arrow-4e495b033bc54f67b083321e449187d2-0-5\" stroke-width=\"2px\" d=\"M510,167.0 C510,57.0 705.0,57.0 705.0,167.0\" fill=\"none\" stroke=\"currentColor\"/>\n",
              "    <text dy=\"1.25em\" style=\"font-size: 0.8em; letter-spacing: 1px\">\n",
              "        <textPath xlink:href=\"#arrow-4e495b033bc54f67b083321e449187d2-0-5\" class=\"displacy-label\" startOffset=\"50%\" side=\"left\" fill=\"currentColor\" text-anchor=\"middle\">dobj</textPath>\n",
              "    </text>\n",
              "    <path class=\"displacy-arrowhead\" d=\"M705.0,169.0 L713.0,157.0 697.0,157.0\" fill=\"currentColor\"/>\n",
              "</g>\n",
              "\n",
              "<g class=\"displacy-arrow\">\n",
              "    <path class=\"displacy-arc\" id=\"arrow-4e495b033bc54f67b083321e449187d2-0-6\" stroke-width=\"2px\" d=\"M840,167.0 C840,112.0 920.0,112.0 920.0,167.0\" fill=\"none\" stroke=\"currentColor\"/>\n",
              "    <text dy=\"1.25em\" style=\"font-size: 0.8em; letter-spacing: 1px\">\n",
              "        <textPath xlink:href=\"#arrow-4e495b033bc54f67b083321e449187d2-0-6\" class=\"displacy-label\" startOffset=\"50%\" side=\"left\" fill=\"currentColor\" text-anchor=\"middle\">advmod</textPath>\n",
              "    </text>\n",
              "    <path class=\"displacy-arrowhead\" d=\"M840,169.0 L832,157.0 848,157.0\" fill=\"currentColor\"/>\n",
              "</g>\n",
              "\n",
              "<g class=\"displacy-arrow\">\n",
              "    <path class=\"displacy-arc\" id=\"arrow-4e495b033bc54f67b083321e449187d2-0-7\" stroke-width=\"2px\" d=\"M950,167.0 C950,112.0 1030.0,112.0 1030.0,167.0\" fill=\"none\" stroke=\"currentColor\"/>\n",
              "    <text dy=\"1.25em\" style=\"font-size: 0.8em; letter-spacing: 1px\">\n",
              "        <textPath xlink:href=\"#arrow-4e495b033bc54f67b083321e449187d2-0-7\" class=\"displacy-label\" startOffset=\"50%\" side=\"left\" fill=\"currentColor\" text-anchor=\"middle\">nsubj</textPath>\n",
              "    </text>\n",
              "    <path class=\"displacy-arrowhead\" d=\"M950,169.0 L942,157.0 958,157.0\" fill=\"currentColor\"/>\n",
              "</g>\n",
              "\n",
              "<g class=\"displacy-arrow\">\n",
              "    <path class=\"displacy-arc\" id=\"arrow-4e495b033bc54f67b083321e449187d2-0-8\" stroke-width=\"2px\" d=\"M1060,167.0 C1060,112.0 1140.0,112.0 1140.0,167.0\" fill=\"none\" stroke=\"currentColor\"/>\n",
              "    <text dy=\"1.25em\" style=\"font-size: 0.8em; letter-spacing: 1px\">\n",
              "        <textPath xlink:href=\"#arrow-4e495b033bc54f67b083321e449187d2-0-8\" class=\"displacy-label\" startOffset=\"50%\" side=\"left\" fill=\"currentColor\" text-anchor=\"middle\">acomp</textPath>\n",
              "    </text>\n",
              "    <path class=\"displacy-arrowhead\" d=\"M1140.0,169.0 L1148.0,157.0 1132.0,157.0\" fill=\"currentColor\"/>\n",
              "</g>\n",
              "\n",
              "<g class=\"displacy-arrow\">\n",
              "    <path class=\"displacy-arc\" id=\"arrow-4e495b033bc54f67b083321e449187d2-0-9\" stroke-width=\"2px\" d=\"M1280,167.0 C1280,57.0 1475.0,57.0 1475.0,167.0\" fill=\"none\" stroke=\"currentColor\"/>\n",
              "    <text dy=\"1.25em\" style=\"font-size: 0.8em; letter-spacing: 1px\">\n",
              "        <textPath xlink:href=\"#arrow-4e495b033bc54f67b083321e449187d2-0-9\" class=\"displacy-label\" startOffset=\"50%\" side=\"left\" fill=\"currentColor\" text-anchor=\"middle\">npadvmod</textPath>\n",
              "    </text>\n",
              "    <path class=\"displacy-arrowhead\" d=\"M1280,169.0 L1272,157.0 1288,157.0\" fill=\"currentColor\"/>\n",
              "</g>\n",
              "\n",
              "<g class=\"displacy-arrow\">\n",
              "    <path class=\"displacy-arc\" id=\"arrow-4e495b033bc54f67b083321e449187d2-0-10\" stroke-width=\"2px\" d=\"M1390,167.0 C1390,112.0 1470.0,112.0 1470.0,167.0\" fill=\"none\" stroke=\"currentColor\"/>\n",
              "    <text dy=\"1.25em\" style=\"font-size: 0.8em; letter-spacing: 1px\">\n",
              "        <textPath xlink:href=\"#arrow-4e495b033bc54f67b083321e449187d2-0-10\" class=\"displacy-label\" startOffset=\"50%\" side=\"left\" fill=\"currentColor\" text-anchor=\"middle\">nsubj</textPath>\n",
              "    </text>\n",
              "    <path class=\"displacy-arrowhead\" d=\"M1390,169.0 L1382,157.0 1398,157.0\" fill=\"currentColor\"/>\n",
              "</g>\n",
              "\n",
              "<g class=\"displacy-arrow\">\n",
              "    <path class=\"displacy-arc\" id=\"arrow-4e495b033bc54f67b083321e449187d2-0-11\" stroke-width=\"2px\" d=\"M1610,167.0 C1610,112.0 1690.0,112.0 1690.0,167.0\" fill=\"none\" stroke=\"currentColor\"/>\n",
              "    <text dy=\"1.25em\" style=\"font-size: 0.8em; letter-spacing: 1px\">\n",
              "        <textPath xlink:href=\"#arrow-4e495b033bc54f67b083321e449187d2-0-11\" class=\"displacy-label\" startOffset=\"50%\" side=\"left\" fill=\"currentColor\" text-anchor=\"middle\">det</textPath>\n",
              "    </text>\n",
              "    <path class=\"displacy-arrowhead\" d=\"M1610,169.0 L1602,157.0 1618,157.0\" fill=\"currentColor\"/>\n",
              "</g>\n",
              "\n",
              "<g class=\"displacy-arrow\">\n",
              "    <path class=\"displacy-arc\" id=\"arrow-4e495b033bc54f67b083321e449187d2-0-12\" stroke-width=\"2px\" d=\"M1500,167.0 C1500,57.0 1695.0,57.0 1695.0,167.0\" fill=\"none\" stroke=\"currentColor\"/>\n",
              "    <text dy=\"1.25em\" style=\"font-size: 0.8em; letter-spacing: 1px\">\n",
              "        <textPath xlink:href=\"#arrow-4e495b033bc54f67b083321e449187d2-0-12\" class=\"displacy-label\" startOffset=\"50%\" side=\"left\" fill=\"currentColor\" text-anchor=\"middle\">dobj</textPath>\n",
              "    </text>\n",
              "    <path class=\"displacy-arrowhead\" d=\"M1695.0,169.0 L1703.0,157.0 1687.0,157.0\" fill=\"currentColor\"/>\n",
              "</g>\n",
              "\n",
              "<g class=\"displacy-arrow\">\n",
              "    <path class=\"displacy-arc\" id=\"arrow-4e495b033bc54f67b083321e449187d2-0-13\" stroke-width=\"2px\" d=\"M1500,167.0 C1500,2.0 1810.0,2.0 1810.0,167.0\" fill=\"none\" stroke=\"currentColor\"/>\n",
              "    <text dy=\"1.25em\" style=\"font-size: 0.8em; letter-spacing: 1px\">\n",
              "        <textPath xlink:href=\"#arrow-4e495b033bc54f67b083321e449187d2-0-13\" class=\"displacy-label\" startOffset=\"50%\" side=\"left\" fill=\"currentColor\" text-anchor=\"middle\">prep</textPath>\n",
              "    </text>\n",
              "    <path class=\"displacy-arrowhead\" d=\"M1810.0,169.0 L1818.0,157.0 1802.0,157.0\" fill=\"currentColor\"/>\n",
              "</g>\n",
              "\n",
              "<g class=\"displacy-arrow\">\n",
              "    <path class=\"displacy-arc\" id=\"arrow-4e495b033bc54f67b083321e449187d2-0-14\" stroke-width=\"2px\" d=\"M1940,167.0 C1940,57.0 2135.0,57.0 2135.0,167.0\" fill=\"none\" stroke=\"currentColor\"/>\n",
              "    <text dy=\"1.25em\" style=\"font-size: 0.8em; letter-spacing: 1px\">\n",
              "        <textPath xlink:href=\"#arrow-4e495b033bc54f67b083321e449187d2-0-14\" class=\"displacy-label\" startOffset=\"50%\" side=\"left\" fill=\"currentColor\" text-anchor=\"middle\">quantmod</textPath>\n",
              "    </text>\n",
              "    <path class=\"displacy-arrowhead\" d=\"M1940,169.0 L1932,157.0 1948,157.0\" fill=\"currentColor\"/>\n",
              "</g>\n",
              "\n",
              "<g class=\"displacy-arrow\">\n",
              "    <path class=\"displacy-arc\" id=\"arrow-4e495b033bc54f67b083321e449187d2-0-15\" stroke-width=\"2px\" d=\"M2050,167.0 C2050,112.0 2130.0,112.0 2130.0,167.0\" fill=\"none\" stroke=\"currentColor\"/>\n",
              "    <text dy=\"1.25em\" style=\"font-size: 0.8em; letter-spacing: 1px\">\n",
              "        <textPath xlink:href=\"#arrow-4e495b033bc54f67b083321e449187d2-0-15\" class=\"displacy-label\" startOffset=\"50%\" side=\"left\" fill=\"currentColor\" text-anchor=\"middle\">nummod</textPath>\n",
              "    </text>\n",
              "    <path class=\"displacy-arrowhead\" d=\"M2050,169.0 L2042,157.0 2058,157.0\" fill=\"currentColor\"/>\n",
              "</g>\n",
              "\n",
              "<g class=\"displacy-arrow\">\n",
              "    <path class=\"displacy-arc\" id=\"arrow-4e495b033bc54f67b083321e449187d2-0-16\" stroke-width=\"2px\" d=\"M1830,167.0 C1830,2.0 2140.0,2.0 2140.0,167.0\" fill=\"none\" stroke=\"currentColor\"/>\n",
              "    <text dy=\"1.25em\" style=\"font-size: 0.8em; letter-spacing: 1px\">\n",
              "        <textPath xlink:href=\"#arrow-4e495b033bc54f67b083321e449187d2-0-16\" class=\"displacy-label\" startOffset=\"50%\" side=\"left\" fill=\"currentColor\" text-anchor=\"middle\">pobj</textPath>\n",
              "    </text>\n",
              "    <path class=\"displacy-arrowhead\" d=\"M2140.0,169.0 L2148.0,157.0 2132.0,157.0\" fill=\"currentColor\"/>\n",
              "</g>\n",
              "</svg></span>"
            ]
          },
          "metadata": {}
        }
      ]
    },
    {
      "cell_type": "code",
      "source": [
        "spacy.displacy.render(doc3, style='ent', jupyter=True)\n",
        "# spacy.displacy.serve(doc3, style='ent', jupyter=False)"
      ],
      "metadata": {
        "colab": {
          "base_uri": "https://localhost:8080/",
          "height": 52
        },
        "id": "dlmmag5jNrBL",
        "outputId": "3f59c809-7ed0-4592-9b5f-bb5d4634cc7c"
      },
      "execution_count": 25,
      "outputs": [
        {
          "output_type": "display_data",
          "data": {
            "text/plain": [
              "<IPython.core.display.HTML object>"
            ],
            "text/html": [
              "<span class=\"tex2jax_ignore\"><div class=\"entities\" style=\"line-height: 2.5; direction: ltr\">a beautiful butterfly can go beyonds eyes so esi, be carefull. \n",
              "<mark class=\"entity\" style=\"background: #bfe1d9; padding: 0.45em 0.6em; margin: 0 0.25em; line-height: 1; border-radius: 0.35em;\">\n",
              "    yesterday\n",
              "    <span style=\"font-size: 0.8em; font-weight: bold; line-height: 1; border-radius: 0.35em; text-transform: uppercase; vertical-align: middle; margin-left: 0.5rem\">DATE</span>\n",
              "</mark>\n",
              " \n",
              "<mark class=\"entity\" style=\"background: #7aecec; padding: 0.45em 0.6em; margin: 0 0.25em; line-height: 1; border-radius: 0.35em;\">\n",
              "    IBM\n",
              "    <span style=\"font-size: 0.8em; font-weight: bold; line-height: 1; border-radius: 0.35em; text-transform: uppercase; vertical-align: middle; margin-left: 0.5rem\">ORG</span>\n",
              "</mark>\n",
              " bought an apple for \n",
              "<mark class=\"entity\" style=\"background: #e4e7d2; padding: 0.45em 0.6em; margin: 0 0.25em; line-height: 1; border-radius: 0.35em;\">\n",
              "    $5.5 millions\n",
              "    <span style=\"font-size: 0.8em; font-weight: bold; line-height: 1; border-radius: 0.35em; text-transform: uppercase; vertical-align: middle; margin-left: 0.5rem\">MONEY</span>\n",
              "</mark>\n",
              "</div></span>"
            ]
          },
          "metadata": {}
        }
      ]
    },
    {
      "cell_type": "markdown",
      "source": [
        "###Stemming\n",
        "\n",
        "######a crude method for categoling related words"
      ],
      "metadata": {
        "id": "L9Zznl-4P8jn"
      }
    },
    {
      "cell_type": "code",
      "source": [
        "import nltk\n",
        "from nltk.stem.porter import PorterStemmer"
      ],
      "metadata": {
        "id": "AQWr2027OPfs"
      },
      "execution_count": 26,
      "outputs": []
    },
    {
      "cell_type": "code",
      "source": [
        "p_stemmer = PorterStemmer()"
      ],
      "metadata": {
        "id": "cqNMlOsiQzgY"
      },
      "execution_count": 27,
      "outputs": []
    },
    {
      "cell_type": "code",
      "source": [
        "words = ['runner', 'run', 'ran', 'runs', 'easy', 'easier', 'easiest']"
      ],
      "metadata": {
        "id": "82ouCyHHQ11f"
      },
      "execution_count": 28,
      "outputs": []
    },
    {
      "cell_type": "code",
      "source": [
        "for word in words:\n",
        "  print(f'{word} ----> {p_stemmer.stem(word)}')"
      ],
      "metadata": {
        "colab": {
          "base_uri": "https://localhost:8080/"
        },
        "id": "nKesZcojQ53f",
        "outputId": "7e648e8e-69f3-431e-dfd1-cfb12a7e73e9"
      },
      "execution_count": 29,
      "outputs": [
        {
          "output_type": "stream",
          "name": "stdout",
          "text": [
            "runner ----> runner\n",
            "run ----> run\n",
            "ran ----> ran\n",
            "runs ----> run\n",
            "easy ----> easi\n",
            "easier ----> easier\n",
            "easiest ----> easiest\n"
          ]
        }
      ]
    },
    {
      "cell_type": "code",
      "source": [
        "from nltk.stem.snowball import SnowballStemmer"
      ],
      "metadata": {
        "id": "49m3hfYZRAqT"
      },
      "execution_count": 30,
      "outputs": []
    },
    {
      "cell_type": "code",
      "source": [
        "s_stemmer = SnowballStemmer(language='english')"
      ],
      "metadata": {
        "id": "gH4wGoTYRbkS"
      },
      "execution_count": 31,
      "outputs": []
    },
    {
      "cell_type": "code",
      "source": [
        "for word in words:\n",
        "  print(f'{word} ----> {s_stemmer.stem(word)}')"
      ],
      "metadata": {
        "colab": {
          "base_uri": "https://localhost:8080/"
        },
        "id": "CJCWOsGURjRX",
        "outputId": "ca6c0fa6-ec1e-42d3-e8f6-48233aca5480"
      },
      "execution_count": 32,
      "outputs": [
        {
          "output_type": "stream",
          "name": "stdout",
          "text": [
            "runner ----> runner\n",
            "run ----> run\n",
            "ran ----> ran\n",
            "runs ----> run\n",
            "easy ----> easi\n",
            "easier ----> easier\n",
            "easiest ----> easiest\n"
          ]
        }
      ]
    },
    {
      "cell_type": "markdown",
      "source": [
        "###Lemmatization\n",
        "######It is a more informative way of reducing down words to thier root"
      ],
      "metadata": {
        "id": "r79crEyWjvtO"
      }
    },
    {
      "cell_type": "code",
      "source": [
        "doc1 = nlp(u'I am a runner and loved runners, so i think running is awsome, so run when you can')"
      ],
      "metadata": {
        "id": "4hYF6oAaRoVK"
      },
      "execution_count": 33,
      "outputs": []
    },
    {
      "cell_type": "code",
      "source": [
        "for token in doc1:\n",
        "  print(token.text, token.pos_, token.lemma, token.lemma_)"
      ],
      "metadata": {
        "colab": {
          "base_uri": "https://localhost:8080/"
        },
        "id": "aW48W7wzkHX3",
        "outputId": "4c3fe9dc-302b-4735-8703-edd98b2b6361"
      },
      "execution_count": 34,
      "outputs": [
        {
          "output_type": "stream",
          "name": "stdout",
          "text": [
            "I PRON 561228191312463089 -PRON-\n",
            "am AUX 10382539506755952630 be\n",
            "a DET 11901859001352538922 a\n",
            "runner NOUN 12640964157389618806 runner\n",
            "and CCONJ 2283656566040971221 and\n",
            "loved VERB 3702023516439754181 love\n",
            "runners NOUN 12640964157389618806 runner\n",
            ", PUNCT 2593208677638477497 ,\n",
            "so CCONJ 9781598966686434415 so\n",
            "i PRON 5097672513440128799 i\n",
            "think VERB 16875814820671380748 think\n",
            "running VERB 12767647472892411841 run\n",
            "is AUX 10382539506755952630 be\n",
            "awsome ADJ 3521391281120521496 awsome\n",
            ", PUNCT 2593208677638477497 ,\n",
            "so ADV 9781598966686434415 so\n",
            "run VERB 12767647472892411841 run\n",
            "when ADV 15807309897752499399 when\n",
            "you PRON 561228191312463089 -PRON-\n",
            "can VERB 6635067063807956629 can\n"
          ]
        }
      ]
    },
    {
      "cell_type": "code",
      "source": [
        "for token in doc1:\n",
        "  print(token.text, token.lemma_)"
      ],
      "metadata": {
        "colab": {
          "base_uri": "https://localhost:8080/"
        },
        "id": "NkpZGIzEkSmz",
        "outputId": "fc46c928-0797-4f4a-af0d-18a2870e3abe"
      },
      "execution_count": 35,
      "outputs": [
        {
          "output_type": "stream",
          "name": "stdout",
          "text": [
            "I -PRON-\n",
            "am be\n",
            "a a\n",
            "runner runner\n",
            "and and\n",
            "loved love\n",
            "runners runner\n",
            ", ,\n",
            "so so\n",
            "i i\n",
            "think think\n",
            "running run\n",
            "is be\n",
            "awsome awsome\n",
            ", ,\n",
            "so so\n",
            "run run\n",
            "when when\n",
            "you -PRON-\n",
            "can can\n"
          ]
        }
      ]
    },
    {
      "cell_type": "code",
      "source": [
        "def show_lemmas(doc):\n",
        "  for token in doc:\n",
        "    print(f'{token.text:{12}} {token.pos_:{10}} {token.lemma:<{22}} {token.lemma_}')"
      ],
      "metadata": {
        "id": "v-zyi7nRkuwr"
      },
      "execution_count": 36,
      "outputs": []
    },
    {
      "cell_type": "code",
      "source": [
        "show_lemmas(doc1)"
      ],
      "metadata": {
        "colab": {
          "base_uri": "https://localhost:8080/"
        },
        "id": "XK5sGiGWlSOY",
        "outputId": "d53763b9-5350-4c19-c5f8-e06f763f9452"
      },
      "execution_count": 37,
      "outputs": [
        {
          "output_type": "stream",
          "name": "stdout",
          "text": [
            "I            PRON       561228191312463089     -PRON-\n",
            "am           AUX        10382539506755952630   be\n",
            "a            DET        11901859001352538922   a\n",
            "runner       NOUN       12640964157389618806   runner\n",
            "and          CCONJ      2283656566040971221    and\n",
            "loved        VERB       3702023516439754181    love\n",
            "runners      NOUN       12640964157389618806   runner\n",
            ",            PUNCT      2593208677638477497    ,\n",
            "so           CCONJ      9781598966686434415    so\n",
            "i            PRON       5097672513440128799    i\n",
            "think        VERB       16875814820671380748   think\n",
            "running      VERB       12767647472892411841   run\n",
            "is           AUX        10382539506755952630   be\n",
            "awsome       ADJ        3521391281120521496    awsome\n",
            ",            PUNCT      2593208677638477497    ,\n",
            "so           ADV        9781598966686434415    so\n",
            "run          VERB       12767647472892411841   run\n",
            "when         ADV        15807309897752499399   when\n",
            "you          PRON       561228191312463089     -PRON-\n",
            "can          VERB       6635067063807956629    can\n"
          ]
        }
      ]
    },
    {
      "cell_type": "markdown",
      "source": [
        "###Stop words"
      ],
      "metadata": {
        "id": "V5itf5_Xmc3E"
      }
    },
    {
      "cell_type": "code",
      "source": [
        "print(nlp.Defaults.stop_words)"
      ],
      "metadata": {
        "colab": {
          "base_uri": "https://localhost:8080/"
        },
        "id": "TnNES5sclTc_",
        "outputId": "736444d8-393e-4286-a148-12871b7f938e"
      },
      "execution_count": 38,
      "outputs": [
        {
          "output_type": "stream",
          "name": "stdout",
          "text": [
            "{'becomes', 'both', 'thus', 'he', 'thru', 'does', 'as', 'few', 'not', 'cannot', 'three', 'most', \"'m\", 'against', 'alone', 're', 'quite', 'yourselves', '‘s', 'therein', 'perhaps', 'via', 'wherein', 'anything', 'is', 'except', 'up', 'take', 'beside', 'keep', 'elsewhere', 'neither', 'might', 'under', 'else', 'me', 'some', 'became', 'wherever', 'more', 'n‘t', 'himself', 'none', 'get', 'whereafter', 'becoming', 'ever', \"n't\", 'together', 'forty', 'just', 'your', 'each', 'serious', 'itself', 'for', 'hence', '‘d', 'somewhere', 'eleven', 'above', 'too', 'his', 'sometime', 'beyond', 'seem', '‘re', 'next', \"'s\", 'seems', 'doing', 'ours', 'have', 'indeed', 'along', 'fifteen', 'those', 'the', 'almost', 'you', 'them', 'well', 'nowhere', 'using', 'nothing', 'mostly', 'anyone', 'herein', \"'ve\", 'did', 'must', 'already', 'and', 'hers', 'something', 'sixty', '’re', 'whatever', 'several', 'please', 'they', 'two', 'every', 'off', 'yet', 'others', 'since', 'really', 'whence', 'one', 'moreover', 'see', 'below', 'through', 'of', 'rather', 'again', 'would', 'or', 'around', 'even', 'however', 'by', 'per', 'latterly', 'we', '‘m', 'had', 'i', '’ll', 'where', 'hundred', 'yours', 'whom', 'become', 'may', 'an', 'at', 'same', 'thereupon', 'him', 'upon', 'fifty', 'someone', 'it', \"'ll\", 'unless', 'many', 'will', '’m', 'nor', 'other', 'any', 'another', 'onto', 'anywhere', 'make', 'my', \"'re\", 'also', 'during', 'namely', 'latter', 'their', 'top', 'least', 'hereby', 'about', 'besides', 'should', 'last', 'over', 'if', 'anyway', 'part', 'give', 'thence', 'was', 'never', 'there', 'first', '’s', 'whereas', 'which', 'nevertheless', 'only', 'mine', 'here', 'hereupon', 'are', 'ca', 'otherwise', 'whereupon', 'everything', \"'d\", 'name', 'why', 'afterwards', 'anyhow', 'due', 'show', 'were', 'than', 'whoever', 'four', 'ten', 'various', 'call', 'whither', 'front', 'n’t', 'go', 'could', 'whenever', 'less', 'our', 'with', 'behind', 'us', 'but', 'often', 'who', 'now', 'say', 'further', 'still', '’ve', 'what', 'therefore', 'noone', 'she', 'to', 'eight', 'used', 'former', 'its', 'empty', 'third', 'no', 'be', 'sometimes', 'done', 'while', 'down', 'much', 'being', 'once', 'into', 'when', 'that', 'before', 'until', 'amount', 'from', 'towards', 'move', 'this', 'bottom', '’d', 'full', '‘ve', 'myself', 'on', 'has', 'enough', 'thereby', 'nine', 'formerly', 'twelve', 'whether', 'throughout', 'whose', 'always', 'am', 'though', 'ourselves', 'side', 'meanwhile', 'amongst', 'regarding', 'whereby', 'whole', 'between', 'either', 'all', 'nobody', 'herself', 'hereafter', 'a', 'everyone', 'such', 'been', 'somehow', 'yourself', 'in', 'then', 'within', 'thereafter', 'own', 'five', 'after', 'although', 'everywhere', 'so', 'can', 'her', 'put', '‘ll', 'these', 'how', 'among', 'beforehand', 'seemed', 'toward', 'do', 'twenty', 'very', 'out', 'across', 'because', 'themselves', 'without', 'back', 'six', 'made', 'seeming'}\n"
          ]
        }
      ]
    },
    {
      "cell_type": "code",
      "source": [
        "len(nlp.Defaults.stop_words)"
      ],
      "metadata": {
        "colab": {
          "base_uri": "https://localhost:8080/"
        },
        "id": "kwwFt3y9mmWA",
        "outputId": "47d7727a-f2bd-4946-a6e3-f64bdf410222"
      },
      "execution_count": 39,
      "outputs": [
        {
          "output_type": "execute_result",
          "data": {
            "text/plain": [
              "326"
            ]
          },
          "metadata": {},
          "execution_count": 39
        }
      ]
    },
    {
      "cell_type": "code",
      "source": [
        "nlp.vocab['is'].is_stop"
      ],
      "metadata": {
        "colab": {
          "base_uri": "https://localhost:8080/"
        },
        "id": "CtvUqP5RmqsA",
        "outputId": "e8c311dd-9701-4ba9-aa9c-25f231532aaf"
      },
      "execution_count": 40,
      "outputs": [
        {
          "output_type": "execute_result",
          "data": {
            "text/plain": [
              "True"
            ]
          },
          "metadata": {},
          "execution_count": 40
        }
      ]
    },
    {
      "cell_type": "markdown",
      "source": [
        "######Add a Stop Word"
      ],
      "metadata": {
        "id": "vxT9WD-8nEqQ"
      }
    },
    {
      "cell_type": "code",
      "source": [
        "s_word = 'btw'\n",
        "nlp.Defaults.stop_words.add(s_word)\n",
        "nlp.vocab[s_word].is_stop = True"
      ],
      "metadata": {
        "id": "Jdg15_aTmu1M"
      },
      "execution_count": 41,
      "outputs": []
    },
    {
      "cell_type": "code",
      "source": [
        "nlp.vocab['btw'].is_stop"
      ],
      "metadata": {
        "colab": {
          "base_uri": "https://localhost:8080/"
        },
        "id": "iD-j8fIam71f",
        "outputId": "c7439f9d-d261-4d6b-b1f2-7d16763dcb2b"
      },
      "execution_count": 42,
      "outputs": [
        {
          "output_type": "execute_result",
          "data": {
            "text/plain": [
              "True"
            ]
          },
          "metadata": {},
          "execution_count": 42
        }
      ]
    },
    {
      "cell_type": "markdown",
      "source": [
        "######Remove a stop word"
      ],
      "metadata": {
        "id": "2EFBklO8nQ7g"
      }
    },
    {
      "cell_type": "code",
      "source": [
        "s_word = 'beyond'\n",
        "nlp.Defaults.stop_words.remove(s_word)\n",
        "nlp.vocab[s_word].is_stop = False"
      ],
      "metadata": {
        "id": "84vEJPttnNA5"
      },
      "execution_count": 43,
      "outputs": []
    },
    {
      "cell_type": "code",
      "source": [
        "nlp.vocab['beyond'].is_stop"
      ],
      "metadata": {
        "colab": {
          "base_uri": "https://localhost:8080/"
        },
        "id": "BAmdQxiBnjgy",
        "outputId": "c7df28b0-1ef4-40a1-ca30-1c8a25e05174"
      },
      "execution_count": 44,
      "outputs": [
        {
          "output_type": "execute_result",
          "data": {
            "text/plain": [
              "False"
            ]
          },
          "metadata": {},
          "execution_count": 44
        }
      ]
    },
    {
      "cell_type": "markdown",
      "source": [
        "######Matching and Vocabulary"
      ],
      "metadata": {
        "id": "pYmWaUhRo518"
      }
    },
    {
      "cell_type": "code",
      "source": [
        "matcher = spacy.matcher.Matcher(nlp.vocab)"
      ],
      "metadata": {
        "id": "hKkDOqGdnosC"
      },
      "execution_count": 45,
      "outputs": []
    },
    {
      "cell_type": "code",
      "source": [
        "#solarpower\n",
        "pattern1 = [{'LOWER': 'solarpower'}]\n",
        "# solar-power\n",
        "pattern2 = [{'LOWER': 'solar'}, {'IS_PUNCT': True}, {'LOWER': 'power'}]\n",
        "# solar power\n",
        "pattern3 = [{'LOWER': 'solar'}, {'LOWER': 'power'}]"
      ],
      "metadata": {
        "id": "z_64I1FmpK4o"
      },
      "execution_count": 46,
      "outputs": []
    },
    {
      "cell_type": "code",
      "source": [
        "matcher.add('SolarPower', None, pattern1, pattern2, pattern3)"
      ],
      "metadata": {
        "id": "tSc8s1Kkpw-9"
      },
      "execution_count": 47,
      "outputs": []
    },
    {
      "cell_type": "code",
      "source": [
        "doc = nlp(u'The Solar Power industry uses solarpower, so Solar-Power is amazing')"
      ],
      "metadata": {
        "id": "7ipjcOgaqJ57"
      },
      "execution_count": 48,
      "outputs": []
    },
    {
      "cell_type": "code",
      "source": [
        "matches = matcher(doc)"
      ],
      "metadata": {
        "id": "WOr4tKf3qeFp"
      },
      "execution_count": 49,
      "outputs": []
    },
    {
      "cell_type": "code",
      "source": [
        "matches"
      ],
      "metadata": {
        "colab": {
          "base_uri": "https://localhost:8080/"
        },
        "id": "i1KCRZ39qjgA",
        "outputId": "03637cca-6bd8-4dd8-b438-63835cf3b1df"
      },
      "execution_count": 50,
      "outputs": [
        {
          "output_type": "execute_result",
          "data": {
            "text/plain": [
              "[(8656102463236116519, 1, 3),\n",
              " (8656102463236116519, 5, 6),\n",
              " (8656102463236116519, 8, 11)]"
            ]
          },
          "metadata": {},
          "execution_count": 50
        }
      ]
    },
    {
      "cell_type": "code",
      "source": [
        "for id, start, end in matches:\n",
        "  print(id, nlp.vocab.strings[id], doc[start: end].text)"
      ],
      "metadata": {
        "colab": {
          "base_uri": "https://localhost:8080/"
        },
        "id": "IJPcGzvvqkUs",
        "outputId": "0f197fc0-010b-412b-c793-5a86b7819731"
      },
      "execution_count": 51,
      "outputs": [
        {
          "output_type": "stream",
          "name": "stdout",
          "text": [
            "8656102463236116519 SolarPower Solar Power\n",
            "8656102463236116519 SolarPower solarpower\n",
            "8656102463236116519 SolarPower Solar-Power\n"
          ]
        }
      ]
    },
    {
      "cell_type": "code",
      "source": [
        "matcher.remove('SolarPower')"
      ],
      "metadata": {
        "id": "acZR-4qft3HE"
      },
      "execution_count": 52,
      "outputs": []
    },
    {
      "cell_type": "code",
      "source": [
        "pattern1 = [{'LOWER': 'solarpower'}]\n",
        "pattern2 = [{'LOWER': 'solar'}, {'IS_PUNCT': True, 'OP': '*'}, {'LOWER': 'power'}]"
      ],
      "metadata": {
        "id": "vUvYqcd-uVSo"
      },
      "execution_count": 53,
      "outputs": []
    },
    {
      "cell_type": "code",
      "source": [
        "matcher.add('SolarPower', None, pattern1, pattern2)"
      ],
      "metadata": {
        "id": "It2mDHaeukrx"
      },
      "execution_count": 54,
      "outputs": []
    },
    {
      "cell_type": "code",
      "source": [
        "doc2 = nlp(u'Solar----Power is Solar POWER')"
      ],
      "metadata": {
        "id": "NGZUSCFNuqD0"
      },
      "execution_count": 55,
      "outputs": []
    },
    {
      "cell_type": "code",
      "source": [
        "matcher(doc2)"
      ],
      "metadata": {
        "colab": {
          "base_uri": "https://localhost:8080/"
        },
        "id": "ip1gAgO6u7JR",
        "outputId": "b7a5cc78-35ea-42c8-c25b-ba90e6af1e42"
      },
      "execution_count": 56,
      "outputs": [
        {
          "output_type": "execute_result",
          "data": {
            "text/plain": [
              "[(8656102463236116519, 2, 4)]"
            ]
          },
          "metadata": {},
          "execution_count": 56
        }
      ]
    },
    {
      "cell_type": "code",
      "source": [
        "doc2 = nlp(u'Solar---Power is Solar POWER')"
      ],
      "metadata": {
        "id": "1gEBHvfmu8xi"
      },
      "execution_count": 57,
      "outputs": []
    },
    {
      "cell_type": "code",
      "source": [
        "matcher(doc2)"
      ],
      "metadata": {
        "colab": {
          "base_uri": "https://localhost:8080/"
        },
        "id": "W3DX0bJsvaRg",
        "outputId": "76a9aa23-946e-42dc-b893-1f714c97f55e"
      },
      "execution_count": 58,
      "outputs": [
        {
          "output_type": "execute_result",
          "data": {
            "text/plain": [
              "[(8656102463236116519, 0, 3), (8656102463236116519, 4, 6)]"
            ]
          },
          "metadata": {},
          "execution_count": 58
        }
      ]
    },
    {
      "cell_type": "code",
      "source": [
        "p_matcher = spacy.matcher.PhraseMatcher(nlp.vocab)"
      ],
      "metadata": {
        "id": "kQgT-rU6vadY"
      },
      "execution_count": 59,
      "outputs": []
    },
    {
      "cell_type": "code",
      "source": [
        "phrase_list = ['voodoo economics', 'supply-side economics', 'trikle-down economics']"
      ],
      "metadata": {
        "id": "GiIcNY5gvvf-"
      },
      "execution_count": 60,
      "outputs": []
    },
    {
      "cell_type": "code",
      "source": [
        "phrase_patterns = [nlp(phrase) for phrase in phrase_list]"
      ],
      "metadata": {
        "id": "hqbZkpGZwNp4"
      },
      "execution_count": 61,
      "outputs": []
    },
    {
      "cell_type": "code",
      "source": [
        "type(phrase_patterns[0])"
      ],
      "metadata": {
        "colab": {
          "base_uri": "https://localhost:8080/"
        },
        "id": "PqDbyAjSwlPs",
        "outputId": "fbca8ac1-a10b-49bc-da9a-af3702a5405b"
      },
      "execution_count": 62,
      "outputs": [
        {
          "output_type": "execute_result",
          "data": {
            "text/plain": [
              "spacy.tokens.doc.Doc"
            ]
          },
          "metadata": {},
          "execution_count": 62
        }
      ]
    },
    {
      "cell_type": "code",
      "source": [
        "p_matcher.add('EcobMatcher', None, *phrase_patterns)"
      ],
      "metadata": {
        "id": "-XlR1nVHwpov"
      },
      "execution_count": 63,
      "outputs": []
    },
    {
      "cell_type": "code",
      "source": [
        "temp = nlp('hey voodoo economics, got to supply-side economics, say trikle-down economics')\n",
        "p_matches = p_matcher(temp)"
      ],
      "metadata": {
        "id": "Av_yf2vHwx4E"
      },
      "execution_count": 64,
      "outputs": []
    },
    {
      "cell_type": "code",
      "source": [
        "p_matches"
      ],
      "metadata": {
        "colab": {
          "base_uri": "https://localhost:8080/"
        },
        "id": "LS2_pqrp9yZa",
        "outputId": "0a916022-a9fd-47af-cafa-7e32f62bd9b4"
      },
      "execution_count": 65,
      "outputs": [
        {
          "output_type": "execute_result",
          "data": {
            "text/plain": [
              "[(8838797697251217482, 1, 3),\n",
              " (8838797697251217482, 6, 10),\n",
              " (8838797697251217482, 12, 16)]"
            ]
          },
          "metadata": {},
          "execution_count": 65
        }
      ]
    },
    {
      "cell_type": "code",
      "source": [
        "for id, start, end in p_matches:\n",
        "  print(id, nlp.vocab.strings[id], temp[start: end].text)"
      ],
      "metadata": {
        "colab": {
          "base_uri": "https://localhost:8080/"
        },
        "id": "GUO86cvA_gO6",
        "outputId": "2b696e1a-9c48-4b92-a828-43a873e4cecb"
      },
      "execution_count": 66,
      "outputs": [
        {
          "output_type": "stream",
          "name": "stdout",
          "text": [
            "8838797697251217482 EcobMatcher voodoo economics\n",
            "8838797697251217482 EcobMatcher supply-side economics\n",
            "8838797697251217482 EcobMatcher trikle-down economics\n"
          ]
        }
      ]
    },
    {
      "cell_type": "code",
      "source": [
        "doc12 = nlp(u'a runner is a person that runs, especially in a specified way')"
      ],
      "metadata": {
        "id": "fNql3PBjAUNU"
      },
      "execution_count": 67,
      "outputs": []
    },
    {
      "cell_type": "code",
      "source": [
        "for token in doc12:\n",
        "  print(token.text)"
      ],
      "metadata": {
        "colab": {
          "base_uri": "https://localhost:8080/"
        },
        "id": "bsLGktbSCYWw",
        "outputId": "60788e55-aef7-42f3-b0e4-4dbf03d406fb"
      },
      "execution_count": 68,
      "outputs": [
        {
          "output_type": "stream",
          "name": "stdout",
          "text": [
            "a\n",
            "runner\n",
            "is\n",
            "a\n",
            "person\n",
            "that\n",
            "runs\n",
            ",\n",
            "especially\n",
            "in\n",
            "a\n",
            "specified\n",
            "way\n"
          ]
        }
      ]
    },
    {
      "cell_type": "code",
      "source": [
        "for token in doc12:\n",
        "  print(token.text, token.pos_)"
      ],
      "metadata": {
        "colab": {
          "base_uri": "https://localhost:8080/"
        },
        "id": "UGeC2TA4Cza_",
        "outputId": "1dd396e9-45e9-4802-94d5-a3dc5aedd8b7"
      },
      "execution_count": 69,
      "outputs": [
        {
          "output_type": "stream",
          "name": "stdout",
          "text": [
            "a DET\n",
            "runner NOUN\n",
            "is AUX\n",
            "a DET\n",
            "person NOUN\n",
            "that DET\n",
            "runs VERB\n",
            ", PUNCT\n",
            "especially ADV\n",
            "in ADP\n",
            "a DET\n",
            "specified VERB\n",
            "way NOUN\n"
          ]
        }
      ]
    },
    {
      "cell_type": "code",
      "source": [
        "for token in doc12:\n",
        "  print(token.text, token.lemma, token.lemma_)"
      ],
      "metadata": {
        "colab": {
          "base_uri": "https://localhost:8080/"
        },
        "id": "VHnycXwlDvPI",
        "outputId": "749c480d-265f-413b-d132-d0e83bc3cc7c"
      },
      "execution_count": 70,
      "outputs": [
        {
          "output_type": "stream",
          "name": "stdout",
          "text": [
            "a 11901859001352538922 a\n",
            "runner 12640964157389618806 runner\n",
            "is 10382539506755952630 be\n",
            "a 11901859001352538922 a\n",
            "person 14800503047316267216 person\n",
            "that 4380130941430378203 that\n",
            "runs 12767647472892411841 run\n",
            ", 2593208677638477497 ,\n",
            "especially 13751905263548122051 especially\n",
            "in 3002984154512732771 in\n",
            "a 11901859001352538922 a\n",
            "specified 5918416916626768037 specify\n",
            "way 6878210874361030284 way\n"
          ]
        }
      ]
    },
    {
      "cell_type": "code",
      "source": [
        "for token in doc12:\n",
        "  print(token.text, token.lemma_)"
      ],
      "metadata": {
        "colab": {
          "base_uri": "https://localhost:8080/"
        },
        "id": "GSvZ_KwHD726",
        "outputId": "be7949fd-6bb5-4a7e-dd52-699eb992338f"
      },
      "execution_count": 71,
      "outputs": [
        {
          "output_type": "stream",
          "name": "stdout",
          "text": [
            "a a\n",
            "runner runner\n",
            "is be\n",
            "a a\n",
            "person person\n",
            "that that\n",
            "runs run\n",
            ", ,\n",
            "especially especially\n",
            "in in\n",
            "a a\n",
            "specified specify\n",
            "way way\n"
          ]
        }
      ]
    },
    {
      "cell_type": "code",
      "source": [
        "pattern12 = [{'runner': 'RUNNER'}]"
      ],
      "metadata": {
        "id": "tfSFZe81E8sW"
      },
      "execution_count": 72,
      "outputs": []
    },
    {
      "cell_type": "code",
      "source": [
        "print(nlp.Defaults.stop_words)"
      ],
      "metadata": {
        "colab": {
          "base_uri": "https://localhost:8080/"
        },
        "id": "JpnyhI0TE50p",
        "outputId": "a4c7f2c3-619e-4833-bb98-cf6e8511ecf3"
      },
      "execution_count": 73,
      "outputs": [
        {
          "output_type": "stream",
          "name": "stdout",
          "text": [
            "{'becomes', 'both', 'thus', 'he', 'thru', 'does', 'as', 'few', 'not', 'cannot', 'three', 'most', \"'m\", 'against', 'alone', 're', 'quite', 'yourselves', '‘s', 'therein', 'perhaps', 'via', 'wherein', 'anything', 'is', 'except', 'up', 'take', 'beside', 'keep', 'elsewhere', 'neither', 'might', 'under', 'else', 'me', 'some', 'became', 'wherever', 'more', 'n‘t', 'himself', 'none', 'get', 'whereafter', 'becoming', 'ever', \"n't\", 'together', 'forty', 'just', 'your', 'each', 'serious', 'itself', 'for', 'hence', '‘d', 'somewhere', 'eleven', 'above', 'too', 'his', 'sometime', 'seem', '‘re', 'next', \"'s\", 'seems', 'doing', 'ours', 'have', 'indeed', 'along', 'fifteen', 'those', 'the', 'almost', 'you', 'them', 'well', 'nowhere', 'using', 'nothing', 'mostly', 'anyone', 'herein', \"'ve\", 'did', 'must', 'already', 'and', 'hers', 'something', 'sixty', '’re', 'whatever', 'several', 'please', 'they', 'two', 'every', 'off', 'yet', 'others', 'since', 'really', 'whence', 'one', 'moreover', 'see', 'below', 'through', 'of', 'rather', 'again', 'would', 'or', 'around', 'even', 'however', 'by', 'per', 'latterly', 'we', '‘m', 'had', 'i', '’ll', 'where', 'hundred', 'yours', 'whom', 'become', 'may', 'an', 'at', 'same', 'thereupon', 'him', 'upon', 'fifty', 'someone', 'it', \"'ll\", 'unless', 'many', 'will', '’m', 'nor', 'other', 'any', 'another', 'onto', 'anywhere', 'make', 'my', \"'re\", 'also', 'during', 'namely', 'latter', 'their', 'top', 'least', 'hereby', 'about', 'besides', 'should', 'last', 'over', 'if', 'anyway', 'part', 'give', 'thence', 'was', 'never', 'there', 'first', '’s', 'whereas', 'which', 'nevertheless', 'only', 'mine', 'here', 'hereupon', 'are', 'ca', 'otherwise', 'whereupon', 'everything', \"'d\", 'name', 'why', 'afterwards', 'anyhow', 'due', 'show', 'were', 'than', 'whoever', 'four', 'ten', 'various', 'call', 'whither', 'front', 'n’t', 'go', 'could', 'whenever', 'less', 'our', 'with', 'behind', 'us', 'but', 'often', 'who', 'now', 'say', 'further', 'still', '’ve', 'what', 'therefore', 'noone', 'she', 'to', 'eight', 'used', 'former', 'its', 'empty', 'third', 'no', 'be', 'sometimes', 'done', 'while', 'down', 'much', 'being', 'once', 'into', 'when', 'that', 'before', 'until', 'amount', 'from', 'towards', 'move', 'this', 'btw', 'bottom', '’d', 'full', '‘ve', 'myself', 'on', 'has', 'enough', 'thereby', 'nine', 'formerly', 'twelve', 'whether', 'throughout', 'whose', 'always', 'am', 'though', 'ourselves', 'side', 'meanwhile', 'amongst', 'regarding', 'whereby', 'whole', 'between', 'either', 'all', 'nobody', 'herself', 'hereafter', 'a', 'everyone', 'such', 'been', 'somehow', 'yourself', 'in', 'then', 'within', 'thereafter', 'own', 'five', 'after', 'although', 'everywhere', 'so', 'can', 'her', 'put', '‘ll', 'these', 'how', 'among', 'beforehand', 'seemed', 'toward', 'do', 'twenty', 'very', 'out', 'across', 'because', 'themselves', 'without', 'back', 'six', 'made', 'seeming'}\n"
          ]
        }
      ]
    },
    {
      "cell_type": "code",
      "source": [
        "list(nlp.Defaults.stop_words)[:20]"
      ],
      "metadata": {
        "colab": {
          "base_uri": "https://localhost:8080/"
        },
        "id": "QIYPWT2YEAGW",
        "outputId": "f9efcbc8-69a2-486d-ccab-c19535f951ef"
      },
      "execution_count": 74,
      "outputs": [
        {
          "output_type": "execute_result",
          "data": {
            "text/plain": [
              "['becomes',\n",
              " 'both',\n",
              " 'thus',\n",
              " 'he',\n",
              " 'thru',\n",
              " 'does',\n",
              " 'as',\n",
              " 'few',\n",
              " 'not',\n",
              " 'cannot',\n",
              " 'three',\n",
              " 'most',\n",
              " \"'m\",\n",
              " 'against',\n",
              " 'alone',\n",
              " 're',\n",
              " 'quite',\n",
              " 'yourselves',\n",
              " '‘s',\n",
              " 'therein']"
            ]
          },
          "metadata": {},
          "execution_count": 74
        }
      ]
    },
    {
      "cell_type": "code",
      "source": [
        "for word in list(nlp.Defaults.stop_words):\n",
        "  if word.startswith('f'):\n",
        "    print(word)"
      ],
      "metadata": {
        "colab": {
          "base_uri": "https://localhost:8080/"
        },
        "id": "kXIJJe6gGJ8b",
        "outputId": "3826be18-9e48-4bb8-beab-19fd2a9ac0a9"
      },
      "execution_count": 75,
      "outputs": [
        {
          "output_type": "stream",
          "name": "stdout",
          "text": [
            "few\n",
            "forty\n",
            "for\n",
            "fifteen\n",
            "fifty\n",
            "first\n",
            "four\n",
            "front\n",
            "further\n",
            "former\n",
            "from\n",
            "full\n",
            "formerly\n",
            "five\n"
          ]
        }
      ]
    },
    {
      "cell_type": "code",
      "source": [
        "for word in list(nlp.Defaults.stop_words):\n",
        "  if word.startswith('z'):\n",
        "    print(word)"
      ],
      "metadata": {
        "id": "Mhm1AtboJhi6"
      },
      "execution_count": 76,
      "outputs": []
    },
    {
      "cell_type": "code",
      "source": [
        "stop_words_count = {}\n",
        "for word in list(nlp.Defaults.stop_words):\n",
        "  starting_letter = word[0]\n",
        "  if not stop_words_count.get(starting_letter):\n",
        "    stop_words_count[starting_letter] = []\n",
        "\n",
        "  stop_words_count[starting_letter].append(word)"
      ],
      "metadata": {
        "id": "M5FirPaDJ6tP"
      },
      "execution_count": 77,
      "outputs": []
    },
    {
      "cell_type": "code",
      "source": [
        "import pandas as pd\n",
        "stop_words_count_df = pd.DataFrame(stop_words_count.values(),stop_words_count.keys())"
      ],
      "metadata": {
        "id": "i9-J4boOL8pR"
      },
      "execution_count": 78,
      "outputs": []
    },
    {
      "cell_type": "code",
      "source": [
        "stop_words_count_df.fillna(0, inplace=True)"
      ],
      "metadata": {
        "id": "RUCyhXNqNEhn"
      },
      "execution_count": 79,
      "outputs": []
    },
    {
      "cell_type": "code",
      "source": [
        "for row in range(len(stop_words_count_df)):\n",
        "  count = 0\n",
        "  for i in stop_words_count_df.iloc[row]:\n",
        "    if i != 0:\n",
        "      count += 1\n",
        "  print(row, count)"
      ],
      "metadata": {
        "colab": {
          "base_uri": "https://localhost:8080/"
        },
        "id": "97cywKV8L9r9",
        "outputId": "de4f4f59-2433-4e94-b99b-a5f7bb9d17b7"
      },
      "execution_count": 80,
      "outputs": [
        {
          "output_type": "stream",
          "name": "stdout",
          "text": [
            "0 21\n",
            "1 36\n",
            "2 19\n",
            "3 8\n",
            "4 33\n",
            "5 14\n",
            "6 19\n",
            "7 5\n",
            "8 17\n",
            "9 6\n",
            "10 4\n",
            "11 1\n",
            "12 6\n",
            "13 6\n",
            "14 5\n",
            "15 3\n",
            "16 31\n",
            "17 9\n",
            "18 15\n",
            "19 8\n",
            "20 1\n",
            "21 26\n",
            "22 3\n",
            "23 1\n",
            "24 18\n",
            "25 6\n",
            "26 5\n"
          ]
        }
      ]
    },
    {
      "cell_type": "code",
      "source": [
        ""
      ],
      "metadata": {
        "id": "VZg4yh_JOV6G"
      },
      "execution_count": 80,
      "outputs": []
    },
    {
      "cell_type": "code",
      "source": [
        ""
      ],
      "metadata": {
        "id": "taAfb7FGOxBx"
      },
      "execution_count": 80,
      "outputs": []
    }
  ]
}