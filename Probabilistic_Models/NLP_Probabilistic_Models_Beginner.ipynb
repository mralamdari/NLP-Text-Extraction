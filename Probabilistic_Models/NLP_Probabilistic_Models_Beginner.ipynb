{
  "nbformat": 4,
  "nbformat_minor": 0,
  "metadata": {
    "colab": {
      "name": "NLP-Probabilistic-Models-Beginner.ipynb",
      "provenance": [],
      "authorship_tag": "ABX9TyMnBxGaw8liDGI7IjM1pt69",
      "include_colab_link": true
    },
    "kernelspec": {
      "name": "python3",
      "display_name": "Python 3"
    },
    "language_info": {
      "name": "python"
    }
  },
  "cells": [
    {
      "cell_type": "markdown",
      "metadata": {
        "id": "view-in-github",
        "colab_type": "text"
      },
      "source": [
        "<a href=\"https://colab.research.google.com/github/mralamdari/NLP-Probabilistic-Models/blob/main/NLP_Probabilistic_Models_Beginner.ipynb\" target=\"_parent\"><img src=\"https://colab.research.google.com/assets/colab-badge.svg\" alt=\"Open In Colab\"/></a>"
      ]
    },
    {
      "cell_type": "markdown",
      "source": [
        "#Auto Connect"
      ],
      "metadata": {
        "id": "q7VTcZgEuo2x"
      }
    },
    {
      "cell_type": "code",
      "execution_count": null,
      "metadata": {
        "id": "kELPHp_Muj9e"
      },
      "outputs": [],
      "source": [
        "import os\n",
        "import re\n",
        "import collections\n",
        "import numpy as np\n",
        "import pandas as pd"
      ]
    },
    {
      "cell_type": "code",
      "source": [
        "!wget https://raw.githubusercontent.com/amanjeetsahu/Natural-Language-Processing-Specialization/master/Natural%20Language%20Processing%20with%20Probabilistic%20Models/Week%201/shakespeare.txt"
      ],
      "metadata": {
        "id": "wT4qt7lTTnDm"
      },
      "execution_count": null,
      "outputs": []
    },
    {
      "cell_type": "code",
      "source": [
        "def process_data(path):\n",
        "  with open(path, 'r') as f:\n",
        "    data = f.read().lower()\n",
        "  data = re.findall('\\w+',data)  # [a-zA-Z0-9_]\n",
        "  return data"
      ],
      "metadata": {
        "id": "8CeZTinnTuoU"
      },
      "execution_count": null,
      "outputs": []
    },
    {
      "cell_type": "code",
      "source": [
        "path = '/content/shakespeare.txt'\n",
        "word_list = process_data(path)\n",
        "vocab = set(word_list)  # this will be your new vocabulary\n",
        "print(word_list[0:12])"
      ],
      "metadata": {
        "colab": {
          "base_uri": "https://localhost:8080/"
        },
        "id": "yZnpyasfTbJh",
        "outputId": "d26c1248-a277-49e4-81ee-3ae1e6c73949"
      },
      "execution_count": null,
      "outputs": [
        {
          "output_type": "stream",
          "name": "stdout",
          "text": [
            "['o', 'for', 'a', 'muse', 'of', 'fire', 'that', 'would', 'ascend', 'the', 'brightest', 'heaven']\n"
          ]
        }
      ]
    },
    {
      "cell_type": "code",
      "source": [
        "print(len(vocab))"
      ],
      "metadata": {
        "colab": {
          "base_uri": "https://localhost:8080/"
        },
        "id": "znLBR1p5UPZK",
        "outputId": "caa92030-f0b9-42ed-9e24-77ab8f79087b"
      },
      "execution_count": null,
      "outputs": [
        {
          "output_type": "stream",
          "name": "stdout",
          "text": [
            "6116\n"
          ]
        }
      ]
    },
    {
      "cell_type": "code",
      "source": [
        "def frequency_table(word_list):\n",
        "  return collections.Counter(word_list)"
      ],
      "metadata": {
        "id": "Hz6aeZstW5XG"
      },
      "execution_count": null,
      "outputs": []
    },
    {
      "cell_type": "code",
      "source": [
        "freq_dict = frequency_table(word_list)"
      ],
      "metadata": {
        "id": "PVEIE1wyXfor"
      },
      "execution_count": null,
      "outputs": []
    },
    {
      "cell_type": "code",
      "source": [
        "freq_dict"
      ],
      "metadata": {
        "id": "kkxsC8_FXiUd"
      },
      "execution_count": null,
      "outputs": []
    },
    {
      "cell_type": "code",
      "source": [
        "def probability_table(freq_dict):\n",
        "  for key, value in freq_dict.items():\n",
        "    freq_dict[key] = value / sum(freq_dict.values())\n",
        "  return freq_dict"
      ],
      "metadata": {
        "id": "A4EmfYJ6X1cB"
      },
      "execution_count": null,
      "outputs": []
    },
    {
      "cell_type": "code",
      "source": [
        "prob_dict = probability_table(freq_dict)"
      ],
      "metadata": {
        "id": "m3EIGqkSYR2u"
      },
      "execution_count": null,
      "outputs": []
    },
    {
      "cell_type": "code",
      "source": [
        "prob_dict"
      ],
      "metadata": {
        "id": "NbWXCBXMZGpa"
      },
      "execution_count": null,
      "outputs": []
    },
    {
      "cell_type": "markdown",
      "source": [
        "#String Manipulations"
      ],
      "metadata": {
        "id": "Yl_JOXS3hMVq"
      }
    },
    {
      "cell_type": "code",
      "source": [
        "def edit_delete(word):\n",
        "  split_list = []\n",
        "  delete_list = []\n",
        "  len_word = len(word)+1\n",
        "  for i in range(len_word):\n",
        "    part_1 = word[:i]\n",
        "    part_2 = word[i:]\n",
        "    split_list.append((part_1, part_2))\n",
        "    one_deleted = ''.join([word[:i], word[i+1:]])\n",
        "    delete_list.append(one_deleted)\n",
        "  return split_list, delete_list"
      ],
      "metadata": {
        "id": "m25dHyjGZIsO"
      },
      "execution_count": null,
      "outputs": []
    },
    {
      "cell_type": "code",
      "source": [
        "split_list, delete_list = edit_delete('cans')"
      ],
      "metadata": {
        "id": "6_zu-C9Eh4yY"
      },
      "execution_count": null,
      "outputs": []
    },
    {
      "cell_type": "code",
      "source": [
        "split_list"
      ],
      "metadata": {
        "colab": {
          "base_uri": "https://localhost:8080/"
        },
        "id": "1P-JdirZiY8B",
        "outputId": "91af3035-6442-4715-8ab4-890e5416d61b"
      },
      "execution_count": null,
      "outputs": [
        {
          "output_type": "execute_result",
          "data": {
            "text/plain": [
              "[('', 'cans'), ('c', 'ans'), ('ca', 'ns'), ('can', 's'), ('cans', '')]"
            ]
          },
          "metadata": {},
          "execution_count": 14
        }
      ]
    },
    {
      "cell_type": "code",
      "source": [
        "delete_list"
      ],
      "metadata": {
        "colab": {
          "base_uri": "https://localhost:8080/"
        },
        "id": "SeJX-kmpjLJ6",
        "outputId": "1103162d-b002-401e-c74c-59d96f8846fb"
      },
      "execution_count": null,
      "outputs": [
        {
          "output_type": "execute_result",
          "data": {
            "text/plain": [
              "['ans', 'cns', 'cas', 'can', 'cans']"
            ]
          },
          "metadata": {},
          "execution_count": 15
        }
      ]
    },
    {
      "cell_type": "code",
      "source": [
        "def edit_switch(word):\n",
        "  split_list = []\n",
        "  switch_list = []\n",
        "  len_word = len(word)+1\n",
        "  for i in range(len_word):\n",
        "    \n",
        "    part_1 = word[:i]\n",
        "    part_2 = word[i:]\n",
        "    split_list.append((part_1, part_2))\n",
        "\n",
        "    if i < len_word-2:\n",
        "      one_switchd = ''.join([word[:i] , word[i+1], word[i], word[i+2:]])\n",
        "      switch_list.append(one_switchd)\n",
        "  return split_list, switch_list"
      ],
      "metadata": {
        "id": "pXQktzhdju2g"
      },
      "execution_count": null,
      "outputs": []
    },
    {
      "cell_type": "code",
      "source": [
        "split_list, switch_list = edit_switch('eta')"
      ],
      "metadata": {
        "id": "WKC-g8lkm20l"
      },
      "execution_count": null,
      "outputs": []
    },
    {
      "cell_type": "code",
      "source": [
        "split_list"
      ],
      "metadata": {
        "colab": {
          "base_uri": "https://localhost:8080/"
        },
        "id": "YI1VxuEGm8Di",
        "outputId": "1a6eebdc-c208-4bcd-85b6-e010ca1a0969"
      },
      "execution_count": null,
      "outputs": [
        {
          "output_type": "execute_result",
          "data": {
            "text/plain": [
              "[('', 'eta'), ('e', 'ta'), ('et', 'a'), ('eta', '')]"
            ]
          },
          "metadata": {},
          "execution_count": 18
        }
      ]
    },
    {
      "cell_type": "code",
      "source": [
        "switch_list"
      ],
      "metadata": {
        "colab": {
          "base_uri": "https://localhost:8080/"
        },
        "id": "7OTP5qT2m5hn",
        "outputId": "8c74a420-8c4f-41a1-b135-42b155034024"
      },
      "execution_count": null,
      "outputs": [
        {
          "output_type": "execute_result",
          "data": {
            "text/plain": [
              "['tea', 'eat']"
            ]
          },
          "metadata": {},
          "execution_count": 19
        }
      ]
    },
    {
      "cell_type": "code",
      "source": [
        "def edit_replace(word):\n",
        "  split_list = []\n",
        "  replace_list = []\n",
        "  len_word = len(word)\n",
        "  for i in range(len_word):\n",
        "    part_1 = word[:i]\n",
        "    part_2 = word[i:]\n",
        "    split_list.append((part_1, part_2))\n",
        "\n",
        "    chars = 'abcdefghijklmnopqrstuvwxyz'\n",
        "    for c in chars:\n",
        "      one_replaced = word.replace(word[i], c)\n",
        "      replace_list.append(one_replaced)\n",
        "  return split_list, sorted(list(set(replace_list)))"
      ],
      "metadata": {
        "id": "b2SoHXDHm6oe"
      },
      "execution_count": null,
      "outputs": []
    },
    {
      "cell_type": "code",
      "source": [
        "split_list, switch_list = edit_replace('can')"
      ],
      "metadata": {
        "id": "5kCC-rjztMfY"
      },
      "execution_count": null,
      "outputs": []
    },
    {
      "cell_type": "code",
      "source": [
        "split_list"
      ],
      "metadata": {
        "colab": {
          "base_uri": "https://localhost:8080/"
        },
        "id": "RKEuaA57tM1R",
        "outputId": "6e60033c-b31b-4e4b-a99c-d012d626ca23"
      },
      "execution_count": null,
      "outputs": [
        {
          "output_type": "execute_result",
          "data": {
            "text/plain": [
              "[('', 'can'), ('c', 'an'), ('ca', 'n')]"
            ]
          },
          "metadata": {},
          "execution_count": 22
        }
      ]
    },
    {
      "cell_type": "code",
      "source": [
        "switch_list"
      ],
      "metadata": {
        "id": "CCGY4heStN89"
      },
      "execution_count": null,
      "outputs": []
    },
    {
      "cell_type": "code",
      "source": [
        "def edit_insert(word):\n",
        "  split_list = []\n",
        "  insert_list = []\n",
        "  len_word = len(word)+1\n",
        "  for i in range(len_word):\n",
        "    part_1 = word[:i]\n",
        "    part_2 = word[i:]\n",
        "    split_list.append((part_1, part_2))\n",
        "\n",
        "    chars = 'abcdefghijklmnopqrstuvwxyz'\n",
        "    for c in chars:\n",
        "      one_inserted = ''.join([part_1, c, part_2])\n",
        "      insert_list.append(one_inserted)\n",
        "  return split_list, insert_list"
      ],
      "metadata": {
        "id": "htRfKHsttPZ5"
      },
      "execution_count": null,
      "outputs": []
    },
    {
      "cell_type": "code",
      "source": [
        "split_list, switch_list = edit_insert('at')"
      ],
      "metadata": {
        "id": "DI3Ewq1culX2"
      },
      "execution_count": null,
      "outputs": []
    },
    {
      "cell_type": "code",
      "source": [
        "split_list"
      ],
      "metadata": {
        "colab": {
          "base_uri": "https://localhost:8080/"
        },
        "id": "F2xoJRHaumDV",
        "outputId": "4de1cf9b-b9f0-4d45-c5a1-692ec4293098"
      },
      "execution_count": null,
      "outputs": [
        {
          "output_type": "execute_result",
          "data": {
            "text/plain": [
              "[('', 'at'), ('a', 't'), ('at', '')]"
            ]
          },
          "metadata": {},
          "execution_count": 26
        }
      ]
    },
    {
      "cell_type": "code",
      "source": [
        "switch_list"
      ],
      "metadata": {
        "id": "tEV7JWBxumPp"
      },
      "execution_count": null,
      "outputs": []
    },
    {
      "cell_type": "code",
      "source": [
        "def edit_letters(word,  allow_switches=True):\n",
        "\n",
        "  edited_word = set()\n",
        "\n",
        "  edited_word.update(edit_delete(word)[1])\n",
        "  if allow_switches:\n",
        "    edited_word.update(edit_switch(word)[1])\n",
        "  edited_word.update(edit_replace(word)[1])\n",
        "  edited_word.update(edit_insert(word)[1])\n",
        "\n",
        "  return edited_word"
      ],
      "metadata": {
        "id": "tD2PIU3BLGuA"
      },
      "execution_count": null,
      "outputs": []
    },
    {
      "cell_type": "code",
      "source": [
        "def edit_2_letters(word, allow_switches=True):\n",
        "  \n",
        "  seconed_edited_word = set()\n",
        "\n",
        "  first_edited = edit_letters(word, allow_switches=True)\n",
        "  for w in first_edited:\n",
        "    if w:\n",
        "      next_edited = edit_letters(w, allow_switches)\n",
        "      seconed_edited_word.update(next_edited)\n",
        "\n",
        "  return seconed_edited_word"
      ],
      "metadata": {
        "id": "xBpLGeChKrRT"
      },
      "execution_count": null,
      "outputs": []
    },
    {
      "cell_type": "code",
      "source": [
        "edit_letters = edit_2_letters('at')\n",
        "len(edit_letters)"
      ],
      "metadata": {
        "colab": {
          "base_uri": "https://localhost:8080/"
        },
        "id": "4eagwW7pJmAi",
        "outputId": "7d663483-ad2c-4bb8-b6e0-2dcbbe30ef95"
      },
      "execution_count": null,
      "outputs": [
        {
          "output_type": "execute_result",
          "data": {
            "text/plain": [
              "7154"
            ]
          },
          "metadata": {},
          "execution_count": 30
        }
      ]
    },
    {
      "cell_type": "code",
      "source": [
        "edit_letters"
      ],
      "metadata": {
        "id": "JzEsyG-89UOC"
      },
      "execution_count": null,
      "outputs": []
    },
    {
      "cell_type": "code",
      "source": [
        "def spelling_suggestions(word, vocab, allow_switches=True):\n",
        "  \n",
        "  suggestions = edit_2_letters(word, allow_switches)\n",
        "  suggestion_list = []\n",
        "\n",
        "  for word in suggestions:\n",
        "    word_p = prob_dict[word]\n",
        "    if word_p != 0:\n",
        "      suggestion_list.append((word, word_p))\n",
        "  return suggestion_list"
      ],
      "metadata": {
        "id": "4Ncsujq9-Qj5"
      },
      "execution_count": null,
      "outputs": []
    },
    {
      "cell_type": "code",
      "source": [
        "spelling_suggestions('pree', vocab)"
      ],
      "metadata": {
        "id": "vA2ULTM2HwTW"
      },
      "execution_count": null,
      "outputs": []
    },
    {
      "cell_type": "code",
      "source": [
        "spelling_suggestions('przd', vocab)"
      ],
      "metadata": {
        "id": "gFWrvZCHHsHs"
      },
      "execution_count": null,
      "outputs": []
    },
    {
      "cell_type": "code",
      "source": [
        "spelling_suggestions('przdq', vocab)"
      ],
      "metadata": {
        "colab": {
          "base_uri": "https://localhost:8080/"
        },
        "id": "IkBftSXXJE6F",
        "outputId": "5d0a42cc-3073-4912-cfef-a47c246be009"
      },
      "execution_count": null,
      "outputs": [
        {
          "output_type": "execute_result",
          "data": {
            "text/plain": [
              "[('pride', 0.0006648254919146472)]"
            ]
          },
          "metadata": {},
          "execution_count": 39
        }
      ]
    },
    {
      "cell_type": "code",
      "source": [
        "def min_edit_distance(source, target, insert_cost=1, delete_cost=1, replace_cost=2):\n",
        "  \n",
        "  width = len(target) + 1\n",
        "  height = len(source) + 1 \n",
        "\n",
        "  mat = np.zeros((height, width))\n",
        "\n",
        "  #Initialization\n",
        "  mat[0] = range(width)\n",
        "  mat[:, 0] = range(height)\n",
        "\n",
        "  #All Matrix operations\n",
        "  for i in range(1, height):\n",
        "    for j in range(1, width):\n",
        "      delete_distance = mat[i-1, j] + delete_cost\n",
        "      insert_distance = mat[i, j-1] + insert_cost\n",
        "      replace_param = replace_cost if source[i-1] != target[j-1] else 0\n",
        "      replace_distance= mat[i-1, j-1] + replace_param\n",
        "      min_distance = min(insert_distance, delete_distance, replace_distance)\n",
        "      mat[i, j] = min_distance\n",
        "  \n",
        "  return mat, min_distance"
      ],
      "metadata": {
        "id": "xr2nL5xkNC_N"
      },
      "execution_count": null,
      "outputs": []
    },
    {
      "cell_type": "code",
      "source": [
        "distance_mat, min_distance = min_edit_distance('play', 'stay', insert_cost=1, delete_cost=1, replace_cost=2)"
      ],
      "metadata": {
        "id": "cYjUA7tkCNN2"
      },
      "execution_count": null,
      "outputs": []
    },
    {
      "cell_type": "code",
      "source": [
        "distance_mat"
      ],
      "metadata": {
        "colab": {
          "base_uri": "https://localhost:8080/"
        },
        "id": "oPv5Z89_CVJG",
        "outputId": "4a9a8d9f-ca3d-4bc1-eeab-621ac5590c23"
      },
      "execution_count": null,
      "outputs": [
        {
          "output_type": "execute_result",
          "data": {
            "text/plain": [
              "array([[0., 1., 2., 3., 4.],\n",
              "       [1., 2., 3., 4., 5.],\n",
              "       [2., 3., 4., 5., 6.],\n",
              "       [3., 4., 5., 4., 5.],\n",
              "       [4., 5., 6., 5., 4.]])"
            ]
          },
          "metadata": {},
          "execution_count": 42
        }
      ]
    },
    {
      "cell_type": "code",
      "source": [
        "min_distance"
      ],
      "metadata": {
        "colab": {
          "base_uri": "https://localhost:8080/"
        },
        "id": "XbfrCBlSCnoK",
        "outputId": "6b5b42e1-6af2-4fc6-b66e-31d1c4254a1b"
      },
      "execution_count": null,
      "outputs": [
        {
          "output_type": "execute_result",
          "data": {
            "text/plain": [
              "4.0"
            ]
          },
          "metadata": {},
          "execution_count": 43
        }
      ]
    },
    {
      "cell_type": "code",
      "source": [
        "distance_mat, min_distance = min_edit_distance('plzub', 'cloud', insert_cost=1, delete_cost=1, replace_cost=2)"
      ],
      "metadata": {
        "id": "ZhVQr595DpHc"
      },
      "execution_count": null,
      "outputs": []
    },
    {
      "cell_type": "code",
      "source": [
        "distance_mat"
      ],
      "metadata": {
        "colab": {
          "base_uri": "https://localhost:8080/"
        },
        "id": "saBc4f4SHPK6",
        "outputId": "92477885-83fd-4e6b-9f7b-4ecf04c6a17d"
      },
      "execution_count": null,
      "outputs": [
        {
          "output_type": "execute_result",
          "data": {
            "text/plain": [
              "array([[0., 1., 2., 3., 4., 5.],\n",
              "       [1., 2., 3., 4., 5., 6.],\n",
              "       [2., 3., 2., 3., 4., 5.],\n",
              "       [3., 4., 3., 4., 5., 6.],\n",
              "       [4., 5., 4., 5., 4., 5.],\n",
              "       [5., 6., 5., 6., 5., 6.]])"
            ]
          },
          "metadata": {},
          "execution_count": 45
        }
      ]
    },
    {
      "cell_type": "code",
      "source": [
        "min_distance"
      ],
      "metadata": {
        "colab": {
          "base_uri": "https://localhost:8080/"
        },
        "id": "mjPJlM6iHRWn",
        "outputId": "c5c3edd5-53fe-49a8-cca2-3b9e16b62321"
      },
      "execution_count": null,
      "outputs": [
        {
          "output_type": "execute_result",
          "data": {
            "text/plain": [
              "6.0"
            ]
          },
          "metadata": {},
          "execution_count": 46
        }
      ]
    },
    {
      "cell_type": "code",
      "source": [
        "distance_mat, min_distance = min_edit_distance('eer', 'near', insert_cost=1, delete_cost=1, replace_cost=2)"
      ],
      "metadata": {
        "id": "wEi6gn34HU5P"
      },
      "execution_count": null,
      "outputs": []
    },
    {
      "cell_type": "code",
      "source": [
        "distance_mat"
      ],
      "metadata": {
        "colab": {
          "base_uri": "https://localhost:8080/"
        },
        "id": "3fWnHHOzHid8",
        "outputId": "d76e2b9a-10d8-44c0-8384-2a41d75c9d91"
      },
      "execution_count": null,
      "outputs": [
        {
          "output_type": "execute_result",
          "data": {
            "text/plain": [
              "array([[0., 1., 2., 3., 4.],\n",
              "       [1., 2., 1., 2., 3.],\n",
              "       [2., 3., 2., 3., 4.],\n",
              "       [3., 4., 3., 4., 3.]])"
            ]
          },
          "metadata": {},
          "execution_count": 48
        }
      ]
    },
    {
      "cell_type": "code",
      "source": [
        "min_distance"
      ],
      "metadata": {
        "colab": {
          "base_uri": "https://localhost:8080/"
        },
        "id": "imXl7lEoHkSX",
        "outputId": "7c6b7543-d83f-4e0e-e637-7cb6e0044562"
      },
      "execution_count": null,
      "outputs": [
        {
          "output_type": "execute_result",
          "data": {
            "text/plain": [
              "3.0"
            ]
          },
          "metadata": {},
          "execution_count": 49
        }
      ]
    },
    {
      "cell_type": "code",
      "source": [
        ""
      ],
      "metadata": {
        "id": "l6v9oooHHmPr"
      },
      "execution_count": null,
      "outputs": []
    }
  ]
}