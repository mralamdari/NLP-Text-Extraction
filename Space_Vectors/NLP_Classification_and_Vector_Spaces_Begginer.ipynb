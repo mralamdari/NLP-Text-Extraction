{
  "nbformat": 4,
  "nbformat_minor": 0,
  "metadata": {
    "colab": {
      "name": "NLP-Classification-and-Vector-Spaces-Begginer.ipynb",
      "provenance": [],
      "collapsed_sections": [],
      "authorship_tag": "ABX9TyN9HAx48CY0D/p3GWac2yDG",
      "include_colab_link": true
    },
    "kernelspec": {
      "name": "python3",
      "display_name": "Python 3"
    },
    "language_info": {
      "name": "python"
    }
  },
  "cells": [
    {
      "cell_type": "markdown",
      "metadata": {
        "id": "view-in-github",
        "colab_type": "text"
      },
      "source": [
        "<a href=\"https://colab.research.google.com/github/mr-alamdari/NLP-Classification-and-Vector-Spaces-Begginer/blob/main/NLP_Classification_and_Vector_Spaces_Begginer.ipynb\" target=\"_parent\"><img src=\"https://colab.research.google.com/assets/colab-badge.svg\" alt=\"Open In Colab\"/></a>"
      ]
    },
    {
      "cell_type": "code",
      "execution_count": 3,
      "metadata": {
        "id": "icp5K7Yjg5wO"
      },
      "outputs": [],
      "source": [
        "import os\n",
        "import numpy as np\n",
        "import pandas as pd\n",
        "import matplotlib.pyplot as plt"
      ]
    },
    {
      "cell_type": "markdown",
      "source": [
        "#1.Data\n",
        "\n",
        "##[Large Movie Review Dataset](https://ai.stanford.edu/~amaas/data/sentiment/)"
      ],
      "metadata": {
        "id": "H_yN6IAKjLp0"
      }
    },
    {
      "cell_type": "code",
      "source": [
        "!wget https://ai.stanford.edu/~amaas/data/sentiment/aclImdb_v1.tar.gz"
      ],
      "metadata": {
        "colab": {
          "base_uri": "https://localhost:8080/"
        },
        "id": "1zH-qQuRiI5s",
        "outputId": "184786ae-e8f9-48da-acdd-d88b275bd9cd"
      },
      "execution_count": 4,
      "outputs": [
        {
          "output_type": "stream",
          "name": "stdout",
          "text": [
            "--2022-04-13 11:36:46--  https://ai.stanford.edu/~amaas/data/sentiment/aclImdb_v1.tar.gz\n",
            "Resolving ai.stanford.edu (ai.stanford.edu)... 171.64.68.10\n",
            "Connecting to ai.stanford.edu (ai.stanford.edu)|171.64.68.10|:443... connected.\n",
            "HTTP request sent, awaiting response... 200 OK\n",
            "Length: 84125825 (80M) [application/x-gzip]\n",
            "Saving to: ‘aclImdb_v1.tar.gz’\n",
            "\n",
            "aclImdb_v1.tar.gz   100%[===================>]  80.23M  23.5MB/s    in 4.0s    \n",
            "\n",
            "2022-04-13 11:36:50 (19.9 MB/s) - ‘aclImdb_v1.tar.gz’ saved [84125825/84125825]\n",
            "\n"
          ]
        }
      ]
    },
    {
      "cell_type": "code",
      "source": [
        "import tarfile\n",
        "files = tarfile.open('/content/aclImdb_v1.tar.gz')\n",
        "files.extractall('/content/')"
      ],
      "metadata": {
        "id": "DDANLU4IiegI"
      },
      "execution_count": 5,
      "outputs": []
    },
    {
      "cell_type": "code",
      "source": [
        "path2data = '/content/aclImdb/'\n",
        "\n",
        "os.listdir(path2data)"
      ],
      "metadata": {
        "colab": {
          "base_uri": "https://localhost:8080/"
        },
        "id": "Ryz0I5O7i_hu",
        "outputId": "a1b7e3a9-9706-4230-fb73-19c8880a813c"
      },
      "execution_count": 6,
      "outputs": [
        {
          "output_type": "execute_result",
          "data": {
            "text/plain": [
              "['imdbEr.txt', 'imdb.vocab', 'train', 'test', 'README']"
            ]
          },
          "metadata": {},
          "execution_count": 6
        }
      ]
    },
    {
      "cell_type": "code",
      "source": [
        "path2datasets = []\n",
        "path2train = []\n",
        "\n",
        "for root, dirs, files in os.walk(path2data):\n",
        "  if 'pos' in root or 'neg' in root:\n",
        "    print(root, len(files))\n",
        "    path2datasets.append(root)\n"
      ],
      "metadata": {
        "colab": {
          "base_uri": "https://localhost:8080/"
        },
        "id": "1lkbBijZji4N",
        "outputId": "8c1494b6-f8d8-4641-8919-4af114ccb71c"
      },
      "execution_count": 7,
      "outputs": [
        {
          "output_type": "stream",
          "name": "stdout",
          "text": [
            "/content/aclImdb/train/neg 12500\n",
            "/content/aclImdb/train/pos 12500\n",
            "/content/aclImdb/test/neg 12500\n",
            "/content/aclImdb/test/pos 12500\n"
          ]
        }
      ]
    },
    {
      "cell_type": "markdown",
      "source": [
        "So we have 12500 number of comments on each pos or neg folder.\n",
        "but we are going to use 4 of them to start our practice"
      ],
      "metadata": {
        "id": "bAvkWy-QpGMG"
      }
    },
    {
      "cell_type": "code",
      "source": [
        "data_dic = {}\n",
        "for ds in path2datasets:\n",
        "\n",
        "  temp_arr = []\n",
        "  for c_path in os.listdir(ds):\n",
        "\n",
        "    path = f'{ds}/{c_path}'\n",
        "    with open (path, 'r') as f:\n",
        "      temp_arr.append(f.read())\n",
        "  \n",
        "  data_dic[f\"{ds.replace('/content/aclImdb/', '').replace('/', '_')}\"] = temp_arr"
      ],
      "metadata": {
        "id": "cmk8UVHRjyo6"
      },
      "execution_count": 8,
      "outputs": []
    },
    {
      "cell_type": "code",
      "source": [
        "data_df = pd.DataFrame(data_dic)"
      ],
      "metadata": {
        "id": "jlI-pWcKpsw_"
      },
      "execution_count": 9,
      "outputs": []
    },
    {
      "cell_type": "code",
      "source": [
        "data_df"
      ],
      "metadata": {
        "colab": {
          "base_uri": "https://localhost:8080/",
          "height": 423
        },
        "id": "I_nQlkrzsIux",
        "outputId": "c4453208-46ee-4ed0-ad04-da14551dce40"
      },
      "execution_count": 10,
      "outputs": [
        {
          "output_type": "execute_result",
          "data": {
            "text/plain": [
              "                                               train_neg  \\\n",
              "0      Well, what are the odds! At the exact right mo...   \n",
              "1      Director F.W. Murnau wisely stuck with the sil...   \n",
              "2      I desperately want to give this movie a 10...I...   \n",
              "3      I can't imagine anyone would ever, in a millio...   \n",
              "4      Awful! Awful! Awful! No, I didn't like it. It ...   \n",
              "...                                                  ...   \n",
              "12495  This stalk and slash turkey manages to bring n...   \n",
              "12496  This has to be THE WORST film I have ever seen...   \n",
              "12497  Prom Night is about a girl named Donna (Britta...   \n",
              "12498  My boyfriend and I rented this because we thou...   \n",
              "12499  The Fluffer may have strong elements of porn i...   \n",
              "\n",
              "                                               train_pos  \\\n",
              "0      For persons of a certain age, W.W. II was the ...   \n",
              "1      I hated the first episode of this show ( 'Prot...   \n",
              "2      Eddie Izzard is nothing short of a comedic gen...   \n",
              "3      This is a comedy based on national stereotypes...   \n",
              "4      If Jean Renoir's first film \"Whirlpool of Fate...   \n",
              "...                                                  ...   \n",
              "12495  What another reviewer called lack of character...   \n",
              "12496  Most reviews say that this is the weakest poin...   \n",
              "12497  I always enjoy this movie when it shows up on ...   \n",
              "12498  As a 90 minute experience, it is not up to the...   \n",
              "12499  This is the best version (so far) that you wil...   \n",
              "\n",
              "                                                test_neg  \\\n",
              "0      If it would of had Jack Black listed as the le...   \n",
              "1      The Quick and the Undead is, finally, the firs...   \n",
              "2      Like many others, I counted on the appearance ...   \n",
              "3      I enjoyed Carax's \"Les Amants du Pont Neuf\" an...   \n",
              "4      If this film won the Lumiere Award for Best Fr...   \n",
              "...                                                  ...   \n",
              "12495  If you make a suspense movie it is kind of imp...   \n",
              "12496  This is an embarrassing nth rehashing of the s...   \n",
              "12497  What bird is that ? A maltese falcon. The only...   \n",
              "12498  I made it about halfway through this movie, an...   \n",
              "12499  this was pretty bad. pedestrian work or worse....   \n",
              "\n",
              "                                                test_pos  \n",
              "0      for many and many years, gaijin have visited j...  \n",
              "1      Do not miss this picture that defies ages. Wit...  \n",
              "2      A very credible and unsettling movie portrayin...  \n",
              "3      A man and his wife are not getting along becau...  \n",
              "4      Blade is a dark, gloomy, but significent vampi...  \n",
              "...                                                  ...  \n",
              "12495  i just wanted to say that when i was young my ...  \n",
              "12496  It is by far the most definitive film on the p...  \n",
              "12497  I will be honest, i rented this movie solely o...  \n",
              "12498  Overall, I give this film a decent 7.6. To sta...  \n",
              "12499  Two actors play rival gangsters in three films...  \n",
              "\n",
              "[12500 rows x 4 columns]"
            ],
            "text/html": [
              "\n",
              "  <div id=\"df-d05f64fb-3472-4902-87c2-31c709985ad2\">\n",
              "    <div class=\"colab-df-container\">\n",
              "      <div>\n",
              "<style scoped>\n",
              "    .dataframe tbody tr th:only-of-type {\n",
              "        vertical-align: middle;\n",
              "    }\n",
              "\n",
              "    .dataframe tbody tr th {\n",
              "        vertical-align: top;\n",
              "    }\n",
              "\n",
              "    .dataframe thead th {\n",
              "        text-align: right;\n",
              "    }\n",
              "</style>\n",
              "<table border=\"1\" class=\"dataframe\">\n",
              "  <thead>\n",
              "    <tr style=\"text-align: right;\">\n",
              "      <th></th>\n",
              "      <th>train_neg</th>\n",
              "      <th>train_pos</th>\n",
              "      <th>test_neg</th>\n",
              "      <th>test_pos</th>\n",
              "    </tr>\n",
              "  </thead>\n",
              "  <tbody>\n",
              "    <tr>\n",
              "      <th>0</th>\n",
              "      <td>Well, what are the odds! At the exact right mo...</td>\n",
              "      <td>For persons of a certain age, W.W. II was the ...</td>\n",
              "      <td>If it would of had Jack Black listed as the le...</td>\n",
              "      <td>for many and many years, gaijin have visited j...</td>\n",
              "    </tr>\n",
              "    <tr>\n",
              "      <th>1</th>\n",
              "      <td>Director F.W. Murnau wisely stuck with the sil...</td>\n",
              "      <td>I hated the first episode of this show ( 'Prot...</td>\n",
              "      <td>The Quick and the Undead is, finally, the firs...</td>\n",
              "      <td>Do not miss this picture that defies ages. Wit...</td>\n",
              "    </tr>\n",
              "    <tr>\n",
              "      <th>2</th>\n",
              "      <td>I desperately want to give this movie a 10...I...</td>\n",
              "      <td>Eddie Izzard is nothing short of a comedic gen...</td>\n",
              "      <td>Like many others, I counted on the appearance ...</td>\n",
              "      <td>A very credible and unsettling movie portrayin...</td>\n",
              "    </tr>\n",
              "    <tr>\n",
              "      <th>3</th>\n",
              "      <td>I can't imagine anyone would ever, in a millio...</td>\n",
              "      <td>This is a comedy based on national stereotypes...</td>\n",
              "      <td>I enjoyed Carax's \"Les Amants du Pont Neuf\" an...</td>\n",
              "      <td>A man and his wife are not getting along becau...</td>\n",
              "    </tr>\n",
              "    <tr>\n",
              "      <th>4</th>\n",
              "      <td>Awful! Awful! Awful! No, I didn't like it. It ...</td>\n",
              "      <td>If Jean Renoir's first film \"Whirlpool of Fate...</td>\n",
              "      <td>If this film won the Lumiere Award for Best Fr...</td>\n",
              "      <td>Blade is a dark, gloomy, but significent vampi...</td>\n",
              "    </tr>\n",
              "    <tr>\n",
              "      <th>...</th>\n",
              "      <td>...</td>\n",
              "      <td>...</td>\n",
              "      <td>...</td>\n",
              "      <td>...</td>\n",
              "    </tr>\n",
              "    <tr>\n",
              "      <th>12495</th>\n",
              "      <td>This stalk and slash turkey manages to bring n...</td>\n",
              "      <td>What another reviewer called lack of character...</td>\n",
              "      <td>If you make a suspense movie it is kind of imp...</td>\n",
              "      <td>i just wanted to say that when i was young my ...</td>\n",
              "    </tr>\n",
              "    <tr>\n",
              "      <th>12496</th>\n",
              "      <td>This has to be THE WORST film I have ever seen...</td>\n",
              "      <td>Most reviews say that this is the weakest poin...</td>\n",
              "      <td>This is an embarrassing nth rehashing of the s...</td>\n",
              "      <td>It is by far the most definitive film on the p...</td>\n",
              "    </tr>\n",
              "    <tr>\n",
              "      <th>12497</th>\n",
              "      <td>Prom Night is about a girl named Donna (Britta...</td>\n",
              "      <td>I always enjoy this movie when it shows up on ...</td>\n",
              "      <td>What bird is that ? A maltese falcon. The only...</td>\n",
              "      <td>I will be honest, i rented this movie solely o...</td>\n",
              "    </tr>\n",
              "    <tr>\n",
              "      <th>12498</th>\n",
              "      <td>My boyfriend and I rented this because we thou...</td>\n",
              "      <td>As a 90 minute experience, it is not up to the...</td>\n",
              "      <td>I made it about halfway through this movie, an...</td>\n",
              "      <td>Overall, I give this film a decent 7.6. To sta...</td>\n",
              "    </tr>\n",
              "    <tr>\n",
              "      <th>12499</th>\n",
              "      <td>The Fluffer may have strong elements of porn i...</td>\n",
              "      <td>This is the best version (so far) that you wil...</td>\n",
              "      <td>this was pretty bad. pedestrian work or worse....</td>\n",
              "      <td>Two actors play rival gangsters in three films...</td>\n",
              "    </tr>\n",
              "  </tbody>\n",
              "</table>\n",
              "<p>12500 rows × 4 columns</p>\n",
              "</div>\n",
              "      <button class=\"colab-df-convert\" onclick=\"convertToInteractive('df-d05f64fb-3472-4902-87c2-31c709985ad2')\"\n",
              "              title=\"Convert this dataframe to an interactive table.\"\n",
              "              style=\"display:none;\">\n",
              "        \n",
              "  <svg xmlns=\"http://www.w3.org/2000/svg\" height=\"24px\"viewBox=\"0 0 24 24\"\n",
              "       width=\"24px\">\n",
              "    <path d=\"M0 0h24v24H0V0z\" fill=\"none\"/>\n",
              "    <path d=\"M18.56 5.44l.94 2.06.94-2.06 2.06-.94-2.06-.94-.94-2.06-.94 2.06-2.06.94zm-11 1L8.5 8.5l.94-2.06 2.06-.94-2.06-.94L8.5 2.5l-.94 2.06-2.06.94zm10 10l.94 2.06.94-2.06 2.06-.94-2.06-.94-.94-2.06-.94 2.06-2.06.94z\"/><path d=\"M17.41 7.96l-1.37-1.37c-.4-.4-.92-.59-1.43-.59-.52 0-1.04.2-1.43.59L10.3 9.45l-7.72 7.72c-.78.78-.78 2.05 0 2.83L4 21.41c.39.39.9.59 1.41.59.51 0 1.02-.2 1.41-.59l7.78-7.78 2.81-2.81c.8-.78.8-2.07 0-2.86zM5.41 20L4 18.59l7.72-7.72 1.47 1.35L5.41 20z\"/>\n",
              "  </svg>\n",
              "      </button>\n",
              "      \n",
              "  <style>\n",
              "    .colab-df-container {\n",
              "      display:flex;\n",
              "      flex-wrap:wrap;\n",
              "      gap: 12px;\n",
              "    }\n",
              "\n",
              "    .colab-df-convert {\n",
              "      background-color: #E8F0FE;\n",
              "      border: none;\n",
              "      border-radius: 50%;\n",
              "      cursor: pointer;\n",
              "      display: none;\n",
              "      fill: #1967D2;\n",
              "      height: 32px;\n",
              "      padding: 0 0 0 0;\n",
              "      width: 32px;\n",
              "    }\n",
              "\n",
              "    .colab-df-convert:hover {\n",
              "      background-color: #E2EBFA;\n",
              "      box-shadow: 0px 1px 2px rgba(60, 64, 67, 0.3), 0px 1px 3px 1px rgba(60, 64, 67, 0.15);\n",
              "      fill: #174EA6;\n",
              "    }\n",
              "\n",
              "    [theme=dark] .colab-df-convert {\n",
              "      background-color: #3B4455;\n",
              "      fill: #D2E3FC;\n",
              "    }\n",
              "\n",
              "    [theme=dark] .colab-df-convert:hover {\n",
              "      background-color: #434B5C;\n",
              "      box-shadow: 0px 1px 3px 1px rgba(0, 0, 0, 0.15);\n",
              "      filter: drop-shadow(0px 1px 2px rgba(0, 0, 0, 0.3));\n",
              "      fill: #FFFFFF;\n",
              "    }\n",
              "  </style>\n",
              "\n",
              "      <script>\n",
              "        const buttonEl =\n",
              "          document.querySelector('#df-d05f64fb-3472-4902-87c2-31c709985ad2 button.colab-df-convert');\n",
              "        buttonEl.style.display =\n",
              "          google.colab.kernel.accessAllowed ? 'block' : 'none';\n",
              "\n",
              "        async function convertToInteractive(key) {\n",
              "          const element = document.querySelector('#df-d05f64fb-3472-4902-87c2-31c709985ad2');\n",
              "          const dataTable =\n",
              "            await google.colab.kernel.invokeFunction('convertToInteractive',\n",
              "                                                     [key], {});\n",
              "          if (!dataTable) return;\n",
              "\n",
              "          const docLinkHtml = 'Like what you see? Visit the ' +\n",
              "            '<a target=\"_blank\" href=https://colab.research.google.com/notebooks/data_table.ipynb>data table notebook</a>'\n",
              "            + ' to learn more about interactive tables.';\n",
              "          element.innerHTML = '';\n",
              "          dataTable['output_type'] = 'display_data';\n",
              "          await google.colab.output.renderOutput(dataTable, element);\n",
              "          const docLink = document.createElement('div');\n",
              "          docLink.innerHTML = docLinkHtml;\n",
              "          element.appendChild(docLink);\n",
              "        }\n",
              "      </script>\n",
              "    </div>\n",
              "  </div>\n",
              "  "
            ]
          },
          "metadata": {},
          "execution_count": 10
        }
      ]
    },
    {
      "cell_type": "code",
      "source": [
        "pos = np.array(data_df.iloc[:2, 2])\n",
        "neg = np.array(data_df.iloc[:2, 3])"
      ],
      "metadata": {
        "id": "vzKgafLn1GWP"
      },
      "execution_count": 11,
      "outputs": []
    },
    {
      "cell_type": "code",
      "source": [
        "pos"
      ],
      "metadata": {
        "colab": {
          "base_uri": "https://localhost:8080/"
        },
        "id": "-Qkxf-8egmWl",
        "outputId": "6fb23872-526c-4a66-fcdf-58c1fbecf78e"
      },
      "execution_count": 12,
      "outputs": [
        {
          "output_type": "execute_result",
          "data": {
            "text/plain": [
              "array([\"If it would of had Jack Black listed as the leading actor I would of stayed away from this movie right away. It actually makes some of his movies look good compared to this movie.This movie should of been filmed as a cartoon for ages 3-8 and it would of been a lot better. It is nothing but a bunch of the stupidest skits from other movies put together to make one big mess.The movie looks like it was shot in about one day with no thought at all behind it. There's a few times where it looks like maybe there's gonna be a turning point and the movie well actually have plot to the movie or at least a storyline would develop but the stupid skits inserted just ruin the whole movie.\",\n",
              "       'The Quick and the Undead is, finally, the first movie to actually render its own storyline null and void. It is, essentially, one gigantic plot hole.<br /><br />Aside from that, the acting was quite bad, character motivations nonexistent or unbelievable and there wasn\\'t a single character worth hanging our hat on. The most interesting cast member (who had great potential to be a dark horse protagonist) got snuffed halfway through the proceedings.<br /><br />What the Quick and the Undead DOES serve as is an excellent example of how to do good color-timing. It looked excellent, when you take into account budget considerations.<br /><br />Unfortunately, it plays out like a guy got his hands on a hundred grand and watched a few westerns (most notably The Good, The Bad and The Ugly) and then just threw a bunch of elements haphazardly into a movie... \"you know, they have movies where characters do THIS! Does it fit here? No, but who cares! They do it in other movies so I should do it here!\" <br /><br />Maybe a good view for burgeoning cinematographers and colorists (first-year film-schoolers). Otherwise, a must-miss.'],\n",
              "      dtype=object)"
            ]
          },
          "metadata": {},
          "execution_count": 12
        }
      ]
    },
    {
      "cell_type": "code",
      "source": [
        "neg"
      ],
      "metadata": {
        "colab": {
          "base_uri": "https://localhost:8080/"
        },
        "id": "zlVbK4lcl9WB",
        "outputId": "58c1a067-2b83-42b4-bfe6-26d837653049"
      },
      "execution_count": 13,
      "outputs": [
        {
          "output_type": "execute_result",
          "data": {
            "text/plain": [
              "array(['for many and many years, gaijin have visited japan for learning martial arts, instead of acquiring any knowledge on it, gainjin have been told only nihonjin could achieve the excelent performance required to show some techniques in a \"public\" performance such as a movie...<br /><br />this one special movie, made by sho kosugi, not only shows all of those techniques and skills, but also teaches many and many lessons on how to achieve them, and one can verify that by seeing a LUCINDA DICKEY performing fantastic and unforgettable acting skills in NINJUTSU...<br /><br />I strongly recommend watching this movie more than thrice, because three times is not enough to seek out hints and tips given so easily by sho kosugi to those who really seek knowledge itself, the gnosis...',\n",
              "       'Do not miss this picture that defies ages. With no hesitation, a masterpiece. Not only the script and the music but also choregraphy, casting,<br /><br />cut : everything contributes to the perfect achievement. Now nearly 25 years ago and still amazing of maturity, art and<br /><br />sensitivity. Available now in DVD, do not miss either. The transfert is perfect<br /><br />and the sound re-boosted. One mystery remains about this superb work : why the actors did<br /><br />not succeed better after this flashing start ?'],\n",
              "      dtype=object)"
            ]
          },
          "metadata": {},
          "execution_count": 13
        }
      ]
    },
    {
      "cell_type": "code",
      "source": [
        "def del_urls_handles(sentence):\n",
        "  \n",
        "  for url in ['@', 'https://']:\n",
        "    ind = 0\n",
        "    while ind != -1:\n",
        "      ind = sentence.find(url)\n",
        "      end = sentence.find(' ', ind)\n",
        "      sentence = sentence.replace(sentence[ind: end], '')\n",
        "  return sentence"
      ],
      "metadata": {
        "id": "K_SYpGqx2gps"
      },
      "execution_count": 14,
      "outputs": []
    },
    {
      "cell_type": "code",
      "source": [
        "del_urls_handles(pos[0])"
      ],
      "metadata": {
        "colab": {
          "base_uri": "https://localhost:8080/",
          "height": 88
        },
        "id": "8WnsF54r8NXM",
        "outputId": "ed1a204f-3f42-46e2-b689-835de1628d4e"
      },
      "execution_count": 15,
      "outputs": [
        {
          "output_type": "execute_result",
          "data": {
            "text/plain": [
              "\"If it would of had Jack Black listed as the leading actor I would of stayed away from this movie right away. It actually makes some of his movies look good compared to this movie.This movie should of been filmed as a cartoon for ages 3-8 and it would of been a lot better. It is nothing but a bunch of the stupidest skits from other movies put together to make one big mess.The movie looks like it was shot in about one day with no thought at all behind it. There's a few times where it looks like maybe there's gonna be a turning point and the movie well actually have plot to the movie or at least a storyline would develop but the stupid skits inserted just ruin the whole movie.\""
            ],
            "application/vnd.google.colaboratory.intrinsic+json": {
              "type": "string"
            }
          },
          "metadata": {},
          "execution_count": 15
        }
      ]
    },
    {
      "cell_type": "code",
      "source": [
        "def del_punctuations(sentence):\n",
        "  temp = ''\n",
        "  for char in sentence:\n",
        "    if char.isalnum() or char.isspace():\n",
        "      temp  = temp + char\n",
        "  return temp.lower()"
      ],
      "metadata": {
        "id": "mNySIe3TkCit"
      },
      "execution_count": 16,
      "outputs": []
    },
    {
      "cell_type": "code",
      "source": [
        "del_punctuations(pos[0])"
      ],
      "metadata": {
        "colab": {
          "base_uri": "https://localhost:8080/",
          "height": 88
        },
        "id": "w0pqCEK-lkg4",
        "outputId": "c58f6d59-7210-4fce-a9bf-1d3fd0c6ac1c"
      },
      "execution_count": 17,
      "outputs": [
        {
          "output_type": "execute_result",
          "data": {
            "text/plain": [
              "'if it would of had jack black listed as the leading actor i would of stayed away from this movie right away it actually makes some of his movies look good compared to this moviethis movie should of been filmed as a cartoon for ages 38 and it would of been a lot better it is nothing but a bunch of the stupidest skits from other movies put together to make one big messthe movie looks like it was shot in about one day with no thought at all behind it theres a few times where it looks like maybe theres gonna be a turning point and the movie well actually have plot to the movie or at least a storyline would develop but the stupid skits inserted just ruin the whole movie'"
            ],
            "application/vnd.google.colaboratory.intrinsic+json": {
              "type": "string"
            }
          },
          "metadata": {},
          "execution_count": 17
        }
      ]
    },
    {
      "cell_type": "code",
      "source": [
        "pr_pos = [del_punctuations(del_urls_handles(p)) for p in pos]\n",
        "pr_neg = [del_punctuations(del_urls_handles(n)) for n in neg]"
      ],
      "metadata": {
        "id": "LwOqjGtthwAi"
      },
      "execution_count": 18,
      "outputs": []
    },
    {
      "cell_type": "code",
      "source": [
        "pr_pos"
      ],
      "metadata": {
        "colab": {
          "base_uri": "https://localhost:8080/"
        },
        "id": "u0Tt0dHA3Klv",
        "outputId": "c52b0a53-b0f7-47ee-9daa-8fed1eb3829f"
      },
      "execution_count": 19,
      "outputs": [
        {
          "output_type": "execute_result",
          "data": {
            "text/plain": [
              "['if it would of had jack black listed as the leading actor i would of stayed away from this movie right away it actually makes some of his movies look good compared to this moviethis movie should of been filmed as a cartoon for ages 38 and it would of been a lot better it is nothing but a bunch of the stupidest skits from other movies put together to make one big messthe movie looks like it was shot in about one day with no thought at all behind it theres a few times where it looks like maybe theres gonna be a turning point and the movie well actually have plot to the movie or at least a storyline would develop but the stupid skits inserted just ruin the whole movie',\n",
              " 'the quick and the undead is finally the first movie to actually render its own storyline null and void it is essentially one gigantic plot holebr br aside from that the acting was quite bad character motivations nonexistent or unbelievable and there wasnt a single character worth hanging our hat on the most interesting cast member who had great potential to be a dark horse protagonist got snuffed halfway through the proceedingsbr br what the quick and the undead does serve as is an excellent example of how to do good colortiming it looked excellent when you take into account budget considerationsbr br unfortunately it plays out like a guy got his hands on a hundred grand and watched a few westerns most notably the good the bad and the ugly and then just threw a bunch of elements haphazardly into a movie you know they have movies where characters do this does it fit here no but who cares they do it in other movies so i should do it here br br maybe a good view for burgeoning cinematographers and colorists firstyear filmschoolers otherwise a mustmiss']"
            ]
          },
          "metadata": {},
          "execution_count": 19
        }
      ]
    },
    {
      "cell_type": "code",
      "source": [
        "pr_neg"
      ],
      "metadata": {
        "colab": {
          "base_uri": "https://localhost:8080/"
        },
        "id": "RwCPGCdTBmfO",
        "outputId": "36977b7b-552f-4acf-8416-1d797ed009df"
      },
      "execution_count": 20,
      "outputs": [
        {
          "output_type": "execute_result",
          "data": {
            "text/plain": [
              "['for many and many years gaijin have visited japan for learning martial arts instead of acquiring any knowledge on it gainjin have been told only nihonjin could achieve the excelent performance required to show some techniques in a public performance such as a moviebr br this one special movie made by sho kosugi not only shows all of those techniques and skills but also teaches many and many lessons on how to achieve them and one can verify that by seeing a lucinda dickey performing fantastic and unforgettable acting skills in ninjutsubr br i strongly recommend watching this movie more than thrice because three times is not enough to seek out hints and tips given so easily by sho kosugi to those who really seek knowledge itself the gnosis',\n",
              " 'do not miss this picture that defies ages with no hesitation a masterpiece not only the script and the music but also choregraphy castingbr br cut  everything contributes to the perfect achievement now nearly 25 years ago and still amazing of maturity art andbr br sensitivity available now in dvd do not miss either the transfert is perfectbr br and the sound reboosted one mystery remains about this superb work  why the actors didbr br not succeed better after this flashing start ']"
            ]
          },
          "metadata": {},
          "execution_count": 20
        }
      ]
    },
    {
      "cell_type": "code",
      "source": [
        "stop_words = ['i', 'am', 'and', 'was', 'that', 'the', 'you', 'he', 'she', 'we', 'they', 'were', 'of', 'too', 'them', 'are']\n",
        "#These words are not complete, it is just to practice"
      ],
      "metadata": {
        "id": "a7o8dnpfEhad"
      },
      "execution_count": 21,
      "outputs": []
    },
    {
      "cell_type": "code",
      "source": [
        "def get_vocabulary(pos, neg):\n",
        "  vocab, pos_words, neg_words = [], [], []\n",
        "  for id, ds in enumerate([pos, neg]):\n",
        "    for sentence in ds:\n",
        "      for word in sentence.split():\n",
        "\n",
        "        if word not in stop_words:\n",
        "          if id == 0:\n",
        "            pos_words.append(word)\n",
        "          else:\n",
        "            neg_words.append(word)\n",
        "\n",
        "          vocab.append(word)\n",
        "\n",
        "  return set(vocab), pos_words, neg_words"
      ],
      "metadata": {
        "id": "qHuVMiSbBpUW"
      },
      "execution_count": 22,
      "outputs": []
    },
    {
      "cell_type": "code",
      "source": [
        "vocab, pos_words, neg_words = get_vocabulary(pr_pos, pr_neg)\n",
        "len(vocab)"
      ],
      "metadata": {
        "colab": {
          "base_uri": "https://localhost:8080/"
        },
        "id": "OKCaAmJsCc8z",
        "outputId": "73c52d10-a56d-441c-87ff-4296046d13dc"
      },
      "execution_count": 23,
      "outputs": [
        {
          "output_type": "execute_result",
          "data": {
            "text/plain": [
              "277"
            ]
          },
          "metadata": {},
          "execution_count": 23
        }
      ]
    },
    {
      "cell_type": "code",
      "source": [
        "def frequency_dict(vocab, pos, neg):\n",
        "  vocab_dict = {}\n",
        "  for v in vocab:\n",
        "    vocab_dict[v] = [pos.count(v), neg.count(v)]\n",
        "  return vocab_dict"
      ],
      "metadata": {
        "id": "ONtALBLNChK_"
      },
      "execution_count": 24,
      "outputs": []
    },
    {
      "cell_type": "code",
      "source": [
        "freq_dict=frequency_dict(vocab, pos_words, neg_words)"
      ],
      "metadata": {
        "id": "MOWej-KmUd7E"
      },
      "execution_count": 25,
      "outputs": []
    },
    {
      "cell_type": "code",
      "source": [
        "freq_dict"
      ],
      "metadata": {
        "colab": {
          "base_uri": "https://localhost:8080/"
        },
        "id": "gCgFChkYVomh",
        "outputId": "03a6b752-6eef-4e0a-fc00-c9378dc1a5c7"
      },
      "execution_count": 26,
      "outputs": [
        {
          "output_type": "execute_result",
          "data": {
            "text/plain": [
              "{'25': [0, 1],\n",
              " '38': [1, 0],\n",
              " 'a': [15, 4],\n",
              " 'about': [1, 1],\n",
              " 'account': [1, 0],\n",
              " 'achieve': [0, 2],\n",
              " 'achievement': [0, 1],\n",
              " 'acquiring': [0, 1],\n",
              " 'acting': [1, 1],\n",
              " 'actor': [1, 0],\n",
              " 'actors': [0, 1],\n",
              " 'actually': [3, 0],\n",
              " 'after': [0, 1],\n",
              " 'ages': [1, 1],\n",
              " 'ago': [0, 1],\n",
              " 'all': [1, 1],\n",
              " 'also': [0, 2],\n",
              " 'amazing': [0, 1],\n",
              " 'an': [1, 0],\n",
              " 'andbr': [0, 1],\n",
              " 'any': [0, 1],\n",
              " 'art': [0, 1],\n",
              " 'arts': [0, 1],\n",
              " 'as': [3, 1],\n",
              " 'aside': [1, 0],\n",
              " 'at': [2, 0],\n",
              " 'available': [0, 1],\n",
              " 'away': [2, 0],\n",
              " 'bad': [2, 0],\n",
              " 'be': [2, 0],\n",
              " 'because': [0, 1],\n",
              " 'been': [2, 1],\n",
              " 'behind': [1, 0],\n",
              " 'better': [1, 1],\n",
              " 'big': [1, 0],\n",
              " 'black': [1, 0],\n",
              " 'br': [5, 6],\n",
              " 'budget': [1, 0],\n",
              " 'bunch': [2, 0],\n",
              " 'burgeoning': [1, 0],\n",
              " 'but': [3, 2],\n",
              " 'by': [0, 3],\n",
              " 'can': [0, 1],\n",
              " 'cares': [1, 0],\n",
              " 'cartoon': [1, 0],\n",
              " 'cast': [1, 0],\n",
              " 'castingbr': [0, 1],\n",
              " 'character': [2, 0],\n",
              " 'characters': [1, 0],\n",
              " 'choregraphy': [0, 1],\n",
              " 'cinematographers': [1, 0],\n",
              " 'colorists': [1, 0],\n",
              " 'colortiming': [1, 0],\n",
              " 'compared': [1, 0],\n",
              " 'considerationsbr': [1, 0],\n",
              " 'contributes': [0, 1],\n",
              " 'could': [0, 1],\n",
              " 'cut': [0, 1],\n",
              " 'dark': [1, 0],\n",
              " 'day': [1, 0],\n",
              " 'defies': [0, 1],\n",
              " 'develop': [1, 0],\n",
              " 'dickey': [0, 1],\n",
              " 'didbr': [0, 1],\n",
              " 'do': [4, 2],\n",
              " 'does': [2, 0],\n",
              " 'dvd': [0, 1],\n",
              " 'easily': [0, 1],\n",
              " 'either': [0, 1],\n",
              " 'elements': [1, 0],\n",
              " 'enough': [0, 1],\n",
              " 'essentially': [1, 0],\n",
              " 'everything': [0, 1],\n",
              " 'example': [1, 0],\n",
              " 'excelent': [0, 1],\n",
              " 'excellent': [2, 0],\n",
              " 'fantastic': [0, 1],\n",
              " 'few': [2, 0],\n",
              " 'filmed': [1, 0],\n",
              " 'filmschoolers': [1, 0],\n",
              " 'finally': [1, 0],\n",
              " 'first': [1, 0],\n",
              " 'firstyear': [1, 0],\n",
              " 'fit': [1, 0],\n",
              " 'flashing': [0, 1],\n",
              " 'for': [2, 2],\n",
              " 'from': [3, 0],\n",
              " 'gaijin': [0, 1],\n",
              " 'gainjin': [0, 1],\n",
              " 'gigantic': [1, 0],\n",
              " 'given': [0, 1],\n",
              " 'gnosis': [0, 1],\n",
              " 'gonna': [1, 0],\n",
              " 'good': [4, 0],\n",
              " 'got': [2, 0],\n",
              " 'grand': [1, 0],\n",
              " 'great': [1, 0],\n",
              " 'guy': [1, 0],\n",
              " 'had': [2, 0],\n",
              " 'halfway': [1, 0],\n",
              " 'hands': [1, 0],\n",
              " 'hanging': [1, 0],\n",
              " 'haphazardly': [1, 0],\n",
              " 'hat': [1, 0],\n",
              " 'have': [2, 2],\n",
              " 'here': [2, 0],\n",
              " 'hesitation': [0, 1],\n",
              " 'hints': [0, 1],\n",
              " 'his': [2, 0],\n",
              " 'holebr': [1, 0],\n",
              " 'horse': [1, 0],\n",
              " 'how': [1, 1],\n",
              " 'hundred': [1, 0],\n",
              " 'if': [1, 0],\n",
              " 'in': [2, 3],\n",
              " 'inserted': [1, 0],\n",
              " 'instead': [0, 1],\n",
              " 'interesting': [1, 0],\n",
              " 'into': [2, 0],\n",
              " 'is': [4, 2],\n",
              " 'it': [13, 1],\n",
              " 'its': [1, 0],\n",
              " 'itself': [0, 1],\n",
              " 'jack': [1, 0],\n",
              " 'japan': [0, 1],\n",
              " 'just': [2, 0],\n",
              " 'know': [1, 0],\n",
              " 'knowledge': [0, 2],\n",
              " 'kosugi': [0, 2],\n",
              " 'leading': [1, 0],\n",
              " 'learning': [0, 1],\n",
              " 'least': [1, 0],\n",
              " 'lessons': [0, 1],\n",
              " 'like': [3, 0],\n",
              " 'listed': [1, 0],\n",
              " 'look': [1, 0],\n",
              " 'looked': [1, 0],\n",
              " 'looks': [2, 0],\n",
              " 'lot': [1, 0],\n",
              " 'lucinda': [0, 1],\n",
              " 'made': [0, 1],\n",
              " 'make': [1, 0],\n",
              " 'makes': [1, 0],\n",
              " 'many': [0, 4],\n",
              " 'martial': [0, 1],\n",
              " 'masterpiece': [0, 1],\n",
              " 'maturity': [0, 1],\n",
              " 'maybe': [2, 0],\n",
              " 'member': [1, 0],\n",
              " 'messthe': [1, 0],\n",
              " 'miss': [0, 2],\n",
              " 'more': [0, 1],\n",
              " 'most': [2, 0],\n",
              " 'motivations': [1, 0],\n",
              " 'movie': [8, 2],\n",
              " 'moviebr': [0, 1],\n",
              " 'movies': [4, 0],\n",
              " 'moviethis': [1, 0],\n",
              " 'music': [0, 1],\n",
              " 'mustmiss': [1, 0],\n",
              " 'mystery': [0, 1],\n",
              " 'nearly': [0, 1],\n",
              " 'nihonjin': [0, 1],\n",
              " 'ninjutsubr': [0, 1],\n",
              " 'no': [2, 1],\n",
              " 'nonexistent': [1, 0],\n",
              " 'not': [0, 6],\n",
              " 'notably': [1, 0],\n",
              " 'nothing': [1, 0],\n",
              " 'now': [0, 2],\n",
              " 'null': [1, 0],\n",
              " 'on': [2, 2],\n",
              " 'one': [3, 3],\n",
              " 'only': [0, 3],\n",
              " 'or': [2, 0],\n",
              " 'other': [2, 0],\n",
              " 'otherwise': [1, 0],\n",
              " 'our': [1, 0],\n",
              " 'out': [1, 1],\n",
              " 'own': [1, 0],\n",
              " 'perfect': [0, 1],\n",
              " 'perfectbr': [0, 1],\n",
              " 'performance': [0, 2],\n",
              " 'performing': [0, 1],\n",
              " 'picture': [0, 1],\n",
              " 'plays': [1, 0],\n",
              " 'plot': [2, 0],\n",
              " 'point': [1, 0],\n",
              " 'potential': [1, 0],\n",
              " 'proceedingsbr': [1, 0],\n",
              " 'protagonist': [1, 0],\n",
              " 'public': [0, 1],\n",
              " 'put': [1, 0],\n",
              " 'quick': [2, 0],\n",
              " 'quite': [1, 0],\n",
              " 'really': [0, 1],\n",
              " 'reboosted': [0, 1],\n",
              " 'recommend': [0, 1],\n",
              " 'remains': [0, 1],\n",
              " 'render': [1, 0],\n",
              " 'required': [0, 1],\n",
              " 'right': [1, 0],\n",
              " 'ruin': [1, 0],\n",
              " 'script': [0, 1],\n",
              " 'seeing': [0, 1],\n",
              " 'seek': [0, 2],\n",
              " 'sensitivity': [0, 1],\n",
              " 'serve': [1, 0],\n",
              " 'sho': [0, 2],\n",
              " 'shot': [1, 0],\n",
              " 'should': [2, 0],\n",
              " 'show': [0, 1],\n",
              " 'shows': [0, 1],\n",
              " 'single': [1, 0],\n",
              " 'skills': [0, 2],\n",
              " 'skits': [2, 0],\n",
              " 'snuffed': [1, 0],\n",
              " 'so': [1, 1],\n",
              " 'some': [1, 1],\n",
              " 'sound': [0, 1],\n",
              " 'special': [0, 1],\n",
              " 'start': [0, 1],\n",
              " 'stayed': [1, 0],\n",
              " 'still': [0, 1],\n",
              " 'storyline': [2, 0],\n",
              " 'strongly': [0, 1],\n",
              " 'stupid': [1, 0],\n",
              " 'stupidest': [1, 0],\n",
              " 'succeed': [0, 1],\n",
              " 'such': [0, 1],\n",
              " 'superb': [0, 1],\n",
              " 'take': [1, 0],\n",
              " 'teaches': [0, 1],\n",
              " 'techniques': [0, 2],\n",
              " 'than': [0, 1],\n",
              " 'then': [1, 0],\n",
              " 'there': [1, 0],\n",
              " 'theres': [2, 0],\n",
              " 'this': [3, 5],\n",
              " 'those': [0, 2],\n",
              " 'thought': [1, 0],\n",
              " 'three': [0, 1],\n",
              " 'threw': [1, 0],\n",
              " 'thrice': [0, 1],\n",
              " 'through': [1, 0],\n",
              " 'times': [1, 1],\n",
              " 'tips': [0, 1],\n",
              " 'to': [6, 5],\n",
              " 'together': [1, 0],\n",
              " 'told': [0, 1],\n",
              " 'transfert': [0, 1],\n",
              " 'turning': [1, 0],\n",
              " 'ugly': [1, 0],\n",
              " 'unbelievable': [1, 0],\n",
              " 'undead': [2, 0],\n",
              " 'unforgettable': [0, 1],\n",
              " 'unfortunately': [1, 0],\n",
              " 'verify': [0, 1],\n",
              " 'view': [1, 0],\n",
              " 'visited': [0, 1],\n",
              " 'void': [1, 0],\n",
              " 'wasnt': [1, 0],\n",
              " 'watched': [1, 0],\n",
              " 'watching': [0, 1],\n",
              " 'well': [1, 0],\n",
              " 'westerns': [1, 0],\n",
              " 'what': [1, 0],\n",
              " 'when': [1, 0],\n",
              " 'where': [2, 0],\n",
              " 'who': [2, 1],\n",
              " 'whole': [1, 0],\n",
              " 'why': [0, 1],\n",
              " 'with': [1, 1],\n",
              " 'work': [0, 1],\n",
              " 'worth': [1, 0],\n",
              " 'would': [4, 0],\n",
              " 'years': [0, 2]}"
            ]
          },
          "metadata": {},
          "execution_count": 26
        }
      ]
    },
    {
      "cell_type": "code",
      "source": [
        "freq_df = pd.DataFrame(freq_dict)\n",
        "freq_df.index = ['PosFreq', 'NegFreq']\n",
        "freq_df = freq_df.T"
      ],
      "metadata": {
        "id": "K6xeCyYxOtFi"
      },
      "execution_count": 27,
      "outputs": []
    },
    {
      "cell_type": "code",
      "source": [
        "freq_df"
      ],
      "metadata": {
        "colab": {
          "base_uri": "https://localhost:8080/",
          "height": 423
        },
        "id": "KHZgYy_kWOFP",
        "outputId": "174cac95-1e94-4316-c068-b437513f2398"
      },
      "execution_count": 28,
      "outputs": [
        {
          "output_type": "execute_result",
          "data": {
            "text/plain": [
              "           PosFreq  NegFreq\n",
              "thrice           0        1\n",
              "develop          1        0\n",
              "ages             1        1\n",
              "guy              1        0\n",
              "but              3        2\n",
              "...            ...      ...\n",
              "nihonjin         0        1\n",
              "no               2        1\n",
              "arts             0        1\n",
              "had              2        0\n",
              "stupidest        1        0\n",
              "\n",
              "[277 rows x 2 columns]"
            ],
            "text/html": [
              "\n",
              "  <div id=\"df-91ef4c09-2f1a-4231-acf1-d4aed08d6443\">\n",
              "    <div class=\"colab-df-container\">\n",
              "      <div>\n",
              "<style scoped>\n",
              "    .dataframe tbody tr th:only-of-type {\n",
              "        vertical-align: middle;\n",
              "    }\n",
              "\n",
              "    .dataframe tbody tr th {\n",
              "        vertical-align: top;\n",
              "    }\n",
              "\n",
              "    .dataframe thead th {\n",
              "        text-align: right;\n",
              "    }\n",
              "</style>\n",
              "<table border=\"1\" class=\"dataframe\">\n",
              "  <thead>\n",
              "    <tr style=\"text-align: right;\">\n",
              "      <th></th>\n",
              "      <th>PosFreq</th>\n",
              "      <th>NegFreq</th>\n",
              "    </tr>\n",
              "  </thead>\n",
              "  <tbody>\n",
              "    <tr>\n",
              "      <th>thrice</th>\n",
              "      <td>0</td>\n",
              "      <td>1</td>\n",
              "    </tr>\n",
              "    <tr>\n",
              "      <th>develop</th>\n",
              "      <td>1</td>\n",
              "      <td>0</td>\n",
              "    </tr>\n",
              "    <tr>\n",
              "      <th>ages</th>\n",
              "      <td>1</td>\n",
              "      <td>1</td>\n",
              "    </tr>\n",
              "    <tr>\n",
              "      <th>guy</th>\n",
              "      <td>1</td>\n",
              "      <td>0</td>\n",
              "    </tr>\n",
              "    <tr>\n",
              "      <th>but</th>\n",
              "      <td>3</td>\n",
              "      <td>2</td>\n",
              "    </tr>\n",
              "    <tr>\n",
              "      <th>...</th>\n",
              "      <td>...</td>\n",
              "      <td>...</td>\n",
              "    </tr>\n",
              "    <tr>\n",
              "      <th>nihonjin</th>\n",
              "      <td>0</td>\n",
              "      <td>1</td>\n",
              "    </tr>\n",
              "    <tr>\n",
              "      <th>no</th>\n",
              "      <td>2</td>\n",
              "      <td>1</td>\n",
              "    </tr>\n",
              "    <tr>\n",
              "      <th>arts</th>\n",
              "      <td>0</td>\n",
              "      <td>1</td>\n",
              "    </tr>\n",
              "    <tr>\n",
              "      <th>had</th>\n",
              "      <td>2</td>\n",
              "      <td>0</td>\n",
              "    </tr>\n",
              "    <tr>\n",
              "      <th>stupidest</th>\n",
              "      <td>1</td>\n",
              "      <td>0</td>\n",
              "    </tr>\n",
              "  </tbody>\n",
              "</table>\n",
              "<p>277 rows × 2 columns</p>\n",
              "</div>\n",
              "      <button class=\"colab-df-convert\" onclick=\"convertToInteractive('df-91ef4c09-2f1a-4231-acf1-d4aed08d6443')\"\n",
              "              title=\"Convert this dataframe to an interactive table.\"\n",
              "              style=\"display:none;\">\n",
              "        \n",
              "  <svg xmlns=\"http://www.w3.org/2000/svg\" height=\"24px\"viewBox=\"0 0 24 24\"\n",
              "       width=\"24px\">\n",
              "    <path d=\"M0 0h24v24H0V0z\" fill=\"none\"/>\n",
              "    <path d=\"M18.56 5.44l.94 2.06.94-2.06 2.06-.94-2.06-.94-.94-2.06-.94 2.06-2.06.94zm-11 1L8.5 8.5l.94-2.06 2.06-.94-2.06-.94L8.5 2.5l-.94 2.06-2.06.94zm10 10l.94 2.06.94-2.06 2.06-.94-2.06-.94-.94-2.06-.94 2.06-2.06.94z\"/><path d=\"M17.41 7.96l-1.37-1.37c-.4-.4-.92-.59-1.43-.59-.52 0-1.04.2-1.43.59L10.3 9.45l-7.72 7.72c-.78.78-.78 2.05 0 2.83L4 21.41c.39.39.9.59 1.41.59.51 0 1.02-.2 1.41-.59l7.78-7.78 2.81-2.81c.8-.78.8-2.07 0-2.86zM5.41 20L4 18.59l7.72-7.72 1.47 1.35L5.41 20z\"/>\n",
              "  </svg>\n",
              "      </button>\n",
              "      \n",
              "  <style>\n",
              "    .colab-df-container {\n",
              "      display:flex;\n",
              "      flex-wrap:wrap;\n",
              "      gap: 12px;\n",
              "    }\n",
              "\n",
              "    .colab-df-convert {\n",
              "      background-color: #E8F0FE;\n",
              "      border: none;\n",
              "      border-radius: 50%;\n",
              "      cursor: pointer;\n",
              "      display: none;\n",
              "      fill: #1967D2;\n",
              "      height: 32px;\n",
              "      padding: 0 0 0 0;\n",
              "      width: 32px;\n",
              "    }\n",
              "\n",
              "    .colab-df-convert:hover {\n",
              "      background-color: #E2EBFA;\n",
              "      box-shadow: 0px 1px 2px rgba(60, 64, 67, 0.3), 0px 1px 3px 1px rgba(60, 64, 67, 0.15);\n",
              "      fill: #174EA6;\n",
              "    }\n",
              "\n",
              "    [theme=dark] .colab-df-convert {\n",
              "      background-color: #3B4455;\n",
              "      fill: #D2E3FC;\n",
              "    }\n",
              "\n",
              "    [theme=dark] .colab-df-convert:hover {\n",
              "      background-color: #434B5C;\n",
              "      box-shadow: 0px 1px 3px 1px rgba(0, 0, 0, 0.15);\n",
              "      filter: drop-shadow(0px 1px 2px rgba(0, 0, 0, 0.3));\n",
              "      fill: #FFFFFF;\n",
              "    }\n",
              "  </style>\n",
              "\n",
              "      <script>\n",
              "        const buttonEl =\n",
              "          document.querySelector('#df-91ef4c09-2f1a-4231-acf1-d4aed08d6443 button.colab-df-convert');\n",
              "        buttonEl.style.display =\n",
              "          google.colab.kernel.accessAllowed ? 'block' : 'none';\n",
              "\n",
              "        async function convertToInteractive(key) {\n",
              "          const element = document.querySelector('#df-91ef4c09-2f1a-4231-acf1-d4aed08d6443');\n",
              "          const dataTable =\n",
              "            await google.colab.kernel.invokeFunction('convertToInteractive',\n",
              "                                                     [key], {});\n",
              "          if (!dataTable) return;\n",
              "\n",
              "          const docLinkHtml = 'Like what you see? Visit the ' +\n",
              "            '<a target=\"_blank\" href=https://colab.research.google.com/notebooks/data_table.ipynb>data table notebook</a>'\n",
              "            + ' to learn more about interactive tables.';\n",
              "          element.innerHTML = '';\n",
              "          dataTable['output_type'] = 'display_data';\n",
              "          await google.colab.output.renderOutput(dataTable, element);\n",
              "          const docLink = document.createElement('div');\n",
              "          docLink.innerHTML = docLinkHtml;\n",
              "          element.appendChild(docLink);\n",
              "        }\n",
              "      </script>\n",
              "    </div>\n",
              "  </div>\n",
              "  "
            ]
          },
          "metadata": {},
          "execution_count": 28
        }
      ]
    },
    {
      "cell_type": "code",
      "source": [
        "def extract_features(freq_df, tweet):\n",
        "  x_m = [1, 0, 0]\n",
        "\n",
        "  pos_freq = freq_df.iloc[:, 0]\n",
        "  neg_freq = freq_df.iloc[:, 1]\n",
        "\n",
        "  for t in tweet:\n",
        "    if t in freq_df.index:\n",
        "      pos_count, neg_count = freq_df.loc[t]\n",
        "      x_m[1] += pos_count\n",
        "      x_m[-1] += neg_count\n",
        "\n",
        "  return x_m"
      ],
      "metadata": {
        "id": "z-xskp1_CdMr"
      },
      "execution_count": 29,
      "outputs": []
    },
    {
      "cell_type": "code",
      "source": [
        "fe_matrix = []\n",
        "for ds in [pr_pos, pr_neg]:\n",
        "  for n in ds:\n",
        "    x_m = extract_features(freq_df, set(n.split()))\n",
        "    fe_matrix.append(x_m)  "
      ],
      "metadata": {
        "id": "e3-Ea1BeWxp2"
      },
      "execution_count": 30,
      "outputs": []
    },
    {
      "cell_type": "code",
      "source": [
        "fe_matrix = np.array(fe_matrix)"
      ],
      "metadata": {
        "id": "iaodGbnLXfU9"
      },
      "execution_count": 31,
      "outputs": []
    },
    {
      "cell_type": "code",
      "source": [
        "fe_matrix"
      ],
      "metadata": {
        "colab": {
          "base_uri": "https://localhost:8080/"
        },
        "id": "mDSo_l6wXr4P",
        "outputId": "2fb80607-d61f-4f54-a30b-d316a6fec184"
      },
      "execution_count": 32,
      "outputs": [
        {
          "output_type": "execute_result",
          "data": {
            "text/plain": [
              "array([[  1, 169,  41],\n",
              "       [  1, 217,  48],\n",
              "       [  1,  82, 136],\n",
              "       [  1,  51,  94]])"
            ]
          },
          "metadata": {},
          "execution_count": 32
        }
      ]
    },
    {
      "cell_type": "code",
      "source": [
        "theta = np.array([0.000003, 0.00154, -0.00132])\n",
        "\n",
        "pred = 1/(1 + np.exp(-theta.T * fe_matrix))"
      ],
      "metadata": {
        "id": "e2FBm4dNqnns"
      },
      "execution_count": 33,
      "outputs": []
    },
    {
      "cell_type": "code",
      "source": [
        "pred"
      ],
      "metadata": {
        "colab": {
          "base_uri": "https://localhost:8080/"
        },
        "id": "7MX4cplHrMsl",
        "outputId": "fd5a7ef2-03ee-4d95-de27-13b6f0979823"
      },
      "execution_count": 34,
      "outputs": [
        {
          "output_type": "execute_result",
          "data": {
            "text/plain": [
              "array([[0.50000075, 0.5647002 , 0.4864733 ],\n",
              "       [0.50000075, 0.58277609, 0.4841653 ],\n",
              "       [0.50000075, 0.53152811, 0.45524014],\n",
              "       [0.50000075, 0.51962491, 0.46901974]])"
            ]
          },
          "metadata": {},
          "execution_count": 34
        }
      ]
    },
    {
      "cell_type": "code",
      "source": [
        "pred_classes = []\n",
        "for p in pred:\n",
        "  if p[1] > 0.55:\n",
        "    pred_classes.append(0)\n",
        "  else:\n",
        "    pred_classes.append(1)"
      ],
      "metadata": {
        "id": "zs7E8LaEr7c-"
      },
      "execution_count": 35,
      "outputs": []
    },
    {
      "cell_type": "code",
      "source": [
        "y = np.array([0, 0, 1, 1])\n",
        "pred_classes"
      ],
      "metadata": {
        "colab": {
          "base_uri": "https://localhost:8080/"
        },
        "id": "YyI0SpK7weAN",
        "outputId": "a75fbe62-707f-40e5-8ddf-a18ffc866046"
      },
      "execution_count": 36,
      "outputs": [
        {
          "output_type": "execute_result",
          "data": {
            "text/plain": [
              "[0, 0, 1, 1]"
            ]
          },
          "metadata": {},
          "execution_count": 36
        }
      ]
    },
    {
      "cell_type": "code",
      "source": [
        "score = 100*np.sum(y==pred_classes) / len(pred)"
      ],
      "metadata": {
        "id": "wG_mhSlnxo3N"
      },
      "execution_count": 37,
      "outputs": []
    },
    {
      "cell_type": "code",
      "source": [
        "score"
      ],
      "metadata": {
        "colab": {
          "base_uri": "https://localhost:8080/"
        },
        "id": "a2MGa9KMx7uA",
        "outputId": "b1c2a368-2478-45eb-b499-c366c35974bd"
      },
      "execution_count": 38,
      "outputs": [
        {
          "output_type": "execute_result",
          "data": {
            "text/plain": [
              "100.0"
            ]
          },
          "metadata": {},
          "execution_count": 38
        }
      ]
    },
    {
      "cell_type": "code",
      "source": [
        "y==pred_classes"
      ],
      "metadata": {
        "colab": {
          "base_uri": "https://localhost:8080/"
        },
        "id": "ZE8KNli4x9aJ",
        "outputId": "e64a1444-9e85-4e71-d636-74ab609460e9"
      },
      "execution_count": 39,
      "outputs": [
        {
          "output_type": "execute_result",
          "data": {
            "text/plain": [
              "array([ True,  True,  True,  True])"
            ]
          },
          "metadata": {},
          "execution_count": 39
        }
      ]
    },
    {
      "cell_type": "code",
      "source": [
        "pos_count = np.sum(freq_df.iloc[:,0])\n",
        "neg_count = np.sum(freq_df.iloc[:,1])\n",
        "total = len(vocab)\n",
        "print(pos_count, neg_count, total)"
      ],
      "metadata": {
        "id": "-AreDNCDy3Nr",
        "colab": {
          "base_uri": "https://localhost:8080/"
        },
        "outputId": "e947e0e4-6c4c-4219-e110-24d775336b60"
      },
      "execution_count": 40,
      "outputs": [
        {
          "output_type": "stream",
          "name": "stdout",
          "text": [
            "277 187 277\n"
          ]
        }
      ]
    },
    {
      "cell_type": "code",
      "source": [
        "pfreq_df = []\n",
        "pfreq_df.append(freq_df.iloc[:, 0] / pos_count)\n",
        "pfreq_df.append(freq_df.iloc[:, 1] / neg_count)"
      ],
      "metadata": {
        "id": "lnuRRFsQkq7I"
      },
      "execution_count": 41,
      "outputs": []
    },
    {
      "cell_type": "code",
      "source": [
        "pfreq_df = pd.DataFrame(pfreq_df).T"
      ],
      "metadata": {
        "id": "vcVLX-7bmLd-"
      },
      "execution_count": 42,
      "outputs": []
    },
    {
      "cell_type": "code",
      "source": [
        "pfreq_df"
      ],
      "metadata": {
        "colab": {
          "base_uri": "https://localhost:8080/",
          "height": 423
        },
        "id": "ZV9gURdznmjx",
        "outputId": "0c8b0ea1-3f90-46ff-fbba-95665fc0edb5"
      },
      "execution_count": 43,
      "outputs": [
        {
          "output_type": "execute_result",
          "data": {
            "text/plain": [
              "           PosFreq   NegFreq\n",
              "thrice     0.00000  0.005348\n",
              "develop    0.00361  0.000000\n",
              "ages       0.00361  0.005348\n",
              "guy        0.00361  0.000000\n",
              "but        0.01083  0.010695\n",
              "...            ...       ...\n",
              "nihonjin   0.00000  0.005348\n",
              "no         0.00722  0.005348\n",
              "arts       0.00000  0.005348\n",
              "had        0.00722  0.000000\n",
              "stupidest  0.00361  0.000000\n",
              "\n",
              "[277 rows x 2 columns]"
            ],
            "text/html": [
              "\n",
              "  <div id=\"df-89584062-e3b8-472e-b2d8-071f986d5a77\">\n",
              "    <div class=\"colab-df-container\">\n",
              "      <div>\n",
              "<style scoped>\n",
              "    .dataframe tbody tr th:only-of-type {\n",
              "        vertical-align: middle;\n",
              "    }\n",
              "\n",
              "    .dataframe tbody tr th {\n",
              "        vertical-align: top;\n",
              "    }\n",
              "\n",
              "    .dataframe thead th {\n",
              "        text-align: right;\n",
              "    }\n",
              "</style>\n",
              "<table border=\"1\" class=\"dataframe\">\n",
              "  <thead>\n",
              "    <tr style=\"text-align: right;\">\n",
              "      <th></th>\n",
              "      <th>PosFreq</th>\n",
              "      <th>NegFreq</th>\n",
              "    </tr>\n",
              "  </thead>\n",
              "  <tbody>\n",
              "    <tr>\n",
              "      <th>thrice</th>\n",
              "      <td>0.00000</td>\n",
              "      <td>0.005348</td>\n",
              "    </tr>\n",
              "    <tr>\n",
              "      <th>develop</th>\n",
              "      <td>0.00361</td>\n",
              "      <td>0.000000</td>\n",
              "    </tr>\n",
              "    <tr>\n",
              "      <th>ages</th>\n",
              "      <td>0.00361</td>\n",
              "      <td>0.005348</td>\n",
              "    </tr>\n",
              "    <tr>\n",
              "      <th>guy</th>\n",
              "      <td>0.00361</td>\n",
              "      <td>0.000000</td>\n",
              "    </tr>\n",
              "    <tr>\n",
              "      <th>but</th>\n",
              "      <td>0.01083</td>\n",
              "      <td>0.010695</td>\n",
              "    </tr>\n",
              "    <tr>\n",
              "      <th>...</th>\n",
              "      <td>...</td>\n",
              "      <td>...</td>\n",
              "    </tr>\n",
              "    <tr>\n",
              "      <th>nihonjin</th>\n",
              "      <td>0.00000</td>\n",
              "      <td>0.005348</td>\n",
              "    </tr>\n",
              "    <tr>\n",
              "      <th>no</th>\n",
              "      <td>0.00722</td>\n",
              "      <td>0.005348</td>\n",
              "    </tr>\n",
              "    <tr>\n",
              "      <th>arts</th>\n",
              "      <td>0.00000</td>\n",
              "      <td>0.005348</td>\n",
              "    </tr>\n",
              "    <tr>\n",
              "      <th>had</th>\n",
              "      <td>0.00722</td>\n",
              "      <td>0.000000</td>\n",
              "    </tr>\n",
              "    <tr>\n",
              "      <th>stupidest</th>\n",
              "      <td>0.00361</td>\n",
              "      <td>0.000000</td>\n",
              "    </tr>\n",
              "  </tbody>\n",
              "</table>\n",
              "<p>277 rows × 2 columns</p>\n",
              "</div>\n",
              "      <button class=\"colab-df-convert\" onclick=\"convertToInteractive('df-89584062-e3b8-472e-b2d8-071f986d5a77')\"\n",
              "              title=\"Convert this dataframe to an interactive table.\"\n",
              "              style=\"display:none;\">\n",
              "        \n",
              "  <svg xmlns=\"http://www.w3.org/2000/svg\" height=\"24px\"viewBox=\"0 0 24 24\"\n",
              "       width=\"24px\">\n",
              "    <path d=\"M0 0h24v24H0V0z\" fill=\"none\"/>\n",
              "    <path d=\"M18.56 5.44l.94 2.06.94-2.06 2.06-.94-2.06-.94-.94-2.06-.94 2.06-2.06.94zm-11 1L8.5 8.5l.94-2.06 2.06-.94-2.06-.94L8.5 2.5l-.94 2.06-2.06.94zm10 10l.94 2.06.94-2.06 2.06-.94-2.06-.94-.94-2.06-.94 2.06-2.06.94z\"/><path d=\"M17.41 7.96l-1.37-1.37c-.4-.4-.92-.59-1.43-.59-.52 0-1.04.2-1.43.59L10.3 9.45l-7.72 7.72c-.78.78-.78 2.05 0 2.83L4 21.41c.39.39.9.59 1.41.59.51 0 1.02-.2 1.41-.59l7.78-7.78 2.81-2.81c.8-.78.8-2.07 0-2.86zM5.41 20L4 18.59l7.72-7.72 1.47 1.35L5.41 20z\"/>\n",
              "  </svg>\n",
              "      </button>\n",
              "      \n",
              "  <style>\n",
              "    .colab-df-container {\n",
              "      display:flex;\n",
              "      flex-wrap:wrap;\n",
              "      gap: 12px;\n",
              "    }\n",
              "\n",
              "    .colab-df-convert {\n",
              "      background-color: #E8F0FE;\n",
              "      border: none;\n",
              "      border-radius: 50%;\n",
              "      cursor: pointer;\n",
              "      display: none;\n",
              "      fill: #1967D2;\n",
              "      height: 32px;\n",
              "      padding: 0 0 0 0;\n",
              "      width: 32px;\n",
              "    }\n",
              "\n",
              "    .colab-df-convert:hover {\n",
              "      background-color: #E2EBFA;\n",
              "      box-shadow: 0px 1px 2px rgba(60, 64, 67, 0.3), 0px 1px 3px 1px rgba(60, 64, 67, 0.15);\n",
              "      fill: #174EA6;\n",
              "    }\n",
              "\n",
              "    [theme=dark] .colab-df-convert {\n",
              "      background-color: #3B4455;\n",
              "      fill: #D2E3FC;\n",
              "    }\n",
              "\n",
              "    [theme=dark] .colab-df-convert:hover {\n",
              "      background-color: #434B5C;\n",
              "      box-shadow: 0px 1px 3px 1px rgba(0, 0, 0, 0.15);\n",
              "      filter: drop-shadow(0px 1px 2px rgba(0, 0, 0, 0.3));\n",
              "      fill: #FFFFFF;\n",
              "    }\n",
              "  </style>\n",
              "\n",
              "      <script>\n",
              "        const buttonEl =\n",
              "          document.querySelector('#df-89584062-e3b8-472e-b2d8-071f986d5a77 button.colab-df-convert');\n",
              "        buttonEl.style.display =\n",
              "          google.colab.kernel.accessAllowed ? 'block' : 'none';\n",
              "\n",
              "        async function convertToInteractive(key) {\n",
              "          const element = document.querySelector('#df-89584062-e3b8-472e-b2d8-071f986d5a77');\n",
              "          const dataTable =\n",
              "            await google.colab.kernel.invokeFunction('convertToInteractive',\n",
              "                                                     [key], {});\n",
              "          if (!dataTable) return;\n",
              "\n",
              "          const docLinkHtml = 'Like what you see? Visit the ' +\n",
              "            '<a target=\"_blank\" href=https://colab.research.google.com/notebooks/data_table.ipynb>data table notebook</a>'\n",
              "            + ' to learn more about interactive tables.';\n",
              "          element.innerHTML = '';\n",
              "          dataTable['output_type'] = 'display_data';\n",
              "          await google.colab.output.renderOutput(dataTable, element);\n",
              "          const docLink = document.createElement('div');\n",
              "          docLink.innerHTML = docLinkHtml;\n",
              "          element.appendChild(docLink);\n",
              "        }\n",
              "      </script>\n",
              "    </div>\n",
              "  </div>\n",
              "  "
            ]
          },
          "metadata": {},
          "execution_count": 43
        }
      ]
    },
    {
      "cell_type": "code",
      "source": [
        "##### Laplacian Smoothing Frequency DataFrame ==> To remove Zeoes\n",
        "ls_freq_df = []\n",
        "ls_freq_df.append((freq_df.iloc[:, 0] + 1) / (pos_count + total))\n",
        "ls_freq_df.append((freq_df.iloc[:, 1] + 1) / (neg_count + total))"
      ],
      "metadata": {
        "id": "q_mYw60XoMaY"
      },
      "execution_count": 44,
      "outputs": []
    },
    {
      "cell_type": "code",
      "source": [
        "ls_freq_df = pd.DataFrame(ls_freq_df).T"
      ],
      "metadata": {
        "id": "EOFtJb_3p0gx"
      },
      "execution_count": 45,
      "outputs": []
    },
    {
      "cell_type": "code",
      "source": [
        "ls_freq_df"
      ],
      "metadata": {
        "colab": {
          "base_uri": "https://localhost:8080/",
          "height": 423
        },
        "id": "6YzA0w9oqFhk",
        "outputId": "9cdd6b91-7c09-452d-a7e7-aab1a2eb26bf"
      },
      "execution_count": 46,
      "outputs": [
        {
          "output_type": "execute_result",
          "data": {
            "text/plain": [
              "            PosFreq   NegFreq\n",
              "thrice     0.001805  0.004310\n",
              "develop    0.003610  0.002155\n",
              "ages       0.003610  0.004310\n",
              "guy        0.003610  0.002155\n",
              "but        0.007220  0.006466\n",
              "...             ...       ...\n",
              "nihonjin   0.001805  0.004310\n",
              "no         0.005415  0.004310\n",
              "arts       0.001805  0.004310\n",
              "had        0.005415  0.002155\n",
              "stupidest  0.003610  0.002155\n",
              "\n",
              "[277 rows x 2 columns]"
            ],
            "text/html": [
              "\n",
              "  <div id=\"df-151db920-cc6f-41aa-9cf5-8ef9e4f0aabc\">\n",
              "    <div class=\"colab-df-container\">\n",
              "      <div>\n",
              "<style scoped>\n",
              "    .dataframe tbody tr th:only-of-type {\n",
              "        vertical-align: middle;\n",
              "    }\n",
              "\n",
              "    .dataframe tbody tr th {\n",
              "        vertical-align: top;\n",
              "    }\n",
              "\n",
              "    .dataframe thead th {\n",
              "        text-align: right;\n",
              "    }\n",
              "</style>\n",
              "<table border=\"1\" class=\"dataframe\">\n",
              "  <thead>\n",
              "    <tr style=\"text-align: right;\">\n",
              "      <th></th>\n",
              "      <th>PosFreq</th>\n",
              "      <th>NegFreq</th>\n",
              "    </tr>\n",
              "  </thead>\n",
              "  <tbody>\n",
              "    <tr>\n",
              "      <th>thrice</th>\n",
              "      <td>0.001805</td>\n",
              "      <td>0.004310</td>\n",
              "    </tr>\n",
              "    <tr>\n",
              "      <th>develop</th>\n",
              "      <td>0.003610</td>\n",
              "      <td>0.002155</td>\n",
              "    </tr>\n",
              "    <tr>\n",
              "      <th>ages</th>\n",
              "      <td>0.003610</td>\n",
              "      <td>0.004310</td>\n",
              "    </tr>\n",
              "    <tr>\n",
              "      <th>guy</th>\n",
              "      <td>0.003610</td>\n",
              "      <td>0.002155</td>\n",
              "    </tr>\n",
              "    <tr>\n",
              "      <th>but</th>\n",
              "      <td>0.007220</td>\n",
              "      <td>0.006466</td>\n",
              "    </tr>\n",
              "    <tr>\n",
              "      <th>...</th>\n",
              "      <td>...</td>\n",
              "      <td>...</td>\n",
              "    </tr>\n",
              "    <tr>\n",
              "      <th>nihonjin</th>\n",
              "      <td>0.001805</td>\n",
              "      <td>0.004310</td>\n",
              "    </tr>\n",
              "    <tr>\n",
              "      <th>no</th>\n",
              "      <td>0.005415</td>\n",
              "      <td>0.004310</td>\n",
              "    </tr>\n",
              "    <tr>\n",
              "      <th>arts</th>\n",
              "      <td>0.001805</td>\n",
              "      <td>0.004310</td>\n",
              "    </tr>\n",
              "    <tr>\n",
              "      <th>had</th>\n",
              "      <td>0.005415</td>\n",
              "      <td>0.002155</td>\n",
              "    </tr>\n",
              "    <tr>\n",
              "      <th>stupidest</th>\n",
              "      <td>0.003610</td>\n",
              "      <td>0.002155</td>\n",
              "    </tr>\n",
              "  </tbody>\n",
              "</table>\n",
              "<p>277 rows × 2 columns</p>\n",
              "</div>\n",
              "      <button class=\"colab-df-convert\" onclick=\"convertToInteractive('df-151db920-cc6f-41aa-9cf5-8ef9e4f0aabc')\"\n",
              "              title=\"Convert this dataframe to an interactive table.\"\n",
              "              style=\"display:none;\">\n",
              "        \n",
              "  <svg xmlns=\"http://www.w3.org/2000/svg\" height=\"24px\"viewBox=\"0 0 24 24\"\n",
              "       width=\"24px\">\n",
              "    <path d=\"M0 0h24v24H0V0z\" fill=\"none\"/>\n",
              "    <path d=\"M18.56 5.44l.94 2.06.94-2.06 2.06-.94-2.06-.94-.94-2.06-.94 2.06-2.06.94zm-11 1L8.5 8.5l.94-2.06 2.06-.94-2.06-.94L8.5 2.5l-.94 2.06-2.06.94zm10 10l.94 2.06.94-2.06 2.06-.94-2.06-.94-.94-2.06-.94 2.06-2.06.94z\"/><path d=\"M17.41 7.96l-1.37-1.37c-.4-.4-.92-.59-1.43-.59-.52 0-1.04.2-1.43.59L10.3 9.45l-7.72 7.72c-.78.78-.78 2.05 0 2.83L4 21.41c.39.39.9.59 1.41.59.51 0 1.02-.2 1.41-.59l7.78-7.78 2.81-2.81c.8-.78.8-2.07 0-2.86zM5.41 20L4 18.59l7.72-7.72 1.47 1.35L5.41 20z\"/>\n",
              "  </svg>\n",
              "      </button>\n",
              "      \n",
              "  <style>\n",
              "    .colab-df-container {\n",
              "      display:flex;\n",
              "      flex-wrap:wrap;\n",
              "      gap: 12px;\n",
              "    }\n",
              "\n",
              "    .colab-df-convert {\n",
              "      background-color: #E8F0FE;\n",
              "      border: none;\n",
              "      border-radius: 50%;\n",
              "      cursor: pointer;\n",
              "      display: none;\n",
              "      fill: #1967D2;\n",
              "      height: 32px;\n",
              "      padding: 0 0 0 0;\n",
              "      width: 32px;\n",
              "    }\n",
              "\n",
              "    .colab-df-convert:hover {\n",
              "      background-color: #E2EBFA;\n",
              "      box-shadow: 0px 1px 2px rgba(60, 64, 67, 0.3), 0px 1px 3px 1px rgba(60, 64, 67, 0.15);\n",
              "      fill: #174EA6;\n",
              "    }\n",
              "\n",
              "    [theme=dark] .colab-df-convert {\n",
              "      background-color: #3B4455;\n",
              "      fill: #D2E3FC;\n",
              "    }\n",
              "\n",
              "    [theme=dark] .colab-df-convert:hover {\n",
              "      background-color: #434B5C;\n",
              "      box-shadow: 0px 1px 3px 1px rgba(0, 0, 0, 0.15);\n",
              "      filter: drop-shadow(0px 1px 2px rgba(0, 0, 0, 0.3));\n",
              "      fill: #FFFFFF;\n",
              "    }\n",
              "  </style>\n",
              "\n",
              "      <script>\n",
              "        const buttonEl =\n",
              "          document.querySelector('#df-151db920-cc6f-41aa-9cf5-8ef9e4f0aabc button.colab-df-convert');\n",
              "        buttonEl.style.display =\n",
              "          google.colab.kernel.accessAllowed ? 'block' : 'none';\n",
              "\n",
              "        async function convertToInteractive(key) {\n",
              "          const element = document.querySelector('#df-151db920-cc6f-41aa-9cf5-8ef9e4f0aabc');\n",
              "          const dataTable =\n",
              "            await google.colab.kernel.invokeFunction('convertToInteractive',\n",
              "                                                     [key], {});\n",
              "          if (!dataTable) return;\n",
              "\n",
              "          const docLinkHtml = 'Like what you see? Visit the ' +\n",
              "            '<a target=\"_blank\" href=https://colab.research.google.com/notebooks/data_table.ipynb>data table notebook</a>'\n",
              "            + ' to learn more about interactive tables.';\n",
              "          element.innerHTML = '';\n",
              "          dataTable['output_type'] = 'display_data';\n",
              "          await google.colab.output.renderOutput(dataTable, element);\n",
              "          const docLink = document.createElement('div');\n",
              "          docLink.innerHTML = docLinkHtml;\n",
              "          element.appendChild(docLink);\n",
              "        }\n",
              "      </script>\n",
              "    </div>\n",
              "  </div>\n",
              "  "
            ]
          },
          "metadata": {},
          "execution_count": 46
        }
      ]
    },
    {
      "cell_type": "code",
      "source": [
        "balanced_dataset_metric = pos_count / neg_count\n",
        "ls_freq_df['ratio'] = balanced_dataset_metric * (ls_freq_df['PosFreq'] / ls_freq_df['NegFreq'])"
      ],
      "metadata": {
        "id": "9x2lJ_BmqHvM"
      },
      "execution_count": 47,
      "outputs": []
    },
    {
      "cell_type": "code",
      "source": [
        "ls_freq_df"
      ],
      "metadata": {
        "colab": {
          "base_uri": "https://localhost:8080/",
          "height": 423
        },
        "id": "2gNeoTleq5OF",
        "outputId": "ebec34e1-7576-4326-bf1d-a8bbc935bc52"
      },
      "execution_count": 48,
      "outputs": [
        {
          "output_type": "execute_result",
          "data": {
            "text/plain": [
              "            PosFreq   NegFreq     ratio\n",
              "thrice     0.001805  0.004310  0.620321\n",
              "develop    0.003610  0.002155  2.481283\n",
              "ages       0.003610  0.004310  1.240642\n",
              "guy        0.003610  0.002155  2.481283\n",
              "but        0.007220  0.006466  1.654189\n",
              "...             ...       ...       ...\n",
              "nihonjin   0.001805  0.004310  0.620321\n",
              "no         0.005415  0.004310  1.860963\n",
              "arts       0.001805  0.004310  0.620321\n",
              "had        0.005415  0.002155  3.721925\n",
              "stupidest  0.003610  0.002155  2.481283\n",
              "\n",
              "[277 rows x 3 columns]"
            ],
            "text/html": [
              "\n",
              "  <div id=\"df-d057a7fa-df37-4945-a2c3-83189c465476\">\n",
              "    <div class=\"colab-df-container\">\n",
              "      <div>\n",
              "<style scoped>\n",
              "    .dataframe tbody tr th:only-of-type {\n",
              "        vertical-align: middle;\n",
              "    }\n",
              "\n",
              "    .dataframe tbody tr th {\n",
              "        vertical-align: top;\n",
              "    }\n",
              "\n",
              "    .dataframe thead th {\n",
              "        text-align: right;\n",
              "    }\n",
              "</style>\n",
              "<table border=\"1\" class=\"dataframe\">\n",
              "  <thead>\n",
              "    <tr style=\"text-align: right;\">\n",
              "      <th></th>\n",
              "      <th>PosFreq</th>\n",
              "      <th>NegFreq</th>\n",
              "      <th>ratio</th>\n",
              "    </tr>\n",
              "  </thead>\n",
              "  <tbody>\n",
              "    <tr>\n",
              "      <th>thrice</th>\n",
              "      <td>0.001805</td>\n",
              "      <td>0.004310</td>\n",
              "      <td>0.620321</td>\n",
              "    </tr>\n",
              "    <tr>\n",
              "      <th>develop</th>\n",
              "      <td>0.003610</td>\n",
              "      <td>0.002155</td>\n",
              "      <td>2.481283</td>\n",
              "    </tr>\n",
              "    <tr>\n",
              "      <th>ages</th>\n",
              "      <td>0.003610</td>\n",
              "      <td>0.004310</td>\n",
              "      <td>1.240642</td>\n",
              "    </tr>\n",
              "    <tr>\n",
              "      <th>guy</th>\n",
              "      <td>0.003610</td>\n",
              "      <td>0.002155</td>\n",
              "      <td>2.481283</td>\n",
              "    </tr>\n",
              "    <tr>\n",
              "      <th>but</th>\n",
              "      <td>0.007220</td>\n",
              "      <td>0.006466</td>\n",
              "      <td>1.654189</td>\n",
              "    </tr>\n",
              "    <tr>\n",
              "      <th>...</th>\n",
              "      <td>...</td>\n",
              "      <td>...</td>\n",
              "      <td>...</td>\n",
              "    </tr>\n",
              "    <tr>\n",
              "      <th>nihonjin</th>\n",
              "      <td>0.001805</td>\n",
              "      <td>0.004310</td>\n",
              "      <td>0.620321</td>\n",
              "    </tr>\n",
              "    <tr>\n",
              "      <th>no</th>\n",
              "      <td>0.005415</td>\n",
              "      <td>0.004310</td>\n",
              "      <td>1.860963</td>\n",
              "    </tr>\n",
              "    <tr>\n",
              "      <th>arts</th>\n",
              "      <td>0.001805</td>\n",
              "      <td>0.004310</td>\n",
              "      <td>0.620321</td>\n",
              "    </tr>\n",
              "    <tr>\n",
              "      <th>had</th>\n",
              "      <td>0.005415</td>\n",
              "      <td>0.002155</td>\n",
              "      <td>3.721925</td>\n",
              "    </tr>\n",
              "    <tr>\n",
              "      <th>stupidest</th>\n",
              "      <td>0.003610</td>\n",
              "      <td>0.002155</td>\n",
              "      <td>2.481283</td>\n",
              "    </tr>\n",
              "  </tbody>\n",
              "</table>\n",
              "<p>277 rows × 3 columns</p>\n",
              "</div>\n",
              "      <button class=\"colab-df-convert\" onclick=\"convertToInteractive('df-d057a7fa-df37-4945-a2c3-83189c465476')\"\n",
              "              title=\"Convert this dataframe to an interactive table.\"\n",
              "              style=\"display:none;\">\n",
              "        \n",
              "  <svg xmlns=\"http://www.w3.org/2000/svg\" height=\"24px\"viewBox=\"0 0 24 24\"\n",
              "       width=\"24px\">\n",
              "    <path d=\"M0 0h24v24H0V0z\" fill=\"none\"/>\n",
              "    <path d=\"M18.56 5.44l.94 2.06.94-2.06 2.06-.94-2.06-.94-.94-2.06-.94 2.06-2.06.94zm-11 1L8.5 8.5l.94-2.06 2.06-.94-2.06-.94L8.5 2.5l-.94 2.06-2.06.94zm10 10l.94 2.06.94-2.06 2.06-.94-2.06-.94-.94-2.06-.94 2.06-2.06.94z\"/><path d=\"M17.41 7.96l-1.37-1.37c-.4-.4-.92-.59-1.43-.59-.52 0-1.04.2-1.43.59L10.3 9.45l-7.72 7.72c-.78.78-.78 2.05 0 2.83L4 21.41c.39.39.9.59 1.41.59.51 0 1.02-.2 1.41-.59l7.78-7.78 2.81-2.81c.8-.78.8-2.07 0-2.86zM5.41 20L4 18.59l7.72-7.72 1.47 1.35L5.41 20z\"/>\n",
              "  </svg>\n",
              "      </button>\n",
              "      \n",
              "  <style>\n",
              "    .colab-df-container {\n",
              "      display:flex;\n",
              "      flex-wrap:wrap;\n",
              "      gap: 12px;\n",
              "    }\n",
              "\n",
              "    .colab-df-convert {\n",
              "      background-color: #E8F0FE;\n",
              "      border: none;\n",
              "      border-radius: 50%;\n",
              "      cursor: pointer;\n",
              "      display: none;\n",
              "      fill: #1967D2;\n",
              "      height: 32px;\n",
              "      padding: 0 0 0 0;\n",
              "      width: 32px;\n",
              "    }\n",
              "\n",
              "    .colab-df-convert:hover {\n",
              "      background-color: #E2EBFA;\n",
              "      box-shadow: 0px 1px 2px rgba(60, 64, 67, 0.3), 0px 1px 3px 1px rgba(60, 64, 67, 0.15);\n",
              "      fill: #174EA6;\n",
              "    }\n",
              "\n",
              "    [theme=dark] .colab-df-convert {\n",
              "      background-color: #3B4455;\n",
              "      fill: #D2E3FC;\n",
              "    }\n",
              "\n",
              "    [theme=dark] .colab-df-convert:hover {\n",
              "      background-color: #434B5C;\n",
              "      box-shadow: 0px 1px 3px 1px rgba(0, 0, 0, 0.15);\n",
              "      filter: drop-shadow(0px 1px 2px rgba(0, 0, 0, 0.3));\n",
              "      fill: #FFFFFF;\n",
              "    }\n",
              "  </style>\n",
              "\n",
              "      <script>\n",
              "        const buttonEl =\n",
              "          document.querySelector('#df-d057a7fa-df37-4945-a2c3-83189c465476 button.colab-df-convert');\n",
              "        buttonEl.style.display =\n",
              "          google.colab.kernel.accessAllowed ? 'block' : 'none';\n",
              "\n",
              "        async function convertToInteractive(key) {\n",
              "          const element = document.querySelector('#df-d057a7fa-df37-4945-a2c3-83189c465476');\n",
              "          const dataTable =\n",
              "            await google.colab.kernel.invokeFunction('convertToInteractive',\n",
              "                                                     [key], {});\n",
              "          if (!dataTable) return;\n",
              "\n",
              "          const docLinkHtml = 'Like what you see? Visit the ' +\n",
              "            '<a target=\"_blank\" href=https://colab.research.google.com/notebooks/data_table.ipynb>data table notebook</a>'\n",
              "            + ' to learn more about interactive tables.';\n",
              "          element.innerHTML = '';\n",
              "          dataTable['output_type'] = 'display_data';\n",
              "          await google.colab.output.renderOutput(dataTable, element);\n",
              "          const docLink = document.createElement('div');\n",
              "          docLink.innerHTML = docLinkHtml;\n",
              "          element.appendChild(docLink);\n",
              "        }\n",
              "      </script>\n",
              "    </div>\n",
              "  </div>\n",
              "  "
            ]
          },
          "metadata": {},
          "execution_count": 48
        }
      ]
    },
    {
      "cell_type": "code",
      "source": [
        "ls_freq_df['lambda'] = np.log(ls_freq_df['ratio'])"
      ],
      "metadata": {
        "id": "RvSFLCvmrDc7"
      },
      "execution_count": 49,
      "outputs": []
    },
    {
      "cell_type": "code",
      "source": [
        "ls_freq_df"
      ],
      "metadata": {
        "colab": {
          "base_uri": "https://localhost:8080/",
          "height": 423
        },
        "id": "6Jh-zUUTrYQq",
        "outputId": "6e90ee5b-add0-48f4-97b2-fe80e7732537"
      },
      "execution_count": 50,
      "outputs": [
        {
          "output_type": "execute_result",
          "data": {
            "text/plain": [
              "            PosFreq   NegFreq     ratio    lambda\n",
              "thrice     0.001805  0.004310  0.620321 -0.477518\n",
              "develop    0.003610  0.002155  2.481283  0.908776\n",
              "ages       0.003610  0.004310  1.240642  0.215629\n",
              "guy        0.003610  0.002155  2.481283  0.908776\n",
              "but        0.007220  0.006466  1.654189  0.503311\n",
              "...             ...       ...       ...       ...\n",
              "nihonjin   0.001805  0.004310  0.620321 -0.477518\n",
              "no         0.005415  0.004310  1.860963  0.621094\n",
              "arts       0.001805  0.004310  0.620321 -0.477518\n",
              "had        0.005415  0.002155  3.721925  1.314241\n",
              "stupidest  0.003610  0.002155  2.481283  0.908776\n",
              "\n",
              "[277 rows x 4 columns]"
            ],
            "text/html": [
              "\n",
              "  <div id=\"df-ef96a13f-4a11-455d-81d2-0d2dbd8055e3\">\n",
              "    <div class=\"colab-df-container\">\n",
              "      <div>\n",
              "<style scoped>\n",
              "    .dataframe tbody tr th:only-of-type {\n",
              "        vertical-align: middle;\n",
              "    }\n",
              "\n",
              "    .dataframe tbody tr th {\n",
              "        vertical-align: top;\n",
              "    }\n",
              "\n",
              "    .dataframe thead th {\n",
              "        text-align: right;\n",
              "    }\n",
              "</style>\n",
              "<table border=\"1\" class=\"dataframe\">\n",
              "  <thead>\n",
              "    <tr style=\"text-align: right;\">\n",
              "      <th></th>\n",
              "      <th>PosFreq</th>\n",
              "      <th>NegFreq</th>\n",
              "      <th>ratio</th>\n",
              "      <th>lambda</th>\n",
              "    </tr>\n",
              "  </thead>\n",
              "  <tbody>\n",
              "    <tr>\n",
              "      <th>thrice</th>\n",
              "      <td>0.001805</td>\n",
              "      <td>0.004310</td>\n",
              "      <td>0.620321</td>\n",
              "      <td>-0.477518</td>\n",
              "    </tr>\n",
              "    <tr>\n",
              "      <th>develop</th>\n",
              "      <td>0.003610</td>\n",
              "      <td>0.002155</td>\n",
              "      <td>2.481283</td>\n",
              "      <td>0.908776</td>\n",
              "    </tr>\n",
              "    <tr>\n",
              "      <th>ages</th>\n",
              "      <td>0.003610</td>\n",
              "      <td>0.004310</td>\n",
              "      <td>1.240642</td>\n",
              "      <td>0.215629</td>\n",
              "    </tr>\n",
              "    <tr>\n",
              "      <th>guy</th>\n",
              "      <td>0.003610</td>\n",
              "      <td>0.002155</td>\n",
              "      <td>2.481283</td>\n",
              "      <td>0.908776</td>\n",
              "    </tr>\n",
              "    <tr>\n",
              "      <th>but</th>\n",
              "      <td>0.007220</td>\n",
              "      <td>0.006466</td>\n",
              "      <td>1.654189</td>\n",
              "      <td>0.503311</td>\n",
              "    </tr>\n",
              "    <tr>\n",
              "      <th>...</th>\n",
              "      <td>...</td>\n",
              "      <td>...</td>\n",
              "      <td>...</td>\n",
              "      <td>...</td>\n",
              "    </tr>\n",
              "    <tr>\n",
              "      <th>nihonjin</th>\n",
              "      <td>0.001805</td>\n",
              "      <td>0.004310</td>\n",
              "      <td>0.620321</td>\n",
              "      <td>-0.477518</td>\n",
              "    </tr>\n",
              "    <tr>\n",
              "      <th>no</th>\n",
              "      <td>0.005415</td>\n",
              "      <td>0.004310</td>\n",
              "      <td>1.860963</td>\n",
              "      <td>0.621094</td>\n",
              "    </tr>\n",
              "    <tr>\n",
              "      <th>arts</th>\n",
              "      <td>0.001805</td>\n",
              "      <td>0.004310</td>\n",
              "      <td>0.620321</td>\n",
              "      <td>-0.477518</td>\n",
              "    </tr>\n",
              "    <tr>\n",
              "      <th>had</th>\n",
              "      <td>0.005415</td>\n",
              "      <td>0.002155</td>\n",
              "      <td>3.721925</td>\n",
              "      <td>1.314241</td>\n",
              "    </tr>\n",
              "    <tr>\n",
              "      <th>stupidest</th>\n",
              "      <td>0.003610</td>\n",
              "      <td>0.002155</td>\n",
              "      <td>2.481283</td>\n",
              "      <td>0.908776</td>\n",
              "    </tr>\n",
              "  </tbody>\n",
              "</table>\n",
              "<p>277 rows × 4 columns</p>\n",
              "</div>\n",
              "      <button class=\"colab-df-convert\" onclick=\"convertToInteractive('df-ef96a13f-4a11-455d-81d2-0d2dbd8055e3')\"\n",
              "              title=\"Convert this dataframe to an interactive table.\"\n",
              "              style=\"display:none;\">\n",
              "        \n",
              "  <svg xmlns=\"http://www.w3.org/2000/svg\" height=\"24px\"viewBox=\"0 0 24 24\"\n",
              "       width=\"24px\">\n",
              "    <path d=\"M0 0h24v24H0V0z\" fill=\"none\"/>\n",
              "    <path d=\"M18.56 5.44l.94 2.06.94-2.06 2.06-.94-2.06-.94-.94-2.06-.94 2.06-2.06.94zm-11 1L8.5 8.5l.94-2.06 2.06-.94-2.06-.94L8.5 2.5l-.94 2.06-2.06.94zm10 10l.94 2.06.94-2.06 2.06-.94-2.06-.94-.94-2.06-.94 2.06-2.06.94z\"/><path d=\"M17.41 7.96l-1.37-1.37c-.4-.4-.92-.59-1.43-.59-.52 0-1.04.2-1.43.59L10.3 9.45l-7.72 7.72c-.78.78-.78 2.05 0 2.83L4 21.41c.39.39.9.59 1.41.59.51 0 1.02-.2 1.41-.59l7.78-7.78 2.81-2.81c.8-.78.8-2.07 0-2.86zM5.41 20L4 18.59l7.72-7.72 1.47 1.35L5.41 20z\"/>\n",
              "  </svg>\n",
              "      </button>\n",
              "      \n",
              "  <style>\n",
              "    .colab-df-container {\n",
              "      display:flex;\n",
              "      flex-wrap:wrap;\n",
              "      gap: 12px;\n",
              "    }\n",
              "\n",
              "    .colab-df-convert {\n",
              "      background-color: #E8F0FE;\n",
              "      border: none;\n",
              "      border-radius: 50%;\n",
              "      cursor: pointer;\n",
              "      display: none;\n",
              "      fill: #1967D2;\n",
              "      height: 32px;\n",
              "      padding: 0 0 0 0;\n",
              "      width: 32px;\n",
              "    }\n",
              "\n",
              "    .colab-df-convert:hover {\n",
              "      background-color: #E2EBFA;\n",
              "      box-shadow: 0px 1px 2px rgba(60, 64, 67, 0.3), 0px 1px 3px 1px rgba(60, 64, 67, 0.15);\n",
              "      fill: #174EA6;\n",
              "    }\n",
              "\n",
              "    [theme=dark] .colab-df-convert {\n",
              "      background-color: #3B4455;\n",
              "      fill: #D2E3FC;\n",
              "    }\n",
              "\n",
              "    [theme=dark] .colab-df-convert:hover {\n",
              "      background-color: #434B5C;\n",
              "      box-shadow: 0px 1px 3px 1px rgba(0, 0, 0, 0.15);\n",
              "      filter: drop-shadow(0px 1px 2px rgba(0, 0, 0, 0.3));\n",
              "      fill: #FFFFFF;\n",
              "    }\n",
              "  </style>\n",
              "\n",
              "      <script>\n",
              "        const buttonEl =\n",
              "          document.querySelector('#df-ef96a13f-4a11-455d-81d2-0d2dbd8055e3 button.colab-df-convert');\n",
              "        buttonEl.style.display =\n",
              "          google.colab.kernel.accessAllowed ? 'block' : 'none';\n",
              "\n",
              "        async function convertToInteractive(key) {\n",
              "          const element = document.querySelector('#df-ef96a13f-4a11-455d-81d2-0d2dbd8055e3');\n",
              "          const dataTable =\n",
              "            await google.colab.kernel.invokeFunction('convertToInteractive',\n",
              "                                                     [key], {});\n",
              "          if (!dataTable) return;\n",
              "\n",
              "          const docLinkHtml = 'Like what you see? Visit the ' +\n",
              "            '<a target=\"_blank\" href=https://colab.research.google.com/notebooks/data_table.ipynb>data table notebook</a>'\n",
              "            + ' to learn more about interactive tables.';\n",
              "          element.innerHTML = '';\n",
              "          dataTable['output_type'] = 'display_data';\n",
              "          await google.colab.output.renderOutput(dataTable, element);\n",
              "          const docLink = document.createElement('div');\n",
              "          docLink.innerHTML = docLinkHtml;\n",
              "          element.appendChild(docLink);\n",
              "        }\n",
              "      </script>\n",
              "    </div>\n",
              "  </div>\n",
              "  "
            ]
          },
          "metadata": {},
          "execution_count": 50
        }
      ]
    },
    {
      "cell_type": "code",
      "source": [
        "r = np.array([[3, 4], [3, -1]])\n",
        "s = np.array([[6, 0], [-4, 1]])\n",
        "np.dot(r, s)"
      ],
      "metadata": {
        "id": "0gAU74hYrbB8",
        "colab": {
          "base_uri": "https://localhost:8080/"
        },
        "outputId": "96956483-6fb7-43c7-a2ec-d34a76e1f953"
      },
      "execution_count": 51,
      "outputs": [
        {
          "output_type": "execute_result",
          "data": {
            "text/plain": [
              "array([[ 2,  4],\n",
              "       [22, -1]])"
            ]
          },
          "metadata": {},
          "execution_count": 51
        }
      ]
    },
    {
      "cell_type": "code",
      "source": [
        "def forbenius_norm(x):\n",
        "  squared_x = np.square(x)\n",
        "  sqrt_x = np.sqrt(np.sum(squared_x))\n",
        "  return sqrt_x"
      ],
      "metadata": {
        "id": "VBmK9V7py57O"
      },
      "execution_count": 52,
      "outputs": []
    },
    {
      "cell_type": "code",
      "source": [
        "forbenius_norm(r)"
      ],
      "metadata": {
        "colab": {
          "base_uri": "https://localhost:8080/"
        },
        "id": "XiXP-fee0XXK",
        "outputId": "e4ef0e1a-9c10-4e8e-a96d-30661af81792"
      },
      "execution_count": 53,
      "outputs": [
        {
          "output_type": "execute_result",
          "data": {
            "text/plain": [
              "5.916079783099616"
            ]
          },
          "metadata": {},
          "execution_count": 53
        }
      ]
    },
    {
      "cell_type": "code",
      "source": [
        "def hash_function(value, num_buckets):\n",
        "  return int(value) % num_buckets"
      ],
      "metadata": {
        "id": "KmXAooWe0Z7j"
      },
      "execution_count": 54,
      "outputs": []
    },
    {
      "cell_type": "code",
      "source": [
        "hash_function(1232, 10)"
      ],
      "metadata": {
        "colab": {
          "base_uri": "https://localhost:8080/"
        },
        "id": "D1Zcilod75WV",
        "outputId": "6c2dec21-3c2b-49cd-e410-4fa004910735"
      },
      "execution_count": 55,
      "outputs": [
        {
          "output_type": "execute_result",
          "data": {
            "text/plain": [
              "2"
            ]
          },
          "metadata": {},
          "execution_count": 55
        }
      ]
    },
    {
      "cell_type": "code",
      "source": [
        "def basic_hash_table(values, num_buckets):\n",
        "  \n",
        "  hash_table = {i: [] for i in range(num_buckets)}\n",
        "  for value in values:\n",
        "    hash_value = hash_function(value, num_buckets)\n",
        "    hash_table[hash_value].append(value)\n",
        "  return hash_table"
      ],
      "metadata": {
        "id": "9yN_HBrR7_eO"
      },
      "execution_count": 56,
      "outputs": []
    },
    {
      "cell_type": "code",
      "source": [
        "values = [1, 24, 39, 4, 45]\n",
        "basic_hash_table(values, 10)"
      ],
      "metadata": {
        "colab": {
          "base_uri": "https://localhost:8080/"
        },
        "id": "jYjic-KC8oqn",
        "outputId": "8f134e12-354d-4405-b4c3-bc21e2046163"
      },
      "execution_count": 57,
      "outputs": [
        {
          "output_type": "execute_result",
          "data": {
            "text/plain": [
              "{0: [],\n",
              " 1: [1],\n",
              " 2: [],\n",
              " 3: [],\n",
              " 4: [24, 4],\n",
              " 5: [45],\n",
              " 6: [],\n",
              " 7: [],\n",
              " 8: [],\n",
              " 9: [39]}"
            ]
          },
          "metadata": {},
          "execution_count": 57
        }
      ]
    },
    {
      "cell_type": "code",
      "source": [
        "def side_of_plane(p, v):\n",
        "  dotproduct = np.dot(p, v.T)\n",
        "  sign_of_dp = np.sign(dotproduct)\n",
        "  return sign_of_dp"
      ],
      "metadata": {
        "id": "otO1KiAI8xwh"
      },
      "execution_count": 72,
      "outputs": []
    },
    {
      "cell_type": "code",
      "source": [
        "side_of_plane(s, r[0])"
      ],
      "metadata": {
        "colab": {
          "base_uri": "https://localhost:8080/"
        },
        "id": "-C5Z3KQ89OwK",
        "outputId": "d89839e9-8bf3-456b-b11e-ee044fdc7451"
      },
      "execution_count": 73,
      "outputs": [
        {
          "output_type": "execute_result",
          "data": {
            "text/plain": [
              "array([ 1, -1])"
            ]
          },
          "metadata": {},
          "execution_count": 73
        }
      ]
    }
  ]
}