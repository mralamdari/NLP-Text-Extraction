{
  "nbformat": 4,
  "nbformat_minor": 0,
  "metadata": {
    "colab": {
      "name": "NLP-Find-Capitals-For-Countries-Beginner.ipynb",
      "provenance": [],
      "collapsed_sections": [],
      "authorship_tag": "ABX9TyMIElSAcaVu94ExqjyWE5Sn",
      "include_colab_link": true
    },
    "kernelspec": {
      "name": "python3",
      "display_name": "Python 3"
    },
    "language_info": {
      "name": "python"
    }
  },
  "cells": [
    {
      "cell_type": "markdown",
      "metadata": {
        "id": "view-in-github",
        "colab_type": "text"
      },
      "source": [
        "<a href=\"https://colab.research.google.com/github/mr-alamdari/NLP-Find-Capitals-For-Countries-Beginner/blob/main/NLP_Find_Capitals_For_Countries_Beginner.ipynb\" target=\"_parent\"><img src=\"https://colab.research.google.com/assets/colab-badge.svg\" alt=\"Open In Colab\"/></a>"
      ]
    },
    {
      "cell_type": "code",
      "execution_count": 21,
      "metadata": {
        "id": "z6pgZypLXOfU"
      },
      "outputs": [],
      "source": [
        "import os\n",
        "import re\n",
        "import pickle\n",
        "import numpy as np\n",
        "import pandas as pd\n",
        "import matplotlib.pyplot as plt"
      ]
    },
    {
      "cell_type": "code",
      "source": [
        "!wget https://raw.githubusercontent.com/amanjeetsahu/Natural-Language-Processing-Specialization/master/Natural%20Language%20Processing%20with%20Classification%20and%20Vector%20Spaces/Week%203/capitals.txt"
      ],
      "metadata": {
        "colab": {
          "base_uri": "https://localhost:8080/"
        },
        "id": "EGgP0b_YaCqM",
        "outputId": "aa16ba3b-db19-4f1a-e68a-59475a4d58b0"
      },
      "execution_count": 5,
      "outputs": [
        {
          "output_type": "stream",
          "name": "stdout",
          "text": [
            "--2022-04-16 12:48:40--  https://raw.githubusercontent.com/amanjeetsahu/Natural-Language-Processing-Specialization/master/Natural%20Language%20Processing%20with%20Classification%20and%20Vector%20Spaces/Week%203/capitals.txt\n",
            "Resolving raw.githubusercontent.com (raw.githubusercontent.com)... 185.199.111.133, 185.199.109.133, 185.199.108.133, ...\n",
            "Connecting to raw.githubusercontent.com (raw.githubusercontent.com)|185.199.111.133|:443... connected.\n",
            "HTTP request sent, awaiting response... 200 OK\n",
            "Length: 154424 (151K) [text/plain]\n",
            "Saving to: ‘capitals.txt’\n",
            "\n",
            "\rcapitals.txt          0%[                    ]       0  --.-KB/s               \rcapitals.txt        100%[===================>] 150.80K  --.-KB/s    in 0.02s   \n",
            "\n",
            "2022-04-16 12:48:40 (6.50 MB/s) - ‘capitals.txt’ saved [154424/154424]\n",
            "\n"
          ]
        }
      ]
    },
    {
      "cell_type": "code",
      "source": [
        "data = pd.read_csv('capitals.txt', delimiter=' ')\n",
        "data.columns = ['city1', 'country1', 'city2', 'country2']"
      ],
      "metadata": {
        "id": "5XYj_lWZaw70"
      },
      "execution_count": 6,
      "outputs": []
    },
    {
      "cell_type": "code",
      "source": [
        "data.head(10)"
      ],
      "metadata": {
        "colab": {
          "base_uri": "https://localhost:8080/",
          "height": 363
        },
        "id": "7O3Q1z-KbF_2",
        "outputId": "bbf6a99f-ed0a-4429-9250-0c0e9a732d17"
      },
      "execution_count": 7,
      "outputs": [
        {
          "output_type": "execute_result",
          "data": {
            "text/plain": [
              "    city1 country1      city2     country2\n",
              "0  Athens   Greece    Bangkok     Thailand\n",
              "1  Athens   Greece    Beijing        China\n",
              "2  Athens   Greece     Berlin      Germany\n",
              "3  Athens   Greece       Bern  Switzerland\n",
              "4  Athens   Greece      Cairo        Egypt\n",
              "5  Athens   Greece   Canberra    Australia\n",
              "6  Athens   Greece      Hanoi      Vietnam\n",
              "7  Athens   Greece     Havana         Cuba\n",
              "8  Athens   Greece   Helsinki      Finland\n",
              "9  Athens   Greece  Islamabad     Pakistan"
            ],
            "text/html": [
              "\n",
              "  <div id=\"df-e1c0733a-deac-4b2f-9225-6af72c893134\">\n",
              "    <div class=\"colab-df-container\">\n",
              "      <div>\n",
              "<style scoped>\n",
              "    .dataframe tbody tr th:only-of-type {\n",
              "        vertical-align: middle;\n",
              "    }\n",
              "\n",
              "    .dataframe tbody tr th {\n",
              "        vertical-align: top;\n",
              "    }\n",
              "\n",
              "    .dataframe thead th {\n",
              "        text-align: right;\n",
              "    }\n",
              "</style>\n",
              "<table border=\"1\" class=\"dataframe\">\n",
              "  <thead>\n",
              "    <tr style=\"text-align: right;\">\n",
              "      <th></th>\n",
              "      <th>city1</th>\n",
              "      <th>country1</th>\n",
              "      <th>city2</th>\n",
              "      <th>country2</th>\n",
              "    </tr>\n",
              "  </thead>\n",
              "  <tbody>\n",
              "    <tr>\n",
              "      <th>0</th>\n",
              "      <td>Athens</td>\n",
              "      <td>Greece</td>\n",
              "      <td>Bangkok</td>\n",
              "      <td>Thailand</td>\n",
              "    </tr>\n",
              "    <tr>\n",
              "      <th>1</th>\n",
              "      <td>Athens</td>\n",
              "      <td>Greece</td>\n",
              "      <td>Beijing</td>\n",
              "      <td>China</td>\n",
              "    </tr>\n",
              "    <tr>\n",
              "      <th>2</th>\n",
              "      <td>Athens</td>\n",
              "      <td>Greece</td>\n",
              "      <td>Berlin</td>\n",
              "      <td>Germany</td>\n",
              "    </tr>\n",
              "    <tr>\n",
              "      <th>3</th>\n",
              "      <td>Athens</td>\n",
              "      <td>Greece</td>\n",
              "      <td>Bern</td>\n",
              "      <td>Switzerland</td>\n",
              "    </tr>\n",
              "    <tr>\n",
              "      <th>4</th>\n",
              "      <td>Athens</td>\n",
              "      <td>Greece</td>\n",
              "      <td>Cairo</td>\n",
              "      <td>Egypt</td>\n",
              "    </tr>\n",
              "    <tr>\n",
              "      <th>5</th>\n",
              "      <td>Athens</td>\n",
              "      <td>Greece</td>\n",
              "      <td>Canberra</td>\n",
              "      <td>Australia</td>\n",
              "    </tr>\n",
              "    <tr>\n",
              "      <th>6</th>\n",
              "      <td>Athens</td>\n",
              "      <td>Greece</td>\n",
              "      <td>Hanoi</td>\n",
              "      <td>Vietnam</td>\n",
              "    </tr>\n",
              "    <tr>\n",
              "      <th>7</th>\n",
              "      <td>Athens</td>\n",
              "      <td>Greece</td>\n",
              "      <td>Havana</td>\n",
              "      <td>Cuba</td>\n",
              "    </tr>\n",
              "    <tr>\n",
              "      <th>8</th>\n",
              "      <td>Athens</td>\n",
              "      <td>Greece</td>\n",
              "      <td>Helsinki</td>\n",
              "      <td>Finland</td>\n",
              "    </tr>\n",
              "    <tr>\n",
              "      <th>9</th>\n",
              "      <td>Athens</td>\n",
              "      <td>Greece</td>\n",
              "      <td>Islamabad</td>\n",
              "      <td>Pakistan</td>\n",
              "    </tr>\n",
              "  </tbody>\n",
              "</table>\n",
              "</div>\n",
              "      <button class=\"colab-df-convert\" onclick=\"convertToInteractive('df-e1c0733a-deac-4b2f-9225-6af72c893134')\"\n",
              "              title=\"Convert this dataframe to an interactive table.\"\n",
              "              style=\"display:none;\">\n",
              "        \n",
              "  <svg xmlns=\"http://www.w3.org/2000/svg\" height=\"24px\"viewBox=\"0 0 24 24\"\n",
              "       width=\"24px\">\n",
              "    <path d=\"M0 0h24v24H0V0z\" fill=\"none\"/>\n",
              "    <path d=\"M18.56 5.44l.94 2.06.94-2.06 2.06-.94-2.06-.94-.94-2.06-.94 2.06-2.06.94zm-11 1L8.5 8.5l.94-2.06 2.06-.94-2.06-.94L8.5 2.5l-.94 2.06-2.06.94zm10 10l.94 2.06.94-2.06 2.06-.94-2.06-.94-.94-2.06-.94 2.06-2.06.94z\"/><path d=\"M17.41 7.96l-1.37-1.37c-.4-.4-.92-.59-1.43-.59-.52 0-1.04.2-1.43.59L10.3 9.45l-7.72 7.72c-.78.78-.78 2.05 0 2.83L4 21.41c.39.39.9.59 1.41.59.51 0 1.02-.2 1.41-.59l7.78-7.78 2.81-2.81c.8-.78.8-2.07 0-2.86zM5.41 20L4 18.59l7.72-7.72 1.47 1.35L5.41 20z\"/>\n",
              "  </svg>\n",
              "      </button>\n",
              "      \n",
              "  <style>\n",
              "    .colab-df-container {\n",
              "      display:flex;\n",
              "      flex-wrap:wrap;\n",
              "      gap: 12px;\n",
              "    }\n",
              "\n",
              "    .colab-df-convert {\n",
              "      background-color: #E8F0FE;\n",
              "      border: none;\n",
              "      border-radius: 50%;\n",
              "      cursor: pointer;\n",
              "      display: none;\n",
              "      fill: #1967D2;\n",
              "      height: 32px;\n",
              "      padding: 0 0 0 0;\n",
              "      width: 32px;\n",
              "    }\n",
              "\n",
              "    .colab-df-convert:hover {\n",
              "      background-color: #E2EBFA;\n",
              "      box-shadow: 0px 1px 2px rgba(60, 64, 67, 0.3), 0px 1px 3px 1px rgba(60, 64, 67, 0.15);\n",
              "      fill: #174EA6;\n",
              "    }\n",
              "\n",
              "    [theme=dark] .colab-df-convert {\n",
              "      background-color: #3B4455;\n",
              "      fill: #D2E3FC;\n",
              "    }\n",
              "\n",
              "    [theme=dark] .colab-df-convert:hover {\n",
              "      background-color: #434B5C;\n",
              "      box-shadow: 0px 1px 3px 1px rgba(0, 0, 0, 0.15);\n",
              "      filter: drop-shadow(0px 1px 2px rgba(0, 0, 0, 0.3));\n",
              "      fill: #FFFFFF;\n",
              "    }\n",
              "  </style>\n",
              "\n",
              "      <script>\n",
              "        const buttonEl =\n",
              "          document.querySelector('#df-e1c0733a-deac-4b2f-9225-6af72c893134 button.colab-df-convert');\n",
              "        buttonEl.style.display =\n",
              "          google.colab.kernel.accessAllowed ? 'block' : 'none';\n",
              "\n",
              "        async function convertToInteractive(key) {\n",
              "          const element = document.querySelector('#df-e1c0733a-deac-4b2f-9225-6af72c893134');\n",
              "          const dataTable =\n",
              "            await google.colab.kernel.invokeFunction('convertToInteractive',\n",
              "                                                     [key], {});\n",
              "          if (!dataTable) return;\n",
              "\n",
              "          const docLinkHtml = 'Like what you see? Visit the ' +\n",
              "            '<a target=\"_blank\" href=https://colab.research.google.com/notebooks/data_table.ipynb>data table notebook</a>'\n",
              "            + ' to learn more about interactive tables.';\n",
              "          element.innerHTML = '';\n",
              "          dataTable['output_type'] = 'display_data';\n",
              "          await google.colab.output.renderOutput(dataTable, element);\n",
              "          const docLink = document.createElement('div');\n",
              "          docLink.innerHTML = docLinkHtml;\n",
              "          element.appendChild(docLink);\n",
              "        }\n",
              "      </script>\n",
              "    </div>\n",
              "  </div>\n",
              "  "
            ]
          },
          "metadata": {},
          "execution_count": 7
        }
      ]
    },
    {
      "cell_type": "code",
      "source": [
        "!wget https://raw.githubusercontent.com/amanjeetsahu/Natural-Language-Processing-Specialization/master/Natural%20Language%20Processing%20with%20Classification%20and%20Vector%20Spaces/Week%203/word_embeddings_subset.p"
      ],
      "metadata": {
        "colab": {
          "base_uri": "https://localhost:8080/"
        },
        "id": "zj4zQA4ZgK8S",
        "outputId": "fce75c54-d40a-4103-e969-8a3e64cea68b"
      },
      "execution_count": 14,
      "outputs": [
        {
          "output_type": "stream",
          "name": "stdout",
          "text": [
            "--2022-04-16 13:13:43--  https://raw.githubusercontent.com/amanjeetsahu/Natural-Language-Processing-Specialization/master/Natural%20Language%20Processing%20with%20Classification%20and%20Vector%20Spaces/Week%203/word_embeddings_subset.p\n",
            "Resolving raw.githubusercontent.com (raw.githubusercontent.com)... 185.199.109.133, 185.199.111.133, 185.199.110.133, ...\n",
            "Connecting to raw.githubusercontent.com (raw.githubusercontent.com)|185.199.109.133|:443... connected.\n",
            "HTTP request sent, awaiting response... 200 OK\n",
            "Length: 309156 (302K) [application/octet-stream]\n",
            "Saving to: ‘word_embeddings_subset.p’\n",
            "\n",
            "\rword_embeddings_sub   0%[                    ]       0  --.-KB/s               \rword_embeddings_sub 100%[===================>] 301.91K  --.-KB/s    in 0.03s   \n",
            "\n",
            "2022-04-16 13:13:44 (8.98 MB/s) - ‘word_embeddings_subset.p’ saved [309156/309156]\n",
            "\n"
          ]
        }
      ]
    },
    {
      "cell_type": "code",
      "source": [
        "word_embeddings = pickle.load(open(\"word_embeddings_subset.p\", \"rb\"))"
      ],
      "metadata": {
        "id": "6faQBQgUgK3p"
      },
      "execution_count": 15,
      "outputs": []
    },
    {
      "cell_type": "code",
      "source": [
        "len(word_embeddings), len(word_embeddings['village'])"
      ],
      "metadata": {
        "colab": {
          "base_uri": "https://localhost:8080/"
        },
        "id": "pNJXjHz1ghrg",
        "outputId": "9b90c1c8-dec8-43da-b623-8a41956b26b1"
      },
      "execution_count": 20,
      "outputs": [
        {
          "output_type": "execute_result",
          "data": {
            "text/plain": [
              "(243, 300)"
            ]
          },
          "metadata": {},
          "execution_count": 20
        }
      ]
    },
    {
      "cell_type": "code",
      "source": [
        "def cosine_similarity(a, b):\n",
        "  #1\n",
        "  return a.dot(b) / (np.sqrt(np.sum(a**2)) * np.sqrt(np.sum(b**2)))\n",
        "  #2\n",
        "  # return a.dot(b) / (np.sqrt(a.dot(a)) * np.sqrt(b.dot(b)))\n",
        "  #3\n",
        "  # return a.dot(b) / (np.linalg.norm(a) * np.linalg.norm(b))"
      ],
      "metadata": {
        "id": "ihZmJX4QbHfM"
      },
      "execution_count": 39,
      "outputs": []
    },
    {
      "cell_type": "code",
      "source": [
        "king = word_embeddings['king']\n",
        "queen = word_embeddings['queen']"
      ],
      "metadata": {
        "id": "yueRXC93fw_v"
      },
      "execution_count": 40,
      "outputs": []
    },
    {
      "cell_type": "code",
      "source": [
        "cosine_similarity(king, queen)"
      ],
      "metadata": {
        "colab": {
          "base_uri": "https://localhost:8080/"
        },
        "id": "8F7uVSfwfy79",
        "outputId": "d4052c04-f6f9-4904-8ea9-1303f0681176"
      },
      "execution_count": 41,
      "outputs": [
        {
          "output_type": "execute_result",
          "data": {
            "text/plain": [
              "0.65109557"
            ]
          },
          "metadata": {},
          "execution_count": 41
        }
      ]
    },
    {
      "cell_type": "code",
      "source": [
        "def euclidean_distance(a, b):\n",
        "  return np.linalg.norm(a-b)"
      ],
      "metadata": {
        "id": "6Kciw0wThMHZ"
      },
      "execution_count": 42,
      "outputs": []
    },
    {
      "cell_type": "code",
      "source": [
        "euclidean_distance(king, queen)"
      ],
      "metadata": {
        "colab": {
          "base_uri": "https://localhost:8080/"
        },
        "id": "7ldVSD3tj6yR",
        "outputId": "3961e26c-ab2d-4ee5-a78b-7e3207fcc1a1"
      },
      "execution_count": 43,
      "outputs": [
        {
          "output_type": "execute_result",
          "data": {
            "text/plain": [
              "2.4796925"
            ]
          },
          "metadata": {},
          "execution_count": 43
        }
      ]
    },
    {
      "cell_type": "code",
      "source": [
        "def get_country(city1, country1, city2, embeddings):\n",
        " \n",
        "  city1_emb = word_embeddings.get(city1) \n",
        "  country1_emb = word_embeddings.get(country1)\n",
        "  city2_emb = word_embeddings.get(city2) \n",
        "\n",
        "  vec = country1_emb - city1_emb + city2_emb\n",
        "  best_similarity_rate = -1\n",
        "\n",
        "  for word in embeddings.keys():\n",
        "    \n",
        "    if word not in [city1, country1, city2]:\n",
        "      word_emb = embeddings[word]      \n",
        "      similarity = cosine_similarity(vec, word_emb)\n",
        "\n",
        "      if best_similarity_rate < similarity:\n",
        "        best_similarity_rate = similarity\n",
        "        country = (word, best_similarity_rate)\n",
        "\n",
        "  return country"
      ],
      "metadata": {
        "id": "QihGxUMUj_gw"
      },
      "execution_count": 64,
      "outputs": []
    },
    {
      "cell_type": "code",
      "source": [
        "get_country('Athens', 'Greece', 'Cairo', word_embeddings)"
      ],
      "metadata": {
        "colab": {
          "base_uri": "https://localhost:8080/"
        },
        "id": "TogF3mv3tk0e",
        "outputId": "9c416049-5173-47f7-af74-635a54cbb39a"
      },
      "execution_count": 65,
      "outputs": [
        {
          "output_type": "execute_result",
          "data": {
            "text/plain": [
              "('Egypt', 0.7626821)"
            ]
          },
          "metadata": {},
          "execution_count": 65
        }
      ]
    },
    {
      "cell_type": "code",
      "source": [
        "def total_accuracy(data, word_embeddings):\n",
        "\n",
        "  num_correct = 0\n",
        "  \n",
        "  for i, row in data.iterrows():\n",
        "    city1, country1 = row['city1'], row['country1']\n",
        "    \n",
        "    city2, country2 = row['city2'], row['country2']\n",
        "\n",
        "    predicted_country = get_country(city1, country1, city2, word_embeddings)\n",
        "    \n",
        "    if predicted_country[0] == country2:\n",
        "      num_correct += 1 \n",
        "\n",
        "  accuracy = num_correct / len(data)\n",
        "  return accuracy, num_correct"
      ],
      "metadata": {
        "id": "oqurZe5dtt_W"
      },
      "execution_count": 77,
      "outputs": []
    },
    {
      "cell_type": "code",
      "source": [
        "total_accuracy(data, word_embeddings)"
      ],
      "metadata": {
        "colab": {
          "base_uri": "https://localhost:8080/"
        },
        "id": "XUHSa9KEvun8",
        "outputId": "275496ea-324c-484d-80c4-0325fd318680"
      },
      "execution_count": 78,
      "outputs": [
        {
          "output_type": "execute_result",
          "data": {
            "text/plain": [
              "(0.9192082407594425, 4551)"
            ]
          },
          "metadata": {},
          "execution_count": 78
        }
      ]
    },
    {
      "cell_type": "code",
      "source": [
        "def pca(x, num_compunents=2):\n",
        "\n",
        "  x_mean = x - np.mean(x, axis=0)\n",
        "  covariance_matrix = np.cov(x_mean, rowvar=False)\n",
        "  eigen_values, eigen_vectors = np.linalg.eigh(covariance_matrix, UPLO='L')\n",
        "  idx_sorted = np.argsort(eigen_values)\n",
        "  idx_sorted_decreasing = idx_sorted[::-1]\n",
        "  eigen_values_sorted = eigen_values[idx_sorted_decreasing]\n",
        "  eigen_vectors_sorted = eigen_vectors[:, idx_sorted_decreasing]\n",
        "  eigen_vectors_subset = eigen_vectors_sorted[:, 0:num_compunents]\n",
        "  x_reduced = np.dot(eigen_vectors_subset.transpose(), x_mean.transpose()).transpose()\n",
        "\n",
        "  return x_reduced"
      ],
      "metadata": {
        "id": "yNqDvN4tw6ce"
      },
      "execution_count": 79,
      "outputs": []
    },
    {
      "cell_type": "code",
      "source": [
        "x = np.random.rand(3, 10)\n",
        "pca(x, 2)"
      ],
      "metadata": {
        "colab": {
          "base_uri": "https://localhost:8080/"
        },
        "id": "FKAmsBrQ1f22",
        "outputId": "92b52bed-9190-47ae-ad11-18c01963b364"
      },
      "execution_count": 83,
      "outputs": [
        {
          "output_type": "execute_result",
          "data": {
            "text/plain": [
              "array([[-0.62128474, -0.17764614],\n",
              "       [ 0.15244508,  0.61207238],\n",
              "       [ 0.46883967, -0.43442625]])"
            ]
          },
          "metadata": {},
          "execution_count": 83
        }
      ]
    },
    {
      "cell_type": "code",
      "source": [
        ""
      ],
      "metadata": {
        "id": "mrt-sFFt1mTs"
      },
      "execution_count": null,
      "outputs": []
    }
  ]
}